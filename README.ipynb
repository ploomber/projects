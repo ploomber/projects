{
 "cells": [
  {
   "cell_type": "markdown",
   "id": "81d7a21b",
   "metadata": {
    "papermill": {
     "duration": 0.014505,
     "end_time": "2021-11-27T01:45:39.925669",
     "exception": false,
     "start_time": "2021-11-27T01:45:39.911164",
     "status": "completed"
    },
    "tags": []
   },
   "source": [
    "# Ploomber sample projects\n",
    "\n",
    "![CI](https://github.com/ploomber/projects/workflows/ci/badge.svg)\n",
    "\n",
    "<p align=\"center\">\n",
    "  <a href=\"https://ploomber.io/community\">Join our community</a>\n",
    "  |\n",
    "  <a href=\"https://www.getrevue.co/profile/ploomber\">Newsletter</a>\n",
    "  |\n",
    "  <a href=\"https://ploomber.readthedocs.io/\">Docs</a>\n",
    "  |\n",
    "  <a href=\"https://twitter.com/intent/user?screen_name=ploomber\">Twitter</a>\n",
    "  |\n",
    "  <a href=\"https://ploomber.io/\">Blog</a>\n",
    "  |\n",
    "  <a href=\"https://www.youtube.com/channel/UCaIS5BMlmeNQE4-Gn0xTDXQ\">YouTube</a>\n",
    "  |\n",
    "  <a href=\"mailto:contact@ploomber.io\">Contact us</a>\n",
    "</p>\n",
    "\n",
    "This repository contains sample pipelines developed using [Ploomber](https://github.com/ploomber/ploomber).\n",
    "\n",
    "**Note:** We recommend you to go through the [first tutorial](https://ploomber.readthedocs.io/en/latest/get-started/spec-api-python.html) to learn the basics of Ploomber.\n",
    "\n",
    "## Running examples\n",
    "\n",
    "Use Binder (free, hosted JupyterLab):\n",
    "\n",
    "[![Binder](https://mybinder.org/badge_logo.svg)](https://mybinder.org/v2/gh/ploomber/binder-env/main?urlpath=git-pull%3Frepo%3Dhttps%253A%252F%252Fgithub.com%252Fploomber%252Fprojects%26urlpath%3Dlab%252Ftree%252Fprojects%252FREADME.ipynb%26branch%3Dmaster)\n",
    "\n",
    "Or run locally:\n",
    "\n",
    "~~~sh\n",
    "pip install ploomber\n",
    "\n",
    "# list examples\n",
    "ploomber examples\n",
    "\n",
    "# download example with name\n",
    "ploomber examples --name {name}\n",
    "\n",
    "# example\n",
    "ploomber examples --name templates/mlflow\n",
    "~~~\n",
    "\n",
    "## How to read the examples\n",
    "\n",
    "Each example contains a `README.md` file that describes it; a `README.ipynb` is also available with the same contents but in Jupyter notebook format and with command outputs. In addition, files for `pip` (`requirements.txt`) and  `conda` (`environment.yml`) are provided for local execution.\n",
    "\n",
    "## Index\n",
    "\n",
    "### Templates\n",
    "\n",
    "Starting points for common use cases. Use them to ramp up a project quickly."
   ]
  },
  {
   "cell_type": "markdown",
   "id": "b52a854b",
   "metadata": {
    "papermill": {
     "duration": 0.013294,
     "end_time": "2021-11-27T01:45:39.951458",
     "exception": false,
     "start_time": "2021-11-27T01:45:39.938164",
     "status": "completed"
    },
    "tags": []
   },
   "source": [
    "1. [`templates/etl`](templates/etl/README.ipynb) Download a data file, upload it to a database, process it, and plot with Python and R.\n",
    "\n",
    "2. [`templates/exploratory-analysis`](templates/exploratory-analysis/README.ipynb) Sample pipeline that explores penguins data.\n",
    "\n",
    "3. [`templates/ml-advanced`](templates/ml-advanced/README.ipynb) ML pipeline using the Python API. Shows how to create a Python package, test it with pytest, and train models in parallel.\n",
    "\n",
    "4. [`templates/ml-basic`](templates/ml-basic/README.ipynb) Download data, clean it, generate features and train a model.\n",
    "\n",
    "5. [`templates/ml-intermediate`](templates/ml-intermediate/README.ipynb) Training and serving ML pipelines with integration testing to evaluate training data quality.\n",
    "\n",
    "6. [`templates/ml-online`](templates/ml-online/README.ipynb) Load data, generate features, train a model, and deploy model with flask.\n",
    "\n",
    "7. [`templates/mlflow`](templates/mlflow/README.ipynb) Train a grid of models and log them to MLflow.\n",
    "\n",
    "8. [`templates/python-api`](templates/python-api/README.ipynb) Loads, clean, and plot data using the Python API.\n",
    "\n",
    "9. [`templates/shell`](templates/shell/README.ipynb) Create a pipeline with shell scripts as tasks.\n",
    "\n",
    "10. [`templates/spec-api-directory`](templates/spec-api-directory/README.ipynb) Create a pipeline from a directory with scripts (without a pipeline.yaml file).\n",
    "\n",
    "11. [`templates/spec-api-r`](templates/spec-api-r/README.ipynb) Load, clean and plot data with R.\n",
    "\n",
    "12. [`templates/spec-api-sql`](templates/spec-api-sql/README.ipynb) Use SQL scripts to manipulate data in a database, dump a table, and plot it with Python."
   ]
  },
  {
   "cell_type": "markdown",
   "id": "49b75abb",
   "metadata": {
    "papermill": {
     "duration": 0.011654,
     "end_time": "2021-11-27T01:45:39.975708",
     "exception": false,
     "start_time": "2021-11-27T01:45:39.964054",
     "status": "completed"
    },
    "tags": []
   },
   "source": [
    "### Cookbook\n",
    "\n",
    "Short and to-the-point examples showing how to use a specific feature."
   ]
  },
  {
   "cell_type": "markdown",
   "id": "c6033ac0",
   "metadata": {
    "papermill": {
     "duration": 0.01307,
     "end_time": "2021-11-27T01:45:40.002204",
     "exception": false,
     "start_time": "2021-11-27T01:45:39.989134",
     "status": "completed"
    },
    "tags": []
   },
   "source": [
    "1. [`cookbook/dynamic-params`](cookbook/dynamic-params/README.ipynb) Pipeline parameters whose values are computed at runtime.\n",
    "\n",
    "2. [`cookbook/grid`](cookbook/grid/README.ipynb) An example showing how to create a grid of tasks to train models with different parameters.\n",
    "\n",
    "3. [`cookbook/python-load`](cookbook/python-load/README.ipynb) Load pipeline.yaml file in a Python session to customize ininitialization.\n",
    "\n",
    "4. [`cookbook/serialization`](cookbook/serialization/README.ipynb) Shows how to use the serializer and unserializer decorators.\n",
    "\n",
    "5. [`cookbook/sql-dump`](cookbook/sql-dump/README.ipynb) A minimal example showing how to dump a table from a SQL database.\n",
    "\n",
    "6. [`cookbook/variable-number-of-products`](cookbook/variable-number-of-products/README.ipynb) Shows how to create tasks whose number of products depends on runtime conditions."
   ]
  },
  {
   "cell_type": "markdown",
   "id": "ad9bca65",
   "metadata": {
    "papermill": {
     "duration": 0.012406,
     "end_time": "2021-11-27T01:45:40.027345",
     "exception": false,
     "start_time": "2021-11-27T01:45:40.014939",
     "status": "completed"
    },
    "tags": []
   },
   "source": [
    "### Guides\n",
    "\n",
    "In-depth tutorials for learning.  These are part of the [documentation](https://ploomber.readthedocs.io/en/latest/user-guide/index.html)."
   ]
  },
  {
   "cell_type": "markdown",
   "id": "62fe75a8",
   "metadata": {
    "papermill": {
     "duration": 0.012514,
     "end_time": "2021-11-27T01:45:40.052694",
     "exception": false,
     "start_time": "2021-11-27T01:45:40.040180",
     "status": "completed"
    },
    "tags": []
   },
   "source": [
    "1. [`guides/debugging`](guides/debugging/README.ipynb) Tutorial showing techniques for debugging pipelines.\n",
    "\n",
    "2. [`guides/logging`](guides/logging/README.ipynb) Tutorial showing how to add logging to a pipeline.\n",
    "\n",
    "3. [`guides/parametrized`](guides/parametrized/README.ipynb) Tutorial showing how to parametrize pipelines and change parameters from the command-line.\n",
    "\n",
    "4. [`guides/refactor`](guides/refactor/README.ipynb) Using Soorgeon to convert a notebook into a Ploomber pipeline.\n",
    "\n",
    "5. [`guides/serialization`](guides/serialization/README.ipynb) Tutorial explaining how the serializer and unserializer fields in a pipeline.yaml file work.\n",
    "\n",
    "6. [`guides/first-pipeline`](guides/first-pipeline/README.ipynb) Introductory tutorial to learn the basics of Ploomber.\n",
    "\n",
    "7. [`guides/sql-templating`](guides/sql-templating/README.ipynb) Introductory tutorial teaching how to develop modular SQL pipelines.\n",
    "\n",
    "8. [`guides/testing`](guides/testing/README.ipynb) Tutorial showing how to use a task's on_finish hook to test data quality.\n"
   ]
  },
  {
   "cell_type": "markdown",
   "id": "06b545bf",
   "metadata": {
    "papermill": {
     "duration": 0.012444,
     "end_time": "2021-11-27T01:45:40.077380",
     "exception": false,
     "start_time": "2021-11-27T01:45:40.064936",
     "status": "completed"
    },
    "tags": []
   },
   "source": [
    "## Python API\n",
    "\n",
    "The simplest way to get started with Ploomber is via the Spec API, which allows you to describe pipelines using a `pipeline.yaml` file, most examples on this repository use the Spec API. However, if you want more flexibility, you may write pipelines with Python.\n",
    "\n",
    "The [`templates/python-api/`](templates/python-api) directory contains a project written using the Python API. And the [`python-api-examples/`](python-api-examples) includes some tutorials and more examples."
   ]
  }
 ],
 "metadata": {
  "jupytext": {
   "cell_metadata_filter": "-all",
   "main_language": "python",
   "notebook_metadata_filter": "-all"
  },
  "language_info": {
   "codemirror_mode": {
    "name": "ipython",
    "version": 3
   },
   "file_extension": ".py",
   "mimetype": "text/x-python",
   "name": "python",
   "nbconvert_exporter": "python",
   "pygments_lexer": "ipython3",
   "version": "3.9.7"
  },
  "papermill": {
   "default_parameters": {},
   "duration": 1.536401,
   "end_time": "2021-11-27T01:45:40.306475",
   "environment_variables": {},
   "exception": null,
   "input_path": "README.ipynb",
   "output_path": "README.ipynb",
   "parameters": {},
   "start_time": "2021-11-27T01:45:38.770074",
   "version": "2.3.3"
  }
 },
 "nbformat": 4,
 "nbformat_minor": 5
}