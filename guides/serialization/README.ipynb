{
 "cells": [
  {
   "cell_type": "markdown",
   "id": "f7215fc6",
   "metadata": {
    "papermill": {
     "duration": 0.078198,
     "end_time": "2021-10-11T21:30:03.096605",
     "exception": false,
     "start_time": "2021-10-11T21:30:03.018407",
     "status": "completed"
    },
    "tags": []
   },
   "source": [
    "\n",
    "*Note:* You can run this example locally (`ploomber examples -n serialization`) or in Binder (hosted JupyterLab ).\n",
    "\n",
    "[![binder-logo](https://mybinder.org/badge_logo.svg)](https://mybinder.org/v2/gh/ploomber/binder-env/main?urlpath=git-pull%3Frepo%3Dhttps%253A%252F%252Fgithub.com%252Fploomber%252Fprojects%26urlpath%3Dlab%252Ftree%252Fprojects%252Fserialization%252FREADME.ipynb%26branch%3Dmaster)\n"
   ]
  },
  {
   "cell_type": "markdown",
   "id": "086b536c",
   "metadata": {
    "papermill": {
     "duration": 0.078616,
     "end_time": "2021-10-11T21:30:03.258921",
     "exception": false,
     "start_time": "2021-10-11T21:30:03.180305",
     "status": "completed"
    },
    "tags": []
   },
   "source": [
    "# Serialization\n",
    "\n",
    "Incremental builds allow Ploomber to skip tasks whose source code hasn't changed; each task must save their products to disk to enable such a feature. However, there are some cases when we don't want our pipeline to perform disk operations. For example, if we're going to deploy our pipeline, eliminating disk operations reduces runtime considerably.\n",
    "\n",
    "To enable a pipeline to work in both disk-based and in-memory scenarios, we can declare a `serializer` and `unzerializer` in our pipeline declaration, effectively separating our task's logic from the read/write logic.\n",
    "\n",
    "Note that this only applies to function tasks; other tasks are unaffected by the `serializer`/`unserializer` configuration."
   ]
  },
  {
   "cell_type": "code",
   "execution_count": 1,
   "id": "e1181598",
   "metadata": {
    "execution": {
     "iopub.execute_input": "2021-10-11T21:30:03.419985Z",
     "iopub.status.busy": "2021-10-11T21:30:03.419106Z",
     "iopub.status.idle": "2021-10-11T21:30:05.407794Z",
     "shell.execute_reply": "2021-10-11T21:30:05.408391Z"
    },
    "nbsphinx": "hidden",
    "papermill": {
     "duration": 2.074374,
     "end_time": "2021-10-11T21:30:05.408752",
     "exception": false,
     "start_time": "2021-10-11T21:30:03.334378",
     "status": "completed"
    },
    "tags": []
   },
   "outputs": [],
   "source": [
    "from ploomberutils import display_file"
   ]
  },
  {
   "cell_type": "markdown",
   "id": "d4690218",
   "metadata": {
    "papermill": {
     "duration": 0.079959,
     "end_time": "2021-10-11T21:30:05.563586",
     "exception": false,
     "start_time": "2021-10-11T21:30:05.483627",
     "status": "completed"
    },
    "tags": []
   },
   "source": [
    "## Built-in pickle serialization\n",
    "\n",
    "The easiest way to get started is to use the built-in serializer and unserializer, which use the `pickle` module.\n",
    "\n",
    "Let's see an example; the following pipeline has two tasks. The first one generates a dictionary, and the second one creates two dictionaries. Since we are using the pickle-based serialization, each dictionary is saved in the pickle binary format:"
   ]
  },
  {
   "cell_type": "code",
   "execution_count": 2,
   "id": "891086c9",
   "metadata": {
    "execution": {
     "iopub.execute_input": "2021-10-11T21:30:05.722715Z",
     "iopub.status.busy": "2021-10-11T21:30:05.721922Z",
     "iopub.status.idle": "2021-10-11T21:30:05.732754Z",
     "shell.execute_reply": "2021-10-11T21:30:05.733327Z"
    },
    "papermill": {
     "duration": 0.09359,
     "end_time": "2021-10-11T21:30:05.733689",
     "exception": false,
     "start_time": "2021-10-11T21:30:05.640099",
     "status": "completed"
    },
    "tags": []
   },
   "outputs": [
    {
     "data": {
      "text/markdown": [
       "\n",
       "```yaml\n",
       "serializer: ploomber.io.serializer_pickle\n",
       "unserializer: ploomber.io.unserializer_pickle\n",
       "\n",
       "tasks:\n",
       "  - source: tasks.first\n",
       "    product: output/one_dict\n",
       "  \n",
       "  - source: tasks.second\n",
       "    product:\n",
       "        another: output/another_dict\n",
       "        final: output/final_dict\n",
       "```\n"
      ],
      "text/plain": [
       "<IPython.core.display.Markdown object>"
      ]
     },
     "metadata": {},
     "output_type": "display_data"
    }
   ],
   "source": [
    "display_file('simple.yaml')"
   ]
  },
  {
   "cell_type": "markdown",
   "id": "1f73cdd3",
   "metadata": {
    "papermill": {
     "duration": 0.081208,
     "end_time": "2021-10-11T21:30:05.894577",
     "exception": false,
     "start_time": "2021-10-11T21:30:05.813369",
     "status": "completed"
    },
    "tags": []
   },
   "source": [
    "Let's take a look at the task's source code:"
   ]
  },
  {
   "cell_type": "code",
   "execution_count": 3,
   "id": "47310bc6",
   "metadata": {
    "execution": {
     "iopub.execute_input": "2021-10-11T21:30:06.059654Z",
     "iopub.status.busy": "2021-10-11T21:30:06.058839Z",
     "iopub.status.idle": "2021-10-11T21:30:06.063012Z",
     "shell.execute_reply": "2021-10-11T21:30:06.062453Z"
    },
    "papermill": {
     "duration": 0.091529,
     "end_time": "2021-10-11T21:30:06.063248",
     "exception": false,
     "start_time": "2021-10-11T21:30:05.971719",
     "status": "completed"
    },
    "tags": []
   },
   "outputs": [
    {
     "data": {
      "text/markdown": [
       "\n",
       "```py\n",
       "def first():\n",
       "    return dict(a=1, b=2)\n",
       "\n",
       "\n",
       "def second(upstream):\n",
       "    first = upstream['first']\n",
       "    another = dict(a=first['b'] + 1, b=first['a'] + 1)\n",
       "    final = dict(a=100, b=200)\n",
       "    return dict(another=another, final=final)\n",
       "```\n"
      ],
      "text/plain": [
       "<IPython.core.display.Markdown object>"
      ]
     },
     "metadata": {},
     "output_type": "display_data"
    }
   ],
   "source": [
    "display_file('tasks.py')"
   ]
  },
  {
   "cell_type": "markdown",
   "id": "5b94461b",
   "metadata": {
    "papermill": {
     "duration": 0.081448,
     "end_time": "2021-10-11T21:30:06.226508",
     "exception": false,
     "start_time": "2021-10-11T21:30:06.145060",
     "status": "completed"
    },
    "tags": []
   },
   "source": [
    "Since we configured a `serializer` and `unserializer`, function tasks must `return` their outpues instead of saving them to disk in the function's body.\n",
    "\n",
    "`first` does not have any upstream dependencies and returns a dictionary. `second` has the previous task as dependency and returns two dictionaries. Note that the keys in the returned dictionary must match the names of the products declared in `pipeline.yaml` (`another`, `final`).\n",
    "\n",
    "Let's now run the pipeline."
   ]
  },
  {
   "cell_type": "code",
   "execution_count": 4,
   "id": "f0c6a9d5",
   "metadata": {
    "execution": {
     "iopub.execute_input": "2021-10-11T21:30:06.390311Z",
     "iopub.status.busy": "2021-10-11T21:30:06.389604Z",
     "iopub.status.idle": "2021-10-11T21:30:14.826408Z",
     "shell.execute_reply": "2021-10-11T21:30:14.827084Z"
    },
    "papermill": {
     "duration": 8.521968,
     "end_time": "2021-10-11T21:30:14.827309",
     "exception": false,
     "start_time": "2021-10-11T21:30:06.305341",
     "status": "completed"
    },
    "tags": []
   },
   "outputs": [
    {
     "name": "stdout",
     "output_type": "stream",
     "text": [
      "name    Ran?      Elapsed (s)    Percentage\n",
      "------  ------  -------------  ------------\n",
      "first   True         0.001904       53.8614\n",
      "second  True         0.001631       46.1386\n"
     ]
    },
    {
     "name": "stderr",
     "output_type": "stream",
     "text": [
      "Building task 'second': 100%|██████████| 2/2 [00:05<00:00,  2.74s/it]\n"
     ]
    }
   ],
   "source": [
    "%%sh\n",
    "ploomber build --entry-point simple.yaml --force"
   ]
  },
  {
   "cell_type": "markdown",
   "id": "8485ec60",
   "metadata": {
    "papermill": {
     "duration": 0.079972,
     "end_time": "2021-10-11T21:30:14.989192",
     "exception": false,
     "start_time": "2021-10-11T21:30:14.909220",
     "status": "completed"
    },
    "tags": []
   },
   "source": [
    "The pickle format has important [security concerns](https://docs.python.org/3/library/pickle.html), **remember only to unpickle data you trust**."
   ]
  },
  {
   "cell_type": "markdown",
   "id": "bf76be5f",
   "metadata": {
    "papermill": {
     "duration": 0.084457,
     "end_time": "2021-10-11T21:30:15.158438",
     "exception": false,
     "start_time": "2021-10-11T21:30:15.073981",
     "status": "completed"
    },
    "tags": []
   },
   "source": [
    "## Custom serialization logic\n",
    "\n",
    "We can also define our own serialization logic, by using the `@serializer`, and `@unserializer` decorators. Let's replicate what our pickle-based serializer/unserializer is doing as an example:"
   ]
  },
  {
   "cell_type": "code",
   "execution_count": 5,
   "id": "701d2164",
   "metadata": {
    "execution": {
     "iopub.execute_input": "2021-10-11T21:30:15.328280Z",
     "iopub.status.busy": "2021-10-11T21:30:15.327366Z",
     "iopub.status.idle": "2021-10-11T21:30:15.377549Z",
     "shell.execute_reply": "2021-10-11T21:30:15.378119Z"
    },
    "papermill": {
     "duration": 0.138579,
     "end_time": "2021-10-11T21:30:15.378393",
     "exception": false,
     "start_time": "2021-10-11T21:30:15.239814",
     "status": "completed"
    },
    "tags": []
   },
   "outputs": [
    {
     "data": {
      "text/markdown": [
       "\n",
       "```py\n",
       "from pathlib import Path\n",
       "import pickle\n",
       "\n",
       "from ploomber.io import serializer, unserializer\n",
       "\n",
       "\n",
       "@serializer()\n",
       "def my_pickle_serializer(obj, product):\n",
       "    Path(product).write_bytes(pickle.dumps(obj))\n",
       "\n",
       "\n",
       "@unserializer()\n",
       "def my_pickle_unserializer(product):\n",
       "    return pickle.loads(Path(product).read_bytes())\n",
       "```\n"
      ],
      "text/plain": [
       "<IPython.core.display.Markdown object>"
      ]
     },
     "metadata": {},
     "output_type": "display_data"
    }
   ],
   "source": [
    "display_file('custom.py', symbols=['my_pickle_serializer', 'my_pickle_unserializer'])"
   ]
  },
  {
   "cell_type": "markdown",
   "id": "31150c67",
   "metadata": {
    "papermill": {
     "duration": 0.083381,
     "end_time": "2021-10-11T21:30:15.543055",
     "exception": false,
     "start_time": "2021-10-11T21:30:15.459674",
     "status": "completed"
    },
    "tags": []
   },
   "source": [
    "A `@serializer` function must take two arguments: the object to serializer and the product object (taken from the task declaration). The `@unserializer` must take a single argument (the product to unserializer), and return the unserializer object.\n",
    "\n",
    "Let's modify our original pipeline to use this serializer/unserializer:"
   ]
  },
  {
   "cell_type": "code",
   "execution_count": 6,
   "id": "62923f43",
   "metadata": {
    "execution": {
     "iopub.execute_input": "2021-10-11T21:30:15.718943Z",
     "iopub.status.busy": "2021-10-11T21:30:15.717999Z",
     "iopub.status.idle": "2021-10-11T21:30:15.722153Z",
     "shell.execute_reply": "2021-10-11T21:30:15.722736Z"
    },
    "papermill": {
     "duration": 0.093749,
     "end_time": "2021-10-11T21:30:15.723003",
     "exception": false,
     "start_time": "2021-10-11T21:30:15.629254",
     "status": "completed"
    },
    "tags": []
   },
   "outputs": [
    {
     "data": {
      "text/markdown": [
       "\n",
       "```yaml\n",
       "serializer: custom.my_pickle_serializer\n",
       "unserializer: custom.my_pickle_unserializer\n",
       "\n",
       "tasks:\n",
       "  - source: tasks.first\n",
       "    product: output/one_dict\n",
       "  \n",
       "  - source: tasks.second\n",
       "    product:\n",
       "        another: output/another_dict\n",
       "        final: output/final_dict\n",
       "```\n"
      ],
      "text/plain": [
       "<IPython.core.display.Markdown object>"
      ]
     },
     "metadata": {},
     "output_type": "display_data"
    }
   ],
   "source": [
    "display_file('custom.yaml')"
   ]
  },
  {
   "cell_type": "code",
   "execution_count": 7,
   "id": "080a7767",
   "metadata": {
    "execution": {
     "iopub.execute_input": "2021-10-11T21:30:15.903193Z",
     "iopub.status.busy": "2021-10-11T21:30:15.902364Z",
     "iopub.status.idle": "2021-10-11T21:30:24.243179Z",
     "shell.execute_reply": "2021-10-11T21:30:24.243714Z"
    },
    "papermill": {
     "duration": 8.436216,
     "end_time": "2021-10-11T21:30:24.243933",
     "exception": false,
     "start_time": "2021-10-11T21:30:15.807717",
     "status": "completed"
    },
    "tags": []
   },
   "outputs": [
    {
     "name": "stdout",
     "output_type": "stream",
     "text": [
      "name    Ran?      Elapsed (s)    Percentage\n",
      "------  ------  -------------  ------------\n",
      "first   True         0.001466       44.3168\n",
      "second  True         0.001842       55.6832\n"
     ]
    },
    {
     "name": "stderr",
     "output_type": "stream",
     "text": [
      "Building task 'second': 100%|██████████| 2/2 [00:05<00:00,  2.75s/it]\n"
     ]
    }
   ],
   "source": [
    "%%sh\n",
    "ploomber build --entry-point custom.yaml --force"
   ]
  },
  {
   "cell_type": "markdown",
   "id": "053970b6",
   "metadata": {
    "papermill": {
     "duration": 0.086912,
     "end_time": "2021-10-11T21:30:24.417228",
     "exception": false,
     "start_time": "2021-10-11T21:30:24.330316",
     "status": "completed"
    },
    "tags": []
   },
   "source": [
    "## Custom serialization logic based on the product's extension\n",
    "\n",
    "Under many circumstances, there are more suitable formats than pickle. For example, we may want to store lists or dictionaries as JSON files and other files using pickle. The `@serializer`/`@unserializer` decorators use mapping as the first argument to dispatch to different functions depending on the product's extension. Let's see an example:"
   ]
  },
  {
   "cell_type": "code",
   "execution_count": 8,
   "id": "6968208d",
   "metadata": {
    "execution": {
     "iopub.execute_input": "2021-10-11T21:30:24.606980Z",
     "iopub.status.busy": "2021-10-11T21:30:24.596958Z",
     "iopub.status.idle": "2021-10-11T21:30:24.609739Z",
     "shell.execute_reply": "2021-10-11T21:30:24.610617Z"
    },
    "papermill": {
     "duration": 0.105065,
     "end_time": "2021-10-11T21:30:24.610859",
     "exception": false,
     "start_time": "2021-10-11T21:30:24.505794",
     "status": "completed"
    },
    "tags": []
   },
   "outputs": [
    {
     "data": {
      "text/markdown": [
       "\n",
       "```py\n",
       "from pathlib import Path\n",
       "import pickle\n",
       "import json\n",
       "\n",
       "from ploomber.io import serializer, unserializer\n",
       "\n",
       "\n",
       "def write_json(obj, product):\n",
       "    Path(product).write_text(json.dumps(obj))\n",
       "\n",
       "\n",
       "def read_json(product):\n",
       "    return json.loads(Path(product).read_text())\n",
       "\n",
       "\n",
       "@serializer({'.json': write_json})\n",
       "def my_serializer(obj, product):\n",
       "    Path(product).write_bytes(pickle.dumps(obj))\n",
       "\n",
       "\n",
       "@unserializer({'.json': read_json})\n",
       "def my_unserializer(product):\n",
       "    return pickle.loads(Path(product).read_bytes())\n",
       "```\n"
      ],
      "text/plain": [
       "<IPython.core.display.Markdown object>"
      ]
     },
     "metadata": {},
     "output_type": "display_data"
    }
   ],
   "source": [
    "display_file('custom.py', symbols=['write_json', 'read_json', 'my_serializer', 'my_unserializer'])"
   ]
  },
  {
   "cell_type": "markdown",
   "id": "254b39be",
   "metadata": {
    "papermill": {
     "duration": 0.08982,
     "end_time": "2021-10-11T21:30:24.787926",
     "exception": false,
     "start_time": "2021-10-11T21:30:24.698106",
     "status": "completed"
    },
    "tags": []
   },
   "source": [
    "Let's modify our example pipeline. The product in the first task does not have an extension (`output/one_dict`), hence, it will use pickle-based logic. However, the tasks in the second task have a `.json` extension, and will be saved as JSON files."
   ]
  },
  {
   "cell_type": "code",
   "execution_count": 9,
   "id": "3ec72c45",
   "metadata": {
    "execution": {
     "iopub.execute_input": "2021-10-11T21:30:24.961774Z",
     "iopub.status.busy": "2021-10-11T21:30:24.960894Z",
     "iopub.status.idle": "2021-10-11T21:30:24.964449Z",
     "shell.execute_reply": "2021-10-11T21:30:24.965048Z"
    },
    "papermill": {
     "duration": 0.092888,
     "end_time": "2021-10-11T21:30:24.965311",
     "exception": false,
     "start_time": "2021-10-11T21:30:24.872423",
     "status": "completed"
    },
    "tags": []
   },
   "outputs": [
    {
     "data": {
      "text/markdown": [
       "\n",
       "```yaml\n",
       "serializer: custom.my_serializer\n",
       "unserializer: custom.my_unserializer\n",
       "\n",
       "tasks:\n",
       "  - source: tasks.first\n",
       "    product: output/one_dict\n",
       "  \n",
       "  - source: tasks.second\n",
       "    product:\n",
       "        another: output/another_dict.json\n",
       "        final: output/final_dict.json\n",
       "```\n"
      ],
      "text/plain": [
       "<IPython.core.display.Markdown object>"
      ]
     },
     "metadata": {},
     "output_type": "display_data"
    }
   ],
   "source": [
    "display_file('with-json.yaml')"
   ]
  },
  {
   "cell_type": "code",
   "execution_count": 10,
   "id": "f9bc163c",
   "metadata": {
    "execution": {
     "iopub.execute_input": "2021-10-11T21:30:25.154175Z",
     "iopub.status.busy": "2021-10-11T21:30:25.153383Z",
     "iopub.status.idle": "2021-10-11T21:30:33.502812Z",
     "shell.execute_reply": "2021-10-11T21:30:33.503311Z"
    },
    "papermill": {
     "duration": 8.445467,
     "end_time": "2021-10-11T21:30:33.503517",
     "exception": false,
     "start_time": "2021-10-11T21:30:25.058050",
     "status": "completed"
    },
    "tags": []
   },
   "outputs": [
    {
     "name": "stdout",
     "output_type": "stream",
     "text": [
      "name    Ran?      Elapsed (s)    Percentage\n",
      "------  ------  -------------  ------------\n",
      "first   True         0.001074        32.844\n",
      "second  True         0.002196        67.156\n"
     ]
    },
    {
     "name": "stderr",
     "output_type": "stream",
     "text": [
      "Building task 'second': 100%|██████████| 2/2 [00:05<00:00,  2.76s/it]\n"
     ]
    }
   ],
   "source": [
    "%%sh\n",
    "ploomber build --entry-point with-json.yaml --force"
   ]
  },
  {
   "cell_type": "markdown",
   "id": "8470ed10",
   "metadata": {
    "papermill": {
     "duration": 0.089598,
     "end_time": "2021-10-11T21:30:33.685922",
     "exception": false,
     "start_time": "2021-10-11T21:30:33.596324",
     "status": "completed"
    },
    "tags": []
   },
   "source": [
    "Let's print the `.json` files to verify they're not pickle files:"
   ]
  },
  {
   "cell_type": "code",
   "execution_count": 11,
   "id": "9263fd42",
   "metadata": {
    "execution": {
     "iopub.execute_input": "2021-10-11T21:30:33.874367Z",
     "iopub.status.busy": "2021-10-11T21:30:33.873463Z",
     "iopub.status.idle": "2021-10-11T21:30:33.877541Z",
     "shell.execute_reply": "2021-10-11T21:30:33.878167Z"
    },
    "papermill": {
     "duration": 0.101808,
     "end_time": "2021-10-11T21:30:33.878477",
     "exception": false,
     "start_time": "2021-10-11T21:30:33.776669",
     "status": "completed"
    },
    "tags": []
   },
   "outputs": [
    {
     "data": {
      "text/markdown": [
       "\n",
       "```json\n",
       "{\"a\": 3, \"b\": 2}\n",
       "```\n"
      ],
      "text/plain": [
       "<IPython.core.display.Markdown object>"
      ]
     },
     "metadata": {},
     "output_type": "display_data"
    }
   ],
   "source": [
    "display_file('output/another_dict.json')"
   ]
  },
  {
   "cell_type": "code",
   "execution_count": 12,
   "id": "822d1e2d",
   "metadata": {
    "execution": {
     "iopub.execute_input": "2021-10-11T21:30:34.081406Z",
     "iopub.status.busy": "2021-10-11T21:30:34.080628Z",
     "iopub.status.idle": "2021-10-11T21:30:34.085013Z",
     "shell.execute_reply": "2021-10-11T21:30:34.085681Z"
    },
    "papermill": {
     "duration": 0.11739,
     "end_time": "2021-10-11T21:30:34.085993",
     "exception": false,
     "start_time": "2021-10-11T21:30:33.968603",
     "status": "completed"
    },
    "tags": []
   },
   "outputs": [
    {
     "data": {
      "text/markdown": [
       "\n",
       "```json\n",
       "{\"a\": 100, \"b\": 200}\n",
       "```\n"
      ],
      "text/plain": [
       "<IPython.core.display.Markdown object>"
      ]
     },
     "metadata": {},
     "output_type": "display_data"
    }
   ],
   "source": [
    "display_file('output/final_dict.json')"
   ]
  },
  {
   "cell_type": "markdown",
   "id": "17cfdd8f",
   "metadata": {
    "papermill": {
     "duration": 0.093315,
     "end_time": "2021-10-11T21:30:34.274556",
     "exception": false,
     "start_time": "2021-10-11T21:30:34.181241",
     "status": "completed"
    },
    "tags": []
   },
   "source": [
    "## Using a fallback format\n",
    "\n",
    "Since it's common to have a `fallback` serialization format, the decorators have a `fallback` argument that, when enabled, uses the `pickle` module when the product's extension does not match any of the registered ones in the first argument.\n",
    "\n",
    "The example works the same as the previous one, except we don't have to write our pickle-based logic.\n",
    "\n",
    "`fallback` can also take the [joblib](https://github.com/joblib/joblib) or [cloudpickle](https://github.com/cloudpipe/cloudpickle) values. They're similar to the pickle format but have some advantages. For example, `joblib` produces smaller files when the serialized object contains many NumPy arrays, while cloudpickle supports serialization of some objects that the pickle module doesn't. To use `fallback='joblib'` or `fallback='cloudpickle'` the corresponding module must be installed."
   ]
  },
  {
   "cell_type": "code",
   "execution_count": 13,
   "id": "57fe59a5",
   "metadata": {
    "execution": {
     "iopub.execute_input": "2021-10-11T21:30:34.467339Z",
     "iopub.status.busy": "2021-10-11T21:30:34.466509Z",
     "iopub.status.idle": "2021-10-11T21:30:34.478411Z",
     "shell.execute_reply": "2021-10-11T21:30:34.479181Z"
    },
    "papermill": {
     "duration": 0.111793,
     "end_time": "2021-10-11T21:30:34.479544",
     "exception": false,
     "start_time": "2021-10-11T21:30:34.367751",
     "status": "completed"
    },
    "tags": []
   },
   "outputs": [
    {
     "data": {
      "text/markdown": [
       "\n",
       "```py\n",
       "from ploomber.io import serializer, unserializer\n",
       "\n",
       "\n",
       "@serializer({'.json': write_json}, fallback=True)\n",
       "def my_fallback_serializer(obj, product):\n",
       "    pass\n",
       "\n",
       "\n",
       "@unserializer({'.json': read_json}, fallback=True)\n",
       "def my_fallback_unserializer(product):\n",
       "    pass\n",
       "```\n"
      ],
      "text/plain": [
       "<IPython.core.display.Markdown object>"
      ]
     },
     "metadata": {},
     "output_type": "display_data"
    }
   ],
   "source": [
    "display_file('custom.py', symbols=['my_fallback_serializer', 'my_fallback_unserializer'])"
   ]
  },
  {
   "cell_type": "code",
   "execution_count": 14,
   "id": "01b4efcb",
   "metadata": {
    "execution": {
     "iopub.execute_input": "2021-10-11T21:30:34.674064Z",
     "iopub.status.busy": "2021-10-11T21:30:34.673051Z",
     "iopub.status.idle": "2021-10-11T21:30:34.676808Z",
     "shell.execute_reply": "2021-10-11T21:30:34.677297Z"
    },
    "papermill": {
     "duration": 0.103353,
     "end_time": "2021-10-11T21:30:34.677538",
     "exception": false,
     "start_time": "2021-10-11T21:30:34.574185",
     "status": "completed"
    },
    "tags": []
   },
   "outputs": [
    {
     "data": {
      "text/markdown": [
       "\n",
       "```yaml\n",
       "serializer: custom.my_fallback_serializer\n",
       "unserializer: custom.my_fallback_unserializer\n",
       "\n",
       "tasks:\n",
       "  - source: tasks.first\n",
       "    product: output/one_dict\n",
       "  \n",
       "  - source: tasks.second\n",
       "    product:\n",
       "        another: output/another_dict.json\n",
       "        final: output/final_dict.json\n",
       "```\n"
      ],
      "text/plain": [
       "<IPython.core.display.Markdown object>"
      ]
     },
     "metadata": {},
     "output_type": "display_data"
    }
   ],
   "source": [
    "display_file('fallback.yaml')"
   ]
  },
  {
   "cell_type": "code",
   "execution_count": 15,
   "id": "c8dcf3a2",
   "metadata": {
    "execution": {
     "iopub.execute_input": "2021-10-11T21:30:34.876513Z",
     "iopub.status.busy": "2021-10-11T21:30:34.874856Z",
     "iopub.status.idle": "2021-10-11T21:30:43.267375Z",
     "shell.execute_reply": "2021-10-11T21:30:43.268074Z"
    },
    "papermill": {
     "duration": 8.49414,
     "end_time": "2021-10-11T21:30:43.268307",
     "exception": false,
     "start_time": "2021-10-11T21:30:34.774167",
     "status": "completed"
    },
    "tags": []
   },
   "outputs": [
    {
     "name": "stdout",
     "output_type": "stream",
     "text": [
      "name    Ran?      Elapsed (s)    Percentage\n",
      "------  ------  -------------  ------------\n",
      "first   True         0.001264       38.2451\n",
      "second  True         0.002041       61.7549\n"
     ]
    },
    {
     "name": "stderr",
     "output_type": "stream",
     "text": [
      "Building task 'second': 100%|██████████| 2/2 [00:05<00:00,  2.76s/it]\n"
     ]
    }
   ],
   "source": [
    "%%sh\n",
    "ploomber build --entry-point fallback.yaml --force"
   ]
  },
  {
   "cell_type": "markdown",
   "id": "4133c3ee",
   "metadata": {
    "papermill": {
     "duration": 0.09932,
     "end_time": "2021-10-11T21:30:43.466659",
     "exception": false,
     "start_time": "2021-10-11T21:30:43.367339",
     "status": "completed"
    },
    "tags": []
   },
   "source": [
    "Let's print the JSON files to verify their contents:"
   ]
  },
  {
   "cell_type": "code",
   "execution_count": 16,
   "id": "b810596e",
   "metadata": {
    "execution": {
     "iopub.execute_input": "2021-10-11T21:30:43.668977Z",
     "iopub.status.busy": "2021-10-11T21:30:43.668098Z",
     "iopub.status.idle": "2021-10-11T21:30:43.672607Z",
     "shell.execute_reply": "2021-10-11T21:30:43.673250Z"
    },
    "papermill": {
     "duration": 0.109107,
     "end_time": "2021-10-11T21:30:43.673563",
     "exception": false,
     "start_time": "2021-10-11T21:30:43.564456",
     "status": "completed"
    },
    "tags": []
   },
   "outputs": [
    {
     "data": {
      "text/markdown": [
       "\n",
       "```json\n",
       "{\"a\": 3, \"b\": 2}\n",
       "```\n"
      ],
      "text/plain": [
       "<IPython.core.display.Markdown object>"
      ]
     },
     "metadata": {},
     "output_type": "display_data"
    }
   ],
   "source": [
    "display_file('output/another_dict.json')"
   ]
  },
  {
   "cell_type": "code",
   "execution_count": 17,
   "id": "1b21131d",
   "metadata": {
    "execution": {
     "iopub.execute_input": "2021-10-11T21:30:43.879016Z",
     "iopub.status.busy": "2021-10-11T21:30:43.878173Z",
     "iopub.status.idle": "2021-10-11T21:30:43.881988Z",
     "shell.execute_reply": "2021-10-11T21:30:43.882594Z"
    },
    "papermill": {
     "duration": 0.111102,
     "end_time": "2021-10-11T21:30:43.882861",
     "exception": false,
     "start_time": "2021-10-11T21:30:43.771759",
     "status": "completed"
    },
    "tags": []
   },
   "outputs": [
    {
     "data": {
      "text/markdown": [
       "\n",
       "```json\n",
       "{\"a\": 100, \"b\": 200}\n",
       "```\n"
      ],
      "text/plain": [
       "<IPython.core.display.Markdown object>"
      ]
     },
     "metadata": {},
     "output_type": "display_data"
    }
   ],
   "source": [
    "display_file('output/final_dict.json')"
   ]
  },
  {
   "cell_type": "markdown",
   "id": "30742d22",
   "metadata": {
    "papermill": {
     "duration": 0.102308,
     "end_time": "2021-10-11T21:30:44.082110",
     "exception": false,
     "start_time": "2021-10-11T21:30:43.979802",
     "status": "completed"
    },
    "tags": []
   },
   "source": [
    "## Using default serializers\n",
    "\n",
    "Ploomber comes with a few convenient serialization functions to write more succint serializers. We can request the use of such default serializers using the `defaults` argument, which takes a list of extensions:"
   ]
  },
  {
   "cell_type": "code",
   "execution_count": 18,
   "id": "0ac9c094",
   "metadata": {
    "execution": {
     "iopub.execute_input": "2021-10-11T21:30:44.291815Z",
     "iopub.status.busy": "2021-10-11T21:30:44.291038Z",
     "iopub.status.idle": "2021-10-11T21:30:44.302705Z",
     "shell.execute_reply": "2021-10-11T21:30:44.303245Z"
    },
    "papermill": {
     "duration": 0.117925,
     "end_time": "2021-10-11T21:30:44.303482",
     "exception": false,
     "start_time": "2021-10-11T21:30:44.185557",
     "status": "completed"
    },
    "tags": []
   },
   "outputs": [
    {
     "data": {
      "text/markdown": [
       "\n",
       "```py\n",
       "from ploomber.io import serializer, unserializer\n",
       "\n",
       "\n",
       "@serializer(fallback=True, defaults=['.json'])\n",
       "def my_defaults_serializer(obj, product):\n",
       "    pass\n",
       "\n",
       "\n",
       "@unserializer(fallback=True, defaults=['.json'])\n",
       "def my_defaults_unserializer(product):\n",
       "    pass\n",
       "```\n"
      ],
      "text/plain": [
       "<IPython.core.display.Markdown object>"
      ]
     },
     "metadata": {},
     "output_type": "display_data"
    }
   ],
   "source": [
    "display_file('custom.py', symbols=['my_defaults_serializer', 'my_defaults_unserializer'])"
   ]
  },
  {
   "cell_type": "markdown",
   "id": "f28f7dc7",
   "metadata": {
    "papermill": {
     "duration": 0.103309,
     "end_time": "2021-10-11T21:30:44.508609",
     "exception": false,
     "start_time": "2021-10-11T21:30:44.405300",
     "status": "completed"
    },
    "tags": []
   },
   "source": [
    "Here we're asking to dispatch `.json` products and use `pickle` for all other extensions, the same as we did for the previous examples, except this time, we don't have to pass the mapping argument to the decorators.\n",
    "\n",
    "`defaults` support:\n",
    "\n",
    "1. `.json`: the returned object must be JSON-serializable (e.g., a list or a dictionary)\n",
    "2. `.txt`: the returned object must be a string\n",
    "3. `.csv`: the returned object must be a `pandas.DataFrame`\n",
    "4. `.parquet`: the returned object must be a `pandas.DataFrame,` and a parquet library should be installed (such as `pyarrow`)."
   ]
  },
  {
   "cell_type": "code",
   "execution_count": 19,
   "id": "756425b7",
   "metadata": {
    "execution": {
     "iopub.execute_input": "2021-10-11T21:30:44.716050Z",
     "iopub.status.busy": "2021-10-11T21:30:44.715208Z",
     "iopub.status.idle": "2021-10-11T21:30:44.718941Z",
     "shell.execute_reply": "2021-10-11T21:30:44.719429Z"
    },
    "papermill": {
     "duration": 0.108966,
     "end_time": "2021-10-11T21:30:44.719667",
     "exception": false,
     "start_time": "2021-10-11T21:30:44.610701",
     "status": "completed"
    },
    "tags": []
   },
   "outputs": [
    {
     "data": {
      "text/markdown": [
       "\n",
       "```yaml\n",
       "serializer: custom.my_defaults_serializer\n",
       "unserializer: custom.my_defaults_unserializer\n",
       "\n",
       "tasks:\n",
       "  - source: tasks.first\n",
       "    product: output/one_dict\n",
       "  \n",
       "  - source: tasks.second\n",
       "    product:\n",
       "        another: output/another_dict.json\n",
       "        final: output/final_dict.json\n",
       "```\n"
      ],
      "text/plain": [
       "<IPython.core.display.Markdown object>"
      ]
     },
     "metadata": {},
     "output_type": "display_data"
    }
   ],
   "source": [
    "display_file('defaults.yaml')"
   ]
  },
  {
   "cell_type": "code",
   "execution_count": 20,
   "id": "d0a16739",
   "metadata": {
    "execution": {
     "iopub.execute_input": "2021-10-11T21:30:44.933309Z",
     "iopub.status.busy": "2021-10-11T21:30:44.932448Z",
     "iopub.status.idle": "2021-10-11T21:30:53.399339Z",
     "shell.execute_reply": "2021-10-11T21:30:53.399838Z"
    },
    "papermill": {
     "duration": 8.578802,
     "end_time": "2021-10-11T21:30:53.400046",
     "exception": false,
     "start_time": "2021-10-11T21:30:44.821244",
     "status": "completed"
    },
    "tags": []
   },
   "outputs": [
    {
     "name": "stdout",
     "output_type": "stream",
     "text": [
      "name    Ran?      Elapsed (s)    Percentage\n",
      "------  ------  -------------  ------------\n",
      "first   True         0.001453       45.1102\n",
      "second  True         0.001768       54.8898\n"
     ]
    },
    {
     "name": "stderr",
     "output_type": "stream",
     "text": [
      "Building task 'second': 100%|██████████| 2/2 [00:05<00:00,  2.77s/it]\n"
     ]
    }
   ],
   "source": [
    "%%sh\n",
    "ploomber build --entry-point defaults.yaml --force"
   ]
  },
  {
   "cell_type": "markdown",
   "id": "6938dea3",
   "metadata": {
    "papermill": {
     "duration": 0.106454,
     "end_time": "2021-10-11T21:30:53.608527",
     "exception": false,
     "start_time": "2021-10-11T21:30:53.502073",
     "status": "completed"
    },
    "tags": []
   },
   "source": [
    "Let's print the JSON files to verify their contents:"
   ]
  },
  {
   "cell_type": "code",
   "execution_count": 21,
   "id": "ac78be94",
   "metadata": {
    "execution": {
     "iopub.execute_input": "2021-10-11T21:30:53.822465Z",
     "iopub.status.busy": "2021-10-11T21:30:53.821705Z",
     "iopub.status.idle": "2021-10-11T21:30:53.825723Z",
     "shell.execute_reply": "2021-10-11T21:30:53.826375Z"
    },
    "papermill": {
     "duration": 0.117414,
     "end_time": "2021-10-11T21:30:53.826638",
     "exception": false,
     "start_time": "2021-10-11T21:30:53.709224",
     "status": "completed"
    },
    "tags": []
   },
   "outputs": [
    {
     "data": {
      "text/markdown": [
       "\n",
       "```json\n",
       "{\"a\": 3, \"b\": 2}\n",
       "```\n"
      ],
      "text/plain": [
       "<IPython.core.display.Markdown object>"
      ]
     },
     "metadata": {},
     "output_type": "display_data"
    }
   ],
   "source": [
    "display_file('output/another_dict.json')"
   ]
  },
  {
   "cell_type": "code",
   "execution_count": 22,
   "id": "f532985c",
   "metadata": {
    "execution": {
     "iopub.execute_input": "2021-10-11T21:30:54.043120Z",
     "iopub.status.busy": "2021-10-11T21:30:54.041634Z",
     "iopub.status.idle": "2021-10-11T21:30:54.047027Z",
     "shell.execute_reply": "2021-10-11T21:30:54.047516Z"
    },
    "papermill": {
     "duration": 0.117419,
     "end_time": "2021-10-11T21:30:54.047761",
     "exception": false,
     "start_time": "2021-10-11T21:30:53.930342",
     "status": "completed"
    },
    "tags": []
   },
   "outputs": [
    {
     "data": {
      "text/markdown": [
       "\n",
       "```json\n",
       "{\"a\": 100, \"b\": 200}\n",
       "```\n"
      ],
      "text/plain": [
       "<IPython.core.display.Markdown object>"
      ]
     },
     "metadata": {},
     "output_type": "display_data"
    }
   ],
   "source": [
    "display_file('output/final_dict.json')"
   ]
  },
  {
   "cell_type": "markdown",
   "id": "ede31cbd",
   "metadata": {
    "papermill": {
     "duration": 0.108197,
     "end_time": "2021-10-11T21:30:54.265771",
     "exception": false,
     "start_time": "2021-10-11T21:30:54.157574",
     "status": "completed"
    },
    "tags": []
   },
   "source": [
    "## Wrapping up\n",
    "\n",
    "Configuring a `serializer` and `unserializer` in your `pipeline.yaml` is optional, but it helps you quickly generate a fully in-memory pipeline for serving predictions.\n",
    "\n",
    "If you want to learn more about in-memory pipelines, check out the [following guide](https://ploomber.readthedocs.io/en/latest/user-guide/deployment.html#online-service-api).\n",
    "\n",
    "For a complete example showing how to manage a training and a serving pipeline, and deploy it as a Flask API, [click here](https://github.com/ploomber/projects/tree/master/ml-online)."
   ]
  }
 ],
 "metadata": {
  "kernelspec": {
   "display_name": "Python 3 (ipykernel)",
   "language": "python",
   "name": "python3"
  },
  "language_info": {
   "codemirror_mode": {
    "name": "ipython",
    "version": 3
   },
   "file_extension": ".py",
   "mimetype": "text/x-python",
   "name": "python",
   "nbconvert_exporter": "python",
   "pygments_lexer": "ipython3",
   "version": "3.9.7"
  },
  "papermill": {
   "duration": 53.638813,
   "end_time": "2021-10-11T21:30:55.127219",
   "exception": null,
   "input_path": "/var/folders/3h/_lvh_w_x5g30rrjzb_xnn2j80000gq/T/tmpiqajrjvr.ipynb",
   "output_path": "guides/serialization/README.ipynb",
   "parameters": {
    "product": "guides/serialization/README.ipynb"
   },
   "start_time": "2021-10-11T21:30:01.488406"
  }
 },
 "nbformat": 4,
 "nbformat_minor": 5
}
