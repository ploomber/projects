{
 "cells": [
  {
   "cell_type": "markdown",
   "id": "1e8b74f7",
   "metadata": {
    "papermill": {
     "duration": 0.146289,
     "end_time": "2021-10-14T15:09:38.834071",
     "exception": false,
     "start_time": "2021-10-14T15:09:38.687782",
     "status": "completed"
    },
    "tags": []
   },
   "source": [
    "To run this example locally, execute: `ploomber examples -n guides/serialization`.\n",
    "\n",
    "To start a free, hosted JupyterLab: [![binder-logo](https://mybinder.org/badge_logo.svg)](https://mybinder.org/v2/gh/ploomber/binder-env/main?urlpath=git-pull%3Frepo%3Dhttps%253A%252F%252Fgithub.com%252Fploomber%252Fprojects%26urlpath%3Dlab%252Ftree%252Fprojects%252Fguides/serialization%252FREADME.ipynb%26branch%3Dmaster)\n",
    "\n",
    "Found an issue? [Let us know.](https://github.com/ploomber/projects/issues/new?title=guides/serialization%20issue)\n",
    "\n",
    "Have questions? [Ask us anything on Slack.](http://community.ploomber.io/)\n",
    "\n"
   ]
  },
  {
   "cell_type": "markdown",
   "id": "739374e0",
   "metadata": {
    "papermill": {
     "duration": 0.167276,
     "end_time": "2021-10-14T15:09:39.196728",
     "exception": false,
     "start_time": "2021-10-14T15:09:39.029452",
     "status": "completed"
    },
    "tags": []
   },
   "source": [
    "# Serialization\n",
    "\n",
    "Incremental builds allow Ploomber to skip tasks whose source code hasn't changed; each task must save their products to disk to enable such a feature. However, there are some cases when we don't want our pipeline to perform disk operations. For example, if we're going to deploy our pipeline, eliminating disk operations reduces runtime considerably.\n",
    "\n",
    "To enable a pipeline to work in both disk-based and in-memory scenarios, we can declare a `serializer` and `unzerializer` in our pipeline declaration, effectively separating our task's logic from the read/write logic.\n",
    "\n",
    "Note that this only applies to function tasks; other tasks are unaffected by the `serializer`/`unserializer` configuration.\n"
   ]
  },
  {
   "cell_type": "markdown",
   "id": "75124afe",
   "metadata": {
    "papermill": {
     "duration": 0.122967,
     "end_time": "2021-10-14T15:09:39.459845",
     "exception": false,
     "start_time": "2021-10-14T15:09:39.336878",
     "status": "completed"
    },
    "tags": []
   },
   "source": [
    "## Built-in pickle serialization\n",
    "\n",
    "The easiest way to get started is to use the built-in serializer and unserializer, which use the `pickle` module.\n",
    "\n",
    "Let's see an example; the following pipeline has two tasks. The first one generates a dictionary, and the second one creates two dictionaries. Since we are using the pickle-based serialization, each dictionary is saved in the pickle binary format:"
   ]
  },
  {
   "cell_type": "markdown",
   "id": "0a34616c",
   "metadata": {
    "papermill": {
     "duration": 0.079541,
     "end_time": "2021-10-14T15:09:39.646531",
     "exception": false,
     "start_time": "2021-10-14T15:09:39.566990",
     "status": "completed"
    },
    "region_name": "md",
    "tags": []
   },
   "source": [
    "```yaml\n",
    "# Content of simple.yaml\n",
    "serializer: ploomber.io.serializer_pickle\n",
    "unserializer: ploomber.io.unserializer_pickle\n",
    "\n",
    "tasks:\n",
    "  - source: tasks.first\n",
    "    product: output/one_dict\n",
    "  \n",
    "  - source: tasks.second\n",
    "    product:\n",
    "        another: output/another_dict\n",
    "        final: output/final_dict\n",
    "```"
   ]
  },
  {
   "cell_type": "markdown",
   "id": "daffae5a",
   "metadata": {
    "papermill": {
     "duration": 0.095674,
     "end_time": "2021-10-14T15:09:39.824473",
     "exception": false,
     "start_time": "2021-10-14T15:09:39.728799",
     "status": "completed"
    },
    "tags": []
   },
   "source": [
    "Let's take a look at the task's source code:"
   ]
  },
  {
   "cell_type": "markdown",
   "id": "f1db9129",
   "metadata": {
    "papermill": {
     "duration": 0.086062,
     "end_time": "2021-10-14T15:09:39.996221",
     "exception": false,
     "start_time": "2021-10-14T15:09:39.910159",
     "status": "completed"
    },
    "region_name": "md",
    "tags": []
   },
   "source": [
    "```python\n",
    "# Content of tasks.py\n",
    "def first():\n",
    "    return dict(a=1, b=2)\n",
    "\n",
    "\n",
    "def second(upstream):\n",
    "    first = upstream['first']\n",
    "    another = dict(a=first['b'] + 1, b=first['a'] + 1)\n",
    "    final = dict(a=100, b=200)\n",
    "    return dict(another=another, final=final)\n",
    "\n",
    "```"
   ]
  },
  {
   "cell_type": "markdown",
   "id": "2b82985a",
   "metadata": {
    "papermill": {
     "duration": 0.079234,
     "end_time": "2021-10-14T15:09:40.154439",
     "exception": false,
     "start_time": "2021-10-14T15:09:40.075205",
     "status": "completed"
    },
    "tags": []
   },
   "source": [
    "Since we configured a `serializer` and `unserializer`, function tasks must `return` their outpues instead of saving them to disk in the function's body.\n",
    "\n",
    "`first` does not have any upstream dependencies and returns a dictionary. `second` has the previous task as dependency and returns two dictionaries. Note that the keys in the returned dictionary must match the names of the products declared in `pipeline.yaml` (`another`, `final`).\n",
    "\n",
    "Let's now run the pipeline."
   ]
  },
  {
   "cell_type": "code",
   "execution_count": 1,
   "id": "5e34296e",
   "metadata": {
    "execution": {
     "iopub.execute_input": "2021-10-14T15:09:40.353797Z",
     "iopub.status.busy": "2021-10-14T15:09:40.352300Z",
     "iopub.status.idle": "2021-10-14T15:09:52.441688Z",
     "shell.execute_reply": "2021-10-14T15:09:52.442691Z"
    },
    "papermill": {
     "duration": 12.204001,
     "end_time": "2021-10-14T15:09:52.443055",
     "exception": false,
     "start_time": "2021-10-14T15:09:40.239054",
     "status": "completed"
    },
    "tags": []
   },
   "outputs": [
    {
     "name": "stdout",
     "output_type": "stream",
     "text": [
      "name    Ran?      Elapsed (s)    Percentage\n",
      "------  ------  -------------  ------------\n",
      "first   True         0.00156        42.7514\n",
      "second  True         0.002089       57.2486\n"
     ]
    },
    {
     "name": "stderr",
     "output_type": "stream",
     "text": [
      "\r\n",
      "  0%|          | 0/2 [00:00<?, ?it/s]\r\n",
      "Building task 'first':   0%|          | 0/2 [00:00<?, ?it/s]\r\n",
      "Building task 'first':  50%|█████     | 1/2 [00:04<00:04,  4.26s/it]\r\n",
      "Building task 'second':  50%|█████     | 1/2 [00:04<00:04,  4.26s/it]\r\n",
      "Building task 'second': 100%|██████████| 2/2 [00:08<00:00,  4.18s/it]\r\n",
      "Building task 'second': 100%|██████████| 2/2 [00:08<00:00,  4.19s/it]\n"
     ]
    }
   ],
   "source": [
    "%%sh\n",
    "ploomber build --entry-point simple.yaml --force"
   ]
  },
  {
   "cell_type": "markdown",
   "id": "9511a569",
   "metadata": {
    "papermill": {
     "duration": 0.07869,
     "end_time": "2021-10-14T15:09:52.598646",
     "exception": false,
     "start_time": "2021-10-14T15:09:52.519956",
     "status": "completed"
    },
    "tags": []
   },
   "source": [
    "The pickle format has important [security concerns](https://docs.python.org/3/library/pickle.html), **remember only to unpickle data you trust**."
   ]
  },
  {
   "cell_type": "markdown",
   "id": "dbd624dd",
   "metadata": {
    "papermill": {
     "duration": 0.084523,
     "end_time": "2021-10-14T15:09:52.762595",
     "exception": false,
     "start_time": "2021-10-14T15:09:52.678072",
     "status": "completed"
    },
    "tags": []
   },
   "source": [
    "## Custom serialization logic\n",
    "\n",
    "We can also define our own serialization logic, by using the `@serializer`, and `@unserializer` decorators. Let's replicate what our pickle-based serializer/unserializer is doing as an example:"
   ]
  },
  {
   "cell_type": "markdown",
   "id": "83af2395",
   "metadata": {
    "papermill": {
     "duration": 0.096646,
     "end_time": "2021-10-14T15:09:52.954238",
     "exception": false,
     "start_time": "2021-10-14T15:09:52.857592",
     "status": "completed"
    },
    "region_name": "md",
    "tags": []
   },
   "source": [
    "```python\n",
    "# Content of custom.py\n",
    "from pathlib import Path\n",
    "import pickle\n",
    "\n",
    "from ploomber.io import serializer, unserializer\n",
    "\n",
    "\n",
    "@serializer()\n",
    "def my_pickle_serializer(obj, product):\n",
    "    Path(product).write_bytes(pickle.dumps(obj))\n",
    "\n",
    "\n",
    "@unserializer()\n",
    "def my_pickle_unserializer(product):\n",
    "    return pickle.loads(Path(product).read_bytes())\n",
    "```"
   ]
  },
  {
   "cell_type": "markdown",
   "id": "963b85ec",
   "metadata": {
    "papermill": {
     "duration": 0.083182,
     "end_time": "2021-10-14T15:09:53.121844",
     "exception": false,
     "start_time": "2021-10-14T15:09:53.038662",
     "status": "completed"
    },
    "tags": []
   },
   "source": [
    "A `@serializer` function must take two arguments: the object to serializer and the product object (taken from the task declaration). The `@unserializer` must take a single argument (the product to unserializer), and return the unserializer object.\n",
    "\n",
    "Let's modify our original pipeline to use this serializer/unserializer:"
   ]
  },
  {
   "cell_type": "markdown",
   "id": "3f0d6e09",
   "metadata": {
    "papermill": {
     "duration": 0.080288,
     "end_time": "2021-10-14T15:09:53.284225",
     "exception": false,
     "start_time": "2021-10-14T15:09:53.203937",
     "status": "completed"
    },
    "region_name": "md",
    "tags": []
   },
   "source": [
    "```yaml\n",
    "# Content of custom.yaml\n",
    "serializer: custom.my_pickle_serializer\n",
    "unserializer: custom.my_pickle_unserializer\n",
    "\n",
    "tasks:\n",
    "  - source: tasks.first\n",
    "    product: output/one_dict\n",
    "  \n",
    "  - source: tasks.second\n",
    "    product:\n",
    "        another: output/another_dict\n",
    "        final: output/final_dict\n",
    "```"
   ]
  },
  {
   "cell_type": "code",
   "execution_count": 2,
   "id": "d15f5f76",
   "metadata": {
    "execution": {
     "iopub.execute_input": "2021-10-14T15:09:53.475152Z",
     "iopub.status.busy": "2021-10-14T15:09:53.473668Z",
     "iopub.status.idle": "2021-10-14T15:10:04.116135Z",
     "shell.execute_reply": "2021-10-14T15:10:04.116908Z"
    },
    "papermill": {
     "duration": 10.750722,
     "end_time": "2021-10-14T15:10:04.117133",
     "exception": false,
     "start_time": "2021-10-14T15:09:53.366411",
     "status": "completed"
    },
    "tags": []
   },
   "outputs": [
    {
     "name": "stdout",
     "output_type": "stream",
     "text": [
      "name    Ran?      Elapsed (s)    Percentage\n",
      "------  ------  -------------  ------------\n",
      "first   True         0.0018         44.8096\n",
      "second  True         0.002217       55.1904\n"
     ]
    },
    {
     "name": "stderr",
     "output_type": "stream",
     "text": [
      "\r\n",
      "  0%|          | 0/2 [00:00<?, ?it/s]\r\n",
      "Building task 'first':   0%|          | 0/2 [00:00<?, ?it/s]\r\n",
      "Building task 'first':  50%|█████     | 1/2 [00:03<00:03,  3.50s/it]\r\n",
      "Building task 'second':  50%|█████     | 1/2 [00:03<00:03,  3.50s/it]\r\n",
      "Building task 'second': 100%|██████████| 2/2 [00:06<00:00,  3.46s/it]\r\n",
      "Building task 'second': 100%|██████████| 2/2 [00:06<00:00,  3.47s/it]\n"
     ]
    }
   ],
   "source": [
    "%%sh\n",
    "ploomber build --entry-point custom.yaml --force"
   ]
  },
  {
   "cell_type": "markdown",
   "id": "bf095756",
   "metadata": {
    "papermill": {
     "duration": 0.075859,
     "end_time": "2021-10-14T15:10:04.270180",
     "exception": false,
     "start_time": "2021-10-14T15:10:04.194321",
     "status": "completed"
    },
    "tags": []
   },
   "source": [
    "## Custom serialization logic based on the product's extension\n",
    "\n",
    "Under many circumstances, there are more suitable formats than pickle. For example, we may want to store lists or dictionaries as JSON files and other files using pickle. The `@serializer`/`@unserializer` decorators use mapping as the first argument to dispatch to different functions depending on the product's extension. Let's see an example:"
   ]
  },
  {
   "cell_type": "markdown",
   "id": "410b3479",
   "metadata": {
    "papermill": {
     "duration": 0.080675,
     "end_time": "2021-10-14T15:10:04.426020",
     "exception": false,
     "start_time": "2021-10-14T15:10:04.345345",
     "status": "completed"
    },
    "region_name": "md",
    "tags": []
   },
   "source": [
    "```python\n",
    "# Content of custom.py\n",
    "from pathlib import Path\n",
    "import pickle\n",
    "import json\n",
    "\n",
    "from ploomber.io import serializer, unserializer\n",
    "\n",
    "\n",
    "def write_json(obj, product):\n",
    "    Path(product).write_text(json.dumps(obj))\n",
    "\n",
    "\n",
    "def read_json(product):\n",
    "    return json.loads(Path(product).read_text())\n",
    "\n",
    "\n",
    "@serializer({'.json': write_json})\n",
    "def my_serializer(obj, product):\n",
    "    Path(product).write_bytes(pickle.dumps(obj))\n",
    "\n",
    "\n",
    "@unserializer({'.json': read_json})\n",
    "def my_unserializer(product):\n",
    "    return pickle.loads(Path(product).read_bytes())\n",
    "```"
   ]
  },
  {
   "cell_type": "markdown",
   "id": "71a645f4",
   "metadata": {
    "papermill": {
     "duration": 0.085021,
     "end_time": "2021-10-14T15:10:04.600064",
     "exception": false,
     "start_time": "2021-10-14T15:10:04.515043",
     "status": "completed"
    },
    "tags": []
   },
   "source": [
    "Let's modify our example pipeline. The product in the first task does not have an extension (`output/one_dict`), hence, it will use pickle-based logic. However, the tasks in the second task have a `.json` extension, and will be saved as JSON files."
   ]
  },
  {
   "cell_type": "markdown",
   "id": "fde2a352",
   "metadata": {
    "papermill": {
     "duration": 0.076151,
     "end_time": "2021-10-14T15:10:04.754599",
     "exception": false,
     "start_time": "2021-10-14T15:10:04.678448",
     "status": "completed"
    },
    "region_name": "md",
    "tags": []
   },
   "source": [
    "```yaml\n",
    "# Content of with-json.yaml\n",
    "serializer: custom.my_serializer\n",
    "unserializer: custom.my_unserializer\n",
    "\n",
    "tasks:\n",
    "  - source: tasks.first\n",
    "    product: output/one_dict\n",
    "  \n",
    "  - source: tasks.second\n",
    "    product:\n",
    "        another: output/another_dict.json\n",
    "        final: output/final_dict.json\n",
    "```"
   ]
  },
  {
   "cell_type": "code",
   "execution_count": 3,
   "id": "a9d3867d",
   "metadata": {
    "execution": {
     "iopub.execute_input": "2021-10-14T15:10:04.913562Z",
     "iopub.status.busy": "2021-10-14T15:10:04.912831Z",
     "iopub.status.idle": "2021-10-14T15:10:15.734170Z",
     "shell.execute_reply": "2021-10-14T15:10:15.734679Z"
    },
    "papermill": {
     "duration": 10.903912,
     "end_time": "2021-10-14T15:10:15.734979",
     "exception": false,
     "start_time": "2021-10-14T15:10:04.831067",
     "status": "completed"
    },
    "tags": []
   },
   "outputs": [
    {
     "name": "stdout",
     "output_type": "stream",
     "text": [
      "name    Ran?      Elapsed (s)    Percentage\n",
      "------  ------  -------------  ------------\n",
      "first   True         0.001563       45.9031\n",
      "second  True         0.001842       54.0969\n"
     ]
    },
    {
     "name": "stderr",
     "output_type": "stream",
     "text": [
      "\r\n",
      "  0%|          | 0/2 [00:00<?, ?it/s]\r\n",
      "Building task 'first':   0%|          | 0/2 [00:00<?, ?it/s]\r\n",
      "Building task 'first':  50%|█████     | 1/2 [00:03<00:03,  3.77s/it]\r\n",
      "Building task 'second':  50%|█████     | 1/2 [00:03<00:03,  3.77s/it]\r\n",
      "Building task 'second': 100%|██████████| 2/2 [00:07<00:00,  3.55s/it]\r\n",
      "Building task 'second': 100%|██████████| 2/2 [00:07<00:00,  3.58s/it]\n"
     ]
    }
   ],
   "source": [
    "%%sh\n",
    "ploomber build --entry-point with-json.yaml --force"
   ]
  },
  {
   "cell_type": "markdown",
   "id": "6b78e14d",
   "metadata": {
    "papermill": {
     "duration": 0.076588,
     "end_time": "2021-10-14T15:10:15.891439",
     "exception": false,
     "start_time": "2021-10-14T15:10:15.814851",
     "status": "completed"
    },
    "tags": []
   },
   "source": [
    "Let's print the `.json` files to verify they're not pickle files:"
   ]
  },
  {
   "cell_type": "code",
   "execution_count": 4,
   "id": "39fd490c",
   "metadata": {
    "execution": {
     "iopub.execute_input": "2021-10-14T15:10:16.054765Z",
     "iopub.status.busy": "2021-10-14T15:10:16.053997Z",
     "iopub.status.idle": "2021-10-14T15:10:16.137964Z",
     "shell.execute_reply": "2021-10-14T15:10:16.139087Z"
    },
    "lines_to_next_cell": 2,
    "papermill": {
     "duration": 0.171289,
     "end_time": "2021-10-14T15:10:16.139498",
     "exception": false,
     "start_time": "2021-10-14T15:10:15.968209",
     "status": "completed"
    },
    "tags": []
   },
   "outputs": [
    {
     "name": "stdout",
     "output_type": "stream",
     "text": [
      "{\"a\": 3, \"b\": 2}"
     ]
    }
   ],
   "source": [
    "%%sh\n",
    "cat output/another_dict.json"
   ]
  },
  {
   "cell_type": "code",
   "execution_count": 5,
   "id": "d4ebfa4c",
   "metadata": {
    "execution": {
     "iopub.execute_input": "2021-10-14T15:10:16.349808Z",
     "iopub.status.busy": "2021-10-14T15:10:16.349119Z",
     "iopub.status.idle": "2021-10-14T15:10:16.410045Z",
     "shell.execute_reply": "2021-10-14T15:10:16.410902Z"
    },
    "papermill": {
     "duration": 0.165894,
     "end_time": "2021-10-14T15:10:16.411383",
     "exception": false,
     "start_time": "2021-10-14T15:10:16.245489",
     "status": "completed"
    },
    "tags": []
   },
   "outputs": [
    {
     "name": "stdout",
     "output_type": "stream",
     "text": [
      "{\"a\": 100, \"b\": 200}"
     ]
    }
   ],
   "source": [
    "%%sh\n",
    "cat output/final_dict.json"
   ]
  },
  {
   "cell_type": "markdown",
   "id": "3512f6f5",
   "metadata": {
    "papermill": {
     "duration": 0.081048,
     "end_time": "2021-10-14T15:10:16.571614",
     "exception": false,
     "start_time": "2021-10-14T15:10:16.490566",
     "status": "completed"
    },
    "tags": []
   },
   "source": [
    "## Using a fallback format\n",
    "\n",
    "Since it's common to have a `fallback` serialization format, the decorators have a `fallback` argument that, when enabled, uses the `pickle` module when the product's extension does not match any of the registered ones in the first argument.\n",
    "\n",
    "The example works the same as the previous one, except we don't have to write our pickle-based logic.\n",
    "\n",
    "`fallback` can also take the [joblib](https://github.com/joblib/joblib) or [cloudpickle](https://github.com/cloudpipe/cloudpickle) values. They're similar to the pickle format but have some advantages. For example, `joblib` produces smaller files when the serialized object contains many NumPy arrays, while cloudpickle supports serialization of some objects that the pickle module doesn't. To use `fallback='joblib'` or `fallback='cloudpickle'` the corresponding module must be installed."
   ]
  },
  {
   "cell_type": "markdown",
   "id": "bcb029cd",
   "metadata": {
    "papermill": {
     "duration": 0.088316,
     "end_time": "2021-10-14T15:10:16.747984",
     "exception": false,
     "start_time": "2021-10-14T15:10:16.659668",
     "status": "completed"
    },
    "region_name": "md",
    "tags": []
   },
   "source": [
    "```python\n",
    "# Content of custom.py\n",
    "\n",
    "from ploomber.io import serializer, unserializer\n",
    "\n",
    "\n",
    "@serializer({'.json': write_json}, fallback=True)\n",
    "def my_fallback_serializer(obj, product):\n",
    "    pass\n",
    "\n",
    "\n",
    "@unserializer({'.json': read_json}, fallback=True)\n",
    "def my_fallback_unserializer(product):\n",
    "    pass\n",
    "```"
   ]
  },
  {
   "cell_type": "markdown",
   "id": "7f8526f2",
   "metadata": {
    "papermill": {
     "duration": 0.085225,
     "end_time": "2021-10-14T15:10:16.917418",
     "exception": false,
     "start_time": "2021-10-14T15:10:16.832193",
     "status": "completed"
    },
    "region_name": "md",
    "tags": []
   },
   "source": [
    "```yaml\n",
    "# Content of fallback.yaml\n",
    "serializer: custom.my_fallback_serializer\n",
    "unserializer: custom.my_fallback_unserializer\n",
    "\n",
    "tasks:\n",
    "  - source: tasks.first\n",
    "    product: output/one_dict\n",
    "  \n",
    "  - source: tasks.second\n",
    "    product:\n",
    "        another: output/another_dict.json\n",
    "        final: output/final_dict.json\n",
    "```"
   ]
  },
  {
   "cell_type": "code",
   "execution_count": 6,
   "id": "4960b608",
   "metadata": {
    "execution": {
     "iopub.execute_input": "2021-10-14T15:10:17.083838Z",
     "iopub.status.busy": "2021-10-14T15:10:17.082708Z",
     "iopub.status.idle": "2021-10-14T15:10:27.136195Z",
     "shell.execute_reply": "2021-10-14T15:10:27.135705Z"
    },
    "papermill": {
     "duration": 10.140203,
     "end_time": "2021-10-14T15:10:27.136407",
     "exception": false,
     "start_time": "2021-10-14T15:10:16.996204",
     "status": "completed"
    },
    "tags": []
   },
   "outputs": [
    {
     "name": "stdout",
     "output_type": "stream",
     "text": [
      "name    Ran?      Elapsed (s)    Percentage\n",
      "------  ------  -------------  ------------\n",
      "first   True         0.001095       30.9147\n",
      "second  True         0.002447       69.0853\n"
     ]
    },
    {
     "name": "stderr",
     "output_type": "stream",
     "text": [
      "\r\n",
      "  0%|          | 0/2 [00:00<?, ?it/s]\r\n",
      "Building task 'first':   0%|          | 0/2 [00:00<?, ?it/s]\r\n",
      "Building task 'first':  50%|█████     | 1/2 [00:03<00:03,  3.21s/it]\r\n",
      "Building task 'second':  50%|█████     | 1/2 [00:03<00:03,  3.21s/it]\r\n",
      "Building task 'second': 100%|██████████| 2/2 [00:06<00:00,  3.29s/it]\r\n",
      "Building task 'second': 100%|██████████| 2/2 [00:06<00:00,  3.28s/it]\n"
     ]
    }
   ],
   "source": [
    "%%sh\n",
    "ploomber build --entry-point fallback.yaml --force"
   ]
  },
  {
   "cell_type": "markdown",
   "id": "4628d2ef",
   "metadata": {
    "papermill": {
     "duration": 0.098254,
     "end_time": "2021-10-14T15:10:27.323842",
     "exception": false,
     "start_time": "2021-10-14T15:10:27.225588",
     "status": "completed"
    },
    "tags": []
   },
   "source": [
    "Let's print the JSON files to verify their contents:"
   ]
  },
  {
   "cell_type": "code",
   "execution_count": 7,
   "id": "63217685",
   "metadata": {
    "execution": {
     "iopub.execute_input": "2021-10-14T15:10:27.505268Z",
     "iopub.status.busy": "2021-10-14T15:10:27.503950Z",
     "iopub.status.idle": "2021-10-14T15:10:27.569940Z",
     "shell.execute_reply": "2021-10-14T15:10:27.570674Z"
    },
    "papermill": {
     "duration": 0.156983,
     "end_time": "2021-10-14T15:10:27.570957",
     "exception": false,
     "start_time": "2021-10-14T15:10:27.413974",
     "status": "completed"
    },
    "tags": []
   },
   "outputs": [
    {
     "name": "stdout",
     "output_type": "stream",
     "text": [
      "{\"a\": 3, \"b\": 2}"
     ]
    }
   ],
   "source": [
    "%%sh\n",
    "cat output/another_dict.json"
   ]
  },
  {
   "cell_type": "code",
   "execution_count": 8,
   "id": "901fe3e7",
   "metadata": {
    "execution": {
     "iopub.execute_input": "2021-10-14T15:10:27.744061Z",
     "iopub.status.busy": "2021-10-14T15:10:27.742949Z",
     "iopub.status.idle": "2021-10-14T15:10:27.804306Z",
     "shell.execute_reply": "2021-10-14T15:10:27.804986Z"
    },
    "papermill": {
     "duration": 0.149707,
     "end_time": "2021-10-14T15:10:27.805234",
     "exception": false,
     "start_time": "2021-10-14T15:10:27.655527",
     "status": "completed"
    },
    "tags": []
   },
   "outputs": [
    {
     "name": "stdout",
     "output_type": "stream",
     "text": [
      "{\"a\": 100, \"b\": 200}"
     ]
    }
   ],
   "source": [
    "%%sh\n",
    "cat output/final_dict.json"
   ]
  },
  {
   "cell_type": "markdown",
   "id": "e8d4b1cb",
   "metadata": {
    "papermill": {
     "duration": 0.084324,
     "end_time": "2021-10-14T15:10:27.971914",
     "exception": false,
     "start_time": "2021-10-14T15:10:27.887590",
     "status": "completed"
    },
    "tags": []
   },
   "source": [
    "## Using default serializers\n",
    "\n",
    "Ploomber comes with a few convenient serialization functions to write more succint serializers. We can request the use of such default serializers using the `defaults` argument, which takes a list of extensions:"
   ]
  },
  {
   "cell_type": "markdown",
   "id": "28cfec4d",
   "metadata": {
    "papermill": {
     "duration": 0.085004,
     "end_time": "2021-10-14T15:10:28.143911",
     "exception": false,
     "start_time": "2021-10-14T15:10:28.058907",
     "status": "completed"
    },
    "region_name": "md",
    "tags": []
   },
   "source": [
    "```python\n",
    "# Content of custom.py\n",
    "\n",
    "from ploomber.io import serializer, unserializer\n",
    "\n",
    "\n",
    "@serializer(fallback=True, defaults=['.json'])\n",
    "def my_defaults_serializer(obj, product):\n",
    "    pass\n",
    "\n",
    "\n",
    "@unserializer(fallback=True, defaults=['.json'])\n",
    "def my_defaults_unserializer(product):\n",
    "    pass\n",
    "```"
   ]
  },
  {
   "cell_type": "markdown",
   "id": "001961b3",
   "metadata": {
    "papermill": {
     "duration": 0.083855,
     "end_time": "2021-10-14T15:10:28.308341",
     "exception": false,
     "start_time": "2021-10-14T15:10:28.224486",
     "status": "completed"
    },
    "tags": []
   },
   "source": [
    "Here we're asking to dispatch `.json` products and use `pickle` for all other extensions, the same as we did for the previous examples, except this time, we don't have to pass the mapping argument to the decorators.\n",
    "\n",
    "`defaults` support:\n",
    "\n",
    "1. `.json`: the returned object must be JSON-serializable (e.g., a list or a dictionary)\n",
    "2. `.txt`: the returned object must be a string\n",
    "3. `.csv`: the returned object must be a `pandas.DataFrame`\n",
    "4. `.parquet`: the returned object must be a `pandas.DataFrame,` and a parquet library should be installed (such as `pyarrow`)."
   ]
  },
  {
   "cell_type": "markdown",
   "id": "eda6cb32",
   "metadata": {
    "papermill": {
     "duration": 0.090161,
     "end_time": "2021-10-14T15:10:28.480540",
     "exception": false,
     "start_time": "2021-10-14T15:10:28.390379",
     "status": "completed"
    },
    "region_name": "md",
    "tags": []
   },
   "source": [
    "```yaml\n",
    "# Content of defaults.yaml\n",
    "serializer: custom.my_defaults_serializer\n",
    "unserializer: custom.my_defaults_unserializer\n",
    "\n",
    "tasks:\n",
    "  - source: tasks.first\n",
    "    product: output/one_dict\n",
    "  \n",
    "  - source: tasks.second\n",
    "    product:\n",
    "        another: output/another_dict.json\n",
    "        final: output/final_dict.json\n",
    "```"
   ]
  },
  {
   "cell_type": "code",
   "execution_count": 9,
   "id": "a26d7690",
   "metadata": {
    "execution": {
     "iopub.execute_input": "2021-10-14T15:10:28.659213Z",
     "iopub.status.busy": "2021-10-14T15:10:28.658179Z",
     "iopub.status.idle": "2021-10-14T15:10:38.656031Z",
     "shell.execute_reply": "2021-10-14T15:10:38.655478Z"
    },
    "papermill": {
     "duration": 10.086416,
     "end_time": "2021-10-14T15:10:38.656282",
     "exception": false,
     "start_time": "2021-10-14T15:10:28.569866",
     "status": "completed"
    },
    "tags": []
   },
   "outputs": [
    {
     "name": "stdout",
     "output_type": "stream",
     "text": [
      "name    Ran?      Elapsed (s)    Percentage\n",
      "------  ------  -------------  ------------\n",
      "first   True         0.001451       45.1462\n",
      "second  True         0.001763       54.8538\n"
     ]
    },
    {
     "name": "stderr",
     "output_type": "stream",
     "text": [
      "\r\n",
      "  0%|          | 0/2 [00:00<?, ?it/s]\r\n",
      "Building task 'first':   0%|          | 0/2 [00:00<?, ?it/s]\r\n",
      "Building task 'first':  50%|█████     | 1/2 [00:03<00:03,  3.31s/it]\r\n",
      "Building task 'second':  50%|█████     | 1/2 [00:03<00:03,  3.31s/it]\r\n",
      "Building task 'second': 100%|██████████| 2/2 [00:06<00:00,  3.31s/it]\r\n",
      "Building task 'second': 100%|██████████| 2/2 [00:06<00:00,  3.31s/it]\n"
     ]
    }
   ],
   "source": [
    "%%sh\n",
    "ploomber build --entry-point defaults.yaml --force"
   ]
  },
  {
   "cell_type": "markdown",
   "id": "de05b307",
   "metadata": {
    "papermill": {
     "duration": 0.086333,
     "end_time": "2021-10-14T15:10:38.828261",
     "exception": false,
     "start_time": "2021-10-14T15:10:38.741928",
     "status": "completed"
    },
    "tags": []
   },
   "source": [
    "Let's print the JSON files to verify their contents:"
   ]
  },
  {
   "cell_type": "code",
   "execution_count": 10,
   "id": "778981ee",
   "metadata": {
    "execution": {
     "iopub.execute_input": "2021-10-14T15:10:39.012937Z",
     "iopub.status.busy": "2021-10-14T15:10:39.010461Z",
     "iopub.status.idle": "2021-10-14T15:10:39.074750Z",
     "shell.execute_reply": "2021-10-14T15:10:39.075258Z"
    },
    "papermill": {
     "duration": 0.158487,
     "end_time": "2021-10-14T15:10:39.075530",
     "exception": false,
     "start_time": "2021-10-14T15:10:38.917043",
     "status": "completed"
    },
    "tags": []
   },
   "outputs": [
    {
     "name": "stdout",
     "output_type": "stream",
     "text": [
      "{\"a\": 3, \"b\": 2}"
     ]
    }
   ],
   "source": [
    "%%sh\n",
    "cat output/another_dict.json"
   ]
  },
  {
   "cell_type": "code",
   "execution_count": 11,
   "id": "86e06584",
   "metadata": {
    "execution": {
     "iopub.execute_input": "2021-10-14T15:10:39.262290Z",
     "iopub.status.busy": "2021-10-14T15:10:39.258714Z",
     "iopub.status.idle": "2021-10-14T15:10:39.323881Z",
     "shell.execute_reply": "2021-10-14T15:10:39.324582Z"
    },
    "papermill": {
     "duration": 0.157735,
     "end_time": "2021-10-14T15:10:39.324853",
     "exception": false,
     "start_time": "2021-10-14T15:10:39.167118",
     "status": "completed"
    },
    "tags": []
   },
   "outputs": [
    {
     "name": "stdout",
     "output_type": "stream",
     "text": [
      "{\"a\": 100, \"b\": 200}"
     ]
    }
   ],
   "source": [
    "%%sh\n",
    "cat output/final_dict.json"
   ]
  },
  {
   "cell_type": "markdown",
   "id": "d77cec95",
   "metadata": {
    "papermill": {
     "duration": 0.087558,
     "end_time": "2021-10-14T15:10:39.503419",
     "exception": false,
     "start_time": "2021-10-14T15:10:39.415861",
     "status": "completed"
    },
    "tags": []
   },
   "source": [
    "## Wrapping up\n",
    "\n",
    "Configuring a `serializer` and `unserializer` in your `pipeline.yaml` is optional, but it helps you quickly generate a fully in-memory pipeline for serving predictions.\n",
    "\n",
    "If you want to learn more about in-memory pipelines, check out the [following guide](https://ploomber.readthedocs.io/en/latest/user-guide/deployment.html#online-service-api).\n",
    "\n",
    "For a complete example showing how to manage a training and a serving pipeline, and deploy it as a Flask API, [click here](https://github.com/ploomber/projects/tree/master/templates/ml-online)."
   ]
  }
 ],
 "metadata": {
  "kernelspec": {
   "display_name": "Python 3 (ipykernel)",
   "language": "python",
   "name": "python3"
  },
  "language_info": {
   "codemirror_mode": {
    "name": "ipython",
    "version": 3
   },
   "file_extension": ".py",
   "mimetype": "text/x-python",
   "name": "python",
   "nbconvert_exporter": "python",
   "pygments_lexer": "ipython3",
   "version": "3.9.7"
  },
  "papermill": {
   "default_parameters": {},
   "duration": 62.546638,
   "end_time": "2021-10-14T15:10:39.804129",
   "environment_variables": {},
   "exception": null,
   "input_path": "guides/serialization/_build/readme_preprocessed.ipynb",
   "output_path": "guides/serialization/README.ipynb",
   "parameters": {},
   "start_time": "2021-10-14T15:09:37.257491",
   "version": "2.3.3"
  }
 },
 "nbformat": 4,
 "nbformat_minor": 5
}
