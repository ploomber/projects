{
 "cells": [
  {
   "cell_type": "code",
   "execution_count": 1,
   "id": "b314d9fa-9cd8-45c0-9c62-ec07f1fa4be9",
   "metadata": {
    "nbsphinx": "hidden"
   },
   "outputs": [],
   "source": [
    "# conda activate {env} doesn't work well here\n",
    "# so we manually modify the path\n",
    "PATH=$CONDA_PREFIX/envs/ploomber/bin:$PATH"
   ]
  },
  {
   "cell_type": "markdown",
   "id": "8e0bdb65-0ad3-4e92-9489-614e8fe6494a",
   "metadata": {
    "tags": []
   },
   "source": [
    "# Running experiments in parallel\n",
    "\n",
    "Some of the advantages of running parallel notebooks are that we can run different tasks or processes simultaneously by using multiple computing resources. This will allow us to work more efficiently. (More details about this can be read in our [blog post](https://ploomber.io/blog/running-parallel-notebooks/).)\n",
    "\n",
    "With Ploomber and Ploomber Cloud you can parametrize notebooks and run multiple copies in parallel (each one with a different set of parameters). This guide will show you how!\n",
    "\n",
    "The following sections will be covered in this tutorial. **(You can click any of them to jump directly to the corresponding section.)**\n",
    "\n",
    "1. [Running experiments in parallel](#Running-experiments-in-parallel)\n",
    "   - [Pre-requisites](#Pre-requisites)\n",
    "   - [Notebook configuration](#Notebook-configuration#Notebook-configuration)\n",
    "   - [Notebook submission to Ploomber Cloud](#Notebook-submission-to-Ploomber-Cloud)\n",
    "3. [Uploading input data](#Uploading-input-data)\n",
    "4. [Notebook artifacts](#Notebook-artifacts)\n",
    "5. [Requesting more memory, CPU and GPU](#Requesting-more-memory,-CPU-and-GPU)\n",
    "6. [Specify package versions](#Specify-package-versions)\n",
    "7. [Concurrent runs](#Concurrent-runs)\n",
    "8. [Debugging](#Debugging)\n",
    "\n",
    "\n",
    "### Pre-requisites\n",
    "\n",
    "This section will help you setup your local environment to run notebooks in Ploomber Cloud. You only need to install Ploomber and set the API Key from your Ploomber Cloud account.\n",
    "\n",
    "#### Installing Ploomber\n",
    "\n",
    "To install the updated version of Ploomber, open a terminal and run the following command.\n",
    "\n",
    "```sh\n",
    "pip install ploomber --upgrade\n",
    "```\n",
    "\n",
    "#### Setting up the Ploomber Cloud API key\n",
    "\n",
    "For this, you'll need to sign in to [Ploomber Cloud](https://www.cloud.ploomber.io/signin.html). Once you sign in, jou just need to copy your API key and run the following command in your terminal:\n",
    "\n",
    "```sh\n",
    "ploomber cloud set-key {your-key}\n",
    "```\n",
    "\n",
    "A detailed tutorial to get and set your API Key can be found [here](https://docs.ploomber.io/en/latest/cloud/api-key.html).\n",
    "\n",
    "### Notebook configuration\n",
    "\n",
    "In this section you'll learn how to configure your notebook to run different parameters.\n",
    "\n",
    "First, add a cell at the top of your notebook with the notebook parameters:\n",
    "\n",
    "```python\n",
    "# PARAMETERS\n",
    "n_estimators = 1\n",
    "```\n",
    "\n",
    "> **Important:** You must add the comment `# PARAMETERS` in the cell. With this, Ploomber will be able to identify that those parameter will be used during the execution.\n",
    "\n",
    "Next, ensure that such parameters are used in the notebook's body. Ploomber Cloud will change these values at runtime.\n",
    "\n",
    "Now, add another raw cell at the top. In the raw cell, put the parameter values you want to use under the `grid` section:\n",
    "\n",
    "```yaml\n",
    "grid:\n",
    "    n_estimators: [1, 5, 10, 20]\n",
    "```\n",
    "\n",
    "Your notebook can have more than one parameter. In such case, Ploomber Cloud will run the notebook with all possible combinations.\n",
    "\n",
    "> **Note:** the raw cell must be a valid YAML string. YAML is a data serialization language that is often used for writing configuration files. It usually follows a simple format to list attributes. You can read more about YAML [here](https://en.wikipedia.org/wiki/YAML)."
   ]
  },
  {
   "cell_type": "markdown",
   "id": "8da3d15c-fb80-43c9-859e-99f201a167d8",
   "metadata": {},
   "source": [
    "### Notebook submission to Ploomber Cloud\n",
    "\n",
    "In the previous section, you have configured diferent parameters to run different processes in parallel. In this section, we will submit these processes to Ploomber Cloud.\n",
    "\n",
    "Let's submit a notebook that fits a regressor and uses 4 parameter values. For this, we have prepared a notebook for you, which already contains the previously configurations for parameters that will be used for each run.\n",
    "\n",
    "To download the notebook, simply run the following command in your terminal:\n",
    "\n",
    "```sh\n",
    "# Create a folder named notebooks\n",
    "mkdir notebooks\n",
    "\n",
    "# Download the sample notebook to the created folder\n",
    "curl https://raw.githubusercontent.com/ploomber/projects/master/guides/cloud-notebook-parametrized/notebooks/grid.ipynb -o notebooks/grid.ipynb\n",
    "```\n",
    "\n",
    "Now we can submit the notebook that fits the regressor with the 4 specified parameter values. In your terminal run:"
   ]
  },
  {
   "cell_type": "code",
   "execution_count": 2,
   "id": "bf7caf2e-7280-42dd-a9dc-21a738feea4d",
   "metadata": {},
   "outputs": [
    {
     "name": "stdout",
     "output_type": "stream",
     "text": [
      "Uploading grid-7e41ace5.ipynb...\n",
      "Triggering execution of grid-7e41ace5.ipynb...\n",
      "\u001b[0m"
     ]
    }
   ],
   "source": [
    "ploomber cloud nb notebooks/grid.ipynb"
   ]
  },
  {
   "cell_type": "markdown",
   "id": "d0d38a06-c855-4d86-89d1-58e9f1fd5eaa",
   "metadata": {},
   "source": [
    "Check that the task was submitted:"
   ]
  },
  {
   "cell_type": "code",
   "execution_count": 3,
   "id": "05b7b792-2734-4f2c-b782-5c2142de5f33",
   "metadata": {},
   "outputs": [
    {
     "name": "stdout",
     "output_type": "stream",
     "text": [
      "created_at      runid                                 status\n",
      "--------------  ------------------------------------  --------\n",
      "5 seconds ago   b39238a2-3826-495d-90ca-b29139e324f0  created\n",
      "53 minutes ago  2d4bcadf-5acb-49a5-8806-af2dbe1b32fe  finished\n",
      "7 hours ago     ee78f4c1-ee42-4ba5-ba2f-9e73ae9228d6  finished\n",
      "\u001b[0m"
     ]
    }
   ],
   "source": [
    "ploomber cloud list"
   ]
  },
  {
   "cell_type": "markdown",
   "id": "79040d2a-be66-482b-89a7-dadc16d36656",
   "metadata": {},
   "source": [
    "Wait for 1-2 minutes for the Docker image to build, you'll see the following message once it's done:"
   ]
  },
  {
   "cell_type": "code",
   "execution_count": 6,
   "id": "93512c08-06c4-405c-aceb-4791a01d1f69",
   "metadata": {},
   "outputs": [
    {
     "name": "stdout",
     "output_type": "stream",
     "text": [
      "[Container] 2022/10/26 03:59:05 Phase complete: BUILD State: SUCCEEDED\n",
      "\n",
      "[Container] 2022/10/26 03:59:05 Phase context status code:  Message: \n",
      "\n",
      "[Container] 2022/10/26 03:59:05 Entering phase POST_BUILD\n",
      "\n",
      "[Container] 2022/10/26 03:59:05 Phase complete: POST_BUILD State: SUCCEEDED\n",
      "\n",
      "[Container] 2022/10/26 03:59:05 Phase context status code:  Message: \n",
      "\n"
     ]
    }
   ],
   "source": [
    "ploomber cloud logs @latest --image | tail -n 10"
   ]
  },
  {
   "cell_type": "markdown",
   "id": "f10c1f35-9131-4c70-9cbf-ba1a49007e0b",
   "metadata": {},
   "source": [
    "Now you'll see that the notebook has `started`:"
   ]
  },
  {
   "cell_type": "code",
   "execution_count": 7,
   "id": "7e82c06d-bae9-4b99-81d9-d9f7800d4fcf",
   "metadata": {},
   "outputs": [
    {
     "name": "stdout",
     "output_type": "stream",
     "text": [
      "created_at      runid                                 status\n",
      "--------------  ------------------------------------  --------\n",
      "3 minutes ago   b39238a2-3826-495d-90ca-b29139e324f0  started\n",
      "57 minutes ago  2d4bcadf-5acb-49a5-8806-af2dbe1b32fe  finished\n",
      "7 hours ago     ee78f4c1-ee42-4ba5-ba2f-9e73ae9228d6  finished\n",
      "\u001b[0m"
     ]
    }
   ],
   "source": [
    "ploomber cloud list"
   ]
  },
  {
   "cell_type": "markdown",
   "id": "6c2cc94d-05a4-494b-96d7-f6fb3438b13e",
   "metadata": {},
   "source": [
    "Let's see the status of each task (one task per parameter value):"
   ]
  },
  {
   "cell_type": "code",
   "execution_count": 8,
   "id": "a1ea35de-12ed-4446-b63d-8431f6a641f5",
   "metadata": {},
   "outputs": [
    {
     "name": "stdout",
     "output_type": "stream",
     "text": [
      "Geting latest ID...\n",
      "Got ID: b39238a2-3826-495d-90ca-b29139e324f0\n",
      "Unknown status: started\n",
      "taskid                     name             runid                      status\n",
      "-------------------------  ---------------  -------------------------  --------\n",
      "d9c5d4d0-b076-44ba-a807-8  grid-7e41ace5-1  b39238a2-3826-495d-90ca-b  created\n",
      "d6689c7b8ed                                 29139e324f0\n",
      "0ac99557-5c30-4160-869d-e  grid-7e41ace5-3  b39238a2-3826-495d-90ca-b  created\n",
      "65e007fbd17                                 29139e324f0\n",
      "6442ea6b-cece-4530-8af6-6  grid-7e41ace5-2  b39238a2-3826-495d-90ca-b  created\n",
      "8d38ac230ed                                 29139e324f0\n",
      "bd3363a5-c223-4673-9a52-3  grid-7e41ace5-0  b39238a2-3826-495d-90ca-b  created\n",
      "3fa9dbef681                                 29139e324f0\n",
      "\u001b[0m"
     ]
    }
   ],
   "source": [
    "ploomber cloud status @latest"
   ]
  },
  {
   "cell_type": "markdown",
   "id": "5ca9ba25-13dc-40de-aee6-86306b035106",
   "metadata": {},
   "source": [
    "After a few minutes, they are done:"
   ]
  },
  {
   "cell_type": "code",
   "execution_count": 9,
   "id": "c92bbb10-4f02-4e4d-8026-e05636d168a5",
   "metadata": {},
   "outputs": [
    {
     "name": "stdout",
     "output_type": "stream",
     "text": [
      "Geting latest ID...\n",
      "Got ID: b39238a2-3826-495d-90ca-b29139e324f0\n",
      "Pipeline finished...\n",
      "taskid                     name             runid                      status\n",
      "-------------------------  ---------------  -------------------------  --------\n",
      "d9c5d4d0-b076-44ba-a807-8  grid-7e41ace5-1  b39238a2-3826-495d-90ca-b  finished\n",
      "d6689c7b8ed                                 29139e324f0\n",
      "0ac99557-5c30-4160-869d-e  grid-7e41ace5-3  b39238a2-3826-495d-90ca-b  finished\n",
      "65e007fbd17                                 29139e324f0\n",
      "6442ea6b-cece-4530-8af6-6  grid-7e41ace5-2  b39238a2-3826-495d-90ca-b  finished\n",
      "8d38ac230ed                                 29139e324f0\n",
      "bd3363a5-c223-4673-9a52-3  grid-7e41ace5-0  b39238a2-3826-495d-90ca-b  finished\n",
      "3fa9dbef681                                 29139e324f0\n",
      "\u001b[0m"
     ]
    }
   ],
   "source": [
    "ploomber cloud status @latest"
   ]
  },
  {
   "cell_type": "markdown",
   "id": "c38d2a76-0f7e-4f29-b941-1a4c555153e4",
   "metadata": {},
   "source": [
    "Let's see what's in our outputs workspace:"
   ]
  },
  {
   "cell_type": "code",
   "execution_count": 10,
   "id": "ae6b0422-4c0d-4d19-b04c-79140a037277",
   "metadata": {},
   "outputs": [
    {
     "name": "stdout",
     "output_type": "stream",
     "text": [
      "path\n",
      "-----------------------------------------------------\n",
      "grid-7e41ace5/output/notebook-n_estimators=1-0.ipynb\n",
      "grid-7e41ace5/output/notebook-n_estimators=10-2.ipynb\n",
      "grid-7e41ace5/output/notebook-n_estimators=20-3.ipynb\n",
      "grid-7e41ace5/output/notebook-n_estimators=5-1.ipynb\n",
      "plot-aebe61a1/output/notebook.ipynb\n",
      "plot-f7ad8452/output/notebook.ipynb\n",
      "\u001b[0m"
     ]
    }
   ],
   "source": [
    "ploomber cloud products"
   ]
  },
  {
   "cell_type": "markdown",
   "id": "424d4b03-6ff1-4ce9-86ed-a06617bc5964",
   "metadata": {},
   "source": [
    "Download all the executed notebooks:"
   ]
  },
  {
   "cell_type": "code",
   "execution_count": 11,
   "id": "b1fb33eb-7551-40a3-ad66-425c9f2a55e4",
   "metadata": {},
   "outputs": [
    {
     "name": "stdout",
     "output_type": "stream",
     "text": [
      "Writing file into path grid-7e41ace5/output/.notebook-n_estimators=1-0.ipynb.metadata\n",
      "Writing file into path grid-7e41ace5/output/.notebook-n_estimators=20-3.ipynb.metadata\n",
      "Writing file into path grid-7e41ace5/output/.notebook-n_estimators=5-1.ipynb.metadata\n",
      "Writing file into path grid-7e41ace5/output/.notebook-n_estimators=10-2.ipynb.metadata\n",
      "Writing file into path grid-7e41ace5/output/notebook-n_estimators=5-1.ipynb\n",
      "Writing file into path grid-7e41ace5/output/notebook-n_estimators=10-2.ipynb\n",
      "Writing file into path grid-7e41ace5/output/notebook-n_estimators=20-3.ipynb\n",
      "Writing file into path grid-7e41ace5/output/notebook-n_estimators=1-0.ipynb\n",
      "\u001b[0m"
     ]
    }
   ],
   "source": [
    "ploomber cloud download 'grid-7e41ace5/*'"
   ]
  },
  {
   "cell_type": "markdown",
   "id": "b84abbdb-be71-4d82-9259-8867e8c000d7",
   "metadata": {},
   "source": [
    "Note that we're using the identifier printed when we submitted the notebook.\n",
    "\n",
    "> For a better understanding of the previous cells, you can read more details about **execution monitoring** and **downloading results** in the [previous guide](../cloud-notebook-simple/README.ipynb)."
   ]
  },
  {
   "cell_type": "markdown",
   "id": "ac3d6847-77eb-4ab9-bef0-20693e60d2e6",
   "metadata": {},
   "source": [
    "## Uploading input data\n",
    "\n",
    "If your notebook requires input data, you can upload it.\n",
    "\n",
    "We have prepared two sample notebooks that will allow you to work with uploads of input data. To download the first one that will be used, run in your terminal:\n",
    "\n",
    "```sh\n",
    "curl https://raw.githubusercontent.com/ploomber/projects/master/guides/cloud-notebook-parametrized/notebooks/input-data.ipynb -o notebooks/input-data.ipynb\n",
    "```\n",
    "\n",
    "Let's see what happens if we try to run a notebook with missing input data:"
   ]
  },
  {
   "cell_type": "code",
   "execution_count": 12,
   "id": "2f211100-f973-42f3-8d02-78094d986c15",
   "metadata": {},
   "outputs": [
    {
     "name": "stdout",
     "output_type": "stream",
     "text": [
      "Uploading input-data-49dc8734.ipynb...\n",
      "Triggering execution of input-data-49dc8734.ipynb...\n",
      "Error: Error validating inputs/outputs: {'missing': {'../data/penguins.csv'}} (status: 400)\n",
      "\u001b[0m"
     ]
    },
    {
     "ename": "",
     "evalue": "1",
     "output_type": "error",
     "traceback": []
    }
   ],
   "source": [
    "ploomber cloud nb notebooks/input-data.ipynb"
   ]
  },
  {
   "cell_type": "markdown",
   "id": "a28fb344-03b2-4fb2-96bb-58e2a6b5722b",
   "metadata": {},
   "source": [
    "Ploomber Cloud will parse your notebook and look for referenced files. If they're missing in your data workspace, it'll show an error like the one above.\n",
    "\n",
    "In our notebook, we have the following line:\n",
    "\n",
    "```python\n",
    "df = pd.read_csv('../data/penguins.csv')\n",
    "```\n",
    "\n",
    "Ploomber realizes you're using a local file at `../data/penguins.csv`. Since files can be either inputs or outputs, you have to indicate Ploomber what they are. To fix this, add a raw cell at the top:\n",
    "\n",
    "```yaml\n",
    "# this determines where to look for input data and where\n",
    "# to store outputs\n",
    "prefix: penguins-classification\n",
    "\n",
    "# for each path in our notebook, indicate if it's an input or output\n",
    "# the values must be the same as in your notebook\n",
    "inputs:\n",
    "    - ../data/penguins.csv\n",
    "\n",
    "# no outputs, so no need to add an \"outputs\" section\n",
    "```\n",
    "\n",
    "The second sample notebook to be used will contain the raw cell example. To download it, simply run:\n",
    "\n",
    "```sh\n",
    "curl https://raw.githubusercontent.com/ploomber/projects/master/guides/cloud-notebook-parametrized/notebooks/input-data-with-raw-cell.ipynb -o notebooks/input-data-with-raw-cell.ipynb\n",
    "```\n",
    "\n",
    "Let's run the notebook that contains the raw cell: "
   ]
  },
  {
   "cell_type": "code",
   "execution_count": 13,
   "id": "69d6ae6d-55ea-4fd8-816b-2690b141f8b1",
   "metadata": {},
   "outputs": [
    {
     "name": "stdout",
     "output_type": "stream",
     "text": [
      "Uploading input-data-with-raw-cell-d896c53b.ipynb...\n",
      "Triggering execution of input-data-with-raw-cell-d896c53b.ipynb...\n",
      "Error: Cannot start execution. The following inputs are missing:\n",
      "\t- ../data/penguins.csv\n",
      "Upload them to your data workspace or using the CLI: \n",
      "ploomber cloud data --upload ../data/penguins.csv --prefix penguins-classification/input --name data-penguins.csv\n",
      " (status: 400)\n",
      "\u001b[0m"
     ]
    },
    {
     "ename": "",
     "evalue": "1",
     "output_type": "error",
     "traceback": []
    }
   ],
   "source": [
    "ploomber cloud nb notebooks/input-data-with-raw-cell.ipynb"
   ]
  },
  {
   "cell_type": "markdown",
   "id": "e6728e53-cb20-4c60-99a9-7a76cbc9d8e0",
   "metadata": {},
   "source": [
    "This time, Ploomber Cloud is telling us the files are not in our data workspace. So let's upload them.\n",
    "\n",
    "First, let's get the data:"
   ]
  },
  {
   "cell_type": "code",
   "execution_count": 14,
   "id": "ab93d8c4-483f-40c6-88d5-5f8de0f84198",
   "metadata": {},
   "outputs": [
    {
     "name": "stdout",
     "output_type": "stream",
     "text": [
      "  % Total    % Received % Xferd  Average Speed   Time    Time     Time  Current\n",
      "                                 Dload  Upload   Total   Spent    Left  Speed\n",
      "100 13478  100 13478    0     0  54957      0 --:--:-- --:--:-- --:--:-- 57110\n"
     ]
    }
   ],
   "source": [
    "curl https://raw.githubusercontent.com/mwaskom/seaborn-data/master/penguins.csv -o penguins.csv"
   ]
  },
  {
   "cell_type": "markdown",
   "id": "5d1e534c-22da-4023-8b19-f1b98d53f20a",
   "metadata": {},
   "source": [
    "Use the command printed in the error message:"
   ]
  },
  {
   "cell_type": "code",
   "execution_count": 19,
   "id": "117e82d2-8ec6-460a-9607-3aa63f7ba45d",
   "metadata": {},
   "outputs": [
    {
     "name": "stdout",
     "output_type": "stream",
     "text": [
      "Uploading data-penguins.csv...\n",
      "\u001b[0m"
     ]
    }
   ],
   "source": [
    "# NOTE: you may need to change the path in the --upload argument if the file is somewhere else\n",
    "ploomber cloud data --upload penguins.csv --prefix penguins-classification/input --name data-penguins.csv"
   ]
  },
  {
   "cell_type": "markdown",
   "id": "181fb0dd-8624-4dff-b4bc-41ae4465f1db",
   "metadata": {},
   "source": [
    "Let's submit the notebook:"
   ]
  },
  {
   "cell_type": "code",
   "execution_count": 20,
   "id": "59454f9b-b7c7-429d-bf63-e4b29113b1fe",
   "metadata": {},
   "outputs": [
    {
     "name": "stdout",
     "output_type": "stream",
     "text": [
      "Uploading input-data-with-raw-cell-d539ba23.ipynb...\n",
      "Triggering execution of input-data-with-raw-cell-d539ba23.ipynb...\n",
      "\u001b[0m"
     ]
    }
   ],
   "source": [
    "ploomber cloud nb notebooks/input-data-with-raw-cell.ipynb"
   ]
  },
  {
   "cell_type": "markdown",
   "id": "eb67d68c-a046-4b4f-bd45-d1093674507b",
   "metadata": {},
   "source": [
    "Wait for a couple of minutes to finish (`status` will appear as `finished`):"
   ]
  },
  {
   "cell_type": "code",
   "execution_count": 22,
   "id": "42c3d1d7-421b-4232-8436-4a6a81841e9f",
   "metadata": {},
   "outputs": [
    {
     "name": "stdout",
     "output_type": "stream",
     "text": [
      "created_at      runid                                 status\n",
      "--------------  ------------------------------------  --------\n",
      "9 minutes ago   19f8242e-373b-4b2b-bee4-0181a3edfc51  finished\n",
      "31 minutes ago  b39238a2-3826-495d-90ca-b29139e324f0  finished\n",
      "an hour ago     2d4bcadf-5acb-49a5-8806-af2dbe1b32fe  finished\n",
      "7 hours ago     ee78f4c1-ee42-4ba5-ba2f-9e73ae9228d6  finished\n",
      "\u001b[0m"
     ]
    }
   ],
   "source": [
    "ploomber cloud list"
   ]
  },
  {
   "cell_type": "markdown",
   "id": "1e6134fa-edc2-4f6a-910c-22dd33ff8186",
   "metadata": {},
   "source": [
    "The `prefix` in the raw cell determines where the outputs are stored. Hence, to download all outputs:"
   ]
  },
  {
   "cell_type": "code",
   "execution_count": 23,
   "id": "978b891f-4d43-451c-a8ed-bd3eeccc392c",
   "metadata": {},
   "outputs": [
    {
     "name": "stdout",
     "output_type": "stream",
     "text": [
      "Writing file into path penguins-classification/output/.notebook.ipynb.metadata\n",
      "Writing file into path penguins-classification/output/notebook.ipynb\n",
      "\u001b[0m"
     ]
    }
   ],
   "source": [
    "ploomber cloud download 'penguins-classification/*'"
   ]
  },
  {
   "cell_type": "markdown",
   "id": "22301e93-03d1-4b86-ba9f-76621354be78",
   "metadata": {},
   "source": [
    "## Notebook artifacts\n",
    "\n",
    "```yaml\n",
    "prefix: some-experiment\n",
    "\n",
    "outputs:\n",
    "    - path/to/model.pickle\n",
    "```"
   ]
  },
  {
   "cell_type": "markdown",
   "id": "92cd2869-1e25-4a46-b236-44aeb6781a0f",
   "metadata": {},
   "source": [
    "## Requesting more memory, CPU and GPU\n",
    "\n",
    "![resources](resources.png)\n",
    "\n",
    "You can request more resources for your notebook execution by adding the following in the raw cell:\n",
    "\n",
    "```yaml\n",
    "task_resources:\n",
    "    vcpus: 8 # number of CPUs\n",
    "    memory: 16384 # memory in MiB\n",
    "```\n",
    "\n",
    "See the [`notebooks/resources.ipynb`](notebooks/resources.ipynb) notebook for an example. If you want to download this sample notebook and test it locally, run the following command:\n",
    "\n",
    "```sh\n",
    "curl https://raw.githubusercontent.com/ploomber/projects/master/guides/cloud-notebook-parametrized/notebooks/resources.ipynb -o notebooks/resources.ipynb\n",
    "```\n",
    "\n",
    "\n",
    "**Note:** The free community plan is capped to 2 CPUS and 4GiB of memory and no GPUs. If you need more resources, you can subscribe to the Teams plan. If you're a student or researcher, join our [Slack](https://ploomber.io/community) and we'll lift the restrictions."
   ]
  },
  {
   "cell_type": "markdown",
   "id": "9eff5c0b-542c-4487-b1c7-5fc5599c79ff",
   "metadata": {},
   "source": [
    "## Specify package versions\n",
    "\n",
    "By default, Ploomber Cloud will parse your `import` statements and install the latest version. If you want a specific version, add this in your raw cell:\n",
    "\n",
    "```yaml\n",
    "dependencies:\n",
    "    - matplotlib==3.5.3\n",
    "    - scikit-learn==1.1.0\n",
    "```\n",
    "\n",
    "See the [`notebooks/dependencies.ipynb`](notebooks/dependencies.ipynb) notebook for an example. If you want to download this sample notebook and test it locally, run the following command:\n",
    "\n",
    "```sh\n",
    "curl https://raw.githubusercontent.com/ploomber/projects/master/guides/cloud-notebook-parametrized/notebooks/dependencies.ipynb -o notebooks/dependencies.ipynb\n",
    "```"
   ]
  },
  {
   "cell_type": "markdown",
   "id": "c50f964e-9557-4eed-92dc-93c1e3f67fa5",
   "metadata": {},
   "source": [
    "## Concurrent runs\n",
    "\n",
    "The free community plan allows you to run parallel jobs via the `grid` feature. However, you cannot start a new execution until that one is done. If you need concurrent runs, you can subscribe to the Teams plan. If you're a student or researcher, join our [Slack](https://ploomber.io/community) and we'll lift the restrictions.\n",
    "\n",
    "To abort your latest run:\n",
    "\n",
    "```sh\n",
    "ploomber cloud abort @latest\n",
    "```"
   ]
  },
  {
   "cell_type": "markdown",
   "id": "4c10ce0d-f65e-4845-bf00-179ba3d787eb",
   "metadata": {},
   "source": [
    "## Debugging\n",
    "\n",
    "To see the status of your runs:\n",
    "\n",
    "```sh\n",
    "ploomber cloud list\n",
    "```\n",
    "\n",
    "To see tasks within a given run:\n",
    "\n",
    "```sh\n",
    "ploomber cloud status {runid}\n",
    "\n",
    "# or for the latest run\n",
    "ploomber cloud status @latest\n",
    "```\n",
    "\n",
    "Even if your notebook fails, the failed notebook is uploaded, you can use it for debugging:\n",
    "\n",
    "```sh\n",
    "ploomber cloud download 'path/to/notebook.ipynb'\n",
    "```\n",
    "\n",
    "To list existing files in your products workspace:\n",
    "\n",
    "```sh\n",
    "ploomber cloud products\n",
    "```\n",
    "\n",
    "To get the logs for all tasks in the run:\n",
    "\n",
    "```sh\n",
    "ploomber cloud logs {runid}\n",
    "\n",
    "# or for the latest run\n",
    "ploomber cloud logs @latest\n",
    "```\n",
    "\n",
    "To get the logs for the Docker building process:\n",
    "\n",
    "```sh\n",
    "ploomber cloud logs {runid} --image\n",
    "\n",
    "# or for the latest run\n",
    "ploomber cloud logs @latest --image\n",
    "```"
   ]
  }
 ],
 "metadata": {
  "kernelspec": {
   "display_name": "Bash",
   "language": "bash",
   "name": "bash"
  },
  "language_info": {
   "codemirror_mode": "shell",
   "file_extension": ".sh",
   "mimetype": "text/x-sh",
   "name": "bash"
  }
 },
 "nbformat": 4,
 "nbformat_minor": 5
}
