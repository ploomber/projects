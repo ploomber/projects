{
 "cells": [
  {
   "cell_type": "code",
   "execution_count": 2,
   "id": "b314d9fa-9cd8-45c0-9c62-ec07f1fa4be9",
   "metadata": {},
   "outputs": [],
   "source": [
    "# conda activate {env} doesn't work well here\n",
    "# so we manually modify the path\n",
    "PATH=$CONDA_PREFIX/envs/ploomber/bin:$PATH"
   ]
  },
  {
   "cell_type": "markdown",
   "id": "8e0bdb65-0ad3-4e92-9489-614e8fe6494a",
   "metadata": {},
   "source": [
    "# Running experiments in parallel\n",
    "\n",
    "You can parametrize notebooks and run multiple copies in parallel (each one with a different set of parameters). Let' see how!\n",
    "\n",
    "## Notebook configuration\n",
    "\n",
    "First, add a cell at the top of your notebook with the notebook parameters:\n",
    "\n",
    "```python\n",
    "# PARAMETERS\n",
    "n_estimators = 1\n",
    "```\n",
    "\n",
    "**Important:** You must add the comment `# PARAMETERS` in the cell.\n",
    "\n",
    "Next, ensure that such parameters are used in the notebook's body. Ploomber Cloud will change this values at runtime.\n",
    "\n",
    "Now, add another raw cell at the top (TODO: add a link to a FAQ in our docs explaining what a raw cell is and how to add it, include a screenshot in the FAQ).\n",
    "\n",
    "In the raw cell, put the parameter values you want to use under the `grid` section:\n",
    "\n",
    "```yaml\n",
    "grid:\n",
    "    n_estimators: [1, 5, 10, 20]\n",
    "```\n",
    "\n",
    "Your notebook can have more than one parameter. In such case, Ploomber Cloud will run the notebook with all possible combinations.\n",
    "\n",
    "*Note:* the raw cell must be a valid YAML string (TO DO: briefly explain what YAML is)"
   ]
  },
  {
   "cell_type": "markdown",
   "id": "8da3d15c-fb80-43c9-859e-99f201a167d8",
   "metadata": {},
   "source": [
    "## Submit notebook\n",
    "\n",
    "Let's submit a notebook that fits a regressor and uses 4 parameter values:"
   ]
  },
  {
   "cell_type": "code",
   "execution_count": 33,
   "id": "bf7caf2e-7280-42dd-a9dc-21a738feea4d",
   "metadata": {},
   "outputs": [
    {
     "name": "stdout",
     "output_type": "stream",
     "text": [
      "Uploading grid-92b7be78.ipynb...\n",
      "Triggering execution of grid-92b7be78.ipynb...\n",
      "\u001b[0m"
     ]
    }
   ],
   "source": [
    "ploomber cloud nb notebooks/grid.ipynb"
   ]
  },
  {
   "cell_type": "markdown",
   "id": "d0d38a06-c855-4d86-89d1-58e9f1fd5eaa",
   "metadata": {},
   "source": [
    "Check that the task was submitted:"
   ]
  },
  {
   "cell_type": "code",
   "execution_count": 13,
   "id": "05b7b792-2734-4f2c-b782-5c2142de5f33",
   "metadata": {},
   "outputs": [
    {
     "name": "stdout",
     "output_type": "stream",
     "text": [
      "created_at      runid                                 status\n",
      "--------------  ------------------------------------  --------\n",
      "27 seconds ago  55a91e67-0116-41c6-a12b-72d8a62598c8  created\n",
      "7 minutes ago   f8b099be-024f-42c0-87c7-ade5e171af63  failed\n",
      "25 minutes ago  89c5c4b5-aea8-4aaf-816d-a120b799b952  finished\n",
      "43 minutes ago  41fe4e15-fc0f-40bc-b07a-0d45457ba84b  finished\n",
      "52 minutes ago  ffe17c8c-a5a6-4561-a53a-5e7fd4045036  failed\n",
      "\u001b[0m"
     ]
    }
   ],
   "source": [
    "ploomber cloud list"
   ]
  },
  {
   "cell_type": "markdown",
   "id": "79040d2a-be66-482b-89a7-dadc16d36656",
   "metadata": {},
   "source": [
    "Wait for 1-2 minutes for the Docker image to build, you'll see the following message once it's done:"
   ]
  },
  {
   "cell_type": "code",
   "execution_count": 16,
   "id": "93512c08-06c4-405c-aceb-4791a01d1f69",
   "metadata": {},
   "outputs": [
    {
     "name": "stdout",
     "output_type": "stream",
     "text": [
      "[Container] 2022/10/21 13:26:33 Phase complete: BUILD State: SUCCEEDED\n",
      "\n",
      "[Container] 2022/10/21 13:26:33 Phase context status code:  Message: \n",
      "\n",
      "[Container] 2022/10/21 13:26:33 Entering phase POST_BUILD\n",
      "\n",
      "[Container] 2022/10/21 13:26:33 Phase complete: POST_BUILD State: SUCCEEDED\n",
      "\n",
      "[Container] 2022/10/21 13:26:33 Phase context status code:  Message: \n",
      "\n"
     ]
    }
   ],
   "source": [
    "ploomber cloud logs @latest --image | tail -n 10"
   ]
  },
  {
   "cell_type": "markdown",
   "id": "f10c1f35-9131-4c70-9cbf-ba1a49007e0b",
   "metadata": {},
   "source": [
    "Now you'll see that the notebook has `started`:"
   ]
  },
  {
   "cell_type": "code",
   "execution_count": 17,
   "id": "7e82c06d-bae9-4b99-81d9-d9f7800d4fcf",
   "metadata": {},
   "outputs": [
    {
     "name": "stdout",
     "output_type": "stream",
     "text": [
      "created_at     runid                                 status\n",
      "-------------  ------------------------------------  --------\n",
      "3 minutes ago  f858f6b3-9b3f-4c86-b55d-de23fcba045f  started\n",
      "an hour ago    2e0bae66-6c90-4ad5-84a9-b6cdb746a5af  finished\n",
      "11 hours ago   0dd11c31-3200-41cc-81ca-ff0f59bc03e7  finished\n",
      "11 hours ago   32e54117-4890-4001-93a3-beacc394e983  finished\n",
      "11 hours ago   3e30c17f-f789-4771-8b6a-7bf34d89d63e  finished\n",
      "\u001b[0m"
     ]
    }
   ],
   "source": [
    "ploomber cloud list"
   ]
  },
  {
   "cell_type": "markdown",
   "id": "6c2cc94d-05a4-494b-96d7-f6fb3438b13e",
   "metadata": {},
   "source": [
    "Let's see the status of each task (one task per parameter value):"
   ]
  },
  {
   "cell_type": "code",
   "execution_count": 19,
   "id": "a1ea35de-12ed-4446-b63d-8431f6a641f5",
   "metadata": {},
   "outputs": [
    {
     "name": "stdout",
     "output_type": "stream",
     "text": [
      "Geting latest ID...\n",
      "Got ID: f858f6b3-9b3f-4c86-b55d-de23fcba045f\n",
      "Unknown status: started\n",
      "taskid                     name             runid                      status\n",
      "-------------------------  ---------------  -------------------------  --------\n",
      "59f28ad3-1db2-494d-8de9-d  grid-7bd167c1-2  f858f6b3-9b3f-4c86-b55d-d  created\n",
      "33c9e6306f8                                 e23fcba045f\n",
      "7a318b97-6de8-4431-9f7c-6  grid-7bd167c1-0  f858f6b3-9b3f-4c86-b55d-d  created\n",
      "abd6c454e96                                 e23fcba045f\n",
      "8d07cc57-3fd7-44eb-a761-5  grid-7bd167c1-3  f858f6b3-9b3f-4c86-b55d-d  created\n",
      "50ab3bacd28                                 e23fcba045f\n",
      "26098820-1487-4a47-af36-b  grid-7bd167c1-1  f858f6b3-9b3f-4c86-b55d-d  created\n",
      "179f09055b6                                 e23fcba045f\n",
      "\u001b[0m"
     ]
    }
   ],
   "source": [
    "ploomber cloud status @latest"
   ]
  },
  {
   "cell_type": "markdown",
   "id": "5ca9ba25-13dc-40de-aee6-86306b035106",
   "metadata": {},
   "source": [
    "After a few minutes, they are done:"
   ]
  },
  {
   "cell_type": "code",
   "execution_count": 35,
   "id": "c92bbb10-4f02-4e4d-8026-e05636d168a5",
   "metadata": {},
   "outputs": [
    {
     "name": "stdout",
     "output_type": "stream",
     "text": [
      "Geting latest ID...\n",
      "Got ID: 6f4c14dd-f8ca-4704-9e0f-f80b2d1301ff\n",
      "Pipeline finished...\n",
      "taskid                     name             runid                      status\n",
      "-------------------------  ---------------  -------------------------  --------\n",
      "9e091632-d57f-4cc3-81f9-4  grid-92b7be78-3  6f4c14dd-f8ca-4704-9e0f-f  finished\n",
      "9147be31c8d                                 80b2d1301ff\n",
      "4ef8a7f3-6afe-4ca9-9f59-e  grid-92b7be78-2  6f4c14dd-f8ca-4704-9e0f-f  finished\n",
      "898730b297a                                 80b2d1301ff\n",
      "fb744f5d-afb9-4c60-8e16-9  grid-92b7be78-0  6f4c14dd-f8ca-4704-9e0f-f  finished\n",
      "7cb681f1579                                 80b2d1301ff\n",
      "d6aa6e1e-f861-43d7-a55a-8  grid-92b7be78-1  6f4c14dd-f8ca-4704-9e0f-f  finished\n",
      "96e2586921d                                 80b2d1301ff\n",
      "\u001b[0m"
     ]
    }
   ],
   "source": [
    "ploomber cloud status @latest"
   ]
  },
  {
   "cell_type": "markdown",
   "id": "c38d2a76-0f7e-4f29-b941-1a4c555153e4",
   "metadata": {},
   "source": [
    "Let's see what's in our outputs workspace:"
   ]
  },
  {
   "cell_type": "code",
   "execution_count": 36,
   "id": "ae6b0422-4c0d-4d19-b04c-79140a037277",
   "metadata": {},
   "outputs": [
    {
     "name": "stdout",
     "output_type": "stream",
     "text": [
      "path\n",
      "-----------------------------------------------------\n",
      "grid-27f5c7e1/output/notebook-n_estimators=1-0.ipynb\n",
      "grid-27f5c7e1/output/notebook-n_estimators=10-2.ipynb\n",
      "grid-27f5c7e1/output/notebook-n_estimators=20-3.ipynb\n",
      "grid-27f5c7e1/output/notebook-n_estimators=5-1.ipynb\n",
      "grid-3a53522a/output/notebook-n_estimators=1-0.ipynb\n",
      "grid-3a53522a/output/notebook-n_estimators=10-2.ipynb\n",
      "grid-3a53522a/output/notebook-n_estimators=20-3.ipynb\n",
      "grid-3a53522a/output/notebook-n_estimators=5-1.ipynb\n",
      "grid-7bd167c1/output/notebook-n_estimators=1-0.ipynb\n",
      "grid-7bd167c1/output/notebook-n_estimators=10-2.ipynb\n",
      "grid-7bd167c1/output/notebook-n_estimators=20-3.ipynb\n",
      "grid-7bd167c1/output/notebook-n_estimators=5-1.ipynb\n",
      "grid-92b7be78/output/notebook-n_estimators=1-0.ipynb\n",
      "grid-92b7be78/output/notebook-n_estimators=10-2.ipynb\n",
      "grid-92b7be78/output/notebook-n_estimators=20-3.ipynb\n",
      "grid-92b7be78/output/notebook-n_estimators=5-1.ipynb\n",
      "output-1c12b73a/nb.ipynb\n",
      "output-3e80e326/nb.ipynb\n",
      "output-eaf1fbd7/nb.ipynb\n",
      "penguins-classification/output/notebook.ipynb\n",
      "plot-d9f75d8f/output/notebook.ipynb\n",
      "simple-f2c6a12b/output/notebook.ipynb\n",
      "\u001b[0m"
     ]
    }
   ],
   "source": [
    "ploomber cloud products"
   ]
  },
  {
   "cell_type": "markdown",
   "id": "424d4b03-6ff1-4ce9-86ed-a06617bc5964",
   "metadata": {},
   "source": [
    "Download all the executed notebooks:"
   ]
  },
  {
   "cell_type": "code",
   "execution_count": null,
   "id": "b1fb33eb-7551-40a3-ad66-425c9f2a55e4",
   "metadata": {},
   "outputs": [],
   "source": [
    "ploomber cloud download 'grid-92b7be78/*'"
   ]
  },
  {
   "cell_type": "markdown",
   "id": "b84abbdb-be71-4d82-9259-8867e8c000d7",
   "metadata": {},
   "source": [
    "Note that we're using the identifier printed when we submitted the notebook."
   ]
  },
  {
   "cell_type": "markdown",
   "id": "ac3d6847-77eb-4ab9-bef0-20693e60d2e6",
   "metadata": {},
   "source": [
    "# Uploading input data\n",
    "\n",
    "If your notebook requires input data, you can upload it.\n",
    "\n",
    "Let's see what happens if we try to run a notebook with missing input data:"
   ]
  },
  {
   "cell_type": "code",
   "execution_count": 24,
   "id": "2f211100-f973-42f3-8d02-78094d986c15",
   "metadata": {},
   "outputs": [
    {
     "name": "stdout",
     "output_type": "stream",
     "text": [
      "Uploading input-data-c96b0748.ipynb...\n",
      "Triggering execution of input-data-c96b0748.ipynb...\n",
      "Error: Error validating inputs/outputs: {'missing': {'../data/penguins.csv'}} (status: 400)\n",
      "\u001b[0m"
     ]
    },
    {
     "ename": "",
     "evalue": "1",
     "output_type": "error",
     "traceback": []
    }
   ],
   "source": [
    "ploomber cloud nb notebooks/input-data.ipynb"
   ]
  },
  {
   "cell_type": "markdown",
   "id": "a28fb344-03b2-4fb2-96bb-58e2a6b5722b",
   "metadata": {},
   "source": [
    "Ploomber Cloud will parse your notebook and look for referenced files. If they're missing in your data workspace, it'll show an error like the one above.\n",
    "\n",
    "In our notebook, we have the following line:\n",
    "\n",
    "```python\n",
    "df = pd.read_csv('../data/penguins.csv')\n",
    "```\n",
    "\n",
    "Ploomber realizes you're using a local file at `../data/penguins.csv`. Since files can be either inputs or outputs, you have to indicate Ploomber what they are. To fix this, add a raw cell (TODO: add a link to a FAQ in our docs explaining what a raw cell is and how to add it) at the top:\n",
    "\n",
    "```yaml\n",
    "# this determines where to look for input data and where\n",
    "# to store outputs\n",
    "prefix: penguins-classification\n",
    "\n",
    "# for each path in our notebook, indicate if it's an input or output\n",
    "# the values must be the same as in your notebook\n",
    "inputs:\n",
    "    - ../data/penguins.csv\n",
    "\n",
    "# no outputs, so no need to add an \"outputs\" section\n",
    "```\n",
    "\n",
    "Let's run a notebook that contains the raw cell:"
   ]
  },
  {
   "cell_type": "code",
   "execution_count": 25,
   "id": "69d6ae6d-55ea-4fd8-816b-2690b141f8b1",
   "metadata": {},
   "outputs": [
    {
     "name": "stdout",
     "output_type": "stream",
     "text": [
      "Uploading input-data-with-raw-cell-e6620d67.ipynb...\n",
      "Triggering execution of input-data-with-raw-cell-e6620d67.ipynb...\n",
      "Error: Cannot start execution. The following inputs are missing:\n",
      "\t- ../data/penguins.csv\n",
      "Upload them to your data workspace or using the CLI: \n",
      "ploomber cloud data --upload ../data/penguins.csv --prefix penguins-classification/input --name data-penguins.csv\n",
      " (status: 400)\n",
      "\u001b[0m"
     ]
    },
    {
     "ename": "",
     "evalue": "1",
     "output_type": "error",
     "traceback": []
    }
   ],
   "source": [
    "ploomber cloud nb notebooks/input-data-with-raw-cell.ipynb"
   ]
  },
  {
   "cell_type": "markdown",
   "id": "e6728e53-cb20-4c60-99a9-7a76cbc9d8e0",
   "metadata": {},
   "source": [
    "This time, Ploomber Cloud is telling us the files are not in our data workspace. So let's upload it:\n",
    "\n",
    "First, let's get the data:"
   ]
  },
  {
   "cell_type": "code",
   "execution_count": 26,
   "id": "ab93d8c4-483f-40c6-88d5-5f8de0f84198",
   "metadata": {},
   "outputs": [
    {
     "name": "stdout",
     "output_type": "stream",
     "text": [
      "  % Total    % Received % Xferd  Average Speed   Time    Time     Time  Current\n",
      "                                 Dload  Upload   Total   Spent    Left  Speed\n",
      "100 13478  100 13478    0     0  47835      0 --:--:-- --:--:-- --:--:-- 47964\n"
     ]
    }
   ],
   "source": [
    "curl https://raw.githubusercontent.com/mwaskom/seaborn-data/master/penguins.csv -o penguins.csv"
   ]
  },
  {
   "cell_type": "markdown",
   "id": "5d1e534c-22da-4023-8b19-f1b98d53f20a",
   "metadata": {},
   "source": [
    "Use the command printed in the error message:"
   ]
  },
  {
   "cell_type": "code",
   "execution_count": 27,
   "id": "d9b08af0-d3ea-4069-928d-a5a2738c285f",
   "metadata": {},
   "outputs": [
    {
     "name": "stdout",
     "output_type": "stream",
     "text": [
      "Uploading data-penguins.csv...\n",
      "\u001b[0m"
     ]
    }
   ],
   "source": [
    "ploomber cloud data \\\n",
    "    # NOTE: you may need to change the path\n",
    "    # in the --upload argument if\n",
    "    # the file is somewhere else\n",
    "    --upload penguins.csv \\\n",
    "    --prefix penguins-classification/input \\\n",
    "    --name data-penguins.csv"
   ]
  },
  {
   "cell_type": "markdown",
   "id": "181fb0dd-8624-4dff-b4bc-41ae4465f1db",
   "metadata": {},
   "source": [
    "Let's submit the notebook:"
   ]
  },
  {
   "cell_type": "code",
   "execution_count": 37,
   "id": "59454f9b-b7c7-429d-bf63-e4b29113b1fe",
   "metadata": {},
   "outputs": [
    {
     "name": "stdout",
     "output_type": "stream",
     "text": [
      "Uploading input-data-with-raw-cell-48d064fe.ipynb...\n",
      "Triggering execution of input-data-with-raw-cell-48d064fe.ipynb...\n",
      "\u001b[0m"
     ]
    }
   ],
   "source": [
    "ploomber cloud nb notebooks/input-data-with-raw-cell.ipynb"
   ]
  },
  {
   "cell_type": "markdown",
   "id": "eb67d68c-a046-4b4f-bd45-d1093674507b",
   "metadata": {},
   "source": [
    "Wait for a couple of minutes to finish (`status` will appear as `finished`):"
   ]
  },
  {
   "cell_type": "code",
   "execution_count": 40,
   "id": "42c3d1d7-421b-4232-8436-4a6a81841e9f",
   "metadata": {},
   "outputs": [
    {
     "name": "stdout",
     "output_type": "stream",
     "text": [
      "created_at      runid                                 status\n",
      "--------------  ------------------------------------  --------\n",
      "6 minutes ago   4608ad54-82c0-425e-8af4-d556cdf03268  finished\n",
      "12 minutes ago  6f4c14dd-f8ca-4704-9e0f-f80b2d1301ff  finished\n",
      "20 minutes ago  2c4335bf-bf08-4b8c-a183-4c3a4aadf7f5  failed\n",
      "30 minutes ago  55a91e67-0116-41c6-a12b-72d8a62598c8  failed\n",
      "36 minutes ago  f8b099be-024f-42c0-87c7-ade5e171af63  failed\n",
      "\u001b[0m"
     ]
    }
   ],
   "source": [
    "ploomber cloud list"
   ]
  },
  {
   "cell_type": "markdown",
   "id": "1e6134fa-edc2-4f6a-910c-22dd33ff8186",
   "metadata": {},
   "source": [
    "The `prefix` in the raw cell determines where the outputs are stored. Hence, to download all outputs:"
   ]
  },
  {
   "cell_type": "code",
   "execution_count": 42,
   "id": "978b891f-4d43-451c-a8ed-bd3eeccc392c",
   "metadata": {},
   "outputs": [
    {
     "name": "stdout",
     "output_type": "stream",
     "text": [
      "Writing file into path penguins-classification/output/.notebook.ipynb.metadata\n",
      "Writing file into path penguins-classification/output/notebook.ipynb\n",
      "\u001b[0m"
     ]
    }
   ],
   "source": [
    "ploomber cloud download 'penguins-classification/*'"
   ]
  },
  {
   "cell_type": "markdown",
   "id": "22301e93-03d1-4b86-ba9f-76621354be78",
   "metadata": {},
   "source": [
    "# Notebook artifacts\n",
    "\n",
    "```yaml\n",
    "prefix: some-experiment\n",
    "\n",
    "outputs:\n",
    "    - path/to/model.pickle\n",
    "```"
   ]
  },
  {
   "cell_type": "markdown",
   "id": "92cd2869-1e25-4a46-b236-44aeb6781a0f",
   "metadata": {},
   "source": [
    "# Requesting more memory, CPU and GPU\n",
    "\n",
    "You can request more resources for your notebook execution by adding the following in the raw cell:\n",
    "\n",
    "```yaml\n",
    "task_resources:\n",
    "    vcpus: 8 # number of CPUs\n",
    "    memory: 16384 # memory in MiB\n",
    "```\n",
    "\n",
    "See the`notebooks/resources.ipynb` notebook for an example.\n",
    "\n",
    "**Note:** The free community plan is capped to 2 CPUS and 4GiB of memory and no GPUs. If you need more resources, you can subscribe to the Teams plan. If you're a student or researcher, join our [Slack](https://ploomber.io/community) and we'll lift the restrictions."
   ]
  },
  {
   "cell_type": "markdown",
   "id": "9eff5c0b-542c-4487-b1c7-5fc5599c79ff",
   "metadata": {},
   "source": [
    "# Specify package versions\n",
    "\n",
    "By default, Ploomber Cloud will parse your `import` statements and install the latest version. If you want a specific version, add this in your raw cell:\n",
    "\n",
    "```yaml\n",
    "dependencies:\n",
    "    - matplotlib==3.5.3\n",
    "    - scikit-learn==1.1.0\n",
    "```\n",
    "\n",
    "\n",
    "See the`notebooks/dependencies.ipynb` notebook for an example."
   ]
  },
  {
   "cell_type": "markdown",
   "id": "c50f964e-9557-4eed-92dc-93c1e3f67fa5",
   "metadata": {},
   "source": [
    "## Concurrent runs\n",
    "\n",
    "The free community plan allows you to run parallel jobs via the `grid` feature. However, you cannot start a new execution until that one is done. If you need concurrent runs, you can subscribe to the Teams plan. If you're a student or researcher, join our [Slack](https://ploomber.io/community) and we'll lift the restrictions.\n",
    "\n",
    "To abort your latest run:\n",
    "\n",
    "```sh\n",
    "ploomber cloud abort @latest\n",
    "```"
   ]
  },
  {
   "cell_type": "markdown",
   "id": "4c10ce0d-f65e-4845-bf00-179ba3d787eb",
   "metadata": {},
   "source": [
    "# Debugging\n",
    "\n",
    "To see the status of your runs:\n",
    "\n",
    "```sh\n",
    "ploomber cloud list\n",
    "```\n",
    "\n",
    "To see tasks within a given run:\n",
    "\n",
    "```sh\n",
    "ploomber cloud status {runid}\n",
    "\n",
    "# or for the latest run\n",
    "ploomber cloud status @latest\n",
    "```\n",
    "\n",
    "Even if your notebook fails, the failed notebook is uploaded, you can use it for debugging:\n",
    "\n",
    "```sh\n",
    "ploomber cloud download 'path/to/notebook.ipynb'\n",
    "```\n",
    "\n",
    "To list existing files in your products workspace:\n",
    "\n",
    "```sh\n",
    "ploomber cloud products\n",
    "```\n",
    "\n",
    "To get the logs for all tasks in the run:\n",
    "\n",
    "```sh\n",
    "ploomber cloud logs {runid}\n",
    "\n",
    "# or for the latest run\n",
    "ploomber cloud logs @latest\n",
    "```\n",
    "\n",
    "To get the logs for the Docker building process:\n",
    "\n",
    "```sh\n",
    "ploomber cloud logs {runid} --image\n",
    "\n",
    "# or for the latest run\n",
    "ploomber cloud logs @latest --image\n",
    "```"
   ]
  }
 ],
 "metadata": {
  "kernelspec": {
   "display_name": "Bash",
   "language": "bash",
   "name": "bash"
  },
  "language_info": {
   "codemirror_mode": "shell",
   "file_extension": ".sh",
   "mimetype": "text/x-sh",
   "name": "bash"
  }
 },
 "nbformat": 4,
 "nbformat_minor": 5
}
