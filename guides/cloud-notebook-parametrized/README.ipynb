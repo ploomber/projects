{
 "cells": [
  {
   "cell_type": "code",
   "execution_count": 1,
   "id": "b314d9fa-9cd8-45c0-9c62-ec07f1fa4be9",
   "metadata": {},
   "outputs": [],
   "source": [
    "# conda activate {env} doesn't work well here\n",
    "# so we manually modify the path\n",
    "PATH=$CONDA_PREFIX/envs/ploomber/bin:$PATH"
   ]
  },
  {
   "cell_type": "markdown",
   "id": "8e0bdb65-0ad3-4e92-9489-614e8fe6494a",
   "metadata": {},
   "source": [
    "# Running experiments in parallel\n",
    "\n",
    "- explain the top raw cell with config and how to add it\n",
    "- explain the parameters cell"
   ]
  },
  {
   "cell_type": "code",
   "execution_count": 9,
   "id": "bf7caf2e-7280-42dd-a9dc-21a738feea4d",
   "metadata": {},
   "outputs": [
    {
     "name": "stdout",
     "output_type": "stream",
     "text": [
      "Uploading grid-7bd167c1.ipynb...\n",
      "Triggering execution of grid-7bd167c1.ipynb...\n",
      "\u001b[0m"
     ]
    }
   ],
   "source": [
    "ploomber cloud nb notebooks/grid.ipynb"
   ]
  },
  {
   "cell_type": "markdown",
   "id": "d0d38a06-c855-4d86-89d1-58e9f1fd5eaa",
   "metadata": {},
   "source": [
    "Check that the task was submitted:"
   ]
  },
  {
   "cell_type": "code",
   "execution_count": 10,
   "id": "05b7b792-2734-4f2c-b782-5c2142de5f33",
   "metadata": {},
   "outputs": [
    {
     "name": "stdout",
     "output_type": "stream",
     "text": [
      "created_at      runid                                 status\n",
      "--------------  ------------------------------------  --------\n",
      "20 seconds ago  f858f6b3-9b3f-4c86-b55d-de23fcba045f  created\n",
      "an hour ago     2e0bae66-6c90-4ad5-84a9-b6cdb746a5af  finished\n",
      "10 hours ago    0dd11c31-3200-41cc-81ca-ff0f59bc03e7  finished\n",
      "11 hours ago    32e54117-4890-4001-93a3-beacc394e983  finished\n",
      "11 hours ago    3e30c17f-f789-4771-8b6a-7bf34d89d63e  finished\n",
      "\u001b[0m"
     ]
    }
   ],
   "source": [
    "ploomber cloud list"
   ]
  },
  {
   "cell_type": "markdown",
   "id": "79040d2a-be66-482b-89a7-dadc16d36656",
   "metadata": {},
   "source": [
    "Wait for 1-2 minutes for the Docker image to build, you'll see this once it's done:"
   ]
  },
  {
   "cell_type": "code",
   "execution_count": 16,
   "id": "93512c08-06c4-405c-aceb-4791a01d1f69",
   "metadata": {},
   "outputs": [
    {
     "name": "stdout",
     "output_type": "stream",
     "text": [
      "[Container] 2022/10/21 13:26:33 Phase complete: BUILD State: SUCCEEDED\n",
      "\n",
      "[Container] 2022/10/21 13:26:33 Phase context status code:  Message: \n",
      "\n",
      "[Container] 2022/10/21 13:26:33 Entering phase POST_BUILD\n",
      "\n",
      "[Container] 2022/10/21 13:26:33 Phase complete: POST_BUILD State: SUCCEEDED\n",
      "\n",
      "[Container] 2022/10/21 13:26:33 Phase context status code:  Message: \n",
      "\n"
     ]
    }
   ],
   "source": [
    "ploomber cloud logs @latest --image | tail -n 10"
   ]
  },
  {
   "cell_type": "markdown",
   "id": "f10c1f35-9131-4c70-9cbf-ba1a49007e0b",
   "metadata": {},
   "source": [
    "Now you'll see that the notebook has `started`:"
   ]
  },
  {
   "cell_type": "code",
   "execution_count": 17,
   "id": "7e82c06d-bae9-4b99-81d9-d9f7800d4fcf",
   "metadata": {},
   "outputs": [
    {
     "name": "stdout",
     "output_type": "stream",
     "text": [
      "created_at     runid                                 status\n",
      "-------------  ------------------------------------  --------\n",
      "3 minutes ago  f858f6b3-9b3f-4c86-b55d-de23fcba045f  started\n",
      "an hour ago    2e0bae66-6c90-4ad5-84a9-b6cdb746a5af  finished\n",
      "11 hours ago   0dd11c31-3200-41cc-81ca-ff0f59bc03e7  finished\n",
      "11 hours ago   32e54117-4890-4001-93a3-beacc394e983  finished\n",
      "11 hours ago   3e30c17f-f789-4771-8b6a-7bf34d89d63e  finished\n",
      "\u001b[0m"
     ]
    }
   ],
   "source": [
    "ploomber cloud list"
   ]
  },
  {
   "cell_type": "markdown",
   "id": "6c2cc94d-05a4-494b-96d7-f6fb3438b13e",
   "metadata": {},
   "source": [
    "Let's see the status of each individual task:"
   ]
  },
  {
   "cell_type": "code",
   "execution_count": 19,
   "id": "a1ea35de-12ed-4446-b63d-8431f6a641f5",
   "metadata": {},
   "outputs": [
    {
     "name": "stdout",
     "output_type": "stream",
     "text": [
      "Geting latest ID...\n",
      "Got ID: f858f6b3-9b3f-4c86-b55d-de23fcba045f\n",
      "Unknown status: started\n",
      "taskid                     name             runid                      status\n",
      "-------------------------  ---------------  -------------------------  --------\n",
      "59f28ad3-1db2-494d-8de9-d  grid-7bd167c1-2  f858f6b3-9b3f-4c86-b55d-d  created\n",
      "33c9e6306f8                                 e23fcba045f\n",
      "7a318b97-6de8-4431-9f7c-6  grid-7bd167c1-0  f858f6b3-9b3f-4c86-b55d-d  created\n",
      "abd6c454e96                                 e23fcba045f\n",
      "8d07cc57-3fd7-44eb-a761-5  grid-7bd167c1-3  f858f6b3-9b3f-4c86-b55d-d  created\n",
      "50ab3bacd28                                 e23fcba045f\n",
      "26098820-1487-4a47-af36-b  grid-7bd167c1-1  f858f6b3-9b3f-4c86-b55d-d  created\n",
      "179f09055b6                                 e23fcba045f\n",
      "\u001b[0m"
     ]
    }
   ],
   "source": [
    "ploomber cloud status @latest"
   ]
  },
  {
   "cell_type": "markdown",
   "id": "5ca9ba25-13dc-40de-aee6-86306b035106",
   "metadata": {},
   "source": [
    "After a few minutes, they are done:"
   ]
  },
  {
   "cell_type": "code",
   "execution_count": 21,
   "id": "c92bbb10-4f02-4e4d-8026-e05636d168a5",
   "metadata": {},
   "outputs": [
    {
     "name": "stdout",
     "output_type": "stream",
     "text": [
      "Geting latest ID...\n",
      "Got ID: f858f6b3-9b3f-4c86-b55d-de23fcba045f\n",
      "Pipeline failed...\n",
      "taskid                     name             runid                      status\n",
      "-------------------------  ---------------  -------------------------  --------\n",
      "59f28ad3-1db2-494d-8de9-d  grid-7bd167c1-2  f858f6b3-9b3f-4c86-b55d-d  failed\n",
      "33c9e6306f8                                 e23fcba045f\n",
      "7a318b97-6de8-4431-9f7c-6  grid-7bd167c1-0  f858f6b3-9b3f-4c86-b55d-d  failed\n",
      "abd6c454e96                                 e23fcba045f\n",
      "8d07cc57-3fd7-44eb-a761-5  grid-7bd167c1-3  f858f6b3-9b3f-4c86-b55d-d  failed\n",
      "50ab3bacd28                                 e23fcba045f\n",
      "26098820-1487-4a47-af36-b  grid-7bd167c1-1  f858f6b3-9b3f-4c86-b55d-d  failed\n",
      "179f09055b6                                 e23fcba045f\n",
      "\u001b[0m"
     ]
    }
   ],
   "source": [
    "ploomber cloud status @latest"
   ]
  },
  {
   "cell_type": "code",
   "execution_count": 25,
   "id": "a533bb63-2adb-4cc4-b384-b838601c75d1",
   "metadata": {},
   "outputs": [],
   "source": [
    "# ploomber cloud logs @latest"
   ]
  },
  {
   "cell_type": "markdown",
   "id": "ac3d6847-77eb-4ab9-bef0-20693e60d2e6",
   "metadata": {},
   "source": [
    "# Uploading input data\n",
    "\n",
    "If your notebook requires input data, you can upload it to the cloud. Let's see what happens if we try to run a notebook with missing input data:"
   ]
  },
  {
   "cell_type": "code",
   "execution_count": 26,
   "id": "2f211100-f973-42f3-8d02-78094d986c15",
   "metadata": {},
   "outputs": [
    {
     "name": "stdout",
     "output_type": "stream",
     "text": [
      "Uploading input-data-dea2d666.ipynb...\n",
      "Triggering execution of input-data-dea2d666.ipynb...\n",
      "Error: Error validating inputs/outputs: {'missing': {'../data/penguins.csv'}} (status: 400)\n",
      "\u001b[0m"
     ]
    },
    {
     "ename": "",
     "evalue": "1",
     "output_type": "error",
     "traceback": []
    }
   ],
   "source": [
    "ploomber cloud nb notebooks/input-data.ipynb"
   ]
  },
  {
   "cell_type": "markdown",
   "id": "a28fb344-03b2-4fb2-96bb-58e2a6b5722b",
   "metadata": {},
   "source": [
    "Mention that prefix is required here, otherwise Ploomber will add a unique ID:"
   ]
  },
  {
   "cell_type": "code",
   "execution_count": 30,
   "id": "69d6ae6d-55ea-4fd8-816b-2690b141f8b1",
   "metadata": {},
   "outputs": [
    {
     "name": "stdout",
     "output_type": "stream",
     "text": [
      "Uploading input-data-with-raw-cell-05693b8a.ipynb...\n",
      "Triggering execution of input-data-with-raw-cell-05693b8a.ipynb...\n",
      "Error: Cannot start execution. The following inputs are missing:\n",
      "\t- ../data/penguins.csv\n",
      "Upload them to your data workspace or using the CLI: \n",
      "ploomber cloud data --upload ../data/penguins.csv --prefix penguins-classification/input --name data-penguins.csv\n",
      " (status: 400)\n",
      "\u001b[0m"
     ]
    },
    {
     "ename": "",
     "evalue": "1",
     "output_type": "error",
     "traceback": []
    }
   ],
   "source": [
    "ploomber cloud nb notebooks/input-data-with-raw-cell.ipynb"
   ]
  },
  {
   "cell_type": "markdown",
   "id": "e6728e53-cb20-4c60-99a9-7a76cbc9d8e0",
   "metadata": {},
   "source": [
    "Let's get the data:"
   ]
  },
  {
   "cell_type": "code",
   "execution_count": 15,
   "id": "ab93d8c4-483f-40c6-88d5-5f8de0f84198",
   "metadata": {},
   "outputs": [
    {
     "name": "stdout",
     "output_type": "stream",
     "text": [
      "  % Total    % Received % Xferd  Average Speed   Time    Time     Time  Current\n",
      "                                 Dload  Upload   Total   Spent    Left  Speed\n",
      "100 13478  100 13478    0     0  98130      0 --:--:-- --:--:-- --:--:-- 98379\n"
     ]
    }
   ],
   "source": [
    "mkdir -p data\n",
    "curl https://raw.githubusercontent.com/mwaskom/seaborn-data/master/penguins.csv -o data/penguins.csv"
   ]
  },
  {
   "cell_type": "markdown",
   "id": "5d1e534c-22da-4023-8b19-f1b98d53f20a",
   "metadata": {},
   "source": [
    "Use the command printed above:"
   ]
  },
  {
   "cell_type": "code",
   "execution_count": 33,
   "id": "d9b08af0-d3ea-4069-928d-a5a2738c285f",
   "metadata": {},
   "outputs": [
    {
     "name": "stdout",
     "output_type": "stream",
     "text": [
      "Uploading data-penguins.csv...\n",
      "\u001b[0m"
     ]
    }
   ],
   "source": [
    "# NOTE: you may need to change the path in the --upload argument if\n",
    "# the file is somewhere else\n",
    "ploomber cloud data --upload data/penguins.csv \\\n",
    "    --prefix penguins-classification/input \\\n",
    "    --name data-penguins.csv"
   ]
  },
  {
   "cell_type": "code",
   "execution_count": 40,
   "id": "59454f9b-b7c7-429d-bf63-e4b29113b1fe",
   "metadata": {},
   "outputs": [
    {
     "name": "stdout",
     "output_type": "stream",
     "text": [
      "Uploading input-data-with-raw-cell-6bf5382f.ipynb...\n",
      "Triggering execution of input-data-with-raw-cell-6bf5382f.ipynb...\n",
      "\u001b[0m"
     ]
    }
   ],
   "source": [
    "ploomber cloud nb notebooks/input-data-with-raw-cell.ipynb"
   ]
  },
  {
   "cell_type": "markdown",
   "id": "eb67d68c-a046-4b4f-bd45-d1093674507b",
   "metadata": {},
   "source": [
    "Wait for a couple of minutes:"
   ]
  },
  {
   "cell_type": "code",
   "execution_count": 48,
   "id": "42c3d1d7-421b-4232-8436-4a6a81841e9f",
   "metadata": {},
   "outputs": [
    {
     "name": "stdout",
     "output_type": "stream",
     "text": [
      "created_at      runid                                 status\n",
      "--------------  ------------------------------------  --------\n",
      "4 minutes ago   41fe4e15-fc0f-40bc-b07a-0d45457ba84b  finished\n",
      "14 minutes ago  ffe17c8c-a5a6-4561-a53a-5e7fd4045036  failed\n",
      "55 minutes ago  f858f6b3-9b3f-4c86-b55d-de23fcba045f  failed\n",
      "2 hours ago     2e0bae66-6c90-4ad5-84a9-b6cdb746a5af  finished\n",
      "11 hours ago    0dd11c31-3200-41cc-81ca-ff0f59bc03e7  finished\n",
      "\u001b[0m"
     ]
    }
   ],
   "source": [
    "ploomber cloud list"
   ]
  },
  {
   "cell_type": "markdown",
   "id": "1e6134fa-edc2-4f6a-910c-22dd33ff8186",
   "metadata": {},
   "source": [
    "Explain that the prefix determines where the outputs are stored:"
   ]
  },
  {
   "cell_type": "code",
   "execution_count": 52,
   "id": "978b891f-4d43-451c-a8ed-bd3eeccc392c",
   "metadata": {},
   "outputs": [
    {
     "name": "stdout",
     "output_type": "stream",
     "text": [
      "Writing file into path penguins-classification/output/.notebook.ipynb.metadata\n",
      "Writing file into path penguins-classification/output/notebook.ipynb\n",
      "\u001b[0m"
     ]
    }
   ],
   "source": [
    "ploomber cloud download 'penguins-classification/*'"
   ]
  },
  {
   "cell_type": "markdown",
   "id": "22301e93-03d1-4b86-ba9f-76621354be78",
   "metadata": {},
   "source": [
    "# Organizing artifacts\n",
    "\n",
    "```yaml\n",
    "prefix: some-experiment\n",
    "```"
   ]
  },
  {
   "cell_type": "markdown",
   "id": "92cd2869-1e25-4a46-b236-44aeb6781a0f",
   "metadata": {},
   "source": [
    "# Requesting more memory, CPU and GPU\n",
    "\n",
    "```yaml\n",
    "task_resources:\n",
    "    vcpus: 8 # number of CPUs\n",
    "    memory: 16384 # memory in MiB\n",
    "```\n",
    "\n",
    "`resources.ipynb`"
   ]
  },
  {
   "cell_type": "markdown",
   "id": "9eff5c0b-542c-4487-b1c7-5fc5599c79ff",
   "metadata": {},
   "source": [
    "# Specify package versions\n",
    "\n",
    "```yaml\n",
    "dependencies:\n",
    "    - matplotlib==3.5.3\n",
    "    - scikit-learn==1.1.0\n",
    "```\n",
    "\n",
    "`dependencies.ipynb`"
   ]
  },
  {
   "cell_type": "markdown",
   "id": "4c10ce0d-f65e-4845-bf00-179ba3d787eb",
   "metadata": {},
   "source": [
    "# Debugging\n",
    "\n",
    "- image logs\n",
    "- task logs\n",
    "- downloading artifacts"
   ]
  },
  {
   "cell_type": "code",
   "execution_count": null,
   "id": "7135312c-9edf-46e7-8454-cd32466b3820",
   "metadata": {},
   "outputs": [],
   "source": []
  }
 ],
 "metadata": {
  "kernelspec": {
   "display_name": "Bash",
   "language": "bash",
   "name": "bash"
  },
  "language_info": {
   "codemirror_mode": "shell",
   "file_extension": ".sh",
   "mimetype": "text/x-sh",
   "name": "bash"
  }
 },
 "nbformat": 4,
 "nbformat_minor": 5
}
