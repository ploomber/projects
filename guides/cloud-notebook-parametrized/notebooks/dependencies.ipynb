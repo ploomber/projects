{
 "cells": [
  {
   "cell_type": "raw",
   "id": "f2f14efb-bc5d-403d-aac5-2606fe5cd637",
   "metadata": {},
   "source": [
    "dependencies:\n",
    "    - matplotlib==3.5.3\n",
    "    - scikit-learn==1.1.0"
   ]
  },
  {
   "cell_type": "markdown",
   "id": "b4fd5ef3",
   "metadata": {},
   "source": [
    "# Predicting median house value"
   ]
  },
  {
   "cell_type": "code",
   "execution_count": 1,
   "id": "19301032-d6ba-4bed-92b1-20cec276f7bd",
   "metadata": {},
   "outputs": [],
   "source": [
    "# PARAMETERS\n",
    "n_estimators = 1"
   ]
  },
  {
   "cell_type": "markdown",
   "id": "aa7b3e38-a92a-4f86-b9e4-24fad62e0452",
   "metadata": {},
   "source": [
    "## Load"
   ]
  },
  {
   "cell_type": "code",
   "execution_count": null,
   "id": "eeb2cf73",
   "metadata": {},
   "outputs": [],
   "source": [
    "from sklearn import datasets\n",
    "import seaborn as sns\n",
    "import matplotlib.pyplot as plt\n",
    "import matplotlib as mpl"
   ]
  },
  {
   "cell_type": "code",
   "execution_count": null,
   "id": "998758c2",
   "metadata": {},
   "outputs": [],
   "source": [
    "plt.style.use('ggplot')\n",
    "mpl.rcParams['figure.figsize'] = (12, 8)"
   ]
  },
  {
   "cell_type": "code",
   "execution_count": null,
   "id": "e086cb3b",
   "metadata": {},
   "outputs": [],
   "source": [
    "ca_housing = datasets.fetch_california_housing(as_frame=True)\n",
    "df = ca_housing['frame']"
   ]
  },
  {
   "cell_type": "code",
   "execution_count": null,
   "id": "f36e08e3",
   "metadata": {},
   "outputs": [],
   "source": [
    "df.head()"
   ]
  },
  {
   "cell_type": "markdown",
   "id": "5d74aeca",
   "metadata": {},
   "source": [
    "## Clean"
   ]
  },
  {
   "cell_type": "code",
   "execution_count": null,
   "id": "baaa3690",
   "metadata": {},
   "outputs": [],
   "source": [
    "# let's say we're only interested in newer homes, so we define this filtering\n",
    "# rule\n",
    "df = df[df.HouseAge <= 30]"
   ]
  },
  {
   "cell_type": "code",
   "execution_count": null,
   "id": "3d255f88",
   "metadata": {},
   "outputs": [],
   "source": [
    "sns.boxplot(x=df.AveBedrms)"
   ]
  },
  {
   "cell_type": "code",
   "execution_count": null,
   "id": "aa9707a2",
   "metadata": {},
   "outputs": [],
   "source": [
    "# let's also remove big houses\n",
    "df = df[df.AveBedrms <= 4]"
   ]
  },
  {
   "cell_type": "markdown",
   "id": "e7b621d5",
   "metadata": {},
   "source": [
    "## Train test split"
   ]
  },
  {
   "cell_type": "code",
   "execution_count": null,
   "id": "e66c8439",
   "metadata": {},
   "outputs": [],
   "source": [
    "from sklearn.model_selection import train_test_split  # noqa"
   ]
  },
  {
   "cell_type": "code",
   "execution_count": null,
   "id": "95f38cd0",
   "metadata": {},
   "outputs": [],
   "source": [
    "X = df.drop('MedHouseVal', axis='columns')\n",
    "y = df.MedHouseVal"
   ]
  },
  {
   "cell_type": "code",
   "execution_count": null,
   "id": "5d657f0f",
   "metadata": {},
   "outputs": [],
   "source": [
    "X_train, X_test, y_train, y_test = train_test_split(X,\n",
    "                                                    y,\n",
    "                                                    test_size=0.33,\n",
    "                                                    random_state=42)"
   ]
  },
  {
   "cell_type": "markdown",
   "id": "4369442a",
   "metadata": {},
   "source": [
    "## Fit model"
   ]
  },
  {
   "cell_type": "code",
   "execution_count": null,
   "id": "544ca35b",
   "metadata": {},
   "outputs": [],
   "source": [
    "from sklearn.ensemble import RandomForestRegressor  # noqa"
   ]
  },
  {
   "cell_type": "code",
   "execution_count": null,
   "id": "f43ec370",
   "metadata": {},
   "outputs": [],
   "source": [
    "rf = RandomForestRegressor(n_estimators=n_estimators)\n",
    "rf.fit(X_train, y_train)\n",
    "y_pred = rf.predict(X_test)\n",
    "sns.scatterplot(x=y_test, y=y_pred)"
   ]
  }
 ],
 "metadata": {
  "kernelspec": {
   "display_name": "Python 3 (ipykernel)",
   "language": "python",
   "name": "python3"
  },
  "language_info": {
   "codemirror_mode": {
    "name": "ipython",
    "version": 3
   },
   "file_extension": ".py",
   "mimetype": "text/x-python",
   "name": "python",
   "nbconvert_exporter": "python",
   "pygments_lexer": "ipython3",
   "version": "3.9.13"
  }
 },
 "nbformat": 4,
 "nbformat_minor": 5
}
