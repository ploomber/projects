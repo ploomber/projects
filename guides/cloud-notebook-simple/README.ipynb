{
 "cells": [
  {
   "cell_type": "code",
   "execution_count": 2,
   "id": "81fdb394-b88a-4639-83da-a2a5a5d8fc95",
   "metadata": {},
   "outputs": [],
   "source": [
    "# conda activate {env} doesn't work well here\n",
    "# so we manually modify the path\n",
    "PATH=$CONDA_PREFIX/envs/ploomber/bin:$PATH"
   ]
  },
  {
   "cell_type": "markdown",
   "id": "04860428-c009-4f92-9a83-140c62093842",
   "metadata": {},
   "source": [
    "# Executing notebooks in the cloud\n",
    "\n",
    "This tutorial will show you how you can execute notebooks in the cloud.\n",
    "\n",
    "With Ploomber Cloud, you can run notebooks in parallel, request more resources (CPU, memory, GPU) and more!\n",
    "\n",
    "## Pre-requisites\n",
    "\n",
    "- Ploomber Cloud API key (add link to the tutorial)\n",
    "\n",
    "```sh\n",
    "ploomber cloud set-key {your-key}\n",
    "```\n",
    "\n",
    "## Submit the notebook\n",
    "\n",
    "For this simple example, we'll use a notebook that draws random numbers with `numpy` and plots them with `matplotlib`.\n",
    "\n",
    "Note that we only need to supply the notebook. Ploomber Cloud will figure out which dependendencies to install.\n"
   ]
  },
  {
   "cell_type": "code",
   "execution_count": 5,
   "id": "833188b4-ac9c-439e-b8c9-9f4be0673965",
   "metadata": {},
   "outputs": [
    {
     "name": "stdout",
     "output_type": "stream",
     "text": [
      "Uploading plot-d9f75d8f.ipynb...\n",
      "Triggering execution of plot-d9f75d8f.ipynb...\n",
      "\u001b[0m"
     ]
    }
   ],
   "source": [
    "ploomber cloud nb plot.ipynb"
   ]
  },
  {
   "cell_type": "markdown",
   "id": "c053eb01-17bc-47f7-b2ac-723158b2df92",
   "metadata": {},
   "source": [
    "Note that the notebook `plot.ipynb` is uploaded to the cloud as `plot-d9f75d8f.ipynb`. Ploomber Cloud automatically versions notebooks. We can use this identifier to download the source later and to download any associated artifacts."
   ]
  },
  {
   "cell_type": "markdown",
   "id": "64aabbdc-9e6a-4557-af21-6c225d499a8e",
   "metadata": {},
   "source": [
    "## Monitor execution\n",
    "\n",
    "Once submitted, we can check that the task was submitted:"
   ]
  },
  {
   "cell_type": "code",
   "execution_count": 6,
   "id": "0d49cb20-eb3e-4ae5-90ab-a72e67c37775",
   "metadata": {},
   "outputs": [
    {
     "name": "stdout",
     "output_type": "stream",
     "text": [
      "created_at      runid                                 status\n",
      "--------------  ------------------------------------  --------\n",
      "2 minutes ago   89c5c4b5-aea8-4aaf-816d-a120b799b952  created\n",
      "20 minutes ago  41fe4e15-fc0f-40bc-b07a-0d45457ba84b  finished\n",
      "29 minutes ago  ffe17c8c-a5a6-4561-a53a-5e7fd4045036  failed\n",
      "an hour ago     f858f6b3-9b3f-4c86-b55d-de23fcba045f  failed\n",
      "2 hours ago     2e0bae66-6c90-4ad5-84a9-b6cdb746a5af  finished\n",
      "\u001b[0m"
     ]
    }
   ],
   "source": [
    "ploomber cloud list"
   ]
  },
  {
   "cell_type": "markdown",
   "id": "32342417-566b-422a-8fe9-fafee4f1b87d",
   "metadata": {},
   "source": [
    "The top row is the notebook we just submitted. Ploomber Cloud builds a Docker image with your notebook, let's get the logs:"
   ]
  },
  {
   "cell_type": "code",
   "execution_count": 10,
   "id": "bb159a83-849c-4958-850d-0676d481a268",
   "metadata": {},
   "outputs": [
    {
     "name": "stdout",
     "output_type": "stream",
     "text": [
      "[Container] 2022/10/21 14:35:18 Phase complete: BUILD State: SUCCEEDED\n",
      "\n",
      "[Container] 2022/10/21 14:35:18 Phase context status code:  Message: \n",
      "\n",
      "[Container] 2022/10/21 14:35:18 Entering phase POST_BUILD\n",
      "\n",
      "[Container] 2022/10/21 14:35:18 Phase complete: POST_BUILD State: SUCCEEDED\n",
      "\n",
      "[Container] 2022/10/21 14:35:18 Phase context status code:  Message: \n",
      "\n"
     ]
    }
   ],
   "source": [
    "ploomber cloud logs @latest --image | tail -n 10"
   ]
  },
  {
   "cell_type": "markdown",
   "id": "e4496889-12cf-41f2-9fbd-f3052252c28f",
   "metadata": {},
   "source": [
    "You should see something like the message above, if not, wait for a minute or so for the Docker build process to finish.\n",
    "\n",
    "Run the `list` command again, you should see that the `status` changed to `started`:"
   ]
  },
  {
   "cell_type": "code",
   "execution_count": 12,
   "id": "bf8a0581-9a24-4f69-840d-4589eaa9e213",
   "metadata": {},
   "outputs": [
    {
     "name": "stdout",
     "output_type": "stream",
     "text": [
      "created_at      runid                                 status\n",
      "--------------  ------------------------------------  --------\n",
      "4 minutes ago   89c5c4b5-aea8-4aaf-816d-a120b799b952  started\n",
      "22 minutes ago  41fe4e15-fc0f-40bc-b07a-0d45457ba84b  finished\n",
      "32 minutes ago  ffe17c8c-a5a6-4561-a53a-5e7fd4045036  failed\n",
      "an hour ago     f858f6b3-9b3f-4c86-b55d-de23fcba045f  failed\n",
      "2 hours ago     2e0bae66-6c90-4ad5-84a9-b6cdb746a5af  finished\n",
      "\u001b[0m"
     ]
    }
   ],
   "source": [
    "ploomber cloud list"
   ]
  },
  {
   "cell_type": "markdown",
   "id": "de76805b-ca4e-4b98-a942-056c941af8cd",
   "metadata": {},
   "source": [
    "This submission only contains a single notebook, so if we check the status, we'll only see one task:"
   ]
  },
  {
   "cell_type": "code",
   "execution_count": 13,
   "id": "fcdee353-725f-4c4f-b973-63f86e5ea14a",
   "metadata": {},
   "outputs": [
    {
     "name": "stdout",
     "output_type": "stream",
     "text": [
      "Geting latest ID...\n",
      "Got ID: 89c5c4b5-aea8-4aaf-816d-a120b799b952\n",
      "Unknown status: started\n",
      "taskid                      name            runid                       status\n",
      "--------------------------  --------------  --------------------------  --------\n",
      "a36b04de-9e26-4f97-bbb0-29  plot-d9f75d8f-  89c5c4b5-aea8-4aaf-816d-a1  created\n",
      "72391d3314                                  20b799b952\n",
      "\u001b[0m"
     ]
    }
   ],
   "source": [
    "ploomber cloud status @latest"
   ]
  },
  {
   "cell_type": "markdown",
   "id": "ed1afbdf-1f18-4de8-b424-693d9fd8636d",
   "metadata": {},
   "source": [
    "After a 1-2 minutes, you'll see the notebook finished execution:"
   ]
  },
  {
   "cell_type": "code",
   "execution_count": 20,
   "id": "40fdce07-fb05-4192-81dc-a7e0d1da7aee",
   "metadata": {},
   "outputs": [
    {
     "name": "stdout",
     "output_type": "stream",
     "text": [
      "Geting latest ID...\n",
      "Got ID: 89c5c4b5-aea8-4aaf-816d-a120b799b952\n",
      "Pipeline finished...\n",
      "taskid                      name            runid                       status\n",
      "--------------------------  --------------  --------------------------  --------\n",
      "a36b04de-9e26-4f97-bbb0-29  plot-d9f75d8f-  89c5c4b5-aea8-4aaf-816d-a1  finished\n",
      "72391d3314                                  20b799b952\n",
      "\u001b[0m"
     ]
    }
   ],
   "source": [
    "ploomber cloud status @latest"
   ]
  },
  {
   "cell_type": "markdown",
   "id": "1d668d7f-b2b4-4f26-b17b-5cb3ae165d3d",
   "metadata": {},
   "source": [
    "## Download results\n",
    "\n",
    "All your notebooks are stored in your \"products workspace\", let's see what's in there:"
   ]
  },
  {
   "cell_type": "code",
   "execution_count": 21,
   "id": "e8bc7497-f46c-497d-8bb6-58e2f4229035",
   "metadata": {},
   "outputs": [
    {
     "name": "stdout",
     "output_type": "stream",
     "text": [
      "path\n",
      "-----------------------------------------------------\n",
      "grid-7bd167c1/output/notebook-n_estimators=1-0.ipynb\n",
      "grid-7bd167c1/output/notebook-n_estimators=10-2.ipynb\n",
      "grid-7bd167c1/output/notebook-n_estimators=20-3.ipynb\n",
      "grid-7bd167c1/output/notebook-n_estimators=5-1.ipynb\n",
      "output-1c12b73a/nb.ipynb\n",
      "output-3e80e326/nb.ipynb\n",
      "output-eaf1fbd7/nb.ipynb\n",
      "penguins-classification/output/notebook.ipynb\n",
      "plot-d9f75d8f/output/notebook.ipynb\n",
      "simple-f2c6a12b/output/notebook.ipynb\n",
      "\u001b[0m"
     ]
    }
   ],
   "source": [
    "ploomber cloud products"
   ]
  },
  {
   "cell_type": "markdown",
   "id": "510c4e5d-d093-435e-9808-bbad34f58d8b",
   "metadata": {},
   "source": [
    "Let's download the executed notebook by using the ID we got upon submission:"
   ]
  },
  {
   "cell_type": "code",
   "execution_count": 25,
   "id": "4a36f4a4-d1ee-4254-a8d4-882de1587e62",
   "metadata": {},
   "outputs": [
    {
     "name": "stdout",
     "output_type": "stream",
     "text": [
      "Writing file into path simple-f2c6a12b/output/.notebook.ipynb.metadata\n",
      "Writing file into path simple-f2c6a12b/output/notebook.ipynb\n",
      "\u001b[0m"
     ]
    }
   ],
   "source": [
    "ploomber cloud download 'plot-d9f75d8f/*.ipynb'"
   ]
  },
  {
   "cell_type": "markdown",
   "id": "77e64de8-5a5b-4a8a-a15b-ea9891063a48",
   "metadata": {},
   "source": [
    "## Up next\n",
    "\n",
    "TO DO:\n",
    "- link to next tutorial\n",
    "- mention we'll learn how to parallelize notebooks, and request resources\n"
   ]
  },
  {
   "cell_type": "code",
   "execution_count": null,
   "id": "e2a96e63-ea41-4d29-ab2d-73a27f7e61a6",
   "metadata": {},
   "outputs": [],
   "source": []
  }
 ],
 "metadata": {
  "kernelspec": {
   "display_name": "Bash",
   "language": "bash",
   "name": "bash"
  },
  "language_info": {
   "codemirror_mode": "shell",
   "file_extension": ".sh",
   "mimetype": "text/x-sh",
   "name": "bash"
  }
 },
 "nbformat": 4,
 "nbformat_minor": 5
}
