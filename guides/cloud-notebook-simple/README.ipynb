{
 "cells": [
  {
   "cell_type": "code",
   "execution_count": 2,
   "id": "81fdb394-b88a-4639-83da-a2a5a5d8fc95",
   "metadata": {},
   "outputs": [],
   "source": [
    "# conda activate {env} doesn't work well here\n",
    "# so we manually modify the path\n",
    "PATH=$CONDA_PREFIX/envs/ploomber/bin:$PATH"
   ]
  },
  {
   "cell_type": "markdown",
   "id": "04860428-c009-4f92-9a83-140c62093842",
   "metadata": {},
   "source": [
    "# Submit the notebook\n",
    "\n",
    "- describe what the notebook does\n",
    "- mention ploomber cloud infers dependencies"
   ]
  },
  {
   "cell_type": "code",
   "execution_count": 5,
   "id": "833188b4-ac9c-439e-b8c9-9f4be0673965",
   "metadata": {},
   "outputs": [
    {
     "name": "stdout",
     "output_type": "stream",
     "text": [
      "Uploading simple-f2c6a12b.ipynb...\n",
      "Triggering execution of simple-f2c6a12b.ipynb...\n",
      "\u001b[0m"
     ]
    }
   ],
   "source": [
    "ploomber cloud nb notebooks/simple.ipynb"
   ]
  },
  {
   "cell_type": "markdown",
   "id": "64aabbdc-9e6a-4557-af21-6c225d499a8e",
   "metadata": {},
   "source": [
    "# Monitor execution"
   ]
  },
  {
   "cell_type": "code",
   "execution_count": 6,
   "id": "0d49cb20-eb3e-4ae5-90ab-a72e67c37775",
   "metadata": {},
   "outputs": [
    {
     "name": "stdout",
     "output_type": "stream",
     "text": [
      "created_at     runid                                 status\n",
      "-------------  ------------------------------------  --------\n",
      "9 seconds ago  2e0bae66-6c90-4ad5-84a9-b6cdb746a5af  created\n",
      "9 hours ago    0dd11c31-3200-41cc-81ca-ff0f59bc03e7  finished\n",
      "9 hours ago    32e54117-4890-4001-93a3-beacc394e983  finished\n",
      "9 hours ago    3e30c17f-f789-4771-8b6a-7bf34d89d63e  finished\n",
      "10 hours ago   11f02f04-8376-4ba4-96b8-c59f02c1afbb  failed\n",
      "\u001b[0m"
     ]
    }
   ],
   "source": [
    "ploomber cloud list"
   ]
  },
  {
   "cell_type": "code",
   "execution_count": 15,
   "id": "bb159a83-849c-4958-850d-0676d481a268",
   "metadata": {},
   "outputs": [
    {
     "name": "stdout",
     "output_type": "stream",
     "text": [
      "[Container] 2022/10/21 12:17:14 Phase complete: BUILD State: SUCCEEDED\n",
      "\n",
      "[Container] 2022/10/21 12:17:14 Phase context status code:  Message: \n",
      "\n",
      "[Container] 2022/10/21 12:17:14 Entering phase POST_BUILD\n",
      "\n",
      "[Container] 2022/10/21 12:17:14 Phase complete: POST_BUILD State: SUCCEEDED\n",
      "\n",
      "[Container] 2022/10/21 12:17:14 Phase context status code:  Message: \n",
      "\n"
     ]
    }
   ],
   "source": [
    "ploomber cloud logs @latest --image | tail -n 10"
   ]
  },
  {
   "cell_type": "code",
   "execution_count": 16,
   "id": "bf8a0581-9a24-4f69-840d-4589eaa9e213",
   "metadata": {},
   "outputs": [
    {
     "name": "stdout",
     "output_type": "stream",
     "text": [
      "created_at     runid                                 status\n",
      "-------------  ------------------------------------  --------\n",
      "3 minutes ago  2e0bae66-6c90-4ad5-84a9-b6cdb746a5af  started\n",
      "9 hours ago    0dd11c31-3200-41cc-81ca-ff0f59bc03e7  finished\n",
      "9 hours ago    32e54117-4890-4001-93a3-beacc394e983  finished\n",
      "10 hours ago   3e30c17f-f789-4771-8b6a-7bf34d89d63e  finished\n",
      "10 hours ago   11f02f04-8376-4ba4-96b8-c59f02c1afbb  failed\n",
      "\u001b[0m"
     ]
    }
   ],
   "source": [
    "ploomber cloud list"
   ]
  },
  {
   "cell_type": "code",
   "execution_count": 21,
   "id": "fcdee353-725f-4c4f-b973-63f86e5ea14a",
   "metadata": {},
   "outputs": [
    {
     "name": "stdout",
     "output_type": "stream",
     "text": [
      "Geting latest ID...\n",
      "Got ID: 2e0bae66-6c90-4ad5-84a9-b6cdb746a5af\n",
      "Pipeline finished...\n",
      "taskid                     name              runid                      status\n",
      "-------------------------  ----------------  -------------------------  --------\n",
      "8da1cb61-ac35-4b11-8952-c  simple-f2c6a12b-  2e0bae66-6c90-4ad5-84a9-b  finished\n",
      "e7f73fc9394                                  6cdb746a5af\n",
      "\u001b[0m"
     ]
    }
   ],
   "source": [
    "ploomber cloud status @latest"
   ]
  },
  {
   "cell_type": "markdown",
   "id": "1d668d7f-b2b4-4f26-b17b-5cb3ae165d3d",
   "metadata": {},
   "source": [
    "## Download results"
   ]
  },
  {
   "cell_type": "code",
   "execution_count": 22,
   "id": "e8bc7497-f46c-497d-8bb6-58e2f4229035",
   "metadata": {},
   "outputs": [
    {
     "name": "stdout",
     "output_type": "stream",
     "text": [
      "path\n",
      "-------------------------------------\n",
      "output-1c12b73a/nb.ipynb\n",
      "output-3e80e326/nb.ipynb\n",
      "output-eaf1fbd7/nb.ipynb\n",
      "simple-f2c6a12b/output/notebook.ipynb\n",
      "\u001b[0m"
     ]
    }
   ],
   "source": [
    "ploomber cloud products"
   ]
  },
  {
   "cell_type": "code",
   "execution_count": 25,
   "id": "4a36f4a4-d1ee-4254-a8d4-882de1587e62",
   "metadata": {},
   "outputs": [
    {
     "name": "stdout",
     "output_type": "stream",
     "text": [
      "Writing file into path simple-f2c6a12b/output/.notebook.ipynb.metadata\n",
      "Writing file into path simple-f2c6a12b/output/notebook.ipynb\n",
      "\u001b[0m"
     ]
    }
   ],
   "source": [
    "ploomber cloud download 'simple-f2c6a12b/*.ipynb'"
   ]
  },
  {
   "cell_type": "markdown",
   "id": "77e64de8-5a5b-4a8a-a15b-ea9891063a48",
   "metadata": {},
   "source": [
    "# Up next\n",
    "\n",
    "TO DO: link to next tutorial"
   ]
  },
  {
   "cell_type": "code",
   "execution_count": null,
   "id": "f8e2ce83-1410-4325-87f9-729b749181e6",
   "metadata": {},
   "outputs": [],
   "source": []
  }
 ],
 "metadata": {
  "kernelspec": {
   "display_name": "Bash",
   "language": "bash",
   "name": "bash"
  },
  "language_info": {
   "codemirror_mode": "shell",
   "file_extension": ".sh",
   "mimetype": "text/x-sh",
   "name": "bash"
  }
 },
 "nbformat": 4,
 "nbformat_minor": 5
}
