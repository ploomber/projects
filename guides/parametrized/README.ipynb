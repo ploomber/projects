{
 "cells": [
  {
   "cell_type": "markdown",
   "id": "43481df8",
   "metadata": {
    "papermill": {
     "duration": 0.047934,
     "end_time": "2021-10-14T15:01:37.771755",
     "exception": false,
     "start_time": "2021-10-14T15:01:37.723821",
     "status": "completed"
    },
    "tags": []
   },
   "source": [
    "To run this example locally, execute: `ploomber examples -n parametrized`.\n",
    "\n",
    "To start a free, hosted JupyterLab: [![binder-logo](https://mybinder.org/badge_logo.svg)](https://mybinder.org/v2/gh/ploomber/binder-env/main?urlpath=git-pull%3Frepo%3Dhttps%253A%252F%252Fgithub.com%252Fploomber%252Fprojects%26urlpath%3Dlab%252Ftree%252Fprojects%252Fparametrized%252FREADME.ipynb%26branch%3Dmaster)\n",
    "\n",
    "Found an issue? [Let us know.](https://github.com/ploomber/projects/issues/new?title=parametrized%20issue)\n",
    "\n",
    "Have questions? [Ask us anything on Slack.](http://community.ploomber.io/)\n"
   ]
  },
  {
   "cell_type": "markdown",
   "id": "11e2aa25",
   "metadata": {
    "papermill": {
     "duration": 0.048489,
     "end_time": "2021-10-14T15:01:37.863495",
     "exception": false,
     "start_time": "2021-10-14T15:01:37.815006",
     "status": "completed"
    },
    "tags": []
   },
   "source": [
    "# Parametrized pipelines"
   ]
  },
  {
   "cell_type": "markdown",
   "id": "e31be445",
   "metadata": {
    "papermill": {
     "duration": 0.041359,
     "end_time": "2021-10-14T15:01:37.949398",
     "exception": false,
     "start_time": "2021-10-14T15:01:37.908039",
     "status": "completed"
    },
    "tags": []
   },
   "source": [
    "Often, pipelines perform the same operation over different subsets of the data. For example, say you are developing visualizations of economic data. You might want to generate the same charts for other countries. \n",
    "\n",
    "One way to approach the problem is to have a for loop on each pipeline task to process all needed countries. But such an approach adds unnecessary complexity to our code; it's better to keep our logic simple (each task processes a single country) and take the iterative logic out of our pipeline.\n",
    "\n",
    "Ploomber allows you to do so using parametrized pipelines. Let's see a sample using a `pipeline.yaml` file.\n",
    "\n",
    "## Spec API (``pipeline.yaml``)\n"
   ]
  },
  {
   "cell_type": "markdown",
   "id": "fe4e0474",
   "metadata": {
    "papermill": {
     "duration": 0.044422,
     "end_time": "2021-10-14T15:01:38.034711",
     "exception": false,
     "start_time": "2021-10-14T15:01:37.990289",
     "status": "completed"
    },
    "region_name": "md",
    "tags": []
   },
   "source": [
    "```yaml\n",
    "# Content of pipeline.yaml\n",
    "tasks:\n",
    "  - source: print.py\n",
    "    name: print\n",
    "    product:\n",
    "      nb: 'output/{{some_param}}/notebook.ipynb'\n",
    "    papermill_params:\n",
    "        log_output: True\n",
    "    params:\n",
    "      some_param: '{{some_param}}'\n",
    "```"
   ]
  },
  {
   "cell_type": "markdown",
   "id": "ec099278",
   "metadata": {
    "papermill": {
     "duration": 0.042149,
     "end_time": "2021-10-14T15:01:38.117064",
     "exception": false,
     "start_time": "2021-10-14T15:01:38.074915",
     "status": "completed"
    },
    "tags": []
   },
   "source": [
    "The `pipeline.yaml` above has a placeholder called `some_param`. It is coming from a file called `env.yaml`:"
   ]
  },
  {
   "cell_type": "markdown",
   "id": "ef8f3ecb",
   "metadata": {
    "papermill": {
     "duration": 0.040922,
     "end_time": "2021-10-14T15:01:38.199866",
     "exception": false,
     "start_time": "2021-10-14T15:01:38.158944",
     "status": "completed"
    },
    "region_name": "md",
    "tags": []
   },
   "source": [
    "```yaml\n",
    "# Content of env.yaml\n",
    "some_param: default_value\n",
    "```"
   ]
  },
  {
   "cell_type": "markdown",
   "id": "02433c31",
   "metadata": {
    "papermill": {
     "duration": 0.039965,
     "end_time": "2021-10-14T15:01:38.280502",
     "exception": false,
     "start_time": "2021-10-14T15:01:38.240537",
     "status": "completed"
    },
    "tags": []
   },
   "source": [
    "When reading your `pipeline.yaml`, Ploomber looks for an `env.yaml` file. If found, all defined keys will be available to your pipeline definition. You can use these placeholders (placeholders are strings between double curly brackets) in any of the fields of your `pipeline.yaml` file.\n",
    "\n",
    "In our case, we are using it in two places. First, we will save the executed notebook in a folder with the value of `some_param`; this will allow you to keep copies of the generated output in a different folder depending on your parameter. Second, if we want to use the parameter in our code, we have to pass it to our tasks; all tasks take an optional `params` with arbitrary parameters.\n",
    "\n",
    "Let's see how the code looks like:"
   ]
  },
  {
   "cell_type": "markdown",
   "id": "56a69c42",
   "metadata": {
    "papermill": {
     "duration": 0.041432,
     "end_time": "2021-10-14T15:01:38.363062",
     "exception": false,
     "start_time": "2021-10-14T15:01:38.321630",
     "status": "completed"
    },
    "region_name": "md",
    "tags": []
   },
   "source": [
    "```python\n",
    "# Content of print.py\n",
    "# + tags=[\"parameters\"]\n",
    "upstream = None\n",
    "product = None\n",
    "some_param = None\n",
    "\n",
    "# +\n",
    "print('some_param: ', some_param, ' type: ', type(some_param))\n",
    "\n",
    "```"
   ]
  },
  {
   "cell_type": "markdown",
   "id": "53d254a5",
   "metadata": {
    "papermill": {
     "duration": 0.039476,
     "end_time": "2021-10-14T15:01:38.441816",
     "exception": false,
     "start_time": "2021-10-14T15:01:38.402340",
     "status": "completed"
    },
    "tags": []
   },
   "source": [
    "Our task is a Python script, meaning that parameters are passed as an injected cell at runtime. Let's see what happens if we build our pipeline."
   ]
  },
  {
   "cell_type": "code",
   "execution_count": 1,
   "id": "cf02cfc5",
   "metadata": {
    "execution": {
     "iopub.execute_input": "2021-10-14T15:01:38.530266Z",
     "iopub.status.busy": "2021-10-14T15:01:38.529560Z",
     "iopub.status.idle": "2021-10-14T15:01:44.397491Z",
     "shell.execute_reply": "2021-10-14T15:01:44.398155Z"
    },
    "papermill": {
     "duration": 5.917351,
     "end_time": "2021-10-14T15:01:44.398494",
     "exception": false,
     "start_time": "2021-10-14T15:01:38.481143",
     "status": "completed"
    },
    "tags": []
   },
   "outputs": [],
   "source": [
    "%%capture captured\n",
    "%%sh\n",
    "ploomber build --force --log INFO"
   ]
  },
  {
   "cell_type": "code",
   "execution_count": 2,
   "id": "0a3d7a0f",
   "metadata": {
    "execution": {
     "iopub.execute_input": "2021-10-14T15:01:44.486433Z",
     "iopub.status.busy": "2021-10-14T15:01:44.485509Z",
     "iopub.status.idle": "2021-10-14T15:01:44.488764Z",
     "shell.execute_reply": "2021-10-14T15:01:44.489248Z"
    },
    "papermill": {
     "duration": 0.050837,
     "end_time": "2021-10-14T15:01:44.489571",
     "exception": false,
     "start_time": "2021-10-14T15:01:44.438734",
     "status": "completed"
    },
    "tags": []
   },
   "outputs": [
    {
     "name": "stdout",
     "output_type": "stream",
     "text": [
      "INFO:papermill:some_param:  default_value  type:  <class 'str'>\n"
     ]
    }
   ],
   "source": [
    "def filter_output(captured, startswith):\n",
    "    return print('\\n'.join([\n",
    "        line for line in captured.stderr.split('\\n')\n",
    "        if line.startswith(startswith)\n",
    "    ]))\n",
    "\n",
    "filter_output(captured, startswith='INFO:papermill:some_param')"
   ]
  },
  {
   "cell_type": "markdown",
   "id": "b1de87f7",
   "metadata": {
    "papermill": {
     "duration": 0.04203,
     "end_time": "2021-10-14T15:01:44.574127",
     "exception": false,
     "start_time": "2021-10-14T15:01:44.532097",
     "status": "completed"
    },
    "tags": []
   },
   "source": [
    "We see that our param `some_param` is taking the default value (`default_value`) as defined in `env.yaml`. The command-line interface is aware of any parameters. You can see them using the `--help` option:"
   ]
  },
  {
   "cell_type": "code",
   "execution_count": 3,
   "id": "64328418",
   "metadata": {
    "execution": {
     "iopub.execute_input": "2021-10-14T15:01:44.662818Z",
     "iopub.status.busy": "2021-10-14T15:01:44.660169Z",
     "iopub.status.idle": "2021-10-14T15:01:47.838517Z",
     "shell.execute_reply": "2021-10-14T15:01:47.839084Z"
    },
    "papermill": {
     "duration": 3.22461,
     "end_time": "2021-10-14T15:01:47.839370",
     "exception": false,
     "start_time": "2021-10-14T15:01:44.614760",
     "status": "completed"
    },
    "tags": []
   },
   "outputs": [
    {
     "name": "stdout",
     "output_type": "stream",
     "text": [
      "usage: ploomber [-h] [--log LOG] [--entry-point ENTRY_POINT] [--force]\n",
      "                [--skip-upstream] [--partially PARTIALLY] [--debug]\n",
      "                [--env--some_param ENV__SOME_PARAM]\n",
      "\n",
      "Build pipeline\n",
      "\n",
      "optional arguments:\n",
      "  -h, --help            show this help message and exit\n",
      "  --log LOG, -l LOG     Enables logging to stdout at the specified level\n",
      "  --entry-point ENTRY_POINT, -e ENTRY_POINT\n",
      "                        Entry point, defaults to pipeline.yaml\n",
      "  --force, -f           Force execution by ignoring status\n",
      "  --skip-upstream, -su  Skip building upstream dependencies. Only applicable\n",
      "                        when using --partially\n",
      "  --partially PARTIALLY, -p PARTIALLY\n",
      "                        Build a pipeline partially until certain task\n",
      "  --debug, -d           Drop a debugger session if an exception happens\n",
      "  --env--some_param ENV__SOME_PARAM\n",
      "                        Default: default_value\n"
     ]
    }
   ],
   "source": [
    "%%sh\n",
    "ploomber build --help"
   ]
  },
  {
   "cell_type": "markdown",
   "id": "ecb73845",
   "metadata": {
    "papermill": {
     "duration": 0.044822,
     "end_time": "2021-10-14T15:01:47.936682",
     "exception": false,
     "start_time": "2021-10-14T15:01:47.891860",
     "status": "completed"
    },
    "tags": []
   },
   "source": [
    "Apart from the default parameters from the `ploomber build` command, Ploomber automatically adds any parameters from `env.yaml`, we can easily override the default value. Let's do that:"
   ]
  },
  {
   "cell_type": "code",
   "execution_count": 4,
   "id": "8c3fc370",
   "metadata": {
    "execution": {
     "iopub.execute_input": "2021-10-14T15:01:48.030496Z",
     "iopub.status.busy": "2021-10-14T15:01:48.029454Z",
     "iopub.status.idle": "2021-10-14T15:01:53.515661Z",
     "shell.execute_reply": "2021-10-14T15:01:53.515096Z"
    },
    "papermill": {
     "duration": 5.53692,
     "end_time": "2021-10-14T15:01:53.515860",
     "exception": false,
     "start_time": "2021-10-14T15:01:47.978940",
     "status": "completed"
    },
    "tags": []
   },
   "outputs": [],
   "source": [
    "%%capture captured\n",
    "%%sh\n",
    "ploomber build --force --env--some_param another_value --log INFO"
   ]
  },
  {
   "cell_type": "code",
   "execution_count": 5,
   "id": "926ca6f5",
   "metadata": {
    "execution": {
     "iopub.execute_input": "2021-10-14T15:01:53.607396Z",
     "iopub.status.busy": "2021-10-14T15:01:53.606594Z",
     "iopub.status.idle": "2021-10-14T15:01:53.609525Z",
     "shell.execute_reply": "2021-10-14T15:01:53.610065Z"
    },
    "papermill": {
     "duration": 0.052037,
     "end_time": "2021-10-14T15:01:53.610281",
     "exception": false,
     "start_time": "2021-10-14T15:01:53.558244",
     "status": "completed"
    },
    "tags": []
   },
   "outputs": [
    {
     "name": "stdout",
     "output_type": "stream",
     "text": [
      "INFO:papermill:some_param:  another_value  type:  <class 'str'>\n"
     ]
    }
   ],
   "source": [
    "filter_output(captured, startswith='INFO:papermill:some_param')"
   ]
  },
  {
   "cell_type": "markdown",
   "id": "b7a26299",
   "metadata": {
    "papermill": {
     "duration": 0.042513,
     "end_time": "2021-10-14T15:01:53.695274",
     "exception": false,
     "start_time": "2021-10-14T15:01:53.652761",
     "status": "completed"
    },
    "tags": []
   },
   "source": [
    "We see that our task effectively changed the value!\n",
    "\n",
    "Finally, let's see how the `output/` folder looks like:"
   ]
  },
  {
   "cell_type": "code",
   "execution_count": 6,
   "id": "20676e79",
   "metadata": {
    "execution": {
     "iopub.execute_input": "2021-10-14T15:01:53.787393Z",
     "iopub.status.busy": "2021-10-14T15:01:53.786672Z",
     "iopub.status.idle": "2021-10-14T15:01:53.857637Z",
     "shell.execute_reply": "2021-10-14T15:01:53.858266Z"
    },
    "papermill": {
     "duration": 0.120404,
     "end_time": "2021-10-14T15:01:53.858469",
     "exception": false,
     "start_time": "2021-10-14T15:01:53.738065",
     "status": "completed"
    },
    "tags": []
   },
   "outputs": [
    {
     "name": "stdout",
     "output_type": "stream",
     "text": [
      "output\n",
      "├── another_value\n",
      "│   └── notebook.ipynb\n",
      "└── default_value\n",
      "    └── notebook.ipynb\n",
      "\n",
      "2 directories, 2 files\n"
     ]
    }
   ],
   "source": [
    "%%sh\n",
    "tree output"
   ]
  },
  {
   "cell_type": "markdown",
   "id": "1886b688",
   "metadata": {
    "papermill": {
     "duration": 0.046411,
     "end_time": "2021-10-14T15:01:53.956090",
     "exception": false,
     "start_time": "2021-10-14T15:01:53.909679",
     "status": "completed"
    },
    "tags": []
   },
   "source": [
    "\n",
    "We have separate folders for each parameter, helping to keep things organized and taking the looping logic out of our pipeline.\n",
    "\n",
    "\n",
    "### Notes\n",
    "\n",
    "* There are some built-in placeholders that you can use without having an `env.yaml` file. For example, `{{here}}` will expand to the `pipeline.yaml` parent directory. [Check out the Spec API documentation](https://ploomber.readthedocs.io/en/latest/api/spec.html#default-placeholders) for more information.\n",
    "* This example uses a Python script as a task. In SQL pipeline, you can achieve the same effect by using the placeholder in the product's schema or a table/view name prefix.\n",
    "* If the parameter takes many different values and you want to run your pipeline using all of them, calling them by hand might get tedious. So you have two options 1) write a  bash script that calls the CLI with different value parameters or 2) Use the Python API (everything that the CLI can do, you can do with Python directly), take a look at the `DAGSpec` documentation.\n",
    "* Parametrized `pipeline.yaml` files are a great way to simplify a task's logic but not overdo it. If you find yourself adding too many parameters, it's a better idea to use the Python AP directly; factory functions are the correct pattern for highly customized pipeline construction.\n",
    "* Given that the two pipelines are entirely independent, we could even run them in parallel.\n",
    "\n",
    "\n",
    "## Python API (factory functions)\n",
    "\n",
    "Parametrization is straightforward when using a factory function. If your\n",
    "factory takes parameters, they'll also be available in the command-line interface. Types are inferred from [type hints](https://docs.python.org/3/library/typing.html). Let's see an example:"
   ]
  },
  {
   "cell_type": "markdown",
   "id": "496de63a",
   "metadata": {
    "papermill": {
     "duration": 0.04707,
     "end_time": "2021-10-14T15:01:54.046941",
     "exception": false,
     "start_time": "2021-10-14T15:01:53.999871",
     "status": "completed"
    },
    "region_name": "md",
    "tags": []
   },
   "source": [
    "```python\n",
    "# Content of factory.py\n",
    "from ploomber import DAG\n",
    "\n",
    "\n",
    "def make(param: str, another: int = 10):\n",
    "    dag = DAG()\n",
    "    # add tasks to your pipeline...\n",
    "    return dag\n",
    "\n",
    "```"
   ]
  },
  {
   "cell_type": "markdown",
   "id": "c90aebba",
   "metadata": {
    "papermill": {
     "duration": 0.050218,
     "end_time": "2021-10-14T15:01:54.142039",
     "exception": false,
     "start_time": "2021-10-14T15:01:54.091821",
     "status": "completed"
    },
    "tags": []
   },
   "source": [
    "Our function takes two parameters: `param` and `another`. Parameters with no default values (`param`) turn into positional arguments, and function parameters with default values convert\n",
    "to optional parameters (`another`). To see the same auto-generated API, you can use the `--help` command:"
   ]
  },
  {
   "cell_type": "code",
   "execution_count": 7,
   "id": "b472da17",
   "metadata": {
    "execution": {
     "iopub.execute_input": "2021-10-14T15:01:54.239156Z",
     "iopub.status.busy": "2021-10-14T15:01:54.238284Z",
     "iopub.status.idle": "2021-10-14T15:01:57.473617Z",
     "shell.execute_reply": "2021-10-14T15:01:57.474165Z"
    },
    "papermill": {
     "duration": 3.287491,
     "end_time": "2021-10-14T15:01:57.474393",
     "exception": false,
     "start_time": "2021-10-14T15:01:54.186902",
     "status": "completed"
    },
    "tags": []
   },
   "outputs": [
    {
     "name": "stdout",
     "output_type": "stream",
     "text": [
      "usage: ploomber [-h] [--log LOG] [--entry-point ENTRY_POINT] [--force]\n",
      "                [--skip-upstream] [--partially PARTIALLY] [--debug]\n",
      "                [--another ANOTHER]\n",
      "                param\n",
      "\n",
      "Build pipeline\n",
      "\n",
      "positional arguments:\n",
      "  param\n",
      "\n",
      "optional arguments:\n",
      "  -h, --help            show this help message and exit\n",
      "  --log LOG, -l LOG     Enables logging to stdout at the specified level\n",
      "  --entry-point ENTRY_POINT, -e ENTRY_POINT\n",
      "                        Entry point, defaults to pipeline.yaml\n",
      "  --force, -f           Force execution by ignoring status\n",
      "  --skip-upstream, -su  Skip building upstream dependencies. Only applicable\n",
      "                        when using --partially\n",
      "  --partially PARTIALLY, -p PARTIALLY\n",
      "                        Build a pipeline partially until certain task\n",
      "  --debug, -d           Drop a debugger session if an exception happens\n",
      "  --another ANOTHER\n"
     ]
    }
   ],
   "source": [
    "%%sh\n",
    "ploomber build --entry-point factory.make --help"
   ]
  },
  {
   "cell_type": "markdown",
   "id": "9548c73b",
   "metadata": {
    "papermill": {
     "duration": 0.047678,
     "end_time": "2021-10-14T15:01:57.569312",
     "exception": false,
     "start_time": "2021-10-14T15:01:57.521634",
     "status": "completed"
    },
    "tags": []
   },
   "source": [
    "Note that the Python API requires more work than a `pipeline.yaml` file, but it is more flexible. [Click here] to see [examples](https://github.com/ploomber/projects/tree/master/python-api-examples) using the Python API."
   ]
  }
 ],
 "metadata": {
  "kernelspec": {
   "display_name": "Python 3 (ipykernel)",
   "language": "python",
   "name": "python3"
  },
  "language_info": {
   "codemirror_mode": {
    "name": "ipython",
    "version": 3
   },
   "file_extension": ".py",
   "mimetype": "text/x-python",
   "name": "python",
   "nbconvert_exporter": "python",
   "pygments_lexer": "ipython3",
   "version": "3.9.7"
  },
  "papermill": {
   "default_parameters": {},
   "duration": 21.525553,
   "end_time": "2021-10-14T15:01:57.832516",
   "environment_variables": {},
   "exception": null,
   "input_path": "parametrized/_build/readme_preprocessed.ipynb",
   "output_path": "parametrized/README.ipynb",
   "parameters": {},
   "start_time": "2021-10-14T15:01:36.306963",
   "version": "2.3.3"
  }
 },
 "nbformat": 4,
 "nbformat_minor": 5
}