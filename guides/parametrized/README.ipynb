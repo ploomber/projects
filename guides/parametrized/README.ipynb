{
 "cells": [
  {
   "cell_type": "markdown",
   "id": "ab91f760",
   "metadata": {
    "papermill": {
     "duration": 0.067619,
     "end_time": "2021-10-28T01:22:58.095040",
     "exception": false,
     "start_time": "2021-10-28T01:22:58.027421",
     "status": "completed"
    },
    "tags": []
   },
   "source": [
    "To run this example locally, [install Ploomber](https://docs.ploomber.io/en/latest/get-started/quick-start.html) and execute: `ploomber examples -n guides/parametrized`\n",
    "\n",
    "To start a free, hosted JupyterLab: [![binder-logo](https://mybinder.org/badge_logo.svg)](https://mybinder.org/v2/gh/ploomber/binder-env/main?urlpath=git-pull%3Frepo%3Dhttps%253A%252F%252Fgithub.com%252Fploomber%252Fprojects%26urlpath%3Dlab%252Ftree%252Fprojects%252Fguides/parametrized%252FREADME.ipynb%26branch%3Dmaster)\n",
    "\n",
    "Found an issue? [Let us know.](https://github.com/ploomber/projects/issues/new?title=guides/parametrized%20issue)\n",
    "\n",
    "Have questions? [Ask us anything on Slack.](https://ploomber.io/community/)\n"
   ]
  },
  {
   "cell_type": "markdown",
   "id": "95d67594",
   "metadata": {
    "papermill": {
     "duration": 0.054926,
     "end_time": "2021-10-28T01:22:58.235155",
     "exception": false,
     "start_time": "2021-10-28T01:22:58.180229",
     "status": "completed"
    },
    "tags": []
   },
   "source": [
    "# Parametrized pipelines\n",
    "\n",
    "<!-- start description -->\n",
    "Tutorial showing how to parametrize pipelines and change parameters from the command-line.\n",
    "<!-- end description -->\n",
    "\n",
    "Often, pipelines perform the same operation over different subsets of the data. For example, say you are developing visualizations of economic data. You might want to generate the same charts for other countries. \n",
    "\n",
    "One way to approach the problem is to have a for loop on each pipeline task to process all needed countries. But such an approach adds unnecessary complexity to our code; it's better to keep our logic simple (each task processes a single country) and take the iterative logic out of our pipeline.\n",
    "\n",
    "Ploomber allows you to do so using parametrized pipelines. Let's see a sample using a `pipeline.yaml` file.\n",
    "\n",
    "## Spec API (``pipeline.yaml``)\n"
   ]
  },
  {
   "cell_type": "markdown",
   "id": "63b7166a",
   "metadata": {
    "papermill": {
     "duration": 0.04693,
     "end_time": "2021-10-28T01:22:58.330098",
     "exception": false,
     "start_time": "2021-10-28T01:22:58.283168",
     "status": "completed"
    },
    "region_name": "md",
    "tags": []
   },
   "source": [
    "```yaml\n",
    "# Content of pipeline.yaml\n",
    "tasks:\n",
    "  - source: print.py\n",
    "    name: print\n",
    "    product:\n",
    "      nb: 'output/{{some_param}}/notebook.html'\n",
    "    papermill_params:\n",
    "        log_output: True\n",
    "    params:\n",
    "      some_param: '{{some_param}}'\n",
    "```"
   ]
  },
  {
   "cell_type": "markdown",
   "id": "74da1db8",
   "metadata": {
    "papermill": {
     "duration": 0.055343,
     "end_time": "2021-10-28T01:22:58.429349",
     "exception": false,
     "start_time": "2021-10-28T01:22:58.374006",
     "status": "completed"
    },
    "tags": []
   },
   "source": [
    "The `pipeline.yaml` above has a placeholder called `some_param`. It is coming from a file called `env.yaml`:"
   ]
  },
  {
   "cell_type": "markdown",
   "id": "b696c4c8",
   "metadata": {
    "papermill": {
     "duration": 0.044701,
     "end_time": "2021-10-28T01:22:58.524625",
     "exception": false,
     "start_time": "2021-10-28T01:22:58.479924",
     "status": "completed"
    },
    "region_name": "md",
    "tags": []
   },
   "source": [
    "```yaml\n",
    "# Content of env.yaml\n",
    "some_param: default_value\n",
    "```"
   ]
  },
  {
   "cell_type": "markdown",
   "id": "e9b9a215",
   "metadata": {
    "papermill": {
     "duration": 0.087125,
     "end_time": "2021-10-28T01:22:58.680076",
     "exception": false,
     "start_time": "2021-10-28T01:22:58.592951",
     "status": "completed"
    },
    "tags": []
   },
   "source": [
    "When reading your `pipeline.yaml`, Ploomber looks for an `env.yaml` file. If found, all defined keys will be available to your pipeline definition. You can use these placeholders (placeholders are strings between double curly brackets) in any of the fields of your `pipeline.yaml` file.\n",
    "\n",
    "In our case, we are using it in two places. First, we will save the executed notebook in a folder with the value of `some_param`; this will allow you to keep copies of the generated output in a different folder depending on your parameter. Second, if we want to use the parameter in our code, we have to pass it to our tasks; all tasks take an optional `params` with arbitrary parameters.\n",
    "\n",
    "Let's see how the code looks like:"
   ]
  },
  {
   "cell_type": "markdown",
   "id": "81179c00",
   "metadata": {
    "papermill": {
     "duration": 0.045313,
     "end_time": "2021-10-28T01:22:58.789104",
     "exception": false,
     "start_time": "2021-10-28T01:22:58.743791",
     "status": "completed"
    },
    "region_name": "md",
    "tags": []
   },
   "source": [
    "```python\n",
    "# Content of print.py\n",
    "# + tags=[\"parameters\"]\n",
    "upstream = None\n",
    "product = None\n",
    "some_param = None\n",
    "\n",
    "# +\n",
    "print('some_param: ', some_param, ' type: ', type(some_param))\n",
    "\n",
    "```"
   ]
  },
  {
   "cell_type": "markdown",
   "id": "130d0372",
   "metadata": {
    "papermill": {
     "duration": 0.039469,
     "end_time": "2021-10-28T01:22:58.869122",
     "exception": false,
     "start_time": "2021-10-28T01:22:58.829653",
     "status": "completed"
    },
    "tags": []
   },
   "source": [
    "Our task is a Python script, meaning that parameters are passed as an injected cell at runtime. Let's see what happens if we build our pipeline."
   ]
  },
  {
   "cell_type": "code",
   "execution_count": 1,
   "id": "454a0cbe",
   "metadata": {
    "execution": {
     "iopub.execute_input": "2021-10-28T01:22:58.959544Z",
     "iopub.status.busy": "2021-10-28T01:22:58.953749Z",
     "iopub.status.idle": "2021-10-28T01:23:05.347127Z",
     "shell.execute_reply": "2021-10-28T01:23:05.347624Z"
    },
    "papermill": {
     "duration": 6.438395,
     "end_time": "2021-10-28T01:23:05.347961",
     "exception": false,
     "start_time": "2021-10-28T01:22:58.909566",
     "status": "completed"
    },
    "tags": []
   },
   "outputs": [],
   "source": [
    "%%capture captured\n",
    "%%sh\n",
    "ploomber build --force --log INFO"
   ]
  },
  {
   "cell_type": "code",
   "execution_count": 2,
   "id": "4850e248",
   "metadata": {
    "execution": {
     "iopub.execute_input": "2021-10-28T01:23:05.433997Z",
     "iopub.status.busy": "2021-10-28T01:23:05.433042Z",
     "iopub.status.idle": "2021-10-28T01:23:05.436246Z",
     "shell.execute_reply": "2021-10-28T01:23:05.436817Z"
    },
    "papermill": {
     "duration": 0.050442,
     "end_time": "2021-10-28T01:23:05.437072",
     "exception": false,
     "start_time": "2021-10-28T01:23:05.386630",
     "status": "completed"
    },
    "tags": []
   },
   "outputs": [
    {
     "name": "stdout",
     "output_type": "stream",
     "text": [
      "INFO:papermill:some_param:  default_value  type:  <class 'str'>\n"
     ]
    }
   ],
   "source": [
    "def filter_output(captured, startswith):\n",
    "    return print('\\n'.join([\n",
    "        line for line in captured.stderr.split('\\n')\n",
    "        if line.startswith(startswith)\n",
    "    ]))\n",
    "\n",
    "filter_output(captured, startswith='INFO:papermill:some_param')"
   ]
  },
  {
   "cell_type": "markdown",
   "id": "a777734e",
   "metadata": {
    "papermill": {
     "duration": 0.039087,
     "end_time": "2021-10-28T01:23:05.514564",
     "exception": false,
     "start_time": "2021-10-28T01:23:05.475477",
     "status": "completed"
    },
    "tags": []
   },
   "source": [
    "We see that our param `some_param` is taking the default value (`default_value`) as defined in `env.yaml`. The command-line interface is aware of any parameters. You can see them using the `--help` option:"
   ]
  },
  {
   "cell_type": "code",
   "execution_count": 3,
   "id": "07dee54a",
   "metadata": {
    "execution": {
     "iopub.execute_input": "2021-10-28T01:23:05.595340Z",
     "iopub.status.busy": "2021-10-28T01:23:05.594642Z",
     "iopub.status.idle": "2021-10-28T01:23:08.680357Z",
     "shell.execute_reply": "2021-10-28T01:23:08.680870Z"
    },
    "papermill": {
     "duration": 3.128228,
     "end_time": "2021-10-28T01:23:08.681115",
     "exception": false,
     "start_time": "2021-10-28T01:23:05.552887",
     "status": "completed"
    },
    "tags": []
   },
   "outputs": [
    {
     "name": "stdout",
     "output_type": "stream",
     "text": [
      "usage: ploomber [-h] [--log LOG] [--log-file LOG_FILE]\n",
      "                [--entry-point ENTRY_POINT] [--force] [--skip-upstream]\n",
      "                [--partially PARTIALLY] [--debug]\n",
      "                [--env--some_param ENV__SOME_PARAM]\n",
      "\n",
      "Build pipeline\n",
      "\n",
      "optional arguments:\n",
      "  -h, --help            show this help message and exit\n",
      "  --log LOG, -l LOG     Enables logging to stdout at the specified level\n",
      "  --log-file LOG_FILE, -F LOG_FILE\n",
      "                        Enables logging to the given file\n",
      "  --entry-point ENTRY_POINT, -e ENTRY_POINT\n",
      "                        Entry point, defaults to pipeline.yaml\n",
      "  --force, -f           Force execution by ignoring status\n",
      "  --skip-upstream, -su  Skip building upstream dependencies. Only applicable\n",
      "                        when using --partially\n",
      "  --partially PARTIALLY, -p PARTIALLY\n",
      "                        Build a pipeline partially until certain task\n",
      "  --debug, -d           Drop a debugger session if an exception happens\n",
      "  --env--some_param ENV__SOME_PARAM\n",
      "                        Default: default_value\n"
     ]
    }
   ],
   "source": [
    "%%sh\n",
    "ploomber build --help"
   ]
  },
  {
   "cell_type": "markdown",
   "id": "7b374e27",
   "metadata": {
    "papermill": {
     "duration": 0.040004,
     "end_time": "2021-10-28T01:23:08.761542",
     "exception": false,
     "start_time": "2021-10-28T01:23:08.721538",
     "status": "completed"
    },
    "tags": []
   },
   "source": [
    "Apart from the default parameters from the `ploomber build` command, Ploomber automatically adds any parameters from `env.yaml`, we can easily override the default value. Let's do that:"
   ]
  },
  {
   "cell_type": "code",
   "execution_count": 4,
   "id": "0011888a",
   "metadata": {
    "execution": {
     "iopub.execute_input": "2021-10-28T01:23:08.848770Z",
     "iopub.status.busy": "2021-10-28T01:23:08.846289Z",
     "iopub.status.idle": "2021-10-28T01:23:14.070433Z",
     "shell.execute_reply": "2021-10-28T01:23:14.070894Z"
    },
    "papermill": {
     "duration": 5.270888,
     "end_time": "2021-10-28T01:23:14.071102",
     "exception": false,
     "start_time": "2021-10-28T01:23:08.800214",
     "status": "completed"
    },
    "tags": []
   },
   "outputs": [],
   "source": [
    "%%capture captured\n",
    "%%sh\n",
    "ploomber build --force --env--some_param another_value --log INFO"
   ]
  },
  {
   "cell_type": "code",
   "execution_count": 5,
   "id": "463dadf3",
   "metadata": {
    "execution": {
     "iopub.execute_input": "2021-10-28T01:23:14.166057Z",
     "iopub.status.busy": "2021-10-28T01:23:14.165318Z",
     "iopub.status.idle": "2021-10-28T01:23:14.168329Z",
     "shell.execute_reply": "2021-10-28T01:23:14.169053Z"
    },
    "papermill": {
     "duration": 0.05236,
     "end_time": "2021-10-28T01:23:14.169323",
     "exception": false,
     "start_time": "2021-10-28T01:23:14.116963",
     "status": "completed"
    },
    "tags": []
   },
   "outputs": [
    {
     "name": "stdout",
     "output_type": "stream",
     "text": [
      "INFO:papermill:some_param:  another_value  type:  <class 'str'>\n"
     ]
    }
   ],
   "source": [
    "filter_output(captured, startswith='INFO:papermill:some_param')"
   ]
  },
  {
   "cell_type": "markdown",
   "id": "de8920ac",
   "metadata": {
    "papermill": {
     "duration": 0.040135,
     "end_time": "2021-10-28T01:23:14.249240",
     "exception": false,
     "start_time": "2021-10-28T01:23:14.209105",
     "status": "completed"
    },
    "tags": []
   },
   "source": [
    "We see that our task effectively changed the value!\n",
    "\n",
    "Finally, let's see how the `output/` folder looks like:"
   ]
  },
  {
   "cell_type": "code",
   "execution_count": 2,
   "id": "ae6a3484",
   "metadata": {
    "execution": {
     "iopub.execute_input": "2021-10-28T01:23:14.335246Z",
     "iopub.status.busy": "2021-10-28T01:23:14.334421Z",
     "iopub.status.idle": "2021-10-28T01:23:14.439336Z",
     "shell.execute_reply": "2021-10-28T01:23:14.440078Z"
    },
    "papermill": {
     "duration": 0.150295,
     "end_time": "2021-10-28T01:23:14.440319",
     "exception": false,
     "start_time": "2021-10-28T01:23:14.290024",
     "status": "completed"
    },
    "tags": []
   },
   "outputs": [
    {
     "name": "stdout",
     "output_type": "stream",
     "text": [
      "output\n",
      "├── another_value\n",
      "│   └── notebook.html\n",
      "└── default_value\n",
      "    └── notebook.html\n",
      "\n",
      "2 directories, 2 files\n"
     ]
    }
   ],
   "source": [
    "%%sh\n",
    "tree output"
   ]
  },
  {
   "cell_type": "markdown",
   "id": "3a718f8d",
   "metadata": {
    "papermill": {
     "duration": 0.045815,
     "end_time": "2021-10-28T01:23:14.531351",
     "exception": false,
     "start_time": "2021-10-28T01:23:14.485536",
     "status": "completed"
    },
    "tags": []
   },
   "source": [
    "\n",
    "We have separate folders for each parameter, helping to keep things organized and taking the looping logic out of our pipeline.\n",
    "\n",
    "\n",
    "### Notes\n",
    "\n",
    "* There are some built-in placeholders that you can use without having an `env.yaml` file. For example, `{{here}}` will expand to the `pipeline.yaml` parent directory. [Check out the Spec API documentation](https://docs.ploomber.io/en/latest/api/spec.html#default-placeholders) for more information.\n",
    "* This example uses a Python script as a task. In SQL pipeline, you can achieve the same effect by using the placeholder in the product's schema or a table/view name prefix.\n",
    "* If the parameter takes many different values and you want to run your pipeline using all of them, calling them by hand might get tedious. So you have two options 1) write a  bash script that calls the CLI with different value parameters or 2) Use the Python API (everything that the CLI can do, you can do with Python directly), take a look at the `DAGSpec` documentation.\n",
    "* Parametrized `pipeline.yaml` files are a great way to simplify a task's logic but not overdo it. If you find yourself adding too many parameters, it's a better idea to use the Python AP directly; factory functions are the correct pattern for highly customized pipeline construction.\n",
    "* Given that the two pipelines are entirely independent, we could even run them in parallel.\n",
    "\n",
    "\n",
    "## Python API (factory functions)\n",
    "\n",
    "Parametrization is straightforward when using a factory function. If your\n",
    "factory takes parameters, they'll also be available in the command-line interface. Types are inferred from [type hints](https://docs.python.org/3/library/typing.html). Let's see an example:"
   ]
  },
  {
   "cell_type": "markdown",
   "id": "fcef3294",
   "metadata": {
    "papermill": {
     "duration": 0.045088,
     "end_time": "2021-10-28T01:23:14.624868",
     "exception": false,
     "start_time": "2021-10-28T01:23:14.579780",
     "status": "completed"
    },
    "region_name": "md",
    "tags": []
   },
   "source": [
    "```python\n",
    "# Content of factory.py\n",
    "from ploomber import DAG\n",
    "\n",
    "\n",
    "def make(param: str, another: int = 10):\n",
    "    dag = DAG()\n",
    "    # add tasks to your pipeline...\n",
    "    return dag\n",
    "\n",
    "```"
   ]
  },
  {
   "cell_type": "markdown",
   "id": "fcce9a18",
   "metadata": {
    "papermill": {
     "duration": 0.043966,
     "end_time": "2021-10-28T01:23:14.711863",
     "exception": false,
     "start_time": "2021-10-28T01:23:14.667897",
     "status": "completed"
    },
    "tags": []
   },
   "source": [
    "Our function takes two parameters: `param` and `another`. Parameters with no default values (`param`) turn into positional arguments, and function parameters with default values convert\n",
    "to optional parameters (`another`). To see the same auto-generated API, you can use the `--help` command:"
   ]
  },
  {
   "cell_type": "code",
   "execution_count": 7,
   "id": "ac623732",
   "metadata": {
    "execution": {
     "iopub.execute_input": "2021-10-28T01:23:14.802385Z",
     "iopub.status.busy": "2021-10-28T01:23:14.799790Z",
     "iopub.status.idle": "2021-10-28T01:23:17.930610Z",
     "shell.execute_reply": "2021-10-28T01:23:17.931112Z"
    },
    "papermill": {
     "duration": 3.17797,
     "end_time": "2021-10-28T01:23:17.931362",
     "exception": false,
     "start_time": "2021-10-28T01:23:14.753392",
     "status": "completed"
    },
    "tags": []
   },
   "outputs": [
    {
     "name": "stdout",
     "output_type": "stream",
     "text": [
      "usage: ploomber [-h] [--log LOG] [--log-file LOG_FILE]\n",
      "                [--entry-point ENTRY_POINT] [--force] [--skip-upstream]\n",
      "                [--partially PARTIALLY] [--debug] [--another ANOTHER]\n",
      "                param\n",
      "\n",
      "Build pipeline\n",
      "\n",
      "positional arguments:\n",
      "  param\n",
      "\n",
      "optional arguments:\n",
      "  -h, --help            show this help message and exit\n",
      "  --log LOG, -l LOG     Enables logging to stdout at the specified level\n",
      "  --log-file LOG_FILE, -F LOG_FILE\n",
      "                        Enables logging to the given file\n",
      "  --entry-point ENTRY_POINT, -e ENTRY_POINT\n",
      "                        Entry point, defaults to pipeline.yaml\n",
      "  --force, -f           Force execution by ignoring status\n",
      "  --skip-upstream, -su  Skip building upstream dependencies. Only applicable\n",
      "                        when using --partially\n",
      "  --partially PARTIALLY, -p PARTIALLY\n",
      "                        Build a pipeline partially until certain task\n",
      "  --debug, -d           Drop a debugger session if an exception happens\n",
      "  --another ANOTHER\n"
     ]
    }
   ],
   "source": [
    "%%sh\n",
    "ploomber build --entry-point factory.make --help"
   ]
  },
  {
   "cell_type": "markdown",
   "id": "68db5391",
   "metadata": {
    "papermill": {
     "duration": 0.044324,
     "end_time": "2021-10-28T01:23:18.017525",
     "exception": false,
     "start_time": "2021-10-28T01:23:17.973201",
     "status": "completed"
    },
    "tags": []
   },
   "source": [
    "Note that the Python API requires more work than a `pipeline.yaml` file, but it is more flexible. [Click here] to see [examples](https://github.com/ploomber/projects/tree/master/python-api-examples) using the Python API."
   ]
  }
 ],
 "metadata": {
  "interpreter": {
   "hash": "338b56b61393e07a5887256a83607fca4ebca30223005b3a4b1291d79c740448"
  },
  "kernelspec": {
   "display_name": "Python 3.8.13 (conda)",
   "language": "python",
   "name": "python3"
  },
  "language_info": {
   "codemirror_mode": {
    "name": "ipython",
    "version": 3
   },
   "file_extension": ".py",
   "mimetype": "text/x-python",
   "name": "python",
   "nbconvert_exporter": "python",
   "pygments_lexer": "ipython3",
   "version": "3.8.13"
  },
  "papermill": {
   "default_parameters": {},
   "duration": 21.718836,
   "end_time": "2021-10-28T01:23:18.278703",
   "environment_variables": {},
   "exception": null,
   "input_path": "guides/parametrized/_build/readme_preprocessed.ipynb",
   "output_path": "guides/parametrized/README.ipynb",
   "parameters": {},
   "start_time": "2021-10-28T01:22:56.559867",
   "version": "2.3.3"
  }
 },
 "nbformat": 4,
 "nbformat_minor": 5
}
