{
 "cells": [
  {
   "cell_type": "markdown",
   "id": "d3de2240",
   "metadata": {
    "papermill": {
     "duration": 0.138071,
     "end_time": "2022-03-26T23:00:33.478743",
     "exception": false,
     "start_time": "2022-03-26T23:00:33.340672",
     "status": "completed"
    },
    "tags": []
   },
   "source": [
    "To run this locally, [install Ploomber](https://docs.ploomber.io/en/latest/get-started/quick-start.html) and execute: `ploomber examples -n guides/versioning`\n",
    "\n",
    "Found an issue? [Let us know.](https://github.com/ploomber/projects/issues/new?title=guides/versioning%20issue)\n",
    "\n",
    "Questions? [Ask us on Slack.](https://ploomber.io/community/)\n"
   ]
  },
  {
   "cell_type": "markdown",
   "id": "38b0ec72",
   "metadata": {
    "papermill": {
     "duration": 0.041058,
     "end_time": "2022-03-26T23:00:33.570148",
     "exception": false,
     "start_time": "2022-03-26T23:00:33.529090",
     "status": "completed"
    },
    "tags": []
   },
   "source": [
    "# Versioning\n",
    "\n",
    "**Note:** This feature requires Ploomber 0.17.1 or higher.\n",
    "\n",
    "<!-- start description -->\n",
    "A tutorial showing how to version pipeline products.\n",
    "<!-- end description -->\n",
    "\n",
    "Although Ploomber is not a data versioning solution, it offers a simple way to organize pipeline artifacts via placeholders. Note that this requires your project to be in a git repository."
   ]
  },
  {
   "cell_type": "markdown",
   "id": "e170bb1f",
   "metadata": {
    "papermill": {
     "duration": 0.03774,
     "end_time": "2022-03-26T23:00:33.644241",
     "exception": false,
     "start_time": "2022-03-26T23:00:33.606501",
     "status": "completed"
    },
    "tags": []
   },
   "source": [
    "## Using `{{git}}`\n",
    "\n",
    "Let's look at the first example, which uses the `{{git}}` placeholder:"
   ]
  },
  {
   "cell_type": "markdown",
   "id": "637d6ff9",
   "metadata": {
    "papermill": {
     "duration": 0.037248,
     "end_time": "2022-03-26T23:00:33.718536",
     "exception": false,
     "start_time": "2022-03-26T23:00:33.681288",
     "status": "completed"
    },
    "region_name": "md",
    "tags": []
   },
   "source": [
    "```yaml\n",
    "# Content of pipeline.git.yaml\n",
    "tasks:\n",
    "  - source: tasks/load.py\n",
    "    product:\n",
    "      nb: 'output/{{git}}/load.html'\n",
    "      data: 'output/{{git}}/data.csv'\n",
    "\n",
    "  - source: tasks/plot.py\n",
    "    product:\n",
    "      nb: 'output/{{git}}/plot.html'\n",
    "```"
   ]
  },
  {
   "cell_type": "markdown",
   "id": "b23939c4",
   "metadata": {
    "papermill": {
     "duration": 0.036506,
     "end_time": "2022-03-26T23:00:33.790941",
     "exception": false,
     "start_time": "2022-03-26T23:00:33.754435",
     "status": "completed"
    },
    "tags": []
   },
   "source": [
    "You can see that both tasks use `{{git}}`. When Ploomber executes the pipeline, it will replace the placeholder using the following order:\n",
    "\n",
    "1. If currently at the tip of the branch, return the branch name\n",
    "2. If the current commit has a tag, return the tag name\n",
    "3. Otherwise, return the hash for the current commit (appending `-dirty` if there are [uncommitted changes](https://mirrors.edge.kernel.org/pub/software/scm/git/docs/gitglossary.html#def_dirty))\n",
    "\n",
    "Let's see how it works:"
   ]
  },
  {
   "cell_type": "code",
   "execution_count": 1,
   "id": "3e8d97cf",
   "metadata": {
    "execution": {
     "iopub.execute_input": "2022-03-26T23:00:33.873551Z",
     "iopub.status.busy": "2022-03-26T23:00:33.872768Z",
     "iopub.status.idle": "2022-03-26T23:00:35.762616Z",
     "shell.execute_reply": "2022-03-26T23:00:35.763109Z"
    },
    "papermill": {
     "duration": 1.936909,
     "end_time": "2022-03-26T23:00:35.763426",
     "exception": false,
     "start_time": "2022-03-26T23:00:33.826517",
     "status": "completed"
    },
    "tags": []
   },
   "outputs": [],
   "source": [
    "from pathlib import Path\n",
    "\n",
    "from ploomber.spec import DAGSpec"
   ]
  },
  {
   "cell_type": "code",
   "execution_count": 2,
   "id": "7c926f48",
   "metadata": {
    "execution": {
     "iopub.execute_input": "2022-03-26T23:00:35.862269Z",
     "iopub.status.busy": "2022-03-26T23:00:35.861083Z",
     "iopub.status.idle": "2022-03-26T23:00:36.702328Z",
     "shell.execute_reply": "2022-03-26T23:00:36.702858Z"
    },
    "papermill": {
     "duration": 0.894289,
     "end_time": "2022-03-26T23:00:36.703126",
     "exception": false,
     "start_time": "2022-03-26T23:00:35.808837",
     "status": "completed"
    },
    "tags": []
   },
   "outputs": [
    {
     "data": {
      "text/plain": [
       "File('output/master/load.html')"
      ]
     },
     "execution_count": 2,
     "metadata": {},
     "output_type": "execute_result"
    }
   ],
   "source": [
    "dag = DAGSpec(\"pipeline.git.yaml\").to_dag()\n",
    "dag[\"load\"].product[\"nb\"]"
   ]
  },
  {
   "cell_type": "markdown",
   "id": "1cc7b53e",
   "metadata": {
    "papermill": {
     "duration": 0.03964,
     "end_time": "2022-03-26T23:00:36.783371",
     "exception": false,
     "start_time": "2022-03-26T23:00:36.743731",
     "status": "completed"
    },
    "tags": []
   },
   "source": [
    "We can see the product will be stored in the `output/master` directory, `{{git}}` is resolved to `master` since we're at the tip of such branch."
   ]
  },
  {
   "cell_type": "markdown",
   "id": "99416e2b",
   "metadata": {
    "papermill": {
     "duration": 0.038679,
     "end_time": "2022-03-26T23:00:36.862513",
     "exception": false,
     "start_time": "2022-03-26T23:00:36.823834",
     "status": "completed"
    },
    "tags": []
   },
   "source": [
    "## Using `{{git_hash}}`\n",
    "\n",
    "The `{{git_hash}}` placeholder is similar to `{{git}}`, except it doesn't return the branch name, the rules are as follows:\n",
    "\n",
    "1. If the current commit has a tag, return the tag name\n",
    "2. Otherwise, return the hash for the current commit (appending `-dirty` if there are [uncommitted changes](https://mirrors.edge.kernel.org/pub/software/scm/git/docs/gitglossary.html#def_dirty))\n",
    "\n",
    "This is how our sample `pipeline.git_hash.yaml` looks like:"
   ]
  },
  {
   "cell_type": "markdown",
   "id": "209a1663",
   "metadata": {
    "papermill": {
     "duration": 0.042949,
     "end_time": "2022-03-26T23:00:36.945956",
     "exception": false,
     "start_time": "2022-03-26T23:00:36.903007",
     "status": "completed"
    },
    "region_name": "md",
    "tags": []
   },
   "source": [
    "```yaml\n",
    "# Content of pipeline.git_hash.yaml\n",
    "tasks:\n",
    "  - source: tasks/load.py\n",
    "    product:\n",
    "      nb: 'output/{{git_hash}}/load.html'\n",
    "      data: 'output/{{git_hash}}/data.csv'\n",
    "\n",
    "  - source: tasks/plot.py\n",
    "    product:\n",
    "      nb: 'output/{{git_hash}}/plot.html'\n",
    "```"
   ]
  },
  {
   "cell_type": "code",
   "execution_count": 3,
   "id": "a88b7683",
   "metadata": {
    "execution": {
     "iopub.execute_input": "2022-03-26T23:00:37.041096Z",
     "iopub.status.busy": "2022-03-26T23:00:37.039597Z",
     "iopub.status.idle": "2022-03-26T23:00:37.611306Z",
     "shell.execute_reply": "2022-03-26T23:00:37.611871Z"
    },
    "papermill": {
     "duration": 0.623837,
     "end_time": "2022-03-26T23:00:37.612179",
     "exception": false,
     "start_time": "2022-03-26T23:00:36.988342",
     "status": "completed"
    },
    "tags": []
   },
   "outputs": [
    {
     "data": {
      "text/plain": [
       "File('output/62a3494-dirty/load.html')"
      ]
     },
     "execution_count": 3,
     "metadata": {},
     "output_type": "execute_result"
    }
   ],
   "source": [
    "dag = DAGSpec(\"pipeline.git_hash.yaml\").to_dag()\n",
    "dag[\"load\"].product[\"nb\"]"
   ]
  },
  {
   "cell_type": "markdown",
   "id": "f9df7223",
   "metadata": {
    "papermill": {
     "duration": 0.045164,
     "end_time": "2022-03-26T23:00:37.704986",
     "exception": false,
     "start_time": "2022-03-26T23:00:37.659822",
     "status": "completed"
    },
    "tags": []
   },
   "source": [
    "This time, the product will be stored in a directory with the hash of the current commit."
   ]
  },
  {
   "cell_type": "markdown",
   "id": "5b6745dc",
   "metadata": {
    "papermill": {
     "duration": 0.041944,
     "end_time": "2022-03-26T23:00:37.787909",
     "exception": false,
     "start_time": "2022-03-26T23:00:37.745965",
     "status": "completed"
    },
    "tags": []
   },
   "source": [
    "## Adding the current timestamp with `{{now}}`\n",
    "\n",
    "Alternatively, you can use the `{{now}}` placeholder, which doesn't require your project to be in a git repository and will resolve to the current timestamp:"
   ]
  },
  {
   "cell_type": "markdown",
   "id": "4118c7b6",
   "metadata": {
    "papermill": {
     "duration": 0.041837,
     "end_time": "2022-03-26T23:00:37.871489",
     "exception": false,
     "start_time": "2022-03-26T23:00:37.829652",
     "status": "completed"
    },
    "region_name": "md",
    "tags": []
   },
   "source": [
    "```yaml\n",
    "# Content of pipeline.now.yaml\n",
    "tasks:\n",
    "  - source: tasks/load.py\n",
    "    product:\n",
    "      nb: 'output/{{now}}/load.html'\n",
    "      data: 'output/{{now}}/data.csv'\n",
    "\n",
    "  - source: tasks/plot.py\n",
    "    product:\n",
    "      nb: 'output/{{now}}/plot.html'\n",
    "```"
   ]
  },
  {
   "cell_type": "code",
   "execution_count": 4,
   "id": "d28177ff",
   "metadata": {
    "execution": {
     "iopub.execute_input": "2022-03-26T23:00:37.962830Z",
     "iopub.status.busy": "2022-03-26T23:00:37.962074Z",
     "iopub.status.idle": "2022-03-26T23:00:38.442199Z",
     "shell.execute_reply": "2022-03-26T23:00:38.443135Z"
    },
    "papermill": {
     "duration": 0.530333,
     "end_time": "2022-03-26T23:00:38.443394",
     "exception": false,
     "start_time": "2022-03-26T23:00:37.913061",
     "status": "completed"
    },
    "tags": []
   },
   "outputs": [
    {
     "name": "stdout",
     "output_type": "stream",
     "text": [
      "output/2022-03-26T17:00:38.060493/load.html\n"
     ]
    }
   ],
   "source": [
    "dag = DAGSpec(\"pipeline.now.yaml\").to_dag()\n",
    "\n",
    "path = Path(dag[\"load\"].product[\"nb\"]).relative_to(Path().resolve())\n",
    "print(path)"
   ]
  },
  {
   "cell_type": "markdown",
   "id": "f8f6df76",
   "metadata": {
    "papermill": {
     "duration": 0.046341,
     "end_time": "2022-03-26T23:00:38.537182",
     "exception": false,
     "start_time": "2022-03-26T23:00:38.490841",
     "status": "completed"
    },
    "tags": []
   },
   "source": [
    "You can see that the `load.html` file will to into a folder with the timestamp computed when running this example."
   ]
  },
  {
   "cell_type": "markdown",
   "id": "4583ccb0",
   "metadata": {
    "papermill": {
     "duration": 0.045628,
     "end_time": "2022-03-26T23:00:38.627651",
     "exception": false,
     "start_time": "2022-03-26T23:00:38.582023",
     "status": "completed"
    },
    "tags": []
   },
   "source": [
    "## Using placeholders in selected tasks\n",
    "\n",
    "You can selectively choose which tasks to organize based on the git repository commit, the following example only uses the `{{git}}` placeholder in the last task:"
   ]
  },
  {
   "cell_type": "markdown",
   "id": "9d84262d",
   "metadata": {
    "papermill": {
     "duration": 0.045088,
     "end_time": "2022-03-26T23:00:38.718135",
     "exception": false,
     "start_time": "2022-03-26T23:00:38.673047",
     "status": "completed"
    },
    "region_name": "md",
    "tags": []
   },
   "source": [
    "```yaml\n",
    "# Content of pipeline.partial.yaml\n",
    "tasks:\n",
    "  - source: tasks/load.py\n",
    "    product:\n",
    "      nb: 'output/load.html'\n",
    "      data: 'output/data.csv'\n",
    "\n",
    "  - source: tasks/plot.py\n",
    "    product:\n",
    "      nb: 'output/{{git}}/plot.html'\n",
    "```"
   ]
  },
  {
   "cell_type": "code",
   "execution_count": 5,
   "id": "44cb7525",
   "metadata": {
    "execution": {
     "iopub.execute_input": "2022-03-26T23:00:38.810265Z",
     "iopub.status.busy": "2022-03-26T23:00:38.809577Z",
     "iopub.status.idle": "2022-03-26T23:00:39.283780Z",
     "shell.execute_reply": "2022-03-26T23:00:39.284499Z"
    },
    "papermill": {
     "duration": 0.52185,
     "end_time": "2022-03-26T23:00:39.284716",
     "exception": false,
     "start_time": "2022-03-26T23:00:38.762866",
     "status": "completed"
    },
    "tags": []
   },
   "outputs": [
    {
     "data": {
      "text/plain": [
       "File('output/load.html')"
      ]
     },
     "execution_count": 5,
     "metadata": {},
     "output_type": "execute_result"
    }
   ],
   "source": [
    "dag = DAGSpec(\"pipeline.partial.yaml\").to_dag()\n",
    "dag[\"load\"].product[\"nb\"]"
   ]
  },
  {
   "cell_type": "code",
   "execution_count": 6,
   "id": "53666706",
   "metadata": {
    "execution": {
     "iopub.execute_input": "2022-03-26T23:00:39.386974Z",
     "iopub.status.busy": "2022-03-26T23:00:39.385800Z",
     "iopub.status.idle": "2022-03-26T23:00:39.390246Z",
     "shell.execute_reply": "2022-03-26T23:00:39.390764Z"
    },
    "papermill": {
     "duration": 0.05982,
     "end_time": "2022-03-26T23:00:39.391038",
     "exception": false,
     "start_time": "2022-03-26T23:00:39.331218",
     "status": "completed"
    },
    "tags": []
   },
   "outputs": [
    {
     "data": {
      "text/plain": [
       "File('output/master/plot.html')"
      ]
     },
     "execution_count": 6,
     "metadata": {},
     "output_type": "execute_result"
    }
   ],
   "source": [
    "dag[\"plot\"].product[\"nb\"]"
   ]
  },
  {
   "cell_type": "markdown",
   "id": "b1f9e3b4",
   "metadata": {
    "papermill": {
     "duration": 0.05646,
     "end_time": "2022-03-26T23:00:39.497723",
     "exception": false,
     "start_time": "2022-03-26T23:00:39.441263",
     "status": "completed"
    },
    "tags": []
   },
   "source": [
    "Here, you can see that the product of the `load` task goes to `output/`, while the output of `plot` goes to `output/master/`"
   ]
  },
  {
   "cell_type": "markdown",
   "id": "f6b9c615",
   "metadata": {
    "papermill": {
     "duration": 0.05792,
     "end_time": "2022-03-26T23:00:39.602870",
     "exception": false,
     "start_time": "2022-03-26T23:00:39.544950",
     "status": "completed"
    },
    "tags": []
   },
   "source": [
    "## Using an `env.yaml`\n",
    "\n",
    "If you're using an `env.yaml` file, you can still use the placeholders:\n",
    "\n",
    "```yaml\n",
    "# env.yaml\n",
    "directory: '{{git}}' # or '{{git_hash}}'\n",
    "```\n",
    "\n",
    "Then add references to `{{directory}}` in your `pipeline.yaml`:\n",
    "\n",
    "```yaml\n",
    "# pipeline.yaml\n",
    "tasks:\n",
    "  - source: tasks/load.py\n",
    "    product:\n",
    "      nb: 'output/{{directory}}/load.html'\n",
    "      data: 'output/{{directory}}/data.csv'\n",
    "```"
   ]
  }
 ],
 "metadata": {
  "kernelspec": {
   "display_name": "Python 3 (ipykernel)",
   "language": "python",
   "name": "python3"
  },
  "language_info": {
   "codemirror_mode": {
    "name": "ipython",
    "version": 3
   },
   "file_extension": ".py",
   "mimetype": "text/x-python",
   "name": "python",
   "nbconvert_exporter": "python",
   "pygments_lexer": "ipython3",
   "version": "3.10.1"
  },
  "papermill": {
   "default_parameters": {},
   "duration": 8.758338,
   "end_time": "2022-03-26T23:00:40.188116",
   "environment_variables": {},
   "exception": null,
   "input_path": "guides/versioning/_build/readme_preprocessed.ipynb",
   "output_path": "guides/versioning/README.ipynb",
   "parameters": {},
   "start_time": "2022-03-26T23:00:31.429778",
   "version": "2.3.4"
  }
 },
 "nbformat": 4,
 "nbformat_minor": 5
}
