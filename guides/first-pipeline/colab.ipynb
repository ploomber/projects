{
  "cells": [
    {
      "cell_type": "markdown",
      "id": "bce6a4df-5565-4e39-958e-4f2b43f5f501",
      "metadata": {
        "id": "bce6a4df-5565-4e39-958e-4f2b43f5f501"
      },
      "source": [
        "# Your first Python pipeline\n",
        "\n",
        "<!-- start description -->\n",
        "Introductory tutorial to learn the basics of Ploomber.\n",
        "<!-- end description -->\n",
        "\n",
        "## Installing dependencies\n",
        "We'll run a few commands to bootstrap the colab instance ~30 seconds"
      ]
    },
    {
      "cell_type": "code",
      "execution_count": 1,
      "id": "nTmX5-ok1Y3S",
      "metadata": {
        "colab": {
          "base_uri": "https://localhost:8080/"
        },
        "id": "nTmX5-ok1Y3S",
        "outputId": "23c11b64-63eb-4d42-eefd-c37043d9e125"
      },
      "outputs": [
        {
          "output_type": "stream",
          "name": "stdout",
          "text": [
            "Installing packages with fixed versions for colab\n",
            "\u001b[K     |████████████████████████████████| 45 kB 927 kB/s \n",
            "\u001b[K     |████████████████████████████████| 96 kB 1.8 MB/s \n",
            "\u001b[K     |████████████████████████████████| 793 kB 42.7 MB/s \n",
            "\u001b[K     |████████████████████████████████| 130 kB 46.7 MB/s \n",
            "\u001b[K     |████████████████████████████████| 297 kB 42.2 MB/s \n",
            "\u001b[K     |████████████████████████████████| 9.9 MB 60.2 MB/s \n",
            "\u001b[K     |████████████████████████████████| 40 kB 17 kB/s \n",
            "\u001b[K     |████████████████████████████████| 11.1 MB 60.4 MB/s \n",
            "\u001b[K     |████████████████████████████████| 69 kB 7.8 MB/s \n",
            "\u001b[K     |████████████████████████████████| 950 kB 49.1 MB/s \n",
            "\u001b[K     |████████████████████████████████| 636 kB 49.3 MB/s \n",
            "\u001b[K     |████████████████████████████████| 42 kB 993 kB/s \n",
            "\u001b[K     |████████████████████████████████| 381 kB 55.9 MB/s \n",
            "\u001b[K     |████████████████████████████████| 428 kB 55.5 MB/s \n",
            "\u001b[K     |████████████████████████████████| 43 kB 2.1 MB/s \n",
            "\u001b[K     |████████████████████████████████| 84 kB 3.2 MB/s \n",
            "\u001b[K     |████████████████████████████████| 106 kB 53.4 MB/s \n",
            "\u001b[?25h  Building wheel for ipdb (setup.py) ... \u001b[?25l\u001b[?25hdone\n",
            "\u001b[31mERROR: pip's dependency resolver does not currently take into account all the packages that are installed. This behaviour is the source of the following dependency conflicts.\n",
            "jupyter-console 5.2.0 requires prompt-toolkit<2.0.0,>=1.0.0, but you have prompt-toolkit 3.0.29 which is incompatible.\n",
            "google-colab 1.0.0 requires ipython~=5.5.0, but you have ipython 7.34.0 which is incompatible.\n",
            "google-colab 1.0.0 requires notebook~=5.3.0; python_version >= \"3.0\", but you have notebook 6.4.10 which is incompatible.\n",
            "google-colab 1.0.0 requires tornado~=5.1.0; python_version >= \"3.0\", but you have tornado 6.1 which is incompatible.\n",
            "flask 1.1.4 requires click<8.0,>=5.1, but you have click 8.1.3 which is incompatible.\n",
            "datascience 0.10.6 requires folium==0.2.1, but you have folium 0.8.3 which is incompatible.\u001b[0m\n",
            "Installing Ploomber\n",
            "\u001b[K     |████████████████████████████████| 329 kB 14.8 MB/s \n",
            "\u001b[K     |████████████████████████████████| 1.4 MB 53.4 MB/s \n",
            "\u001b[K     |████████████████████████████████| 843 kB 63.6 MB/s \n",
            "\u001b[?25h"
          ]
        }
      ],
      "source": [
        "# Basic installs, run this and read the bottom instructions\n",
        "!echo Installing packages with fixed versions for colab\n",
        "!pip -q install -r https://github.com/ploomber/ploomber/raw/master/requirements-colab.lock.txt\n",
        "!echo Installing Ploomber\n",
        "!pip -q install ploomber black"
      ]
    },
    {
      "cell_type": "code",
      "execution_count": 2,
      "id": "zk5QZoWL1vAi",
      "metadata": {
        "colab": {
          "base_uri": "https://localhost:8080/"
        },
        "id": "zk5QZoWL1vAi",
        "outputId": "0c2d5931-1801-42ee-e072-ab06e290b4fd"
      },
      "outputs": [
        {
          "output_type": "stream",
          "name": "stdout",
          "text": [
            "Loading examples...\n",
            "Local copy does not exist...\n",
            "Cloning into '/root/.ploomber/projects'...\n",
            "remote: Enumerating objects: 555, done.\u001b[K\n",
            "remote: Counting objects: 100% (555/555), done.\u001b[K\n",
            "remote: Compressing objects: 100% (434/434), done.\u001b[K\n",
            "remote: Total 555 (delta 100), reused 322 (delta 61), pack-reused 0\u001b[K\n",
            "Receiving objects: 100% (555/555), 2.03 MiB | 14.64 MiB/s, done.\n",
            "Resolving deltas: 100% (100/100), done.\n",
            "\u001b[34m=========== Copying example guides/first-pipeline to first-pipeline/ ===========\u001b[0m\n",
            "Next steps:\n",
            "\n",
            "$ cd first-pipeline/\n",
            "$ ploomber install\u001b[34m\n",
            "\n",
            "Open first-pipeline/README.md for details.\n",
            "\u001b[0m/content/first-pipeline\n",
            "total 220\n",
            "-rw-r--r-- 1 root root    338 Jun 13 15:40 1-get.py\n",
            "-rw-r--r-- 1 root root    354 Jun 13 15:40 2-profile-raw.py\n",
            "-rw-r--r-- 1 root root    381 Jun 13 15:40 3-clean.py\n",
            "-rw-r--r-- 1 root root    364 Jun 13 15:40 4-profile-clean.py\n",
            "-rw-r--r-- 1 root root    325 Jun 13 15:40 5-plot.py\n",
            "-rw-r--r-- 1 root root 116130 Jun 13 15:40 colab.ipynb\n",
            "-rw-r--r-- 1 root root    141 Jun 13 15:40 environment.yml\n",
            "-rw-r--r-- 1 root root   7786 Jun 13 15:40 pipeline.html\n",
            "-rw-r--r-- 1 root root    611 Jun 13 15:40 pipeline.yaml\n",
            "-rw-r--r-- 1 root root  51856 Jun 13 15:40 README.ipynb\n",
            "-rw-r--r-- 1 root root   4607 Jun 13 15:40 README.md\n",
            "-rw-r--r-- 1 root root     48 Jun 13 15:40 requirements.txt\n",
            "-rw-r--r-- 1 root root   3329 Jun 13 15:40 _source.md\n"
          ]
        }
      ],
      "source": [
        "!ploomber examples -n guides/first-pipeline -o first-pipeline\n",
        "%cd first-pipeline\n",
        "\n",
        "# You should see all of the pipeline content\n",
        "!ls -l"
      ]
    },
    {
      "cell_type": "markdown",
      "id": "557ded4b",
      "metadata": {
        "id": "557ded4b",
        "papermill": {
          "duration": 0.010177,
          "end_time": "2022-03-04T21:11:37.201718",
          "exception": false,
          "start_time": "2022-03-04T21:11:37.191541",
          "status": "completed"
        },
        "tags": []
      },
      "source": [
        "## Introduction\n",
        "\n",
        "Ploomber helps you build modular pipelines. A pipeline (or **DAG**) is a group of tasks with a particular execution order, where subsequent (or **downstream** tasks) use previous (or **upstream**) tasks as inputs.\n",
        "\n",
        "## Pipeline declaration\n",
        "\n",
        "This example pipeline contains five tasks, `1-get.py`, `2-profile-raw.py`, \n",
        "`3-clean.py`, `4-profile-clean.py` and `5-plot.py`; we declare them in a `pipeline.yaml` file:"
      ]
    },
    {
      "cell_type": "markdown",
      "id": "61449c34",
      "metadata": {
        "id": "61449c34",
        "papermill": {
          "duration": 0.007104,
          "end_time": "2022-03-04T21:11:37.216037",
          "exception": false,
          "start_time": "2022-03-04T21:11:37.208933",
          "status": "completed"
        },
        "region_name": "md",
        "tags": []
      },
      "source": [
        "```yaml\n",
        "# Content of pipeline.yaml\n",
        "tasks:\n",
        "   # source is the code you want to execute (.ipynb also supported)\n",
        "  - source: 1-get.py\n",
        "    # products are task's outputs\n",
        "    product:\n",
        "      # scripts generate executed notebooks as outputs\n",
        "      nb: output/1-get.html\n",
        "      # you can define as many outputs as you want\n",
        "      data: output/raw_data.csv\n",
        "\n",
        "  - source: 2-profile-raw.py\n",
        "    product: output/2-profile-raw.html\n",
        "\n",
        "  - source: 3-clean.py\n",
        "    product:\n",
        "      nb: output/3-clean.html\n",
        "      data: output/clean_data.parquet\n",
        "\n",
        "  - source: 4-profile-clean.py\n",
        "    product: output/4-profile-clean.html\n",
        "\n",
        "  - source: 5-plot.py\n",
        "    product: output/5-plot.html\n",
        "\n",
        "```"
      ]
    },
    {
      "cell_type": "markdown",
      "id": "cd0440d0",
      "metadata": {
        "id": "cd0440d0",
        "papermill": {
          "duration": 0.01086,
          "end_time": "2022-03-04T21:11:37.310553",
          "exception": false,
          "start_time": "2022-03-04T21:11:37.299693",
          "status": "completed"
        },
        "tags": []
      },
      "source": [
        "**Note:** YAML is a human-readable text format similar to JSON.\n",
        "\n",
        "**Note:** Ploomber supports Python scripts, Python functions, Jupyter notebooks, R scripts, and SQL scripts.\n",
        "\n",
        "## Opening `.py` files as notebooks\n",
        "\n",
        "Ploomber integrates with Jupyter. Among other things, it **allows you to open `.py` files as notebooks** (via `jupytext`).\n",
        "\n",
        "![lab-open-with-nb](https://ploomber.io/images/doc/lab-open-with-notebook.png)\n",
        "\n",
        "### What sets the execution order?\n",
        "\n",
        "Ploomber infers the pipeline structure from your code. For example, to\n",
        "clean the data, we must get it first; hence, we declare the following in `3-clean.py`:\n",
        "\n",
        "~~~python\n",
        "# 3-clean.py\n",
        "\n",
        "# this tells Ploomber to execute the '1-get' task before '3-clean'\n",
        "upstream = ['1-get']\n",
        "~~~\n",
        "\n",
        "## Plotting the pipeline"
      ]
    },
    {
      "cell_type": "code",
      "execution_count": 3,
      "id": "7f0ba683",
      "metadata": {
        "colab": {
          "base_uri": "https://localhost:8080/"
        },
        "execution": {
          "iopub.execute_input": "2022-03-04T21:11:37.329446Z",
          "iopub.status.busy": "2022-03-04T21:11:37.329206Z",
          "iopub.status.idle": "2022-03-04T21:11:45.028085Z",
          "shell.execute_reply": "2022-03-04T21:11:45.025978Z"
        },
        "id": "7f0ba683",
        "outputId": "6fa9c77c-b7b6-4dbd-cb0b-82980c600833",
        "papermill": {
          "duration": 7.711912,
          "end_time": "2022-03-04T21:11:45.032096",
          "exception": false,
          "start_time": "2022-03-04T21:11:37.320184",
          "status": "completed"
        },
        "tags": []
      },
      "outputs": [
        {
          "output_type": "stream",
          "name": "stdout",
          "text": [
            "Loading pipeline...\n",
            "Plot saved at: pipeline.html\n"
          ]
        },
        {
          "output_type": "stream",
          "name": "stderr",
          "text": [
            "\r  0%|          | 0/5 [00:00<?, ?it/s]\r100%|██████████| 5/5 [00:00<00:00, 7881.07it/s]\n"
          ]
        }
      ],
      "source": [
        "%%bash\n",
        "ploomber plot"
      ]
    },
    {
      "cell_type": "code",
      "execution_count": 5,
      "id": "2102aeb6",
      "metadata": {
        "colab": {
          "base_uri": "https://localhost:8080/",
          "height": 1000
        },
        "execution": {
          "iopub.execute_input": "2022-03-04T21:11:45.068017Z",
          "iopub.status.busy": "2022-03-04T21:11:45.067515Z",
          "iopub.status.idle": "2022-03-04T21:11:45.088623Z",
          "shell.execute_reply": "2022-03-04T21:11:45.087621Z"
        },
        "id": "2102aeb6",
        "outputId": "e76dc5c8-ef24-40aa-e9ff-2190b9adf891",
        "papermill": {
          "duration": 0.039519,
          "end_time": "2022-03-04T21:11:45.091570",
          "exception": false,
          "start_time": "2022-03-04T21:11:45.052051",
          "status": "completed"
        },
        "tags": []
      },
      "outputs": [
        {
          "output_type": "display_data",
          "data": {
            "text/plain": [
              "<IPython.core.display.HTML object>"
            ],
            "text/html": [
              "<!DOCTYPE html>\n",
              "<html>\n",
              "<style>\n",
              "  html {\n",
              "    height: 100%;\n",
              "  }\n",
              "\n",
              "  body {\n",
              "    margin: 0;\n",
              "    height: 100%;\n",
              "  }\n",
              "\n",
              "  #dag {\n",
              "    width: 50%;\n",
              "    height: 50%;\n",
              "  }\n",
              "\n",
              "  #js-message {\n",
              "    padding-top: 10px;\n",
              "    padding-left: 20px;\n",
              "  }\n",
              "</style>\n",
              "\n",
              "<head>\n",
              "  <script src=\"https://d3js.org/d3.v7.min.js\"></script>\n",
              "  <script src=\"https://unpkg.com/d3-dag@0.9.0\"></script>\n",
              "</head>\n",
              "\n",
              "<body>\n",
              "  <div id=\"js-message\">\n",
              "    <h1>Javascript is disabled</h1>\n",
              "    <p>If using <b> JupyterLab</b>, click on <b>Trust HTML</b> in the upper left corner.</p>\n",
              "    <p>Otherwise, check your browser settings.</p>\n",
              "  </div>\n",
              "  <svg id=\"dag\"></svg>\n",
              "</body>\n",
              "\n",
              "<script>\n",
              "  document.querySelector('#js-message').style.display = 'none';\n",
              "\n",
              "  // starts here - custom util/ helper functions to generate dag\n",
              "  function get_node_product_rectangle(align) {\n",
              "    if (align == \"left\") {\n",
              "      return \"translate(3, 6)\";\n",
              "    } else {\n",
              "      return \"translate(-50, 6)\";\n",
              "    }\n",
              "  }\n",
              "\n",
              "  function get_node_product_text(n_products, align) {\n",
              "    n_products = n_products < 2 ? 2 : n_products;\n",
              "    if (align == \"left\") {\n",
              "      return \"translate(5,\" + 16 / n_products + \")\";\n",
              "    } else {\n",
              "      return \"translate(-50, \" + 16 / n_products + \")\";\n",
              "    }\n",
              "  }\n",
              "\n",
              "  function products_len(d, default_val, thresh) {\n",
              "    if (d.data.products != undefined && d.data.products.length > thresh) {\n",
              "      return d.data.products.length;\n",
              "    }\n",
              "    return default_val;\n",
              "  }\n",
              "\n",
              "  function get_task_properties(node, align) {\n",
              "    // products\n",
              "    var node_props = {};\n",
              "    node_props[\"align\"] = align;\n",
              "    node_props[\"n_products\"] = 0;\n",
              "    node_props[\"product_width\"] = 30;\n",
              "    node_props[\"product_height\"] = 6;\n",
              "\n",
              "    if (\"products\" in node.data && node.data.products.length != 0) {\n",
              "      node_props[\"n_products\"] = node.data.products.length;\n",
              "      node_props[\"product_width\"] *=\n",
              "        node_props[\"n_products\"] < 2 ? 2 : node_props[\"n_products\"];\n",
              "      node_props[\"product_height\"] *= node_props[\"n_products\"];\n",
              "      // node_props[\"product_display\"] = \"block\";\n",
              "    } else {\n",
              "      node_props[\"product_display\"] = \"contents\";\n",
              "    }\n",
              "    node_props[\"product_rect_align\"] = get_node_product_rectangle(align);\n",
              "    node_props[\"product_text_align\"] = get_node_product_text(\n",
              "      node_props[\"n_products\"],\n",
              "      align\n",
              "    );\n",
              "\n",
              "    return node_props;\n",
              "  }\n",
              "\n",
              "  function get_properties(dag) {\n",
              "    var properties = {};\n",
              "\n",
              "    for (var eNode of dag) {\n",
              "      // var align = ec % 2 ? \"right\" : \"left\";\n",
              "      properties[eNode.data.id] = get_task_properties(\n",
              "        eNode,\n",
              "        'left'\n",
              "      );\n",
              "    }\n",
              "    return properties;\n",
              "  }\n",
              "\n",
              "  // ends here - custom util/ helper functions to generate dag\n",
              "\n",
              "  const data = [{\"fillcolor\": \"#F08080\", \"style\": \"dashed, filled\", \"fontname\": \"Helvetica\", \"fontsize\": \"16pt\", \"id\": \"1-get\", \"label\": \"1-get\", \"products\": [\"1-get\"]}, {\"fillcolor\": \"#F08080\", \"style\": \"dashed, filled\", \"fontname\": \"Helvetica\", \"fontsize\": \"16pt\", \"id\": \"2-profile-raw\", \"label\": \"2-profile-raw\", \"products\": [\"2-profile-raw\"], \"parentIds\": [\"1-get\"]}, {\"fillcolor\": \"#F08080\", \"style\": \"dashed, filled\", \"fontname\": \"Helvetica\", \"fontsize\": \"16pt\", \"id\": \"3-clean\", \"label\": \"3-clean\", \"products\": [\"3-clean\"], \"parentIds\": [\"1-get\"]}, {\"fillcolor\": \"#F08080\", \"style\": \"dashed, filled\", \"fontname\": \"Helvetica\", \"fontsize\": \"16pt\", \"id\": \"4-profile-clean\", \"label\": \"4-profile-clean\", \"products\": [\"4-profile-clean\"], \"parentIds\": [\"3-clean\"]}, {\"fillcolor\": \"#F08080\", \"style\": \"dashed, filled\", \"fontname\": \"Helvetica\", \"fontsize\": \"16pt\", \"id\": \"5-plot\", \"label\": \"5-plot\", \"products\": [\"5-plot\"], \"parentIds\": [\"3-clean\"]}];\n",
              "  const dag = d3.dagStratify()(data);\n",
              "\n",
              "  const nodeRadius = 20;\n",
              "  const layout = d3\n",
              "    .sugiyama() // base layout\n",
              "    .decross(d3.decrossOpt()) // minimize number of crossings\n",
              "    .nodeSize((node) => [(node ? 3.6 : 0.25) * nodeRadius, 3 * nodeRadius]); // set node size instead of constraining to fit\n",
              "  const { width, height } = layout(dag);\n",
              "\n",
              "  // --------------------------------\n",
              "  // This code only handles rendering\n",
              "  // --------------------------------\n",
              "  const svgSelection = d3.select(\"#dag\");\n",
              "  svgSelection.attr(\"viewBox\", [0, 0, width, height].join(\" \"));\n",
              "\n",
              "  // How to draw edges\n",
              "  const line = d3\n",
              "    .line()\n",
              "    .curve(d3.curveCatmullRom)\n",
              "    .x((d) => d.x)\n",
              "    .y((d) => d.y);\n",
              "\n",
              "  // Plot edges\n",
              "  svgSelection\n",
              "    .append(\"g\")\n",
              "    .selectAll(\"path\")\n",
              "    .data(dag.links())\n",
              "    .enter()\n",
              "    .append(\"path\")\n",
              "    .attr(\"d\", ({ points }) => line(points))\n",
              "    .attr(\"fill\", \"none\")\n",
              "    .attr(\"stroke-width\", 1)\n",
              "    .attr(\"stroke\", \"black\");\n",
              "\n",
              "\n",
              "  // Select tasks\n",
              "  const tasks = svgSelection\n",
              "    .append(\"g\")\n",
              "    .selectAll(\"g\")\n",
              "    .data(dag.descendants())\n",
              "    .enter()\n",
              "    .append(\"g\")\n",
              "    .attr(\"transform\", ({ x, y }) => `translate(${x}, ${y})`);\n",
              "\n",
              "\n",
              "  // Plot tasks as circles\n",
              "  tasks\n",
              "    .append(\"circle\")\n",
              "    .attr(\"r\", nodeRadius)\n",
              "    .attr(\"fill\", (d) => d.data.fillcolor)\n",
              "    .attr(\"stroke\", (d) => \"black\")\n",
              "    .attr(\"stroke-width\", 0.4);\n",
              "\n",
              "\n",
              "  const properties = get_properties(dag);\n",
              "\n",
              "  // plot products as rectangles\n",
              "  // tasks.append(\"rect\")\n",
              "  //   .attr(\"display\", (d) => { return properties[d.data.id]['product_display'] })\n",
              "  //   .attr(\"transform\", (d) => { return properties[d.data.id]['product_rect_align'] })\n",
              "  //   .attr(\"width\", (d) => { return properties[d.data.id]['product_width'] })\n",
              "  //   .attr(\"height\", (d) => { return properties[d.data.id]['product_height'] })\n",
              "  //   .attr(\"fill\", (d) => d.data.fillcolor)\n",
              "  //   .attr(\"stroke-width\", 0.3)\n",
              "  //   .attr(\"stroke\", \"black\");\n",
              "\n",
              "\n",
              "  function wrap(text, width) {\n",
              "    text.each(function () {\n",
              "      var text = d3.select(this),\n",
              "        words = text.text().split(',').reverse(),\n",
              "        word,\n",
              "        line = [],\n",
              "        lineNumber = 0,\n",
              "        lineHeight = 0.5, // ems\n",
              "        y = text.attr(\"y\"),\n",
              "        dy = parseFloat(text.attr(\"dy\")) || 0,\n",
              "        tspan = text.text(null).append(\"tspan\").attr(\"x\", 0).attr(\"y\", y).attr(\"dy\", dy + \"em\");\n",
              "      while (word = words.pop()) {\n",
              "        line.push(word);\n",
              "        tspan.text(line.join(\" \"));\n",
              "        if (tspan.node().getComputedTextLength() > width) {\n",
              "          line.pop();\n",
              "          tspan.text(line.join(\" \"));\n",
              "          line = [word];\n",
              "          tspan = text.append(\"tspan\").attr(\"x\", 0).attr(\"y\", y).attr(\"dy\", ++lineNumber * lineHeight + dy + \"em\").text(word);\n",
              "        }\n",
              "      }\n",
              "    });\n",
              "  }\n",
              "\n",
              "  // add text to products\n",
              "  // tasks.append(\"text\")\n",
              "  //   .attr(\"transform\",\n",
              "  //     (d) => { return properties[d.data.id]['product_text_align'] })\n",
              "  //   .attr(\"font-size\", 5)\n",
              "  //   .attr(\"fill\", \"black\")\n",
              "  //   .text((d) => d.data.label)\n",
              "  //   .call(wrap, 2);\n",
              "\n",
              "\n",
              "  // Add text to tasks\n",
              "  tasks.append(\"text\")\n",
              "    .text((d) => d.data.id)\n",
              "    .attr(\"font-size\", 6)\n",
              "    .attr(\"font-family\", \"sans-serif\")\n",
              "    .attr(\"text-anchor\", \"middle\")\n",
              "    .attr(\"alignment-baseline\", \"middle\")\n",
              "    .attr(\"fill\", \"black\");\n",
              "\n",
              "\n",
              "  const arrow = d3.symbol().type(d3.symbolTriangle).size(nodeRadius * nodeRadius / 20.0);\n",
              "  svgSelection.append('g')\n",
              "    .selectAll('path')\n",
              "    .data(dag.links())\n",
              "    .enter()\n",
              "    .append('path')\n",
              "    .attr('d', arrow)\n",
              "    .attr('transform', ({\n",
              "      source,\n",
              "      target,\n",
              "      points\n",
              "    }) => {\n",
              "      const [end, start] = points.slice().reverse();\n",
              "      // This sets the arrows the node radius (20) + a little bit (3) away from the node center, on the last line segment of the edge.\n",
              "      // This means that edges that only span ine level will work perfectly, but if the edge bends, this will be a little off.\n",
              "      const dx = start.x - end.x;\n",
              "      const dy = start.y - end.y;\n",
              "      const scale = nodeRadius * 1.15 / Math.sqrt(dx * dx + dy * dy);\n",
              "      // This is the angle of the last line segment\n",
              "      const angle = Math.atan2(-dy, -dx) * 180 / Math.PI + 90;\n",
              "      return `translate(${end.x + dx * scale}, ${end.y + dy * scale}) rotate(${angle})`;\n",
              "    })\n",
              "    .attr('fill', \"black\")\n",
              "    .attr('stroke-width', 1.5);\n",
              "</script>\n",
              "\n",
              "</html>"
            ]
          },
          "metadata": {}
        }
      ],
      "source": [
        "from IPython.display import HTML, IFrame\n",
        "display(HTML('pipeline.html')) # Either HTML or IFrame should work"
      ]
    },
    {
      "cell_type": "markdown",
      "id": "cb883a84",
      "metadata": {
        "id": "cb883a84",
        "papermill": {
          "duration": 0.012602,
          "end_time": "2022-03-04T21:11:45.125567",
          "exception": false,
          "start_time": "2022-03-04T21:11:45.112965",
          "status": "completed"
        },
        "tags": []
      },
      "source": [
        "You can see that our pipeline has a defined execution order.\n",
        "\n",
        "**Note:** This is a sample predifined five-task pipeline, Ploomber can manage arbitrarily complex pipelines and dependencies among tasks.\n",
        "\n",
        "## Running the pipeline"
      ]
    },
    {
      "cell_type": "code",
      "execution_count": 6,
      "id": "0b703534",
      "metadata": {
        "colab": {
          "base_uri": "https://localhost:8080/"
        },
        "execution": {
          "iopub.execute_input": "2022-03-04T21:11:45.150763Z",
          "iopub.status.busy": "2022-03-04T21:11:45.150357Z",
          "iopub.status.idle": "2022-03-04T21:12:48.659779Z",
          "shell.execute_reply": "2022-03-04T21:12:48.657752Z"
        },
        "id": "0b703534",
        "outputId": "f697abf2-d0f4-43bf-8a21-156b8d79bc0e",
        "papermill": {
          "duration": 63.712156,
          "end_time": "2022-03-04T21:12:48.848578",
          "exception": false,
          "start_time": "2022-03-04T21:11:45.136422",
          "status": "completed"
        },
        "tags": []
      },
      "outputs": [
        {
          "output_type": "stream",
          "name": "stdout",
          "text": [
            "Loading pipeline...\n",
            "name             Ran?      Elapsed (s)    Percentage\n",
            "---------------  ------  -------------  ------------\n",
            "1-get            True          2.81864       11.531\n",
            "2-profile-raw    True          4.76771       19.5045\n",
            "3-clean          True          2.83165       11.5842\n",
            "4-profile-clean  True          4.68803       19.1785\n",
            "5-plot           True          9.3381        38.2018\n"
          ]
        },
        {
          "output_type": "stream",
          "name": "stderr",
          "text": [
            "\r  0%|          | 0/5 [00:00<?, ?it/s]\rBuilding task '1-get':   0%|          | 0/5 [00:00<?, ?it/s]\n",
            "\rExecuting:   0%|          | 0/6 [00:00<?, ?cell/s]\u001b[A\n",
            "\rExecuting:  17%|█▋        | 1/6 [00:01<00:08,  1.77s/cell]\u001b[A\n",
            "\rExecuting:  67%|██████▋   | 4/6 [00:01<00:00,  2.59cell/s]\u001b[A\rExecuting: 100%|██████████| 6/6 [00:02<00:00,  2.49cell/s]\n",
            "\rBuilding task '1-get':  20%|██        | 1/5 [00:02<00:11,  2.82s/it]\rBuilding task '2-profile-raw':  20%|██        | 1/5 [00:02<00:11,  2.82s/it]\n",
            "\rExecuting:   0%|          | 0/7 [00:00<?, ?cell/s]\u001b[A\n",
            "\rExecuting:  14%|█▍        | 1/7 [00:01<00:08,  1.47s/cell]\u001b[A\n",
            "\rExecuting:  43%|████▎     | 3/7 [00:02<00:02,  1.61cell/s]\u001b[A\n",
            "\rExecuting:  71%|███████▏  | 5/7 [00:03<00:01,  1.71cell/s]\u001b[A\n",
            "\rExecuting:  86%|████████▌ | 6/7 [00:03<00:00,  1.85cell/s]\u001b[A\n",
            "\rExecuting: 100%|██████████| 7/7 [00:03<00:00,  2.15cell/s]\u001b[A\rExecuting: 100%|██████████| 7/7 [00:04<00:00,  1.58cell/s]\n",
            "\rBuilding task '2-profile-raw':  40%|████      | 2/5 [00:07<00:11,  3.97s/it]\rBuilding task '3-clean':  40%|████      | 2/5 [00:07<00:11,  3.97s/it]      \n",
            "\rExecuting:   0%|          | 0/9 [00:00<?, ?cell/s]\u001b[A\n",
            "\rExecuting:  11%|█         | 1/9 [00:01<00:14,  1.78s/cell]\u001b[A\n",
            "\rExecuting:  78%|███████▊  | 7/9 [00:01<00:00,  4.95cell/s]\u001b[A\rExecuting: 100%|██████████| 9/9 [00:02<00:00,  3.77cell/s]\n",
            "\rBuilding task '3-clean':  60%|██████    | 3/5 [00:10<00:06,  3.45s/it]\rBuilding task '4-profile-clean':  60%|██████    | 3/5 [00:10<00:06,  3.45s/it]\n",
            "\rExecuting:   0%|          | 0/7 [00:00<?, ?cell/s]\u001b[A\n",
            "\rExecuting:  14%|█▍        | 1/7 [00:01<00:08,  1.44s/cell]\u001b[A\n",
            "\rExecuting:  43%|████▎     | 3/7 [00:02<00:02,  1.67cell/s]\u001b[A\n",
            "\rExecuting:  71%|███████▏  | 5/7 [00:03<00:01,  1.75cell/s]\u001b[A\n",
            "\rExecuting:  86%|████████▌ | 6/7 [00:03<00:00,  1.90cell/s]\u001b[A\n",
            "\rExecuting: 100%|██████████| 7/7 [00:03<00:00,  2.19cell/s]\u001b[A\rExecuting: 100%|██████████| 7/7 [00:04<00:00,  1.61cell/s]\n",
            "\rBuilding task '4-profile-clean':  80%|████████  | 4/5 [00:15<00:03,  3.94s/it]\rBuilding task '5-plot':  80%|████████  | 4/5 [00:15<00:03,  3.94s/it]         \n",
            "\rExecuting:   0%|          | 0/8 [00:00<?, ?cell/s]\u001b[A\n",
            "\rExecuting:  12%|█▎        | 1/8 [00:01<00:13,  2.00s/cell]\u001b[A\n",
            "\rExecuting:  62%|██████▎   | 5/8 [00:02<00:01,  2.45cell/s]\u001b[A\n",
            "\rExecuting:  75%|███████▌  | 6/8 [00:05<00:02,  1.03s/cell]\u001b[A\n",
            "\rExecuting:  88%|████████▊ | 7/8 [00:08<00:01,  1.41s/cell]\u001b[A\rExecuting: 100%|██████████| 8/8 [00:09<00:00,  1.13s/cell]\n",
            "\rBuilding task '5-plot': 100%|██████████| 5/5 [00:24<00:00,  5.89s/it]\rBuilding task '5-plot': 100%|██████████| 5/5 [00:24<00:00,  4.89s/it]\n"
          ]
        }
      ],
      "source": [
        "%%bash\n",
        "# takes a few seconds to finish\n",
        "ploomber build"
      ]
    },
    {
      "cell_type": "markdown",
      "id": "f7c6c655",
      "metadata": {
        "id": "f7c6c655",
        "papermill": {
          "duration": 0.01449,
          "end_time": "2022-03-04T21:12:48.893189",
          "exception": false,
          "start_time": "2022-03-04T21:12:48.878699",
          "status": "completed"
        },
        "tags": []
      },
      "source": [
        "This pipeline saves all the output in the `output/` directory; we have the output notebooks and data files:"
      ]
    },
    {
      "cell_type": "code",
      "execution_count": 7,
      "id": "04ba3c39",
      "metadata": {
        "colab": {
          "base_uri": "https://localhost:8080/"
        },
        "execution": {
          "iopub.execute_input": "2022-03-04T21:12:48.931056Z",
          "iopub.status.busy": "2022-03-04T21:12:48.929110Z",
          "iopub.status.idle": "2022-03-04T21:12:48.966034Z",
          "shell.execute_reply": "2022-03-04T21:12:48.965064Z"
        },
        "id": "04ba3c39",
        "outputId": "616ddfb1-2e6f-4856-aa7b-2ae71a7f7bcc",
        "papermill": {
          "duration": 0.059592,
          "end_time": "2022-03-04T21:12:48.968969",
          "exception": false,
          "start_time": "2022-03-04T21:12:48.909377",
          "status": "completed"
        },
        "tags": []
      },
      "outputs": [
        {
          "output_type": "stream",
          "name": "stdout",
          "text": [
            "1-get.html\n",
            "2-profile-raw.html\n",
            "3-clean.html\n",
            "4-profile-clean.html\n",
            "5-plot.html\n",
            "clean_data.parquet\n",
            "raw_data.csv\n"
          ]
        }
      ],
      "source": [
        "%%bash\n",
        "ls output"
      ]
    },
    {
      "cell_type": "markdown",
      "id": "0e487b42",
      "metadata": {
        "id": "0e487b42",
        "papermill": {
          "duration": 0.022298,
          "end_time": "2022-03-04T21:12:49.010294",
          "exception": false,
          "start_time": "2022-03-04T21:12:48.987996",
          "status": "completed"
        },
        "tags": []
      },
      "source": [
        "## Updating the pipeline\n",
        "\n",
        "Ploomber automatically caches your pipeline’s previous results and only runs tasks that changed since your last execution.\n",
        "\n",
        "Execute the following to modify the `3-clean.py` script"
      ]
    },
    {
      "cell_type": "code",
      "execution_count": 8,
      "id": "7e1a5440",
      "metadata": {
        "colab": {
          "base_uri": "https://localhost:8080/"
        },
        "execution": {
          "iopub.execute_input": "2022-03-04T21:12:49.056572Z",
          "iopub.status.busy": "2022-03-04T21:12:49.056198Z",
          "iopub.status.idle": "2022-03-04T21:12:49.071105Z",
          "shell.execute_reply": "2022-03-04T21:12:49.070078Z"
        },
        "id": "7e1a5440",
        "outputId": "0769f83e-dd76-4be5-bd64-10c76e77be71",
        "papermill": {
          "duration": 0.037483,
          "end_time": "2022-03-04T21:12:49.074258",
          "exception": false,
          "start_time": "2022-03-04T21:12:49.036775",
          "status": "completed"
        },
        "tags": []
      },
      "outputs": [
        {
          "output_type": "execute_result",
          "data": {
            "text/plain": [
              "397"
            ]
          },
          "metadata": {},
          "execution_count": 8
        }
      ],
      "source": [
        "from pathlib import Path\n",
        "\n",
        "path = Path('3-clean.py')\n",
        "clean = path.read_text()\n",
        "\n",
        "# add a print statement at the end of 3-clean.py\n",
        "path.write_text(clean + \"\"\"\n",
        "print(\"hello\")\n",
        "\"\"\")"
      ]
    },
    {
      "cell_type": "markdown",
      "id": "bad69a7f",
      "metadata": {
        "id": "bad69a7f",
        "papermill": {
          "duration": 0.044731,
          "end_time": "2022-03-04T21:12:49.132447",
          "exception": false,
          "start_time": "2022-03-04T21:12:49.087716",
          "status": "completed"
        },
        "tags": []
      },
      "source": [
        "Execute the pipeline again:"
      ]
    },
    {
      "cell_type": "code",
      "execution_count": 9,
      "id": "847ffaa0",
      "metadata": {
        "colab": {
          "base_uri": "https://localhost:8080/"
        },
        "execution": {
          "iopub.execute_input": "2022-03-04T21:12:49.205590Z",
          "iopub.status.busy": "2022-03-04T21:12:49.204930Z",
          "iopub.status.idle": "2022-03-04T21:13:09.390124Z",
          "shell.execute_reply": "2022-03-04T21:13:09.388160Z"
        },
        "id": "847ffaa0",
        "outputId": "d2678184-9c36-4241-bafb-9b97e0388a55",
        "papermill": {
          "duration": 20.22077,
          "end_time": "2022-03-04T21:13:09.396218",
          "exception": false,
          "start_time": "2022-03-04T21:12:49.175448",
          "status": "completed"
        },
        "tags": []
      },
      "outputs": [
        {
          "output_type": "stream",
          "name": "stdout",
          "text": [
            "Loading pipeline...\n",
            "name             Ran?      Elapsed (s)    Percentage\n",
            "---------------  ------  -------------  ------------\n",
            "3-clean          True          2.78456       16.7928\n",
            "4-profile-clean  True          4.495         27.1079\n",
            "5-plot           True          9.30233       56.0993\n",
            "1-get            False         0              0\n",
            "2-profile-raw    False         0              0\n"
          ]
        },
        {
          "output_type": "stream",
          "name": "stderr",
          "text": [
            "\r  0%|          | 0/3 [00:00<?, ?it/s]\rBuilding task '3-clean':   0%|          | 0/3 [00:00<?, ?it/s]\n",
            "\rExecuting:   0%|          | 0/9 [00:00<?, ?cell/s]\u001b[A\n",
            "\rExecuting:  11%|█         | 1/9 [00:01<00:14,  1.78s/cell]\u001b[A\n",
            "\rExecuting:  78%|███████▊  | 7/9 [00:01<00:00,  4.95cell/s]\u001b[A\rExecuting: 100%|██████████| 9/9 [00:02<00:00,  3.80cell/s]\n",
            "\rBuilding task '3-clean':  33%|███▎      | 1/3 [00:02<00:05,  2.79s/it]\rBuilding task '4-profile-clean':  33%|███▎      | 1/3 [00:02<00:05,  2.79s/it]\n",
            "\rExecuting:   0%|          | 0/7 [00:00<?, ?cell/s]\u001b[A\n",
            "\rExecuting:  14%|█▍        | 1/7 [00:01<00:08,  1.39s/cell]\u001b[A\n",
            "\rExecuting:  43%|████▎     | 3/7 [00:01<00:02,  1.71cell/s]\u001b[A\n",
            "\rExecuting:  71%|███████▏  | 5/7 [00:03<00:01,  1.84cell/s]\u001b[A\n",
            "\rExecuting:  86%|████████▌ | 6/7 [00:03<00:00,  2.00cell/s]\u001b[A\n",
            "\rExecuting: 100%|██████████| 7/7 [00:03<00:00,  2.31cell/s]\u001b[A\rExecuting: 100%|██████████| 7/7 [00:04<00:00,  1.68cell/s]\n",
            "\rBuilding task '4-profile-clean':  67%|██████▋   | 2/3 [00:07<00:03,  3.79s/it]\rBuilding task '5-plot':  67%|██████▋   | 2/3 [00:07<00:03,  3.79s/it]         \n",
            "\rExecuting:   0%|          | 0/8 [00:00<?, ?cell/s]\u001b[A\n",
            "\rExecuting:  12%|█▎        | 1/8 [00:01<00:13,  1.98s/cell]\u001b[A\n",
            "\rExecuting:  62%|██████▎   | 5/8 [00:02<00:01,  2.49cell/s]\u001b[A\n",
            "\rExecuting:  75%|███████▌  | 6/8 [00:05<00:02,  1.00s/cell]\u001b[A\n",
            "\rExecuting:  88%|████████▊ | 7/8 [00:08<00:01,  1.39s/cell]\u001b[A\rExecuting: 100%|██████████| 8/8 [00:08<00:00,  1.11s/cell]\n",
            "\rBuilding task '5-plot': 100%|██████████| 3/3 [00:16<00:00,  6.31s/it]\rBuilding task '5-plot': 100%|██████████| 3/3 [00:16<00:00,  5.53s/it]\n"
          ]
        }
      ],
      "source": [
        "%%bash\n",
        "# takes a few seconds to finish\n",
        "ploomber build"
      ]
    },
    {
      "cell_type": "code",
      "execution_count": 10,
      "id": "5cf1334a",
      "metadata": {
        "colab": {
          "base_uri": "https://localhost:8080/"
        },
        "execution": {
          "iopub.execute_input": "2022-03-04T21:13:09.447006Z",
          "iopub.status.busy": "2022-03-04T21:13:09.446599Z",
          "iopub.status.idle": "2022-03-04T21:13:09.460295Z",
          "shell.execute_reply": "2022-03-04T21:13:09.457359Z"
        },
        "id": "5cf1334a",
        "outputId": "6b933cca-6be2-4f32-f4fc-c603b63f1461",
        "papermill": {
          "duration": 0.039913,
          "end_time": "2022-03-04T21:13:09.465252",
          "exception": false,
          "start_time": "2022-03-04T21:13:09.425339",
          "status": "completed"
        },
        "tags": []
      },
      "outputs": [
        {
          "output_type": "execute_result",
          "data": {
            "text/plain": [
              "381"
            ]
          },
          "metadata": {},
          "execution_count": 10
        }
      ],
      "source": [
        "# restore contents\n",
        "path.write_text(clean)"
      ]
    },
    {
      "cell_type": "markdown",
      "id": "dc334db6",
      "metadata": {
        "id": "dc334db6",
        "papermill": {
          "duration": 0.020768,
          "end_time": "2022-03-04T21:13:09.505049",
          "exception": false,
          "start_time": "2022-03-04T21:13:09.484281",
          "status": "completed"
        },
        "tags": []
      },
      "source": [
        "You'll see that `1-get.py` & `2-profile-raw.py` didn't run because it was not affected by the change!\n",
        "\n",
        "## Where to go from here\n",
        "\n",
        "**Bring your own code!** Check out the tutorial to [migrate your code to Ploomber](https://docs.ploomber.io/en/latest/user-guide/refactoring.html).\n",
        "\n",
        "Have questions? [Ask us anything on Slack](https://ploomber.io/community/).\n",
        "\n",
        "Want to dig deeper into Ploomber's core concepts? Check out [the basic concepts tutorial](https://docs.ploomber.io/en/latest/get-started/basic-concepts.html).\n",
        "\n",
        "Want to start a new project quickly? Check out [how to get examples](https://docs.ploomber.io/en/latest/user-guide/templates.html).\n",
        "\n"
      ]
    }
  ],
  "metadata": {
    "colab": {
      "name": "README.ipynb",
      "provenance": []
    },
    "interpreter": {
      "hash": "916dbcbb3f70747c44a77c7bcd40155683ae19c65e1c03b4aa3499c5328201f1"
    },
    "kernelspec": {
      "display_name": "Python 3.8.10 64-bit",
      "language": "python",
      "name": "python3"
    },
    "language_info": {
      "codemirror_mode": {
        "name": "ipython",
        "version": 3
      },
      "file_extension": ".py",
      "mimetype": "text/x-python",
      "name": "python",
      "nbconvert_exporter": "python",
      "pygments_lexer": "ipython3",
      "version": "3.8.10"
    },
    "papermill": {
      "default_parameters": {},
      "duration": 94.635245,
      "end_time": "2022-03-04T21:13:09.866952",
      "environment_variables": {},
      "exception": null,
      "input_path": "guides/first-pipeline/_build/readme_preprocessed.ipynb",
      "output_path": "guides/first-pipeline/README.ipynb",
      "parameters": {},
      "start_time": "2022-03-04T21:11:35.231707",
      "version": "2.3.4"
    }
  },
  "nbformat": 4,
  "nbformat_minor": 5
}