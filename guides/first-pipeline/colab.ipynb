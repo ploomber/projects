{
 "cells": [
  {
   "cell_type": "markdown",
   "id": "bce6a4df-5565-4e39-958e-4f2b43f5f501",
   "metadata": {},
   "source": [
    "# Your first Python pipeline\n",
    "\n",
    "<!-- start description -->\n",
    "Introductory tutorial to learn the basics of Ploomber.\n",
    "<!-- end description -->\n",
    "\n",
    "## Installing dependencies\n",
    "We'll run a few commands to bootstrap the colab instance ~40 seconds"
   ]
  },
  {
   "cell_type": "code",
   "execution_count": 1,
   "id": "nTmX5-ok1Y3S",
   "metadata": {
    "colab": {
     "base_uri": "https://localhost:8080/"
    },
    "id": "nTmX5-ok1Y3S",
    "outputId": "46803875-a219-4ca2-bb33-320ef6ddb208"
   },
   "outputs": [
    {
     "name": "stdout",
     "output_type": "stream",
     "text": [
      "Installing Ploomber\n",
      "\u001b[K     |████████████████████████████████| 294 kB 14.4 MB/s \n",
      "\u001b[K     |████████████████████████████████| 1.4 MB 67.7 MB/s \n",
      "\u001b[K     |████████████████████████████████| 40 kB 9.7 kB/s \n",
      "\u001b[K     |████████████████████████████████| 45 kB 2.4 MB/s \n",
      "\u001b[K     |████████████████████████████████| 69 kB 5.5 MB/s \n",
      "\u001b[K     |████████████████████████████████| 10.9 MB 55.5 MB/s \n",
      "\u001b[K     |████████████████████████████████| 297 kB 56.3 MB/s \n",
      "\u001b[K     |████████████████████████████████| 843 kB 59.5 MB/s \n",
      "\u001b[K     |████████████████████████████████| 97 kB 3.5 MB/s \n",
      "\u001b[K     |████████████████████████████████| 42 kB 486 kB/s \n",
      "\u001b[K     |████████████████████████████████| 793 kB 39.7 MB/s \n",
      "\u001b[K     |████████████████████████████████| 792 kB 58.5 MB/s \n",
      "\u001b[K     |████████████████████████████████| 792 kB 63.9 MB/s \n",
      "\u001b[K     |████████████████████████████████| 791 kB 63.9 MB/s \n",
      "\u001b[K     |████████████████████████████████| 790 kB 67.7 MB/s \n",
      "\u001b[K     |████████████████████████████████| 788 kB 73.0 MB/s \n",
      "\u001b[K     |████████████████████████████████| 787 kB 57.7 MB/s \n",
      "\u001b[K     |████████████████████████████████| 786 kB 62.0 MB/s \n",
      "\u001b[K     |████████████████████████████████| 786 kB 64.7 MB/s \n",
      "\u001b[K     |████████████████████████████████| 785 kB 67.0 MB/s \n",
      "\u001b[K     |████████████████████████████████| 785 kB 62.6 MB/s \n",
      "\u001b[K     |████████████████████████████████| 785 kB 47.9 MB/s \n",
      "\u001b[K     |████████████████████████████████| 785 kB 64.6 MB/s \n",
      "\u001b[K     |████████████████████████████████| 785 kB 63.6 MB/s \n",
      "\u001b[K     |████████████████████████████████| 784 kB 55.9 MB/s \n",
      "\u001b[K     |████████████████████████████████| 784 kB 60.3 MB/s \n",
      "\u001b[K     |████████████████████████████████| 784 kB 65.1 MB/s \n",
      "\u001b[K     |████████████████████████████████| 786 kB 36.3 MB/s \n",
      "\u001b[K     |████████████████████████████████| 786 kB 62.6 MB/s \n",
      "\u001b[K     |████████████████████████████████| 786 kB 60.1 MB/s \n",
      "\u001b[K     |████████████████████████████████| 83 kB 1.7 MB/s \n",
      "\u001b[K     |████████████████████████████████| 43 kB 1.3 MB/s \n",
      "\u001b[K     |████████████████████████████████| 130 kB 70.5 MB/s \n",
      "\u001b[?25h  Building wheel for ipdb (setup.py) ... \u001b[?25l\u001b[?25hdone\n",
      "\u001b[31mERROR: pip's dependency resolver does not currently take into account all the packages that are installed. This behaviour is the source of the following dependency conflicts.\n",
      "flask 1.1.4 requires click<8.0,>=5.1, but you have click 8.0.4 which is incompatible.\u001b[0m\n",
      "Installing pygraphviz\n",
      "Get:1 http://ppa.launchpad.net/c2d4u.team/c2d4u4.0+/ubuntu bionic InRelease [15.9 kB]\n",
      "Hit:2 http://archive.ubuntu.com/ubuntu bionic InRelease\n",
      "Get:3 http://archive.ubuntu.com/ubuntu bionic-updates InRelease [88.7 kB]\n",
      "Hit:4 http://ppa.launchpad.net/cran/libgit2/ubuntu bionic InRelease\n",
      "Get:5 https://cloud.r-project.org/bin/linux/ubuntu bionic-cran40/ InRelease [3,626 B]\n",
      "Hit:6 http://ppa.launchpad.net/deadsnakes/ppa/ubuntu bionic InRelease\n",
      "Get:7 http://archive.ubuntu.com/ubuntu bionic-backports InRelease [74.6 kB]\n",
      "Get:8 http://ppa.launchpad.net/graphics-drivers/ppa/ubuntu bionic InRelease [21.3 kB]\n",
      "Get:9 http://security.ubuntu.com/ubuntu bionic-security InRelease [88.7 kB]\n",
      "Ign:10 https://developer.download.nvidia.com/compute/cuda/repos/ubuntu1804/x86_64  InRelease\n",
      "Get:11 http://ppa.launchpad.net/c2d4u.team/c2d4u4.0+/ubuntu bionic/main Sources [1,827 kB]\n",
      "Ign:12 https://developer.download.nvidia.com/compute/machine-learning/repos/ubuntu1804/x86_64  InRelease\n",
      "Get:13 https://developer.download.nvidia.com/compute/cuda/repos/ubuntu1804/x86_64  Release [696 B]\n",
      "Hit:14 https://developer.download.nvidia.com/compute/machine-learning/repos/ubuntu1804/x86_64  Release\n",
      "Get:15 http://ppa.launchpad.net/c2d4u.team/c2d4u4.0+/ubuntu bionic/main amd64 Packages [936 kB]\n",
      "Get:16 https://developer.download.nvidia.com/compute/cuda/repos/ubuntu1804/x86_64  Release.gpg [836 B]\n",
      "Get:17 https://cloud.r-project.org/bin/linux/ubuntu bionic-cran40/ Packages [76.8 kB]\n",
      "Get:18 http://archive.ubuntu.com/ubuntu bionic-updates/universe amd64 Packages [2,252 kB]\n",
      "Get:19 http://archive.ubuntu.com/ubuntu bionic-updates/main amd64 Packages [3,036 kB]\n",
      "Get:20 http://archive.ubuntu.com/ubuntu bionic-updates/restricted amd64 Packages [840 kB]\n",
      "Get:21 http://ppa.launchpad.net/graphics-drivers/ppa/ubuntu bionic/main amd64 Packages [42.8 kB]\n",
      "Get:23 https://developer.download.nvidia.com/compute/cuda/repos/ubuntu1804/x86_64  Packages [931 kB]\n",
      "Get:24 http://security.ubuntu.com/ubuntu bionic-security/universe amd64 Packages [1,474 kB]\n",
      "Get:25 http://security.ubuntu.com/ubuntu bionic-security/main amd64 Packages [2,596 kB]\n",
      "Get:26 http://security.ubuntu.com/ubuntu bionic-security/restricted amd64 Packages [806 kB]\n",
      "Fetched 15.1 MB in 2s (6,439 kB/s)\n",
      "Reading package lists...\n",
      "Reading package lists...\n",
      "Building dependency tree...\n",
      "Reading state information...\n",
      "graphviz is already the newest version (2.40.1-2).\n",
      "The following package was automatically installed and is no longer required:\n",
      "  libnvidia-common-470\n",
      "Use 'sudo apt autoremove' to remove it.\n",
      "The following additional packages will be installed:\n",
      "  libgail-common libgail18 libgtk2.0-0 libgtk2.0-bin libgtk2.0-common\n",
      "  libgvc6-plugins-gtk libxdot4\n",
      "Suggested packages:\n",
      "  gvfs\n",
      "The following NEW packages will be installed:\n",
      "  libgail-common libgail18 libgraphviz-dev libgtk2.0-0 libgtk2.0-bin\n",
      "  libgtk2.0-common libgvc6-plugins-gtk libxdot4\n",
      "0 upgraded, 8 newly installed, 0 to remove and 75 not upgraded.\n",
      "Need to get 2,120 kB of archives.\n",
      "After this operation, 7,128 kB of additional disk space will be used.\n",
      "Get:1 http://archive.ubuntu.com/ubuntu bionic/main amd64 libgtk2.0-common all 2.24.32-1ubuntu1 [125 kB]\n",
      "Get:2 http://archive.ubuntu.com/ubuntu bionic/main amd64 libgtk2.0-0 amd64 2.24.32-1ubuntu1 [1,769 kB]\n",
      "Get:3 http://archive.ubuntu.com/ubuntu bionic/main amd64 libgail18 amd64 2.24.32-1ubuntu1 [14.2 kB]\n",
      "Get:4 http://archive.ubuntu.com/ubuntu bionic/main amd64 libgail-common amd64 2.24.32-1ubuntu1 [112 kB]\n",
      "Get:5 http://archive.ubuntu.com/ubuntu bionic/universe amd64 libxdot4 amd64 2.40.1-2 [15.7 kB]\n",
      "Get:6 http://archive.ubuntu.com/ubuntu bionic/universe amd64 libgvc6-plugins-gtk amd64 2.40.1-2 [18.2 kB]\n",
      "Get:7 http://archive.ubuntu.com/ubuntu bionic/universe amd64 libgraphviz-dev amd64 2.40.1-2 [57.3 kB]\n",
      "Get:8 http://archive.ubuntu.com/ubuntu bionic/main amd64 libgtk2.0-bin amd64 2.24.32-1ubuntu1 [7,536 B]\n",
      "Fetched 2,120 kB in 0s (14.5 MB/s)\n",
      "debconf: unable to initialize frontend: Dialog\n",
      "debconf: (No usable dialog-like program is installed, so the dialog based frontend cannot be used. at /usr/share/perl5/Debconf/FrontEnd/Dialog.pm line 76, <> line 8.)\n",
      "debconf: falling back to frontend: Readline\n",
      "debconf: unable to initialize frontend: Readline\n",
      "debconf: (This frontend requires a controlling tty.)\n",
      "debconf: falling back to frontend: Teletype\n",
      "dpkg-preconfigure: unable to re-open stdin: \n",
      "Selecting previously unselected package libgtk2.0-common.\n",
      "(Reading database ... 155320 files and directories currently installed.)\n",
      "Preparing to unpack .../0-libgtk2.0-common_2.24.32-1ubuntu1_all.deb ...\n",
      "Unpacking libgtk2.0-common (2.24.32-1ubuntu1) ...\n",
      "Selecting previously unselected package libgtk2.0-0:amd64.\n",
      "Preparing to unpack .../1-libgtk2.0-0_2.24.32-1ubuntu1_amd64.deb ...\n",
      "Unpacking libgtk2.0-0:amd64 (2.24.32-1ubuntu1) ...\n",
      "Selecting previously unselected package libgail18:amd64.\n",
      "Preparing to unpack .../2-libgail18_2.24.32-1ubuntu1_amd64.deb ...\n",
      "Unpacking libgail18:amd64 (2.24.32-1ubuntu1) ...\n",
      "Selecting previously unselected package libgail-common:amd64.\n",
      "Preparing to unpack .../3-libgail-common_2.24.32-1ubuntu1_amd64.deb ...\n",
      "Unpacking libgail-common:amd64 (2.24.32-1ubuntu1) ...\n",
      "Selecting previously unselected package libxdot4.\n",
      "Preparing to unpack .../4-libxdot4_2.40.1-2_amd64.deb ...\n",
      "Unpacking libxdot4 (2.40.1-2) ...\n",
      "Selecting previously unselected package libgvc6-plugins-gtk.\n",
      "Preparing to unpack .../5-libgvc6-plugins-gtk_2.40.1-2_amd64.deb ...\n",
      "Unpacking libgvc6-plugins-gtk (2.40.1-2) ...\n",
      "Selecting previously unselected package libgraphviz-dev.\n",
      "Preparing to unpack .../6-libgraphviz-dev_2.40.1-2_amd64.deb ...\n",
      "Unpacking libgraphviz-dev (2.40.1-2) ...\n",
      "Selecting previously unselected package libgtk2.0-bin.\n",
      "Preparing to unpack .../7-libgtk2.0-bin_2.24.32-1ubuntu1_amd64.deb ...\n",
      "Unpacking libgtk2.0-bin (2.24.32-1ubuntu1) ...\n",
      "Setting up libgtk2.0-common (2.24.32-1ubuntu1) ...\n",
      "Setting up libxdot4 (2.40.1-2) ...\n",
      "Setting up libgtk2.0-0:amd64 (2.24.32-1ubuntu1) ...\n",
      "Setting up libgail18:amd64 (2.24.32-1ubuntu1) ...\n",
      "Setting up libgail-common:amd64 (2.24.32-1ubuntu1) ...\n",
      "Setting up libgvc6-plugins-gtk (2.40.1-2) ...\n",
      "Setting up libgraphviz-dev (2.40.1-2) ...\n",
      "Setting up libgtk2.0-bin (2.24.32-1ubuntu1) ...\n",
      "Processing triggers for man-db (2.8.3-2ubuntu0.1) ...\n",
      "Processing triggers for libc-bin (2.27-3ubuntu1.3) ...\n",
      "/sbin/ldconfig.real: /usr/local/lib/python3.7/dist-packages/ideep4py/lib/libmkldnn.so.0 is not a symbolic link\n",
      "\n",
      "\u001b[K     |████████████████████████████████| 118 kB 12.8 MB/s \n",
      "\u001b[?25h  Building wheel for pygraphviz (setup.py) ... \u001b[?25l\u001b[?25hdone\n"
     ]
    }
   ],
   "source": [
    "# Basic installs, run this and read the bottom instructions\n",
    "!echo Installing packages with fixed versions for colab\n",
    "!pip -q install -r https://github.com/ploomber/ploomber/raw/master/requirements-colab.lock.txt\n",
    "!echo Installing Ploomber\n",
    "!pip -q install ploomber black\n",
    "!echo Installing pygraphviz\n",
    "!sudo apt-get -q update -y\n",
    "!sudo apt-get -q install -y graphviz graphviz-dev\n",
    "!pip -q install graphviz 'pygraphviz<1.8'"
   ]
  },
  {
   "cell_type": "code",
   "execution_count": 3,
   "id": "zk5QZoWL1vAi",
   "metadata": {
    "colab": {
     "base_uri": "https://localhost:8080/"
    },
    "id": "zk5QZoWL1vAi",
    "outputId": "dae9029f-08ec-4681-a1c0-245917c3b212"
   },
   "outputs": [
    {
     "name": "stdout",
     "output_type": "stream",
     "text": [
      "Local copy does not exist...\n",
      "Cloning into '/root/.ploomber/projects'...\n",
      "remote: Enumerating objects: 418, done.\u001b[K\n",
      "remote: Counting objects: 100% (418/418), done.\u001b[K\n",
      "remote: Compressing objects: 100% (336/336), done.\u001b[K\n",
      "remote: Total 418 (delta 65), reused 287 (delta 35), pack-reused 0\u001b[K\n",
      "Receiving objects: 100% (418/418), 1.35 MiB | 2.42 MiB/s, done.\n",
      "Resolving deltas: 100% (65/65), done.\n",
      "\u001b[34m=========== Copying example guides/first-pipeline to first-pipeline/ ===========\u001b[0m\n",
      "Next steps:\n",
      "\n",
      "$ cd first-pipeline/\n",
      "$ ploomber install\u001b[34m\n",
      "\n",
      "Open first-pipeline/README.md for details.\n",
      "\u001b[0m/content/first-pipeline\n",
      "total 152\n",
      "-rw-r--r-- 1 root root    338 Mar  6 20:06 1-get.py\n",
      "-rw-r--r-- 1 root root    384 Mar  6 20:06 2-profile-raw.py\n",
      "-rw-r--r-- 1 root root    401 Mar  6 20:06 3-clean.py\n",
      "-rw-r--r-- 1 root root    394 Mar  6 20:06 4-profile-clean.py\n",
      "-rw-r--r-- 1 root root    335 Mar  6 20:06 5-plot.py\n",
      "-rw-r--r-- 1 root root    141 Mar  6 20:06 environment.yml\n",
      "-rw-r--r-- 1 root root    616 Mar  6 20:06 pipeline.yaml\n",
      "-rw-r--r-- 1 root root 108853 Mar  6 20:06 README.ipynb\n",
      "-rw-r--r-- 1 root root   4608 Mar  6 20:06 README.md\n",
      "-rw-r--r-- 1 root root     48 Mar  6 20:06 requirements.txt\n",
      "-rw-r--r-- 1 root root   3329 Mar  6 20:06 _source.md\n"
     ]
    }
   ],
   "source": [
    "!ploomber examples -n guides/first-pipeline -o first-pipeline\n",
    "%cd first-pipeline\n",
    "\n",
    "# You should see all of the pipeline content\n",
    "!ls -l"
   ]
  },
  {
   "cell_type": "markdown",
   "id": "557ded4b",
   "metadata": {
    "id": "557ded4b",
    "papermill": {
     "duration": 0.010177,
     "end_time": "2022-03-04T21:11:37.201718",
     "exception": false,
     "start_time": "2022-03-04T21:11:37.191541",
     "status": "completed"
    },
    "tags": []
   },
   "source": [
    "## Introduction\n",
    "\n",
    "Ploomber helps you build modular pipelines. A pipeline (or **DAG**) is a group of tasks with a particular execution order, where subsequent (or **downstream** tasks) use previous (or **upstream**) tasks as inputs.\n",
    "\n",
    "## Pipeline declaration\n",
    "\n",
    "This example pipeline contains five tasks, `1-get.py`, `2-profile-raw.py`, \n",
    "`3-clean.py`, `4-profile-clean.py` and `5-plot.py`; we declare them in a `pipeline.yaml` file:"
   ]
  },
  {
   "cell_type": "markdown",
   "id": "61449c34",
   "metadata": {
    "id": "61449c34",
    "papermill": {
     "duration": 0.007104,
     "end_time": "2022-03-04T21:11:37.216037",
     "exception": false,
     "start_time": "2022-03-04T21:11:37.208933",
     "status": "completed"
    },
    "region_name": "md",
    "tags": []
   },
   "source": [
    "```yaml\n",
    "# Content of pipeline.yaml\n",
    "tasks:\n",
    "   # source is the code you want to execute (.ipynb also supported)\n",
    "  - source: 1-get.py\n",
    "    # products are task's outputs\n",
    "    product:\n",
    "      # scripts generate executed notebooks as outputs\n",
    "      nb: output/1-get.ipynb\n",
    "      # you can define as many outputs as you want\n",
    "      data: output/raw_data.csv\n",
    "\n",
    "  - source: 2-profile-raw.py\n",
    "    product: output/2-profile-raw.ipynb\n",
    "\n",
    "  - source: 3-clean.py\n",
    "    product:\n",
    "      nb: output/3-clean.ipynb\n",
    "      data: output/clean_data.parquet\n",
    "\n",
    "  - source: 4-profile-clean.py\n",
    "    product: output/4-profile-clean.ipynb\n",
    "\n",
    "  - source: 5-plot.py\n",
    "    product: output/5-plot.ipynb\n",
    "\n",
    "```"
   ]
  },
  {
   "cell_type": "markdown",
   "id": "cd0440d0",
   "metadata": {
    "id": "cd0440d0",
    "papermill": {
     "duration": 0.01086,
     "end_time": "2022-03-04T21:11:37.310553",
     "exception": false,
     "start_time": "2022-03-04T21:11:37.299693",
     "status": "completed"
    },
    "tags": []
   },
   "source": [
    "**Note:** YAML is a human-readable text format similar to JSON.\n",
    "\n",
    "**Note:** Ploomber supports Python scripts, Python functions, Jupyter notebooks, R scripts, and SQL scripts.\n",
    "\n",
    "## Opening `.py` files as notebooks\n",
    "\n",
    "Ploomber integrates with Jupyter. Among other things, it **allows you to open `.py` files as notebooks** (via `jupytext`).\n",
    "\n",
    "![lab-open-with-nb](https://ploomber.io/images/doc/lab-open-with-notebook.png)\n",
    "\n",
    "### What sets the execution order?\n",
    "\n",
    "Ploomber infers the pipeline structure from your code. For example, to\n",
    "clean the data, we must get it first; hence, we declare the following in `3-clean.py`:\n",
    "\n",
    "~~~python\n",
    "# 3-clean.py\n",
    "\n",
    "# this tells Ploomber to execute the '1-get' task before '3-clean'\n",
    "upstream = ['1-get']\n",
    "~~~\n",
    "\n",
    "## Plotting the pipeline"
   ]
  },
  {
   "cell_type": "code",
   "execution_count": 4,
   "id": "7f0ba683",
   "metadata": {
    "colab": {
     "base_uri": "https://localhost:8080/"
    },
    "execution": {
     "iopub.execute_input": "2022-03-04T21:11:37.329446Z",
     "iopub.status.busy": "2022-03-04T21:11:37.329206Z",
     "iopub.status.idle": "2022-03-04T21:11:45.028085Z",
     "shell.execute_reply": "2022-03-04T21:11:45.025978Z"
    },
    "id": "7f0ba683",
    "outputId": "3b7ab866-2b2f-450b-8124-582fd4458ee6",
    "papermill": {
     "duration": 7.711912,
     "end_time": "2022-03-04T21:11:45.032096",
     "exception": false,
     "start_time": "2022-03-04T21:11:37.320184",
     "status": "completed"
    },
    "tags": []
   },
   "outputs": [
    {
     "name": "stdout",
     "output_type": "stream",
     "text": [
      "Plot saved at: pipeline.png\n"
     ]
    },
    {
     "name": "stderr",
     "output_type": "stream",
     "text": [
      "100%|██████████| 5/5 [00:00<00:00, 14453.15it/s]\n"
     ]
    }
   ],
   "source": [
    "%%bash\n",
    "ploomber plot"
   ]
  },
  {
   "cell_type": "code",
   "execution_count": 5,
   "id": "2102aeb6",
   "metadata": {
    "colab": {
     "base_uri": "https://localhost:8080/",
     "height": 341
    },
    "execution": {
     "iopub.execute_input": "2022-03-04T21:11:45.068017Z",
     "iopub.status.busy": "2022-03-04T21:11:45.067515Z",
     "iopub.status.idle": "2022-03-04T21:11:45.088623Z",
     "shell.execute_reply": "2022-03-04T21:11:45.087621Z"
    },
    "id": "2102aeb6",
    "outputId": "caf692af-05f2-421a-96f8-b76429e0ec89",
    "papermill": {
     "duration": 0.039519,
     "end_time": "2022-03-04T21:11:45.091570",
     "exception": false,
     "start_time": "2022-03-04T21:11:45.052051",
     "status": "completed"
    },
    "tags": []
   },
   "outputs": [
    {
     "data": {
      "image/png": "[encoded data removed]",
      "text/plain": [
       "<IPython.core.display.Image object>"
      ]
     },
     "execution_count": 5,
     "metadata": {},
     "output_type": "execute_result"
    }
   ],
   "source": [
    "from IPython.display import Image\n",
    "Image(filename='pipeline.png')"
   ]
  },
  {
   "cell_type": "markdown",
   "id": "cb883a84",
   "metadata": {
    "id": "cb883a84",
    "papermill": {
     "duration": 0.012602,
     "end_time": "2022-03-04T21:11:45.125567",
     "exception": false,
     "start_time": "2022-03-04T21:11:45.112965",
     "status": "completed"
    },
    "tags": []
   },
   "source": [
    "You can see that our pipeline has a defined execution order.\n",
    "\n",
    "**Note:** This is a sample predifined five-task pipeline, Ploomber can manage arbitrarily complex pipelines and dependencies among tasks.\n",
    "\n",
    "## Running the pipeline"
   ]
  },
  {
   "cell_type": "code",
   "execution_count": 6,
   "id": "0b703534",
   "metadata": {
    "colab": {
     "base_uri": "https://localhost:8080/"
    },
    "execution": {
     "iopub.execute_input": "2022-03-04T21:11:45.150763Z",
     "iopub.status.busy": "2022-03-04T21:11:45.150357Z",
     "iopub.status.idle": "2022-03-04T21:12:48.659779Z",
     "shell.execute_reply": "2022-03-04T21:12:48.657752Z"
    },
    "id": "0b703534",
    "outputId": "e7189cb2-049c-4d61-fd99-59f918d0e688",
    "papermill": {
     "duration": 63.712156,
     "end_time": "2022-03-04T21:12:48.848578",
     "exception": false,
     "start_time": "2022-03-04T21:11:45.136422",
     "status": "completed"
    },
    "tags": []
   },
   "outputs": [
    {
     "name": "stdout",
     "output_type": "stream",
     "text": [
      "name             Ran?      Elapsed (s)    Percentage\n",
      "---------------  ------  -------------  ------------\n",
      "1-get            True          2.41966       15.0223\n",
      "2-profile-raw    True          3.43702       21.3385\n",
      "3-clean          True          1.954         12.1313\n",
      "4-profile-clean  True          2.93714       18.2351\n",
      "5-plot           True          5.3593        33.2728\n"
     ]
    },
    {
     "name": "stderr",
     "output_type": "stream",
     "text": [
      "Building task '1-get':   0%|          | 0/5 [00:00<?, ?it/s]\n",
      "Executing:   0%|          | 0/6 [00:00<?, ?cell/s]\u001b[A\n",
      "Executing:  17%|█▋        | 1/6 [00:01<00:06,  1.39s/cell]\u001b[A\n",
      "Executing: 100%|██████████| 6/6 [00:02<00:00,  2.51cell/s]\u001b[A\n",
      "Building task '2-profile-raw':  20%|██        | 1/5 [00:02<00:09,  2.42s/it]\n",
      "Executing:   0%|          | 0/7 [00:00<?, ?cell/s]\u001b[A\n",
      "Executing:  14%|█▍        | 1/7 [00:01<00:06,  1.13s/cell]\u001b[A\n",
      "Executing:  43%|████▎     | 3/7 [00:01<00:01,  2.03cell/s]\u001b[A\n",
      "Executing:  71%|███████▏  | 5/7 [00:02<00:00,  2.19cell/s]\u001b[A\n",
      "Executing:  86%|████████▌ | 6/7 [00:02<00:00,  2.47cell/s]\u001b[A\n",
      "Executing: 100%|██████████| 7/7 [00:03<00:00,  2.05cell/s]\u001b[A\n",
      "Building task '3-clean':  40%|████      | 2/5 [00:05<00:09,  3.02s/it]      \n",
      "Executing:   0%|          | 0/9 [00:00<?, ?cell/s]\u001b[A\n",
      "Executing:  11%|█         | 1/9 [00:01<00:11,  1.38s/cell]\u001b[A\n",
      "Executing:  67%|██████▋   | 6/9 [00:01<00:00,  5.26cell/s]\u001b[A\n",
      "Executing: 100%|██████████| 9/9 [00:01<00:00,  4.68cell/s]\u001b[A\n",
      "Building task '4-profile-clean':  60%|██████    | 3/5 [00:07<00:05,  2.53s/it]\n",
      "Executing:   0%|          | 0/7 [00:00<?, ?cell/s]\u001b[A\n",
      "Executing:  14%|█▍        | 1/7 [00:01<00:06,  1.14s/cell]\u001b[A\n",
      "Executing:  43%|████▎     | 3/7 [00:01<00:01,  2.10cell/s]\u001b[A\n",
      "Executing:  71%|███████▏  | 5/7 [00:01<00:00,  3.09cell/s]\u001b[A\n",
      "Executing:  86%|████████▌ | 6/7 [00:02<00:00,  3.14cell/s]\u001b[A\n",
      "Executing: 100%|██████████| 7/7 [00:02<00:00,  2.41cell/s]\u001b[A\n",
      "Building task '5-plot':  80%|████████  | 4/5 [00:10<00:02,  2.69s/it]         \n",
      "Executing:   0%|          | 0/8 [00:00<?, ?cell/s]\u001b[A\n",
      "Executing:  12%|█▎        | 1/8 [00:01<00:10,  1.57s/cell]\u001b[A\n",
      "Executing:  62%|██████▎   | 5/8 [00:01<00:00,  3.22cell/s]\u001b[A\n",
      "Executing:  75%|███████▌  | 6/8 [00:03<00:01,  1.77cell/s]\u001b[A\n",
      "Executing: 100%|██████████| 8/8 [00:05<00:00,  1.50cell/s]\u001b[A\n",
      "Building task '5-plot': 100%|██████████| 5/5 [00:16<00:00,  3.22s/it]\n"
     ]
    }
   ],
   "source": [
    "%%bash\n",
    "# takes a few seconds to finish\n",
    "ploomber build"
   ]
  },
  {
   "cell_type": "markdown",
   "id": "f7c6c655",
   "metadata": {
    "id": "f7c6c655",
    "papermill": {
     "duration": 0.01449,
     "end_time": "2022-03-04T21:12:48.893189",
     "exception": false,
     "start_time": "2022-03-04T21:12:48.878699",
     "status": "completed"
    },
    "tags": []
   },
   "source": [
    "This pipeline saves all the output in the `output/` directory; we have the output notebooks and data files:"
   ]
  },
  {
   "cell_type": "code",
   "execution_count": 7,
   "id": "04ba3c39",
   "metadata": {
    "colab": {
     "base_uri": "https://localhost:8080/"
    },
    "execution": {
     "iopub.execute_input": "2022-03-04T21:12:48.931056Z",
     "iopub.status.busy": "2022-03-04T21:12:48.929110Z",
     "iopub.status.idle": "2022-03-04T21:12:48.966034Z",
     "shell.execute_reply": "2022-03-04T21:12:48.965064Z"
    },
    "id": "04ba3c39",
    "outputId": "e0a2a3d5-b2d8-410d-c39c-8beecd5e44d1",
    "papermill": {
     "duration": 0.059592,
     "end_time": "2022-03-04T21:12:48.968969",
     "exception": false,
     "start_time": "2022-03-04T21:12:48.909377",
     "status": "completed"
    },
    "tags": []
   },
   "outputs": [
    {
     "name": "stdout",
     "output_type": "stream",
     "text": [
      "1-get.ipynb\n",
      "2-profile-raw.ipynb\n",
      "3-clean.ipynb\n",
      "4-profile-clean.ipynb\n",
      "5-plot.ipynb\n",
      "clean_data.parquet\n",
      "raw_data.csv\n"
     ]
    }
   ],
   "source": [
    "%%bash\n",
    "ls output"
   ]
  },
  {
   "cell_type": "markdown",
   "id": "0e487b42",
   "metadata": {
    "id": "0e487b42",
    "papermill": {
     "duration": 0.022298,
     "end_time": "2022-03-04T21:12:49.010294",
     "exception": false,
     "start_time": "2022-03-04T21:12:48.987996",
     "status": "completed"
    },
    "tags": []
   },
   "source": [
    "## Updating the pipeline\n",
    "\n",
    "Ploomber automatically caches your pipeline’s previous results and only runs tasks that changed since your last execution.\n",
    "\n",
    "Execute the following to modify the `3-clean.py` script"
   ]
  },
  {
   "cell_type": "code",
   "execution_count": 8,
   "id": "7e1a5440",
   "metadata": {
    "colab": {
     "base_uri": "https://localhost:8080/"
    },
    "execution": {
     "iopub.execute_input": "2022-03-04T21:12:49.056572Z",
     "iopub.status.busy": "2022-03-04T21:12:49.056198Z",
     "iopub.status.idle": "2022-03-04T21:12:49.071105Z",
     "shell.execute_reply": "2022-03-04T21:12:49.070078Z"
    },
    "id": "7e1a5440",
    "outputId": "affb3cf5-3acb-4526-d475-29d83688793a",
    "papermill": {
     "duration": 0.037483,
     "end_time": "2022-03-04T21:12:49.074258",
     "exception": false,
     "start_time": "2022-03-04T21:12:49.036775",
     "status": "completed"
    },
    "tags": []
   },
   "outputs": [
    {
     "data": {
      "text/plain": [
       "417"
      ]
     },
     "execution_count": 8,
     "metadata": {},
     "output_type": "execute_result"
    }
   ],
   "source": [
    "from pathlib import Path\n",
    "\n",
    "path = Path('3-clean.py')\n",
    "clean = path.read_text()\n",
    "\n",
    "# add a print statement at the end of 3-clean.py\n",
    "path.write_text(clean + \"\"\"\n",
    "print(\"hello\")\n",
    "\"\"\")"
   ]
  },
  {
   "cell_type": "markdown",
   "id": "bad69a7f",
   "metadata": {
    "id": "bad69a7f",
    "papermill": {
     "duration": 0.044731,
     "end_time": "2022-03-04T21:12:49.132447",
     "exception": false,
     "start_time": "2022-03-04T21:12:49.087716",
     "status": "completed"
    },
    "tags": []
   },
   "source": [
    "Execute the pipeline again:"
   ]
  },
  {
   "cell_type": "code",
   "execution_count": 9,
   "id": "847ffaa0",
   "metadata": {
    "colab": {
     "base_uri": "https://localhost:8080/"
    },
    "execution": {
     "iopub.execute_input": "2022-03-04T21:12:49.205590Z",
     "iopub.status.busy": "2022-03-04T21:12:49.204930Z",
     "iopub.status.idle": "2022-03-04T21:13:09.390124Z",
     "shell.execute_reply": "2022-03-04T21:13:09.388160Z"
    },
    "id": "847ffaa0",
    "outputId": "7dc8c546-a33d-41df-b74f-78ba7f940d14",
    "papermill": {
     "duration": 20.22077,
     "end_time": "2022-03-04T21:13:09.396218",
     "exception": false,
     "start_time": "2022-03-04T21:12:49.175448",
     "status": "completed"
    },
    "tags": []
   },
   "outputs": [
    {
     "name": "stdout",
     "output_type": "stream",
     "text": [
      "name             Ran?      Elapsed (s)    Percentage\n",
      "---------------  ------  -------------  ------------\n",
      "3-clean          True          2.04615       19.5922\n",
      "4-profile-clean  True          2.8772        27.5496\n",
      "5-plot           True          5.52036       52.8583\n",
      "1-get            False         0              0\n",
      "2-profile-raw    False         0              0\n"
     ]
    },
    {
     "name": "stderr",
     "output_type": "stream",
     "text": [
      "Building task '3-clean':   0%|          | 0/3 [00:00<?, ?it/s]\n",
      "Executing:   0%|          | 0/9 [00:00<?, ?cell/s]\u001b[A\n",
      "Executing:  11%|█         | 1/9 [00:01<00:11,  1.39s/cell]\u001b[A\n",
      "Executing: 100%|██████████| 9/9 [00:02<00:00,  4.48cell/s]\u001b[A\n",
      "Building task '4-profile-clean':  33%|███▎      | 1/3 [00:02<00:04,  2.05s/it]\n",
      "Executing:   0%|          | 0/7 [00:00<?, ?cell/s]\u001b[A\n",
      "Executing:  14%|█▍        | 1/7 [00:01<00:06,  1.13s/cell]\u001b[A\n",
      "Executing:  43%|████▎     | 3/7 [00:01<00:01,  2.13cell/s]\u001b[A\n",
      "Executing:  71%|███████▏  | 5/7 [00:01<00:00,  3.19cell/s]\u001b[A\n",
      "Executing:  86%|████████▌ | 6/7 [00:02<00:00,  3.25cell/s]\u001b[A\n",
      "Executing: 100%|██████████| 7/7 [00:02<00:00,  2.46cell/s]\u001b[A\n",
      "Building task '5-plot':  67%|██████▋   | 2/3 [00:04<00:02,  2.54s/it]         \n",
      "Executing:   0%|          | 0/8 [00:00<?, ?cell/s]\u001b[A\n",
      "Executing:  12%|█▎        | 1/8 [00:01<00:11,  1.58s/cell]\u001b[A\n",
      "Executing:  62%|██████▎   | 5/8 [00:01<00:00,  3.17cell/s]\u001b[A\n",
      "Executing:  75%|███████▌  | 6/8 [00:03<00:01,  1.76cell/s]\u001b[A\n",
      "Executing: 100%|██████████| 8/8 [00:05<00:00,  1.46cell/s]\u001b[A\n",
      "Building task '5-plot': 100%|██████████| 3/3 [00:10<00:00,  3.48s/it]\n"
     ]
    }
   ],
   "source": [
    "%%bash\n",
    "# takes a few seconds to finish\n",
    "ploomber build"
   ]
  },
  {
   "cell_type": "code",
   "execution_count": 10,
   "id": "5cf1334a",
   "metadata": {
    "colab": {
     "base_uri": "https://localhost:8080/"
    },
    "execution": {
     "iopub.execute_input": "2022-03-04T21:13:09.447006Z",
     "iopub.status.busy": "2022-03-04T21:13:09.446599Z",
     "iopub.status.idle": "2022-03-04T21:13:09.460295Z",
     "shell.execute_reply": "2022-03-04T21:13:09.457359Z"
    },
    "id": "5cf1334a",
    "outputId": "378eabde-422e-4475-b2e9-c88a6db60849",
    "papermill": {
     "duration": 0.039913,
     "end_time": "2022-03-04T21:13:09.465252",
     "exception": false,
     "start_time": "2022-03-04T21:13:09.425339",
     "status": "completed"
    },
    "tags": []
   },
   "outputs": [
    {
     "data": {
      "text/plain": [
       "401"
      ]
     },
     "execution_count": 10,
     "metadata": {},
     "output_type": "execute_result"
    }
   ],
   "source": [
    "# restore contents\n",
    "path.write_text(clean)"
   ]
  },
  {
   "cell_type": "markdown",
   "id": "dc334db6",
   "metadata": {
    "id": "dc334db6",
    "papermill": {
     "duration": 0.020768,
     "end_time": "2022-03-04T21:13:09.505049",
     "exception": false,
     "start_time": "2022-03-04T21:13:09.484281",
     "status": "completed"
    },
    "tags": []
   },
   "source": [
    "You'll see that `1-get.py` & `2-profile-raw.py` didn't run because it was not affected by the change!\n",
    "\n",
    "## Where to go from here\n",
    "\n",
    "**Bring your own code!** Check out the tutorial to [migrate your code to Ploomber](https://docs.ploomber.io/en/latest/user-guide/refactoring.html).\n",
    "\n",
    "Have questions? [Ask us anything on Slack](https://ploomber.io/community/).\n",
    "\n",
    "Want to dig deeper into Ploomber's core concepts? Check out [the basic concepts tutorial](https://docs.ploomber.io/en/latest/get-started/basic-concepts.html).\n",
    "\n",
    "Want to start a new project quickly? Check out [how to get examples](https://docs.ploomber.io/en/latest/user-guide/templates.html).\n",
    "\n"
   ]
  }
 ],
 "metadata": {
  "colab": {
   "name": "README.ipynb",
   "provenance": []
  },
  "kernelspec": {
   "display_name": "Python 3 (ipykernel)",
   "language": "python",
   "name": "python3"
  },
  "language_info": {
   "codemirror_mode": {
    "name": "ipython",
    "version": 3
   },
   "file_extension": ".py",
   "mimetype": "text/x-python",
   "name": "python",
   "nbconvert_exporter": "python",
   "pygments_lexer": "ipython3",
   "version": "3.9.7"
  },
  "papermill": {
   "default_parameters": {},
   "duration": 94.635245,
   "end_time": "2022-03-04T21:13:09.866952",
   "environment_variables": {},
   "exception": null,
   "input_path": "guides/first-pipeline/_build/readme_preprocessed.ipynb",
   "output_path": "guides/first-pipeline/README.ipynb",
   "parameters": {},
   "start_time": "2022-03-04T21:11:35.231707",
   "version": "2.3.4"
  }
 },
 "nbformat": 4,
 "nbformat_minor": 5
}
