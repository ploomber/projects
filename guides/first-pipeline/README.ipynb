{
 "cells": [
  {
   "cell_type": "markdown",
   "id": "bc31ac47",
   "metadata": {
    "papermill": {
     "duration": 0.033343,
     "end_time": "2022-05-13T23:49:34.501338",
     "exception": false,
     "start_time": "2022-05-13T23:49:34.467995",
     "status": "completed"
    },
    "tags": []
   },
   "source": [
    "To run this locally, [install Ploomber](https://docs.ploomber.io/en/latest/get-started/quick-start.html) and execute: `ploomber examples -n guides/first-pipeline`\n",
    "\n",
    "Found an issue? [Let us know.](https://github.com/ploomber/projects/issues/new?title=guides/first-pipeline%20issue)\n",
    "\n",
    "Questions? [Ask us on Slack.](https://ploomber.io/community/)\n",
    "\n"
   ]
  },
  {
   "cell_type": "markdown",
   "id": "93c2a7a7",
   "metadata": {
    "papermill": {
     "duration": 0.02846,
     "end_time": "2022-05-13T23:49:34.559006",
     "exception": false,
     "start_time": "2022-05-13T23:49:34.530546",
     "status": "completed"
    },
    "tags": []
   },
   "source": [
    "# Your first Python pipeline\n",
    "\n",
    "<!-- start description -->\n",
    "Introductory tutorial to learn the basics of Ploomber.\n",
    "<!-- end description -->\n",
    "\n",
    "## Introduction\n",
    "\n",
    "Ploomber helps you build modular pipelines. A pipeline (or **DAG**) is a group of tasks with a particular execution order, where subsequent (or **downstream** tasks) use previous (or **upstream**) tasks as inputs.\n",
    "\n",
    "## Pipeline declaration\n",
    "\n",
    "This example pipeline contains five tasks, `1-get.py`, `2-profile-raw.py`, \n",
    "`3-clean.py`, `4-profile-clean.py` and `5-plot.py`; we declare them in a `pipeline.yaml` file:"
   ]
  },
  {
   "cell_type": "markdown",
   "id": "27fcd7e9",
   "metadata": {
    "papermill": {
     "duration": 0.028772,
     "end_time": "2022-05-13T23:49:34.615134",
     "exception": false,
     "start_time": "2022-05-13T23:49:34.586362",
     "status": "completed"
    },
    "region_name": "md",
    "tags": []
   },
   "source": [
    "```yaml\n",
    "# Content of pipeline.yaml\n",
    "tasks:\n",
    "   # source is the code you want to execute (.ipynb also supported)\n",
    "  - source: 1-get.py\n",
    "    # products are task's outputs\n",
    "    product:\n",
    "      # scripts generate executed notebooks as outputs\n",
    "      nb: output/1-get.html\n",
    "      # you can define as many outputs as you want\n",
    "      data: output/raw_data.csv\n",
    "\n",
    "  - source: 2-profile-raw.py\n",
    "    product: output/2-profile-raw.html\n",
    "\n",
    "  - source: 3-clean.py\n",
    "    product:\n",
    "      nb: output/3-clean.html\n",
    "      data: output/clean_data.parquet\n",
    "\n",
    "  - source: 4-profile-clean.py\n",
    "    product: output/4-profile-clean.html\n",
    "\n",
    "  - source: 5-plot.py\n",
    "    product: output/5-plot.html\n",
    "\n",
    "```"
   ]
  },
  {
   "cell_type": "markdown",
   "id": "a8ed0041",
   "metadata": {
    "papermill": {
     "duration": 0.029019,
     "end_time": "2022-05-13T23:49:34.671394",
     "exception": false,
     "start_time": "2022-05-13T23:49:34.642375",
     "status": "completed"
    },
    "tags": []
   },
   "source": [
    "**Note:** YAML is a human-readable text format similar to JSON.\n",
    "\n",
    "**Note:** Ploomber supports Python scripts, Python functions, Jupyter notebooks, R scripts, and SQL scripts.\n",
    "\n",
    "## Opening `.py` files as notebooks\n",
    "\n",
    "Ploomber integrates with Jupyter. Among other things, it **allows you to open `.py` files as notebooks** (via `jupytext`).\n",
    "\n",
    "![lab-open-with-nb](https://ploomber.io/images/doc/lab-open-with-notebook.png)\n",
    "\n",
    "### What sets the execution order?\n",
    "\n",
    "Ploomber infers the pipeline structure from your code. For example, to\n",
    "clean the data, we must get it first; hence, we declare the following in `3-clean.py`:\n",
    "\n",
    "~~~python\n",
    "# 3-clean.py\n",
    "\n",
    "# this tells Ploomber to execute the '1-get' task before '3-clean'\n",
    "upstream = ['1-get']\n",
    "~~~\n",
    "\n",
    "## Plotting the pipeline"
   ]
  },
  {
   "cell_type": "code",
   "execution_count": 1,
   "id": "84b6dad2",
   "metadata": {
    "execution": {
     "iopub.execute_input": "2022-05-13T23:49:34.734594Z",
     "iopub.status.busy": "2022-05-13T23:49:34.733818Z",
     "iopub.status.idle": "2022-05-13T23:49:41.001164Z",
     "shell.execute_reply": "2022-05-13T23:49:41.002316Z"
    },
    "papermill": {
     "duration": 6.304861,
     "end_time": "2022-05-13T23:49:41.002747",
     "exception": false,
     "start_time": "2022-05-13T23:49:34.697886",
     "status": "completed"
    },
    "tags": []
   },
   "outputs": [
    {
     "name": "stdout",
     "output_type": "stream",
     "text": [
      "Loading pipeline...\n",
      "Plot saved at: pipeline.png\n"
     ]
    },
    {
     "name": "stderr",
     "output_type": "stream",
     "text": [
      "100%|██████████| 5/5 [00:00<00:00, 15477.14it/s]\n"
     ]
    }
   ],
   "source": [
    "%%bash\n",
    "ploomber plot"
   ]
  },
  {
   "cell_type": "code",
   "execution_count": 2,
   "id": "8ede6522",
   "metadata": {
    "execution": {
     "iopub.execute_input": "2022-05-13T23:49:41.068048Z",
     "iopub.status.busy": "2022-05-13T23:49:41.067421Z",
     "iopub.status.idle": "2022-05-13T23:49:41.079421Z",
     "shell.execute_reply": "2022-05-13T23:49:41.079899Z"
    },
    "papermill": {
     "duration": 0.045908,
     "end_time": "2022-05-13T23:49:41.080127",
     "exception": false,
     "start_time": "2022-05-13T23:49:41.034219",
     "status": "completed"
    },
    "tags": []
   },
   "outputs": [
    {
     "data": {
      "image/png": "[encoded data removed]",
      "text/plain": [
       "<IPython.core.display.Image object>"
      ]
     },
     "execution_count": 2,
     "metadata": {},
     "output_type": "execute_result"
    }
   ],
   "source": [
    "from IPython.display import Image\n",
    "Image(filename='pipeline.png')"
   ]
  },
  {
   "cell_type": "markdown",
   "id": "8bd236f3",
   "metadata": {
    "papermill": {
     "duration": 0.028337,
     "end_time": "2022-05-13T23:49:41.138206",
     "exception": false,
     "start_time": "2022-05-13T23:49:41.109869",
     "status": "completed"
    },
    "tags": []
   },
   "source": [
    "You can see that our pipeline has a defined execution order.\n",
    "\n",
    "**Note:** This is a sample predefined five-task pipeline, Ploomber can manage arbitrarily complex pipelines and dependencies among tasks.\n",
    "\n",
    "## Running the pipeline"
   ]
  },
  {
   "cell_type": "code",
   "execution_count": 3,
   "id": "cdc70bd4",
   "metadata": {
    "execution": {
     "iopub.execute_input": "2022-05-13T23:49:41.205963Z",
     "iopub.status.busy": "2022-05-13T23:49:41.204795Z",
     "iopub.status.idle": "2022-05-13T23:50:07.581294Z",
     "shell.execute_reply": "2022-05-13T23:50:07.581929Z"
    },
    "papermill": {
     "duration": 26.413628,
     "end_time": "2022-05-13T23:50:07.582127",
     "exception": false,
     "start_time": "2022-05-13T23:49:41.168499",
     "status": "completed"
    },
    "tags": []
   },
   "outputs": [
    {
     "name": "stdout",
     "output_type": "stream",
     "text": [
      "Loading pipeline...\n",
      "name             Ran?      Elapsed (s)    Percentage\n",
      "---------------  ------  -------------  ------------\n",
      "3-clean          True          5.43922       28.676\n",
      "4-profile-clean  True          4.76502       25.1215\n",
      "5-plot           True          8.76362       46.2025\n",
      "1-get            False         0              0\n",
      "2-profile-raw    False         0              0\n"
     ]
    },
    {
     "name": "stderr",
     "output_type": "stream",
     "text": [
      "Building task '3-clean':   0%|          | 0/3 [00:00<?, ?it/s]\n",
      "Executing:   0%|          | 0/9 [00:00<?, ?cell/s]\u001b[A\n",
      "Executing:  11%|█         | 1/9 [00:01<00:11,  1.46s/cell]\u001b[A\n",
      "Executing: 100%|██████████| 9/9 [00:05<00:00,  1.79cell/s]\u001b[A\n",
      "Building task '4-profile-clean':  33%|███▎      | 1/3 [00:05<00:10,  5.44s/it]\n",
      "Executing:   0%|          | 0/7 [00:00<?, ?cell/s]\u001b[A\n",
      "Executing:  14%|█▍        | 1/7 [00:01<00:06,  1.04s/cell]\u001b[A\n",
      "Executing:  43%|████▎     | 3/7 [00:02<00:03,  1.25cell/s]\u001b[A\n",
      "Executing:  71%|███████▏  | 5/7 [00:03<00:01,  1.58cell/s]\u001b[A\n",
      "Executing:  86%|████████▌ | 6/7 [00:03<00:00,  1.87cell/s]\u001b[A\n",
      "Executing: 100%|██████████| 7/7 [00:04<00:00,  1.59cell/s]\u001b[A\n",
      "Building task '5-plot':  67%|██████▋   | 2/3 [00:10<00:05,  5.04s/it]         \n",
      "Executing:   0%|          | 0/8 [00:00<?, ?cell/s]\u001b[A\n",
      "Executing:  12%|█▎        | 1/8 [00:02<00:17,  2.46s/cell]\u001b[A\n",
      "Executing:  62%|██████▎   | 5/8 [00:02<00:01,  2.18cell/s]\u001b[A\n",
      "Executing:  75%|███████▌  | 6/8 [00:05<00:01,  1.04cell/s]\u001b[A\n",
      "Executing: 100%|██████████| 8/8 [00:08<00:00,  1.05s/cell]\u001b[A\n",
      "Building task '5-plot': 100%|██████████| 3/3 [00:18<00:00,  6.32s/it]\n"
     ]
    }
   ],
   "source": [
    "%%bash\n",
    "# takes a few seconds to finish\n",
    "ploomber build"
   ]
  },
  {
   "cell_type": "markdown",
   "id": "5e3a78dc",
   "metadata": {
    "papermill": {
     "duration": 0.030484,
     "end_time": "2022-05-13T23:50:07.647497",
     "exception": false,
     "start_time": "2022-05-13T23:50:07.617013",
     "status": "completed"
    },
    "tags": []
   },
   "source": [
    "This pipeline saves all the output in the `output/` directory; we have the output notebooks and data files:"
   ]
  },
  {
   "cell_type": "code",
   "execution_count": 4,
   "id": "2d86fce7",
   "metadata": {
    "execution": {
     "iopub.execute_input": "2022-05-13T23:50:07.719057Z",
     "iopub.status.busy": "2022-05-13T23:50:07.718203Z",
     "iopub.status.idle": "2022-05-13T23:50:07.782537Z",
     "shell.execute_reply": "2022-05-13T23:50:07.782024Z"
    },
    "papermill": {
     "duration": 0.102448,
     "end_time": "2022-05-13T23:50:07.782749",
     "exception": false,
     "start_time": "2022-05-13T23:50:07.680301",
     "status": "completed"
    },
    "tags": []
   },
   "outputs": [
    {
     "name": "stdout",
     "output_type": "stream",
     "text": [
      "1-get.html\n",
      "2-profile-raw.html\n",
      "3-clean.html\n",
      "4-profile-clean.html\n",
      "5-plot.html\n",
      "clean_data.parquet\n",
      "raw_data.csv\n"
     ]
    }
   ],
   "source": [
    "%%bash\n",
    "ls output"
   ]
  },
  {
   "cell_type": "markdown",
   "id": "0422f0e2",
   "metadata": {
    "papermill": {
     "duration": 0.033384,
     "end_time": "2022-05-13T23:50:07.848282",
     "exception": false,
     "start_time": "2022-05-13T23:50:07.814898",
     "status": "completed"
    },
    "tags": []
   },
   "source": [
    "## Updating the pipeline\n",
    "\n",
    "Ploomber automatically caches your pipeline’s previous results and only runs tasks that changed since your last execution.\n",
    "\n",
    "Execute the following to modify the `3-clean.py` script"
   ]
  },
  {
   "cell_type": "code",
   "execution_count": 5,
   "id": "89319331",
   "metadata": {
    "execution": {
     "iopub.execute_input": "2022-05-13T23:50:07.918812Z",
     "iopub.status.busy": "2022-05-13T23:50:07.918097Z",
     "iopub.status.idle": "2022-05-13T23:50:07.922598Z",
     "shell.execute_reply": "2022-05-13T23:50:07.923116Z"
    },
    "papermill": {
     "duration": 0.042665,
     "end_time": "2022-05-13T23:50:07.923358",
     "exception": false,
     "start_time": "2022-05-13T23:50:07.880693",
     "status": "completed"
    },
    "tags": []
   },
   "outputs": [
    {
     "data": {
      "text/plain": [
       "397"
      ]
     },
     "execution_count": 5,
     "metadata": {},
     "output_type": "execute_result"
    }
   ],
   "source": [
    "from pathlib import Path\n",
    "\n",
    "path = Path('3-clean.py')\n",
    "clean = path.read_text()\n",
    "\n",
    "# add a print statement at the end of 3-clean.py\n",
    "path.write_text(clean + \"\"\"\n",
    "print(\"hello\")\n",
    "\"\"\")"
   ]
  },
  {
   "cell_type": "markdown",
   "id": "544e12f8",
   "metadata": {
    "papermill": {
     "duration": 0.035481,
     "end_time": "2022-05-13T23:50:07.993099",
     "exception": false,
     "start_time": "2022-05-13T23:50:07.957618",
     "status": "completed"
    },
    "tags": []
   },
   "source": [
    "Execute the pipeline again:"
   ]
  },
  {
   "cell_type": "code",
   "execution_count": 6,
   "id": "c653cc4c",
   "metadata": {
    "execution": {
     "iopub.execute_input": "2022-05-13T23:50:08.067094Z",
     "iopub.status.busy": "2022-05-13T23:50:08.066219Z",
     "iopub.status.idle": "2022-05-13T23:50:27.183685Z",
     "shell.execute_reply": "2022-05-13T23:50:27.184201Z"
    },
    "papermill": {
     "duration": 19.156685,
     "end_time": "2022-05-13T23:50:27.184402",
     "exception": false,
     "start_time": "2022-05-13T23:50:08.027717",
     "status": "completed"
    },
    "tags": []
   },
   "outputs": [
    {
     "name": "stdout",
     "output_type": "stream",
     "text": [
      "Loading pipeline...\n",
      "name             Ran?      Elapsed (s)    Percentage\n",
      "---------------  ------  -------------  ------------\n",
      "3-clean          True          2.22814       14.2248\n",
      "4-profile-clean  True          4.7084        30.0591\n",
      "5-plot           True          8.72726       55.7161\n",
      "1-get            False         0              0\n",
      "2-profile-raw    False         0              0\n"
     ]
    },
    {
     "name": "stderr",
     "output_type": "stream",
     "text": [
      "Building task '3-clean':   0%|          | 0/3 [00:00<?, ?it/s]\n",
      "Executing:   0%|          | 0/9 [00:00<?, ?cell/s]\u001b[A\n",
      "Executing:  11%|█         | 1/9 [00:01<00:10,  1.29s/cell]\u001b[A\n",
      "Executing: 100%|██████████| 9/9 [00:01<00:00,  5.04cell/s]\u001b[A\n",
      "Building task '4-profile-clean':  33%|███▎      | 1/3 [00:02<00:04,  2.23s/it]\n",
      "Executing:   0%|          | 0/7 [00:00<?, ?cell/s]\u001b[A\n",
      "Executing:  14%|█▍        | 1/7 [00:00<00:05,  1.10cell/s]\u001b[A\n",
      "Executing:  43%|████▎     | 3/7 [00:02<00:03,  1.23cell/s]\u001b[A\n",
      "Executing:  71%|███████▏  | 5/7 [00:03<00:01,  1.58cell/s]\u001b[A\n",
      "Executing:  86%|████████▌ | 6/7 [00:03<00:00,  1.91cell/s]\u001b[A\n",
      "Executing: 100%|██████████| 7/7 [00:04<00:00,  1.60cell/s]\u001b[A\n",
      "Building task '5-plot':  67%|██████▋   | 2/3 [00:06<00:03,  3.69s/it]         \n",
      "Executing:   0%|          | 0/8 [00:00<?, ?cell/s]\u001b[A\n",
      "Executing:  12%|█▎        | 1/8 [00:02<00:16,  2.39s/cell]\u001b[A\n",
      "Executing:  62%|██████▎   | 5/8 [00:02<00:01,  2.24cell/s]\u001b[A\n",
      "Executing:  75%|███████▌  | 6/8 [00:05<00:01,  1.03cell/s]\u001b[A\n",
      "Executing: 100%|██████████| 8/8 [00:08<00:00,  1.05s/cell]\u001b[A\n",
      "Building task '5-plot': 100%|██████████| 3/3 [00:15<00:00,  5.22s/it]\n"
     ]
    }
   ],
   "source": [
    "%%bash\n",
    "# takes a few seconds to finish\n",
    "ploomber build"
   ]
  },
  {
   "cell_type": "code",
   "execution_count": 7,
   "id": "699b4f81",
   "metadata": {
    "execution": {
     "iopub.execute_input": "2022-05-13T23:50:27.263967Z",
     "iopub.status.busy": "2022-05-13T23:50:27.262962Z",
     "iopub.status.idle": "2022-05-13T23:50:27.266977Z",
     "shell.execute_reply": "2022-05-13T23:50:27.267454Z"
    },
    "papermill": {
     "duration": 0.044937,
     "end_time": "2022-05-13T23:50:27.267709",
     "exception": false,
     "start_time": "2022-05-13T23:50:27.222772",
     "status": "completed"
    },
    "tags": []
   },
   "outputs": [
    {
     "data": {
      "text/plain": [
       "381"
      ]
     },
     "execution_count": 7,
     "metadata": {},
     "output_type": "execute_result"
    }
   ],
   "source": [
    "# restore contents\n",
    "path.write_text(clean)"
   ]
  },
  {
   "cell_type": "markdown",
   "id": "9d4fcaa4",
   "metadata": {
    "papermill": {
     "duration": 0.034728,
     "end_time": "2022-05-13T23:50:27.342067",
     "exception": false,
     "start_time": "2022-05-13T23:50:27.307339",
     "status": "completed"
    },
    "tags": []
   },
   "source": [
    "You'll see that `1-get.py` & `2-profile-raw.py` didn't run because it was not affected by the change!\n",
    "\n",
    "## Where to go from here\n",
    "\n",
    "**Bring your own code!** Check out the tutorial to [migrate your code to Ploomber](https://docs.ploomber.io/en/latest/user-guide/refactoring.html).\n",
    "\n",
    "Have questions? [Ask us anything on Slack](https://ploomber.io/community/).\n",
    "\n",
    "Want to dig deeper into Ploomber's core concepts? Check out [the basic concepts tutorial](https://docs.ploomber.io/en/latest/get-started/basic-concepts.html).\n",
    "\n",
    "Want to start a new project quickly? Check out [how to get examples](https://docs.ploomber.io/en/latest/user-guide/templates.html).\n",
    "\n"
   ]
  }
 ],
 "metadata": {
  "interpreter": {
   "hash": "3ad933181bd8a04b432d3370b9dc3b0662ad032c4dfaa4e4f1596c548f763858"
  },
  "kernelspec": {
   "display_name": "Python 3 (ipykernel)",
   "language": "python",
   "name": "python3"
  },
  "language_info": {
   "codemirror_mode": {
    "name": "ipython",
    "version": 3
   },
   "file_extension": ".py",
   "mimetype": "text/x-python",
   "name": "python",
   "nbconvert_exporter": "python",
   "pygments_lexer": "ipython3",
   "version": "3.10.1"
  },
  "papermill": {
   "default_parameters": {},
   "duration": 55.046899,
   "end_time": "2022-05-13T23:50:27.592456",
   "environment_variables": {},
   "exception": null,
   "input_path": "guides/first-pipeline/_build/readme_preprocessed.ipynb",
   "output_path": "guides/first-pipeline/README.ipynb",
   "parameters": {},
   "start_time": "2022-05-13T23:49:32.545557",
   "version": "2.3.4"
  }
 },
 "nbformat": 4,
 "nbformat_minor": 5
}
