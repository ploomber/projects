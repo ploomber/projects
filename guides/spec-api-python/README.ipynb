{
 "cells": [
  {
   "cell_type": "markdown",
   "id": "6f4d3822",
   "metadata": {
    "papermill": {
     "duration": 0.052602,
     "end_time": "2021-10-14T15:11:43.610280",
     "exception": false,
     "start_time": "2021-10-14T15:11:43.557678",
     "status": "completed"
    },
    "tags": []
   },
   "source": [
    "To run this example locally, execute: `ploomber examples -n spec-api-python`.\n",
    "\n",
    "To start a free, hosted JupyterLab: [![binder-logo](https://mybinder.org/badge_logo.svg)](https://mybinder.org/v2/gh/ploomber/binder-env/main?urlpath=git-pull%3Frepo%3Dhttps%253A%252F%252Fgithub.com%252Fploomber%252Fprojects%26urlpath%3Dlab%252Ftree%252Fprojects%252Fspec-api-python%252FREADME.ipynb%26branch%3Dmaster)\n",
    "\n",
    "Found an issue? [Let us know.](https://github.com/ploomber/projects/issues/new?title=spec-api-python%20issue)\n",
    "\n",
    "Have questions? [Ask us anything on Slack.](http://community.ploomber.io/)\n",
    "\n"
   ]
  },
  {
   "cell_type": "markdown",
   "id": "d50fd4ff",
   "metadata": {
    "papermill": {
     "duration": 0.063097,
     "end_time": "2021-10-14T15:11:43.737442",
     "exception": false,
     "start_time": "2021-10-14T15:11:43.674345",
     "status": "completed"
    },
    "tags": []
   },
   "source": [
    "# Your first Python pipeline\n",
    "\n",
    "This guide shows you how to run your first Ploomber pipeline.\n",
    "\n",
    "**Note:** This is intended for a quick and interactive experience. If you want\n",
    "to learn about Ploomber's core concepts and design rationale, go to the\n",
    "[the next tutorial](https://ploomber.readthedocs.io/en/stable/get-started/basic-concepts.html)"
   ]
  },
  {
   "cell_type": "markdown",
   "id": "90f34f78",
   "metadata": {
    "papermill": {
     "duration": 0.05506,
     "end_time": "2021-10-14T15:11:43.849545",
     "exception": false,
     "start_time": "2021-10-14T15:11:43.794485",
     "status": "completed"
    },
    "tags": []
   },
   "source": [
    "## Description\n",
    "\n",
    "This pipeline contains 3 **tasks**, the first task `get.py` gets some data,\n",
    "`clean.py` cleans it and `plot.py` generates a visualization:"
   ]
  },
  {
   "cell_type": "code",
   "execution_count": 1,
   "id": "7eacf111",
   "metadata": {
    "execution": {
     "iopub.execute_input": "2021-10-14T15:11:43.958703Z",
     "iopub.status.busy": "2021-10-14T15:11:43.957563Z",
     "iopub.status.idle": "2021-10-14T15:11:44.033851Z",
     "shell.execute_reply": "2021-10-14T15:11:44.034495Z"
    },
    "papermill": {
     "duration": 0.136879,
     "end_time": "2021-10-14T15:11:44.034950",
     "exception": false,
     "start_time": "2021-10-14T15:11:43.898071",
     "status": "completed"
    },
    "tags": []
   },
   "outputs": [
    {
     "name": "stdout",
     "output_type": "stream",
     "text": [
      "clean.py\n",
      "plot.py\n",
      "raw.py\n"
     ]
    }
   ],
   "source": [
    "%%bash\n",
    "ls *.py"
   ]
  },
  {
   "cell_type": "markdown",
   "id": "af260a94",
   "metadata": {
    "papermill": {
     "duration": 0.046431,
     "end_time": "2021-10-14T15:11:44.128817",
     "exception": false,
     "start_time": "2021-10-14T15:11:44.082386",
     "status": "completed"
    },
    "tags": []
   },
   "source": [
    "These three scripts make up our pipeline (or **DAG**), which is a collection\n",
    "of tasks with a pre-defined execution order.\n",
    "\n",
    "**Note:** These tasks are Python scripts, but you can use functions, notebooks,\n",
    "and even SQL scripts. The next guide explains how other types of tasks work.\n",
    "\n",
    "Ploomber integrates with Jupyter. If you open the scripts inside the\n",
    "`jupyter notebook` app, they will render as notebooks. If you're using `jupyter lab`, you need to right click -> open with -> Notebook as depicted below:\n",
    "\n",
    "![lab-open-with-nb](https://ploomber.io/doc/lab-open-with-notebook.png)\n",
    "\n",
    "Along with the `*.py` files, there is a `pipeline.yaml` file where we declare\n",
    "which files we use as tasks:"
   ]
  },
  {
   "cell_type": "markdown",
   "id": "c79cf42a",
   "metadata": {
    "papermill": {
     "duration": 0.049252,
     "end_time": "2021-10-14T15:11:44.226083",
     "exception": false,
     "start_time": "2021-10-14T15:11:44.176831",
     "status": "completed"
    },
    "region_name": "md",
    "tags": []
   },
   "source": [
    "```yaml\n",
    "# Content of pipeline.yaml\n",
    "tasks:\n",
    "  - source: raw.py\n",
    "    product:\n",
    "      nb: output/raw.ipynb\n",
    "      data: output/data.csv\n",
    "\n",
    "  - source: clean.py\n",
    "    product:\n",
    "      nb: output/clean.ipynb\n",
    "      data: output/clean.csv\n",
    "\n",
    "  - source: plot.py\n",
    "    product: output/plot.ipynb\n",
    "\n",
    "```"
   ]
  },
  {
   "cell_type": "markdown",
   "id": "94feb08e",
   "metadata": {
    "papermill": {
     "duration": 0.049445,
     "end_time": "2021-10-14T15:11:44.329923",
     "exception": false,
     "start_time": "2021-10-14T15:11:44.280478",
     "status": "completed"
    },
    "tags": []
   },
   "source": [
    "**Note:** The `pipeline.yaml` file is optional, but it gives you more flexibility.\n",
    "[Click here](https://github.com/ploomber/projects/tree/master/spec-api-directory) to see an example without a `pipeline.yaml` file."
   ]
  },
  {
   "cell_type": "markdown",
   "id": "37be3d02",
   "metadata": {
    "papermill": {
     "duration": 0.045578,
     "end_time": "2021-10-14T15:11:44.423323",
     "exception": false,
     "start_time": "2021-10-14T15:11:44.377745",
     "status": "completed"
    },
    "tags": []
   },
   "source": [
    "Let's plot the pipeline:"
   ]
  },
  {
   "cell_type": "code",
   "execution_count": 2,
   "id": "ca28893f",
   "metadata": {
    "execution": {
     "iopub.execute_input": "2021-10-14T15:11:44.522590Z",
     "iopub.status.busy": "2021-10-14T15:11:44.521795Z",
     "iopub.status.idle": "2021-10-14T15:11:49.869530Z",
     "shell.execute_reply": "2021-10-14T15:11:49.870344Z"
    },
    "papermill": {
     "duration": 5.402603,
     "end_time": "2021-10-14T15:11:49.870630",
     "exception": false,
     "start_time": "2021-10-14T15:11:44.468027",
     "status": "completed"
    },
    "tags": []
   },
   "outputs": [
    {
     "name": "stdout",
     "output_type": "stream",
     "text": [
      "Plot saved at: pipeline.png\n"
     ]
    },
    {
     "name": "stderr",
     "output_type": "stream",
     "text": [
      "\r",
      "  0%|          | 0/3 [00:00<?, ?it/s]\r",
      "100%|██████████| 3/3 [00:00<00:00, 2821.91it/s]\n"
     ]
    }
   ],
   "source": [
    "%%bash\n",
    "ploomber plot"
   ]
  },
  {
   "cell_type": "code",
   "execution_count": 3,
   "id": "14aec38f",
   "metadata": {
    "execution": {
     "iopub.execute_input": "2021-10-14T15:11:49.980847Z",
     "iopub.status.busy": "2021-10-14T15:11:49.980095Z",
     "iopub.status.idle": "2021-10-14T15:11:49.984125Z",
     "shell.execute_reply": "2021-10-14T15:11:49.984732Z"
    },
    "papermill": {
     "duration": 0.06662,
     "end_time": "2021-10-14T15:11:49.985316",
     "exception": false,
     "start_time": "2021-10-14T15:11:49.918696",
     "status": "completed"
    },
    "tags": []
   },
   "outputs": [
    {
     "data": {
      "image/png": "[encoded data removed]",
      "text/plain": [
       "<IPython.core.display.Image object>"
      ]
     },
     "execution_count": 3,
     "metadata": {},
     "output_type": "execute_result"
    }
   ],
   "source": [
    "from IPython.display import Image\n",
    "Image(filename='pipeline.png')"
   ]
  },
  {
   "cell_type": "markdown",
   "id": "db666d8a",
   "metadata": {
    "papermill": {
     "duration": 0.058306,
     "end_time": "2021-10-14T15:11:50.096728",
     "exception": false,
     "start_time": "2021-10-14T15:11:50.038422",
     "status": "completed"
    },
    "tags": []
   },
   "source": [
    "The `status` command gives us an overview of the pipeline:"
   ]
  },
  {
   "cell_type": "code",
   "execution_count": 4,
   "id": "3e7a0c9b",
   "metadata": {
    "execution": {
     "iopub.execute_input": "2021-10-14T15:11:50.208584Z",
     "iopub.status.busy": "2021-10-14T15:11:50.207761Z",
     "iopub.status.idle": "2021-10-14T15:11:54.187554Z",
     "shell.execute_reply": "2021-10-14T15:11:54.188137Z"
    },
    "papermill": {
     "duration": 4.040789,
     "end_time": "2021-10-14T15:11:54.188412",
     "exception": false,
     "start_time": "2021-10-14T15:11:50.147623",
     "status": "completed"
    },
    "tags": []
   },
   "outputs": [
    {
     "name": "stdout",
     "output_type": "stream",
     "text": [
      "name    Last run      Outdated?    Product       Doc (short)    Location\n",
      "------  ------------  -----------  ------------  -------------  ------------\n",
      "raw     Has not been  Source code  MetaProduct(                 /Users/Edu/d\n",
      "        run                        {'data': Fil                 ev/projects-\n",
      "                                   e('output/da                 ploomber/spe\n",
      "                                   ta.csv'),                    c-api-python\n",
      "                                   'nb': File('                 /raw.py\n",
      "                                   output/raw.i\n",
      "                                   pynb')})\n",
      "clean   Has not been  Source code  MetaProduct(                 /Users/Edu/d\n",
      "        run           & Upstream   {'data': Fil                 ev/projects-\n",
      "                                   e('output/cl                 ploomber/spe\n",
      "                                   ean.csv'),                   c-api-python\n",
      "                                   'nb': File('                 /clean.py\n",
      "                                   output/clean\n",
      "                                   .ipynb')})\n",
      "plot    Has not been  Source code  File('output                 /Users/Edu/d\n",
      "        run           & Upstream   /plot.ipynb'                 ev/projects-\n",
      "                                   )                            ploomber/spe\n",
      "                                                                c-api-python\n",
      "                                                                /plot.py\n"
     ]
    },
    {
     "name": "stderr",
     "output_type": "stream",
     "text": [
      "\r",
      "  0%|          | 0/3 [00:00<?, ?it/s]\r",
      "100%|██████████| 3/3 [00:00<00:00, 2890.63it/s]\n"
     ]
    }
   ],
   "source": [
    "%%bash\n",
    "ploomber status"
   ]
  },
  {
   "cell_type": "markdown",
   "id": "2e2bcd8e",
   "metadata": {
    "papermill": {
     "duration": 0.050948,
     "end_time": "2021-10-14T15:11:54.291059",
     "exception": false,
     "start_time": "2021-10-14T15:11:54.240111",
     "status": "completed"
    },
    "tags": []
   },
   "source": [
    "## How is execution order determined?\n",
    "\n",
    "Ploomber infers the pipeline structure from your code. If task B uses the output from\n",
    "task A as input, we say A is an **upstream** dependency of B. For example, to\n",
    "clean the data, we must get it first; hence, we declare the following in `clean.py`:\n",
    "\n",
    "~~~python\n",
    "# execute 'raw\" task before 'clean'\n",
    "upstream = ['raw']\n",
    "~~~\n",
    "\n",
    "Once we finish cleaning the data, we must save it somewhere (this is known\n",
    "as a **product**). Products can be files or SQL relations. Our current example\n",
    "only generates files.\n",
    "\n",
    "To specify where to save the output of each task, we use the `product`\n",
    "key. For example, the `raw` task definition looks like this:\n",
    "\n",
    "~~~yaml\n",
    "- source: raw.py\n",
    "  product:\n",
    "    nb: output/raw.ipynb\n",
    "    data: output/data.csv\n",
    "~~~"
   ]
  },
  {
   "cell_type": "markdown",
   "id": "5a98a64e",
   "metadata": {
    "papermill": {
     "duration": 0.050968,
     "end_time": "2021-10-14T15:11:54.396006",
     "exception": false,
     "start_time": "2021-10-14T15:11:54.345038",
     "status": "completed"
    },
    "tags": []
   },
   "source": [
    "Scripts and notebooks automatically generate a copy of themselves in Jupyter\n",
    "notebook format (`.ipynb`). That's why we see a notebook in the `product`\n",
    "dictionary (`nb` key). The notebook format allows us to generate standalone\n",
    "files with charts and tables, no need to write extra code to save our charts!\n",
    "\n",
    "Notebooks as pipeline products are crucial concepts: `raw.py` is part of the pipeline's\n",
    "source code but `output/raw.ipynb` is not. It is an artifact generated by the source code.\n",
    "\n",
    "If you don't want to generate output notebooks, you can use a Python function\n",
    "as tasks. Our upcoming tutorial goes deeper into the different types of tasks available.\n",
    "\n",
    "## Building the pipeline\n",
    "\n",
    "Let's build the pipeline:"
   ]
  },
  {
   "cell_type": "code",
   "execution_count": 5,
   "id": "fde067f0",
   "metadata": {
    "execution": {
     "iopub.execute_input": "2021-10-14T15:11:54.508401Z",
     "iopub.status.busy": "2021-10-14T15:11:54.507109Z",
     "iopub.status.idle": "2021-10-14T15:12:07.617954Z",
     "shell.execute_reply": "2021-10-14T15:12:07.618612Z"
    },
    "papermill": {
     "duration": 13.172404,
     "end_time": "2021-10-14T15:12:07.618855",
     "exception": false,
     "start_time": "2021-10-14T15:11:54.446451",
     "status": "completed"
    },
    "tags": []
   },
   "outputs": [
    {
     "name": "stdout",
     "output_type": "stream",
     "text": [
      "name    Ran?      Elapsed (s)    Percentage\n",
      "------  ------  -------------  ------------\n",
      "raw     True          3.13435       35.2668\n",
      "clean   True          2.21732       24.9486\n",
      "plot    True          3.53586       39.7846\n"
     ]
    },
    {
     "name": "stderr",
     "output_type": "stream",
     "text": [
      "\r",
      "  0%|          | 0/3 [00:00<?, ?it/s]\r",
      "Building task 'raw':   0%|          | 0/3 [00:00<?, ?it/s]\n",
      "\r",
      "Executing:   0%|          | 0/5 [00:00<?, ?cell/s]\u001b[A\n",
      "\r",
      "Executing:  20%|██        | 1/5 [00:02<00:10,  2.60s/cell]\u001b[A\n",
      "\r",
      "Executing:  80%|████████  | 4/5 [00:02<00:00,  1.90cell/s]\u001b[A\r",
      "Executing: 100%|██████████| 5/5 [00:03<00:00,  1.62cell/s]\n",
      "\r",
      "Building task 'raw':  33%|███▎      | 1/3 [00:03<00:06,  3.14s/it]\r",
      "Building task 'clean':  33%|███▎      | 1/3 [00:03<00:06,  3.14s/it]\n",
      "\r",
      "Executing:   0%|          | 0/5 [00:00<?, ?cell/s]\u001b[A\n",
      "\r",
      "Executing:  20%|██        | 1/5 [00:01<00:07,  1.82s/cell]\u001b[A\n",
      "\r",
      "Executing:  80%|████████  | 4/5 [00:01<00:00,  2.68cell/s]\u001b[A\r",
      "Executing: 100%|██████████| 5/5 [00:02<00:00,  2.30cell/s]\n",
      "\r",
      "Building task 'clean':  67%|██████▋   | 2/3 [00:05<00:02,  2.60s/it]\r",
      "Building task 'plot':  67%|██████▋   | 2/3 [00:05<00:02,  2.60s/it] \n",
      "\r",
      "Executing:   0%|          | 0/7 [00:00<?, ?cell/s]\u001b[A\n",
      "\r",
      "Executing:  14%|█▍        | 1/7 [00:02<00:14,  2.42s/cell]\u001b[A\n",
      "\r",
      "Executing:  57%|█████▋    | 4/7 [00:02<00:01,  2.03cell/s]\u001b[A\n",
      "\r",
      "Executing:  86%|████████▌ | 6/7 [00:03<00:00,  2.55cell/s]\u001b[A\r",
      "Executing: 100%|██████████| 7/7 [00:03<00:00,  2.02cell/s]\n",
      "\r",
      "Building task 'plot': 100%|██████████| 3/3 [00:08<00:00,  3.03s/it]\r",
      "Building task 'plot': 100%|██████████| 3/3 [00:08<00:00,  2.97s/it]\n"
     ]
    }
   ],
   "source": [
    "%%bash\n",
    "mkdir output\n",
    "ploomber build"
   ]
  },
  {
   "cell_type": "markdown",
   "id": "4242d013",
   "metadata": {
    "papermill": {
     "duration": 0.051648,
     "end_time": "2021-10-14T15:12:07.726499",
     "exception": false,
     "start_time": "2021-10-14T15:12:07.674851",
     "status": "completed"
    },
    "tags": []
   },
   "source": [
    "This pipeline saves all the output in the `output/` directory; we have a few\n",
    "data files:"
   ]
  },
  {
   "cell_type": "code",
   "execution_count": 6,
   "id": "c9d8f826",
   "metadata": {
    "execution": {
     "iopub.execute_input": "2021-10-14T15:12:07.837079Z",
     "iopub.status.busy": "2021-10-14T15:12:07.836404Z",
     "iopub.status.idle": "2021-10-14T15:12:07.905652Z",
     "shell.execute_reply": "2021-10-14T15:12:07.906726Z"
    },
    "papermill": {
     "duration": 0.127989,
     "end_time": "2021-10-14T15:12:07.906973",
     "exception": false,
     "start_time": "2021-10-14T15:12:07.778984",
     "status": "completed"
    },
    "tags": []
   },
   "outputs": [
    {
     "name": "stdout",
     "output_type": "stream",
     "text": [
      "output/clean.csv\n",
      "output/data.csv\n"
     ]
    }
   ],
   "source": [
    "%%bash\n",
    "ls output/*.csv"
   ]
  },
  {
   "cell_type": "markdown",
   "id": "1dcf4735",
   "metadata": {
    "papermill": {
     "duration": 0.058291,
     "end_time": "2021-10-14T15:12:08.020435",
     "exception": false,
     "start_time": "2021-10-14T15:12:07.962144",
     "status": "completed"
    },
    "tags": []
   },
   "source": [
    "And a notebook for each script:"
   ]
  },
  {
   "cell_type": "code",
   "execution_count": 7,
   "id": "3801d237",
   "metadata": {
    "execution": {
     "iopub.execute_input": "2021-10-14T15:12:08.140738Z",
     "iopub.status.busy": "2021-10-14T15:12:08.139579Z",
     "iopub.status.idle": "2021-10-14T15:12:08.204770Z",
     "shell.execute_reply": "2021-10-14T15:12:08.205337Z"
    },
    "papermill": {
     "duration": 0.127525,
     "end_time": "2021-10-14T15:12:08.205811",
     "exception": false,
     "start_time": "2021-10-14T15:12:08.078286",
     "status": "completed"
    },
    "tags": []
   },
   "outputs": [
    {
     "name": "stdout",
     "output_type": "stream",
     "text": [
      "output/clean.ipynb\n",
      "output/plot.ipynb\n",
      "output/raw.ipynb\n"
     ]
    }
   ],
   "source": [
    "%%bash\n",
    "ls output/*.ipynb"
   ]
  },
  {
   "cell_type": "markdown",
   "id": "607dddaa",
   "metadata": {
    "papermill": {
     "duration": 0.057578,
     "end_time": "2021-10-14T15:12:08.319745",
     "exception": false,
     "start_time": "2021-10-14T15:12:08.262167",
     "status": "completed"
    },
    "tags": []
   },
   "source": [
    "## Updating the pipeline\n",
    "\n",
    "Quick experimentation is essential to develop a data pipeline. Ploomber allows\n",
    "you to quickly run new experiments without having to keep track of tasks\n",
    "dependencies.\n",
    "\n",
    "Let's say you found a problematic column in the data and want to add more\n",
    "cleaning logic to your `clean.py` script. `raw.py` does not depend\n",
    "on `clean.py`, but `plot.py` does. If you modify `clean.py`, you'd have\n",
    "to execute `clean.py` and then `plot.py` to bring your pipeline up-to-date.\n",
    "\n",
    "As your pipeline grows, keeping track of task dependencies gets time-consuming.\n",
    "Ploomber does that for you and only executes outdated tasks on each run.\n",
    "\n",
    "Make some changes to the `clean.py` script, then build again:"
   ]
  },
  {
   "cell_type": "code",
   "execution_count": 8,
   "id": "96b99911",
   "metadata": {
    "execution": {
     "iopub.execute_input": "2021-10-14T15:12:08.439433Z",
     "iopub.status.busy": "2021-10-14T15:12:08.438355Z",
     "iopub.status.idle": "2021-10-14T15:12:12.588002Z",
     "shell.execute_reply": "2021-10-14T15:12:12.588708Z"
    },
    "papermill": {
     "duration": 4.215018,
     "end_time": "2021-10-14T15:12:12.588934",
     "exception": false,
     "start_time": "2021-10-14T15:12:08.373916",
     "status": "completed"
    },
    "tags": []
   },
   "outputs": [
    {
     "name": "stdout",
     "output_type": "stream",
     "text": [
      "name    Ran?      Elapsed (s)    Percentage\n",
      "------  ------  -------------  ------------\n",
      "raw     False               0             0\n",
      "clean   False               0             0\n",
      "plot    False               0             0\n"
     ]
    },
    {
     "name": "stderr",
     "output_type": "stream",
     "text": [
      "\r",
      "0it [00:00, ?it/s]\r",
      "0it [00:00, ?it/s]\n"
     ]
    }
   ],
   "source": [
    "%%bash\n",
    "ploomber build"
   ]
  },
  {
   "cell_type": "markdown",
   "id": "8c895bcc",
   "metadata": {
    "papermill": {
     "duration": 0.057156,
     "end_time": "2021-10-14T15:12:12.704859",
     "exception": false,
     "start_time": "2021-10-14T15:12:12.647703",
     "status": "completed"
    },
    "tags": []
   },
   "source": [
    "You'll see that `raw.py` didn't run because it was not affected by the change! Try modifying any of the other tasks, then come\n",
    "back and run `ploomber build`."
   ]
  },
  {
   "cell_type": "markdown",
   "id": "47d19d69",
   "metadata": {
    "papermill": {
     "duration": 0.058282,
     "end_time": "2021-10-14T15:12:12.818787",
     "exception": false,
     "start_time": "2021-10-14T15:12:12.760505",
     "status": "completed"
    },
    "tags": []
   },
   "source": [
    "## Where to go from here\n",
    "\n",
    "This tutorial showed how to build a pipeline with Ploomber; however, it only\n",
    "superficially covered Ploomber's core concepts and design rationale. [the upcoming\n",
    "tutorial](https://ploomber.readthedocs.io/en/stable/get-started/basic-concepts.html)\n",
    "goes deeper in those terms."
   ]
  }
 ],
 "metadata": {
  "kernelspec": {
   "display_name": "Python 3 (ipykernel)",
   "language": "python",
   "name": "python3"
  },
  "language_info": {
   "codemirror_mode": {
    "name": "ipython",
    "version": 3
   },
   "file_extension": ".py",
   "mimetype": "text/x-python",
   "name": "python",
   "nbconvert_exporter": "python",
   "pygments_lexer": "ipython3",
   "version": "3.9.7"
  },
  "papermill": {
   "default_parameters": {},
   "duration": 30.841209,
   "end_time": "2021-10-14T15:12:13.095359",
   "environment_variables": {},
   "exception": null,
   "input_path": "spec-api-python/_build/readme_preprocessed.ipynb",
   "output_path": "spec-api-python/README.ipynb",
   "parameters": {},
   "start_time": "2021-10-14T15:11:42.254150",
   "version": "2.3.3"
  }
 },
 "nbformat": 4,
 "nbformat_minor": 5
}