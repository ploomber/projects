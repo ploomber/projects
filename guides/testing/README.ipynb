{
 "cells": [
  {
   "cell_type": "markdown",
   "id": "189bceda",
   "metadata": {
    "papermill": {
     "duration": 0.05264,
     "end_time": "2021-10-14T15:07:18.674789",
     "exception": false,
     "start_time": "2021-10-14T15:07:18.622149",
     "status": "completed"
    },
    "tags": []
   },
   "source": [
    "To run this example locally, execute: `ploomber examples -n testing`.\n",
    "\n",
    "To start a free, hosted JupyterLab: [![binder-logo](https://mybinder.org/badge_logo.svg)](https://mybinder.org/v2/gh/ploomber/binder-env/main?urlpath=git-pull%3Frepo%3Dhttps%253A%252F%252Fgithub.com%252Fploomber%252Fprojects%26urlpath%3Dlab%252Ftree%252Fprojects%252Ftesting%252FREADME.ipynb%26branch%3Dmaster)\n",
    "\n",
    "Found an issue? [Let us know.](https://github.com/ploomber/projects/issues/new?title=testing%20issue)\n",
    "\n",
    "Have questions? [Ask us anything on Slack.](http://community.ploomber.io/)\n"
   ]
  },
  {
   "cell_type": "markdown",
   "id": "4d504a5a",
   "metadata": {
    "papermill": {
     "duration": 0.050659,
     "end_time": "2021-10-14T15:07:18.778470",
     "exception": false,
     "start_time": "2021-10-14T15:07:18.727811",
     "status": "completed"
    },
    "tags": []
   },
   "source": [
    "# Pipeline testing\n",
    "\n",
    "Testing your pipeline is critical to ensure your data expectations hold. When you perform a data transformation, you are expecting the output to have certain properties (e.g. no nulls in certain column). Without testing, these expectations won't be verified and will cause errors errors to propagate to all downstream tasks.\n",
    "\n",
    "These are the most common sources of errors when transforming data:\n",
    "\n",
    "1. A join operation generates duplicated entries because a wrong assumption of a one-to-one relationship (which is really a one-to-many) in the source tables\n",
    "2. A function that aggregates data returns `NULL` because at least one of the input data points was `NULL`\n",
    "3. Dirty data points are used in the analysis (e.g. in a column `age`, you forgot to remove corrupted data points with negative values)\n",
    "\n",
    "Some of these errors are easy to spot (2), but it might take you some tome to find out about others (1 and 3), or worst, you will never notice these errors and just use incorrect data in your analysis. And even if your code is correct and all your expectations hold true, it might not hold true in the future if the data changes and it's important for you to know this as soon as it happens.\n",
    "\n",
    "To make testing effective, **your tests should run every time you run your tasks**. Ploomber has a mechanism to automate this.\n",
    "\n",
    "## Sample data\n",
    "\n",
    "This example loads data from a single table called `my_table`, which has two columns:\n",
    "\n",
    "1. age: ranges from 21 to 80 but there are some corrupted records with -42\n",
    "2. score: ranges from 0 to 10 but there are some corrupted records with missing values\n",
    "\n",
    "Let's take a look at our example `pipeline.yaml`:"
   ]
  },
  {
   "cell_type": "code",
   "execution_count": 1,
   "id": "2b075f5f",
   "metadata": {
    "execution": {
     "iopub.execute_input": "2021-10-14T15:07:18.889738Z",
     "iopub.status.busy": "2021-10-14T15:07:18.888501Z",
     "iopub.status.idle": "2021-10-14T15:07:18.892730Z",
     "shell.execute_reply": "2021-10-14T15:07:18.893248Z"
    },
    "papermill": {
     "duration": 0.066836,
     "end_time": "2021-10-14T15:07:18.893515",
     "exception": false,
     "start_time": "2021-10-14T15:07:18.826679",
     "status": "completed"
    },
    "tags": []
   },
   "outputs": [],
   "source": [
    "from pathlib import Path"
   ]
  },
  {
   "cell_type": "markdown",
   "id": "cad8682e",
   "metadata": {
    "papermill": {
     "duration": 0.140983,
     "end_time": "2021-10-14T15:07:19.098668",
     "exception": false,
     "start_time": "2021-10-14T15:07:18.957685",
     "status": "completed"
    },
    "region_name": "md",
    "tags": []
   },
   "source": [
    "```yaml\n",
    "# Content of pipeline.yaml\n",
    "clients:\n",
    "  SQLScript: db.get_client\n",
    "  SQLDump: db.get_client\n",
    "\n",
    "tasks:\n",
    "  - source: clean.sql\n",
    "    name: clean\n",
    "    product: ['my_clean_table', 'table']\n",
    "    on_finish: integration_tests.test_sql_clean\n",
    "  \n",
    "  - source: dump.sql\n",
    "    name: dump\n",
    "    class: SQLDump\n",
    "    product: output/my_clean_table.csv\n",
    "    chunksize: null\n",
    "\n",
    "  - source: transform.py\n",
    "    product:\n",
    "        nb: output/transformed.html\n",
    "        data: output/transformed.csv\n",
    "    on_finish: integration_tests.test_py_transform\n",
    "\n",
    "```"
   ]
  },
  {
   "cell_type": "markdown",
   "id": "f2e451de",
   "metadata": {
    "papermill": {
     "duration": 0.08612,
     "end_time": "2021-10-14T15:07:19.354275",
     "exception": false,
     "start_time": "2021-10-14T15:07:19.268155",
     "status": "completed"
    },
    "tags": []
   },
   "source": [
    "The pipeline has three tasks, one to clean the raw table, another one to dump the clean data to a CSV file and finally, one Python task to transform the data. We included a SQL and a Python task to show how you can test both types of tasks but we recommend you to do as much analysis as you can using SQL because it scales much better than Python code (you won't have to deal with memory errors).\n",
    "\n",
    "The configuration is straightforward, the only new key is `on_finish` (inside the first and third task). This is known as a *hook*. Task hooks allow you to embed custom logic when certain events happen. `on_finish` is executed after a task successfully executes. The value is a dotted path, which tells Ploomber where to find your testing function. Under the hood, Ploomber will import your function and call it after the task is executed, here's some equivalent code:\n",
    "\n",
    "```python\n",
    "from integration_tests import test_sql_clean\n",
    "\n",
    "# your task is executed...\n",
    "\n",
    "# ploomber calls your testing function...\n",
    "test_sql_clean()\n",
    "```\n",
    "\n",
    "Before diving into the testing source code, let's see the rest of the tasks.\n",
    "\n",
    "`clean.sql` just filters columns we don't want to include in the analysis:"
   ]
  },
  {
   "cell_type": "markdown",
   "id": "1e8119aa",
   "metadata": {
    "papermill": {
     "duration": 0.06452,
     "end_time": "2021-10-14T15:07:19.497205",
     "exception": false,
     "start_time": "2021-10-14T15:07:19.432685",
     "status": "completed"
    },
    "region_name": "md",
    "tags": []
   },
   "source": [
    "```sql\n",
    "# Content of clean.sql\n",
    "DROP TABLE IF EXISTS {{product}};\n",
    "\n",
    "CREATE TABLE {{product}} AS\n",
    "SELECT * FROM my_table\n",
    "WHERE score is not null AND age > 0\n",
    "```"
   ]
  },
  {
   "cell_type": "markdown",
   "id": "52ad7c93",
   "metadata": {
    "papermill": {
     "duration": 0.064937,
     "end_time": "2021-10-14T15:07:19.709062",
     "exception": false,
     "start_time": "2021-10-14T15:07:19.644125",
     "status": "completed"
    },
    "tags": []
   },
   "source": [
    "`dump.sql` just selects all rows from the clean table to dump it to the CSV file:"
   ]
  },
  {
   "cell_type": "markdown",
   "id": "7bf64e17",
   "metadata": {
    "papermill": {
     "duration": 0.067318,
     "end_time": "2021-10-14T15:07:19.840751",
     "exception": false,
     "start_time": "2021-10-14T15:07:19.773433",
     "status": "completed"
    },
    "region_name": "md",
    "tags": []
   },
   "source": [
    "```sql\n",
    "# Content of dump.sql\n",
    "SELECT * FROM {{upstream['clean']}}\n",
    "```"
   ]
  },
  {
   "cell_type": "markdown",
   "id": "7f24d5b8",
   "metadata": {
    "papermill": {
     "duration": 0.056681,
     "end_time": "2021-10-14T15:07:19.956762",
     "exception": false,
     "start_time": "2021-10-14T15:07:19.900081",
     "status": "completed"
    },
    "tags": []
   },
   "source": [
    "Finally, the `transform.py` script generates a new column using `score`"
   ]
  },
  {
   "cell_type": "markdown",
   "id": "c70b08d1",
   "metadata": {
    "papermill": {
     "duration": 0.05388,
     "end_time": "2021-10-14T15:07:20.064182",
     "exception": false,
     "start_time": "2021-10-14T15:07:20.010302",
     "status": "completed"
    },
    "region_name": "md",
    "tags": []
   },
   "source": [
    "```python\n",
    "# Content of transform.py\n",
    "import pandas as pd\n",
    "\n",
    "# + tags=[\"parameters\"]\n",
    "upstream = ['dump']\n",
    "product = None\n",
    "\n",
    "# +\n",
    "df = pd.read_csv(upstream['dump'])\n",
    "df['multiplied_score'] = df.score * 42\n",
    "\n",
    "# +\n",
    "df.to_csv(product['data'])\n",
    "\n",
    "```"
   ]
  },
  {
   "cell_type": "markdown",
   "id": "7c4d8e38",
   "metadata": {
    "papermill": {
     "duration": 0.057567,
     "end_time": "2021-10-14T15:07:20.176180",
     "exception": false,
     "start_time": "2021-10-14T15:07:20.118613",
     "status": "completed"
    },
    "tags": []
   },
   "source": [
    "Let's now take a look at our tests:"
   ]
  },
  {
   "cell_type": "markdown",
   "id": "a03951bc",
   "metadata": {
    "papermill": {
     "duration": 0.050487,
     "end_time": "2021-10-14T15:07:20.275833",
     "exception": false,
     "start_time": "2021-10-14T15:07:20.225346",
     "status": "completed"
    },
    "region_name": "md",
    "tags": []
   },
   "source": [
    "```python\n",
    "# Content of integration_tests.py\n",
    "import pandas as pd\n",
    "from ploomber.testing.sql import nulls_in_columns, range_in_column\n",
    "\n",
    "\n",
    "def test_sql_clean(client, product):\n",
    "    \"\"\"Tests for clean.sql\n",
    "    \"\"\"\n",
    "    assert not nulls_in_columns(client, ['score', 'age'], product)\n",
    "    min_age, max_age = range_in_column(client, 'age', product)\n",
    "    assert min_age > 0\n",
    "\n",
    "\n",
    "def test_py_transform(product):\n",
    "    \"\"\"Tests for transform.py\n",
    "    \"\"\"\n",
    "    df = pd.read_csv(str(product['data']))\n",
    "    assert not df.multiplied_score.isna().sum()\n",
    "    assert df.multiplied_score.min() >= 0\n",
    "\n",
    "```"
   ]
  },
  {
   "cell_type": "markdown",
   "id": "62e7226e",
   "metadata": {
    "papermill": {
     "duration": 0.0472,
     "end_time": "2021-10-14T15:07:20.372106",
     "exception": false,
     "start_time": "2021-10-14T15:07:20.324906",
     "status": "completed"
    },
    "tags": []
   },
   "source": [
    "## Testing Python scripts\n",
    "\n",
    "To test your Python scripts, you have to know which file to look at. You can do so by simply adding `product` as argument to your function. If your Python script generates more than one product (like in our case), `product` will be a dictionary-like object, that's why we are using `product['data']`. This returns a `Product` object, to get the path to the file, simply use the `str` function.\n",
    "\n",
    "```pycon\n",
    ">>> product # dictionary-like object: maps names to Product objects\n",
    ">>> product['data'] # Product object\n",
    ">>> str(product['data']) # path to the data file\n",
    "```\n",
    "\n",
    "## Testing SQL scripts\n",
    "\n",
    "To test SQL scripts, you also need the client to send queries to the appropriate database, to do so, just add `client` to your testing function.\n",
    "\n",
    "The `ploomber.testing.sql` module implements convenient functions to test your tables. They always take `client` as its first argument, just pass the client variable directly. Since our SQL script only generates a product, you can directly pass the product object to the testing function (otherwise pass `product[key]`) with the appropriate key.\n",
    "\n",
    "*Note:* If you're implementing your own SQL testing logic, doing `str(product)` will return a `{schema}.{name}` string, you can also use `product.schema` and `product.name`.\n",
    "\n",
    "## Running the pipeline\n",
    "\n",
    "Before we run the pipeline, we generate a sample database:"
   ]
  },
  {
   "cell_type": "code",
   "execution_count": 2,
   "id": "081a1c4d",
   "metadata": {
    "execution": {
     "iopub.execute_input": "2021-10-14T15:07:20.479292Z",
     "iopub.status.busy": "2021-10-14T15:07:20.478483Z",
     "iopub.status.idle": "2021-10-14T15:07:21.313968Z",
     "shell.execute_reply": "2021-10-14T15:07:21.314510Z"
    },
    "papermill": {
     "duration": 0.892668,
     "end_time": "2021-10-14T15:07:21.314824",
     "exception": false,
     "start_time": "2021-10-14T15:07:20.422156",
     "status": "completed"
    },
    "tags": []
   },
   "outputs": [],
   "source": [
    "%%sh\n",
    "cd setup\n",
    "python script.py"
   ]
  },
  {
   "cell_type": "markdown",
   "id": "a9391d59",
   "metadata": {
    "papermill": {
     "duration": 0.050173,
     "end_time": "2021-10-14T15:07:21.412949",
     "exception": false,
     "start_time": "2021-10-14T15:07:21.362776",
     "status": "completed"
    },
    "tags": []
   },
   "source": [
    "Let's now run our pipeline:"
   ]
  },
  {
   "cell_type": "code",
   "execution_count": 3,
   "id": "002c997a",
   "metadata": {
    "execution": {
     "iopub.execute_input": "2021-10-14T15:07:21.519497Z",
     "iopub.status.busy": "2021-10-14T15:07:21.518550Z",
     "iopub.status.idle": "2021-10-14T15:07:29.659760Z",
     "shell.execute_reply": "2021-10-14T15:07:29.660969Z"
    },
    "papermill": {
     "duration": 8.199531,
     "end_time": "2021-10-14T15:07:29.661195",
     "exception": false,
     "start_time": "2021-10-14T15:07:21.461664",
     "status": "completed"
    },
    "tags": []
   },
   "outputs": [
    {
     "name": "stdout",
     "output_type": "stream",
     "text": [
      "name       Ran?      Elapsed (s)    Percentage\n",
      "---------  ------  -------------  ------------\n",
      "clean      True         0.025872      0.69582\n",
      "dump       True         0.004018      0.108063\n",
      "transform  True         3.68831      99.1961\n"
     ]
    },
    {
     "name": "stderr",
     "output_type": "stream",
     "text": [
      "\r",
      "  0%|          | 0/3 [00:00<?, ?it/s]\r",
      "Building task 'clean':   0%|          | 0/3 [00:00<?, ?it/s]\r",
      "Building task 'dump':   0%|          | 0/3 [00:00<?, ?it/s] \r",
      "Building task 'transform':   0%|          | 0/3 [00:00<?, ?it/s]\n",
      "\r",
      "Executing:   0%|          | 0/5 [00:00<?, ?cell/s]\u001b[A\n",
      "\r",
      "Executing:  20%|██        | 1/5 [00:02<00:11,  2.79s/cell]\u001b[A\n",
      "\r",
      "Executing:  80%|████████  | 4/5 [00:02<00:00,  1.78cell/s]\u001b[A\r",
      "Executing: 100%|██████████| 5/5 [00:03<00:00,  1.58cell/s]\n",
      "\r",
      "Building task 'transform': 100%|██████████| 3/3 [00:03<00:00,  1.25s/it]\r",
      "Building task 'transform': 100%|██████████| 3/3 [00:03<00:00,  1.25s/it]\n"
     ]
    }
   ],
   "source": [
    "%%sh\n",
    "ploomber build"
   ]
  },
  {
   "cell_type": "markdown",
   "id": "354b2d6b",
   "metadata": {
    "papermill": {
     "duration": 0.063805,
     "end_time": "2021-10-14T15:07:29.789978",
     "exception": false,
     "start_time": "2021-10-14T15:07:29.726173",
     "status": "completed"
    },
    "tags": []
   },
   "source": [
    "Everything looks good.\n",
    "\n",
    "Let's now imagine a colleague found an error in the cleaning logic and has re-written the script. However, he was unaware that both columns in the raw table had corrupted data and forgot to include the filtering conditions.\n",
    "\n",
    "The script now looks like this:"
   ]
  },
  {
   "cell_type": "code",
   "execution_count": 4,
   "id": "c7a08747",
   "metadata": {
    "execution": {
     "iopub.execute_input": "2021-10-14T15:07:29.908791Z",
     "iopub.status.busy": "2021-10-14T15:07:29.907780Z",
     "iopub.status.idle": "2021-10-14T15:07:29.920744Z",
     "shell.execute_reply": "2021-10-14T15:07:29.921508Z"
    },
    "papermill": {
     "duration": 0.07929,
     "end_time": "2021-10-14T15:07:29.921880",
     "exception": false,
     "start_time": "2021-10-14T15:07:29.842590",
     "status": "completed"
    },
    "tags": []
   },
   "outputs": [
    {
     "data": {
      "text/plain": [
       "86"
      ]
     },
     "execution_count": 4,
     "metadata": {},
     "output_type": "execute_result"
    }
   ],
   "source": [
    "path = Path('clean.sql')\n",
    "new_code = path.read_text().replace('WHERE score is not null AND age > 0', '')\n",
    "path.write_text(new_code)"
   ]
  },
  {
   "cell_type": "markdown",
   "id": "0267df1e",
   "metadata": {
    "papermill": {
     "duration": 0.089652,
     "end_time": "2021-10-14T15:07:30.091463",
     "exception": false,
     "start_time": "2021-10-14T15:07:30.001811",
     "status": "completed"
    },
    "region_name": "md",
    "tags": []
   },
   "source": [
    "```sql\n",
    "# Content of clean.sql\n",
    "DROP TABLE IF EXISTS {{product}};\n",
    "\n",
    "CREATE TABLE {{product}} AS\n",
    "SELECT * FROM my_table\n",
    "WHERE score is not null AND age > 0\n",
    "```"
   ]
  },
  {
   "cell_type": "markdown",
   "id": "dd02dc61",
   "metadata": {
    "papermill": {
     "duration": 0.06934,
     "end_time": "2021-10-14T15:07:30.229889",
     "exception": false,
     "start_time": "2021-10-14T15:07:30.160549",
     "status": "completed"
    },
    "tags": []
   },
   "source": [
    "Let's see what happens if we run the pipeline:"
   ]
  },
  {
   "cell_type": "code",
   "execution_count": 5,
   "id": "addecf04",
   "metadata": {
    "execution": {
     "iopub.execute_input": "2021-10-14T15:07:30.413915Z",
     "iopub.status.busy": "2021-10-14T15:07:30.412198Z",
     "iopub.status.idle": "2021-10-14T15:07:34.786963Z",
     "shell.execute_reply": "2021-10-14T15:07:34.787522Z"
    },
    "papermill": {
     "duration": 4.458352,
     "end_time": "2021-10-14T15:07:34.787745",
     "exception": false,
     "start_time": "2021-10-14T15:07:30.329393",
     "status": "completed"
    },
    "tags": []
   },
   "outputs": [],
   "source": [
    "%%capture captured\n",
    "%%sh --no-raise-error\n",
    "ploomber build"
   ]
  },
  {
   "cell_type": "code",
   "execution_count": 6,
   "id": "f02a8b45",
   "metadata": {
    "execution": {
     "iopub.execute_input": "2021-10-14T15:07:34.898815Z",
     "iopub.status.busy": "2021-10-14T15:07:34.898056Z",
     "iopub.status.idle": "2021-10-14T15:07:34.901186Z",
     "shell.execute_reply": "2021-10-14T15:07:34.901684Z"
    },
    "papermill": {
     "duration": 0.062245,
     "end_time": "2021-10-14T15:07:34.901915",
     "exception": false,
     "start_time": "2021-10-14T15:07:34.839670",
     "status": "completed"
    },
    "tags": []
   },
   "outputs": [
    {
     "name": "stdout",
     "output_type": "stream",
     "text": [
      "\r",
      "  0%|          | 0/3 [00:00<?, ?it/s]\r",
      "Building task 'clean':   0%|          | 0/3 [00:00<?, ?it/s]\r",
      "Building task 'clean': 100%|██████████| 3/3 [00:00<00:00, 114.23it/s]\n",
      "Traceback (most recent call last):\n",
      "  File \"/Users/Edu/dev/ploomber/src/ploomber/cli/io.py\", line 20, in wrapper\n",
      "    fn(**kwargs)\n",
      "  File \"/Users/Edu/dev/ploomber/src/ploomber/cli/build.py\", line 51, in main\n",
      "    report = dag.build(force=args.force, debug=args.debug)\n",
      "  File \"/Users/Edu/dev/ploomber/src/ploomber/dag/dag.py\", line 482, in build\n",
      "    report = callable_()\n",
      "  File \"/Users/Edu/dev/ploomber/src/ploomber/dag/dag.py\", line 581, in _build\n",
      "    raise build_exception\n",
      "  File \"/Users/Edu/dev/ploomber/src/ploomber/dag/dag.py\", line 513, in _build\n",
      "    task_reports = self._executor(dag=self,\n",
      "  File \"/Users/Edu/dev/ploomber/src/ploomber/executors/serial.py\", line 138, in __call__\n",
      "    raise DAGBuildError(str(exceptions_all))\n",
      "ploomber.exceptions.DAGBuildError: \n",
      "=============================== DAG build failed ===============================\n",
      "--------- SQLScript: clean -> SQLRelation(('my_clean_table', 'table')) ---------\n",
      "-------------- /Users/Edu/dev/projects-ploomber/testing/clean.sql --------------\n",
      "Traceback (most recent call last):\n",
      "  File \"/Users/Edu/dev/ploomber/src/ploomber/tasks/abc.py\", line 591, in _build\n",
      "    self._post_run_actions()\n",
      "  File \"/Users/Edu/dev/ploomber/src/ploomber/tasks/abc.py\", line 342, in _post_run_actions\n",
      "    self._run_on_finish()\n",
      "  File \"/Users/Edu/dev/ploomber/src/ploomber/tasks/abc.py\", line 333, in _run_on_finish\n",
      "    self.on_finish(**kwargs)\n",
      "  File \"/Users/Edu/dev/ploomber/src/ploomber/util/dotted_path.py\", line 74, in __call__\n",
      "    out = self._callable(*args, **kwargs_final)\n",
      "  File \"/Users/Edu/dev/projects-ploomber/testing/integration_tests.py\", line 8, in test_sql_clean\n",
      "    assert not nulls_in_columns(client, ['score', 'age'], product)\n",
      "AssertionError\n",
      "\n",
      "The above exception was the direct cause of the following exception:\n",
      "\n",
      "Traceback (most recent call last):\n",
      "  File \"/Users/Edu/dev/ploomber/src/ploomber/executors/serial.py\", line 186, in catch_exceptions\n",
      "    fn()\n",
      "  File \"/Users/Edu/dev/ploomber/src/ploomber/executors/serial.py\", line 159, in __call__\n",
      "    return self.fn(**self.kwargs)\n",
      "  File \"/Users/Edu/dev/ploomber/src/ploomber/executors/serial.py\", line 166, in catch_warnings\n",
      "    result = fn()\n",
      "  File \"/Users/Edu/dev/ploomber/src/ploomber/executors/serial.py\", line 159, in __call__\n",
      "    return self.fn(**self.kwargs)\n",
      "  File \"/Users/Edu/dev/ploomber/src/ploomber/executors/serial.py\", line 235, in build_in_subprocess\n",
      "    report, meta = task._build(**build_kwargs)\n",
      "  File \"/Users/Edu/dev/ploomber/src/ploomber/tasks/abc.py\", line 603, in _build\n",
      "    raise TaskBuildError(msg) from e\n",
      "ploomber.exceptions.TaskBuildError: Exception when running on_finish for task \"clean\": \n",
      "=============================== Summary (1 task) ===============================\n",
      "SQLScript: clean -> SQLRelation(('my_clean_table', 'table'))\n",
      "=============================== DAG build failed ===============================\n",
      "\n",
      "\n",
      "\n"
     ]
    }
   ],
   "source": [
    "print(captured.stderr)"
   ]
  },
  {
   "cell_type": "markdown",
   "id": "ffa1f103",
   "metadata": {
    "papermill": {
     "duration": 0.057321,
     "end_time": "2021-10-14T15:07:35.012594",
     "exception": false,
     "start_time": "2021-10-14T15:07:34.955273",
     "status": "completed"
    },
    "tags": []
   },
   "source": [
    "Ploomber a structured error message to understand why your pipeline failed. The last few lines are a summary:\n",
    "\n",
    "```\n",
    "=============================== Summary (1 task) ===============================\n",
    "SQLScript: clean -> SQLRelation(('my_clean_table', 'table'))\n",
    "=============================== DAG build failed ===============================\n",
    "```\n",
    "\n",
    "By looking at the summary we know our pipeline failed because one task crashed (`clean`). If we\n",
    "scroll up we'll see a header section:\n",
    "\n",
    "```\n",
    "--------- SQLScript: clean -> SQLRelation(('my_clean_table', 'table')) ---------\n",
    "-------------- /Users/Edu/dev/projects-ploomber/testing/clean.sql --------------\n",
    "```\n",
    "\n",
    "Each task displays its traceback on a separate section. Since only one task failed in our example\n",
    "we only see one task traceback.\n",
    "\n",
    "At the end of this task traceback, we see the following line:\n",
    "\n",
    "```\n",
    "Exception when running on_finish for task \"clean\":\n",
    "```\n",
    "\n",
    "Now we know that the `on_finish` hook crashed. If we go up a few lines up:\n",
    "\n",
    "```\n",
    "assert not nulls_in_columns(client, ['score', 'age'], product)\n",
    "AssertionError\n",
    "```\n",
    "\n",
    "That tells me the exact test that failed! Pipelines can get very large; it helps a lot to have a structured error message that tells us what failed and where it happened. Our take away from the error message is: \"the pipeline building process failed because the `on_finish` hook in the `clean` task raised an exception in certain assertion\". That's much better than either \"the pipeline failed\" or \"this line raised an exception\".\n",
    "\n",
    "Let's fix our pipeline and add the `WHERE` clause again:"
   ]
  },
  {
   "cell_type": "code",
   "execution_count": 7,
   "id": "c2d09b8b",
   "metadata": {
    "execution": {
     "iopub.execute_input": "2021-10-14T15:07:35.129095Z",
     "iopub.status.busy": "2021-10-14T15:07:35.128173Z",
     "iopub.status.idle": "2021-10-14T15:07:35.134429Z",
     "shell.execute_reply": "2021-10-14T15:07:35.134942Z"
    },
    "papermill": {
     "duration": 0.070198,
     "end_time": "2021-10-14T15:07:35.135231",
     "exception": false,
     "start_time": "2021-10-14T15:07:35.065033",
     "status": "completed"
    },
    "tags": []
   },
   "outputs": [
    {
     "name": "stdout",
     "output_type": "stream",
     "text": [
      "DROP TABLE IF EXISTS {{product}};\n",
      "\n",
      "CREATE TABLE {{product}} AS\n",
      "SELECT * FROM my_table\n",
      "WHERE score is not null AND age > 0\n"
     ]
    },
    {
     "data": {
      "text/plain": [
       "121"
      ]
     },
     "execution_count": 7,
     "metadata": {},
     "output_type": "execute_result"
    }
   ],
   "source": [
    "path = Path('clean.sql')\n",
    "new_code = path.read_text() + 'WHERE score is not null AND age > 0'\n",
    "print(new_code)\n",
    "path.write_text(new_code)"
   ]
  },
  {
   "cell_type": "code",
   "execution_count": 8,
   "id": "6e7d2461",
   "metadata": {
    "execution": {
     "iopub.execute_input": "2021-10-14T15:07:35.256677Z",
     "iopub.status.busy": "2021-10-14T15:07:35.255546Z",
     "iopub.status.idle": "2021-10-14T15:07:43.036310Z",
     "shell.execute_reply": "2021-10-14T15:07:43.036979Z"
    },
    "papermill": {
     "duration": 7.845776,
     "end_time": "2021-10-14T15:07:43.037266",
     "exception": false,
     "start_time": "2021-10-14T15:07:35.191490",
     "status": "completed"
    },
    "tags": []
   },
   "outputs": [
    {
     "name": "stdout",
     "output_type": "stream",
     "text": [
      "name       Ran?      Elapsed (s)    Percentage\n",
      "---------  ------  -------------  ------------\n",
      "clean      True         0.017832     0.521816\n",
      "dump       True         0.001913     0.0559799\n",
      "transform  True         3.39755     99.4222\n"
     ]
    },
    {
     "name": "stderr",
     "output_type": "stream",
     "text": [
      "\r",
      "  0%|          | 0/3 [00:00<?, ?it/s]\r",
      "Building task 'clean':   0%|          | 0/3 [00:00<?, ?it/s]\r",
      "Building task 'dump':   0%|          | 0/3 [00:00<?, ?it/s] \r",
      "Building task 'transform':   0%|          | 0/3 [00:00<?, ?it/s]\n",
      "\r",
      "Executing:   0%|          | 0/5 [00:00<?, ?cell/s]\u001b[A\n",
      "\r",
      "Executing:  20%|██        | 1/5 [00:02<00:08,  2.22s/cell]\u001b[A\n",
      "\r",
      "Executing:  80%|████████  | 4/5 [00:02<00:00,  2.20cell/s]\u001b[A\r",
      "Executing: 100%|██████████| 5/5 [00:02<00:00,  1.84cell/s]\n",
      "\r",
      "Building task 'transform': 100%|██████████| 3/3 [00:03<00:00,  1.15s/it]\r",
      "Building task 'transform': 100%|██████████| 3/3 [00:03<00:00,  1.15s/it]\n"
     ]
    }
   ],
   "source": [
    "%%sh\n",
    "ploomber build"
   ]
  },
  {
   "cell_type": "markdown",
   "id": "5be21eb1",
   "metadata": {
    "papermill": {
     "duration": 0.073727,
     "end_time": "2021-10-14T15:07:43.187127",
     "exception": false,
     "start_time": "2021-10-14T15:07:43.113400",
     "status": "completed"
    },
    "tags": []
   },
   "source": [
    "All good! Pipeline is running without issues again!\n",
    "\n",
    "## Test-driven development (TDD)\n",
    "\n",
    "Writing data tests is essential for developing robust pipelines. Coding tests is simple, all we have to do is write in code that we already have in our mind when thinking what the outcome of a script should be.\n",
    "\n",
    "This thought process happens *before* we write the actual code, which means we could easily write tests even before we write the actual code. This approach is called Test-driven development (TDD).\n",
    "\n",
    "Following this framework has an added benefit, since we force ourselves to put in concrete terms our data expectations, it makes easier to think how we want to get there.\n",
    "\n",
    "Furthermore, *tests also serve as documentation* for us (and for others). By looking at our tests, anyone can see what *our intent* is. Then by looking at the code, it will be easier to spot mismatches between our intent and our implementation.\n",
    "\n",
    "\n",
    "## Pro tip: debugging and developing tests interactively\n",
    "\n",
    "Even though tests are usually just a few short statements, writing them in an interactive way can help you quickly prototype your assertions. One simple trick you can use to do this is to start an interactive session and load the `client` and `product` variables.\n",
    "\n",
    "Let's imagine you want to write a test for a new SQL script (but the same applies for other types of scripts). You add a testing function, but it's currently empty:\n",
    "\n",
    "```python\n",
    "def my_sql_testing_function(client, product):\n",
    "    pass\n",
    "```\n",
    "\n",
    "If you run this, Ploomber will still call your function, you can start an interactive session when this happens:\n",
    "\n",
    "```python\n",
    "def my_sql_testing_function(client, product):\n",
    "    from IPython import embed; embed()\n",
    "```\n",
    "\n",
    "Once you call `ploomber build`, wait for the Python prompt to show and verify you have the `client` and `product` variables:\n",
    "\n",
    "```pycon\n",
    ">>> print(client)\n",
    ">>> print(product)\n",
    "```\n",
    "\n",
    "\n",
    "## Where to go next\n",
    "\n",
    "* [Documentation for ploomber.testing - Handy functions for testing pipelines](../api/testing.rst)\n",
    "* [Our blog post on CI for Data Science (which includes a section on testing pipelines)](https://towardsdatascience.com/rethinking-continuous-integration-for-data-science-ebf0dfc61788)"
   ]
  }
 ],
 "metadata": {
  "kernelspec": {
   "display_name": "Python 3 (ipykernel)",
   "language": "python",
   "name": "python3"
  },
  "language_info": {
   "codemirror_mode": {
    "name": "ipython",
    "version": 3
   },
   "file_extension": ".py",
   "mimetype": "text/x-python",
   "name": "python",
   "nbconvert_exporter": "python",
   "pygments_lexer": "ipython3",
   "version": "3.9.7"
  },
  "papermill": {
   "default_parameters": {},
   "duration": 26.535993,
   "end_time": "2021-10-14T15:07:43.377494",
   "environment_variables": {},
   "exception": null,
   "input_path": "testing/_build/readme_preprocessed.ipynb",
   "output_path": "testing/README.ipynb",
   "parameters": {},
   "start_time": "2021-10-14T15:07:16.841501",
   "version": "2.3.3"
  }
 },
 "nbformat": 4,
 "nbformat_minor": 5
}