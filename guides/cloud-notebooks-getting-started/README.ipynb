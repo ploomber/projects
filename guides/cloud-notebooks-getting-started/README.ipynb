{
 "cells": [
  {
   "cell_type": "code",
   "execution_count": 1,
   "id": "81fdb394-b88a-4639-83da-a2a5a5d8fc95",
   "metadata": {
    "nbsphinx": "hidden"
   },
   "outputs": [],
   "source": [
    "# conda activate {env} doesn't work well here\n",
    "# so we manually modify the path\n",
    "PATH=$CONDA_PREFIX/envs/ploomber/bin:$PATH"
   ]
  },
  {
   "cell_type": "markdown",
   "id": "04860428-c009-4f92-9a83-140c62093842",
   "metadata": {},
   "source": [
    "# Getting Started with Cloud Notebooks API\n",
    "\n",
    "This tutorial will show you how you can execute notebooks in the cloud.\n",
    "\n",
    "With Ploomber Cloud, you can run notebooks in parallel, and you can even request more resources (CPU, memory, GPU) and more!\n",
    "\n",
    "The following sections will be covered in this tutorial. **(You can click any of them to jump directly to the corresponding section.)**\n",
    "\n",
    "\n",
    "## Pre-requisites\n",
    "\n",
    "This section will help you setup your local environment to run notebooks in Ploomber Cloud. Basically, you only need to install Ploomber and set the API Key from your Ploomber Cloud account.\n",
    "\n",
    "### Installing Ploomber\n",
    "\n",
    "To install the updated version of Ploomber, open a terminal and run the following command.\n",
    "\n",
    "```sh\n",
    "pip install ploomber --upgrade\n",
    "```\n",
    "\n",
    "### Setting up the Ploomber Cloud API key\n",
    "\n",
    "For this, you'll need to sign in to [Ploomber Cloud](https://www.cloud.ploomber.io/signin.html). Once you sign in, jou just need to copy your API key and run the following command in your terminal:\n",
    "\n",
    "```sh\n",
    "ploomber cloud set-key {your-key}\n",
    "```\n",
    "\n",
    "A detailed tutorial to get and set your API Key can be found [here](https://docs.ploomber.io/en/latest/cloud/api-key.html).\n",
    "\n",
    "## Notebook submission to Ploomber Cloud\n",
    "\n",
    "For this simple example, we will use a notebook that draws random numbers with `numpy` and plots them with `matplotlib`. \n",
    "\n",
    "> To make it more interesting, we will use these random numbes to estimate a value of pi using the [Monte Carlo Method](https://en.wikipedia.org/wiki/Monte_Carlo_method). (This is just to make a simple example more interesting, but in any case, the important part is just to see how this example will allow you to run the notebook directly in Ploober Cloud.) \n",
    "> <center><img src=\"https://github.com/ploomber/projects/raw/master/guides/cloud-notebook-simple/plot.png\" width=\"70%\"></center>\n",
    "\n",
    "First, you will need to download the sample notebook we have prepared to your local folder. To do so, you just need to run the following command in your terminal:\n",
    "\n",
    "```sh\n",
    "curl https://raw.githubusercontent.com/ploomber/projects/master/guides/cloud-notebook-simple/plot.ipynb -o plot.ipynb\n",
    "```"
   ]
  },
  {
   "cell_type": "markdown",
   "id": "93eb7dcc-398d-4372-b9f1-42f5f7d5925d",
   "metadata": {},
   "source": [
    "> **Note that we only need to supply the notebook.** Ploomber Cloud will figure out which dependendencies to install.\n"
   ]
  },
  {
   "cell_type": "code",
   "execution_count": 2,
   "id": "833188b4-ac9c-439e-b8c9-9f4be0673965",
   "metadata": {},
   "outputs": [
    {
     "name": "stdout",
     "output_type": "stream",
     "text": [
      "Uploading plot-aebe61a1.ipynb...\n",
      "Triggering execution of plot-aebe61a1.ipynb...\n",
      "\u001b[0m"
     ]
    }
   ],
   "source": [
    "ploomber cloud nb plot.ipynb"
   ]
  },
  {
   "cell_type": "markdown",
   "id": "c053eb01-17bc-47f7-b2ac-723158b2df92",
   "metadata": {},
   "source": [
    "Note that the notebook `plot.ipynb` is uploaded to the cloud as `plot-{identifier}.ipynb`. **Ploomber Cloud automatically versions notebooks**, so it will generate an identifier for your notebook (for example `plot-aebe61a1.ipynb`). We can use this identifier to download the source later and to download any associated artifacts.\n",
    "\n",
    "**Congratulations! 🎉** You have submitted your first notebook run to Ploomber Cloud. We will now explore how we can monitor our submitted notebooks and how we can download our results."
   ]
  },
  {
   "cell_type": "markdown",
   "id": "64aabbdc-9e6a-4557-af21-6c225d499a8e",
   "metadata": {},
   "source": [
    "## Execution monitoring\n",
    "\n",
    "Once your notebook is submitted, we can check that the task was successfully generated a `runid` and we can check the status by running the following command in your terminal:"
   ]
  },
  {
   "cell_type": "code",
   "execution_count": 3,
   "id": "0d49cb20-eb3e-4ae5-90ab-a72e67c37775",
   "metadata": {},
   "outputs": [
    {
     "name": "stdout",
     "output_type": "stream",
     "text": [
      "created_at      runid                                 status\n",
      "--------------  ------------------------------------  --------\n",
      "31 seconds ago  2d4bcadf-5acb-49a5-8806-af2dbe1b32fe  created\n",
      "6 hours ago     ee78f4c1-ee42-4ba5-ba2f-9e73ae9228d6  finished\n",
      "\u001b[0m"
     ]
    }
   ],
   "source": [
    "ploomber cloud list"
   ]
  },
  {
   "cell_type": "markdown",
   "id": "32342417-566b-422a-8fe9-fafee4f1b87d",
   "metadata": {},
   "source": [
    "This will list our notebook submissions. The top row is the notebook we just submitted.\n",
    "\n",
    "Ploomber Cloud builds a Docker image with your notebook, so we can get the logs from this run:"
   ]
  },
  {
   "cell_type": "code",
   "execution_count": 12,
   "id": "bb159a83-849c-4958-850d-0676d481a268",
   "metadata": {},
   "outputs": [
    {
     "name": "stdout",
     "output_type": "stream",
     "text": [
      "[Container] 2022/10/26 03:07:51 Phase complete: BUILD State: SUCCEEDED\n",
      "\n",
      "[Container] 2022/10/26 03:07:51 Phase context status code:  Message: \n",
      "\n",
      "[Container] 2022/10/26 03:07:51 Entering phase POST_BUILD\n",
      "\n",
      "[Container] 2022/10/26 03:07:51 Phase complete: POST_BUILD State: SUCCEEDED\n",
      "\n",
      "[Container] 2022/10/26 03:07:51 Phase context status code:  Message: \n",
      "\n"
     ]
    }
   ],
   "source": [
    "ploomber cloud logs @latest --image | tail -n 10"
   ]
  },
  {
   "cell_type": "markdown",
   "id": "e4496889-12cf-41f2-9fbd-f3052252c28f",
   "metadata": {},
   "source": [
    "You should see something like the message above, if not, wait for a minute or so for the Docker build process to finish.\n",
    "\n",
    "Run the `list` command again, you should see that the `status` changed to `started`:"
   ]
  },
  {
   "cell_type": "code",
   "execution_count": 13,
   "id": "bf8a0581-9a24-4f69-840d-4589eaa9e213",
   "metadata": {},
   "outputs": [
    {
     "name": "stdout",
     "output_type": "stream",
     "text": [
      "created_at     runid                                 status\n",
      "-------------  ------------------------------------  --------\n",
      "6 minutes ago  2d4bcadf-5acb-49a5-8806-af2dbe1b32fe  started\n",
      "6 hours ago    ee78f4c1-ee42-4ba5-ba2f-9e73ae9228d6  finished\n",
      "\u001b[0m"
     ]
    }
   ],
   "source": [
    "ploomber cloud list"
   ]
  },
  {
   "cell_type": "markdown",
   "id": "de76805b-ca4e-4b98-a942-056c941af8cd",
   "metadata": {},
   "source": [
    "This submission only contains a single notebook, so if we check the status, we'll only see one task:"
   ]
  },
  {
   "cell_type": "code",
   "execution_count": 14,
   "id": "fcdee353-725f-4c4f-b973-63f86e5ea14a",
   "metadata": {},
   "outputs": [
    {
     "name": "stdout",
     "output_type": "stream",
     "text": [
      "Geting latest ID...\n",
      "Got ID: 2d4bcadf-5acb-49a5-8806-af2dbe1b32fe\n",
      "Unknown status: started\n",
      "taskid                      name            runid                       status\n",
      "--------------------------  --------------  --------------------------  --------\n",
      "5e830a18-42ed-4f0e-afb6-59  plot-aebe61a1-  2d4bcadf-5acb-49a5-8806-af  created\n",
      "2159fc5f37                                  2dbe1b32fe\n",
      "\u001b[0m"
     ]
    }
   ],
   "source": [
    "ploomber cloud status @latest"
   ]
  },
  {
   "cell_type": "markdown",
   "id": "ed1afbdf-1f18-4de8-b424-693d9fd8636d",
   "metadata": {},
   "source": [
    "After a 1-2 minutes, you'll see the notebook finished execution:"
   ]
  },
  {
   "cell_type": "code",
   "execution_count": 15,
   "id": "40fdce07-fb05-4192-81dc-a7e0d1da7aee",
   "metadata": {},
   "outputs": [
    {
     "name": "stdout",
     "output_type": "stream",
     "text": [
      "Geting latest ID...\n",
      "Got ID: 2d4bcadf-5acb-49a5-8806-af2dbe1b32fe\n",
      "Pipeline finished...\n",
      "taskid                      name            runid                       status\n",
      "--------------------------  --------------  --------------------------  --------\n",
      "5e830a18-42ed-4f0e-afb6-59  plot-aebe61a1-  2d4bcadf-5acb-49a5-8806-af  finished\n",
      "2159fc5f37                                  2dbe1b32fe\n",
      "\u001b[0m"
     ]
    }
   ],
   "source": [
    "ploomber cloud status @latest"
   ]
  },
  {
   "cell_type": "markdown",
   "id": "0f3d0621-75a2-470c-853f-ad44c48a06e7",
   "metadata": {},
   "source": [
    "**Congrats, your first notebook submission has been a success and you've learned how to monitor your submission!** Now let's see how we can download the results."
   ]
  },
  {
   "cell_type": "markdown",
   "id": "1d668d7f-b2b4-4f26-b17b-5cb3ae165d3d",
   "metadata": {},
   "source": [
    "## Downloading the results\n",
    "\n",
    "All your notebooks are stored in your \"products workspace\", let's see what's in there:"
   ]
  },
  {
   "cell_type": "code",
   "execution_count": 16,
   "id": "e8bc7497-f46c-497d-8bb6-58e2f4229035",
   "metadata": {},
   "outputs": [
    {
     "name": "stdout",
     "output_type": "stream",
     "text": [
      "path\n",
      "-----------------------------------\n",
      "plot-aebe61a1/output/notebook.ipynb\n",
      "plot-f7ad8452/output/notebook.ipynb\n",
      "\u001b[0m"
     ]
    }
   ],
   "source": [
    "ploomber cloud products"
   ]
  },
  {
   "cell_type": "markdown",
   "id": "510c4e5d-d093-435e-9808-bbad34f58d8b",
   "metadata": {},
   "source": [
    "Let's download the executed notebook by using the ID we got upon submission:"
   ]
  },
  {
   "cell_type": "code",
   "execution_count": 17,
   "id": "4a36f4a4-d1ee-4254-a8d4-882de1587e62",
   "metadata": {},
   "outputs": [
    {
     "name": "stdout",
     "output_type": "stream",
     "text": [
      "Writing file into path plot-aebe61a1/output/.notebook.ipynb.metadata\n",
      "Writing file into path plot-aebe61a1/output/notebook.ipynb\n",
      "\u001b[0m"
     ]
    }
   ],
   "source": [
    "ploomber cloud download 'plot-aebe61a1/*.ipynb'"
   ]
  },
  {
   "cell_type": "markdown",
   "id": "77e64de8-5a5b-4a8a-a15b-ea9891063a48",
   "metadata": {},
   "source": [
    "## Up next\n",
    "\n",
    "Some of the advantages of running parallel notebooks are that we can run different tasks or processes simultaneously by using multiple computing resources. This will allow us to work more efficiently. More details about this can be read in our [blog post](https://ploomber.io/blog/running-parallel-notebooks/).\n",
    "\n",
    "In the [next tutorial](../cloud/cloud-notebooks-user-guide.html), we'll learn how to parallelize notebooks and request resources, so we can get the most out of Ploomber Cloud!\n"
   ]
  }
 ],
 "metadata": {
  "kernelspec": {
   "display_name": "Bash",
   "language": "bash",
   "name": "bash"
  },
  "language_info": {
   "codemirror_mode": "shell",
   "file_extension": ".sh",
   "mimetype": "text/x-sh",
   "name": "bash"
  }
 },
 "nbformat": 4,
 "nbformat_minor": 5
}
