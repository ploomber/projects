{
 "cells": [
  {
   "cell_type": "markdown",
   "id": "6ad0e96c",
   "metadata": {
    "papermill": {
     "duration": 0.044604,
     "end_time": "2021-10-16T00:02:29.914458",
     "exception": false,
     "start_time": "2021-10-16T00:02:29.869854",
     "status": "completed"
    },
    "tags": []
   },
   "source": [
    "To run this example locally, execute: `ploomber examples -n guides/logging`.\n",
    "\n",
    "To start a free, hosted JupyterLab: [![binder-logo](https://mybinder.org/badge_logo.svg)](https://mybinder.org/v2/gh/ploomber/binder-env/main?urlpath=git-pull%3Frepo%3Dhttps%253A%252F%252Fgithub.com%252Fploomber%252Fprojects%26urlpath%3Dlab%252Ftree%252Fprojects%252Fguides/logging%252FREADME.ipynb%26branch%3Dmaster)\n",
    "\n",
    "Found an issue? [Let us know.](https://github.com/ploomber/projects/issues/new?title=guides/logging%20issue)\n",
    "\n",
    "Have questions? [Ask us anything on Slack.](http://community.ploomber.io/)\n",
    "\n"
   ]
  },
  {
   "cell_type": "markdown",
   "id": "3f9bdab9",
   "metadata": {
    "papermill": {
     "duration": 0.044897,
     "end_time": "2021-10-16T00:02:30.004586",
     "exception": false,
     "start_time": "2021-10-16T00:02:29.959689",
     "status": "completed"
    },
    "tags": []
   },
   "source": [
    "# Logging\n",
    "\n",
    "<!-- start description -->\n",
    "Tutorial showing how to add logging to a pipeline.\n",
    "<!-- end description -->\n",
    "\n",
    "## Sample pipeline\n",
    "\n",
    "The pipeline we'll be using for this guide contains two tasks (a script and a function):"
   ]
  },
  {
   "cell_type": "markdown",
   "id": "bec6bace",
   "metadata": {
    "papermill": {
     "duration": 0.046653,
     "end_time": "2021-10-16T00:02:30.103102",
     "exception": false,
     "start_time": "2021-10-16T00:02:30.056449",
     "status": "completed"
    },
    "region_name": "md",
    "tags": []
   },
   "source": [
    "```yaml\n",
    "# Content of basic/pipeline.yaml\n",
    "tasks:\n",
    "  - source: script.py\n",
    "    product: output/nb-log.ipynb\n",
    "    papermill_params:\n",
    "      log_output: True\n",
    "\n",
    "  - source: tasks.function\n",
    "    product: output/fn-log.txt\n",
    "\n",
    "```"
   ]
  },
  {
   "cell_type": "markdown",
   "id": "c3794062",
   "metadata": {
    "papermill": {
     "duration": 0.037239,
     "end_time": "2021-10-16T00:02:30.179632",
     "exception": false,
     "start_time": "2021-10-16T00:02:30.142393",
     "status": "completed"
    },
    "tags": []
   },
   "source": [
    "Note that the script task contains:\n",
    "\n",
    "```yaml\n",
    "papermill_params:\n",
    "    log_output: True\n",
    "```\n",
    "\n",
    "This extra configuration is required on each script/notebook task in your pipeline to enable logging. The code on each task isn't important; they contain a for loop and log a message on each iteration. Let's see it in action:"
   ]
  },
  {
   "cell_type": "code",
   "execution_count": 1,
   "id": "c638b7ec",
   "metadata": {
    "execution": {
     "iopub.execute_input": "2021-10-16T00:02:30.264060Z",
     "iopub.status.busy": "2021-10-16T00:02:30.263124Z",
     "iopub.status.idle": "2021-10-16T00:02:48.381768Z",
     "shell.execute_reply": "2021-10-16T00:02:48.382315Z"
    },
    "papermill": {
     "duration": 18.165564,
     "end_time": "2021-10-16T00:02:48.382722",
     "exception": false,
     "start_time": "2021-10-16T00:02:30.217158",
     "status": "completed"
    },
    "tags": []
   },
   "outputs": [
    {
     "name": "stdout",
     "output_type": "stream",
     "text": [
      "name      Ran?      Elapsed (s)    Percentage\n",
      "--------  ------  -------------  ------------\n",
      "script    True          5.01881       62.4879\n",
      "function  True          3.01284       37.5121\n"
     ]
    },
    {
     "name": "stderr",
     "output_type": "stream",
     "text": [
      "INFO:blib2to3.pgen2.driver:Generating grammar tables from /Users/Edu/miniconda3/envs/projects/lib/python3.9/site-packages/blib2to3/Grammar.txt\n",
      "INFO:blib2to3.pgen2.driver:Writing grammar tables to /Users/Edu/Library/Caches/black/21.9b0/Grammar3.9.7.final.0.pickle\n",
      "INFO:blib2to3.pgen2.driver:Writing failed: [Errno 2] No such file or directory: '/Users/Edu/Library/Caches/black/21.9b0/tmpom9whi61'\n",
      "INFO:blib2to3.pgen2.driver:Generating grammar tables from /Users/Edu/miniconda3/envs/projects/lib/python3.9/site-packages/blib2to3/PatternGrammar.txt\n",
      "INFO:blib2to3.pgen2.driver:Writing grammar tables to /Users/Edu/Library/Caches/black/21.9b0/PatternGrammar3.9.7.final.0.pickle\n",
      "INFO:blib2to3.pgen2.driver:Writing failed: [Errno 2] No such file or directory: '/Users/Edu/Library/Caches/black/21.9b0/tmpi29sb7tj'\n",
      "INFO:ploomber.dag.dag:Building DAG DAG(\"No name\")\n",
      "\r",
      "  0%|          | 0/2 [00:00<?, ?it/s]\r",
      "Building task 'script':   0%|          | 0/2 [00:00<?, ?it/s]INFO:ploomber.tasks.abc.NotebookRunner:Starting execution: NotebookRunner: script -> File('output/nb-log.ipynb')\n",
      "INFO:papermill:Input Notebook:  /var/folders/3h/_lvh_w_x5g30rrjzb_xnn2j80000gq/T/tmpsenuhrok.ipynb\n",
      "INFO:papermill:Output Notebook: /Users/Edu/dev/projects-ploomber/guides/logging/basic/output/nb-log.ipynb\n",
      "\n",
      "\r",
      "Executing:   0%|          | 0/6 [00:00<?, ?cell/s]\u001b[AINFO:papermill:Executing notebook with kernel: python3\n",
      "INFO:papermill:Executing Cell 1---------------------------------------\n",
      "INFO:papermill:Ending Cell 1------------------------------------------\n",
      "\n",
      "\r",
      "Executing:  17%|█▋        | 1/6 [00:01<00:07,  1.52s/cell]\u001b[AINFO:papermill:Executing Cell 2---------------------------------------\n",
      "INFO:papermill:Ending Cell 2------------------------------------------\n",
      "INFO:papermill:Executing Cell 3---------------------------------------\n",
      "INFO:papermill:Ending Cell 3------------------------------------------\n",
      "INFO:papermill:Executing Cell 4---------------------------------------\n",
      "INFO:papermill:Ending Cell 4------------------------------------------\n",
      "\n",
      "\r",
      "Executing:  67%|██████▋   | 4/6 [00:01<00:00,  3.15cell/s]\u001b[AINFO:papermill:Executing Cell 5---------------------------------------\n",
      "INFO:papermill:Ending Cell 5------------------------------------------\n",
      "INFO:papermill:Executing Cell 6---------------------------------------\n",
      "INFO:papermill:INFO:__main__:[script log] Finished step 1...\n",
      "\n",
      "INFO:papermill:INFO:__main__:[script log] Finished step 2...\n",
      "\n",
      "INFO:papermill:INFO:__main__:[script log] Finished step 3...\n",
      "\n",
      "INFO:papermill:INFO:__main__:[script log] Done.\n",
      "\n",
      "INFO:papermill:Ending Cell 6------------------------------------------\n",
      "\n",
      "\r",
      "Executing: 100%|██████████| 6/6 [00:04<00:00,  1.17cell/s]\u001b[A\r",
      "Executing: 100%|██████████| 6/6 [00:04<00:00,  1.21cell/s]\n",
      "INFO:ploomber.tasks.abc.NotebookRunner:Done. Operation took 5.0 seconds\n",
      "\r",
      "Building task 'script':  50%|█████     | 1/2 [00:05<00:05,  5.02s/it]\r",
      "Building task 'function':  50%|█████     | 1/2 [00:05<00:05,  5.02s/it]\r",
      "Building task 'function': 100%|██████████| 2/2 [00:12<00:00,  6.56s/it]\r",
      "Building task 'function': 100%|██████████| 2/2 [00:12<00:00,  6.33s/it]\n",
      "INFO:ploomber.dag.dag: DAG report:\n",
      "name      Ran?      Elapsed (s)    Percentage\n",
      "--------  ------  -------------  ------------\n",
      "script    True          5.01881       62.4879\n",
      "function  True          3.01284       37.5121\n"
     ]
    }
   ],
   "source": [
    "%%sh\n",
    "cd basic\n",
    "ploomber build --log info --force"
   ]
  },
  {
   "cell_type": "markdown",
   "id": "60e87d48",
   "metadata": {
    "papermill": {
     "duration": 0.037598,
     "end_time": "2021-10-16T00:02:48.461264",
     "exception": false,
     "start_time": "2021-10-16T00:02:48.423666",
     "status": "completed"
    },
    "tags": []
   },
   "source": [
    "We can see that the logging statements appear in the console. If you want to take a look at the code, [click here](https://github.com/ploomber/projects/tree/master/guides/logging/basic)."
   ]
  },
  {
   "cell_type": "markdown",
   "id": "ae821b27",
   "metadata": {
    "papermill": {
     "duration": 0.035178,
     "end_time": "2021-10-16T00:02:48.533055",
     "exception": false,
     "start_time": "2021-10-16T00:02:48.497877",
     "status": "completed"
    },
    "tags": []
   },
   "source": [
    "## Why not print?\n",
    "\n",
    "Note that the snippets above use the `logging` module instead of `print`. Although `print` is a quick and easy way to display messages in the console, the `logging` module is more flexible. Hence, it is the recommended option."
   ]
  },
  {
   "cell_type": "markdown",
   "id": "06f61f63",
   "metadata": {
    "papermill": {
     "duration": 0.036985,
     "end_time": "2021-10-16T00:02:48.606548",
     "exception": false,
     "start_time": "2021-10-16T00:02:48.569563",
     "status": "completed"
    },
    "tags": []
   },
   "source": [
    "## Logging to a file\n",
    "\n",
    "It's common to send all your log records to a file. You can do so with the ``--log-file/-F`` option:\n",
    "\n",
    "```sh\n",
    "ploomber build --log info --log-file my.log\n",
    "```"
   ]
  },
  {
   "cell_type": "markdown",
   "id": "14f22175",
   "metadata": {
    "papermill": {
     "duration": 0.03453,
     "end_time": "2021-10-16T00:02:48.676593",
     "exception": false,
     "start_time": "2021-10-16T00:02:48.642063",
     "status": "completed"
    },
    "tags": []
   },
   "source": [
    "## Logging to a file from Python\n",
    "\n",
    "Alternatively, you can configure logging from Python, which gives you more flexibility:"
   ]
  },
  {
   "cell_type": "code",
   "execution_count": 2,
   "id": "d02e7c77",
   "metadata": {
    "execution": {
     "iopub.execute_input": "2021-10-16T00:02:48.755999Z",
     "iopub.status.busy": "2021-10-16T00:02:48.755181Z",
     "iopub.status.idle": "2021-10-16T00:03:01.456974Z",
     "shell.execute_reply": "2021-10-16T00:03:01.457569Z"
    },
    "papermill": {
     "duration": 12.74497,
     "end_time": "2021-10-16T00:03:01.457848",
     "exception": false,
     "start_time": "2021-10-16T00:02:48.712878",
     "status": "completed"
    },
    "tags": []
   },
   "outputs": [
    {
     "data": {
      "application/vnd.jupyter.widget-view+json": {
       "model_id": "b4be62c299b84d7d99960036d02f0a90",
       "version_major": 2,
       "version_minor": 0
      },
      "text/plain": [
       "  0%|          | 0/2 [00:00<?, ?it/s]"
      ]
     },
     "metadata": {},
     "output_type": "display_data"
    },
    {
     "data": {
      "application/vnd.jupyter.widget-view+json": {
       "model_id": "6a3bbce6b0e94ae3af314e4aef9a202d",
       "version_major": 2,
       "version_minor": 0
      },
      "text/plain": [
       "Executing:   0%|          | 0/6 [00:00<?, ?cell/s]"
      ]
     },
     "metadata": {},
     "output_type": "display_data"
    },
    {
     "data": {
      "text/html": [
       "<table>\n",
       "<thead>\n",
       "<tr><th>name    </th><th>Ran?  </th><th style=\"text-align: right;\">  Elapsed (s)</th><th style=\"text-align: right;\">  Percentage</th></tr>\n",
       "</thead>\n",
       "<tbody>\n",
       "<tr><td>script  </td><td>True  </td><td style=\"text-align: right;\">      4.9031 </td><td style=\"text-align: right;\">     61.9138</td></tr>\n",
       "<tr><td>function</td><td>True  </td><td style=\"text-align: right;\">      3.01613</td><td style=\"text-align: right;\">     38.0862</td></tr>\n",
       "</tbody>\n",
       "</table>"
      ],
      "text/plain": [
       "name      Ran?      Elapsed (s)    Percentage\n",
       "--------  ------  -------------  ------------\n",
       "script    True          4.9031        61.9138\n",
       "function  True          3.01613       38.0862"
      ]
     },
     "execution_count": 2,
     "metadata": {},
     "output_type": "execute_result"
    }
   ],
   "source": [
    "# you may store the contents of this cell in a .py file and then call it from the command line\n",
    "# e.g., python run_pipeline.py\n",
    "import logging\n",
    "from pathlib import Path\n",
    "import sys\n",
    "\n",
    "from ploomber.executors import Serial\n",
    "from ploomber.spec import DAGSpec\n",
    "\n",
    "if Path('my.log').exists():\n",
    "    Path('my.log').unlink()\n",
    "\n",
    "logging.basicConfig(filename='my.log', format='%(levelname)s:%(message)s', level=logging.INFO)\n",
    "\n",
    "# make sure we can import basic/tasks.py since basic/pipeline.yaml uses it\n",
    "sys.path.append('basic')\n",
    "\n",
    "dag = DAGSpec('basic/pipeline.yaml').to_dag()\n",
    "dag.build(force=True)"
   ]
  },
  {
   "cell_type": "markdown",
   "id": "a3ec6378",
   "metadata": {
    "papermill": {
     "duration": 0.042793,
     "end_time": "2021-10-16T00:03:01.543099",
     "exception": false,
     "start_time": "2021-10-16T00:03:01.500306",
     "status": "completed"
    },
    "tags": []
   },
   "source": [
    "Let's look at the file contents:"
   ]
  },
  {
   "cell_type": "code",
   "execution_count": 3,
   "id": "27cfca88",
   "metadata": {
    "execution": {
     "iopub.execute_input": "2021-10-16T00:03:01.634008Z",
     "iopub.status.busy": "2021-10-16T00:03:01.633010Z",
     "iopub.status.idle": "2021-10-16T00:03:01.636853Z",
     "shell.execute_reply": "2021-10-16T00:03:01.637443Z"
    },
    "papermill": {
     "duration": 0.051239,
     "end_time": "2021-10-16T00:03:01.637980",
     "exception": false,
     "start_time": "2021-10-16T00:03:01.586741",
     "status": "completed"
    },
    "tags": []
   },
   "outputs": [
    {
     "name": "stdout",
     "output_type": "stream",
     "text": [
      "INFO:Generating grammar tables from /Users/Edu/miniconda3/envs/projects/lib/python3.9/site-packages/blib2to3/Grammar.txt\n",
      "INFO:Writing grammar tables to /Users/Edu/Library/Caches/black/21.9b0/Grammar3.9.7.final.0.pickle\n",
      "INFO:Writing failed: [Errno 2] No such file or directory: '/Users/Edu/Library/Caches/black/21.9b0/tmpb4nmq2y_'\n",
      "INFO:Generating grammar tables from /Users/Edu/miniconda3/envs/projects/lib/python3.9/site-packages/blib2to3/PatternGrammar.txt\n",
      "INFO:Writing grammar tables to /Users/Edu/Library/Caches/black/21.9b0/PatternGrammar3.9.7.final.0.pickle\n",
      "INFO:Writing failed: [Errno 2] No such file or directory: '/Users/Edu/Library/Caches/black/21.9b0/tmp9kv6k1y9'\n",
      "INFO:Building DAG DAG(\"No name\")\n",
      "INFO:Starting execution: NotebookRunner: script -> File('basic/output/nb-log.ipynb')\n",
      "INFO:Input Notebook:  /var/folders/3h/_lvh_w_x5g30rrjzb_xnn2j80000gq/T/tmp359vx2as.ipynb\n",
      "INFO:Output Notebook: /Users/Edu/dev/projects-ploomber/guides/logging/basic/output/nb-log.ipynb\n",
      "INFO:Executing notebook with kernel: python3\n",
      "INFO:Executing Cell 1---------------------------------------\n",
      "INFO:Ending Cell 1------------------------------------------\n",
      "INFO:Executing Cell 2---------------------------------------\n",
      "INFO:Ending Cell 2------------------------------------------\n",
      "INFO:Executing Cell 3---------------------------------------\n",
      "INFO:Ending Cell 3------------------------------------------\n",
      "INFO:Executing Cell 4---------------------------------------\n",
      "INFO:Ending Cell 4------------------------------------------\n",
      "INFO:Executing Cell 5---------------------------------------\n",
      "INFO:Ending Cell 5------------------------------------------\n",
      "INFO:Executing Cell 6---------------------------------------\n",
      "INFO:INFO:__main__:[script log] Finished step 1...\n",
      "\n",
      "INFO:INFO:__main__:[script log] Finished step 2...\n",
      "\n",
      "INFO:INFO:__main__:[script log] Finished step 3...\n",
      "\n",
      "INFO:INFO:__main__:[script log] Done.\n",
      "\n",
      "INFO:Ending Cell 6------------------------------------------\n",
      "INFO:Done. Operation took 4.9 seconds\n",
      "INFO: DAG report:\n",
      "name      Ran?      Elapsed (s)    Percentage\n",
      "--------  ------  -------------  ------------\n",
      "script    True          4.9031        61.9138\n",
      "function  True          3.01613       38.0862\n",
      "\n"
     ]
    }
   ],
   "source": [
    "print(Path('my.log').read_text())"
   ]
  },
  {
   "cell_type": "markdown",
   "id": "c73773d4",
   "metadata": {
    "papermill": {
     "duration": 0.040496,
     "end_time": "2021-10-16T00:03:01.722337",
     "exception": false,
     "start_time": "2021-10-16T00:03:01.681841",
     "status": "completed"
    },
    "tags": []
   },
   "source": [
    "## Controlling logging level\n",
    "\n",
    "The Python's [logging](https://docs.python.org/3/library/logging.html) module allows you to filter messages depending on their priority. For example, when running your pipeline, you may only want to display *regular* messages, but you may allow *regular* and *debugging* messages for more granularity when debugging. Since Ploomber runs tasks differently depending on their type (i.e., functions vs. scripts/notebooks), controlling the logging level requires a bit of extra work. Let's use the same pipeline in the `parametrized` directory:"
   ]
  },
  {
   "cell_type": "code",
   "execution_count": 4,
   "id": "ad89ad45",
   "metadata": {
    "execution": {
     "iopub.execute_input": "2021-10-16T00:03:01.809817Z",
     "iopub.status.busy": "2021-10-16T00:03:01.809179Z",
     "iopub.status.idle": "2021-10-16T00:03:22.966134Z",
     "shell.execute_reply": "2021-10-16T00:03:22.968127Z"
    },
    "papermill": {
     "duration": 21.205523,
     "end_time": "2021-10-16T00:03:22.968523",
     "exception": false,
     "start_time": "2021-10-16T00:03:01.763000",
     "status": "completed"
    },
    "tags": []
   },
   "outputs": [
    {
     "name": "stdout",
     "output_type": "stream",
     "text": [
      "name      Ran?      Elapsed (s)    Percentage\n",
      "--------  ------  -------------  ------------\n",
      "script    True          4.97155       62.2701\n",
      "function  True          3.0123        37.7299\n"
     ]
    },
    {
     "name": "stderr",
     "output_type": "stream",
     "text": [
      "INFO:blib2to3.pgen2.driver:Generating grammar tables from /Users/Edu/miniconda3/envs/projects/lib/python3.9/site-packages/blib2to3/Grammar.txt\n",
      "INFO:blib2to3.pgen2.driver:Writing grammar tables to /Users/Edu/Library/Caches/black/21.9b0/Grammar3.9.7.final.0.pickle\n",
      "INFO:blib2to3.pgen2.driver:Writing failed: [Errno 2] No such file or directory: '/Users/Edu/Library/Caches/black/21.9b0/tmpb8dp3u_n'\n",
      "INFO:blib2to3.pgen2.driver:Generating grammar tables from /Users/Edu/miniconda3/envs/projects/lib/python3.9/site-packages/blib2to3/PatternGrammar.txt\n",
      "INFO:blib2to3.pgen2.driver:Writing grammar tables to /Users/Edu/Library/Caches/black/21.9b0/PatternGrammar3.9.7.final.0.pickle\n",
      "INFO:blib2to3.pgen2.driver:Writing failed: [Errno 2] No such file or directory: '/Users/Edu/Library/Caches/black/21.9b0/tmputyunhjs'\n",
      "INFO:ploomber.dag.dag:Building DAG DAG(\"No name\")\n",
      "\r",
      "  0%|          | 0/2 [00:00<?, ?it/s]\r",
      "Building task 'script':   0%|          | 0/2 [00:00<?, ?it/s]INFO:ploomber.tasks.abc.NotebookRunner:Starting execution: NotebookRunner: script -> File('output/nb-log.ipynb')\n",
      "INFO:papermill:Input Notebook:  /var/folders/3h/_lvh_w_x5g30rrjzb_xnn2j80000gq/T/tmp_dbw_qge.ipynb\n",
      "INFO:papermill:Output Notebook: /Users/Edu/dev/projects-ploomber/guides/logging/parametrized/output/nb-log.ipynb\n",
      "\n",
      "\r",
      "Executing:   0%|          | 0/6 [00:00<?, ?cell/s]\u001b[AINFO:papermill:Executing notebook with kernel: python3\n",
      "INFO:papermill:Executing Cell 1---------------------------------------\n",
      "INFO:papermill:Ending Cell 1------------------------------------------\n",
      "\n",
      "\r",
      "Executing:  17%|█▋        | 1/6 [00:01<00:06,  1.32s/cell]\u001b[AINFO:papermill:Executing Cell 2---------------------------------------\n",
      "INFO:papermill:Ending Cell 2------------------------------------------\n",
      "INFO:papermill:Executing Cell 3---------------------------------------\n",
      "INFO:papermill:Ending Cell 3------------------------------------------\n",
      "INFO:papermill:Executing Cell 4---------------------------------------\n",
      "INFO:papermill:Ending Cell 4------------------------------------------\n",
      "\n",
      "\r",
      "Executing:  67%|██████▋   | 4/6 [00:01<00:00,  3.57cell/s]\u001b[AINFO:papermill:Executing Cell 5---------------------------------------\n",
      "INFO:papermill:Ending Cell 5------------------------------------------\n",
      "INFO:papermill:Executing Cell 6---------------------------------------\n",
      "INFO:papermill:INFO:__main__:[script log] Finished step 1...\n",
      "\n",
      "INFO:papermill:INFO:__main__:[script log] Finished step 2...\n",
      "\n",
      "INFO:papermill:INFO:__main__:[script log] Finished step 3...\n",
      "\n",
      "INFO:papermill:INFO:__main__:[script log] Done.\n",
      "\n",
      "INFO:papermill:Ending Cell 6------------------------------------------\n",
      "\n",
      "\r",
      "Executing: 100%|██████████| 6/6 [00:04<00:00,  1.16cell/s]\u001b[A\r",
      "Executing: 100%|██████████| 6/6 [00:04<00:00,  1.23cell/s]\n",
      "INFO:ploomber.tasks.abc.NotebookRunner:Done. Operation took 5.0 seconds\n",
      "\r",
      "Building task 'script':  50%|█████     | 1/2 [00:04<00:04,  4.98s/it]\r",
      "Building task 'function':  50%|█████     | 1/2 [00:04<00:04,  4.98s/it]INFO:tasks:[function log] Finished step 1...\n",
      "INFO:tasks:[function log] Finished step 2...\n",
      "INFO:tasks:[function log] Finished step 3...\n",
      "INFO:tasks:[function log] Done.\n",
      "INFO:ploomber.tasks.abc.PythonCallable:Done. Operation took 3.0 seconds\n",
      "\r",
      "Building task 'function': 100%|██████████| 2/2 [00:16<00:00,  9.01s/it]\r",
      "Building task 'function': 100%|██████████| 2/2 [00:16<00:00,  8.41s/it]\n",
      "INFO:ploomber.dag.dag: DAG report:\n",
      "name      Ran?      Elapsed (s)    Percentage\n",
      "--------  ------  -------------  ------------\n",
      "script    True          4.97155       62.2701\n",
      "function  True          3.0123        37.7299\n"
     ]
    }
   ],
   "source": [
    "%%sh\n",
    "cd parametrized\n",
    "ploomber build --log info --env--logging_level info --force"
   ]
  },
  {
   "cell_type": "markdown",
   "id": "a36ba06f",
   "metadata": {
    "papermill": {
     "duration": 0.057616,
     "end_time": "2021-10-16T00:03:23.082771",
     "exception": false,
     "start_time": "2021-10-16T00:03:23.025155",
     "status": "completed"
    },
    "tags": []
   },
   "source": [
    "Let's now run the pipeline but switch the logging level to debug, this will print the records we saw above, plus the ones with `debug` level:"
   ]
  },
  {
   "cell_type": "code",
   "execution_count": 5,
   "id": "ba60476f",
   "metadata": {
    "execution": {
     "iopub.execute_input": "2021-10-16T00:03:23.196743Z",
     "iopub.status.busy": "2021-10-16T00:03:23.196028Z",
     "iopub.status.idle": "2021-10-16T00:03:41.732344Z",
     "shell.execute_reply": "2021-10-16T00:03:41.732942Z"
    },
    "papermill": {
     "duration": 18.595747,
     "end_time": "2021-10-16T00:03:41.733236",
     "exception": false,
     "start_time": "2021-10-16T00:03:23.137489",
     "status": "completed"
    },
    "tags": []
   },
   "outputs": [
    {
     "name": "stdout",
     "output_type": "stream",
     "text": [
      "name      Ran?      Elapsed (s)    Percentage\n",
      "--------  ------  -------------  ------------\n",
      "script    True          5.05789       62.6684\n",
      "function  True          3.01299       37.3316\n"
     ]
    },
    {
     "name": "stderr",
     "output_type": "stream",
     "text": [
      "DEBUG:ploomber.spec.dagspec:DAGSpec enviroment:\n",
      "EnvDict({'cwd': '/Users/Edu/d.../parametrized', 'here': '/Users/Edu/d.../parametrized', 'logging_level': 'debug', 'root': '/Users/Edu/d.../parametrized', ...})\n",
      "DEBUG:ploomber.spec.dagspec:Expanded DAGSpec:\n",
      "{   'tasks': [   {   'papermill_params': {'log_output': True},\n",
      "                     'params': {'logging_level': '{{logging_level}}'},\n",
      "                     'product': 'output/nb-log.ipynb',\n",
      "                     'source': 'script.py'},\n",
      "                 {   'params': {'logging_level': '{{logging_level}}'},\n",
      "                     'product': 'output/fn-log.txt',\n",
      "                     'source': 'tasks.function'}]}\n",
      "DEBUG:ploomber.tasks.abc.NotebookRunner:Setting \"script\" status to TaskStatus.WaitingRender\n",
      "DEBUG:ploomber.tasks.abc.PythonCallable:Setting \"function\" status to TaskStatus.WaitingRender\n",
      "DEBUG:ploomber.spec.dagspec:Extracted upstream dependencies for task script: None\n",
      "DEBUG:ploomber.spec.dagspec:Extracted upstream dependencies for task function: None\n",
      "INFO:blib2to3.pgen2.driver:Generating grammar tables from /Users/Edu/miniconda3/envs/projects/lib/python3.9/site-packages/blib2to3/Grammar.txt\n",
      "INFO:blib2to3.pgen2.driver:Writing grammar tables to /Users/Edu/Library/Caches/black/21.9b0/Grammar3.9.7.final.0.pickle\n",
      "INFO:blib2to3.pgen2.driver:Writing failed: [Errno 2] No such file or directory: '/Users/Edu/Library/Caches/black/21.9b0/tmpb_i7wu7w'\n",
      "INFO:blib2to3.pgen2.driver:Generating grammar tables from /Users/Edu/miniconda3/envs/projects/lib/python3.9/site-packages/blib2to3/PatternGrammar.txt\n",
      "INFO:blib2to3.pgen2.driver:Writing grammar tables to /Users/Edu/Library/Caches/black/21.9b0/PatternGrammar3.9.7.final.0.pickle\n",
      "INFO:blib2to3.pgen2.driver:Writing failed: [Errno 2] No such file or directory: '/Users/Edu/Library/Caches/black/21.9b0/tmpkq954ejo'\n",
      "INFO:ploomber.dag.dag:Building DAG DAG(\"No name\")\n",
      "\r",
      "  0%|          | 0/2 [00:00<?, ?it/s]\r",
      "Building task 'script':   0%|          | 0/2 [00:00<?, ?it/s]INFO:ploomber.tasks.abc.NotebookRunner:Starting execution: NotebookRunner: script -> File('output/nb-log.ipynb')\n",
      "INFO:papermill:Input Notebook:  /var/folders/3h/_lvh_w_x5g30rrjzb_xnn2j80000gq/T/tmp1r2q6tsh.ipynb\n",
      "INFO:papermill:Output Notebook: /Users/Edu/dev/projects-ploomber/guides/logging/parametrized/output/nb-log.ipynb\n",
      "\n",
      "\r",
      "Executing:   0%|          | 0/6 [00:00<?, ?cell/s]\u001b[AINFO:papermill:Executing notebook with kernel: python3\n",
      "INFO:papermill:Executing Cell 1---------------------------------------\n",
      "INFO:papermill:Ending Cell 1------------------------------------------\n",
      "\n",
      "\r",
      "Executing:  17%|█▋        | 1/6 [00:01<00:07,  1.55s/cell]\u001b[AINFO:papermill:Executing Cell 2---------------------------------------\n",
      "INFO:papermill:Ending Cell 2------------------------------------------\n",
      "INFO:papermill:Executing Cell 3---------------------------------------\n",
      "INFO:papermill:Ending Cell 3------------------------------------------\n",
      "INFO:papermill:Executing Cell 4---------------------------------------\n",
      "INFO:papermill:Ending Cell 4------------------------------------------\n",
      "\n",
      "\r",
      "Executing:  67%|██████▋   | 4/6 [00:01<00:00,  3.08cell/s]\u001b[AINFO:papermill:Executing Cell 5---------------------------------------\n",
      "INFO:papermill:Ending Cell 5------------------------------------------\n",
      "INFO:papermill:Executing Cell 6---------------------------------------\n",
      "INFO:papermill:DEBUG:__main__:[script log] This is a message for debugging\n",
      "\n",
      "INFO:papermill:INFO:__main__:[script log] Finished step 1...\n",
      "\n",
      "INFO:papermill:INFO:__main__:[script log] Finished step 2...\n",
      "\n",
      "INFO:papermill:INFO:__main__:[script log] Finished step 3...\n",
      "\n",
      "INFO:papermill:INFO:__main__:[script log] Done.\n",
      "\n",
      "INFO:papermill:Ending Cell 6------------------------------------------\n",
      "\n",
      "\r",
      "Executing: 100%|██████████| 6/6 [00:04<00:00,  1.16cell/s]\u001b[A\r",
      "Executing: 100%|██████████| 6/6 [00:04<00:00,  1.20cell/s]\n",
      "INFO:ploomber.tasks.abc.NotebookRunner:Done. Operation took 5.1 seconds\n",
      "\r",
      "Building task 'script':  50%|█████     | 1/2 [00:05<00:05,  5.06s/it]\r",
      "Building task 'function':  50%|█████     | 1/2 [00:05<00:05,  5.06s/it]DEBUG:tasks:[function log] This is a message for debugging\n",
      "INFO:tasks:[function log] Finished step 1...\n",
      "INFO:tasks:[function log] Finished step 2...\n",
      "INFO:tasks:[function log] Finished step 3...\n",
      "INFO:tasks:[function log] Done.\n",
      "INFO:ploomber.tasks.abc.PythonCallable:Done. Operation took 3.0 seconds\n",
      "DEBUG:ploomber.tasks.abc.PythonCallable:Setting \"function\" status to TaskStatus.Executed\n",
      "\r",
      "Building task 'function': 100%|██████████| 2/2 [00:13<00:00,  6.77s/it]\r",
      "Building task 'function': 100%|██████████| 2/2 [00:13<00:00,  6.52s/it]\n",
      "INFO:ploomber.dag.dag: DAG report:\n",
      "name      Ran?      Elapsed (s)    Percentage\n",
      "--------  ------  -------------  ------------\n",
      "script    True          5.05789       62.6684\n",
      "function  True          3.01299       37.3316\n"
     ]
    }
   ],
   "source": [
    "%%sh\n",
    "cd parametrized\n",
    "ploomber build --log debug --env--logging_level debug --force"
   ]
  },
  {
   "cell_type": "markdown",
   "id": "77c8f44c",
   "metadata": {
    "papermill": {
     "duration": 0.064994,
     "end_time": "2021-10-16T00:03:41.853378",
     "exception": false,
     "start_time": "2021-10-16T00:03:41.788384",
     "status": "completed"
    },
    "tags": []
   },
   "source": [
    "To get the code for the previous example, [click here](https://github.com/ploomber/projects/tree/master/guides/logging/parametrized)."
   ]
  },
  {
   "cell_type": "markdown",
   "id": "39c93b40",
   "metadata": {
    "papermill": {
     "duration": 0.051128,
     "end_time": "2021-10-16T00:03:41.958932",
     "exception": false,
     "start_time": "2021-10-16T00:03:41.907804",
     "status": "completed"
    },
    "tags": []
   },
   "source": [
    "## Implementation details\n",
    "\n",
    "To keep the tutorial short, we overlooked some technical details. However, if you want to customize logging, they are essential to know.\n",
    "\n",
    "### Function tasks and sub-processes\n",
    "\n",
    "By default, Ploomber runs function tasks in a child process. However, beginning on version 3.8, [Python 3.8 switched to use spawn instead of fork on macOS](https://docs.python.org/3/library/multiprocessing.html#contexts-and-start-methods), this implies that child processes *do not* inherit the logging configuration of their parents. That's why you must configure a logger inside the function's body:\n",
    "\n",
    "```python\n",
    "import logging\n",
    "\n",
    "\n",
    "def some_task(product):\n",
    "    # the following line is required on Python>=3.8 if using macOS\n",
    "    logging.basicConfig(level=logging.INFO)\n",
    "\n",
    "    logger = logging.getLogger(__name__)\n",
    "\n",
    "    # to log a message, call logger.info\n",
    "    logger.info('Some message')\n",
    "```\n",
    "\n",
    "### Scripts and notebooks\n",
    "\n",
    "Unlike function tasks, which can run in the same process as Ploomber or in a child process, scripts and notebooks execute independently. Hence, any logging configuration made in the main process is lost, and We have to configure a separate logger at the top of the script/notebook.\n",
    "\n",
    "### Parallel execution\n",
    "\n",
    "\n",
    "Logging is currently unavailable when using the `Parallel` executor.\n"
   ]
  }
 ],
 "metadata": {
  "kernelspec": {
   "display_name": "Python 3 (ipykernel)",
   "language": "python",
   "name": "python3"
  },
  "language_info": {
   "codemirror_mode": {
    "name": "ipython",
    "version": 3
   },
   "file_extension": ".py",
   "mimetype": "text/x-python",
   "name": "python",
   "nbconvert_exporter": "python",
   "pygments_lexer": "ipython3",
   "version": "3.9.7"
  },
  "papermill": {
   "default_parameters": {},
   "duration": 74.48308,
   "end_time": "2021-10-16T00:03:42.631943",
   "environment_variables": {},
   "exception": null,
   "input_path": "guides/logging/_build/readme_preprocessed.ipynb",
   "output_path": "guides/logging/README.ipynb",
   "parameters": {},
   "start_time": "2021-10-16T00:02:28.148863",
   "version": "2.3.3"
  },
  "widgets": {
   "application/vnd.jupyter.widget-state+json": {
    "state": {
     "0426f0dfc6444d34b89f23e0a29b3a5d": {
      "model_module": "@jupyter-widgets/base",
      "model_module_version": "1.2.0",
      "model_name": "LayoutModel",
      "state": {
       "_model_module": "@jupyter-widgets/base",
       "_model_module_version": "1.2.0",
       "_model_name": "LayoutModel",
       "_view_count": null,
       "_view_module": "@jupyter-widgets/base",
       "_view_module_version": "1.2.0",
       "_view_name": "LayoutView",
       "align_content": null,
       "align_items": null,
       "align_self": null,
       "border": null,
       "bottom": null,
       "display": null,
       "flex": null,
       "flex_flow": null,
       "grid_area": null,
       "grid_auto_columns": null,
       "grid_auto_flow": null,
       "grid_auto_rows": null,
       "grid_column": null,
       "grid_gap": null,
       "grid_row": null,
       "grid_template_areas": null,
       "grid_template_columns": null,
       "grid_template_rows": null,
       "height": null,
       "justify_content": null,
       "justify_items": null,
       "left": null,
       "margin": null,
       "max_height": null,
       "max_width": null,
       "min_height": null,
       "min_width": null,
       "object_fit": null,
       "object_position": null,
       "order": null,
       "overflow": null,
       "overflow_x": null,
       "overflow_y": null,
       "padding": null,
       "right": null,
       "top": null,
       "visibility": null,
       "width": null
      }
     },
     "0f4909da9ca543d8835948a408ed0963": {
      "model_module": "@jupyter-widgets/base",
      "model_module_version": "1.2.0",
      "model_name": "LayoutModel",
      "state": {
       "_model_module": "@jupyter-widgets/base",
       "_model_module_version": "1.2.0",
       "_model_name": "LayoutModel",
       "_view_count": null,
       "_view_module": "@jupyter-widgets/base",
       "_view_module_version": "1.2.0",
       "_view_name": "LayoutView",
       "align_content": null,
       "align_items": null,
       "align_self": null,
       "border": null,
       "bottom": null,
       "display": null,
       "flex": null,
       "flex_flow": null,
       "grid_area": null,
       "grid_auto_columns": null,
       "grid_auto_flow": null,
       "grid_auto_rows": null,
       "grid_column": null,
       "grid_gap": null,
       "grid_row": null,
       "grid_template_areas": null,
       "grid_template_columns": null,
       "grid_template_rows": null,
       "height": null,
       "justify_content": null,
       "justify_items": null,
       "left": null,
       "margin": null,
       "max_height": null,
       "max_width": null,
       "min_height": null,
       "min_width": null,
       "object_fit": null,
       "object_position": null,
       "order": null,
       "overflow": null,
       "overflow_x": null,
       "overflow_y": null,
       "padding": null,
       "right": null,
       "top": null,
       "visibility": null,
       "width": null
      }
     },
     "1363b65e2a4047b09cb9a3f429ad0224": {
      "model_module": "@jupyter-widgets/controls",
      "model_module_version": "1.5.0",
      "model_name": "HTMLModel",
      "state": {
       "_dom_classes": [],
       "_model_module": "@jupyter-widgets/controls",
       "_model_module_version": "1.5.0",
       "_model_name": "HTMLModel",
       "_view_count": null,
       "_view_module": "@jupyter-widgets/controls",
       "_view_module_version": "1.5.0",
       "_view_name": "HTMLView",
       "description": "",
       "description_tooltip": null,
       "layout": "IPY_MODEL_b6e39d9df7ca4051a7e155e79f1c17b8",
       "placeholder": "​",
       "style": "IPY_MODEL_28417af576734aa2987f79424993bf10",
       "value": "Building task &#x27;function&#x27;: 100%"
      }
     },
     "28417af576734aa2987f79424993bf10": {
      "model_module": "@jupyter-widgets/controls",
      "model_module_version": "1.5.0",
      "model_name": "DescriptionStyleModel",
      "state": {
       "_model_module": "@jupyter-widgets/controls",
       "_model_module_version": "1.5.0",
       "_model_name": "DescriptionStyleModel",
       "_view_count": null,
       "_view_module": "@jupyter-widgets/base",
       "_view_module_version": "1.2.0",
       "_view_name": "StyleView",
       "description_width": ""
      }
     },
     "28ea9b71b35a4373bd796f446d403141": {
      "model_module": "@jupyter-widgets/base",
      "model_module_version": "1.2.0",
      "model_name": "LayoutModel",
      "state": {
       "_model_module": "@jupyter-widgets/base",
       "_model_module_version": "1.2.0",
       "_model_name": "LayoutModel",
       "_view_count": null,
       "_view_module": "@jupyter-widgets/base",
       "_view_module_version": "1.2.0",
       "_view_name": "LayoutView",
       "align_content": null,
       "align_items": null,
       "align_self": null,
       "border": null,
       "bottom": null,
       "display": null,
       "flex": null,
       "flex_flow": null,
       "grid_area": null,
       "grid_auto_columns": null,
       "grid_auto_flow": null,
       "grid_auto_rows": null,
       "grid_column": null,
       "grid_gap": null,
       "grid_row": null,
       "grid_template_areas": null,
       "grid_template_columns": null,
       "grid_template_rows": null,
       "height": null,
       "justify_content": null,
       "justify_items": null,
       "left": null,
       "margin": null,
       "max_height": null,
       "max_width": null,
       "min_height": null,
       "min_width": null,
       "object_fit": null,
       "object_position": null,
       "order": null,
       "overflow": null,
       "overflow_x": null,
       "overflow_y": null,
       "padding": null,
       "right": null,
       "top": null,
       "visibility": null,
       "width": null
      }
     },
     "366db1ca96774e8a964fb69619f9bb11": {
      "model_module": "@jupyter-widgets/base",
      "model_module_version": "1.2.0",
      "model_name": "LayoutModel",
      "state": {
       "_model_module": "@jupyter-widgets/base",
       "_model_module_version": "1.2.0",
       "_model_name": "LayoutModel",
       "_view_count": null,
       "_view_module": "@jupyter-widgets/base",
       "_view_module_version": "1.2.0",
       "_view_name": "LayoutView",
       "align_content": null,
       "align_items": null,
       "align_self": null,
       "border": null,
       "bottom": null,
       "display": null,
       "flex": null,
       "flex_flow": null,
       "grid_area": null,
       "grid_auto_columns": null,
       "grid_auto_flow": null,
       "grid_auto_rows": null,
       "grid_column": null,
       "grid_gap": null,
       "grid_row": null,
       "grid_template_areas": null,
       "grid_template_columns": null,
       "grid_template_rows": null,
       "height": null,
       "justify_content": null,
       "justify_items": null,
       "left": null,
       "margin": null,
       "max_height": null,
       "max_width": null,
       "min_height": null,
       "min_width": null,
       "object_fit": null,
       "object_position": null,
       "order": null,
       "overflow": null,
       "overflow_x": null,
       "overflow_y": null,
       "padding": null,
       "right": null,
       "top": null,
       "visibility": null,
       "width": null
      }
     },
     "387cf1998fcc4ab6bab7f6576771d9be": {
      "model_module": "@jupyter-widgets/base",
      "model_module_version": "1.2.0",
      "model_name": "LayoutModel",
      "state": {
       "_model_module": "@jupyter-widgets/base",
       "_model_module_version": "1.2.0",
       "_model_name": "LayoutModel",
       "_view_count": null,
       "_view_module": "@jupyter-widgets/base",
       "_view_module_version": "1.2.0",
       "_view_name": "LayoutView",
       "align_content": null,
       "align_items": null,
       "align_self": null,
       "border": null,
       "bottom": null,
       "display": null,
       "flex": null,
       "flex_flow": null,
       "grid_area": null,
       "grid_auto_columns": null,
       "grid_auto_flow": null,
       "grid_auto_rows": null,
       "grid_column": null,
       "grid_gap": null,
       "grid_row": null,
       "grid_template_areas": null,
       "grid_template_columns": null,
       "grid_template_rows": null,
       "height": null,
       "justify_content": null,
       "justify_items": null,
       "left": null,
       "margin": null,
       "max_height": null,
       "max_width": null,
       "min_height": null,
       "min_width": null,
       "object_fit": null,
       "object_position": null,
       "order": null,
       "overflow": null,
       "overflow_x": null,
       "overflow_y": null,
       "padding": null,
       "right": null,
       "top": null,
       "visibility": null,
       "width": null
      }
     },
     "39e10951c5c04c9485f78528d2749b83": {
      "model_module": "@jupyter-widgets/controls",
      "model_module_version": "1.5.0",
      "model_name": "HTMLModel",
      "state": {
       "_dom_classes": [],
       "_model_module": "@jupyter-widgets/controls",
       "_model_module_version": "1.5.0",
       "_model_name": "HTMLModel",
       "_view_count": null,
       "_view_module": "@jupyter-widgets/controls",
       "_view_module_version": "1.5.0",
       "_view_name": "HTMLView",
       "description": "",
       "description_tooltip": null,
       "layout": "IPY_MODEL_cb06e50700254c1dabcd2c5bd38d6592",
       "placeholder": "​",
       "style": "IPY_MODEL_d8cc6b1f07184976842b7eaaef6f7603",
       "value": "Executing: 100%"
      }
     },
     "5a272133ed11460c9e0fa51addb2f05d": {
      "model_module": "@jupyter-widgets/controls",
      "model_module_version": "1.5.0",
      "model_name": "HTMLModel",
      "state": {
       "_dom_classes": [],
       "_model_module": "@jupyter-widgets/controls",
       "_model_module_version": "1.5.0",
       "_model_name": "HTMLModel",
       "_view_count": null,
       "_view_module": "@jupyter-widgets/controls",
       "_view_module_version": "1.5.0",
       "_view_name": "HTMLView",
       "description": "",
       "description_tooltip": null,
       "layout": "IPY_MODEL_28ea9b71b35a4373bd796f446d403141",
       "placeholder": "​",
       "style": "IPY_MODEL_c1b8bddcd6ad41bfa8943d6348c5b04c",
       "value": " 6/6 [00:04&lt;00:00,  1.19cell/s]"
      }
     },
     "656f90246d084d488ea5aa5972d76e28": {
      "model_module": "@jupyter-widgets/controls",
      "model_module_version": "1.5.0",
      "model_name": "FloatProgressModel",
      "state": {
       "_dom_classes": [],
       "_model_module": "@jupyter-widgets/controls",
       "_model_module_version": "1.5.0",
       "_model_name": "FloatProgressModel",
       "_view_count": null,
       "_view_module": "@jupyter-widgets/controls",
       "_view_module_version": "1.5.0",
       "_view_name": "ProgressView",
       "bar_style": "success",
       "description": "",
       "description_tooltip": null,
       "layout": "IPY_MODEL_e0889e054b954ffa889d2a97a37d7021",
       "max": 6.0,
       "min": 0.0,
       "orientation": "horizontal",
       "style": "IPY_MODEL_dc0ced52d6d94017b93bb20e89257508",
       "value": 6.0
      }
     },
     "6a3bbce6b0e94ae3af314e4aef9a202d": {
      "model_module": "@jupyter-widgets/controls",
      "model_module_version": "1.5.0",
      "model_name": "HBoxModel",
      "state": {
       "_dom_classes": [],
       "_model_module": "@jupyter-widgets/controls",
       "_model_module_version": "1.5.0",
       "_model_name": "HBoxModel",
       "_view_count": null,
       "_view_module": "@jupyter-widgets/controls",
       "_view_module_version": "1.5.0",
       "_view_name": "HBoxView",
       "box_style": "",
       "children": [
        "IPY_MODEL_39e10951c5c04c9485f78528d2749b83",
        "IPY_MODEL_656f90246d084d488ea5aa5972d76e28",
        "IPY_MODEL_5a272133ed11460c9e0fa51addb2f05d"
       ],
       "layout": "IPY_MODEL_387cf1998fcc4ab6bab7f6576771d9be"
      }
     },
     "7a5ca88ba645401ab1559bd73ef383f9": {
      "model_module": "@jupyter-widgets/controls",
      "model_module_version": "1.5.0",
      "model_name": "ProgressStyleModel",
      "state": {
       "_model_module": "@jupyter-widgets/controls",
       "_model_module_version": "1.5.0",
       "_model_name": "ProgressStyleModel",
       "_view_count": null,
       "_view_module": "@jupyter-widgets/base",
       "_view_module_version": "1.2.0",
       "_view_name": "StyleView",
       "bar_color": null,
       "description_width": ""
      }
     },
     "9026c7a23a10498e8f192e25de41e1e0": {
      "model_module": "@jupyter-widgets/controls",
      "model_module_version": "1.5.0",
      "model_name": "DescriptionStyleModel",
      "state": {
       "_model_module": "@jupyter-widgets/controls",
       "_model_module_version": "1.5.0",
       "_model_name": "DescriptionStyleModel",
       "_view_count": null,
       "_view_module": "@jupyter-widgets/base",
       "_view_module_version": "1.2.0",
       "_view_name": "StyleView",
       "description_width": ""
      }
     },
     "af516e4f7e814a3e938e9e790a022ec6": {
      "model_module": "@jupyter-widgets/controls",
      "model_module_version": "1.5.0",
      "model_name": "HTMLModel",
      "state": {
       "_dom_classes": [],
       "_model_module": "@jupyter-widgets/controls",
       "_model_module_version": "1.5.0",
       "_model_name": "HTMLModel",
       "_view_count": null,
       "_view_module": "@jupyter-widgets/controls",
       "_view_module_version": "1.5.0",
       "_view_name": "HTMLView",
       "description": "",
       "description_tooltip": null,
       "layout": "IPY_MODEL_0f4909da9ca543d8835948a408ed0963",
       "placeholder": "​",
       "style": "IPY_MODEL_9026c7a23a10498e8f192e25de41e1e0",
       "value": " 2/2 [00:10&lt;00:00,  5.31s/it]"
      }
     },
     "b4be62c299b84d7d99960036d02f0a90": {
      "model_module": "@jupyter-widgets/controls",
      "model_module_version": "1.5.0",
      "model_name": "HBoxModel",
      "state": {
       "_dom_classes": [],
       "_model_module": "@jupyter-widgets/controls",
       "_model_module_version": "1.5.0",
       "_model_name": "HBoxModel",
       "_view_count": null,
       "_view_module": "@jupyter-widgets/controls",
       "_view_module_version": "1.5.0",
       "_view_name": "HBoxView",
       "box_style": "",
       "children": [
        "IPY_MODEL_1363b65e2a4047b09cb9a3f429ad0224",
        "IPY_MODEL_f24faa852f6b429abea563f11e421762",
        "IPY_MODEL_af516e4f7e814a3e938e9e790a022ec6"
       ],
       "layout": "IPY_MODEL_366db1ca96774e8a964fb69619f9bb11"
      }
     },
     "b6e39d9df7ca4051a7e155e79f1c17b8": {
      "model_module": "@jupyter-widgets/base",
      "model_module_version": "1.2.0",
      "model_name": "LayoutModel",
      "state": {
       "_model_module": "@jupyter-widgets/base",
       "_model_module_version": "1.2.0",
       "_model_name": "LayoutModel",
       "_view_count": null,
       "_view_module": "@jupyter-widgets/base",
       "_view_module_version": "1.2.0",
       "_view_name": "LayoutView",
       "align_content": null,
       "align_items": null,
       "align_self": null,
       "border": null,
       "bottom": null,
       "display": null,
       "flex": null,
       "flex_flow": null,
       "grid_area": null,
       "grid_auto_columns": null,
       "grid_auto_flow": null,
       "grid_auto_rows": null,
       "grid_column": null,
       "grid_gap": null,
       "grid_row": null,
       "grid_template_areas": null,
       "grid_template_columns": null,
       "grid_template_rows": null,
       "height": null,
       "justify_content": null,
       "justify_items": null,
       "left": null,
       "margin": null,
       "max_height": null,
       "max_width": null,
       "min_height": null,
       "min_width": null,
       "object_fit": null,
       "object_position": null,
       "order": null,
       "overflow": null,
       "overflow_x": null,
       "overflow_y": null,
       "padding": null,
       "right": null,
       "top": null,
       "visibility": null,
       "width": null
      }
     },
     "c1b8bddcd6ad41bfa8943d6348c5b04c": {
      "model_module": "@jupyter-widgets/controls",
      "model_module_version": "1.5.0",
      "model_name": "DescriptionStyleModel",
      "state": {
       "_model_module": "@jupyter-widgets/controls",
       "_model_module_version": "1.5.0",
       "_model_name": "DescriptionStyleModel",
       "_view_count": null,
       "_view_module": "@jupyter-widgets/base",
       "_view_module_version": "1.2.0",
       "_view_name": "StyleView",
       "description_width": ""
      }
     },
     "cb06e50700254c1dabcd2c5bd38d6592": {
      "model_module": "@jupyter-widgets/base",
      "model_module_version": "1.2.0",
      "model_name": "LayoutModel",
      "state": {
       "_model_module": "@jupyter-widgets/base",
       "_model_module_version": "1.2.0",
       "_model_name": "LayoutModel",
       "_view_count": null,
       "_view_module": "@jupyter-widgets/base",
       "_view_module_version": "1.2.0",
       "_view_name": "LayoutView",
       "align_content": null,
       "align_items": null,
       "align_self": null,
       "border": null,
       "bottom": null,
       "display": null,
       "flex": null,
       "flex_flow": null,
       "grid_area": null,
       "grid_auto_columns": null,
       "grid_auto_flow": null,
       "grid_auto_rows": null,
       "grid_column": null,
       "grid_gap": null,
       "grid_row": null,
       "grid_template_areas": null,
       "grid_template_columns": null,
       "grid_template_rows": null,
       "height": null,
       "justify_content": null,
       "justify_items": null,
       "left": null,
       "margin": null,
       "max_height": null,
       "max_width": null,
       "min_height": null,
       "min_width": null,
       "object_fit": null,
       "object_position": null,
       "order": null,
       "overflow": null,
       "overflow_x": null,
       "overflow_y": null,
       "padding": null,
       "right": null,
       "top": null,
       "visibility": null,
       "width": null
      }
     },
     "d8cc6b1f07184976842b7eaaef6f7603": {
      "model_module": "@jupyter-widgets/controls",
      "model_module_version": "1.5.0",
      "model_name": "DescriptionStyleModel",
      "state": {
       "_model_module": "@jupyter-widgets/controls",
       "_model_module_version": "1.5.0",
       "_model_name": "DescriptionStyleModel",
       "_view_count": null,
       "_view_module": "@jupyter-widgets/base",
       "_view_module_version": "1.2.0",
       "_view_name": "StyleView",
       "description_width": ""
      }
     },
     "dc0ced52d6d94017b93bb20e89257508": {
      "model_module": "@jupyter-widgets/controls",
      "model_module_version": "1.5.0",
      "model_name": "ProgressStyleModel",
      "state": {
       "_model_module": "@jupyter-widgets/controls",
       "_model_module_version": "1.5.0",
       "_model_name": "ProgressStyleModel",
       "_view_count": null,
       "_view_module": "@jupyter-widgets/base",
       "_view_module_version": "1.2.0",
       "_view_name": "StyleView",
       "bar_color": null,
       "description_width": ""
      }
     },
     "e0889e054b954ffa889d2a97a37d7021": {
      "model_module": "@jupyter-widgets/base",
      "model_module_version": "1.2.0",
      "model_name": "LayoutModel",
      "state": {
       "_model_module": "@jupyter-widgets/base",
       "_model_module_version": "1.2.0",
       "_model_name": "LayoutModel",
       "_view_count": null,
       "_view_module": "@jupyter-widgets/base",
       "_view_module_version": "1.2.0",
       "_view_name": "LayoutView",
       "align_content": null,
       "align_items": null,
       "align_self": null,
       "border": null,
       "bottom": null,
       "display": null,
       "flex": null,
       "flex_flow": null,
       "grid_area": null,
       "grid_auto_columns": null,
       "grid_auto_flow": null,
       "grid_auto_rows": null,
       "grid_column": null,
       "grid_gap": null,
       "grid_row": null,
       "grid_template_areas": null,
       "grid_template_columns": null,
       "grid_template_rows": null,
       "height": null,
       "justify_content": null,
       "justify_items": null,
       "left": null,
       "margin": null,
       "max_height": null,
       "max_width": null,
       "min_height": null,
       "min_width": null,
       "object_fit": null,
       "object_position": null,
       "order": null,
       "overflow": null,
       "overflow_x": null,
       "overflow_y": null,
       "padding": null,
       "right": null,
       "top": null,
       "visibility": null,
       "width": null
      }
     },
     "f24faa852f6b429abea563f11e421762": {
      "model_module": "@jupyter-widgets/controls",
      "model_module_version": "1.5.0",
      "model_name": "FloatProgressModel",
      "state": {
       "_dom_classes": [],
       "_model_module": "@jupyter-widgets/controls",
       "_model_module_version": "1.5.0",
       "_model_name": "FloatProgressModel",
       "_view_count": null,
       "_view_module": "@jupyter-widgets/controls",
       "_view_module_version": "1.5.0",
       "_view_name": "ProgressView",
       "bar_style": "success",
       "description": "",
       "description_tooltip": null,
       "layout": "IPY_MODEL_0426f0dfc6444d34b89f23e0a29b3a5d",
       "max": 2.0,
       "min": 0.0,
       "orientation": "horizontal",
       "style": "IPY_MODEL_7a5ca88ba645401ab1559bd73ef383f9",
       "value": 2.0
      }
     }
    },
    "version_major": 2,
    "version_minor": 0
   }
  }
 },
 "nbformat": 4,
 "nbformat_minor": 5
}