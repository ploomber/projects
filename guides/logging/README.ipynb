{
 "cells": [
  {
   "cell_type": "markdown",
   "id": "02122134",
   "metadata": {
    "papermill": {
     "duration": 0.033348,
     "end_time": "2021-10-28T01:24:38.713334",
     "exception": false,
     "start_time": "2021-10-28T01:24:38.679986",
     "status": "completed"
    },
    "tags": []
   },
   "source": [
    "To run this example locally, [install Ploomber](https://docs.ploomber.io/en/latest/get-started/quick-start.html) and execute: `ploomber examples -n guides/logging`\n",
    "\n",
    "To start a free, hosted JupyterLab: [![binder-logo](https://mybinder.org/badge_logo.svg)](https://mybinder.org/v2/gh/ploomber/binder-env/main?urlpath=git-pull%3Frepo%3Dhttps%253A%252F%252Fgithub.com%252Fploomber%252Fprojects%26urlpath%3Dlab%252Ftree%252Fprojects%252Fguides/logging%252FREADME.ipynb%26branch%3Dmaster)\n",
    "\n",
    "Found an issue? [Let us know.](https://github.com/ploomber/projects/issues/new?title=guides/logging%20issue)\n",
    "\n",
    "Have questions? [Ask us anything on Slack.](https://ploomber.io/community/)\n",
    "\n"
   ]
  },
  {
   "cell_type": "markdown",
   "id": "fc3836aa",
   "metadata": {
    "papermill": {
     "duration": 0.033513,
     "end_time": "2021-10-28T01:24:38.779428",
     "exception": false,
     "start_time": "2021-10-28T01:24:38.745915",
     "status": "completed"
    },
    "tags": []
   },
   "source": [
    "# Logging\n",
    "\n",
    "<!-- start description -->\n",
    "Tutorial showing how to add logging to a pipeline.\n",
    "<!-- end description -->\n",
    "\n",
    "## Sample pipeline\n",
    "\n",
    "The pipeline we'll be using for this guide contains two tasks (a script and a function):"
   ]
  },
  {
   "cell_type": "markdown",
   "id": "b2027635",
   "metadata": {
    "papermill": {
     "duration": 0.030398,
     "end_time": "2021-10-28T01:24:38.839888",
     "exception": false,
     "start_time": "2021-10-28T01:24:38.809490",
     "status": "completed"
    },
    "region_name": "md",
    "tags": []
   },
   "source": [
    "```yaml\n",
    "# Content of basic/pipeline.yaml\n",
    "tasks:\n",
    "  - source: script.py\n",
    "    product: output/nb-log.html\n",
    "    papermill_params:\n",
    "      log_output: True\n",
    "\n",
    "  - source: tasks.function\n",
    "    product: output/fn-log.txt\n",
    "\n",
    "```"
   ]
  },
  {
   "cell_type": "markdown",
   "id": "6894a3a5",
   "metadata": {
    "papermill": {
     "duration": 0.030507,
     "end_time": "2021-10-28T01:24:38.901219",
     "exception": false,
     "start_time": "2021-10-28T01:24:38.870712",
     "status": "completed"
    },
    "tags": []
   },
   "source": [
    "Note that the script task contains:\n",
    "\n",
    "```yaml\n",
    "papermill_params:\n",
    "    log_output: True\n",
    "```\n",
    "\n",
    "This extra configuration is required on each script/notebook task in your pipeline to enable logging. The code on each task isn't important; they contain a for loop and log a message on each iteration. Let's see it in action:"
   ]
  },
  {
   "cell_type": "code",
   "execution_count": 1,
   "id": "2cffb9bb",
   "metadata": {
    "execution": {
     "iopub.execute_input": "2021-10-28T01:24:38.973969Z",
     "iopub.status.busy": "2021-10-28T01:24:38.973048Z",
     "iopub.status.idle": "2021-10-28T01:24:54.897163Z",
     "shell.execute_reply": "2021-10-28T01:24:54.898541Z"
    },
    "papermill": {
     "duration": 15.9662,
     "end_time": "2021-10-28T01:24:54.899168",
     "exception": false,
     "start_time": "2021-10-28T01:24:38.932968",
     "status": "completed"
    },
    "tags": []
   },
   "outputs": [
    {
     "name": "stdout",
     "output_type": "stream",
     "text": [
      "Loading pipeline...\n",
      "name      Ran?      Elapsed (s)    Percentage\n",
      "--------  ------  -------------  ------------\n",
      "script    True          4.66689       60.8412\n",
      "function  True          3.00372       39.1588\n"
     ]
    },
    {
     "name": "stderr",
     "output_type": "stream",
     "text": [
      "WARNING:traitlets:Kernel Provisioning: The 'local-provisioner' is not found.  This is likely due to the presence of multiple jupyter_client distributions and a previous distribution is being used as the source for entrypoints - which does not include 'local-provisioner'.  That distribution should be removed such that only the version-appropriate distribution remains (version >= 7).  Until then, a 'local-provisioner' entrypoint will be automatically constructed and used.\n",
      "The candidate distribution locations are: ['/workspaces/projects/venv/lib/python3.8/site-packages/jupyter_client-7.3.2.dist-info']\n",
      "INFO:blib2to3.pgen2.driver:Generating grammar tables from /workspaces/projects/venv/lib/python3.8/site-packages/blib2to3/Grammar.txt\n",
      "INFO:blib2to3.pgen2.driver:Writing grammar tables to /home/codespace/.cache/black/22.3.0/Grammar3.8.13.final.0.pickle\n",
      "INFO:blib2to3.pgen2.driver:Writing failed: [Errno 2] No such file or directory: '/home/codespace/.cache/black/22.3.0/tmp1j9p6bb9'\n",
      "INFO:blib2to3.pgen2.driver:Generating grammar tables from /workspaces/projects/venv/lib/python3.8/site-packages/blib2to3/PatternGrammar.txt\n",
      "INFO:blib2to3.pgen2.driver:Writing grammar tables to /home/codespace/.cache/black/22.3.0/PatternGrammar3.8.13.final.0.pickle\n",
      "INFO:blib2to3.pgen2.driver:Writing failed: [Errno 2] No such file or directory: '/home/codespace/.cache/black/22.3.0/tmp2rs4570f'\n",
      "INFO:ploomber.dag.dag:Building DAG DAG(\"basic\")\n",
      "Building task 'script':   0%|          | 0/2 [00:00<?, ?it/s]INFO:ploomber.tasks.abc.NotebookRunner:Starting execution: NotebookRunner: script -> File('output/nb-log.html')\n",
      "INFO:papermill:Input Notebook:  /tmp/tmp_odbqsk5.ipynb\n",
      "INFO:papermill:Output Notebook: /workspaces/projects/guides/logging/basic/output/nb-log.ipynb\n",
      "\n",
      "Executing:   0%|          | 0/6 [00:00<?, ?cell/s]\u001b[AINFO:papermill:Executing notebook with kernel: python3\n",
      "INFO:papermill:Executing Cell 1---------------------------------------\n",
      "INFO:papermill:Ending Cell 1------------------------------------------\n",
      "\n",
      "Executing:  17%|█▋        | 1/6 [00:01<00:05,  1.02s/cell]\u001b[AINFO:papermill:Executing Cell 2---------------------------------------\n",
      "INFO:papermill:Ending Cell 2------------------------------------------\n",
      "INFO:papermill:Executing Cell 3---------------------------------------\n",
      "INFO:papermill:Ending Cell 3------------------------------------------\n",
      "INFO:papermill:Executing Cell 4---------------------------------------\n",
      "INFO:papermill:Ending Cell 4------------------------------------------\n",
      "INFO:papermill:Executing Cell 5---------------------------------------\n",
      "INFO:papermill:Ending Cell 5------------------------------------------\n",
      "INFO:papermill:Executing Cell 6---------------------------------------\n",
      "INFO:papermill:INFO:__main__:[script log] Finished step 1...\n",
      "\n",
      "INFO:papermill:INFO:__main__:[script log] Finished step 2...\n",
      "\n",
      "INFO:papermill:INFO:__main__:[script log] Finished step 3...\n",
      "\n",
      "INFO:papermill:INFO:__main__:[script log] Done.\n",
      "\n",
      "INFO:papermill:Ending Cell 6------------------------------------------\n",
      "\n",
      "Executing: 100%|██████████| 6/6 [00:04<00:00,  1.40cell/s]\u001b[A\n",
      "INFO:ploomber.tasks.abc.NotebookRunner:Done. Operation took 4.7 seconds\n",
      "Building task 'function':  50%|█████     | 1/2 [00:04<00:04,  4.67s/it]INFO:ploomber.tasks.abc.PythonCallable:Starting execution: PythonCallable: function -> File('output/fn-log.txt')\n",
      "INFO:tasks:[function log] Finished step 1...\n",
      "INFO:tasks:[function log] Finished step 2...\n",
      "INFO:tasks:[function log] Finished step 3...\n",
      "INFO:tasks:[function log] Done.\n",
      "INFO:ploomber.tasks.abc.PythonCallable:Done. Operation took 3.0 seconds\n",
      "Building task 'function': 100%|██████████| 2/2 [00:07<00:00,  3.85s/it]\n",
      "INFO:ploomber.dag.dag: DAG report:\n",
      "name      Ran?      Elapsed (s)    Percentage\n",
      "--------  ------  -------------  ------------\n",
      "script    True          4.66689       60.8412\n",
      "function  True          3.00372       39.1588\n"
     ]
    }
   ],
   "source": [
    "%%sh\n",
    "cd basic\n",
    "ploomber build --log info --force"
   ]
  },
  {
   "cell_type": "markdown",
   "id": "fa1a22de",
   "metadata": {
    "papermill": {
     "duration": 0.034958,
     "end_time": "2021-10-28T01:24:54.971617",
     "exception": false,
     "start_time": "2021-10-28T01:24:54.936659",
     "status": "completed"
    },
    "tags": []
   },
   "source": [
    "We can see that the logging statements appear in the console. If you want to take a look at the code, [click here](https://github.com/ploomber/projects/tree/master/guides/logging/basic)."
   ]
  },
  {
   "cell_type": "markdown",
   "id": "dc83a938",
   "metadata": {
    "papermill": {
     "duration": 0.039017,
     "end_time": "2021-10-28T01:24:55.048984",
     "exception": false,
     "start_time": "2021-10-28T01:24:55.009967",
     "status": "completed"
    },
    "tags": []
   },
   "source": [
    "## Why not print?\n",
    "\n",
    "Note that the snippets above use the `logging` module instead of `print`. Although `print` is a quick and easy way to display messages in the console, the `logging` module is more flexible. Hence, it is the recommended option."
   ]
  },
  {
   "cell_type": "markdown",
   "id": "296f5544",
   "metadata": {
    "papermill": {
     "duration": 0.100564,
     "end_time": "2021-10-28T01:24:55.187423",
     "exception": false,
     "start_time": "2021-10-28T01:24:55.086859",
     "status": "completed"
    },
    "tags": []
   },
   "source": [
    "## Logging to a file\n",
    "\n",
    "It's common to send all your log records to a file. You can do so with the ``--log-file/-F`` option:\n",
    "\n",
    "```sh\n",
    "ploomber build --log info --log-file my.log\n",
    "```"
   ]
  },
  {
   "cell_type": "markdown",
   "id": "44cd8bff",
   "metadata": {
    "papermill": {
     "duration": 0.055017,
     "end_time": "2021-10-28T01:24:55.301789",
     "exception": false,
     "start_time": "2021-10-28T01:24:55.246772",
     "status": "completed"
    },
    "tags": []
   },
   "source": [
    "## Logging to a file from Python\n",
    "\n",
    "Alternatively, you can configure logging from Python, which gives you more flexibility:"
   ]
  },
  {
   "cell_type": "code",
   "execution_count": 2,
   "id": "6910268b",
   "metadata": {
    "execution": {
     "iopub.execute_input": "2021-10-28T01:24:55.410011Z",
     "iopub.status.busy": "2021-10-28T01:24:55.409160Z",
     "iopub.status.idle": "2021-10-28T01:25:09.027512Z",
     "shell.execute_reply": "2021-10-28T01:25:09.028176Z"
    },
    "papermill": {
     "duration": 13.679623,
     "end_time": "2021-10-28T01:25:09.028478",
     "exception": false,
     "start_time": "2021-10-28T01:24:55.348855",
     "status": "completed"
    },
    "tags": []
   },
   "outputs": [
    {
     "data": {
      "application/vnd.jupyter.widget-view+json": {
       "model_id": "3b39360e17084144b980f5ccdff20d8f",
       "version_major": 2,
       "version_minor": 0
      },
      "text/plain": [
       "  0%|          | 0/2 [00:00<?, ?it/s]"
      ]
     },
     "metadata": {},
     "output_type": "display_data"
    },
    {
     "data": {
      "application/vnd.jupyter.widget-view+json": {
       "model_id": "da249a9b13054865bc352610d1eeb803",
       "version_major": 2,
       "version_minor": 0
      },
      "text/plain": [
       "Executing:   0%|          | 0/6 [00:00<?, ?cell/s]"
      ]
     },
     "metadata": {},
     "output_type": "display_data"
    },
    {
     "data": {
      "text/html": [
       "<table>\n",
       "<thead>\n",
       "<tr><th>name    </th><th>Ran?  </th><th style=\"text-align: right;\">  Elapsed (s)</th><th style=\"text-align: right;\">  Percentage</th></tr>\n",
       "</thead>\n",
       "<tbody>\n",
       "<tr><td>script  </td><td>True  </td><td style=\"text-align: right;\">      4.76759</td><td style=\"text-align: right;\">     61.3428</td></tr>\n",
       "<tr><td>function</td><td>True  </td><td style=\"text-align: right;\">      3.00445</td><td style=\"text-align: right;\">     38.6572</td></tr>\n",
       "</tbody>\n",
       "</table>"
      ],
      "text/plain": [
       "name      Ran?      Elapsed (s)    Percentage\n",
       "--------  ------  -------------  ------------\n",
       "script    True          4.76759       61.3428\n",
       "function  True          3.00445       38.6572"
      ]
     },
     "execution_count": 2,
     "metadata": {},
     "output_type": "execute_result"
    }
   ],
   "source": [
    "# you may store the contents of this cell in a .py file and then call it from the command line\n",
    "# e.g., python run_pipeline.py\n",
    "import logging\n",
    "from pathlib import Path\n",
    "import sys\n",
    "\n",
    "from ploomber.executors import Serial\n",
    "from ploomber.spec import DAGSpec\n",
    "\n",
    "if Path('my.log').exists():\n",
    "    Path('my.log').unlink()\n",
    "\n",
    "logging.basicConfig(filename='my.log', format='%(levelname)s:%(message)s', level=logging.INFO)\n",
    "\n",
    "# make sure we can import basic/tasks.py since basic/pipeline.yaml uses it\n",
    "sys.path.append('basic')\n",
    "\n",
    "dag = DAGSpec('basic/pipeline.yaml').to_dag()\n",
    "dag.build(force=True)"
   ]
  },
  {
   "cell_type": "markdown",
   "id": "d6c04c26",
   "metadata": {
    "papermill": {
     "duration": 0.041686,
     "end_time": "2021-10-28T01:25:09.109594",
     "exception": false,
     "start_time": "2021-10-28T01:25:09.067908",
     "status": "completed"
    },
    "tags": []
   },
   "source": [
    "Let's look at the file contents:"
   ]
  },
  {
   "cell_type": "code",
   "execution_count": 3,
   "id": "d0201345",
   "metadata": {
    "execution": {
     "iopub.execute_input": "2021-10-28T01:25:09.193836Z",
     "iopub.status.busy": "2021-10-28T01:25:09.192841Z",
     "iopub.status.idle": "2021-10-28T01:25:09.196102Z",
     "shell.execute_reply": "2021-10-28T01:25:09.196589Z"
    },
    "papermill": {
     "duration": 0.046386,
     "end_time": "2021-10-28T01:25:09.196833",
     "exception": false,
     "start_time": "2021-10-28T01:25:09.150447",
     "status": "completed"
    },
    "tags": []
   },
   "outputs": [
    {
     "name": "stdout",
     "output_type": "stream",
     "text": [
      "INFO:Generating grammar tables from /workspaces/projects/venv/lib/python3.8/site-packages/blib2to3/Grammar.txt\n",
      "INFO:Writing grammar tables to /home/codespace/.cache/black/22.3.0/Grammar3.8.13.final.0.pickle\n",
      "INFO:Writing failed: [Errno 2] No such file or directory: '/home/codespace/.cache/black/22.3.0/tmpeca0cxtc'\n",
      "INFO:Generating grammar tables from /workspaces/projects/venv/lib/python3.8/site-packages/blib2to3/PatternGrammar.txt\n",
      "INFO:Writing grammar tables to /home/codespace/.cache/black/22.3.0/PatternGrammar3.8.13.final.0.pickle\n",
      "INFO:Writing failed: [Errno 2] No such file or directory: '/home/codespace/.cache/black/22.3.0/tmp3djgccxy'\n",
      "INFO:Building DAG DAG(\"basic\")\n",
      "INFO:Starting execution: NotebookRunner: script -> File('basic/output/nb-log.html')\n",
      "INFO:Input Notebook:  /tmp/tmp1y05qp_7.ipynb\n",
      "INFO:Output Notebook: /workspaces/projects/guides/logging/basic/output/nb-log.ipynb\n",
      "INFO:Executing notebook with kernel: python3\n",
      "INFO:Executing Cell 1---------------------------------------\n",
      "INFO:Ending Cell 1------------------------------------------\n",
      "INFO:Executing Cell 2---------------------------------------\n",
      "INFO:Ending Cell 2------------------------------------------\n",
      "INFO:Executing Cell 3---------------------------------------\n",
      "INFO:Ending Cell 3------------------------------------------\n",
      "INFO:Executing Cell 4---------------------------------------\n",
      "INFO:Ending Cell 4------------------------------------------\n",
      "INFO:Executing Cell 5---------------------------------------\n",
      "INFO:Ending Cell 5------------------------------------------\n",
      "INFO:Executing Cell 6---------------------------------------\n",
      "INFO:INFO:__main__:[script log] Finished step 1...\n",
      "\n",
      "INFO:INFO:__main__:[script log] Finished step 2...\n",
      "\n",
      "INFO:INFO:__main__:[script log] Finished step 3...\n",
      "\n",
      "INFO:INFO:__main__:[script log] Done.\n",
      "\n",
      "INFO:Ending Cell 6------------------------------------------\n",
      "INFO:Done. Operation took 4.8 seconds\n",
      "INFO:Starting execution: PythonCallable: function -> File('basic/output/fn-log.txt')\n",
      "INFO:[function log] Finished step 1...\n",
      "INFO:[function log] Finished step 2...\n",
      "INFO:[function log] Finished step 3...\n",
      "INFO:[function log] Done.\n",
      "INFO:Done. Operation took 3.0 seconds\n",
      "INFO: DAG report:\n",
      "name      Ran?      Elapsed (s)    Percentage\n",
      "--------  ------  -------------  ------------\n",
      "script    True          4.76759       61.3428\n",
      "function  True          3.00445       38.6572\n",
      "\n"
     ]
    }
   ],
   "source": [
    "print(Path('my.log').read_text())"
   ]
  },
  {
   "cell_type": "markdown",
   "id": "c1c5c56c",
   "metadata": {
    "papermill": {
     "duration": 0.03823,
     "end_time": "2021-10-28T01:25:09.273789",
     "exception": false,
     "start_time": "2021-10-28T01:25:09.235559",
     "status": "completed"
    },
    "tags": []
   },
   "source": [
    "## Controlling logging level\n",
    "\n",
    "The Python's [logging](https://docs.python.org/3/library/logging.html) module allows you to filter messages depending on their priority. For example, when running your pipeline, you may only want to display *regular* messages, but you may allow *regular* and *debugging* messages for more granularity when debugging. Since Ploomber runs tasks differently depending on their type (i.e., functions vs. scripts/notebooks), controlling the logging level requires a bit of extra work. Let's use the same pipeline in the `parametrized` directory:"
   ]
  },
  {
   "cell_type": "code",
   "execution_count": 4,
   "id": "12e7877f",
   "metadata": {
    "execution": {
     "iopub.execute_input": "2021-10-28T01:25:09.359509Z",
     "iopub.status.busy": "2021-10-28T01:25:09.358379Z",
     "iopub.status.idle": "2021-10-28T01:25:24.705661Z",
     "shell.execute_reply": "2021-10-28T01:25:24.706841Z"
    },
    "papermill": {
     "duration": 15.395691,
     "end_time": "2021-10-28T01:25:24.707176",
     "exception": false,
     "start_time": "2021-10-28T01:25:09.311485",
     "status": "completed"
    },
    "tags": []
   },
   "outputs": [
    {
     "name": "stdout",
     "output_type": "stream",
     "text": [
      "Loading pipeline...\n",
      "name      Ran?      Elapsed (s)    Percentage\n",
      "--------  ------  -------------  ------------\n",
      "script    True          4.49249       59.9239\n",
      "function  True          3.0045        40.0761\n"
     ]
    },
    {
     "name": "stderr",
     "output_type": "stream",
     "text": [
      "WARNING:traitlets:Kernel Provisioning: The 'local-provisioner' is not found.  This is likely due to the presence of multiple jupyter_client distributions and a previous distribution is being used as the source for entrypoints - which does not include 'local-provisioner'.  That distribution should be removed such that only the version-appropriate distribution remains (version >= 7).  Until then, a 'local-provisioner' entrypoint will be automatically constructed and used.\n",
      "The candidate distribution locations are: ['/workspaces/projects/venv/lib/python3.8/site-packages/jupyter_client-7.3.2.dist-info']\n",
      "INFO:blib2to3.pgen2.driver:Generating grammar tables from /workspaces/projects/venv/lib/python3.8/site-packages/blib2to3/Grammar.txt\n",
      "INFO:blib2to3.pgen2.driver:Writing grammar tables to /home/codespace/.cache/black/22.3.0/Grammar3.8.13.final.0.pickle\n",
      "INFO:blib2to3.pgen2.driver:Writing failed: [Errno 2] No such file or directory: '/home/codespace/.cache/black/22.3.0/tmp8s6jihtc'\n",
      "INFO:blib2to3.pgen2.driver:Generating grammar tables from /workspaces/projects/venv/lib/python3.8/site-packages/blib2to3/PatternGrammar.txt\n",
      "INFO:blib2to3.pgen2.driver:Writing grammar tables to /home/codespace/.cache/black/22.3.0/PatternGrammar3.8.13.final.0.pickle\n",
      "INFO:blib2to3.pgen2.driver:Writing failed: [Errno 2] No such file or directory: '/home/codespace/.cache/black/22.3.0/tmp2yj6e00b'\n",
      "INFO:ploomber.dag.dag:Building DAG DAG(\"parametrized\")\n",
      "Building task 'script':   0%|          | 0/2 [00:00<?, ?it/s]INFO:ploomber.tasks.abc.NotebookRunner:Starting execution: NotebookRunner: script -> File('output/nb-log.html')\n",
      "INFO:papermill:Input Notebook:  /tmp/tmprwq9ox1n.ipynb\n",
      "INFO:papermill:Output Notebook: /workspaces/projects/guides/logging/parametrized/output/nb-log.ipynb\n",
      "\n",
      "Executing:   0%|          | 0/6 [00:00<?, ?cell/s]\u001b[AINFO:papermill:Executing notebook with kernel: python3\n",
      "INFO:papermill:Executing Cell 1---------------------------------------\n",
      "INFO:papermill:Ending Cell 1------------------------------------------\n",
      "\n",
      "Executing:  17%|█▋        | 1/6 [00:00<00:04,  1.12cell/s]\u001b[AINFO:papermill:Executing Cell 2---------------------------------------\n",
      "INFO:papermill:Ending Cell 2------------------------------------------\n",
      "INFO:papermill:Executing Cell 3---------------------------------------\n",
      "INFO:papermill:Ending Cell 3------------------------------------------\n",
      "INFO:papermill:Executing Cell 4---------------------------------------\n",
      "INFO:papermill:Ending Cell 4------------------------------------------\n",
      "INFO:papermill:Executing Cell 5---------------------------------------\n",
      "INFO:papermill:Ending Cell 5------------------------------------------\n",
      "INFO:papermill:Executing Cell 6---------------------------------------\n",
      "INFO:papermill:INFO:__main__:[script log] Finished step 1...\n",
      "\n",
      "INFO:papermill:INFO:__main__:[script log] Finished step 2...\n",
      "\n",
      "INFO:papermill:INFO:__main__:[script log] Finished step 3...\n",
      "\n",
      "INFO:papermill:INFO:__main__:[script log] Done.\n",
      "\n",
      "INFO:papermill:Ending Cell 6------------------------------------------\n",
      "\n",
      "Executing: 100%|██████████| 6/6 [00:04<00:00,  1.44cell/s]\u001b[A\n",
      "INFO:ploomber.tasks.abc.NotebookRunner:Done. Operation took 4.5 seconds\n",
      "Building task 'function':  50%|█████     | 1/2 [00:04<00:04,  4.49s/it]INFO:ploomber.tasks.abc.PythonCallable:Starting execution: PythonCallable: function -> File('output/fn-log.txt')\n",
      "INFO:tasks:[function log] Finished step 1...\n",
      "INFO:tasks:[function log] Finished step 2...\n",
      "INFO:tasks:[function log] Finished step 3...\n",
      "INFO:tasks:[function log] Done.\n",
      "INFO:ploomber.tasks.abc.PythonCallable:Done. Operation took 3.0 seconds\n",
      "Building task 'function': 100%|██████████| 2/2 [00:07<00:00,  3.76s/it]\n",
      "INFO:ploomber.dag.dag: DAG report:\n",
      "name      Ran?      Elapsed (s)    Percentage\n",
      "--------  ------  -------------  ------------\n",
      "script    True          4.49249       59.9239\n",
      "function  True          3.0045        40.0761\n"
     ]
    }
   ],
   "source": [
    "%%sh\n",
    "cd parametrized\n",
    "ploomber build --log info --env--logging_level info --force"
   ]
  },
  {
   "cell_type": "markdown",
   "id": "b27f9934",
   "metadata": {
    "papermill": {
     "duration": 0.040659,
     "end_time": "2021-10-28T01:25:24.791149",
     "exception": false,
     "start_time": "2021-10-28T01:25:24.750490",
     "status": "completed"
    },
    "tags": []
   },
   "source": [
    "Let's now run the pipeline but switch the logging level to debug, this will print the records we saw above, plus the ones with `debug` level:"
   ]
  },
  {
   "cell_type": "code",
   "execution_count": 5,
   "id": "0bf6869f",
   "metadata": {
    "execution": {
     "iopub.execute_input": "2021-10-28T01:25:24.885014Z",
     "iopub.status.busy": "2021-10-28T01:25:24.884092Z",
     "iopub.status.idle": "2021-10-28T01:25:40.775456Z",
     "shell.execute_reply": "2021-10-28T01:25:40.775946Z"
    },
    "papermill": {
     "duration": 15.94269,
     "end_time": "2021-10-28T01:25:40.776158",
     "exception": false,
     "start_time": "2021-10-28T01:25:24.833468",
     "status": "completed"
    },
    "tags": []
   },
   "outputs": [
    {
     "name": "stdout",
     "output_type": "stream",
     "text": [
      "Loading pipeline...\n",
      "name      Ran?      Elapsed (s)    Percentage\n",
      "--------  ------  -------------  ------------\n",
      "script    True          4.47259       59.8168\n",
      "function  True          3.00456       40.1832\n"
     ]
    },
    {
     "name": "stderr",
     "output_type": "stream",
     "text": [
      "DEBUG:ploomber.spec.dagspec:DAGSpec enviroment:\n",
      "EnvDict({'cwd': '/workspaces/.../parametrized', 'git': 'master', 'git_hash': '1738307-dirty', 'here': '/workspaces/.../parametrized', ...})\n",
      "DEBUG:ploomber.spec.dagspec:Expanded DAGSpec:\n",
      "{   'tasks': [   {   'papermill_params': {'log_output': True},\n",
      "                     'params': {'logging_level': '{{logging_level}}'},\n",
      "                     'product': 'output/nb-log.html',\n",
      "                     'source': 'script.py'},\n",
      "                 {   'params': {'logging_level': '{{logging_level}}'},\n",
      "                     'product': 'output/fn-log.txt',\n",
      "                     'source': 'tasks.function'}]}\n",
      "WARNING:traitlets:Kernel Provisioning: The 'local-provisioner' is not found.  This is likely due to the presence of multiple jupyter_client distributions and a previous distribution is being used as the source for entrypoints - which does not include 'local-provisioner'.  That distribution should be removed such that only the version-appropriate distribution remains (version >= 7).  Until then, a 'local-provisioner' entrypoint will be automatically constructed and used.\n",
      "The candidate distribution locations are: ['/workspaces/projects/venv/lib/python3.8/site-packages/jupyter_client-7.3.2.dist-info']\n",
      "DEBUG:ploomber.tasks.abc.NotebookRunner:Setting \"script\" status to TaskStatus.WaitingRender\n",
      "DEBUG:ploomber.tasks.abc.PythonCallable:Setting \"function\" status to TaskStatus.WaitingRender\n",
      "DEBUG:ploomber.spec.dagspec:Extracted upstream dependencies for task script: None\n",
      "DEBUG:ploomber.spec.dagspec:Extracted upstream dependencies for task function: None\n",
      "INFO:blib2to3.pgen2.driver:Generating grammar tables from /workspaces/projects/venv/lib/python3.8/site-packages/blib2to3/Grammar.txt\n",
      "INFO:blib2to3.pgen2.driver:Writing grammar tables to /home/codespace/.cache/black/22.3.0/Grammar3.8.13.final.0.pickle\n",
      "INFO:blib2to3.pgen2.driver:Writing failed: [Errno 2] No such file or directory: '/home/codespace/.cache/black/22.3.0/tmp55q_ywf2'\n",
      "INFO:blib2to3.pgen2.driver:Generating grammar tables from /workspaces/projects/venv/lib/python3.8/site-packages/blib2to3/PatternGrammar.txt\n",
      "INFO:blib2to3.pgen2.driver:Writing grammar tables to /home/codespace/.cache/black/22.3.0/PatternGrammar3.8.13.final.0.pickle\n",
      "INFO:blib2to3.pgen2.driver:Writing failed: [Errno 2] No such file or directory: '/home/codespace/.cache/black/22.3.0/tmpvxyhyfii'\n",
      "INFO:ploomber.dag.dag:Building DAG DAG(\"parametrized\")\n",
      "Building task 'script':   0%|          | 0/2 [00:00<?, ?it/s]INFO:ploomber.tasks.abc.NotebookRunner:Starting execution: NotebookRunner: script -> File('output/nb-log.html')\n",
      "INFO:papermill:Input Notebook:  /tmp/tmpue38o2oe.ipynb\n",
      "INFO:papermill:Output Notebook: /workspaces/projects/guides/logging/parametrized/output/nb-log.ipynb\n",
      "\n",
      "Executing:   0%|          | 0/6 [00:00<?, ?cell/s]\u001b[AINFO:papermill:Executing notebook with kernel: python3\n",
      "INFO:papermill:Executing Cell 1---------------------------------------\n",
      "INFO:papermill:Ending Cell 1------------------------------------------\n",
      "\n",
      "Executing:  17%|█▋        | 1/6 [00:00<00:04,  1.13cell/s]\u001b[AINFO:papermill:Executing Cell 2---------------------------------------\n",
      "INFO:papermill:Ending Cell 2------------------------------------------\n",
      "INFO:papermill:Executing Cell 3---------------------------------------\n",
      "INFO:papermill:Ending Cell 3------------------------------------------\n",
      "INFO:papermill:Executing Cell 4---------------------------------------\n",
      "INFO:papermill:Ending Cell 4------------------------------------------\n",
      "INFO:papermill:Executing Cell 5---------------------------------------\n",
      "INFO:papermill:Ending Cell 5------------------------------------------\n",
      "INFO:papermill:Executing Cell 6---------------------------------------\n",
      "INFO:papermill:DEBUG:__main__:[script log] This is a message for debugging\n",
      "\n",
      "INFO:papermill:INFO:__main__:[script log] Finished step 1...\n",
      "\n",
      "INFO:papermill:INFO:__main__:[script log] Finished step 2...\n",
      "\n",
      "INFO:papermill:INFO:__main__:[script log] Finished step 3...\n",
      "\n",
      "INFO:papermill:INFO:__main__:[script log] Done.\n",
      "\n",
      "INFO:papermill:Ending Cell 6------------------------------------------\n",
      "\n",
      "Executing: 100%|██████████| 6/6 [00:04<00:00,  1.44cell/s]\u001b[A\n",
      "INFO:ploomber.tasks.abc.NotebookRunner:Done. Operation took 4.5 seconds\n",
      "Building task 'function':  50%|█████     | 1/2 [00:04<00:04,  4.47s/it]INFO:ploomber.tasks.abc.PythonCallable:Starting execution: PythonCallable: function -> File('output/fn-log.txt')\n",
      "INFO:tasks:[function log] Finished step 1...\n",
      "INFO:tasks:[function log] Finished step 2...\n",
      "INFO:tasks:[function log] Finished step 3...\n",
      "INFO:tasks:[function log] Done.\n",
      "INFO:ploomber.tasks.abc.PythonCallable:Done. Operation took 3.0 seconds\n",
      "Building task 'function': 100%|██████████| 2/2 [00:07<00:00,  3.75s/it]\n",
      "INFO:ploomber.dag.dag: DAG report:\n",
      "name      Ran?      Elapsed (s)    Percentage\n",
      "--------  ------  -------------  ------------\n",
      "script    True          4.47259       59.8168\n",
      "function  True          3.00456       40.1832\n"
     ]
    }
   ],
   "source": [
    "%%sh\n",
    "cd parametrized\n",
    "ploomber build --log debug --env--logging_level debug --force"
   ]
  },
  {
   "cell_type": "markdown",
   "id": "364f376f",
   "metadata": {
    "papermill": {
     "duration": 0.042919,
     "end_time": "2021-10-28T01:25:40.863882",
     "exception": false,
     "start_time": "2021-10-28T01:25:40.820963",
     "status": "completed"
    },
    "tags": []
   },
   "source": [
    "To get the code for the previous example, [click here](https://github.com/ploomber/projects/tree/master/guides/logging/parametrized)."
   ]
  },
  {
   "cell_type": "markdown",
   "id": "e0184d0b",
   "metadata": {
    "papermill": {
     "duration": 0.053645,
     "end_time": "2021-10-28T01:25:40.963530",
     "exception": false,
     "start_time": "2021-10-28T01:25:40.909885",
     "status": "completed"
    },
    "tags": []
   },
   "source": [
    "## Implementation details\n",
    "\n",
    "To keep the tutorial short, we overlooked some technical details. However, if you want to customize logging, they are essential to know.\n",
    "\n",
    "### Function tasks and sub-processes\n",
    "\n",
    "By default, Ploomber runs function tasks in a child process. However, beginning on version 3.8, [Python 3.8 switched to use spawn instead of fork on macOS](https://docs.python.org/3/library/multiprocessing.html#contexts-and-start-methods), this implies that child processes *do not* inherit the logging configuration of their parents. That's why you must configure a logger inside the function's body:\n",
    "\n",
    "```python\n",
    "import logging\n",
    "\n",
    "\n",
    "def some_task(product):\n",
    "    # the following line is required on Python>=3.8 if using macOS\n",
    "    logging.basicConfig(level=logging.INFO)\n",
    "\n",
    "    logger = logging.getLogger(__name__)\n",
    "\n",
    "    # to log a message, call logger.info\n",
    "    logger.info('Some message')\n",
    "```\n",
    "\n",
    "### Scripts and notebooks\n",
    "\n",
    "Unlike function tasks, which can run in the same process as Ploomber or in a child process, scripts and notebooks execute independently. Hence, any logging configuration made in the main process is lost, and We have to configure a separate logger at the top of the script/notebook.\n",
    "\n",
    "### Parallel execution\n",
    "\n",
    "\n",
    "Logging is currently unavailable when using the `Parallel` executor.\n"
   ]
  }
 ],
 "metadata": {
  "interpreter": {
   "hash": "338b56b61393e07a5887256a83607fca4ebca30223005b3a4b1291d79c740448"
  },
  "kernelspec": {
   "display_name": "Python 3.8.13 (conda)",
   "language": "python",
   "name": "python3"
  },
  "language_info": {
   "codemirror_mode": {
    "name": "ipython",
    "version": 3
   },
   "file_extension": ".py",
   "mimetype": "text/x-python",
   "name": "python",
   "nbconvert_exporter": "python",
   "pygments_lexer": "ipython3",
   "version": "3.8.13"
  },
  "papermill": {
   "default_parameters": {},
   "duration": 64.165771,
   "end_time": "2021-10-28T01:25:41.441023",
   "environment_variables": {},
   "exception": null,
   "input_path": "guides/logging/_build/readme_preprocessed.ipynb",
   "output_path": "guides/logging/README.ipynb",
   "parameters": {},
   "start_time": "2021-10-28T01:24:37.275252",
   "version": "2.3.3"
  },
  "widgets": {
   "application/vnd.jupyter.widget-state+json": {
    "state": {
     "0397d42e629348a288a1047bcd58fdce": {
      "model_module": "@jupyter-widgets/controls",
      "model_module_version": "1.5.0",
      "model_name": "FloatProgressModel",
      "state": {
       "_dom_classes": [],
       "_model_module": "@jupyter-widgets/controls",
       "_model_module_version": "1.5.0",
       "_model_name": "FloatProgressModel",
       "_view_count": null,
       "_view_module": "@jupyter-widgets/controls",
       "_view_module_version": "1.5.0",
       "_view_name": "ProgressView",
       "bar_style": "success",
       "description": "",
       "description_tooltip": null,
       "layout": "IPY_MODEL_521a28af092b495486656b6762b63c0b",
       "max": 2,
       "min": 0,
       "orientation": "horizontal",
       "style": "IPY_MODEL_2528f50f1ade43b7a0dc7dfbde31c628",
       "value": 2
      }
     },
     "05c10e4d49c7454591aacd851e25950c": {
      "model_module": "@jupyter-widgets/controls",
      "model_module_version": "1.5.0",
      "model_name": "HTMLModel",
      "state": {
       "_dom_classes": [],
       "_model_module": "@jupyter-widgets/controls",
       "_model_module_version": "1.5.0",
       "_model_name": "HTMLModel",
       "_view_count": null,
       "_view_module": "@jupyter-widgets/controls",
       "_view_module_version": "1.5.0",
       "_view_name": "HTMLView",
       "description": "",
       "description_tooltip": null,
       "layout": "IPY_MODEL_8b235eab08564dd0bca68467da4ffc2e",
       "placeholder": "​",
       "style": "IPY_MODEL_45aca98ca21e48859363af45a4856ddd",
       "value": "Executing: 100%"
      }
     },
     "0a83f8de832447359b1cdf411f032893": {
      "model_module": "@jupyter-widgets/controls",
      "model_module_version": "1.5.0",
      "model_name": "HBoxModel",
      "state": {
       "_dom_classes": [],
       "_model_module": "@jupyter-widgets/controls",
       "_model_module_version": "1.5.0",
       "_model_name": "HBoxModel",
       "_view_count": null,
       "_view_module": "@jupyter-widgets/controls",
       "_view_module_version": "1.5.0",
       "_view_name": "HBoxView",
       "box_style": "",
       "children": [
        "IPY_MODEL_cb3f348cc75b475cb958156910b234a0",
        "IPY_MODEL_0397d42e629348a288a1047bcd58fdce",
        "IPY_MODEL_243b2e143a7647718579c32284e76d30"
       ],
       "layout": "IPY_MODEL_6820387ed545425c9b699015c847c612"
      }
     },
     "243b2e143a7647718579c32284e76d30": {
      "model_module": "@jupyter-widgets/controls",
      "model_module_version": "1.5.0",
      "model_name": "HTMLModel",
      "state": {
       "_dom_classes": [],
       "_model_module": "@jupyter-widgets/controls",
       "_model_module_version": "1.5.0",
       "_model_name": "HTMLModel",
       "_view_count": null,
       "_view_module": "@jupyter-widgets/controls",
       "_view_module_version": "1.5.0",
       "_view_name": "HTMLView",
       "description": "",
       "description_tooltip": null,
       "layout": "IPY_MODEL_afe657425469483bb1d6b847375aba03",
       "placeholder": "​",
       "style": "IPY_MODEL_edf2a01268fc4856b08aaadf837c0d05",
       "value": " 2/2 [00:10&lt;00:00,  5.49s/it]"
      }
     },
     "24a7bf9537184bafb4861db86dcb1034": {
      "model_module": "@jupyter-widgets/controls",
      "model_module_version": "1.5.0",
      "model_name": "HTMLModel",
      "state": {
       "_dom_classes": [],
       "_model_module": "@jupyter-widgets/controls",
       "_model_module_version": "1.5.0",
       "_model_name": "HTMLModel",
       "_view_count": null,
       "_view_module": "@jupyter-widgets/controls",
       "_view_module_version": "1.5.0",
       "_view_name": "HTMLView",
       "description": "",
       "description_tooltip": null,
       "layout": "IPY_MODEL_f34bac1269e54dffa5aff50cc3b473b0",
       "placeholder": "​",
       "style": "IPY_MODEL_dd789e4833f64d5c9eca17cc53ba0f93",
       "value": " 6/6 [00:05&lt;00:00,  1.11cell/s]"
      }
     },
     "2528f50f1ade43b7a0dc7dfbde31c628": {
      "model_module": "@jupyter-widgets/controls",
      "model_module_version": "1.5.0",
      "model_name": "ProgressStyleModel",
      "state": {
       "_model_module": "@jupyter-widgets/controls",
       "_model_module_version": "1.5.0",
       "_model_name": "ProgressStyleModel",
       "_view_count": null,
       "_view_module": "@jupyter-widgets/base",
       "_view_module_version": "1.2.0",
       "_view_name": "StyleView",
       "bar_color": null,
       "description_width": ""
      }
     },
     "3ffbf6aca4574326af508281db6fd3fa": {
      "model_module": "@jupyter-widgets/controls",
      "model_module_version": "1.5.0",
      "model_name": "HBoxModel",
      "state": {
       "_dom_classes": [],
       "_model_module": "@jupyter-widgets/controls",
       "_model_module_version": "1.5.0",
       "_model_name": "HBoxModel",
       "_view_count": null,
       "_view_module": "@jupyter-widgets/controls",
       "_view_module_version": "1.5.0",
       "_view_name": "HBoxView",
       "box_style": "",
       "children": [
        "IPY_MODEL_05c10e4d49c7454591aacd851e25950c",
        "IPY_MODEL_dedb18ff56854736812256a7f196fabb",
        "IPY_MODEL_24a7bf9537184bafb4861db86dcb1034"
       ],
       "layout": "IPY_MODEL_a981d57c88fb419195621d7eed24ba64"
      }
     },
     "45aca98ca21e48859363af45a4856ddd": {
      "model_module": "@jupyter-widgets/controls",
      "model_module_version": "1.5.0",
      "model_name": "DescriptionStyleModel",
      "state": {
       "_model_module": "@jupyter-widgets/controls",
       "_model_module_version": "1.5.0",
       "_model_name": "DescriptionStyleModel",
       "_view_count": null,
       "_view_module": "@jupyter-widgets/base",
       "_view_module_version": "1.2.0",
       "_view_name": "StyleView",
       "description_width": ""
      }
     },
     "521a28af092b495486656b6762b63c0b": {
      "model_module": "@jupyter-widgets/base",
      "model_module_version": "1.2.0",
      "model_name": "LayoutModel",
      "state": {
       "_model_module": "@jupyter-widgets/base",
       "_model_module_version": "1.2.0",
       "_model_name": "LayoutModel",
       "_view_count": null,
       "_view_module": "@jupyter-widgets/base",
       "_view_module_version": "1.2.0",
       "_view_name": "LayoutView",
       "align_content": null,
       "align_items": null,
       "align_self": null,
       "border": null,
       "bottom": null,
       "display": null,
       "flex": null,
       "flex_flow": null,
       "grid_area": null,
       "grid_auto_columns": null,
       "grid_auto_flow": null,
       "grid_auto_rows": null,
       "grid_column": null,
       "grid_gap": null,
       "grid_row": null,
       "grid_template_areas": null,
       "grid_template_columns": null,
       "grid_template_rows": null,
       "height": null,
       "justify_content": null,
       "justify_items": null,
       "left": null,
       "margin": null,
       "max_height": null,
       "max_width": null,
       "min_height": null,
       "min_width": null,
       "object_fit": null,
       "object_position": null,
       "order": null,
       "overflow": null,
       "overflow_x": null,
       "overflow_y": null,
       "padding": null,
       "right": null,
       "top": null,
       "visibility": null,
       "width": null
      }
     },
     "64ddfeff19f44be3a84a754fa48a560f": {
      "model_module": "@jupyter-widgets/controls",
      "model_module_version": "1.5.0",
      "model_name": "ProgressStyleModel",
      "state": {
       "_model_module": "@jupyter-widgets/controls",
       "_model_module_version": "1.5.0",
       "_model_name": "ProgressStyleModel",
       "_view_count": null,
       "_view_module": "@jupyter-widgets/base",
       "_view_module_version": "1.2.0",
       "_view_name": "StyleView",
       "bar_color": null,
       "description_width": ""
      }
     },
     "6820387ed545425c9b699015c847c612": {
      "model_module": "@jupyter-widgets/base",
      "model_module_version": "1.2.0",
      "model_name": "LayoutModel",
      "state": {
       "_model_module": "@jupyter-widgets/base",
       "_model_module_version": "1.2.0",
       "_model_name": "LayoutModel",
       "_view_count": null,
       "_view_module": "@jupyter-widgets/base",
       "_view_module_version": "1.2.0",
       "_view_name": "LayoutView",
       "align_content": null,
       "align_items": null,
       "align_self": null,
       "border": null,
       "bottom": null,
       "display": null,
       "flex": null,
       "flex_flow": null,
       "grid_area": null,
       "grid_auto_columns": null,
       "grid_auto_flow": null,
       "grid_auto_rows": null,
       "grid_column": null,
       "grid_gap": null,
       "grid_row": null,
       "grid_template_areas": null,
       "grid_template_columns": null,
       "grid_template_rows": null,
       "height": null,
       "justify_content": null,
       "justify_items": null,
       "left": null,
       "margin": null,
       "max_height": null,
       "max_width": null,
       "min_height": null,
       "min_width": null,
       "object_fit": null,
       "object_position": null,
       "order": null,
       "overflow": null,
       "overflow_x": null,
       "overflow_y": null,
       "padding": null,
       "right": null,
       "top": null,
       "visibility": null,
       "width": null
      }
     },
     "8b235eab08564dd0bca68467da4ffc2e": {
      "model_module": "@jupyter-widgets/base",
      "model_module_version": "1.2.0",
      "model_name": "LayoutModel",
      "state": {
       "_model_module": "@jupyter-widgets/base",
       "_model_module_version": "1.2.0",
       "_model_name": "LayoutModel",
       "_view_count": null,
       "_view_module": "@jupyter-widgets/base",
       "_view_module_version": "1.2.0",
       "_view_name": "LayoutView",
       "align_content": null,
       "align_items": null,
       "align_self": null,
       "border": null,
       "bottom": null,
       "display": null,
       "flex": null,
       "flex_flow": null,
       "grid_area": null,
       "grid_auto_columns": null,
       "grid_auto_flow": null,
       "grid_auto_rows": null,
       "grid_column": null,
       "grid_gap": null,
       "grid_row": null,
       "grid_template_areas": null,
       "grid_template_columns": null,
       "grid_template_rows": null,
       "height": null,
       "justify_content": null,
       "justify_items": null,
       "left": null,
       "margin": null,
       "max_height": null,
       "max_width": null,
       "min_height": null,
       "min_width": null,
       "object_fit": null,
       "object_position": null,
       "order": null,
       "overflow": null,
       "overflow_x": null,
       "overflow_y": null,
       "padding": null,
       "right": null,
       "top": null,
       "visibility": null,
       "width": null
      }
     },
     "a18ecb42871b4719b7f2a10f61d57443": {
      "model_module": "@jupyter-widgets/controls",
      "model_module_version": "1.5.0",
      "model_name": "DescriptionStyleModel",
      "state": {
       "_model_module": "@jupyter-widgets/controls",
       "_model_module_version": "1.5.0",
       "_model_name": "DescriptionStyleModel",
       "_view_count": null,
       "_view_module": "@jupyter-widgets/base",
       "_view_module_version": "1.2.0",
       "_view_name": "StyleView",
       "description_width": ""
      }
     },
     "a981d57c88fb419195621d7eed24ba64": {
      "model_module": "@jupyter-widgets/base",
      "model_module_version": "1.2.0",
      "model_name": "LayoutModel",
      "state": {
       "_model_module": "@jupyter-widgets/base",
       "_model_module_version": "1.2.0",
       "_model_name": "LayoutModel",
       "_view_count": null,
       "_view_module": "@jupyter-widgets/base",
       "_view_module_version": "1.2.0",
       "_view_name": "LayoutView",
       "align_content": null,
       "align_items": null,
       "align_self": null,
       "border": null,
       "bottom": null,
       "display": null,
       "flex": null,
       "flex_flow": null,
       "grid_area": null,
       "grid_auto_columns": null,
       "grid_auto_flow": null,
       "grid_auto_rows": null,
       "grid_column": null,
       "grid_gap": null,
       "grid_row": null,
       "grid_template_areas": null,
       "grid_template_columns": null,
       "grid_template_rows": null,
       "height": null,
       "justify_content": null,
       "justify_items": null,
       "left": null,
       "margin": null,
       "max_height": null,
       "max_width": null,
       "min_height": null,
       "min_width": null,
       "object_fit": null,
       "object_position": null,
       "order": null,
       "overflow": null,
       "overflow_x": null,
       "overflow_y": null,
       "padding": null,
       "right": null,
       "top": null,
       "visibility": null,
       "width": null
      }
     },
     "afe657425469483bb1d6b847375aba03": {
      "model_module": "@jupyter-widgets/base",
      "model_module_version": "1.2.0",
      "model_name": "LayoutModel",
      "state": {
       "_model_module": "@jupyter-widgets/base",
       "_model_module_version": "1.2.0",
       "_model_name": "LayoutModel",
       "_view_count": null,
       "_view_module": "@jupyter-widgets/base",
       "_view_module_version": "1.2.0",
       "_view_name": "LayoutView",
       "align_content": null,
       "align_items": null,
       "align_self": null,
       "border": null,
       "bottom": null,
       "display": null,
       "flex": null,
       "flex_flow": null,
       "grid_area": null,
       "grid_auto_columns": null,
       "grid_auto_flow": null,
       "grid_auto_rows": null,
       "grid_column": null,
       "grid_gap": null,
       "grid_row": null,
       "grid_template_areas": null,
       "grid_template_columns": null,
       "grid_template_rows": null,
       "height": null,
       "justify_content": null,
       "justify_items": null,
       "left": null,
       "margin": null,
       "max_height": null,
       "max_width": null,
       "min_height": null,
       "min_width": null,
       "object_fit": null,
       "object_position": null,
       "order": null,
       "overflow": null,
       "overflow_x": null,
       "overflow_y": null,
       "padding": null,
       "right": null,
       "top": null,
       "visibility": null,
       "width": null
      }
     },
     "cb3f348cc75b475cb958156910b234a0": {
      "model_module": "@jupyter-widgets/controls",
      "model_module_version": "1.5.0",
      "model_name": "HTMLModel",
      "state": {
       "_dom_classes": [],
       "_model_module": "@jupyter-widgets/controls",
       "_model_module_version": "1.5.0",
       "_model_name": "HTMLModel",
       "_view_count": null,
       "_view_module": "@jupyter-widgets/controls",
       "_view_module_version": "1.5.0",
       "_view_name": "HTMLView",
       "description": "",
       "description_tooltip": null,
       "layout": "IPY_MODEL_e37d7d28da3649119ff279c463cdf072",
       "placeholder": "​",
       "style": "IPY_MODEL_a18ecb42871b4719b7f2a10f61d57443",
       "value": "Building task &#x27;function&#x27;: 100%"
      }
     },
     "dd789e4833f64d5c9eca17cc53ba0f93": {
      "model_module": "@jupyter-widgets/controls",
      "model_module_version": "1.5.0",
      "model_name": "DescriptionStyleModel",
      "state": {
       "_model_module": "@jupyter-widgets/controls",
       "_model_module_version": "1.5.0",
       "_model_name": "DescriptionStyleModel",
       "_view_count": null,
       "_view_module": "@jupyter-widgets/base",
       "_view_module_version": "1.2.0",
       "_view_name": "StyleView",
       "description_width": ""
      }
     },
     "dedb18ff56854736812256a7f196fabb": {
      "model_module": "@jupyter-widgets/controls",
      "model_module_version": "1.5.0",
      "model_name": "FloatProgressModel",
      "state": {
       "_dom_classes": [],
       "_model_module": "@jupyter-widgets/controls",
       "_model_module_version": "1.5.0",
       "_model_name": "FloatProgressModel",
       "_view_count": null,
       "_view_module": "@jupyter-widgets/controls",
       "_view_module_version": "1.5.0",
       "_view_name": "ProgressView",
       "bar_style": "success",
       "description": "",
       "description_tooltip": null,
       "layout": "IPY_MODEL_ffb20c0485c44b41bbefd9657fa47b19",
       "max": 6,
       "min": 0,
       "orientation": "horizontal",
       "style": "IPY_MODEL_64ddfeff19f44be3a84a754fa48a560f",
       "value": 6
      }
     },
     "e37d7d28da3649119ff279c463cdf072": {
      "model_module": "@jupyter-widgets/base",
      "model_module_version": "1.2.0",
      "model_name": "LayoutModel",
      "state": {
       "_model_module": "@jupyter-widgets/base",
       "_model_module_version": "1.2.0",
       "_model_name": "LayoutModel",
       "_view_count": null,
       "_view_module": "@jupyter-widgets/base",
       "_view_module_version": "1.2.0",
       "_view_name": "LayoutView",
       "align_content": null,
       "align_items": null,
       "align_self": null,
       "border": null,
       "bottom": null,
       "display": null,
       "flex": null,
       "flex_flow": null,
       "grid_area": null,
       "grid_auto_columns": null,
       "grid_auto_flow": null,
       "grid_auto_rows": null,
       "grid_column": null,
       "grid_gap": null,
       "grid_row": null,
       "grid_template_areas": null,
       "grid_template_columns": null,
       "grid_template_rows": null,
       "height": null,
       "justify_content": null,
       "justify_items": null,
       "left": null,
       "margin": null,
       "max_height": null,
       "max_width": null,
       "min_height": null,
       "min_width": null,
       "object_fit": null,
       "object_position": null,
       "order": null,
       "overflow": null,
       "overflow_x": null,
       "overflow_y": null,
       "padding": null,
       "right": null,
       "top": null,
       "visibility": null,
       "width": null
      }
     },
     "edf2a01268fc4856b08aaadf837c0d05": {
      "model_module": "@jupyter-widgets/controls",
      "model_module_version": "1.5.0",
      "model_name": "DescriptionStyleModel",
      "state": {
       "_model_module": "@jupyter-widgets/controls",
       "_model_module_version": "1.5.0",
       "_model_name": "DescriptionStyleModel",
       "_view_count": null,
       "_view_module": "@jupyter-widgets/base",
       "_view_module_version": "1.2.0",
       "_view_name": "StyleView",
       "description_width": ""
      }
     },
     "f34bac1269e54dffa5aff50cc3b473b0": {
      "model_module": "@jupyter-widgets/base",
      "model_module_version": "1.2.0",
      "model_name": "LayoutModel",
      "state": {
       "_model_module": "@jupyter-widgets/base",
       "_model_module_version": "1.2.0",
       "_model_name": "LayoutModel",
       "_view_count": null,
       "_view_module": "@jupyter-widgets/base",
       "_view_module_version": "1.2.0",
       "_view_name": "LayoutView",
       "align_content": null,
       "align_items": null,
       "align_self": null,
       "border": null,
       "bottom": null,
       "display": null,
       "flex": null,
       "flex_flow": null,
       "grid_area": null,
       "grid_auto_columns": null,
       "grid_auto_flow": null,
       "grid_auto_rows": null,
       "grid_column": null,
       "grid_gap": null,
       "grid_row": null,
       "grid_template_areas": null,
       "grid_template_columns": null,
       "grid_template_rows": null,
       "height": null,
       "justify_content": null,
       "justify_items": null,
       "left": null,
       "margin": null,
       "max_height": null,
       "max_width": null,
       "min_height": null,
       "min_width": null,
       "object_fit": null,
       "object_position": null,
       "order": null,
       "overflow": null,
       "overflow_x": null,
       "overflow_y": null,
       "padding": null,
       "right": null,
       "top": null,
       "visibility": null,
       "width": null
      }
     },
     "ffb20c0485c44b41bbefd9657fa47b19": {
      "model_module": "@jupyter-widgets/base",
      "model_module_version": "1.2.0",
      "model_name": "LayoutModel",
      "state": {
       "_model_module": "@jupyter-widgets/base",
       "_model_module_version": "1.2.0",
       "_model_name": "LayoutModel",
       "_view_count": null,
       "_view_module": "@jupyter-widgets/base",
       "_view_module_version": "1.2.0",
       "_view_name": "LayoutView",
       "align_content": null,
       "align_items": null,
       "align_self": null,
       "border": null,
       "bottom": null,
       "display": null,
       "flex": null,
       "flex_flow": null,
       "grid_area": null,
       "grid_auto_columns": null,
       "grid_auto_flow": null,
       "grid_auto_rows": null,
       "grid_column": null,
       "grid_gap": null,
       "grid_row": null,
       "grid_template_areas": null,
       "grid_template_columns": null,
       "grid_template_rows": null,
       "height": null,
       "justify_content": null,
       "justify_items": null,
       "left": null,
       "margin": null,
       "max_height": null,
       "max_width": null,
       "min_height": null,
       "min_width": null,
       "object_fit": null,
       "object_position": null,
       "order": null,
       "overflow": null,
       "overflow_x": null,
       "overflow_y": null,
       "padding": null,
       "right": null,
       "top": null,
       "visibility": null,
       "width": null
      }
     }
    },
    "version_major": 2,
    "version_minor": 0
   }
  }
 },
 "nbformat": 4,
 "nbformat_minor": 5
}
