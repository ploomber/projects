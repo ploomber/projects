{
 "cells": [
  {
   "cell_type": "markdown",
   "id": "29da2909",
   "metadata": {
    "papermill": {
     "duration": 0.036144,
     "end_time": "2021-10-11T21:25:32.551940",
     "exception": false,
     "start_time": "2021-10-11T21:25:32.515796",
     "status": "completed"
    },
    "tags": []
   },
   "source": [
    "\n",
    "*Note:* You can run this example locally (`ploomber examples -n debugging`) or in Binder (hosted JupyterLab ).\n",
    "\n",
    "[![binder-logo](https://mybinder.org/badge_logo.svg)](https://mybinder.org/v2/gh/ploomber/binder-env/main?urlpath=git-pull%3Frepo%3Dhttps%253A%252F%252Fgithub.com%252Fploomber%252Fprojects%26urlpath%3Dlab%252Ftree%252Fprojects%252Fdebugging%252FREADME.ipynb%26branch%3Dmaster)\n"
   ]
  },
  {
   "cell_type": "markdown",
   "id": "a5514537",
   "metadata": {
    "papermill": {
     "duration": 0.03679,
     "end_time": "2021-10-11T21:25:32.624593",
     "exception": false,
     "start_time": "2021-10-11T21:25:32.587803",
     "status": "completed"
    },
    "tags": []
   },
   "source": [
    "# Debugging\n",
    "\n",
    "*This is an in-depth tutorial, for a quick reference,* [click here](https://ploomber.readthedocs.io/en/latest/cookbook/debugging.html).\n",
    "\n",
    "## Why debugging pipelines is hard\n",
    "\n",
    "Debugging data pipelines is hard because there are three factors involved:\n",
    "\n",
    "1. Our code\n",
    "2. Parameters\n",
    "3. Input data\n",
    "\n",
    "In simple cases, pipeline error messages might give us enough information to fix the\n",
    "bug, but in other (which happen more often), we have to inspect the\n",
    "program while running to understand what's going on: see variable values,\n",
    "run a few diagnostic commands, etc.\n",
    "\n",
    "Inspecting our program requires us to re-execute it under the same conditions\n",
    "to replicate the crash. Replicating conditions means having the same code, parameters\n",
    "and input data.\n",
    "\n",
    "Getting the same code is easy if we know the version (i.e., git hash) running\n",
    "during the crash. Replicating parameters involves more work; one way to approach\n",
    "this is to ensure we always log parameters at the start of every pipeline execution.\n",
    "\n",
    "\n",
    "Input data is more complex than it sounds. When our project is not properly assembled as a\n",
    "data pipeline, we might run into issues if we use an incorrect file as input\n",
    "(e.g. reading `/data/some-file.csv` instead of `/data/file.csv`). That's why Ploomber\n",
    "puts a lot of emphasis on declaring products once and automatically propagating them\n",
    "to any downstream consumers, to ensure that there is a single source of truth and we\n",
    "always read if the appropriate file or SQL table from the upstream task.\n",
    "\n",
    "As you can see, replicating error conditions accurately involves some work from your\n",
    "end: 1) recording the project version and 2) input parameters (on every run) and 3) know\n",
    "which input data led to the crash. Once you have these three pieces of information,\n",
    "Ploomber will provide you tools to catch those sneaky bugs.\n",
    "\n",
    "\n",
    "## Debugger basics\n",
    "\n",
    "A debugger is a program that helps inspect another program for debugging. Python\n",
    "comes with a debugger called\n",
    "[pdb](https://docs.python.org/3/library/pdb.html).\n",
    "\n",
    "There are a few approaches for debugging programs. One approach is line-by-line\n",
    "debugging, which starts our program in *debug* mode so we can easily inspect\n",
    "variables, move to the next line, etc.\n",
    "\n",
    "One important concept to know when debugging is *stack frame*. Simply\n",
    "speaking, stack frames represent the state of our code at a given level.\n",
    "When you write a non-trivial function, it will depend on other\n",
    "functions to work (yours or from third party packages). Each function has its\n",
    "own stack frame which defines the variables that are available to it.\n",
    "\n",
    "When a program fails, it can do so at different levels (i.e. a\n",
    "different stack frame). Let's see a simple example:\n",
    "\n",
    "```python\n",
    "def reciprocal(x):\n",
    "    return 1/x\n",
    "\n",
    "def reciprocal_and_multiply(x, y):\n",
    "    return reciprocal(x) * y\n",
    "```\n",
    "\n",
    "There are two places where things can go wrong in the program\n",
    "above: if we pass `x=0`, the `reciprocal` operation will\n",
    "fail. If we pass `y=None`, the program fails, but it\n",
    "will do so in the `reciprocal_and_multiply` function. For this trivial example,\n",
    "it's easy to see at which level the code breaks but in a real program the source\n",
    "code alone is usually not enough to know. Moving between stack frames can\n",
    "help you find out where the error is coming from."
   ]
  },
  {
   "cell_type": "markdown",
   "id": "29382288",
   "metadata": {
    "papermill": {
     "duration": 0.033996,
     "end_time": "2021-10-11T21:25:32.692882",
     "exception": false,
     "start_time": "2021-10-11T21:25:32.658886",
     "status": "completed"
    },
    "tags": []
   },
   "source": [
    "## Tales of a buggy pipeline\n",
    "\n",
    "Let's take a look at our example pipeline declaration:"
   ]
  },
  {
   "cell_type": "code",
   "execution_count": 1,
   "id": "23c01966",
   "metadata": {
    "execution": {
     "iopub.execute_input": "2021-10-11T21:25:32.770295Z",
     "iopub.status.busy": "2021-10-11T21:25:32.769632Z",
     "iopub.status.idle": "2021-10-11T21:25:34.427905Z",
     "shell.execute_reply": "2021-10-11T21:25:34.428448Z"
    },
    "papermill": {
     "duration": 1.701326,
     "end_time": "2021-10-11T21:25:34.428756",
     "exception": false,
     "start_time": "2021-10-11T21:25:32.727430",
     "status": "completed"
    },
    "tags": []
   },
   "outputs": [],
   "source": [
    "from ploomberutils import display_file"
   ]
  },
  {
   "cell_type": "code",
   "execution_count": 2,
   "id": "640fba61",
   "metadata": {
    "execution": {
     "iopub.execute_input": "2021-10-11T21:25:34.511423Z",
     "iopub.status.busy": "2021-10-11T21:25:34.510626Z",
     "iopub.status.idle": "2021-10-11T21:25:34.521271Z",
     "shell.execute_reply": "2021-10-11T21:25:34.521779Z"
    },
    "papermill": {
     "duration": 0.056474,
     "end_time": "2021-10-11T21:25:34.522058",
     "exception": false,
     "start_time": "2021-10-11T21:25:34.465584",
     "status": "completed"
    },
    "tags": []
   },
   "outputs": [
    {
     "data": {
      "text/markdown": [
       "\n",
       "```yaml\n",
       "tasks:\n",
       "  - source: load.py\n",
       "    product:\n",
       "      nb: output/raw.ipynb\n",
       "      train: output/train.csv\n",
       "      test: output/test.csv\n",
       "\n",
       "  - source: preprocess.py\n",
       "    product: output/clean.ipynb\n",
       "```\n"
      ],
      "text/plain": [
       "<IPython.core.display.Markdown object>"
      ]
     },
     "metadata": {},
     "output_type": "display_data"
    }
   ],
   "source": [
    "display_file('pipeline.yaml')"
   ]
  },
  {
   "cell_type": "markdown",
   "id": "20472f24",
   "metadata": {
    "papermill": {
     "duration": 0.037699,
     "end_time": "2021-10-11T21:25:34.595304",
     "exception": false,
     "start_time": "2021-10-11T21:25:34.557605",
     "status": "completed"
    },
    "tags": []
   },
   "source": [
    "Very simple, two tasks. One loads the data and the next one preprocess it.\n",
    "\n",
    "Let's run it (don't be scared by the long error message, scroll until the end to see the explanation):"
   ]
  },
  {
   "cell_type": "code",
   "execution_count": 3,
   "id": "15260e17",
   "metadata": {
    "execution": {
     "iopub.execute_input": "2021-10-11T21:25:34.678008Z",
     "iopub.status.busy": "2021-10-11T21:25:34.673779Z",
     "iopub.status.idle": "2021-10-11T21:25:43.277591Z",
     "shell.execute_reply": "2021-10-11T21:25:43.278346Z"
    },
    "papermill": {
     "duration": 8.646791,
     "end_time": "2021-10-11T21:25:43.278573",
     "exception": false,
     "start_time": "2021-10-11T21:25:34.631782",
     "status": "completed"
    },
    "tags": []
   },
   "outputs": [
    {
     "name": "stderr",
     "output_type": "stream",
     "text": [
      "Building task 'load':   0%|          | 0/2 [00:00<?, ?it/s]\n",
      "Executing:   0%|          | 0/5 [00:00<?, ?cell/s]\u001b[A\n",
      "Executing:  20%|██        | 1/5 [00:01<00:06,  1.75s/cell]\u001b[A\n",
      "Executing: 100%|██████████| 5/5 [00:02<00:00,  2.38cell/s]\n",
      "Building task 'preprocess':  50%|█████     | 1/2 [00:02<00:02,  2.15s/it]\n",
      "Executing:   0%|          | 0/6 [00:00<?, ?cell/s]\u001b[A\n",
      "Executing:  17%|█▋        | 1/6 [00:02<00:11,  2.25s/cell]\u001b[A\n",
      "Executing:  67%|██████▋   | 4/6 [00:02<00:00,  2.20cell/s]\u001b[A\n",
      "Executing: 100%|██████████| 6/6 [00:02<00:00,  2.07cell/s]\n",
      "Building task 'preprocess': 100%|██████████| 2/2 [00:05<00:00,  2.55s/it]\n",
      "Traceback (most recent call last):\n",
      "  File \"/Users/Edu/dev/ploomber/src/ploomber/cli/io.py\", line 20, in wrapper\n",
      "    fn(**kwargs)\n",
      "  File \"/Users/Edu/dev/ploomber/src/ploomber/cli/build.py\", line 51, in main\n",
      "    report = dag.build(force=args.force, debug=args.debug)\n",
      "  File \"/Users/Edu/dev/ploomber/src/ploomber/dag/dag.py\", line 482, in build\n",
      "    report = callable_()\n",
      "  File \"/Users/Edu/dev/ploomber/src/ploomber/dag/dag.py\", line 581, in _build\n",
      "    raise build_exception\n",
      "  File \"/Users/Edu/dev/ploomber/src/ploomber/dag/dag.py\", line 513, in _build\n",
      "    task_reports = self._executor(dag=self,\n",
      "  File \"/Users/Edu/dev/ploomber/src/ploomber/executors/serial.py\", line 138, in __call__\n",
      "    raise DAGBuildError(str(exceptions_all))\n",
      "ploomber.exceptions.DAGBuildError: \n",
      "=============================== DAG build failed ===============================\n",
      "----------- NotebookRunner: preprocess -> File('output/clean.ipynb') -----------\n",
      "----------- /Users/Edu/dev/projects-ploomber/debugging/preprocess.py -----------\n",
      "Traceback (most recent call last):\n",
      "  File \"/Users/Edu/dev/ploomber/src/ploomber/tasks/notebook.py\", line 520, in run\n",
      "    pm.execute_notebook(str(tmp), str(path_to_out_ipynb),\n",
      "  File \"/Users/Edu/miniconda3/envs/projects/lib/python3.9/site-packages/papermill/execute.py\", line 122, in execute_notebook\n",
      "    raise_for_execution_errors(nb, output_path)\n",
      "  File \"/Users/Edu/miniconda3/envs/projects/lib/python3.9/site-packages/papermill/execute.py\", line 234, in raise_for_execution_errors\n",
      "    raise error\n",
      "papermill.exceptions.PapermillExecutionError: \n",
      "---------------------------------------------------------------------------\n",
      "Exception encountered at \"In [6]\":\n",
      "---------------------------------------------------------------------------\n",
      "ValueError                                Traceback (most recent call last)\n",
      "/var/folders/3h/_lvh_w_x5g30rrjzb_xnn2j80000gq/T/ipykernel_83349/1567702903.py in <module>\n",
      "----> 1 my_preprocessing_function(X_train, X_test)\n",
      "\n",
      "/var/folders/3h/_lvh_w_x5g30rrjzb_xnn2j80000gq/T/ipykernel_83349/2058553394.py in my_preprocessing_function(X_train, X_test)\n",
      "      2     encoder = OneHotEncoder()\n",
      "      3     X_train_t = encoder.fit_transform(X_train)\n",
      "----> 4     X_test_t = encoder.transform(X_test)\n",
      "      5     return X_train_t, X_test_t\n",
      "\n",
      "~/miniconda3/envs/projects/lib/python3.9/site-packages/sklearn/preprocessing/_encoders.py in transform(self, X)\n",
      "    507         # validation of X happens in _check_X called by _transform\n",
      "    508         warn_on_unknown = self.handle_unknown == \"ignore\" and self.drop is not None\n",
      "--> 509         X_int, X_mask = self._transform(\n",
      "    510             X,\n",
      "    511             handle_unknown=self.handle_unknown,\n",
      "\n",
      "~/miniconda3/envs/projects/lib/python3.9/site-packages/sklearn/preprocessing/_encoders.py in _transform(self, X, handle_unknown, force_all_finite, warn_on_unknown)\n",
      "    140                         \" during transform\".format(diff, i)\n",
      "    141                     )\n",
      "--> 142                     raise ValueError(msg)\n",
      "    143                 else:\n",
      "    144                     if warn_on_unknown:\n",
      "\n",
      "ValueError: Found unknown categories ['d'] in column 0 during transform\n",
      "\n",
      "\n",
      "The above exception was the direct cause of the following exception:\n",
      "\n",
      "Traceback (most recent call last):\n",
      "  File \"/Users/Edu/dev/ploomber/src/ploomber/tasks/abc.py\", line 562, in _build\n",
      "    res = self._run()\n",
      "  File \"/Users/Edu/dev/ploomber/src/ploomber/tasks/abc.py\", line 669, in _run\n",
      "    self.run()\n",
      "  File \"/Users/Edu/dev/ploomber/src/ploomber/tasks/notebook.py\", line 523, in run\n",
      "    raise TaskBuildError('An error occurred when calling'\n",
      "ploomber.exceptions.TaskBuildError: An error occurred when calling papermil.execute_notebook, partially executed notebook with traceback available at /Users/Edu/dev/projects-ploomber/debugging/output/clean.ipynb\n",
      "\n",
      "The above exception was the direct cause of the following exception:\n",
      "\n",
      "Traceback (most recent call last):\n",
      "  File \"/Users/Edu/dev/ploomber/src/ploomber/executors/serial.py\", line 186, in catch_exceptions\n",
      "    fn()\n",
      "  File \"/Users/Edu/dev/ploomber/src/ploomber/executors/serial.py\", line 159, in __call__\n",
      "    return self.fn(**self.kwargs)\n",
      "  File \"/Users/Edu/dev/ploomber/src/ploomber/executors/serial.py\", line 166, in catch_warnings\n",
      "    result = fn()\n",
      "  File \"/Users/Edu/dev/ploomber/src/ploomber/executors/serial.py\", line 159, in __call__\n",
      "    return self.fn(**self.kwargs)\n",
      "  File \"/Users/Edu/dev/ploomber/src/ploomber/executors/serial.py\", line 235, in build_in_subprocess\n",
      "    report, meta = task._build(**build_kwargs)\n",
      "  File \"/Users/Edu/dev/ploomber/src/ploomber/tasks/abc.py\", line 581, in _build\n",
      "    raise TaskBuildError(msg) from e\n",
      "ploomber.exceptions.TaskBuildError: Error building task \"preprocess\"\n",
      "=============================== Summary (1 task) ===============================\n",
      "NotebookRunner: preprocess -> File('output/clean.ipynb')\n",
      "=============================== DAG build failed ===============================\n",
      "\n",
      "\n"
     ]
    }
   ],
   "source": [
    "%%sh --no-raise-error\n",
    "ploomber build --force"
   ]
  },
  {
   "cell_type": "markdown",
   "id": "d906b62b",
   "metadata": {
    "papermill": {
     "duration": 0.038784,
     "end_time": "2021-10-11T21:25:43.358782",
     "exception": false,
     "start_time": "2021-10-11T21:25:43.319998",
     "status": "completed"
    },
    "tags": []
   },
   "source": [
    "If you followed the previous tutorial, you are already familiar with Ploomber's structured error messages. So let's see the messages to understand what's going on.\n",
    "\n",
    "The summary tells us the following\n",
    "\n",
    "```\n",
    "=============================== Summary (1 task) ===============================\n",
    "NotebookRunner: preprocess -> File('output/clean.ipynb')\n",
    "=============================== DAG build failed ===============================\n",
    "```\n",
    "\n",
    "The `preprocess` task failed. Go up a few lines:\n",
    "\n",
    "```\n",
    "ploomber.exceptions.TaskBuildError: An error occurred when calling papermil.execute_notebook, partially executed notebook with traceback available at ...\n",
    "```\n",
    "\n",
    "That's useful, it tells us where we can find the partially executed notebook in case we want to take a look at it. A few lines up:\n",
    "\n",
    "```\n",
    "ValueError: Found unknown categories ['d'] in column 1 during transform\n",
    "```\n",
    "\n",
    "That's the exact line that failed, if you take a look at the original error traceback, you'll see that the actual line that raised the exception comes from the scikit-learn library (`_encoders.py` file):\n",
    "\n",
    "```\n",
    "~/miniconda3/envs/ploomber/lib/python3.6/site-packages/sklearn/preprocessing/_encoders.py in _transform(self, X, handle_unknown)\n",
    "    122                     msg = (\"Found unknown categories {0} in column {1}\"\n",
    "    123                            \" during transform\".format(diff, i))\n",
    "--> 124                     raise ValueError(msg)\n",
    "    125                 else:\n",
    "    126                     # Set the problematic rows to an acceptable value and\n",
    "\n",
    "ValueError: Found unknown categories ['d'] in column 0 during transform\n",
    "```\n",
    "\n",
    "\n",
    "The error message provides us a lot of information: Our pipeline failed while executing task `preprocess`. Somewhere in our task's code we ran something that made scikit-learn crash.\n",
    "\n",
    "Let's take a look at the failing task's source code:"
   ]
  },
  {
   "cell_type": "code",
   "execution_count": 4,
   "id": "1d77ba12",
   "metadata": {
    "execution": {
     "iopub.execute_input": "2021-10-11T21:25:43.438592Z",
     "iopub.status.busy": "2021-10-11T21:25:43.437777Z",
     "iopub.status.idle": "2021-10-11T21:25:43.440755Z",
     "shell.execute_reply": "2021-10-11T21:25:43.441380Z"
    },
    "papermill": {
     "duration": 0.046058,
     "end_time": "2021-10-11T21:25:43.441666",
     "exception": false,
     "start_time": "2021-10-11T21:25:43.395608",
     "status": "completed"
    },
    "tags": []
   },
   "outputs": [
    {
     "data": {
      "text/markdown": [
       "\n",
       "```py\n",
       "import pandas as pd\n",
       "from sklearn.preprocessing import OneHotEncoder\n",
       "\n",
       "# + tags=[\"parameters\"]\n",
       "upstream = ['load']\n",
       "product = None\n",
       "\n",
       "# -\n",
       "\n",
       "\n",
       "# +\n",
       "def my_preprocessing_function(X_train, X_test):\n",
       "    encoder = OneHotEncoder()\n",
       "    X_train_t = encoder.fit_transform(X_train)\n",
       "    X_test_t = encoder.transform(X_test)\n",
       "    return X_train_t, X_test_t\n",
       "\n",
       "\n",
       "# +\n",
       "X_train = pd.read_csv(upstream['load']['train'])\n",
       "X_test = pd.read_csv(upstream['load']['test'])\n",
       "\n",
       "# +\n",
       "my_preprocessing_function(X_train, X_test)\n",
       "```\n"
      ],
      "text/plain": [
       "<IPython.core.display.Markdown object>"
      ]
     },
     "metadata": {},
     "output_type": "display_data"
    }
   ],
   "source": [
    "display_file('preprocess.py')"
   ]
  },
  {
   "cell_type": "markdown",
   "id": "6a4b7672",
   "metadata": {
    "papermill": {
     "duration": 0.042965,
     "end_time": "2021-10-11T21:25:43.523141",
     "exception": false,
     "start_time": "2021-10-11T21:25:43.480176",
     "status": "completed"
    },
    "tags": []
   },
   "source": [
    "Our `preprocess.py` script is using scikit-learn's `OneHotEncoder` to transform variables. The error message offers some information but not enough to fix the issue (*we don't have a column named \"0\"!*). There must be something going on internally.\n",
    "\n",
    "This is a good use case for Ploomber's debugging capabilities."
   ]
  },
  {
   "cell_type": "markdown",
   "id": "5d989bf2",
   "metadata": {
    "papermill": {
     "duration": 0.038027,
     "end_time": "2021-10-11T21:25:43.598794",
     "exception": false,
     "start_time": "2021-10-11T21:25:43.560767",
     "status": "completed"
    },
    "tags": []
   },
   "source": [
    "## Starting line-by-line debugging sessions\n",
    "\n",
    "To start a debugging session you first have to start an interactive session. To do so, run the following command in the terminal:\n",
    "\n",
    "```console\n",
    "ploomber interact\n",
    "```\n",
    "\n",
    "When it finishes setting things up, your pipeline will be available in the `dag` variable. This is a standard Python session, you can execute any Python code you want.\n",
    "\n",
    "We already know that the error is happening in the `preprocess` task, you can start a line-by-line debugging session with the following command:\n",
    "\n",
    "```pycon\n",
    ">>> dag['preprocess'].debug()\n",
    "```\n",
    "\n",
    "Here's a replay of my debugging session (with comments):\n",
    "\n",
    "```\n",
    "# COMMENT: I entered the command \"next\" a few times until I reached the failing line\n",
    "ipdb>\n",
    "> /var/folders/3h/_lvh_w_x5g30rrjzb_xnn2j80000gq/T/tmpbatitar6.py(45)<module>()\n",
    "     41 X_train = pd.read_csv(upstream['load']['train'])\n",
    "     42 X_test = pd.read_csv(upstream['load']['test'])\n",
    "     43\n",
    "     44 # + tags=[]\n",
    "# COMMENT: \"--->\" means that line will be executed when I send the \"next\" command\n",
    "---> 45 my_preprocessing_function(X_train, X_test)\n",
    "\n",
    "ipdb>\n",
    "# COMMENT: Same error message that we got before!\n",
    "ValueError: Found unknown categories ['d'] in column 0 during transform\n",
    "> /var/folders/3h/_lvh_w_x5g30rrjzb_xnn2j80000gq/T/tmpbatitar6.py(45)<module>()\n",
    "     41 X_train = pd.read_csv(upstream['load']['train'])\n",
    "     42 X_test = pd.read_csv(upstream['load']['test'])\n",
    "     43\n",
    "     44 # + tags=[]\n",
    "---> 45 my_preprocessing_function(X_train, X_test)\n",
    "# COMMENT: I entered the \"down\" command to move one stack frame down (inside my_preprocessing_function)\n",
    "ipdb> down\n",
    "> /var/folders/3h/_lvh_w_x5g30rrjzb_xnn2j80000gq/T/tmpbatitar6.py(36)my_preprocessing_function()\n",
    "     34     encoder = OneHotEncoder()\n",
    "     35     X_train_t = encoder.fit_transform(X_train)\n",
    "# COMMENT: The line that raised the exception\n",
    "---> 36     X_test_t = encoder.transform(X_test)\n",
    "     37     return X_train_t, X_test_t\n",
    "     38\n",
    "\n",
    "# COMMENT: Print X_train and X_test\n",
    "ipdb> X_train\n",
    "  cat\n",
    "0   a\n",
    "1   b\n",
    "2   c\n",
    "ipdb> X_test\n",
    "  cat\n",
    "0   a\n",
    "1   b\n",
    "2   d\n",
    "# COMMENT: Exit debugger with the \"quit\" command\n",
    "ipdb> quit\n",
    "```\n",
    "\n",
    "Ah-ha! The encoder is fitted with a column with values `a`, `b` and `c` but then applied to a testing set with value `d`. That's why it's breaking.\n",
    "\n",
    "This is an example of how your code could be doing everything right, but your data is incompatible. How you fix this is up to us. The important thing is that we know why things are failing."
   ]
  },
  {
   "cell_type": "markdown",
   "id": "093c685e",
   "metadata": {
    "papermill": {
     "duration": 0.039327,
     "end_time": "2021-10-11T21:25:43.676379",
     "exception": false,
     "start_time": "2021-10-11T21:25:43.637052",
     "status": "completed"
    },
    "tags": []
   },
   "source": [
    "## Post-mortem debugging\n",
    "\n",
    "Line-by-line debugging puts us at the beginning of the script and then we move as we want. An alternative approach is to let the program run and start the debugging session as soon as it finds an exception, this is called *post-mortem* debugging. Starting a post-mortem session is similar: start and interactive session but then pass `kind='pm'` (`pm` stands for post-mortem) as argument to the `.debug()` function:\n",
    "\n",
    "```pycon\n",
    ">>> dag['preprocess'].debug(kind='pm')\n",
    "```\n",
    "\n",
    "Here's the (commented) replay of my post-mortem debugging session:\n",
    "\n",
    "```\n",
    "# COMMENT: I deleted a few lines for brevity\n",
    "ValueError: Found unknown categories ['d'] in column 0 during transform\n",
    "> /Users/Edu/miniconda3/envs/ploomber/lib/python3.6/site-packages/sklearn/preprocessing/_encoders.py(124)_transform()\n",
    "    122                     msg = (\"Found unknown categories {0} in column {1}\"\n",
    "    123                            \" during transform\".format(diff, i))\n",
    "# COMMENT: The session starts here. Not very useful because we are inside the scikit-learn package\n",
    "# (note the file path: site-packages/sklearn/preprocessing/_encoders.py)\n",
    "--> 124                     raise ValueError(msg)\n",
    "    125                 else:\n",
    "    126                     # Set the problematic rows to an acceptable value and\n",
    "# COMMENT: Let's move up\n",
    "ipdb> up\n",
    "> /Users/Edu/miniconda3/envs/ploomber/lib/python3.6/site-packages/sklearn/preprocessing/_encoders.py(428)transform()\n",
    "    426         check_is_fitted(self)\n",
    "    427         # validation of X happens in _check_X called by _transform\n",
    "--> 428         X_int, X_mask = self._transform(X, handle_unknown=self.handle_unknown)\n",
    "    429\n",
    "    430         n_samples, n_features = X_int.shape\n",
    "# COMMENT: Still inside scikit-learn, let's move up again\n",
    "ipdb> up\n",
    "> /var/folders/3h/_lvh_w_x5g30rrjzb_xnn2j80000gq/T/tmp653y199s.py(36)my_preprocessing_function()\n",
    "     34     encoder = OneHotEncoder()\n",
    "     35     X_train_t = encoder.fit_transform(X_train)\n",
    "# COMMENT: Now are are in our task's code, same place as in the previous example\n",
    "---> 36     X_test_t = encoder.transform(X_test)\n",
    "     37     return X_train_t, X_test_t\n",
    "     38\n",
    "ipdb> X_train\n",
    "  cat\n",
    "0   a\n",
    "1   b\n",
    "2   c\n",
    "ipdb> X_test\n",
    "  cat\n",
    "0   a\n",
    "1   b\n",
    "2   d\n",
    "ipdb> quit\n",
    "```\n",
    "\n",
    "As you can see, we can use either of these two approaches."
   ]
  },
  {
   "cell_type": "markdown",
   "id": "6df3d2f2",
   "metadata": {
    "lines_to_next_cell": 2,
    "papermill": {
     "duration": 0.037997,
     "end_time": "2021-10-11T21:25:43.752739",
     "exception": false,
     "start_time": "2021-10-11T21:25:43.714742",
     "status": "completed"
    },
    "tags": []
   },
   "source": [
    "## More difficult scenario: no exceptions raised but wrong output\n",
    "\n",
    "The previous example showed how we could debug a program that raises an exception. A more difficult scenario is when our program runs without errors but we find issues in the output (e.g. charts are not displaying correctly, data file has NAs, etc).\n",
    "\n",
    "This is a much harder problem because we don't know where to look at! If a bug is originated in task `A` it might propagate to any downstream tasks that use the product from `A` as input, this is why testing is essential. By explicitly checking our data expectations, we increase the chance of catching errors at the source, rather than in a downstream task.\n",
    "\n",
    "When it happens (and trust me, it will), we recommend you to follow a recursive approach: Once you detect the error, the first question to answer is: Which task produced this output? Once you know that, start a line-by-line debugging session (post-mortem won't work because there is no exception!), and carefully check variables to see if you can spot the error.\n",
    "\n",
    "If everything looks correct, go to all upstream tasks and repeat this process. You can do this from the command line.\n",
    "\n",
    "First, start an interactive session from the terminal:\n",
    "\n",
    "```console\n",
    "ploomber interactive\n",
    "```\n",
    "\n",
    "Then debug the task that produced the buggy output:\n",
    "\n",
    "```pycon\n",
    ">>> dag['buggy_task'].debug()\n",
    "```\n",
    "\n",
    "If that's not enough, check upstream tasks. To find upstream tasks, use `task.upstream`:\n",
    "\n",
    "```pycon\n",
    ">>> dag['buggy_task'].upstream\n",
    "```\n",
    "\n",
    "If you have a hypothesis of *where the error might be*. You can insert a breakpoint in your task's source code to start a debugging session at any given point:\n",
    "\n",
    "\n",
    "```python\n",
    "# buggy_task.py\n",
    "\n",
    "# some code\n",
    "# ...\n",
    "# ...\n",
    "\n",
    "# breakpoint: this is where I think the bug is...\n",
    "import pdb; pdb.set_trace()\n",
    "\n",
    "\n",
    "# more code\n",
    "# ...\n",
    "# ...\n",
    "```\n",
    "\n",
    "Then start a post-mortem session. The debugger will start at the line where you inserted the breakpoint.\n",
    "\n",
    "## Using the CLI to check if we fixed the bug\n",
    "\n",
    "In a real scenario, we might try a few things before we find bug fix. To quickly iterate over candidate solutions, we'd like to check if the applied change makes our pipeline *not* to throw an error. This is where Ploomber's incremental builds come in handy.\n",
    "\n",
    "If we narrowed down the error to a specific task, we can apply changes and quickly check if the new code runs correctly by just running that task:\n",
    "\n",
    "```console\n",
    "ploomber task {task-name}\n",
    "```\n",
    "\n",
    "If the exception happens in task `B`, but the solution has to be implemented in task `A` (where `A` is an upstream dependency of `B`), then we have to make sure that we run `A` and `B` to verify the fix. A full end-to-end run is wasteful but so is an incremental run if `B` has many downstream tasks. For testing purposes, we just care about things going well *until `B`*. This is a good use of a partial build: it will run all tasks until it reaches a selected task (by default, it will still skip up-to-date tasks). In our case:\n",
    "\n",
    "```console\n",
    "ploomber build --partially B\n",
    "```\n",
    "\n",
    "\n",
    "## Letting our pipeline fail under unforeseen circumstances\n",
    "\n",
    "The error in our program is of particular interest because it posits a common scenario: our program is correct but still failed due to unforeseen circumstances (unexpected data properties). Although these bugs challenge our assumptions about input data, fixing the error is just as important as explaining *why* we fixed the way we did it.\n",
    "\n",
    "Picture this: we decide to drop all observations that contain the unexpected value (`d`), now our pipeline runs correctly. A few months later, we receive new data so we run the pipeline again, but we run into the same issue because of a new unexpected value (say, `e`).\n",
    "\n",
    "We could argue that one solution would be to *drop all unexpected values*. Is this the best approach? Dropping observations silently is dangerous, as they might contain helpful information for our analysis. If we bury a `drop=True` piece of code in a pipeline with dozens of files, we will cause *a lot of* trouble to someone (which could be us) in the future. As we mentioned in the previous guide: explicitly stating our data expectations is the way to move forward.\n",
    "\n",
    "If we decide dropping `d` is a reasonable choice, we can encode our new data expectations in the upstream task testing function (because that's the task that supplies input data). Let's recall how our pipeline looks like:"
   ]
  },
  {
   "cell_type": "code",
   "execution_count": 5,
   "id": "3be3a4db",
   "metadata": {
    "execution": {
     "iopub.execute_input": "2021-10-11T21:25:43.839090Z",
     "iopub.status.busy": "2021-10-11T21:25:43.838240Z",
     "iopub.status.idle": "2021-10-11T21:25:43.841992Z",
     "shell.execute_reply": "2021-10-11T21:25:43.842637Z"
    },
    "papermill": {
     "duration": 0.0497,
     "end_time": "2021-10-11T21:25:43.842869",
     "exception": false,
     "start_time": "2021-10-11T21:25:43.793169",
     "status": "completed"
    },
    "tags": []
   },
   "outputs": [
    {
     "data": {
      "text/markdown": [
       "\n",
       "```yaml\n",
       "tasks:\n",
       "  - source: load.py\n",
       "    product:\n",
       "      nb: output/raw.ipynb\n",
       "      train: output/train.csv\n",
       "      test: output/test.csv\n",
       "\n",
       "  - source: preprocess.py\n",
       "    product: output/clean.ipynb\n",
       "```\n"
      ],
      "text/plain": [
       "<IPython.core.display.Markdown object>"
      ]
     },
     "metadata": {},
     "output_type": "display_data"
    }
   ],
   "source": [
    "display_file('pipeline.yaml')"
   ]
  },
  {
   "cell_type": "markdown",
   "id": "fe7c4727",
   "metadata": {
    "papermill": {
     "duration": 0.039559,
     "end_time": "2021-10-11T21:25:43.921320",
     "exception": false,
     "start_time": "2021-10-11T21:25:43.881761",
     "status": "completed"
    },
    "tags": []
   },
   "source": [
    "`load` supplies input for `preprocess`. Our testing function for the `load` task would look like this:"
   ]
  },
  {
   "cell_type": "markdown",
   "id": "fa13d3d2",
   "metadata": {
    "papermill": {
     "duration": 0.040616,
     "end_time": "2021-10-11T21:25:44.003621",
     "exception": false,
     "start_time": "2021-10-11T21:25:43.963005",
     "status": "completed"
    },
    "tags": []
   },
   "source": [
    "```python\n",
    "def test_load(product):\n",
    "    train = pd.read_csv(str(product['train']))\n",
    "    test = pd.read_csv(str(product['test']))\n",
    "    \n",
    "    # NOTE: these are the expected values in the cat column\n",
    "    # we expect value 'd' in the testing set and we'll\n",
    "    # drop it during preprocessing. Any other unexpected\n",
    "    # values will raise an exception here so we have the\n",
    "    # chance to decide what to do with it\n",
    "    assert set(train['cat'].unique()) == {'a', 'b', 'c'}\n",
    "    assert set(test['cat'].unique()) == {'a', 'b', 'c', 'd'}\n",
    "```\n",
    "\n",
    "The comment should actually be part of the testing function, without it, there is no context to understand why are we testing such a specific condition.\n",
    "\n",
    "\n",
    "## Debugging (templated) SQL scripts\n",
    "\n",
    "So far, we've discussed how to debug Python scripts, but SQL scripts can also fail. In a previous guide, we showed how templated SQL scripts help us write more concise SQL code, but this comes with a cost. Relying too much on templating makes our templated source code short but hard to read. If your database complains about syntax errors when executing SQL tasks, chances are, the errors is coming from incorrect templating logic. One good first debugging step is to take a look at the rendered code. You can do so from the command line:\n",
    "\n",
    "```console\n",
    "ploomber task {task-name} --source\n",
    "```\n",
    "\n",
    "Apart from looking at rendered code, there isn't much to say about debugging SQL scripts because there are no interactive debuggers. The best we can do is to organize our scripts in a clear way to make it easy to spot errors."
   ]
  },
  {
   "cell_type": "markdown",
   "id": "d2c63778",
   "metadata": {
    "papermill": {
     "duration": 0.039225,
     "end_time": "2021-10-11T21:25:44.084277",
     "exception": false,
     "start_time": "2021-10-11T21:25:44.045052",
     "status": "completed"
    },
    "tags": []
   },
   "source": [
    "## Where to go next\n",
    "\n",
    "* [pdb documentation](https://docs.python.org/3/library/pdb.html)"
   ]
  }
 ],
 "metadata": {
  "jupytext": {
   "cell_metadata_filter": "-all",
   "main_language": "python",
   "notebook_metadata_filter": "-all"
  },
  "kernelspec": {
   "display_name": "Python 3 (ipykernel)",
   "language": "python",
   "name": "python3"
  },
  "language_info": {
   "codemirror_mode": {
    "name": "ipython",
    "version": 3
   },
   "file_extension": ".py",
   "mimetype": "text/x-python",
   "name": "python",
   "nbconvert_exporter": "python",
   "pygments_lexer": "ipython3",
   "version": "3.9.7"
  },
  "papermill": {
   "duration": 13.416934,
   "end_time": "2021-10-11T21:25:44.613668",
   "exception": null,
   "input_path": "/var/folders/3h/_lvh_w_x5g30rrjzb_xnn2j80000gq/T/tmp0i_p9r6x.ipynb",
   "output_path": "debugging/README.ipynb",
   "parameters": {
    "product": "debugging/README.ipynb"
   },
   "start_time": "2021-10-11T21:25:31.196734"
  }
 },
 "nbformat": 4,
 "nbformat_minor": 5
}
