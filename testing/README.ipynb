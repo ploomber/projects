{
 "cells": [
  {
   "cell_type": "markdown",
   "id": "954711ca",
   "metadata": {
    "papermill": {
     "duration": 0.057924,
     "end_time": "2021-10-11T21:28:35.019556",
     "exception": false,
     "start_time": "2021-10-11T21:28:34.961632",
     "status": "completed"
    },
    "tags": []
   },
   "source": [
    "\n",
    "*Note:* You can run this example locally (`ploomber examples -n testing`) or in Binder (hosted JupyterLab ).\n",
    "\n",
    "[![binder-logo](https://mybinder.org/badge_logo.svg)](https://mybinder.org/v2/gh/ploomber/binder-env/main?urlpath=git-pull%3Frepo%3Dhttps%253A%252F%252Fgithub.com%252Fploomber%252Fprojects%26urlpath%3Dlab%252Ftree%252Fprojects%252Ftesting%252FREADME.ipynb%26branch%3Dmaster)\n"
   ]
  },
  {
   "cell_type": "markdown",
   "id": "fa2d5b94",
   "metadata": {
    "papermill": {
     "duration": 0.05479,
     "end_time": "2021-10-11T21:28:35.127065",
     "exception": false,
     "start_time": "2021-10-11T21:28:35.072275",
     "status": "completed"
    },
    "tags": []
   },
   "source": [
    "# Pipeline testing\n",
    "\n",
    "Testing your pipeline is critical to ensure your data expectations hold. When you perform a data transformation, you are expecting the output to have certain properties (e.g. no nulls in certain column). Without testing, these expectations won't be verified and will cause errors errors to propagate to all downstream tasks.\n",
    "\n",
    "These are the most common sources of errors when transforming data:\n",
    "\n",
    "1. A join operation generates duplicated entries because a wrong assumption of a one-to-one relationship (which is really a one-to-many) in the source tables\n",
    "2. A function that aggregates data returns `NULL` because at least one of the input data points was `NULL`\n",
    "3. Dirty data points are used in the analysis (e.g. in a column `age`, you forgot to remove corrupted data points with negative values)\n",
    "\n",
    "Some of these errors are easy to spot (2), but it might take you some tome to find out about others (1 and 3), or worst, you will never notice these errors and just use incorrect data in your analysis. And even if your code is correct and all your expectations hold true, it might not hold true in the future if the data changes and it's important for you to know this as soon as it happens.\n",
    "\n",
    "To make testing effective, **your tests should run every time you run your tasks**. Ploomber has a mechanism to automate this.\n",
    "\n",
    "## Sample data\n",
    "\n",
    "This example loads data from a single table called `my_table`, which has two columns:\n",
    "\n",
    "1. age: ranges from 21 to 80 but there are some corrupted records with -42\n",
    "2. score: ranges from 0 to 10 but there are some corrupted records with missing values\n",
    "\n",
    "Let's take a look at our example `pipeline.yaml`:"
   ]
  },
  {
   "cell_type": "code",
   "execution_count": 1,
   "id": "fb619fdc",
   "metadata": {
    "execution": {
     "iopub.execute_input": "2021-10-11T21:28:35.240646Z",
     "iopub.status.busy": "2021-10-11T21:28:35.239855Z",
     "iopub.status.idle": "2021-10-11T21:28:36.557198Z",
     "shell.execute_reply": "2021-10-11T21:28:36.557760Z"
    },
    "papermill": {
     "duration": 1.378118,
     "end_time": "2021-10-11T21:28:36.558069",
     "exception": false,
     "start_time": "2021-10-11T21:28:35.179951",
     "status": "completed"
    },
    "tags": []
   },
   "outputs": [],
   "source": [
    "from pathlib import Path\n",
    "from ploomberutils import display_file"
   ]
  },
  {
   "cell_type": "code",
   "execution_count": 2,
   "id": "60d9c670",
   "metadata": {
    "execution": {
     "iopub.execute_input": "2021-10-11T21:28:36.667315Z",
     "iopub.status.busy": "2021-10-11T21:28:36.666682Z",
     "iopub.status.idle": "2021-10-11T21:28:36.676195Z",
     "shell.execute_reply": "2021-10-11T21:28:36.676601Z"
    },
    "papermill": {
     "duration": 0.067553,
     "end_time": "2021-10-11T21:28:36.676849",
     "exception": false,
     "start_time": "2021-10-11T21:28:36.609296",
     "status": "completed"
    },
    "tags": []
   },
   "outputs": [
    {
     "data": {
      "text/markdown": [
       "\n",
       "```yaml\n",
       "clients:\n",
       "  SQLScript: db.get_client\n",
       "  SQLDump: db.get_client\n",
       "\n",
       "tasks:\n",
       "  - source: clean.sql\n",
       "    name: clean\n",
       "    product: ['my_clean_table', 'table']\n",
       "    on_finish: integration_tests.test_sql_clean\n",
       "  \n",
       "  - source: dump.sql\n",
       "    name: dump\n",
       "    class: SQLDump\n",
       "    product: output/my_clean_table.csv\n",
       "    chunksize: null\n",
       "\n",
       "  - source: transform.py\n",
       "    product:\n",
       "        nb: output/transformed.html\n",
       "        data: output/transformed.csv\n",
       "    on_finish: integration_tests.test_py_transform\n",
       "```\n"
      ],
      "text/plain": [
       "<IPython.core.display.Markdown object>"
      ]
     },
     "metadata": {},
     "output_type": "display_data"
    }
   ],
   "source": [
    "display_file('pipeline.yaml')"
   ]
  },
  {
   "cell_type": "markdown",
   "id": "0d02e878",
   "metadata": {
    "papermill": {
     "duration": 0.052401,
     "end_time": "2021-10-11T21:28:36.780392",
     "exception": false,
     "start_time": "2021-10-11T21:28:36.727991",
     "status": "completed"
    },
    "tags": []
   },
   "source": [
    "The pipeline has three tasks, one to clean the raw table, another one to dump the clean data to a CSV file and finally, one Python task to transform the data. We included a SQL and a Python task to show how you can test both types of tasks but we recommend you to do as much analysis as you can using SQL because it scales much better than Python code (you won't have to deal with memory errors).\n",
    "\n",
    "The configuration is straightforward, the only new key is `on_finish` (inside the first and third task). This is known as a *hook*. Task hooks allow you to embed custom logic when certain events happen. `on_finish` is executed after a task successfully executes. The value is a dotted path, which tells Ploomber where to find your testing function. Under the hood, Ploomber will import your function and call it after the task is executed, here's some equivalent code:\n",
    "\n",
    "```python\n",
    "from integration_tests import test_sql_clean\n",
    "\n",
    "# your task is executed...\n",
    "\n",
    "# ploomber calls your testing function...\n",
    "test_sql_clean()\n",
    "```\n",
    "\n",
    "Before diving into the testing source code, let's see the rest of the tasks.\n",
    "\n",
    "`clean.sql` just filters columns we don't want to include in the analysis:"
   ]
  },
  {
   "cell_type": "code",
   "execution_count": 3,
   "id": "0559dae8",
   "metadata": {
    "execution": {
     "iopub.execute_input": "2021-10-11T21:28:36.893718Z",
     "iopub.status.busy": "2021-10-11T21:28:36.892977Z",
     "iopub.status.idle": "2021-10-11T21:28:36.896995Z",
     "shell.execute_reply": "2021-10-11T21:28:36.897486Z"
    },
    "papermill": {
     "duration": 0.063135,
     "end_time": "2021-10-11T21:28:36.897748",
     "exception": false,
     "start_time": "2021-10-11T21:28:36.834613",
     "status": "completed"
    },
    "tags": []
   },
   "outputs": [
    {
     "data": {
      "text/markdown": [
       "\n",
       "```postresql\n",
       "DROP TABLE IF EXISTS {{product}};\n",
       "\n",
       "CREATE TABLE {{product}} AS\n",
       "SELECT * FROM my_table\n",
       "WHERE score is not null AND age > 0\n",
       "```\n"
      ],
      "text/plain": [
       "<IPython.core.display.Markdown object>"
      ]
     },
     "metadata": {},
     "output_type": "display_data"
    }
   ],
   "source": [
    "display_file('clean.sql')"
   ]
  },
  {
   "cell_type": "markdown",
   "id": "ecf5ffbd",
   "metadata": {
    "papermill": {
     "duration": 0.054581,
     "end_time": "2021-10-11T21:28:37.005265",
     "exception": false,
     "start_time": "2021-10-11T21:28:36.950684",
     "status": "completed"
    },
    "tags": []
   },
   "source": [
    "`dump.sql` just selects all rows from the clean table to dump it to the CSV file:"
   ]
  },
  {
   "cell_type": "code",
   "execution_count": 4,
   "id": "54fd8ba2",
   "metadata": {
    "execution": {
     "iopub.execute_input": "2021-10-11T21:28:37.125048Z",
     "iopub.status.busy": "2021-10-11T21:28:37.124100Z",
     "iopub.status.idle": "2021-10-11T21:28:37.128631Z",
     "shell.execute_reply": "2021-10-11T21:28:37.128023Z"
    },
    "papermill": {
     "duration": 0.06719,
     "end_time": "2021-10-11T21:28:37.128837",
     "exception": false,
     "start_time": "2021-10-11T21:28:37.061647",
     "status": "completed"
    },
    "tags": []
   },
   "outputs": [
    {
     "data": {
      "text/markdown": [
       "\n",
       "```postresql\n",
       "SELECT * FROM {{upstream['clean']}}\n",
       "```\n"
      ],
      "text/plain": [
       "<IPython.core.display.Markdown object>"
      ]
     },
     "metadata": {},
     "output_type": "display_data"
    }
   ],
   "source": [
    "display_file('dump.sql')"
   ]
  },
  {
   "cell_type": "markdown",
   "id": "4a140c45",
   "metadata": {
    "papermill": {
     "duration": 0.054976,
     "end_time": "2021-10-11T21:28:37.242596",
     "exception": false,
     "start_time": "2021-10-11T21:28:37.187620",
     "status": "completed"
    },
    "tags": []
   },
   "source": [
    "Finally, the `transform.py` script generates a new column using `score`"
   ]
  },
  {
   "cell_type": "code",
   "execution_count": 5,
   "id": "80090f5f",
   "metadata": {
    "execution": {
     "iopub.execute_input": "2021-10-11T21:28:37.360069Z",
     "iopub.status.busy": "2021-10-11T21:28:37.359275Z",
     "iopub.status.idle": "2021-10-11T21:28:37.362903Z",
     "shell.execute_reply": "2021-10-11T21:28:37.363521Z"
    },
    "papermill": {
     "duration": 0.06733,
     "end_time": "2021-10-11T21:28:37.363782",
     "exception": false,
     "start_time": "2021-10-11T21:28:37.296452",
     "status": "completed"
    },
    "tags": []
   },
   "outputs": [
    {
     "data": {
      "text/markdown": [
       "\n",
       "```py\n",
       "import pandas as pd\n",
       "\n",
       "# + tags=[\"parameters\"]\n",
       "upstream = ['dump']\n",
       "product = None\n",
       "\n",
       "# +\n",
       "df = pd.read_csv(upstream['dump'])\n",
       "df['multiplied_score'] = df.score * 42\n",
       "\n",
       "# +\n",
       "df.to_csv(product['data'])\n",
       "```\n"
      ],
      "text/plain": [
       "<IPython.core.display.Markdown object>"
      ]
     },
     "metadata": {},
     "output_type": "display_data"
    }
   ],
   "source": [
    "display_file('transform.py')"
   ]
  },
  {
   "cell_type": "markdown",
   "id": "8a425178",
   "metadata": {
    "papermill": {
     "duration": 0.058407,
     "end_time": "2021-10-11T21:28:37.477283",
     "exception": false,
     "start_time": "2021-10-11T21:28:37.418876",
     "status": "completed"
    },
    "tags": []
   },
   "source": [
    "Let's now take a look at our tests:"
   ]
  },
  {
   "cell_type": "code",
   "execution_count": 6,
   "id": "a66cd328",
   "metadata": {
    "execution": {
     "iopub.execute_input": "2021-10-11T21:28:37.596748Z",
     "iopub.status.busy": "2021-10-11T21:28:37.595911Z",
     "iopub.status.idle": "2021-10-11T21:28:37.599495Z",
     "shell.execute_reply": "2021-10-11T21:28:37.600147Z"
    },
    "papermill": {
     "duration": 0.067124,
     "end_time": "2021-10-11T21:28:37.600388",
     "exception": false,
     "start_time": "2021-10-11T21:28:37.533264",
     "status": "completed"
    },
    "tags": []
   },
   "outputs": [
    {
     "data": {
      "text/markdown": [
       "\n",
       "```py\n",
       "import pandas as pd\n",
       "from ploomber.testing.sql import nulls_in_columns, range_in_column\n",
       "\n",
       "\n",
       "def test_sql_clean(client, product):\n",
       "    \"\"\"Tests for clean.sql\n",
       "    \"\"\"\n",
       "    assert not nulls_in_columns(client, ['score', 'age'], product)\n",
       "    min_age, max_age = range_in_column(client, 'age', product)\n",
       "    assert min_age > 0\n",
       "\n",
       "\n",
       "def test_py_transform(product):\n",
       "    \"\"\"Tests for transform.py\n",
       "    \"\"\"\n",
       "    df = pd.read_csv(str(product['data']))\n",
       "    assert not df.multiplied_score.isna().sum()\n",
       "    assert df.multiplied_score.min() >= 0\n",
       "```\n"
      ],
      "text/plain": [
       "<IPython.core.display.Markdown object>"
      ]
     },
     "metadata": {},
     "output_type": "display_data"
    }
   ],
   "source": [
    "display_file('integration_tests.py')"
   ]
  },
  {
   "cell_type": "markdown",
   "id": "828f2b7a",
   "metadata": {
    "papermill": {
     "duration": 0.05818,
     "end_time": "2021-10-11T21:28:37.717096",
     "exception": false,
     "start_time": "2021-10-11T21:28:37.658916",
     "status": "completed"
    },
    "tags": []
   },
   "source": [
    "## Testing Python scripts\n",
    "\n",
    "To test your Python scripts, you have to know which file to look at. You can do so by simply adding `product` as argument to your function. If your Python script generates more than one product (like in our case), `product` will be a dictionary-like object, that's why we are using `product['data']`. This returns a `Product` object, to get the path to the file, simply use the `str` function.\n",
    "\n",
    "```pycon\n",
    ">>> product # dictionary-like object: maps names to Product objects\n",
    ">>> product['data'] # Product object\n",
    ">>> str(product['data']) # path to the data file\n",
    "```\n",
    "\n",
    "## Testing SQL scripts\n",
    "\n",
    "To test SQL scripts, you also need the client to send queries to the appropriate database, to do so, just add `client` to your testing function.\n",
    "\n",
    "The `ploomber.testing.sql` module implements convenient functions to test your tables. They always take `client` as its first argument, just pass the client variable directly. Since our SQL script only generates a product, you can directly pass the product object to the testing function (otherwise pass `product[key]`) with the appropriate key.\n",
    "\n",
    "*Note:* If you're implementing your own SQL testing logic, doing `str(product)` will return a `{schema}.{name}` string, you can also use `product.schema` and `product.name`.\n",
    "\n",
    "## Running the pipeline\n",
    "\n",
    "Before we run the pipeline, we generate a sample database:"
   ]
  },
  {
   "cell_type": "code",
   "execution_count": 7,
   "id": "de9d0f7c",
   "metadata": {
    "execution": {
     "iopub.execute_input": "2021-10-11T21:28:37.838660Z",
     "iopub.status.busy": "2021-10-11T21:28:37.837905Z",
     "iopub.status.idle": "2021-10-11T21:28:38.625930Z",
     "shell.execute_reply": "2021-10-11T21:28:38.626639Z"
    },
    "papermill": {
     "duration": 0.853181,
     "end_time": "2021-10-11T21:28:38.626908",
     "exception": false,
     "start_time": "2021-10-11T21:28:37.773727",
     "status": "completed"
    },
    "tags": [
     "bash"
    ]
   },
   "outputs": [
    {
     "name": "stderr",
     "output_type": "stream",
     "text": [
      "sh: line 1: fg: no job control\n"
     ]
    }
   ],
   "source": [
    "%%sh\n",
    "%%bash\n",
    "cd setup\n",
    "python script.py"
   ]
  },
  {
   "cell_type": "markdown",
   "id": "ee370654",
   "metadata": {
    "papermill": {
     "duration": 0.059622,
     "end_time": "2021-10-11T21:28:38.747223",
     "exception": false,
     "start_time": "2021-10-11T21:28:38.687601",
     "status": "completed"
    },
    "tags": []
   },
   "source": [
    "Let's now run our pipeline:"
   ]
  },
  {
   "cell_type": "code",
   "execution_count": 8,
   "id": "46946b31",
   "metadata": {
    "execution": {
     "iopub.execute_input": "2021-10-11T21:28:38.872095Z",
     "iopub.status.busy": "2021-10-11T21:28:38.871180Z",
     "iopub.status.idle": "2021-10-11T21:28:44.809514Z",
     "shell.execute_reply": "2021-10-11T21:28:44.810246Z"
    },
    "papermill": {
     "duration": 6.003824,
     "end_time": "2021-10-11T21:28:44.810578",
     "exception": false,
     "start_time": "2021-10-11T21:28:38.806754",
     "status": "completed"
    },
    "tags": []
   },
   "outputs": [
    {
     "name": "stdout",
     "output_type": "stream",
     "text": [
      "name       Ran?      Elapsed (s)    Percentage\n",
      "---------  ------  -------------  ------------\n",
      "clean      True         0.017897     0.714325\n",
      "dump       True         0.002082     0.0830991\n",
      "transform  True         2.48546     99.2026\n"
     ]
    },
    {
     "name": "stderr",
     "output_type": "stream",
     "text": [
      "Building task 'transform':   0%|          | 0/3 [00:00<?, ?it/s]\n",
      "Executing:   0%|          | 0/5 [00:00<?, ?cell/s]\u001b[A\n",
      "Executing:  20%|██        | 1/5 [00:01<00:07,  1.75s/cell]\u001b[A\n",
      "Executing: 100%|██████████| 5/5 [00:02<00:00,  2.38cell/s]\n",
      "Building task 'transform': 100%|██████████| 3/3 [00:02<00:00,  1.19it/s]\n"
     ]
    }
   ],
   "source": [
    "%%sh\n",
    "ploomber build"
   ]
  },
  {
   "cell_type": "markdown",
   "id": "ab0e9dde",
   "metadata": {
    "papermill": {
     "duration": 0.071314,
     "end_time": "2021-10-11T21:28:44.953345",
     "exception": false,
     "start_time": "2021-10-11T21:28:44.882031",
     "status": "completed"
    },
    "tags": []
   },
   "source": [
    "Everything looks good.\n",
    "\n",
    "Let's now imagine a colleague found an error in the cleaning logic and has re-written the script. However, he was unaware that both columns in the raw table had corrupted data and forgot to include the filtering conditions.\n",
    "\n",
    "The script now looks like this:"
   ]
  },
  {
   "cell_type": "code",
   "execution_count": 9,
   "id": "252da4fc",
   "metadata": {
    "execution": {
     "iopub.execute_input": "2021-10-11T21:28:45.098201Z",
     "iopub.status.busy": "2021-10-11T21:28:45.096902Z",
     "iopub.status.idle": "2021-10-11T21:28:45.104743Z",
     "shell.execute_reply": "2021-10-11T21:28:45.103962Z"
    },
    "papermill": {
     "duration": 0.082,
     "end_time": "2021-10-11T21:28:45.105077",
     "exception": false,
     "start_time": "2021-10-11T21:28:45.023077",
     "status": "completed"
    },
    "tags": []
   },
   "outputs": [
    {
     "data": {
      "text/markdown": [
       "\n",
       "```postresql\n",
       "DROP TABLE IF EXISTS {{product}};\n",
       "\n",
       "CREATE TABLE {{product}} AS\n",
       "SELECT * FROM my_table\n",
       "```\n"
      ],
      "text/plain": [
       "<IPython.core.display.Markdown object>"
      ]
     },
     "metadata": {},
     "output_type": "display_data"
    }
   ],
   "source": [
    "path = Path('clean.sql')\n",
    "new_code = path.read_text().replace('WHERE score is not null AND age > 0', '')\n",
    "path.write_text(new_code)\n",
    "display_file('clean.sql')"
   ]
  },
  {
   "cell_type": "markdown",
   "id": "f45e885e",
   "metadata": {
    "papermill": {
     "duration": 0.062967,
     "end_time": "2021-10-11T21:28:45.240719",
     "exception": false,
     "start_time": "2021-10-11T21:28:45.177752",
     "status": "completed"
    },
    "tags": []
   },
   "source": [
    "Let's see what happens if we run the pipeline:"
   ]
  },
  {
   "cell_type": "code",
   "execution_count": 10,
   "id": "073390b5",
   "metadata": {
    "execution": {
     "iopub.execute_input": "2021-10-11T21:28:45.380722Z",
     "iopub.status.busy": "2021-10-11T21:28:45.379706Z",
     "iopub.status.idle": "2021-10-11T21:28:48.803784Z",
     "shell.execute_reply": "2021-10-11T21:28:48.804270Z"
    },
    "papermill": {
     "duration": 3.498684,
     "end_time": "2021-10-11T21:28:48.804502",
     "exception": false,
     "start_time": "2021-10-11T21:28:45.305818",
     "status": "completed"
    },
    "tags": []
   },
   "outputs": [],
   "source": [
    "%%capture captured\n",
    "%%sh --no-raise-error\n",
    "ploomber build"
   ]
  },
  {
   "cell_type": "code",
   "execution_count": 11,
   "id": "ce18cf17",
   "metadata": {
    "execution": {
     "iopub.execute_input": "2021-10-11T21:28:48.935762Z",
     "iopub.status.busy": "2021-10-11T21:28:48.934959Z",
     "iopub.status.idle": "2021-10-11T21:28:48.938262Z",
     "shell.execute_reply": "2021-10-11T21:28:48.938839Z"
    },
    "papermill": {
     "duration": 0.073402,
     "end_time": "2021-10-11T21:28:48.939100",
     "exception": false,
     "start_time": "2021-10-11T21:28:48.865698",
     "status": "completed"
    },
    "tags": []
   },
   "outputs": [
    {
     "name": "stdout",
     "output_type": "stream",
     "text": [
      "Building task 'clean': 100%|██████████| 3/3 [00:00<00:00, 105.60it/s]\n",
      "Traceback (most recent call last):\n",
      "  File \"/Users/Edu/dev/ploomber/src/ploomber/cli/io.py\", line 20, in wrapper\n",
      "    fn(**kwargs)\n",
      "  File \"/Users/Edu/dev/ploomber/src/ploomber/cli/build.py\", line 51, in main\n",
      "    report = dag.build(force=args.force, debug=args.debug)\n",
      "  File \"/Users/Edu/dev/ploomber/src/ploomber/dag/dag.py\", line 482, in build\n",
      "    report = callable_()\n",
      "  File \"/Users/Edu/dev/ploomber/src/ploomber/dag/dag.py\", line 581, in _build\n",
      "    raise build_exception\n",
      "  File \"/Users/Edu/dev/ploomber/src/ploomber/dag/dag.py\", line 513, in _build\n",
      "    task_reports = self._executor(dag=self,\n",
      "  File \"/Users/Edu/dev/ploomber/src/ploomber/executors/serial.py\", line 138, in __call__\n",
      "    raise DAGBuildError(str(exceptions_all))\n",
      "ploomber.exceptions.DAGBuildError: \n",
      "=============================== DAG build failed ===============================\n",
      "--------- SQLScript: clean -> SQLRelation(('my_clean_table', 'table')) ---------\n",
      "-------------- /Users/Edu/dev/projects-ploomber/testing/clean.sql --------------\n",
      "Traceback (most recent call last):\n",
      "  File \"/Users/Edu/dev/ploomber/src/ploomber/tasks/abc.py\", line 591, in _build\n",
      "    self._post_run_actions()\n",
      "  File \"/Users/Edu/dev/ploomber/src/ploomber/tasks/abc.py\", line 342, in _post_run_actions\n",
      "    self._run_on_finish()\n",
      "  File \"/Users/Edu/dev/ploomber/src/ploomber/tasks/abc.py\", line 333, in _run_on_finish\n",
      "    self.on_finish(**kwargs)\n",
      "  File \"/Users/Edu/dev/ploomber/src/ploomber/util/dotted_path.py\", line 74, in __call__\n",
      "    out = self._callable(*args, **kwargs_final)\n",
      "  File \"/Users/Edu/dev/projects-ploomber/testing/integration_tests.py\", line 8, in test_sql_clean\n",
      "    assert not nulls_in_columns(client, ['score', 'age'], product)\n",
      "AssertionError\n",
      "\n",
      "The above exception was the direct cause of the following exception:\n",
      "\n",
      "Traceback (most recent call last):\n",
      "  File \"/Users/Edu/dev/ploomber/src/ploomber/executors/serial.py\", line 186, in catch_exceptions\n",
      "    fn()\n",
      "  File \"/Users/Edu/dev/ploomber/src/ploomber/executors/serial.py\", line 159, in __call__\n",
      "    return self.fn(**self.kwargs)\n",
      "  File \"/Users/Edu/dev/ploomber/src/ploomber/executors/serial.py\", line 166, in catch_warnings\n",
      "    result = fn()\n",
      "  File \"/Users/Edu/dev/ploomber/src/ploomber/executors/serial.py\", line 159, in __call__\n",
      "    return self.fn(**self.kwargs)\n",
      "  File \"/Users/Edu/dev/ploomber/src/ploomber/executors/serial.py\", line 235, in build_in_subprocess\n",
      "    report, meta = task._build(**build_kwargs)\n",
      "  File \"/Users/Edu/dev/ploomber/src/ploomber/tasks/abc.py\", line 603, in _build\n",
      "    raise TaskBuildError(msg) from e\n",
      "ploomber.exceptions.TaskBuildError: Exception when running on_finish for task \"clean\": \n",
      "=============================== Summary (1 task) ===============================\n",
      "SQLScript: clean -> SQLRelation(('my_clean_table', 'table'))\n",
      "=============================== DAG build failed ===============================\n",
      "\n",
      "\n",
      "\n"
     ]
    }
   ],
   "source": [
    "print(captured.stderr)"
   ]
  },
  {
   "cell_type": "markdown",
   "id": "4eb23bad",
   "metadata": {
    "papermill": {
     "duration": 0.065723,
     "end_time": "2021-10-11T21:28:49.067565",
     "exception": false,
     "start_time": "2021-10-11T21:28:49.001842",
     "status": "completed"
    },
    "tags": []
   },
   "source": [
    "Ploomber a structured error message to understand why your pipeline failed. The last few lines are a summary:\n",
    "\n",
    "```\n",
    "=============================== Summary (1 task) ===============================\n",
    "SQLScript: clean -> SQLRelation(('my_clean_table', 'table'))\n",
    "=============================== DAG build failed ===============================\n",
    "```\n",
    "\n",
    "By looking at the summary we know our pipeline failed because one task crashed (`clean`). If we\n",
    "scroll up we'll see a header section:\n",
    "\n",
    "```\n",
    "--------- SQLScript: clean -> SQLRelation(('my_clean_table', 'table')) ---------\n",
    "-------------- /Users/Edu/dev/projects-ploomber/testing/clean.sql --------------\n",
    "```\n",
    "\n",
    "Each task displays its traceback on a separate section. Since only one task failed in our example\n",
    "we only see one task traceback.\n",
    "\n",
    "At the end of this task traceback, we see the following line:\n",
    "\n",
    "```\n",
    "Exception when running on_finish for task \"clean\":\n",
    "```\n",
    "\n",
    "Now we know that the `on_finish` hook crashed. If we go up a few lines up:\n",
    "\n",
    "```\n",
    "assert not nulls_in_columns(client, ['score', 'age'], product)\n",
    "AssertionError\n",
    "```\n",
    "\n",
    "That tells me the exact test that failed! Pipelines can get very large; it helps a lot to have a structured error message that tells us what failed and where it happened. Our take away from the error message is: \"the pipeline building process failed because the `on_finish` hook in the `clean` task raised an exception in certain assertion\". That's much better than either \"the pipeline failed\" or \"this line raised an exception\".\n",
    "\n",
    "Let's fix our pipeline and add the `WHERE` clause again:"
   ]
  },
  {
   "cell_type": "code",
   "execution_count": 12,
   "id": "f8735e1f",
   "metadata": {
    "execution": {
     "iopub.execute_input": "2021-10-11T21:28:49.204786Z",
     "iopub.status.busy": "2021-10-11T21:28:49.203973Z",
     "iopub.status.idle": "2021-10-11T21:28:49.208990Z",
     "shell.execute_reply": "2021-10-11T21:28:49.209647Z"
    },
    "papermill": {
     "duration": 0.077066,
     "end_time": "2021-10-11T21:28:49.209900",
     "exception": false,
     "start_time": "2021-10-11T21:28:49.132834",
     "status": "completed"
    },
    "tags": []
   },
   "outputs": [
    {
     "data": {
      "text/markdown": [
       "\n",
       "```postresql\n",
       "DROP TABLE IF EXISTS {{product}};\n",
       "\n",
       "CREATE TABLE {{product}} AS\n",
       "SELECT * FROM my_table\n",
       "WHERE score is not null AND age > 0\n",
       "```\n"
      ],
      "text/plain": [
       "<IPython.core.display.Markdown object>"
      ]
     },
     "metadata": {},
     "output_type": "display_data"
    }
   ],
   "source": [
    "path = Path('clean.sql')\n",
    "new_code = path.read_text() + 'WHERE score is not null AND age > 0'\n",
    "path.write_text(new_code)\n",
    "display_file('clean.sql')"
   ]
  },
  {
   "cell_type": "code",
   "execution_count": 13,
   "id": "eb149ed1",
   "metadata": {
    "execution": {
     "iopub.execute_input": "2021-10-11T21:28:49.347623Z",
     "iopub.status.busy": "2021-10-11T21:28:49.346626Z",
     "iopub.status.idle": "2021-10-11T21:28:55.149663Z",
     "shell.execute_reply": "2021-10-11T21:28:55.150148Z"
    },
    "papermill": {
     "duration": 5.878319,
     "end_time": "2021-10-11T21:28:55.150432",
     "exception": false,
     "start_time": "2021-10-11T21:28:49.272113",
     "status": "completed"
    },
    "tags": []
   },
   "outputs": [
    {
     "name": "stdout",
     "output_type": "stream",
     "text": [
      "name       Ran?      Elapsed (s)    Percentage\n",
      "---------  ------  -------------  ------------\n",
      "clean      True         0.018598     0.786287\n",
      "dump       True         0.002138     0.0903905\n",
      "transform  True         2.34456     99.1233\n"
     ]
    },
    {
     "name": "stderr",
     "output_type": "stream",
     "text": [
      "Building task 'transform':   0%|          | 0/3 [00:00<?, ?it/s]\n",
      "Executing:   0%|          | 0/5 [00:00<?, ?cell/s]\u001b[A\n",
      "Executing:  20%|██        | 1/5 [00:01<00:06,  1.61s/cell]\u001b[A\n",
      "Executing: 100%|██████████| 5/5 [00:01<00:00,  2.54cell/s]\n",
      "Building task 'transform': 100%|██████████| 3/3 [00:02<00:00,  1.26it/s]\n"
     ]
    }
   ],
   "source": [
    "%%sh\n",
    "ploomber build"
   ]
  },
  {
   "cell_type": "markdown",
   "id": "ec934114",
   "metadata": {
    "papermill": {
     "duration": 0.071087,
     "end_time": "2021-10-11T21:28:55.292370",
     "exception": false,
     "start_time": "2021-10-11T21:28:55.221283",
     "status": "completed"
    },
    "tags": []
   },
   "source": [
    "All good! Pipeline is running without issues again!\n",
    "\n",
    "## Test-driven development (TDD)\n",
    "\n",
    "Writing data tests is essential for developing robust pipelines. Coding tests is simple, all we have to do is write in code that we already have in our mind when thinking what the outcome of a script should be.\n",
    "\n",
    "This thought process happens *before* we write the actual code, which means we could easily write tests even before we write the actual code. This approach is called Test-driven development (TDD).\n",
    "\n",
    "Following this framework has an added benefit, since we force ourselves to put in concrete terms our data expectations, it makes easier to think how we want to get there.\n",
    "\n",
    "Furthermore, *tests also serve as documentation* for us (and for others). By looking at our tests, anyone can see what *our intent* is. Then by looking at the code, it will be easier to spot mismatches between our intent and our implementation.\n",
    "\n",
    "\n",
    "## Pro tip: debugging and developing tests interactively\n",
    "\n",
    "Even though tests are usually just a few short statements, writing them in an interactive way can help you quickly prototype your assertions. One simple trick you can use to do this is to start an interactive session and load the `client` and `product` variables.\n",
    "\n",
    "Let's imagine you want to write a test for a new SQL script (but the same applies for other types of scripts). You add a testing function, but it's currently empty:\n",
    "\n",
    "```python\n",
    "def my_sql_testing_function(client, product):\n",
    "    pass\n",
    "```\n",
    "\n",
    "If you run this, Ploomber will still call your function, you can start an interactive session when this happens:\n",
    "\n",
    "```python\n",
    "def my_sql_testing_function(client, product):\n",
    "    from IPython import embed; embed()\n",
    "```\n",
    "\n",
    "Once you call `ploomber build`, wait for the Python prompt to show and verify you have the `client` and `product` variables:\n",
    "\n",
    "```pycon\n",
    ">>> print(client)\n",
    ">>> print(product)\n",
    "```\n",
    "\n",
    "\n",
    "## Where to go next\n",
    "\n",
    "* [Documentation for ploomber.testing - Handy functions for testing pipelines](../api/testing.rst)\n",
    "* [Our blog post on CI for Data Science (which includes a section on testing pipelines)](https://towardsdatascience.com/rethinking-continuous-integration-for-data-science-ebf0dfc61788)"
   ]
  }
 ],
 "metadata": {
  "jupytext": {
   "cell_metadata_filter": "tags,-all",
   "main_language": "python",
   "notebook_metadata_filter": "-all"
  },
  "kernelspec": {
   "display_name": "Python 3 (ipykernel)",
   "language": "python",
   "name": "python3"
  },
  "language_info": {
   "codemirror_mode": {
    "name": "ipython",
    "version": 3
   },
   "file_extension": ".py",
   "mimetype": "text/x-python",
   "name": "python",
   "nbconvert_exporter": "python",
   "pygments_lexer": "ipython3",
   "version": "3.9.7"
  },
  "papermill": {
   "duration": 22.274323,
   "end_time": "2021-10-11T21:28:55.970262",
   "exception": null,
   "input_path": "/var/folders/3h/_lvh_w_x5g30rrjzb_xnn2j80000gq/T/tmpwm4j58yz.ipynb",
   "output_path": "testing/README.ipynb",
   "parameters": {
    "product": "testing/README.ipynb"
   },
   "start_time": "2021-10-11T21:28:33.695939"
  }
 },
 "nbformat": 4,
 "nbformat_minor": 5
}
