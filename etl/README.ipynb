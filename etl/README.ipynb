{
 "cells": [
  {
   "cell_type": "markdown",
   "id": "9e922527",
   "metadata": {
    "papermill": {
     "duration": 0.016102,
     "end_time": "2021-10-11T21:21:45.073841",
     "exception": false,
     "start_time": "2021-10-11T21:21:45.057739",
     "status": "completed"
    },
    "tags": []
   },
   "source": [
    "\n",
    "*Note:* You can run this example locally (`ploomber examples -n etl`) or in Binder (hosted JupyterLab ).\n",
    "\n",
    "[![binder-logo](https://mybinder.org/badge_logo.svg)](https://mybinder.org/v2/gh/ploomber/binder-env/main?urlpath=git-pull%3Frepo%3Dhttps%253A%252F%252Fgithub.com%252Fploomber%252Fprojects%26urlpath%3Dlab%252Ftree%252Fprojects%252Fetl%252FREADME.ipynb%26branch%3Dmaster)\n"
   ]
  },
  {
   "cell_type": "markdown",
   "id": "dc825151",
   "metadata": {
    "papermill": {
     "duration": 0.01648,
     "end_time": "2021-10-11T21:21:45.104590",
     "exception": false,
     "start_time": "2021-10-11T21:21:45.088110",
     "status": "completed"
    },
    "tags": []
   },
   "source": [
    "# ETL SQL pipeline\n",
    "\n",
    "SQL pipeline that downloads data, uploads to a database, process it, and plots using Python/R\n",
    "\n",
    "## Data\n",
    "\n",
    "Subset of the [Stack Exchange dataset](https://archive.org/details/stackexchange).\n",
    "It gets the data from the original source, converts it from XML to CSV, uploads it to a database, aggregates it, dumps it and generates a few plots. See the diagram below (generated using `ploomber plot`):\n",
    "\n",
    "![pipeline](pipeline.png)\n",
    "\n",
    "The ``pipeline.yaml`` file contains a few comments to understand what's going on at each step.\n",
    "\n",
    "## Setup\n",
    "\n",
    "(**Note**: Skip if running in Binder)\n",
    "\n",
    "~~~bash\n",
    "# make sure you are in the etl folder.\n",
    "conda env create --file environment.yml\n",
    "conda activate etl\n",
    "\n",
    "# or use pip directly\n",
    "pip install -r requirements.txt\n",
    "~~~\n",
    "\n",
    "**Note:** This pipeline requires the `p7zip` package. It is installed if using\n",
    "`conda`. If using `pip`, you must install it manually."
   ]
  },
  {
   "cell_type": "markdown",
   "id": "c6d38964",
   "metadata": {
    "papermill": {
     "duration": 0.015636,
     "end_time": "2021-10-11T21:21:45.136417",
     "exception": false,
     "start_time": "2021-10-11T21:21:45.120781",
     "status": "completed"
    },
    "tags": []
   },
   "source": [
    "## Build"
   ]
  },
  {
   "cell_type": "code",
   "execution_count": 1,
   "id": "56cf864b",
   "metadata": {
    "execution": {
     "iopub.execute_input": "2021-10-11T21:21:45.178010Z",
     "iopub.status.busy": "2021-10-11T21:21:45.177235Z",
     "iopub.status.idle": "2021-10-11T21:24:52.610694Z",
     "shell.execute_reply": "2021-10-11T21:24:52.609245Z"
    },
    "papermill": {
     "duration": 187.458193,
     "end_time": "2021-10-11T21:24:52.610923",
     "exception": false,
     "start_time": "2021-10-11T21:21:45.152730",
     "status": "completed"
    },
    "tags": [
     "bash"
    ]
   },
   "outputs": [
    {
     "name": "stdout",
     "output_type": "stream",
     "text": [
      "name                 Ran?      Elapsed (s)    Percentage\n",
      "-------------------  ------  -------------  ------------\n",
      "download             True       143.698      78.3255\n",
      "convert2csv          True        19.3921     10.57\n",
      "upload-users         True         1.50219     0.818801\n",
      "upload-comments      True         2.21277     1.20611\n",
      "upload-posts         True         3.0862      1.6822\n",
      "upvotes-by-location  True         0.049527    0.0269957\n",
      "comments-by-post     True         0.067069    0.0365573\n",
      "posts-by-length      True         0.620731    0.338342\n",
      "upvotes-dump         True         0.003944    0.00214976\n",
      "comments-dump        True         0.046602    0.0254014\n",
      "posts-dump           True         0.081891    0.0446363\n",
      "plot-upvotes         True         3.51372     1.91523\n",
      "comments-plot        True         4.9333      2.68899\n",
      "posts-plot           True         4.25456     2.31903\n"
     ]
    },
    {
     "name": "stderr",
     "output_type": "stream",
     "text": [
      "/Users/Edu/dev/ploomber/src/ploomber/dag/dag.py:390: UserWarning: \n",
      "=========================== DAG render with warnings ===========================\n",
      "-------- SQLUpload: upload-users -> SQLiteRelation(('users', 'table')) ---------\n",
      "The following upstream dependencies in task \"upload-users\" were not used {'convert2csv'}\n",
      "----- SQLUpload: upload-comments -> SQLiteRelation(('comments', 'table')) ------\n",
      "The following upstream dependencies in task \"upload-comments\" were not used {'convert2csv'}\n",
      "-------- SQLUpload: upload-posts -> SQLiteRelation(('posts', 'table')) ---------\n",
      "The following upstream dependencies in task \"upload-posts\" were not used {'convert2csv'}\n",
      "============================== Summary (3 tasks) ===============================\n",
      "SQLUpload: upload-users -> SQLiteRelation(('users', 'table'))\n",
      "SQLUpload: upload-comments -> SQLiteRelation(('comments', 'table'))\n",
      "SQLUpload: upload-posts -> SQLiteRelation(('posts', 'table'))\n",
      "=========================== DAG render with warnings ===========================\n",
      "\n",
      "  warnings.warn(str(warnings_))\n",
      "Building task 'download':   0%|          | 0/14 [00:00<?, ?it/s]\n",
      "Executing:   0%|          | 0/5 [00:00<?, ?cell/s]\u001b[A\n",
      "Executing:  20%|██        | 1/5 [00:01<00:05,  1.40s/cell]\u001b[A\n",
      "Executing:  80%|████████  | 4/5 [00:01<00:00,  3.42cell/s]\u001b[A\n",
      "Executing:  80%|████████  | 4/5 [00:19<00:00,  3.42cell/s]\u001b[A\n",
      "Executing: 100%|██████████| 5/5 [02:23<00:00, 28.73s/cell]\n",
      "Building task 'convert2csv':   7%|▋         | 1/14 [02:23<31:08, 143.70s/it]\n",
      "Executing:   0%|          | 0/5 [00:00<?, ?cell/s]\u001b[A\n",
      "Executing:  20%|██        | 1/5 [00:01<00:05,  1.48s/cell]\u001b[A\n",
      "Executing:  80%|████████  | 4/5 [00:01<00:00,  3.26cell/s]\u001b[A\n",
      "Executing:  80%|████████  | 4/5 [00:16<00:00,  3.26cell/s]\u001b[A\n",
      "Executing: 100%|██████████| 5/5 [00:19<00:00,  3.87s/cell]\n",
      "Building task 'plot-upvotes':  79%|███████▊  | 11/14 [02:50<00:08,  2.95s/it]\n",
      "Executing:   0%|          | 0/5 [00:00<?, ?cell/s]\u001b[A\n",
      "Executing:  20%|██        | 1/5 [00:01<00:06,  1.71s/cell]\u001b[A\n",
      "Executing:  40%|████      | 2/5 [00:01<00:02,  1.31cell/s]\u001b[A\n",
      "Executing: 100%|██████████| 5/5 [00:03<00:00,  1.61cell/s]\n",
      "Building task 'comments-plot':  79%|███████▊  | 11/14 [02:54<00:08,  2.95s/it]\n",
      "Executing:   0%|          | 0/5 [00:00<?, ?cell/s]\u001b[A\n",
      "Executing:  20%|██        | 1/5 [00:03<00:14,  3.58s/cell]\u001b[A\n",
      "Executing: 100%|██████████| 5/5 [00:04<00:00,  1.11cell/s]\n",
      "Building task 'posts-plot':  93%|█████████▎| 13/14 [02:59<00:03,  3.38s/it]   \n",
      "Executing:   0%|          | 0/7 [00:00<?, ?cell/s]\u001b[A\n",
      "Executing:  14%|█▍        | 1/7 [00:02<00:15,  2.66s/cell]\u001b[A\n",
      "Executing:  57%|█████▋    | 4/7 [00:02<00:01,  1.86cell/s]\u001b[A\n",
      "Executing: 100%|██████████| 7/7 [00:03<00:00,  1.86cell/s]\n",
      "Building task 'posts-plot': 100%|██████████| 14/14 [03:03<00:00, 13.11s/it]\n"
     ]
    }
   ],
   "source": [
    "%%sh\n",
    "ploomber build"
   ]
  },
  {
   "cell_type": "markdown",
   "id": "4c72293c",
   "metadata": {
    "papermill": {
     "duration": 0.021389,
     "end_time": "2021-10-11T21:24:52.652466",
     "exception": false,
     "start_time": "2021-10-11T21:24:52.631077",
     "status": "completed"
    },
    "tags": []
   },
   "source": [
    "Output stored in the ``output/`` directory."
   ]
  }
 ],
 "metadata": {
  "jupytext": {
   "cell_metadata_filter": "tags,-all",
   "main_language": "bash",
   "notebook_metadata_filter": "-all"
  },
  "kernelspec": {
   "display_name": "Python 3 (ipykernel)",
   "language": "python",
   "name": "python3"
  },
  "language_info": {
   "codemirror_mode": {
    "name": "ipython",
    "version": 3
   },
   "file_extension": ".py",
   "mimetype": "text/x-python",
   "name": "python",
   "nbconvert_exporter": "python",
   "pygments_lexer": "ipython3",
   "version": "3.9.7"
  },
  "papermill": {
   "duration": 189.0183,
   "end_time": "2021-10-11T21:24:52.969119",
   "exception": null,
   "input_path": "/var/folders/3h/_lvh_w_x5g30rrjzb_xnn2j80000gq/T/tmp_0_9qgf0.ipynb",
   "output_path": "etl/README.ipynb",
   "parameters": {
    "product": "etl/README.ipynb"
   },
   "start_time": "2021-10-11T21:21:43.950819"
  }
 },
 "nbformat": 4,
 "nbformat_minor": 5
}
