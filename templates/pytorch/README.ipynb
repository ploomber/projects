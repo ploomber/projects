{
 "cells": [
  {
   "cell_type": "markdown",
   "id": "f010feba",
   "metadata": {
    "papermill": {
     "duration": 0.01167,
     "end_time": "2022-05-27T13:50:45.264242",
     "exception": false,
     "start_time": "2022-05-27T13:50:45.252572",
     "status": "completed"
    },
    "tags": []
   },
   "source": [
    "To run this locally, [install Ploomber](https://docs.ploomber.io/en/latest/get-started/quick-start.html) and execute: `ploomber examples -n templates/pytorch`\n",
    "\n",
    "Found an issue? [Let us know.](https://github.com/ploomber/projects/issues/new?title=templates/pytorch%20issue)\n",
    "\n",
    "Questions? [Ask us on Slack.](https://ploomber.io/community/)\n"
   ]
  },
  {
   "cell_type": "markdown",
   "id": "8876b45b",
   "metadata": {
    "papermill": {
     "duration": 0.005983,
     "end_time": "2022-05-27T13:50:45.275354",
     "exception": false,
     "start_time": "2022-05-27T13:50:45.269371",
     "status": "completed"
    },
    "tags": []
   },
   "source": [
    "# Ploomber Cloud GPU example\n",
    "\n",
    "<!-- start description -->\n",
    "Using GPUs to train models in Ploomber Cloud.\n",
    "<!-- end description -->\n",
    "\n",
    "## Resources\n",
    "\n",
    "* [Original example](https://pytorch.org/tutorials/beginner/blitz/cifar10_tutorial.html)\n",
    "* For better performance check out [data parallelism](https://pytorch.org/tutorials/beginner/blitz/data_parallel_tutorial.html)"
   ]
  }
 ],
 "metadata": {
  "kernelspec": {
   "display_name": "Python 3 (ipykernel)",
   "language": "python",
   "name": "python3"
  },
  "language_info": {
   "codemirror_mode": {
    "name": "ipython",
    "version": 3
   },
   "file_extension": ".py",
   "mimetype": "text/x-python",
   "name": "python",
   "nbconvert_exporter": "python",
   "pygments_lexer": "ipython3",
   "version": "3.10.1"
  },
  "papermill": {
   "default_parameters": {},
   "duration": 1.760042,
   "end_time": "2022-05-27T13:50:45.494494",
   "environment_variables": {},
   "exception": null,
   "input_path": "templates/pytorch/_build/readme_preprocessed.ipynb",
   "output_path": "templates/pytorch/README.ipynb",
   "parameters": {},
   "start_time": "2022-05-27T13:50:43.734452",
   "version": "2.3.4"
  }
 },
 "nbformat": 4,
 "nbformat_minor": 5
}
