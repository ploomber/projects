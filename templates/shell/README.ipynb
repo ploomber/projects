{
 "cells": [
  {
   "cell_type": "markdown",
   "id": "1198b132",
   "metadata": {
    "papermill": {
     "duration": 0.014655,
     "end_time": "2021-11-17T19:17:36.995057",
     "exception": false,
     "start_time": "2021-11-17T19:17:36.980402",
     "status": "completed"
    },
    "tags": []
   },
   "source": [
    "To run this locally, [install Ploomber](https://docs.ploomber.io/en/latest/get-started/quick-start.html) and execute: `ploomber examples -n templates/shell`\n",
    "\n",
    "Found an issue? [Let us know.](https://github.com/ploomber/projects/issues/new?title=templates/shell%20issue)\n",
    "\n",
    "Questions? [Ask us on Slack.](https://ploomber.io/community/)\n"
   ]
  },
  {
   "cell_type": "markdown",
   "id": "9e09d5bc",
   "metadata": {
    "papermill": {
     "duration": 0.012797,
     "end_time": "2021-11-17T19:17:37.021016",
     "exception": false,
     "start_time": "2021-11-17T19:17:37.008219",
     "status": "completed"
    },
    "tags": []
   },
   "source": [
    "# Executing shell scripts as tasks\n",
    "\n",
    "*Note: this example requires* `ploomber>=0.13.6`\n",
    "\n",
    "<!-- start description -->\n",
    "Create a pipeline with shell scripts as tasks.\n",
    "<!-- end description -->\n",
    "\n",
    "## Description\n",
    "\n",
    "The pipeline has three tasks:"
   ]
  },
  {
   "cell_type": "markdown",
   "id": "853970a9",
   "metadata": {
    "papermill": {
     "duration": 0.01101,
     "end_time": "2021-11-17T19:17:37.045015",
     "exception": false,
     "start_time": "2021-11-17T19:17:37.034005",
     "status": "completed"
    },
    "region_name": "md",
    "tags": []
   },
   "source": [
    "```yaml\n",
    "# Content of pipeline.yaml\n",
    "tasks:\n",
    "  # this script downloads a dataset\n",
    "  - source: scripts/download.sh\n",
    "    product: output/data.csv\n",
    "\n",
    "  # this script plots outputs/data.csv\n",
    "  - source: scripts/plot.py\n",
    "    product: output/report.ipynb\n",
    "\n",
    "  # this script has scripts/download.sh as dependency\n",
    "  - source: scripts/copy.sh\n",
    "    product: output/copy.csv\n",
    "```"
   ]
  },
  {
   "cell_type": "markdown",
   "id": "26d67a81",
   "metadata": {
    "papermill": {
     "duration": 0.010308,
     "end_time": "2021-11-17T19:17:37.067217",
     "exception": false,
     "start_time": "2021-11-17T19:17:37.056909",
     "status": "completed"
    },
    "tags": []
   },
   "source": [
    "We download some data, and plot it with Python. We also have a second\n",
    "shell script that copies the data from the first one to demonstrate how to\n",
    "declare upstream dependencies.\n",
    "\n",
    "## Build pipeline"
   ]
  },
  {
   "cell_type": "code",
   "execution_count": 1,
   "id": "eb1c16bb",
   "metadata": {
    "execution": {
     "iopub.execute_input": "2021-11-17T19:17:37.167067Z",
     "iopub.status.busy": "2021-11-17T19:17:37.166408Z",
     "iopub.status.idle": "2021-11-17T19:17:44.611026Z",
     "shell.execute_reply": "2021-11-17T19:17:44.611929Z"
    },
    "papermill": {
     "duration": 7.535975,
     "end_time": "2021-11-17T19:17:44.612233",
     "exception": false,
     "start_time": "2021-11-17T19:17:37.076258",
     "status": "completed"
    },
    "tags": []
   },
   "outputs": [
    {
     "name": "stdout",
     "output_type": "stream",
     "text": [
      "name      Ran?      Elapsed (s)    Percentage\n",
      "--------  ------  -------------  ------------\n",
      "download  True         0.359149       9.73754\n",
      "plot      True         3.2594        88.3714\n",
      "copy      True         0.069746       1.89101\n"
     ]
    },
    {
     "name": "stderr",
     "output_type": "stream",
     "text": [
      "Building task 'plot':  33%|███▎      | 1/3 [00:00<00:00,  2.72it/s]    \n",
      "Executing:   0%|          | 0/3 [00:00<?, ?cell/s]\u001b[A\n",
      "Executing:  33%|███▎      | 1/3 [00:01<00:02,  1.29s/cell]\u001b[A\n",
      "Executing: 100%|██████████| 3/3 [00:03<00:00,  1.07s/cell]\u001b[A\n",
      "Building task 'copy': 100%|██████████| 3/3 [00:03<00:00,  1.23s/it]\n"
     ]
    }
   ],
   "source": [
    "%%bash\n",
    "ploomber build"
   ]
  }
 ],
 "metadata": {
  "kernelspec": {
   "display_name": "Python 3 (ipykernel)",
   "language": "python",
   "name": "python3"
  },
  "language_info": {
   "codemirror_mode": {
    "name": "ipython",
    "version": 3
   },
   "file_extension": ".py",
   "mimetype": "text/x-python",
   "name": "python",
   "nbconvert_exporter": "python",
   "pygments_lexer": "ipython3",
   "version": "3.10.1"
  },
  "papermill": {
   "default_parameters": {},
   "duration": 9.247619,
   "end_time": "2021-11-17T19:17:44.737636",
   "environment_variables": {},
   "exception": null,
   "input_path": "templates/shell/_build/readme_preprocessed.ipynb",
   "output_path": "templates/shell/README.ipynb",
   "parameters": {},
   "start_time": "2021-11-17T19:17:35.490017",
   "version": "2.3.3"
  }
 },
 "nbformat": 4,
 "nbformat_minor": 5
}
