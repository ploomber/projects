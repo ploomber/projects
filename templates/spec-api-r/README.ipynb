{
 "cells": [
  {
   "cell_type": "markdown",
   "id": "e4f0c5d7",
   "metadata": {
    "papermill": {
     "duration": 0.016574,
     "end_time": "2021-11-11T00:38:11.876790",
     "exception": false,
     "start_time": "2021-11-11T00:38:11.860216",
     "status": "completed"
    },
    "tags": []
   },
   "source": [
    "To run this locally, [install Ploomber](https://docs.ploomber.io/en/latest/get-started/quick-start.html) and execute: `ploomber examples -n templates/spec-api-r`\n",
    "\n",
    "Found an issue? [Let us know.](https://github.com/ploomber/projects/issues/new?title=templates/spec-api-r%20issue)\n",
    "\n",
    "Questions? [Ask us on Slack.](https://ploomber.io/community/)\n"
   ]
  },
  {
   "cell_type": "markdown",
   "id": "f3af9acc",
   "metadata": {
    "papermill": {
     "duration": 0.018088,
     "end_time": "2021-11-11T00:38:11.910505",
     "exception": false,
     "start_time": "2021-11-11T00:38:11.892417",
     "status": "completed"
    },
    "tags": []
   },
   "source": [
    "# R pipeline\n",
    "\n",
    "<!-- start description -->\n",
    "Load, clean and plot data with R.\n",
    "<!-- end description -->\n",
    "\n",
    "**Note:** If using conda (`environment.yml`), R will be installed and configured. If using pip (`requirements.txt`), you must install R and [configure it yourself]( https://github.com/IRkernel/IRkernel)."
   ]
  },
  {
   "cell_type": "markdown",
   "id": "354ba42e",
   "metadata": {
    "papermill": {
     "duration": 0.013736,
     "end_time": "2021-11-11T00:38:11.940623",
     "exception": false,
     "start_time": "2021-11-11T00:38:11.926887",
     "status": "completed"
    },
    "tags": []
   },
   "source": [
    "## Pipeline description\n",
    "\n",
    "This pipeline contains three tasks. The last task generates a plot. To get the\n",
    "pipeline description:"
   ]
  },
  {
   "cell_type": "code",
   "execution_count": 1,
   "id": "44259723",
   "metadata": {
    "execution": {
     "iopub.execute_input": "2021-11-11T00:38:11.977372Z",
     "iopub.status.busy": "2021-11-11T00:38:11.976544Z",
     "iopub.status.idle": "2021-11-11T00:38:15.498794Z",
     "shell.execute_reply": "2021-11-11T00:38:15.499369Z"
    },
    "papermill": {
     "duration": 3.545341,
     "end_time": "2021-11-11T00:38:15.499797",
     "exception": false,
     "start_time": "2021-11-11T00:38:11.954456",
     "status": "completed"
    },
    "tags": []
   },
   "outputs": [
    {
     "name": "stdout",
     "output_type": "stream",
     "text": [
      "name    Last run      Outdated?    Product       Doc (short)    Location\n",
      "------  ------------  -----------  ------------  -------------  ------------\n",
      "raw     Has not been  Source code  MetaProduct(                 /Users/Edu/d\n",
      "        run                        {'data': Fil                 ev/projects-\n",
      "                                   e('output/ra                 ploomber/tem\n",
      "                                   w.csv'),                     plates/spec-\n",
      "                                   'nb': File('                 api-r/raw.R\n",
      "                                   output/raw.h\n",
      "                                   tml')})\n",
      "clean   Has not been  Source code  MetaProduct(                 /Users/Edu/d\n",
      "        run           & Upstream   {'data': Fil                 ev/projects-\n",
      "                                   e('output/cl                 ploomber/tem\n",
      "                                   ean.csv'),                   plates/spec-\n",
      "                                   'nb': File('                 api-r/clean.\n",
      "                                   output/clean                 R\n",
      "                                   .html')})\n",
      "plot    Has not been  Source code  File('output                 /Users/Edu/d\n",
      "        run           & Upstream   /plot.html')                 ev/projects-\n",
      "                                                                ploomber/tem\n",
      "                                                                plates/spec-\n",
      "                                                                api-r/plot.R\n",
      "                                                                md\n"
     ]
    },
    {
     "name": "stderr",
     "output_type": "stream",
     "text": [
      "100%|██████████| 3/3 [00:00<00:00, 3270.84it/s]\n"
     ]
    }
   ],
   "source": [
    "%%bash\n",
    "ploomber status"
   ]
  },
  {
   "cell_type": "markdown",
   "id": "9ff8e777",
   "metadata": {
    "papermill": {
     "duration": 0.020258,
     "end_time": "2021-11-11T00:38:15.543094",
     "exception": false,
     "start_time": "2021-11-11T00:38:15.522836",
     "status": "completed"
    },
    "tags": []
   },
   "source": [
    "## Build the pipeline from the command line"
   ]
  },
  {
   "cell_type": "code",
   "execution_count": 2,
   "id": "da0b3f77",
   "metadata": {
    "execution": {
     "iopub.execute_input": "2021-11-11T00:38:15.590472Z",
     "iopub.status.busy": "2021-11-11T00:38:15.589730Z",
     "iopub.status.idle": "2021-11-11T00:38:25.049477Z",
     "shell.execute_reply": "2021-11-11T00:38:25.050187Z"
    },
    "papermill": {
     "duration": 9.483104,
     "end_time": "2021-11-11T00:38:25.050474",
     "exception": false,
     "start_time": "2021-11-11T00:38:15.567370",
     "status": "completed"
    },
    "tags": []
   },
   "outputs": [
    {
     "name": "stdout",
     "output_type": "stream",
     "text": [
      "name    Ran?      Elapsed (s)    Percentage\n",
      "------  ------  -------------  ------------\n",
      "raw     True          1.64641       27.9727\n",
      "clean   True          1.87843       31.9147\n",
      "plot    True          2.36093       40.1125\n"
     ]
    },
    {
     "name": "stderr",
     "output_type": "stream",
     "text": [
      "Building task 'raw':   0%|          | 0/3 [00:00<?, ?it/s]\n",
      "Executing:   0%|          | 0/3 [00:00<?, ?cell/s]\u001b[A\n",
      "Executing:  33%|███▎      | 1/3 [00:01<00:02,  1.14s/cell]\u001b[A\n",
      "Executing: 100%|██████████| 3/3 [00:01<00:00,  2.90cell/s]\u001b[A\n",
      "Execution halted\n",
      "Executing: 100%|██████████| 3/3 [00:01<00:00,  2.16cell/s]\n",
      "Building task 'clean':  33%|███▎      | 1/3 [00:01<00:03,  1.65s/it]\n",
      "Executing:   0%|          | 0/4 [00:00<?, ?cell/s]\u001b[A\n",
      "Executing:  25%|██▌       | 1/4 [00:01<00:03,  1.31s/cell]\u001b[A\n",
      "Executing: 100%|██████████| 4/4 [00:01<00:00,  2.52cell/s]\u001b[A\n",
      "Building task 'plot':  67%|██████▋   | 2/3 [00:03<00:01,  1.79s/it] \n",
      "Executing:   0%|          | 0/4 [00:00<?, ?cell/s]\u001b[A\n",
      "Executing:  25%|██▌       | 1/4 [00:01<00:03,  1.07s/cell]\u001b[A\n",
      "Executing:  75%|███████▌  | 3/4 [00:01<00:00,  3.03cell/s]\u001b[A\n",
      "Executing: 100%|██████████| 4/4 [00:01<00:00,  2.02cell/s]\u001b[A\n",
      "Building task 'plot': 100%|██████████| 3/3 [00:05<00:00,  1.97s/it]\n"
     ]
    }
   ],
   "source": [
    "%%bash\n",
    "mkdir output\n",
    "ploomber build"
   ]
  },
  {
   "cell_type": "markdown",
   "id": "b09fe340",
   "metadata": {
    "papermill": {
     "duration": 0.032315,
     "end_time": "2021-11-11T00:38:25.102291",
     "exception": false,
     "start_time": "2021-11-11T00:38:25.069976",
     "status": "completed"
    },
    "tags": []
   },
   "source": [
    "Output stored in the ``output/`` directory."
   ]
  }
 ],
 "metadata": {
  "kernelspec": {
   "display_name": "Python 3 (ipykernel)",
   "language": "python",
   "name": "python3"
  },
  "language_info": {
   "codemirror_mode": {
    "name": "ipython",
    "version": 3
   },
   "file_extension": ".py",
   "mimetype": "text/x-python",
   "name": "python",
   "nbconvert_exporter": "python",
   "pygments_lexer": "ipython3",
   "version": "3.10.1"
  },
  "papermill": {
   "default_parameters": {},
   "duration": 15.252639,
   "end_time": "2021-11-11T00:38:25.365990",
   "environment_variables": {},
   "exception": null,
   "input_path": "templates/spec-api-r/_build/readme_preprocessed.ipynb",
   "output_path": "templates/spec-api-r/README.ipynb",
   "parameters": {},
   "start_time": "2021-11-11T00:38:10.113351",
   "version": "2.3.3"
  }
 },
 "nbformat": 4,
 "nbformat_minor": 5
}
