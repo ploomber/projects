{
 "cells": [
  {
   "cell_type": "markdown",
   "id": "19f8f1e3",
   "metadata": {
    "papermill": {
     "duration": 0.015306,
     "end_time": "2021-10-14T15:01:59.211948",
     "exception": false,
     "start_time": "2021-10-14T15:01:59.196642",
     "status": "completed"
    },
    "tags": []
   },
   "source": [
    "To run this example locally, execute: `ploomber examples -n spec-api-r`.\n",
    "\n",
    "To start a free, hosted JupyterLab: [![binder-logo](https://mybinder.org/badge_logo.svg)](https://mybinder.org/v2/gh/ploomber/binder-env/main?urlpath=git-pull%3Frepo%3Dhttps%253A%252F%252Fgithub.com%252Fploomber%252Fprojects%26urlpath%3Dlab%252Ftree%252Fprojects%252Fspec-api-r%252FREADME.ipynb%26branch%3Dmaster)\n",
    "\n",
    "Found an issue? [Let us know.](https://github.com/ploomber/projects/issues/new?title=spec-api-r%20issue)\n",
    "\n",
    "Have questions? [Ask us anything on Slack.](http://community.ploomber.io/)\n"
   ]
  },
  {
   "cell_type": "markdown",
   "id": "49f78fef",
   "metadata": {
    "papermill": {
     "duration": 0.01649,
     "end_time": "2021-10-14T15:01:59.242431",
     "exception": false,
     "start_time": "2021-10-14T15:01:59.225941",
     "status": "completed"
    },
    "tags": []
   },
   "source": [
    "# R pipeline\n",
    "\n",
    "R pipeline.\n",
    "\n",
    "**Note:** If using conda (`environment.yml`), R will be installed and configured. If using pip (`requirements.txt`), you must install R and [configure it yourself]( https://github.com/IRkernel/IRkernel)."
   ]
  },
  {
   "cell_type": "markdown",
   "id": "eda5fd1b",
   "metadata": {
    "papermill": {
     "duration": 0.016309,
     "end_time": "2021-10-14T15:01:59.278450",
     "exception": false,
     "start_time": "2021-10-14T15:01:59.262141",
     "status": "completed"
    },
    "tags": []
   },
   "source": [
    "## Pipeline description\n",
    "\n",
    "This pipeline contains three tasks. The last task generates a plot. To get the\n",
    "pipeline description:"
   ]
  },
  {
   "cell_type": "code",
   "execution_count": 1,
   "id": "8f198107",
   "metadata": {
    "execution": {
     "iopub.execute_input": "2021-10-14T15:01:59.318532Z",
     "iopub.status.busy": "2021-10-14T15:01:59.317645Z",
     "iopub.status.idle": "2021-10-14T15:02:02.724228Z",
     "shell.execute_reply": "2021-10-14T15:02:02.724941Z"
    },
    "papermill": {
     "duration": 3.431763,
     "end_time": "2021-10-14T15:02:02.725239",
     "exception": false,
     "start_time": "2021-10-14T15:01:59.293476",
     "status": "completed"
    },
    "tags": []
   },
   "outputs": [
    {
     "name": "stdout",
     "output_type": "stream",
     "text": [
      "name    Last run      Outdated?    Product       Doc (short)    Location\n",
      "------  ------------  -----------  ------------  -------------  ------------\n",
      "raw     Has not been  Source code  MetaProduct(                 /Users/Edu/d\n",
      "        run                        {'data': Fil                 ev/projects-\n",
      "                                   e('output/ra                 ploomber/spe\n",
      "                                   w.csv'),                     c-\n",
      "                                   'nb': File('                 api-r/raw.R\n",
      "                                   output/raw.i\n",
      "                                   pynb')})\n",
      "clean   Has not been  Source code  MetaProduct(                 /Users/Edu/d\n",
      "        run           & Upstream   {'data': Fil                 ev/projects-\n",
      "                                   e('output/cl                 ploomber/spe\n",
      "                                   ean.csv'),                   c-api-r/clea\n",
      "                                   'nb': File('                 n.R\n",
      "                                   output/clean\n",
      "                                   .ipynb')})\n",
      "plot    Has not been  Source code  File('output                 /Users/Edu/d\n",
      "        run           & Upstream   /plot.ipynb'                 ev/projects-\n",
      "                                   )                            ploomber/spe\n",
      "                                                                c-\n",
      "                                                                api-r/plot.R\n"
     ]
    },
    {
     "name": "stderr",
     "output_type": "stream",
     "text": [
      "\r",
      "  0%|          | 0/3 [00:00<?, ?it/s]\r",
      "100%|██████████| 3/3 [00:00<00:00, 3225.56it/s]\n"
     ]
    }
   ],
   "source": [
    "%%bash\n",
    "ploomber status"
   ]
  },
  {
   "cell_type": "markdown",
   "id": "89887036",
   "metadata": {
    "papermill": {
     "duration": 0.015869,
     "end_time": "2021-10-14T15:02:02.756645",
     "exception": false,
     "start_time": "2021-10-14T15:02:02.740776",
     "status": "completed"
    },
    "tags": []
   },
   "source": [
    "## Build the pipeline from the command line"
   ]
  },
  {
   "cell_type": "code",
   "execution_count": 2,
   "id": "cc7e397b",
   "metadata": {
    "execution": {
     "iopub.execute_input": "2021-10-14T15:02:02.795909Z",
     "iopub.status.busy": "2021-10-14T15:02:02.795047Z",
     "iopub.status.idle": "2021-10-14T15:02:12.244217Z",
     "shell.execute_reply": "2021-10-14T15:02:12.244923Z"
    },
    "papermill": {
     "duration": 9.472908,
     "end_time": "2021-10-14T15:02:12.245226",
     "exception": false,
     "start_time": "2021-10-14T15:02:02.772318",
     "status": "completed"
    },
    "tags": []
   },
   "outputs": [
    {
     "name": "stdout",
     "output_type": "stream",
     "text": [
      "name    Ran?      Elapsed (s)    Percentage\n",
      "------  ------  -------------  ------------\n",
      "raw     True          1.76873       31.6945\n",
      "clean   True          1.57461       28.2161\n",
      "plot    True          2.23721       40.0895\n"
     ]
    },
    {
     "name": "stderr",
     "output_type": "stream",
     "text": [
      "\r",
      "  0%|          | 0/3 [00:00<?, ?it/s]\r",
      "Building task 'raw':   0%|          | 0/3 [00:00<?, ?it/s]\n",
      "\r",
      "Executing:   0%|          | 0/3 [00:00<?, ?cell/s]\u001b[A\n",
      "\r",
      "Executing:  33%|███▎      | 1/3 [00:01<00:02,  1.49s/cell]\u001b[A\n",
      "\r",
      "Executing: 100%|██████████| 3/3 [00:01<00:00,  2.31cell/s]\u001b[A\r",
      "Executing: 100%|██████████| 3/3 [00:01<00:00,  1.73cell/s]\n",
      "\r",
      "Building task 'raw':  33%|███▎      | 1/3 [00:01<00:03,  1.77s/it]\r",
      "Building task 'clean':  33%|███▎      | 1/3 [00:01<00:03,  1.77s/it]\n",
      "\r",
      "Executing:   0%|          | 0/4 [00:00<?, ?cell/s]\u001b[A\n",
      "\r",
      "Executing:  25%|██▌       | 1/4 [00:01<00:03,  1.26s/cell]\u001b[A\n",
      "\r",
      "Executing:  75%|███████▌  | 3/4 [00:01<00:00,  2.69cell/s]\u001b[A\r",
      "Executing: 100%|██████████| 4/4 [00:01<00:00,  2.60cell/s]\n",
      "\r",
      "Building task 'clean':  67%|██████▋   | 2/3 [00:03<00:01,  1.66s/it]\r",
      "Building task 'plot':  67%|██████▋   | 2/3 [00:03<00:01,  1.66s/it] \n",
      "\r",
      "Executing:   0%|          | 0/4 [00:00<?, ?cell/s]\u001b[A\n",
      "\r",
      "Executing:  25%|██▌       | 1/4 [00:01<00:03,  1.14s/cell]\u001b[A\n",
      "\r",
      "Executing:  75%|███████▌  | 3/4 [00:01<00:00,  2.87cell/s]\u001b[A\n",
      "\r",
      "Executing: 100%|██████████| 4/4 [00:02<00:00,  1.98cell/s]\u001b[A\r",
      "Executing: 100%|██████████| 4/4 [00:02<00:00,  1.82cell/s]\n",
      "\r",
      "Building task 'plot': 100%|██████████| 3/3 [00:05<00:00,  1.92s/it]\r",
      "Building task 'plot': 100%|██████████| 3/3 [00:05<00:00,  1.86s/it]\n"
     ]
    }
   ],
   "source": [
    "%%bash\n",
    "mkdir output\n",
    "ploomber build"
   ]
  },
  {
   "cell_type": "markdown",
   "id": "9660ecd3",
   "metadata": {
    "papermill": {
     "duration": 0.018243,
     "end_time": "2021-10-14T15:02:12.282449",
     "exception": false,
     "start_time": "2021-10-14T15:02:12.264206",
     "status": "completed"
    },
    "tags": []
   },
   "source": [
    "Output stored in the ``output/`` directory."
   ]
  }
 ],
 "metadata": {
  "kernelspec": {
   "display_name": "Python 3 (ipykernel)",
   "language": "python",
   "name": "python3"
  },
  "language_info": {
   "codemirror_mode": {
    "name": "ipython",
    "version": 3
   },
   "file_extension": ".py",
   "mimetype": "text/x-python",
   "name": "python",
   "nbconvert_exporter": "python",
   "pygments_lexer": "ipython3",
   "version": "3.9.7"
  },
  "papermill": {
   "default_parameters": {},
   "duration": 14.532618,
   "end_time": "2021-10-14T15:02:12.514443",
   "environment_variables": {},
   "exception": null,
   "input_path": "spec-api-r/_build/readme_preprocessed.ipynb",
   "output_path": "spec-api-r/README.ipynb",
   "parameters": {},
   "start_time": "2021-10-14T15:01:57.981825",
   "version": "2.3.3"
  }
 },
 "nbformat": 4,
 "nbformat_minor": 5
}