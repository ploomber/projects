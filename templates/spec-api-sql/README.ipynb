{
 "cells": [
  {
   "cell_type": "markdown",
   "id": "5bfd23fa",
   "metadata": {
    "papermill": {
     "duration": 0.03836,
     "end_time": "2022-05-14T00:02:09.039898",
     "exception": false,
     "start_time": "2022-05-14T00:02:09.001538",
     "status": "completed"
    },
    "tags": []
   },
   "source": [
    "To run this locally, [install Ploomber](https://docs.ploomber.io/en/latest/get-started/quick-start.html) and execute: `ploomber examples -n templates/spec-api-sql`\n",
    "\n",
    "Found an issue? [Let us know.](https://github.com/ploomber/projects/issues/new?title=templates/spec-api-sql%20issue)\n",
    "\n",
    "Questions? [Ask us on Slack.](https://ploomber.io/community/)\n",
    "\n"
   ]
  },
  {
   "cell_type": "markdown",
   "id": "4cca784d",
   "metadata": {
    "papermill": {
     "duration": 0.027258,
     "end_time": "2022-05-14T00:02:09.095956",
     "exception": false,
     "start_time": "2022-05-14T00:02:09.068698",
     "status": "completed"
    },
    "tags": []
   },
   "source": [
    "# SQL/Python pipeline\n",
    "\n",
    "<!-- start description -->\n",
    "Use SQL scripts to manipulate data in a database, dump a table, and plot it with Python.\n",
    "<!-- end description -->"
   ]
  },
  {
   "cell_type": "markdown",
   "id": "b8c6dc80",
   "metadata": {
    "papermill": {
     "duration": 0.028801,
     "end_time": "2022-05-14T00:02:09.151518",
     "exception": false,
     "start_time": "2022-05-14T00:02:09.122717",
     "status": "completed"
    },
    "tags": []
   },
   "source": [
    "## Create sample data\n"
   ]
  },
  {
   "cell_type": "code",
   "execution_count": null,
   "id": "485dd131",
   "metadata": {
    "execution": {
     "iopub.execute_input": "2022-05-14T00:02:09.211592Z",
     "iopub.status.busy": "2022-05-14T00:02:09.210880Z",
     "iopub.status.idle": "2022-05-14T00:02:12.532272Z",
     "shell.execute_reply": "2022-05-14T00:02:12.532853Z"
    },
    "papermill": {
     "duration": 3.357066,
     "end_time": "2022-05-14T00:02:12.533198",
     "exception": false,
     "start_time": "2022-05-14T00:02:09.176132",
     "status": "completed"
    },
    "tags": []
   },
   "outputs": [],
   "source": [
    "%%bash\n",
    "# create sample data\n",
    "cd setup\n",
    "bash setup.sh\n",
    "# move back to the original spec-api-sql folder\n",
    "cd .."
   ]
  },
  {
   "cell_type": "markdown",
   "id": "a7de8eca",
   "metadata": {
    "papermill": {
     "duration": 0.025777,
     "end_time": "2022-05-14T00:02:12.585831",
     "exception": false,
     "start_time": "2022-05-14T00:02:12.560054",
     "status": "completed"
    },
    "tags": []
   },
   "source": [
    "## Definition"
   ]
  },
  {
   "cell_type": "markdown",
   "id": "cd1c9f6f",
   "metadata": {
    "papermill": {
     "duration": 0.029241,
     "end_time": "2022-05-14T00:02:12.643073",
     "exception": false,
     "start_time": "2022-05-14T00:02:12.613832",
     "status": "completed"
    },
    "region_name": "md",
    "tags": []
   },
   "source": [
    "```yaml\n",
    "# Content of pipeline.yaml\n",
    "meta:\n",
    "  product_default_class:\n",
    "    SQLScript: SQLiteRelation\n",
    "\n",
    "  jupyter_hot_reload: True\n",
    "\n",
    "config:\n",
    "  hot_reload: True\n",
    "\n",
    "clients:\n",
    "  # tasks\n",
    "  SQLScript: config.get_client\n",
    "  SQLDump: config.get_client\n",
    "  # products\n",
    "  SQLiteRelation: config.get_client\n",
    "\n",
    "tasks:\n",
    "  - source: filter_sales.sql\n",
    "    product: [filtered_sales, table]\n",
    "    name: filter_sales\n",
    "\n",
    "  - source: group_sales.sql\n",
    "    product: [grouped_sales, table]\n",
    "    name: group_sales\n",
    "\n",
    "  - source: filter_prices.sql\n",
    "    product: [filtered_prices, table]\n",
    "    name: filter_prices\n",
    "\n",
    "  - source: join.sql\n",
    "    product: [joined, table]\n",
    "    name: join\n",
    "\n",
    "  - class: SQLDump\n",
    "    source: join_dump.sql\n",
    "    product: output/joined_data.csv\n",
    "    name: join_dump\n",
    "    chunksize: null\n",
    "\n",
    "  - source: plot.py\n",
    "    product: output/plot.html\n",
    "```"
   ]
  },
  {
   "cell_type": "markdown",
   "id": "b4f4b2e2",
   "metadata": {
    "papermill": {
     "duration": 0.025872,
     "end_time": "2022-05-14T00:02:12.695376",
     "exception": false,
     "start_time": "2022-05-14T00:02:12.669504",
     "status": "completed"
    },
    "tags": []
   },
   "source": [
    "The first two sections configure our pipeline; the `tasks` section is the\n",
    "actual pipeline definition. First, we see that we have a few SQL transformations,\n",
    "then we dump a table into a CSV file and produce an HTML report at the end.\n",
    "The order here doesn't matter, the source code itself declares its upstream dependencies, and Ploomber extracts them to execute your pipeline."
   ]
  },
  {
   "cell_type": "markdown",
   "id": "947e4434",
   "metadata": {
    "papermill": {
     "duration": 0.028607,
     "end_time": "2022-05-14T00:02:12.751432",
     "exception": false,
     "start_time": "2022-05-14T00:02:12.722825",
     "status": "completed"
    },
    "tags": []
   },
   "source": [
    "## Plot"
   ]
  },
  {
   "cell_type": "code",
   "execution_count": null,
   "id": "bf09fcec",
   "metadata": {
    "execution": {
     "iopub.execute_input": "2022-05-14T00:02:12.814895Z",
     "iopub.status.busy": "2022-05-14T00:02:12.814006Z",
     "iopub.status.idle": "2022-05-14T00:02:18.465840Z",
     "shell.execute_reply": "2022-05-14T00:02:18.466322Z"
    },
    "papermill": {
     "duration": 5.687495,
     "end_time": "2022-05-14T00:02:18.466559",
     "exception": false,
     "start_time": "2022-05-14T00:02:12.779064",
     "status": "completed"
    },
    "tags": []
   },
   "outputs": [],
   "source": [
    "%%bash\n",
    "ploomber plot"
   ]
  },
  {
   "cell_type": "markdown",
   "id": "dc69df12",
   "metadata": {
    "papermill": {
     "duration": 0.028175,
     "end_time": "2022-05-14T00:02:18.521669",
     "exception": false,
     "start_time": "2022-05-14T00:02:18.493494",
     "status": "completed"
    },
    "tags": []
   },
   "source": [
    "If running in Jupyter, load the plot with this code:"
   ]
  },
  {
   "cell_type": "code",
   "execution_count": null,
   "id": "1372f085",
   "metadata": {
    "execution": {
     "iopub.execute_input": "2022-05-14T00:02:18.586110Z",
     "iopub.status.busy": "2022-05-14T00:02:18.585483Z",
     "iopub.status.idle": "2022-05-14T00:02:18.597211Z",
     "shell.execute_reply": "2022-05-14T00:02:18.597705Z"
    },
    "papermill": {
     "duration": 0.044789,
     "end_time": "2022-05-14T00:02:18.597948",
     "exception": false,
     "start_time": "2022-05-14T00:02:18.553159",
     "status": "completed"
    },
    "tags": []
   },
   "outputs": [],
   "source": [
    "from IPython.display import Image\n",
    "\n",
    "Image(filename=\"pipeline.png\")\n",
    "\n",
    "# NOTE: ploomber plot will generate a pipeline.html (not .png) file if\n",
    "# pygraphviz is missing. In such case, open the file to view the pipeline plot"
   ]
  },
  {
   "cell_type": "markdown",
   "id": "fa5fd2c4",
   "metadata": {
    "papermill": {
     "duration": 0.030202,
     "end_time": "2022-05-14T00:02:18.657630",
     "exception": false,
     "start_time": "2022-05-14T00:02:18.627428",
     "status": "completed"
    },
    "tags": []
   },
   "source": [
    "Otherwise, open the `pipeline.png` file directly."
   ]
  },
  {
   "cell_type": "markdown",
   "id": "6969ad66",
   "metadata": {
    "papermill": {
     "duration": 0.027389,
     "end_time": "2022-05-14T00:02:18.714148",
     "exception": false,
     "start_time": "2022-05-14T00:02:18.686759",
     "status": "completed"
    },
    "tags": []
   },
   "source": [
    "## Build"
   ]
  },
  {
   "cell_type": "code",
   "execution_count": null,
   "id": "ffbe9fae",
   "metadata": {
    "execution": {
     "iopub.execute_input": "2022-05-14T00:02:18.778268Z",
     "iopub.status.busy": "2022-05-14T00:02:18.777569Z",
     "iopub.status.idle": "2022-05-14T00:02:28.471170Z",
     "shell.execute_reply": "2022-05-14T00:02:28.471663Z"
    },
    "papermill": {
     "duration": 9.727574,
     "end_time": "2022-05-14T00:02:28.471881",
     "exception": false,
     "start_time": "2022-05-14T00:02:18.744307",
     "status": "completed"
    },
    "tags": []
   },
   "outputs": [],
   "source": [
    "%%bash\n",
    "ploomber build"
   ]
  },
  {
   "cell_type": "markdown",
   "id": "a9d075b6",
   "metadata": {
    "papermill": {
     "duration": 0.032336,
     "end_time": "2022-05-14T00:02:28.539407",
     "exception": false,
     "start_time": "2022-05-14T00:02:28.507071",
     "status": "completed"
    },
    "tags": []
   },
   "source": [
    "The final output is a report: [output/plot.html](output/plot.html)."
   ]
  }
 ],
 "metadata": {
  "kernelspec": {
   "display_name": "Python 3 (ipykernel)",
   "language": "python",
   "name": "python3"
  },
  "language_info": {
   "codemirror_mode": {
    "name": "ipython",
    "version": 3
   },
   "file_extension": ".py",
   "mimetype": "text/x-python",
   "name": "python",
   "nbconvert_exporter": "python",
   "pygments_lexer": "ipython3",
   "version": "3.10.1"
  },
  "papermill": {
   "default_parameters": {},
   "duration": 21.535347,
   "end_time": "2022-05-14T00:02:28.782582",
   "environment_variables": {},
   "exception": null,
   "input_path": "templates/spec-api-sql/_build/readme_preprocessed.ipynb",
   "output_path": "templates/spec-api-sql/README.ipynb",
   "parameters": {},
   "start_time": "2022-05-14T00:02:07.247235",
   "version": "2.3.4"
  },
  "varInspector": {
   "cols": {
    "lenName": 16,
    "lenType": 16,
    "lenVar": 40
   },
   "kernels_config": {
    "python": {
     "delete_cmd_postfix": "",
     "delete_cmd_prefix": "del ",
     "library": "var_list.py",
     "varRefreshCmd": "print(var_dic_list())"
    },
    "r": {
     "delete_cmd_postfix": ") ",
     "delete_cmd_prefix": "rm(",
     "library": "var_list.r",
     "varRefreshCmd": "cat(var_dic_list()) "
    }
   },
   "types_to_exclude": [
    "module",
    "function",
    "builtin_function_or_method",
    "instance",
    "_Feature"
   ],
   "window_display": false
  }
 },
 "nbformat": 4,
 "nbformat_minor": 5
}
