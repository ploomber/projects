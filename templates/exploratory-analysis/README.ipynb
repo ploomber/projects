{
 "cells": [
  {
   "cell_type": "markdown",
   "id": "9cc4d02e",
   "metadata": {
    "papermill": {
     "duration": 0.018053,
     "end_time": "2022-05-13T23:57:52.686798",
     "exception": false,
     "start_time": "2022-05-13T23:57:52.668745",
     "status": "completed"
    },
    "tags": []
   },
   "source": [
    "To run this locally, [install Ploomber](https://docs.ploomber.io/en/latest/get-started/quick-start.html) and execute: `ploomber examples -n templates/exploratory-analysis`\n",
    "\n",
    "Found an issue? [Let us know.](https://github.com/ploomber/projects/issues/new?title=templates/exploratory-analysis%20issue)\n",
    "\n",
    "Questions? [Ask us on Slack.](https://ploomber.io/community/)\n"
   ]
  },
  {
   "cell_type": "markdown",
   "id": "84aa002a",
   "metadata": {
    "papermill": {
     "duration": 0.01706,
     "end_time": "2022-05-13T23:57:52.720694",
     "exception": false,
     "start_time": "2022-05-13T23:57:52.703634",
     "status": "completed"
    },
    "tags": []
   },
   "source": [
    "# Exploratory Data Analysis\n",
    "\n",
    "<!-- start description -->\n",
    "Sample pipeline that explores penguins data.\n",
    "<!-- end description -->\n",
    "\n",
    "It contains five tasks, to get, clean, and visualize the data:"
   ]
  },
  {
   "cell_type": "markdown",
   "id": "add85c61",
   "metadata": {
    "papermill": {
     "duration": 0.014959,
     "end_time": "2022-05-13T23:57:52.751484",
     "exception": false,
     "start_time": "2022-05-13T23:57:52.736525",
     "status": "completed"
    },
    "region_name": "md",
    "tags": []
   },
   "source": [
    "```yaml\n",
    "# Content of pipeline.yaml\n",
    "tasks:\n",
    "  # get raw data\n",
    "  - source: scripts/get.py\n",
    "    product:\n",
    "      nb: products/get.html\n",
    "      data: products/raw.csv\n",
    "\n",
    "  # quick raw data profiling\n",
    "  - source: scripts/profile-raw.py\n",
    "    # html report\n",
    "    product: products/report-raw.html\n",
    "\n",
    "  # clean raw data\n",
    "  - source: scripts/clean.py\n",
    "    product:\n",
    "      nb: products/clean.html\n",
    "      # clean data\n",
    "      data: products/clean.csv\n",
    "\n",
    "  # quick clean data profiling\n",
    "  - source: scripts/profile-clean.py\n",
    "    # html report     \n",
    "    product: products/report-clean.html\n",
    "\n",
    "\n",
    "  # custom plots\n",
    "  - source: scripts/custom.py\n",
    "    product: products/custom.html\n",
    "```"
   ]
  },
  {
   "cell_type": "markdown",
   "id": "6b11b949",
   "metadata": {
    "papermill": {
     "duration": 0.014164,
     "end_time": "2022-05-13T23:57:52.781621",
     "exception": false,
     "start_time": "2022-05-13T23:57:52.767457",
     "status": "completed"
    },
    "tags": []
   },
   "source": [
    "Generate the plot (note that this requires `pygraphviz`, you can skip this if you want):"
   ]
  },
  {
   "cell_type": "markdown",
   "id": "9b19e2dd",
   "metadata": {
    "lines_to_next_cell": 2,
    "papermill": {
     "duration": 0.015284,
     "end_time": "2022-05-13T23:57:52.814335",
     "exception": false,
     "start_time": "2022-05-13T23:57:52.799051",
     "status": "completed"
    },
    "region_name": "md",
    "tags": []
   },
   "source": [
    "```sh\n",
    "ploomber plot\n",
    "```"
   ]
  },
  {
   "cell_type": "markdown",
   "id": "f1f4e9f5",
   "metadata": {
    "papermill": {
     "duration": 0.015296,
     "end_time": "2022-05-13T23:57:52.843967",
     "exception": false,
     "start_time": "2022-05-13T23:57:52.828671",
     "status": "completed"
    },
    "tags": []
   },
   "source": [
    "Open the generated file to see the diagram.\n",
    "\n",
    "## Build pipeline"
   ]
  },
  {
   "cell_type": "code",
   "execution_count": 1,
   "id": "67b5ef81",
   "metadata": {
    "execution": {
     "iopub.execute_input": "2022-05-13T23:57:52.882454Z",
     "iopub.status.busy": "2022-05-13T23:57:52.881740Z",
     "iopub.status.idle": "2022-05-13T23:58:52.174526Z",
     "shell.execute_reply": "2022-05-13T23:58:52.173500Z"
    },
    "papermill": {
     "duration": 59.315794,
     "end_time": "2022-05-13T23:58:52.174762",
     "exception": false,
     "start_time": "2022-05-13T23:57:52.858968",
     "status": "completed"
    },
    "tags": []
   },
   "outputs": [
    {
     "name": "stdout",
     "output_type": "stream",
     "text": [
      "Loading pipeline...\n",
      "name           Ran?      Elapsed (s)    Percentage\n",
      "-------------  ------  -------------  ------------\n",
      "get            True          3.49559        6.6937\n",
      "profile-raw    True         16.5659        31.7219\n",
      "clean          True          3.88825        7.4456\n",
      "profile-clean  True         16.6528        31.8884\n",
      "custom         True         11.6196        22.2503\n"
     ]
    },
    {
     "name": "stderr",
     "output_type": "stream",
     "text": [
      "/Users/Edu/dev/ploomber/src/ploomber/cli/cloud.py:165: UserWarning: Issue: Non cloud users can monitor up to 2 pipelines simultaneously\n",
      "  warnings.warn(content)\n",
      "Building task 'get':   0%|          | 0/5 [00:00<?, ?it/s]\n",
      "Executing:   0%|          | 0/6 [00:00<?, ?cell/s]\u001b[A\n",
      "Executing:  17%|█▋        | 1/6 [00:01<00:06,  1.38s/cell]\u001b[A\n",
      "Executing:  33%|███▎      | 2/6 [00:02<00:05,  1.29s/cell]\u001b[A\n",
      "Executing: 100%|██████████| 6/6 [00:03<00:00,  1.95cell/s]\u001b[A\n",
      "Building task 'profile-raw':  20%|██        | 1/5 [00:03<00:14,  3.50s/it]\n",
      "Executing:   0%|          | 0/7 [00:00<?, ?cell/s]\u001b[A\n",
      "Executing:  14%|█▍        | 1/7 [00:01<00:07,  1.28s/cell]\u001b[A\n",
      "Executing:  29%|██▊       | 2/7 [00:02<00:07,  1.44s/cell]\u001b[A\n",
      "Executing:  71%|███████▏  | 5/7 [00:02<00:00,  2.29cell/s]\u001b[A\n",
      "Executing: 100%|██████████| 7/7 [00:15<00:00,  2.28s/cell]\u001b[A\n",
      "Building task 'clean':  40%|████      | 2/5 [00:20<00:33, 11.19s/it]      \n",
      "Executing:   0%|          | 0/10 [00:00<?, ?cell/s]\u001b[A\n",
      "Executing:  10%|█         | 1/10 [00:01<00:15,  1.68s/cell]\u001b[A\n",
      "Executing:  20%|██        | 2/10 [00:02<00:10,  1.29s/cell]\u001b[A\n",
      "Executing:  40%|████      | 4/10 [00:02<00:03,  1.95cell/s]\u001b[A\n",
      "Executing:  60%|██████    | 6/10 [00:02<00:01,  3.39cell/s]\u001b[A\n",
      "Executing:  80%|████████  | 8/10 [00:03<00:00,  4.96cell/s]\u001b[A\n",
      "Executing: 100%|██████████| 10/10 [00:03<00:00,  2.97cell/s]\u001b[A\n",
      "Building task 'profile-clean':  60%|██████    | 3/5 [00:23<00:15,  7.86s/it]\n",
      "Executing:   0%|          | 0/7 [00:00<?, ?cell/s]\u001b[A\n",
      "Executing:  14%|█▍        | 1/7 [00:01<00:06,  1.15s/cell]\u001b[A\n",
      "Executing:  29%|██▊       | 2/7 [00:03<00:08,  1.73s/cell]\u001b[A\n",
      "Executing:  71%|███████▏  | 5/7 [00:03<00:01,  1.92cell/s]\u001b[A\n",
      "Executing: 100%|██████████| 7/7 [00:16<00:00,  2.29s/cell]\u001b[A\n",
      "Building task 'custom':  80%|████████  | 4/5 [00:40<00:11, 11.33s/it]       \n",
      "Executing:   0%|          | 0/11 [00:00<?, ?cell/s]\u001b[A\n",
      "Executing:   9%|▉         | 1/11 [00:01<00:18,  1.88s/cell]\u001b[A\n",
      "Executing:  18%|█▊        | 2/11 [00:03<00:16,  1.85s/cell]\u001b[A\n",
      "Executing:  36%|███▋      | 4/11 [00:03<00:05,  1.38cell/s]\u001b[A\n",
      "Executing:  55%|█████▍    | 6/11 [00:03<00:02,  2.45cell/s]\u001b[A\n",
      "Executing:  73%|███████▎  | 8/11 [00:04<00:00,  3.16cell/s]\u001b[A\n",
      "Executing:  82%|████████▏ | 9/11 [00:05<00:00,  2.28cell/s]\u001b[A\n",
      "Executing:  91%|█████████ | 10/11 [00:10<00:01,  1.58s/cell]\u001b[A\n",
      "Executing: 100%|██████████| 11/11 [00:10<00:00,  1.01cell/s]\u001b[A\n",
      "Building task 'custom': 100%|██████████| 5/5 [00:52<00:00, 10.45s/it]\n",
      "/Users/Edu/dev/ploomber/src/ploomber/cli/cloud.py:165: UserWarning: Issue: Non cloud users can monitor up to 2 pipelines simultaneously\n",
      "  warnings.warn(content)\n"
     ]
    }
   ],
   "source": [
    "%%sh\n",
    "ploomber build"
   ]
  },
  {
   "cell_type": "markdown",
   "id": "6707eb58",
   "metadata": {
    "papermill": {
     "duration": 0.019899,
     "end_time": "2022-05-13T23:58:52.216726",
     "exception": false,
     "start_time": "2022-05-13T23:58:52.196827",
     "status": "completed"
    },
    "tags": []
   },
   "source": [
    "Each task generates an HTML report, go to the `products/` directory after\n",
    "building the pipeline to see them."
   ]
  }
 ],
 "metadata": {
  "kernelspec": {
   "display_name": "Python 3 (ipykernel)",
   "language": "python",
   "name": "python3"
  },
  "language_info": {
   "codemirror_mode": {
    "name": "ipython",
    "version": 3
   },
   "file_extension": ".py",
   "mimetype": "text/x-python",
   "name": "python",
   "nbconvert_exporter": "python",
   "pygments_lexer": "ipython3",
   "version": "3.10.1"
  },
  "papermill": {
   "default_parameters": {},
   "duration": 61.553063,
   "end_time": "2022-05-13T23:58:52.457496",
   "environment_variables": {},
   "exception": null,
   "input_path": "templates/exploratory-analysis/_build/readme_preprocessed.ipynb",
   "output_path": "templates/exploratory-analysis/README.ipynb",
   "parameters": {},
   "start_time": "2022-05-13T23:57:50.904433",
   "version": "2.3.4"
  }
 },
 "nbformat": 4,
 "nbformat_minor": 5
}
