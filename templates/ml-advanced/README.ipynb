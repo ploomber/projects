{
 "cells": [
  {
   "cell_type": "markdown",
   "id": "fc02f151",
   "metadata": {
    "papermill": {
     "duration": 0.017416,
     "end_time": "2021-10-14T15:08:18.168908",
     "exception": false,
     "start_time": "2021-10-14T15:08:18.151492",
     "status": "completed"
    },
    "tags": []
   },
   "source": [
    "To run this example locally, execute: `ploomber examples -n ml-advanced`.\n",
    "\n",
    "To start a free, hosted JupyterLab: [![binder-logo](https://mybinder.org/badge_logo.svg)](https://mybinder.org/v2/gh/ploomber/binder-env/main?urlpath=git-pull%3Frepo%3Dhttps%253A%252F%252Fgithub.com%252Fploomber%252Fprojects%26urlpath%3Dlab%252Ftree%252Fprojects%252Fml-advanced%252FREADME.ipynb%26branch%3Dmaster)\n",
    "\n",
    "Found an issue? [Let us know.](https://github.com/ploomber/projects/issues/new?title=ml-advanced%20issue)\n",
    "\n",
    "Have questions? [Ask us anything on Slack.](http://community.ploomber.io/)\n"
   ]
  },
  {
   "cell_type": "markdown",
   "id": "fc0d89b7",
   "metadata": {
    "papermill": {
     "duration": 0.023459,
     "end_time": "2021-10-14T15:08:18.210506",
     "exception": false,
     "start_time": "2021-10-14T15:08:18.187047",
     "status": "completed"
    },
    "tags": []
   },
   "source": [
    "# ML advanced\n",
    "\n",
    "ML pipeline using the Python API. Shows how to package project, test it using pytest, and train models in parallel.\n",
    "\n",
    "## Build"
   ]
  },
  {
   "cell_type": "code",
   "execution_count": 1,
   "id": "0a84e058",
   "metadata": {
    "execution": {
     "iopub.execute_input": "2021-10-14T15:08:18.252977Z",
     "iopub.status.busy": "2021-10-14T15:08:18.251838Z",
     "iopub.status.idle": "2021-10-14T15:08:55.980251Z",
     "shell.execute_reply": "2021-10-14T15:08:55.979329Z"
    },
    "papermill": {
     "duration": 37.753544,
     "end_time": "2021-10-14T15:08:55.980878",
     "exception": false,
     "start_time": "2021-10-14T15:08:18.227334",
     "status": "completed"
    },
    "tags": []
   },
   "outputs": [
    {
     "name": "stdout",
     "output_type": "stream",
     "text": [
      "Finished tasks so far: \n",
      "Remaining tasks: {'fit-ml-advanced--models--logistic-reg', 'fit-ml-advanced--models--svc', 'features', 'get', 'join', 'fit-sklearn--ensemble--RandomForestClassifier'}\n",
      "Finished 0 out of 6 tasks\n",
      "Finished tasks so far: \n",
      "Remaining tasks: {'fit-ml-advanced--models--logistic-reg', 'fit-ml-advanced--models--svc', 'features', 'get', 'join', 'fit-sklearn--ensemble--RandomForestClassifier'}\n",
      "Finished 0 out of 6 tasks\n",
      "Finished tasks so far: {'join', 'features', 'get'}\n",
      "Remaining tasks: {'fit-ml-advanced--models--logistic-reg', 'fit-ml-advanced--models--svc', 'fit-sklearn--ensemble--RandomForestClassifier'}\n",
      "Finished 3 out of 6 tasks\n",
      "Finished tasks so far: {'join', 'features', 'get'}\n",
      "Remaining tasks: {'fit-ml-advanced--models--logistic-reg', 'fit-ml-advanced--models--svc', 'fit-sklearn--ensemble--RandomForestClassifier'}\n",
      "Finished 3 out of 6 tasks\n",
      "name                                Ran?      Elapsed (s)    Percentage\n",
      "----------------------------------  ------  -------------  ------------\n",
      "get                                 True         0.414533     0.561104\n",
      "features                            True         0.025848     0.0349873\n",
      "join                                True         0.013171     0.017828\n",
      "fit-sklearn--ensemble--             True        26.8722      36.3737\n",
      "RandomForestClassifier\n",
      "fit-ml-advanced--models--logistic-  True        23.2771      31.5074\n",
      "reg\n",
      "fit-ml-advanced--models--svc        True        23.2753      31.505\n"
     ]
    },
    {
     "name": "stderr",
     "output_type": "stream",
     "text": [
      "\r",
      "Executing:   0%|          | 0/15 [00:00<?, ?cell/s]\r",
      "Executing:   7%|▋         | 1/15 [00:01<00:25,  1.81s/cell]\r",
      "Executing:  13%|█▎        | 2/15 [00:03<00:26,  2.02s/cell]\r",
      "Executing:  20%|██        | 3/15 [00:04<00:13,  1.15s/cell]\r",
      "Executing:   0%|          | 0/15 [00:00<?, ?cell/s]\r",
      "Executing:   0%|          | 0/15 [00:00<?, ?cell/s]\r",
      "Executing:  27%|██▋       | 4/15 [00:04<00:08,  1.35cell/s]\r",
      "Executing:  33%|███▎      | 5/15 [00:04<00:05,  1.94cell/s]\r",
      "Executing:  40%|████      | 6/15 [00:04<00:04,  2.14cell/s]\r",
      "Executing:  47%|████▋     | 7/15 [00:04<00:03,  2.66cell/s]\r",
      "Executing:  53%|█████▎    | 8/15 [00:05<00:02,  3.40cell/s]\r",
      "Executing:   7%|▋         | 1/15 [00:02<00:39,  2.83s/cell]\r",
      "Executing:   7%|▋         | 1/15 [00:02<00:40,  2.88s/cell]\r",
      "Executing:  13%|█▎        | 2/15 [00:08<00:57,  4.38s/cell]\r",
      "Executing:  13%|█▎        | 2/15 [00:08<00:57,  4.39s/cell]\r",
      "Executing:  20%|██        | 3/15 [00:08<00:29,  2.49s/cell]\r",
      "Executing:  20%|██        | 3/15 [00:08<00:29,  2.49s/cell]\r",
      "Executing:  27%|██▋       | 4/15 [00:08<00:17,  1.56s/cell]\r",
      "Executing:  27%|██▋       | 4/15 [00:08<00:17,  1.56s/cell]\r",
      "Executing:  33%|███▎      | 5/15 [00:09<00:11,  1.12s/cell]\r",
      "Executing:  33%|███▎      | 5/15 [00:09<00:11,  1.12s/cell]\r",
      "Executing:  40%|████      | 6/15 [00:09<00:07,  1.15cell/s]\r",
      "Executing:  40%|████      | 6/15 [00:09<00:07,  1.15cell/s]\r",
      "Executing:  47%|████▋     | 7/15 [00:09<00:05,  1.39cell/s]\r",
      "Executing:  47%|████▋     | 7/15 [00:09<00:05,  1.39cell/s]\r",
      "Executing:  53%|█████▎    | 8/15 [00:09<00:03,  1.87cell/s]\r",
      "Executing:  53%|█████▎    | 8/15 [00:09<00:03,  1.87cell/s]\r",
      "Executing:  60%|██████    | 9/15 [00:16<00:23,  3.92s/cell]\r",
      "Executing:  67%|██████▋   | 10/15 [00:17<00:14,  2.89s/cell]\r",
      "Executing:  73%|███████▎  | 11/15 [00:19<00:09,  2.47s/cell]\r",
      "Executing:  80%|████████  | 12/15 [00:21<00:07,  2.60s/cell]\r",
      "Executing:  60%|██████    | 9/15 [00:18<00:17,  2.94s/cell]\r",
      "Executing:  60%|██████    | 9/15 [00:18<00:17,  2.95s/cell]\r",
      "Executing:  67%|██████▋   | 10/15 [00:18<00:10,  2.08s/cell]\r",
      "Executing:  67%|██████▋   | 10/15 [00:18<00:10,  2.09s/cell]\r",
      "Executing:  87%|████████▋ | 13/15 [00:22<00:04,  2.04s/cell]\r",
      "Executing:  93%|█████████▎| 14/15 [00:22<00:01,  1.48s/cell]\r",
      "Executing: 100%|██████████| 15/15 [00:23<00:00,  1.09s/cell]\r",
      "Executing:  73%|███████▎  | 11/15 [00:18<00:06,  1.62s/cell]\r",
      "Executing:  73%|███████▎  | 11/15 [00:18<00:06,  1.63s/cell]\r",
      "Executing:  80%|████████  | 12/15 [00:19<00:03,  1.32s/cell]\r",
      "Executing:  80%|████████  | 12/15 [00:19<00:03,  1.32s/cell]\r",
      "Executing:  87%|████████▋ | 13/15 [00:20<00:02,  1.08s/cell]\r",
      "Executing:  87%|████████▋ | 13/15 [00:20<00:02,  1.09s/cell]\r",
      "Executing:  93%|█████████▎| 14/15 [00:20<00:00,  1.24cell/s]\r",
      "Executing:  93%|█████████▎| 14/15 [00:20<00:00,  1.23cell/s]\r",
      "Executing: 100%|██████████| 15/15 [00:20<00:00,  1.64cell/s]\r",
      "Executing: 100%|██████████| 15/15 [00:20<00:00,  1.55cell/s]\r",
      "Executing: 100%|██████████| 15/15 [00:25<00:00,  1.71s/cell]\n",
      "\r",
      "Executing: 100%|██████████| 15/15 [00:22<00:00,  1.49s/cell]\n",
      "\r",
      "Executing: 100%|██████████| 15/15 [00:22<00:00,  1.49s/cell]\n"
     ]
    }
   ],
   "source": [
    "%%sh\n",
    "ploomber build --entry-point ml_advanced.pipeline.make"
   ]
  },
  {
   "cell_type": "markdown",
   "id": "15919e27",
   "metadata": {
    "papermill": {
     "duration": 0.019818,
     "end_time": "2021-10-14T15:08:56.027154",
     "exception": false,
     "start_time": "2021-10-14T15:08:56.007336",
     "status": "completed"
    },
    "tags": []
   },
   "source": [
    "## Testing"
   ]
  },
  {
   "cell_type": "code",
   "execution_count": 2,
   "id": "1c87a421",
   "metadata": {
    "execution": {
     "iopub.execute_input": "2021-10-14T15:08:56.077113Z",
     "iopub.status.busy": "2021-10-14T15:08:56.076190Z",
     "iopub.status.idle": "2021-10-14T15:09:30.671693Z",
     "shell.execute_reply": "2021-10-14T15:09:30.672172Z"
    },
    "papermill": {
     "duration": 34.628197,
     "end_time": "2021-10-14T15:09:30.672390",
     "exception": false,
     "start_time": "2021-10-14T15:08:56.044193",
     "status": "completed"
    },
    "tags": []
   },
   "outputs": [
    {
     "name": "stdout",
     "output_type": "stream",
     "text": [
      "============================= test session starts ==============================\n",
      "platform darwin -- Python 3.9.7, pytest-6.2.5, py-1.10.0, pluggy-1.0.0\n",
      "rootdir: /Users/Edu/dev/projects-ploomber/ml-advanced\n",
      "plugins: Faker-9.2.0, anyio-3.3.3\n",
      "collected 1 item\n",
      "\n",
      "tests/test_pipeline.py .                                                 [100%]\n",
      "\n",
      "=============================== warnings summary ===============================\n",
      "../../../miniconda3/envs/projects/lib/python3.9/site-packages/ansiwrap/core.py:6\n",
      "  /Users/Edu/miniconda3/envs/projects/lib/python3.9/site-packages/ansiwrap/core.py:6: DeprecationWarning: the imp module is deprecated in favour of importlib; see the module's documentation for alternative uses\n",
      "    import imp\n",
      "\n",
      "tests/test_pipeline.py: 42 warnings\n",
      "  /Users/Edu/miniconda3/envs/projects/lib/python3.9/site-packages/jsonschema/validators.py:190: DeprecationWarning: Passing a schema to Validator.iter_errors is deprecated and will be removed in a future release. Call validator.evolve(schema=new_schema).iter_errors(...) instead.\n",
      "    warnings.warn(\n",
      "\n",
      "tests/test_pipeline.py::test_pipeline\n",
      "  /Users/Edu/dev/ploomber/src/ploomber/dag/dag.py:390: UserWarning: \n",
      "  =========================== DAG render with warnings ===========================\n",
      "  - NotebookRunner: fit-sklearn--ensemble--RandomForestClassifier -> MetaProduct({'model': File('output-...ifier.joblib'), 'nb': File('output-...sifier.ipynb')}) -\n",
      "  - /Users/Edu/miniconda3/envs/projects/lib/python3.9/site-packages/ml_advanced/templates/fit.py -\n",
      "  Passing a schema to Validator.iter_errors is deprecated and will be removed in a future release. Call validator.evolve(schema=new_schema).iter_errors(...) instead.\n",
      "  - NotebookRunner: fit-ml-advanced--models--logistic-reg -> MetaProduct({'model': File('output-...c_reg.joblib'), 'nb': File('output-...ic_reg.ipynb')}) -\n",
      "  - /Users/Edu/miniconda3/envs/projects/lib/python3.9/site-packages/ml_advanced/templates/fit.py -\n",
      "  Passing a schema to Validator.iter_errors is deprecated and will be removed in a future release. Call validator.evolve(schema=new_schema).iter_errors(...) instead.\n",
      "  - NotebookRunner: fit-ml-advanced--models--svc -> MetaProduct({'model': File('output-...s.svc.joblib'), 'nb': File('output-...ls.svc.ipynb')}) -\n",
      "  - /Users/Edu/miniconda3/envs/projects/lib/python3.9/site-packages/ml_advanced/templates/fit.py -\n",
      "  Passing a schema to Validator.iter_errors is deprecated and will be removed in a future release. Call validator.evolve(schema=new_schema).iter_errors(...) instead.\n",
      "  ============================== Summary (3 tasks) ===============================\n",
      "  NotebookRunner: fit-sklearn--ensemble--RandomForestClassifier -> MetaProduct({'model': File('output-...ifier.joblib'), 'nb': File('output-...sifier.ipynb')})\n",
      "  NotebookRunner: fit-ml-advanced--models--logistic-reg -> MetaProduct({'model': File('output-...c_reg.joblib'), 'nb': File('output-...ic_reg.ipynb')})\n",
      "  NotebookRunner: fit-ml-advanced--models--svc -> MetaProduct({'model': File('output-...s.svc.joblib'), 'nb': File('output-...ls.svc.ipynb')})\n",
      "  =========================== DAG render with warnings ===========================\n",
      "  \n",
      "    warnings.warn(str(warnings_))\n",
      "\n",
      "tests/test_pipeline.py::test_pipeline\n",
      "  /Users/Edu/dev/ploomber/src/ploomber/executors/serial.py:126: UserWarning: \n",
      "  =========================== DAG build with warnings ============================\n",
      "  - NotebookRunner: fit-sklearn--ensemble--RandomForestClassifier -> MetaProduct({'model': File('output-...ifier.joblib'), 'nb': File('output-...sifier.ipynb')}) -\n",
      "  - /Users/Edu/miniconda3/envs/projects/lib/python3.9/site-packages/ml_advanced/templates/fit.py -\n",
      "  Passing unrecognized arguments to super(PapermillNotebookClient).__init__(input_path='/var/folders/3h/_lvh_w_x5g30rrjzb_xnn2j80000gq/T/tmpum0_4d5y.ipynb').\n",
      "  object.__init__() takes exactly one argument (the instance to initialize)\n",
      "  This is deprecated in traitlets 4.2.This error will be raised in a future release of traitlets.\n",
      "  Passing a schema to Validator.iter_errors is deprecated and will be removed in a future release. Call validator.evolve(schema=new_schema).iter_errors(...) instead.\n",
      "  Passing a schema to Validator.iter_errors is deprecated and will be removed in a future release. Call validator.evolve(schema=new_schema).iter_errors(...) instead.\n",
      "  Passing a schema to Validator.iter_errors is deprecated and will be removed in a future release. Call validator.evolve(schema=new_schema).iter_errors(...) instead.\n",
      "  Passing a schema to Validator.iter_errors is deprecated and will be removed in a future release. Call validator.evolve(schema=new_schema).iter_errors(...) instead.\n",
      "  Passing a schema to Validator.iter_errors is deprecated and will be removed in a future release. Call validator.evolve(schema=new_schema).iter_errors(...) instead.\n",
      "  Passing a schema to Validator.iter_errors is deprecated and will be removed in a future release. Call validator.evolve(schema=new_schema).iter_errors(...) instead.\n",
      "  Passing a schema to Validator.iter_errors is deprecated and will be removed in a future release. Call validator.evolve(schema=new_schema).iter_errors(...) instead.\n",
      "  Passing a schema to Validator.iter_errors is deprecated and will be removed in a future release. Call validator.evolve(schema=new_schema).iter_errors(...) instead.\n",
      "  - NotebookRunner: fit-ml-advanced--models--logistic-reg -> MetaProduct({'model': File('output-...c_reg.joblib'), 'nb': File('output-...ic_reg.ipynb')}) -\n",
      "  - /Users/Edu/miniconda3/envs/projects/lib/python3.9/site-packages/ml_advanced/templates/fit.py -\n",
      "  Passing unrecognized arguments to super(PapermillNotebookClient).__init__(input_path='/var/folders/3h/_lvh_w_x5g30rrjzb_xnn2j80000gq/T/tmpj50m9vp4.ipynb').\n",
      "  object.__init__() takes exactly one argument (the instance to initialize)\n",
      "  This is deprecated in traitlets 4.2.This error will be raised in a future release of traitlets.\n",
      "  Passing a schema to Validator.iter_errors is deprecated and will be removed in a future release. Call validator.evolve(schema=new_schema).iter_errors(...) instead.\n",
      "  Passing a schema to Validator.iter_errors is deprecated and will be removed in a future release. Call validator.evolve(schema=new_schema).iter_errors(...) instead.\n",
      "  Passing a schema to Validator.iter_errors is deprecated and will be removed in a future release. Call validator.evolve(schema=new_schema).iter_errors(...) instead.\n",
      "  Passing a schema to Validator.iter_errors is deprecated and will be removed in a future release. Call validator.evolve(schema=new_schema).iter_errors(...) instead.\n",
      "  Passing a schema to Validator.iter_errors is deprecated and will be removed in a future release. Call validator.evolve(schema=new_schema).iter_errors(...) instead.\n",
      "  Passing a schema to Validator.iter_errors is deprecated and will be removed in a future release. Call validator.evolve(schema=new_schema).iter_errors(...) instead.\n",
      "  Passing a schema to Validator.iter_errors is deprecated and will be removed in a future release. Call validator.evolve(schema=new_schema).iter_errors(...) instead.\n",
      "  Passing a schema to Validator.iter_errors is deprecated and will be removed in a future release. Call validator.evolve(schema=new_schema).iter_errors(...) instead.\n",
      "  - NotebookRunner: fit-ml-advanced--models--svc -> MetaProduct({'model': File('output-...s.svc.joblib'), 'nb': File('output-...ls.svc.ipynb')}) -\n",
      "  - /Users/Edu/miniconda3/envs/projects/lib/python3.9/site-packages/ml_advanced/templates/fit.py -\n",
      "  Passing unrecognized arguments to super(PapermillNotebookClient).__init__(input_path='/var/folders/3h/_lvh_w_x5g30rrjzb_xnn2j80000gq/T/tmppbfqvb2n.ipynb').\n",
      "  object.__init__() takes exactly one argument (the instance to initialize)\n",
      "  This is deprecated in traitlets 4.2.This error will be raised in a future release of traitlets.\n",
      "  Passing a schema to Validator.iter_errors is deprecated and will be removed in a future release. Call validator.evolve(schema=new_schema).iter_errors(...) instead.\n",
      "  Passing a schema to Validator.iter_errors is deprecated and will be removed in a future release. Call validator.evolve(schema=new_schema).iter_errors(...) instead.\n",
      "  Passing a schema to Validator.iter_errors is deprecated and will be removed in a future release. Call validator.evolve(schema=new_schema).iter_errors(...) instead.\n",
      "  Passing a schema to Validator.iter_errors is deprecated and will be removed in a future release. Call validator.evolve(schema=new_schema).iter_errors(...) instead.\n",
      "  Passing a schema to Validator.iter_errors is deprecated and will be removed in a future release. Call validator.evolve(schema=new_schema).iter_errors(...) instead.\n",
      "  Passing a schema to Validator.iter_errors is deprecated and will be removed in a future release. Call validator.evolve(schema=new_schema).iter_errors(...) instead.\n",
      "  Passing a schema to Validator.iter_errors is deprecated and will be removed in a future release. Call validator.evolve(schema=new_schema).iter_errors(...) instead.\n",
      "  Passing a schema to Validator.iter_errors is deprecated and will be removed in a future release. Call validator.evolve(schema=new_schema).iter_errors(...) instead.\n",
      "  ============================== Summary (3 tasks) ===============================\n",
      "  NotebookRunner: fit-sklearn--ensemble--RandomForestClassifier -> MetaProduct({'model': File('output-...ifier.joblib'), 'nb': File('output-...sifier.ipynb')})\n",
      "  NotebookRunner: fit-ml-advanced--models--logistic-reg -> MetaProduct({'model': File('output-...c_reg.joblib'), 'nb': File('output-...ic_reg.ipynb')})\n",
      "  NotebookRunner: fit-ml-advanced--models--svc -> MetaProduct({'model': File('output-...s.svc.joblib'), 'nb': File('output-...ls.svc.ipynb')})\n",
      "  =========================== DAG build with warnings ============================\n",
      "  \n",
      "    warnings.warn(str(warnings_all))\n",
      "\n",
      "tests/test_pipeline.py::test_pipeline\n",
      "  /Users/Edu/dev/ploomber/src/ploomber/dag/dag.py:246: UserWarning: The DAG \"ml-pipeline\" entered in an inconsistent state: trying to set DAG status to DAGStatus.Executed but executor returned tasks whose status is not TaskStatus.Executed nor TaskStatus.Skipped, returned status: {<TaskStatus.WaitingExecution: 'waiting_execution'>, <TaskStatus.WaitingUpstream: 'waiting_upstream'>}\n",
      "    warnings.warn('The DAG \"{}\" entered in an inconsistent '\n",
      "\n",
      "-- Docs: https://docs.pytest.org/en/stable/warnings.html\n",
      "======================= 1 passed, 46 warnings in 33.43s ========================\n"
     ]
    }
   ],
   "source": [
    "%%bash\n",
    "# complete (force execution of all tasks)\n",
    "pytest --force"
   ]
  },
  {
   "cell_type": "code",
   "execution_count": 3,
   "id": "34b3b10f",
   "metadata": {
    "execution": {
     "iopub.execute_input": "2021-10-14T15:09:30.713657Z",
     "iopub.status.busy": "2021-10-14T15:09:30.712819Z",
     "iopub.status.idle": "2021-10-14T15:09:36.601259Z",
     "shell.execute_reply": "2021-10-14T15:09:36.602355Z"
    },
    "papermill": {
     "duration": 5.91447,
     "end_time": "2021-10-14T15:09:36.602703",
     "exception": false,
     "start_time": "2021-10-14T15:09:30.688233",
     "status": "completed"
    },
    "tags": []
   },
   "outputs": [
    {
     "name": "stdout",
     "output_type": "stream",
     "text": [
      "============================= test session starts ==============================\n",
      "platform darwin -- Python 3.9.7, pytest-6.2.5, py-1.10.0, pluggy-1.0.0\n",
      "rootdir: /Users/Edu/dev/projects-ploomber/ml-advanced\n",
      "plugins: Faker-9.2.0, anyio-3.3.3\n",
      "collected 1 item\n",
      "\n",
      "tests/test_pipeline.py .                                                 [100%]\n",
      "\n",
      "=============================== warnings summary ===============================\n",
      "../../../miniconda3/envs/projects/lib/python3.9/site-packages/ansiwrap/core.py:6\n",
      "  /Users/Edu/miniconda3/envs/projects/lib/python3.9/site-packages/ansiwrap/core.py:6: DeprecationWarning: the imp module is deprecated in favour of importlib; see the module's documentation for alternative uses\n",
      "    import imp\n",
      "\n",
      "tests/test_pipeline.py: 42 warnings\n",
      "  /Users/Edu/miniconda3/envs/projects/lib/python3.9/site-packages/jsonschema/validators.py:190: DeprecationWarning: Passing a schema to Validator.iter_errors is deprecated and will be removed in a future release. Call validator.evolve(schema=new_schema).iter_errors(...) instead.\n",
      "    warnings.warn(\n",
      "\n",
      "tests/test_pipeline.py::test_pipeline\n",
      "  /Users/Edu/dev/ploomber/src/ploomber/dag/dag.py:390: UserWarning: \n",
      "  =========================== DAG render with warnings ===========================\n",
      "  - NotebookRunner: fit-sklearn--ensemble--RandomForestClassifier -> MetaProduct({'model': File('output-...ifier.joblib'), 'nb': File('output-...sifier.ipynb')}) -\n",
      "  - /Users/Edu/miniconda3/envs/projects/lib/python3.9/site-packages/ml_advanced/templates/fit.py -\n",
      "  Passing a schema to Validator.iter_errors is deprecated and will be removed in a future release. Call validator.evolve(schema=new_schema).iter_errors(...) instead.\n",
      "  - NotebookRunner: fit-ml-advanced--models--logistic-reg -> MetaProduct({'model': File('output-...c_reg.joblib'), 'nb': File('output-...ic_reg.ipynb')}) -\n",
      "  - /Users/Edu/miniconda3/envs/projects/lib/python3.9/site-packages/ml_advanced/templates/fit.py -\n",
      "  Passing a schema to Validator.iter_errors is deprecated and will be removed in a future release. Call validator.evolve(schema=new_schema).iter_errors(...) instead.\n",
      "  - NotebookRunner: fit-ml-advanced--models--svc -> MetaProduct({'model': File('output-...s.svc.joblib'), 'nb': File('output-...ls.svc.ipynb')}) -\n",
      "  - /Users/Edu/miniconda3/envs/projects/lib/python3.9/site-packages/ml_advanced/templates/fit.py -\n",
      "  Passing a schema to Validator.iter_errors is deprecated and will be removed in a future release. Call validator.evolve(schema=new_schema).iter_errors(...) instead.\n",
      "  ============================== Summary (3 tasks) ===============================\n",
      "  NotebookRunner: fit-sklearn--ensemble--RandomForestClassifier -> MetaProduct({'model': File('output-...ifier.joblib'), 'nb': File('output-...sifier.ipynb')})\n",
      "  NotebookRunner: fit-ml-advanced--models--logistic-reg -> MetaProduct({'model': File('output-...c_reg.joblib'), 'nb': File('output-...ic_reg.ipynb')})\n",
      "  NotebookRunner: fit-ml-advanced--models--svc -> MetaProduct({'model': File('output-...s.svc.joblib'), 'nb': File('output-...ls.svc.ipynb')})\n",
      "  =========================== DAG render with warnings ===========================\n",
      "  \n",
      "    warnings.warn(str(warnings_))\n",
      "\n",
      "-- Docs: https://docs.pytest.org/en/stable/warnings.html\n",
      "======================== 1 passed, 44 warnings in 4.87s ========================\n"
     ]
    }
   ],
   "source": [
    "%%bash\n",
    "# incremental (will only run the tasks that have changed)\n",
    "pytest"
   ]
  }
 ],
 "metadata": {
  "kernelspec": {
   "display_name": "Python 3 (ipykernel)",
   "language": "python",
   "name": "python3"
  },
  "language_info": {
   "codemirror_mode": {
    "name": "ipython",
    "version": 3
   },
   "file_extension": ".py",
   "mimetype": "text/x-python",
   "name": "python",
   "nbconvert_exporter": "python",
   "pygments_lexer": "ipython3",
   "version": "3.9.7"
  },
  "papermill": {
   "default_parameters": {},
   "duration": 80.087997,
   "end_time": "2021-10-14T15:09:36.842537",
   "environment_variables": {},
   "exception": null,
   "input_path": "ml-advanced/_build/readme_preprocessed.ipynb",
   "output_path": "ml-advanced/README.ipynb",
   "parameters": {},
   "start_time": "2021-10-14T15:08:16.754540",
   "version": "2.3.3"
  }
 },
 "nbformat": 4,
 "nbformat_minor": 5
}