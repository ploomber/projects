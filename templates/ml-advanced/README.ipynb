{
 "cells": [
  {
   "cell_type": "markdown",
   "id": "4f8bbf61",
   "metadata": {
    "papermill": {
     "duration": 0.016224,
     "end_time": "2021-10-28T01:34:34.679098",
     "exception": false,
     "start_time": "2021-10-28T01:34:34.662874",
     "status": "completed"
    },
    "tags": []
   },
   "source": [
    "To run this locally, [install Ploomber](https://docs.ploomber.io/en/latest/get-started/quick-start.html) and execute: `ploomber examples -n templates/ml-advanced`\n",
    "\n",
    "Found an issue? [Let us know.](https://github.com/ploomber/projects/issues/new?title=templates/ml-advanced%20issue)\n",
    "\n",
    "Questions? [Ask us on Slack.](https://ploomber.io/community/)\n"
   ]
  },
  {
   "cell_type": "markdown",
   "id": "fff1ac56",
   "metadata": {
    "papermill": {
     "duration": 0.014998,
     "end_time": "2021-10-28T01:34:34.709583",
     "exception": false,
     "start_time": "2021-10-28T01:34:34.694585",
     "status": "completed"
    },
    "tags": []
   },
   "source": [
    "# ML advanced\n",
    "\n",
    "<!-- start description -->\n",
    "ML pipeline using the Python API. Shows how to create a Python package, test it with pytest, and train models in parallel.\n",
    "<!-- end description -->\n",
    "\n",
    "## Setup"
   ]
  },
  {
   "cell_type": "code",
   "execution_count": 1,
   "id": "d401e7a0",
   "metadata": {},
   "outputs": [
    {
     "name": "stdout",
     "output_type": "stream",
     "text": [
      "Requirement already satisfied: ploomber in /usr/local/python/3.10.4/lib/python3.10/site-packages (from -r requirements.txt (line 1)) (0.21.2)\n",
      "Requirement already satisfied: humanize in /usr/local/python/3.10.4/lib/python3.10/site-packages (from ploomber->-r requirements.txt (line 1)) (4.4.0)\n",
      "Requirement already satisfied: ipykernel>=1.5.2 in /home/codespace/.local/lib/python3.10/site-packages (from ploomber->-r requirements.txt (line 1)) (6.16.0)\n",
      "Requirement already satisfied: pyflakes in /usr/local/python/3.10.4/lib/python3.10/site-packages (from ploomber->-r requirements.txt (line 1)) (2.5.0)\n",
      "Requirement already satisfied: parso in /home/codespace/.local/lib/python3.10/site-packages (from ploomber->-r requirements.txt (line 1)) (0.8.3)\n",
      "Requirement already satisfied: ploomber-engine>=0.0.8 in /usr/local/python/3.10.4/lib/python3.10/site-packages (from ploomber->-r requirements.txt (line 1)) (0.0.10)\n",
      "Requirement already satisfied: ploomber-core>=0.0.5 in /usr/local/python/3.10.4/lib/python3.10/site-packages (from ploomber->-r requirements.txt (line 1)) (0.0.6)\n",
      "Requirement already satisfied: jinja2 in /home/codespace/.local/lib/python3.10/site-packages (from ploomber->-r requirements.txt (line 1)) (3.1.2)\n",
      "Requirement already satisfied: ploomber-scaffold>=0.3 in /usr/local/python/3.10.4/lib/python3.10/site-packages (from ploomber->-r requirements.txt (line 1)) (0.3.1)\n",
      "Requirement already satisfied: pydantic in /usr/local/python/3.10.4/lib/python3.10/site-packages (from ploomber->-r requirements.txt (line 1)) (1.10.2)\n",
      "Requirement already satisfied: sqlparse in /usr/local/python/3.10.4/lib/python3.10/site-packages (from ploomber->-r requirements.txt (line 1)) (0.4.3)\n",
      "Requirement already satisfied: nbformat in /home/codespace/.local/lib/python3.10/site-packages (from ploomber->-r requirements.txt (line 1)) (5.7.0)\n",
      "Requirement already satisfied: tabulate in /usr/local/python/3.10.4/lib/python3.10/site-packages (from ploomber->-r requirements.txt (line 1)) (0.9.0)\n",
      "Requirement already satisfied: papermill in /usr/local/python/3.10.4/lib/python3.10/site-packages (from ploomber->-r requirements.txt (line 1)) (2.4.0)\n",
      "Requirement already satisfied: mistune in /home/codespace/.local/lib/python3.10/site-packages (from ploomber->-r requirements.txt (line 1)) (2.0.4)\n",
      "Requirement already satisfied: tqdm in /usr/local/python/3.10.4/lib/python3.10/site-packages (from ploomber->-r requirements.txt (line 1)) (4.64.1)\n",
      "Requirement already satisfied: click in /usr/local/python/3.10.4/lib/python3.10/site-packages (from ploomber->-r requirements.txt (line 1)) (8.1.3)\n",
      "Requirement already satisfied: ipython in /home/codespace/.local/lib/python3.10/site-packages (from ploomber->-r requirements.txt (line 1)) (8.5.0)\n",
      "Requirement already satisfied: pygments in /home/codespace/.local/lib/python3.10/site-packages (from ploomber->-r requirements.txt (line 1)) (2.13.0)\n",
      "Requirement already satisfied: sqlalchemy in /usr/local/python/3.10.4/lib/python3.10/site-packages (from ploomber->-r requirements.txt (line 1)) (1.4.42)\n",
      "Requirement already satisfied: jupytext in /usr/local/python/3.10.4/lib/python3.10/site-packages (from ploomber->-r requirements.txt (line 1)) (1.14.1)\n",
      "Requirement already satisfied: posthog in /usr/local/python/3.10.4/lib/python3.10/site-packages (from ploomber->-r requirements.txt (line 1)) (2.1.2)\n",
      "Requirement already satisfied: ipdb in /usr/local/python/3.10.4/lib/python3.10/site-packages (from ploomber->-r requirements.txt (line 1)) (0.13.9)\n",
      "Requirement already satisfied: pyyaml in /usr/local/python/3.10.4/lib/python3.10/site-packages (from ploomber->-r requirements.txt (line 1)) (6.0)\n",
      "Requirement already satisfied: networkx>=2.5 in /usr/local/python/3.10.4/lib/python3.10/site-packages (from ploomber->-r requirements.txt (line 1)) (2.8.7)\n",
      "Requirement already satisfied: nbconvert>=5.6.0 in /home/codespace/.local/lib/python3.10/site-packages (from ploomber->-r requirements.txt (line 1)) (7.2.1)\n",
      "Requirement already satisfied: autopep8 in /usr/local/python/3.10.4/lib/python3.10/site-packages (from ploomber->-r requirements.txt (line 1)) (1.7.0)\n",
      "Requirement already satisfied: jupyter-client>=5.3.1 in /home/codespace/.local/lib/python3.10/site-packages (from ploomber->-r requirements.txt (line 1)) (7.4.2)\n",
      "Requirement already satisfied: psutil in /home/codespace/.local/lib/python3.10/site-packages (from ipykernel>=1.5.2->ploomber->-r requirements.txt (line 1)) (5.9.3)\n",
      "Requirement already satisfied: pyzmq>=17 in /home/codespace/.local/lib/python3.10/site-packages (from ipykernel>=1.5.2->ploomber->-r requirements.txt (line 1)) (24.0.1)\n",
      "Requirement already satisfied: debugpy>=1.0 in /home/codespace/.local/lib/python3.10/site-packages (from ipykernel>=1.5.2->ploomber->-r requirements.txt (line 1)) (1.6.3)\n",
      "Requirement already satisfied: packaging in /home/codespace/.local/lib/python3.10/site-packages (from ipykernel>=1.5.2->ploomber->-r requirements.txt (line 1)) (21.3)\n",
      "Requirement already satisfied: tornado>=6.1 in /home/codespace/.local/lib/python3.10/site-packages (from ipykernel>=1.5.2->ploomber->-r requirements.txt (line 1)) (6.2)\n",
      "Requirement already satisfied: matplotlib-inline>=0.1 in /home/codespace/.local/lib/python3.10/site-packages (from ipykernel>=1.5.2->ploomber->-r requirements.txt (line 1)) (0.1.6)\n",
      "Requirement already satisfied: nest-asyncio in /home/codespace/.local/lib/python3.10/site-packages (from ipykernel>=1.5.2->ploomber->-r requirements.txt (line 1)) (1.5.6)\n",
      "Requirement already satisfied: traitlets>=5.1.0 in /home/codespace/.local/lib/python3.10/site-packages (from ipykernel>=1.5.2->ploomber->-r requirements.txt (line 1)) (5.5.0)\n",
      "Requirement already satisfied: backcall in /home/codespace/.local/lib/python3.10/site-packages (from ipython->ploomber->-r requirements.txt (line 1)) (0.2.0)\n",
      "Requirement already satisfied: jedi>=0.16 in /home/codespace/.local/lib/python3.10/site-packages (from ipython->ploomber->-r requirements.txt (line 1)) (0.18.1)\n",
      "Requirement already satisfied: pickleshare in /home/codespace/.local/lib/python3.10/site-packages (from ipython->ploomber->-r requirements.txt (line 1)) (0.7.5)\n",
      "Requirement already satisfied: prompt-toolkit<3.1.0,>3.0.1 in /home/codespace/.local/lib/python3.10/site-packages (from ipython->ploomber->-r requirements.txt (line 1)) (3.0.31)\n",
      "Requirement already satisfied: pexpect>4.3 in /home/codespace/.local/lib/python3.10/site-packages (from ipython->ploomber->-r requirements.txt (line 1)) (4.8.0)\n",
      "Requirement already satisfied: decorator in /home/codespace/.local/lib/python3.10/site-packages (from ipython->ploomber->-r requirements.txt (line 1)) (5.1.1)\n",
      "Requirement already satisfied: stack-data in /home/codespace/.local/lib/python3.10/site-packages (from ipython->ploomber->-r requirements.txt (line 1)) (0.5.1)\n",
      "Requirement already satisfied: entrypoints in /home/codespace/.local/lib/python3.10/site-packages (from jupyter-client>=5.3.1->ploomber->-r requirements.txt (line 1)) (0.4)\n",
      "Requirement already satisfied: python-dateutil>=2.8.2 in /home/codespace/.local/lib/python3.10/site-packages (from jupyter-client>=5.3.1->ploomber->-r requirements.txt (line 1)) (2.8.2)\n",
      "Requirement already satisfied: jupyter-core>=4.9.2 in /home/codespace/.local/lib/python3.10/site-packages (from jupyter-client>=5.3.1->ploomber->-r requirements.txt (line 1)) (4.11.1)\n",
      "Requirement already satisfied: nbclient>=0.5.0 in /home/codespace/.local/lib/python3.10/site-packages (from nbconvert>=5.6.0->ploomber->-r requirements.txt (line 1)) (0.7.0)\n",
      "Requirement already satisfied: markupsafe>=2.0 in /home/codespace/.local/lib/python3.10/site-packages (from nbconvert>=5.6.0->ploomber->-r requirements.txt (line 1)) (2.1.1)\n",
      "Requirement already satisfied: pandocfilters>=1.4.1 in /home/codespace/.local/lib/python3.10/site-packages (from nbconvert>=5.6.0->ploomber->-r requirements.txt (line 1)) (1.5.0)\n",
      "Requirement already satisfied: jupyterlab-pygments in /home/codespace/.local/lib/python3.10/site-packages (from nbconvert>=5.6.0->ploomber->-r requirements.txt (line 1)) (0.2.2)\n",
      "Requirement already satisfied: defusedxml in /home/codespace/.local/lib/python3.10/site-packages (from nbconvert>=5.6.0->ploomber->-r requirements.txt (line 1)) (0.7.1)\n",
      "Requirement already satisfied: bleach in /home/codespace/.local/lib/python3.10/site-packages (from nbconvert>=5.6.0->ploomber->-r requirements.txt (line 1)) (5.0.1)\n",
      "Requirement already satisfied: beautifulsoup4 in /home/codespace/.local/lib/python3.10/site-packages (from nbconvert>=5.6.0->ploomber->-r requirements.txt (line 1)) (4.11.1)\n",
      "Requirement already satisfied: tinycss2 in /home/codespace/.local/lib/python3.10/site-packages (from nbconvert>=5.6.0->ploomber->-r requirements.txt (line 1)) (1.2.1)\n",
      "Requirement already satisfied: fastjsonschema in /home/codespace/.local/lib/python3.10/site-packages (from nbformat->ploomber->-r requirements.txt (line 1)) (2.16.2)\n",
      "Requirement already satisfied: jsonschema>=2.6 in /home/codespace/.local/lib/python3.10/site-packages (from nbformat->ploomber->-r requirements.txt (line 1)) (4.16.0)\n",
      "Requirement already satisfied: debuglater in /usr/local/python/3.10.4/lib/python3.10/site-packages (from ploomber-engine>=0.0.8->ploomber->-r requirements.txt (line 1)) (1.4.3)\n",
      "Requirement already satisfied: pycodestyle>=2.9.1 in /usr/local/python/3.10.4/lib/python3.10/site-packages (from autopep8->ploomber->-r requirements.txt (line 1)) (2.9.1)\n",
      "Requirement already satisfied: toml in /usr/local/python/3.10.4/lib/python3.10/site-packages (from autopep8->ploomber->-r requirements.txt (line 1)) (0.10.2)\n",
      "Requirement already satisfied: setuptools in /usr/local/python/3.10.4/lib/python3.10/site-packages (from ipdb->ploomber->-r requirements.txt (line 1)) (58.1.0)\n",
      "Requirement already satisfied: markdown-it-py<3.0.0,>=1.0.0 in /usr/local/python/3.10.4/lib/python3.10/site-packages (from jupytext->ploomber->-r requirements.txt (line 1)) (2.1.0)\n",
      "Requirement already satisfied: mdit-py-plugins in /usr/local/python/3.10.4/lib/python3.10/site-packages (from jupytext->ploomber->-r requirements.txt (line 1)) (0.3.1)\n",
      "Requirement already satisfied: requests in /home/codespace/.local/lib/python3.10/site-packages (from papermill->ploomber->-r requirements.txt (line 1)) (2.28.1)\n",
      "Requirement already satisfied: tenacity in /home/codespace/.local/lib/python3.10/site-packages (from papermill->ploomber->-r requirements.txt (line 1)) (8.1.0)\n",
      "Requirement already satisfied: ansiwrap in /usr/local/python/3.10.4/lib/python3.10/site-packages (from papermill->ploomber->-r requirements.txt (line 1)) (0.8.4)\n",
      "Requirement already satisfied: backoff<2.0.0,>=1.10.0 in /usr/local/python/3.10.4/lib/python3.10/site-packages (from posthog->ploomber->-r requirements.txt (line 1)) (1.11.1)\n",
      "Requirement already satisfied: six>=1.5 in /home/codespace/.local/lib/python3.10/site-packages (from posthog->ploomber->-r requirements.txt (line 1)) (1.16.0)\n",
      "Requirement already satisfied: monotonic>=1.5 in /usr/local/python/3.10.4/lib/python3.10/site-packages (from posthog->ploomber->-r requirements.txt (line 1)) (1.6)\n",
      "Requirement already satisfied: typing-extensions>=4.1.0 in /home/codespace/.local/lib/python3.10/site-packages (from pydantic->ploomber->-r requirements.txt (line 1)) (4.4.0)\n",
      "Requirement already satisfied: greenlet!=0.4.17 in /usr/local/python/3.10.4/lib/python3.10/site-packages (from sqlalchemy->ploomber->-r requirements.txt (line 1)) (1.1.3.post0)\n",
      "Requirement already satisfied: attrs>=17.4.0 in /home/codespace/.local/lib/python3.10/site-packages (from jsonschema>=2.6->nbformat->ploomber->-r requirements.txt (line 1)) (22.1.0)\n",
      "Requirement already satisfied: pyrsistent!=0.17.0,!=0.17.1,!=0.17.2,>=0.14.0 in /home/codespace/.local/lib/python3.10/site-packages (from jsonschema>=2.6->nbformat->ploomber->-r requirements.txt (line 1)) (0.18.1)\n",
      "Requirement already satisfied: mdurl~=0.1 in /usr/local/python/3.10.4/lib/python3.10/site-packages (from markdown-it-py<3.0.0,>=1.0.0->jupytext->ploomber->-r requirements.txt (line 1)) (0.1.2)\n",
      "Requirement already satisfied: ptyprocess>=0.5 in /home/codespace/.local/lib/python3.10/site-packages (from pexpect>4.3->ipython->ploomber->-r requirements.txt (line 1)) (0.7.0)\n",
      "Requirement already satisfied: wcwidth in /home/codespace/.local/lib/python3.10/site-packages (from prompt-toolkit<3.1.0,>3.0.1->ipython->ploomber->-r requirements.txt (line 1)) (0.2.5)\n",
      "Requirement already satisfied: charset-normalizer<3,>=2 in /home/codespace/.local/lib/python3.10/site-packages (from requests->papermill->ploomber->-r requirements.txt (line 1)) (2.1.1)\n",
      "Requirement already satisfied: certifi>=2017.4.17 in /home/codespace/.local/lib/python3.10/site-packages (from requests->papermill->ploomber->-r requirements.txt (line 1)) (2022.9.24)\n",
      "Requirement already satisfied: idna<4,>=2.5 in /home/codespace/.local/lib/python3.10/site-packages (from requests->papermill->ploomber->-r requirements.txt (line 1)) (3.4)\n",
      "Requirement already satisfied: urllib3<1.27,>=1.21.1 in /home/codespace/.local/lib/python3.10/site-packages (from requests->papermill->ploomber->-r requirements.txt (line 1)) (1.26.12)\n",
      "Requirement already satisfied: textwrap3>=0.9.2 in /usr/local/python/3.10.4/lib/python3.10/site-packages (from ansiwrap->papermill->ploomber->-r requirements.txt (line 1)) (0.9.2)\n",
      "Requirement already satisfied: soupsieve>1.2 in /home/codespace/.local/lib/python3.10/site-packages (from beautifulsoup4->nbconvert>=5.6.0->ploomber->-r requirements.txt (line 1)) (2.3.2.post1)\n",
      "Requirement already satisfied: webencodings in /home/codespace/.local/lib/python3.10/site-packages (from bleach->nbconvert>=5.6.0->ploomber->-r requirements.txt (line 1)) (0.5.1)\n",
      "Requirement already satisfied: colorama in /usr/local/python/3.10.4/lib/python3.10/site-packages (from debuglater->ploomber-engine>=0.0.8->ploomber->-r requirements.txt (line 1)) (0.4.5)\n",
      "Requirement already satisfied: pyparsing!=3.0.5,>=2.0.2 in /home/codespace/.local/lib/python3.10/site-packages (from packaging->ipykernel>=1.5.2->ploomber->-r requirements.txt (line 1)) (3.0.9)\n",
      "Requirement already satisfied: executing in /home/codespace/.local/lib/python3.10/site-packages (from stack-data->ipython->ploomber->-r requirements.txt (line 1)) (1.1.1)\n",
      "Requirement already satisfied: asttokens in /home/codespace/.local/lib/python3.10/site-packages (from stack-data->ipython->ploomber->-r requirements.txt (line 1)) (2.0.8)\n",
      "Requirement already satisfied: pure-eval in /home/codespace/.local/lib/python3.10/site-packages (from stack-data->ipython->ploomber->-r requirements.txt (line 1)) (0.2.2)\n",
      "Obtaining file:///workspaces/projects/templates/ml-advanced\n",
      "  Preparing metadata (setup.py): started\n",
      "  Preparing metadata (setup.py): finished with status 'done'\n",
      "Requirement already satisfied: ploomber in /usr/local/python/3.10.4/lib/python3.10/site-packages (from ml-advanced==0.1.dev0) (0.21.2)\n",
      "Requirement already satisfied: pandas in /home/codespace/.local/lib/python3.10/site-packages (from ml-advanced==0.1.dev0) (1.5.0)\n",
      "Requirement already satisfied: scikit-learn in /home/codespace/.local/lib/python3.10/site-packages (from ml-advanced==0.1.dev0) (1.1.2)\n",
      "Requirement already satisfied: joblib in /home/codespace/.local/lib/python3.10/site-packages (from ml-advanced==0.1.dev0) (1.2.0)\n",
      "Requirement already satisfied: pyarrow in /usr/local/python/3.10.4/lib/python3.10/site-packages (from ml-advanced==0.1.dev0) (9.0.0)\n",
      "Requirement already satisfied: sklearn-evaluation in /usr/local/python/3.10.4/lib/python3.10/site-packages (from ml-advanced==0.1.dev0) (0.7.2)\n",
      "Requirement already satisfied: pytest in /usr/local/python/3.10.4/lib/python3.10/site-packages (from ml-advanced==0.1.dev0) (7.1.3)\n",
      "Requirement already satisfied: numpy>=1.21.0 in /home/codespace/.local/lib/python3.10/site-packages (from pandas->ml-advanced==0.1.dev0) (1.23.4)\n",
      "Requirement already satisfied: pytz>=2020.1 in /home/codespace/.local/lib/python3.10/site-packages (from pandas->ml-advanced==0.1.dev0) (2022.5)\n",
      "Requirement already satisfied: python-dateutil>=2.8.1 in /home/codespace/.local/lib/python3.10/site-packages (from pandas->ml-advanced==0.1.dev0) (2.8.2)\n",
      "Requirement already satisfied: nbformat in /home/codespace/.local/lib/python3.10/site-packages (from ploomber->ml-advanced==0.1.dev0) (5.7.0)\n",
      "Requirement already satisfied: autopep8 in /usr/local/python/3.10.4/lib/python3.10/site-packages (from ploomber->ml-advanced==0.1.dev0) (1.7.0)\n",
      "Requirement already satisfied: parso in /home/codespace/.local/lib/python3.10/site-packages (from ploomber->ml-advanced==0.1.dev0) (0.8.3)\n",
      "Requirement already satisfied: humanize in /usr/local/python/3.10.4/lib/python3.10/site-packages (from ploomber->ml-advanced==0.1.dev0) (4.4.0)\n",
      "Requirement already satisfied: jupyter-client>=5.3.1 in /home/codespace/.local/lib/python3.10/site-packages (from ploomber->ml-advanced==0.1.dev0) (7.4.2)\n",
      "Requirement already satisfied: papermill in /usr/local/python/3.10.4/lib/python3.10/site-packages (from ploomber->ml-advanced==0.1.dev0) (2.4.0)\n",
      "Requirement already satisfied: ploomber-core>=0.0.5 in /usr/local/python/3.10.4/lib/python3.10/site-packages (from ploomber->ml-advanced==0.1.dev0) (0.0.6)\n",
      "Requirement already satisfied: mistune in /home/codespace/.local/lib/python3.10/site-packages (from ploomber->ml-advanced==0.1.dev0) (2.0.4)\n",
      "Requirement already satisfied: ipykernel>=1.5.2 in /home/codespace/.local/lib/python3.10/site-packages (from ploomber->ml-advanced==0.1.dev0) (6.16.0)\n",
      "Requirement already satisfied: pyflakes in /usr/local/python/3.10.4/lib/python3.10/site-packages (from ploomber->ml-advanced==0.1.dev0) (2.5.0)\n",
      "Requirement already satisfied: jupytext in /usr/local/python/3.10.4/lib/python3.10/site-packages (from ploomber->ml-advanced==0.1.dev0) (1.14.1)\n",
      "Requirement already satisfied: tabulate in /usr/local/python/3.10.4/lib/python3.10/site-packages (from ploomber->ml-advanced==0.1.dev0) (0.9.0)\n",
      "Requirement already satisfied: posthog in /usr/local/python/3.10.4/lib/python3.10/site-packages (from ploomber->ml-advanced==0.1.dev0) (2.1.2)\n",
      "Requirement already satisfied: networkx>=2.5 in /usr/local/python/3.10.4/lib/python3.10/site-packages (from ploomber->ml-advanced==0.1.dev0) (2.8.7)\n",
      "Requirement already satisfied: nbconvert>=5.6.0 in /home/codespace/.local/lib/python3.10/site-packages (from ploomber->ml-advanced==0.1.dev0) (7.2.1)\n",
      "Requirement already satisfied: ploomber-engine>=0.0.8 in /usr/local/python/3.10.4/lib/python3.10/site-packages (from ploomber->ml-advanced==0.1.dev0) (0.0.10)\n",
      "Requirement already satisfied: ipython in /home/codespace/.local/lib/python3.10/site-packages (from ploomber->ml-advanced==0.1.dev0) (8.5.0)\n",
      "Requirement already satisfied: ploomber-scaffold>=0.3 in /usr/local/python/3.10.4/lib/python3.10/site-packages (from ploomber->ml-advanced==0.1.dev0) (0.3.1)\n",
      "Requirement already satisfied: pygments in /home/codespace/.local/lib/python3.10/site-packages (from ploomber->ml-advanced==0.1.dev0) (2.13.0)\n",
      "Requirement already satisfied: tqdm in /usr/local/python/3.10.4/lib/python3.10/site-packages (from ploomber->ml-advanced==0.1.dev0) (4.64.1)\n",
      "Requirement already satisfied: click in /usr/local/python/3.10.4/lib/python3.10/site-packages (from ploomber->ml-advanced==0.1.dev0) (8.1.3)\n",
      "Requirement already satisfied: sqlalchemy in /usr/local/python/3.10.4/lib/python3.10/site-packages (from ploomber->ml-advanced==0.1.dev0) (1.4.42)\n",
      "Requirement already satisfied: pydantic in /usr/local/python/3.10.4/lib/python3.10/site-packages (from ploomber->ml-advanced==0.1.dev0) (1.10.2)\n",
      "Requirement already satisfied: jinja2 in /home/codespace/.local/lib/python3.10/site-packages (from ploomber->ml-advanced==0.1.dev0) (3.1.2)\n",
      "Requirement already satisfied: sqlparse in /usr/local/python/3.10.4/lib/python3.10/site-packages (from ploomber->ml-advanced==0.1.dev0) (0.4.3)\n",
      "Requirement already satisfied: pyyaml in /usr/local/python/3.10.4/lib/python3.10/site-packages (from ploomber->ml-advanced==0.1.dev0) (6.0)\n",
      "Requirement already satisfied: ipdb in /usr/local/python/3.10.4/lib/python3.10/site-packages (from ploomber->ml-advanced==0.1.dev0) (0.13.9)\n",
      "Requirement already satisfied: attrs>=19.2.0 in /home/codespace/.local/lib/python3.10/site-packages (from pytest->ml-advanced==0.1.dev0) (22.1.0)\n",
      "Requirement already satisfied: iniconfig in /usr/local/python/3.10.4/lib/python3.10/site-packages (from pytest->ml-advanced==0.1.dev0) (1.1.1)\n",
      "Requirement already satisfied: py>=1.8.2 in /usr/local/python/3.10.4/lib/python3.10/site-packages (from pytest->ml-advanced==0.1.dev0) (1.11.0)\n",
      "Requirement already satisfied: packaging in /home/codespace/.local/lib/python3.10/site-packages (from pytest->ml-advanced==0.1.dev0) (21.3)\n",
      "Requirement already satisfied: tomli>=1.0.0 in /home/codespace/.local/lib/python3.10/site-packages (from pytest->ml-advanced==0.1.dev0) (2.0.1)\n",
      "Requirement already satisfied: pluggy<2.0,>=0.12 in /usr/local/python/3.10.4/lib/python3.10/site-packages (from pytest->ml-advanced==0.1.dev0) (1.0.0)\n",
      "Requirement already satisfied: threadpoolctl>=2.0.0 in /home/codespace/.local/lib/python3.10/site-packages (from scikit-learn->ml-advanced==0.1.dev0) (3.1.0)\n",
      "Requirement already satisfied: scipy>=1.3.2 in /home/codespace/.local/lib/python3.10/site-packages (from scikit-learn->ml-advanced==0.1.dev0) (1.9.2)\n",
      "Requirement already satisfied: matplotlib in /home/codespace/.local/lib/python3.10/site-packages (from sklearn-evaluation->ml-advanced==0.1.dev0) (3.6.0)\n",
      "Requirement already satisfied: decorator in /home/codespace/.local/lib/python3.10/site-packages (from sklearn-evaluation->ml-advanced==0.1.dev0) (5.1.1)\n",
      "Requirement already satisfied: black in /usr/local/python/3.10.4/lib/python3.10/site-packages (from sklearn-evaluation->ml-advanced==0.1.dev0) (22.10.0)\n",
      "Requirement already satisfied: pyzmq>=17 in /home/codespace/.local/lib/python3.10/site-packages (from ipykernel>=1.5.2->ploomber->ml-advanced==0.1.dev0) (24.0.1)\n",
      "Requirement already satisfied: tornado>=6.1 in /home/codespace/.local/lib/python3.10/site-packages (from ipykernel>=1.5.2->ploomber->ml-advanced==0.1.dev0) (6.2)\n",
      "Requirement already satisfied: psutil in /home/codespace/.local/lib/python3.10/site-packages (from ipykernel>=1.5.2->ploomber->ml-advanced==0.1.dev0) (5.9.3)\n",
      "Requirement already satisfied: matplotlib-inline>=0.1 in /home/codespace/.local/lib/python3.10/site-packages (from ipykernel>=1.5.2->ploomber->ml-advanced==0.1.dev0) (0.1.6)\n",
      "Requirement already satisfied: debugpy>=1.0 in /home/codespace/.local/lib/python3.10/site-packages (from ipykernel>=1.5.2->ploomber->ml-advanced==0.1.dev0) (1.6.3)\n",
      "Requirement already satisfied: traitlets>=5.1.0 in /home/codespace/.local/lib/python3.10/site-packages (from ipykernel>=1.5.2->ploomber->ml-advanced==0.1.dev0) (5.5.0)\n",
      "Requirement already satisfied: nest-asyncio in /home/codespace/.local/lib/python3.10/site-packages (from ipykernel>=1.5.2->ploomber->ml-advanced==0.1.dev0) (1.5.6)\n",
      "Requirement already satisfied: pickleshare in /home/codespace/.local/lib/python3.10/site-packages (from ipython->ploomber->ml-advanced==0.1.dev0) (0.7.5)\n",
      "Requirement already satisfied: stack-data in /home/codespace/.local/lib/python3.10/site-packages (from ipython->ploomber->ml-advanced==0.1.dev0) (0.5.1)\n",
      "Requirement already satisfied: pexpect>4.3 in /home/codespace/.local/lib/python3.10/site-packages (from ipython->ploomber->ml-advanced==0.1.dev0) (4.8.0)\n",
      "Requirement already satisfied: backcall in /home/codespace/.local/lib/python3.10/site-packages (from ipython->ploomber->ml-advanced==0.1.dev0) (0.2.0)\n",
      "Requirement already satisfied: prompt-toolkit<3.1.0,>3.0.1 in /home/codespace/.local/lib/python3.10/site-packages (from ipython->ploomber->ml-advanced==0.1.dev0) (3.0.31)\n",
      "Requirement already satisfied: jedi>=0.16 in /home/codespace/.local/lib/python3.10/site-packages (from ipython->ploomber->ml-advanced==0.1.dev0) (0.18.1)\n",
      "Requirement already satisfied: jupyter-core>=4.9.2 in /home/codespace/.local/lib/python3.10/site-packages (from jupyter-client>=5.3.1->ploomber->ml-advanced==0.1.dev0) (4.11.1)\n",
      "Requirement already satisfied: entrypoints in /home/codespace/.local/lib/python3.10/site-packages (from jupyter-client>=5.3.1->ploomber->ml-advanced==0.1.dev0) (0.4)\n",
      "Requirement already satisfied: markupsafe>=2.0 in /home/codespace/.local/lib/python3.10/site-packages (from nbconvert>=5.6.0->ploomber->ml-advanced==0.1.dev0) (2.1.1)\n",
      "Requirement already satisfied: pandocfilters>=1.4.1 in /home/codespace/.local/lib/python3.10/site-packages (from nbconvert>=5.6.0->ploomber->ml-advanced==0.1.dev0) (1.5.0)\n",
      "Requirement already satisfied: nbclient>=0.5.0 in /home/codespace/.local/lib/python3.10/site-packages (from nbconvert>=5.6.0->ploomber->ml-advanced==0.1.dev0) (0.7.0)\n",
      "Requirement already satisfied: tinycss2 in /home/codespace/.local/lib/python3.10/site-packages (from nbconvert>=5.6.0->ploomber->ml-advanced==0.1.dev0) (1.2.1)\n",
      "Requirement already satisfied: defusedxml in /home/codespace/.local/lib/python3.10/site-packages (from nbconvert>=5.6.0->ploomber->ml-advanced==0.1.dev0) (0.7.1)\n",
      "Requirement already satisfied: bleach in /home/codespace/.local/lib/python3.10/site-packages (from nbconvert>=5.6.0->ploomber->ml-advanced==0.1.dev0) (5.0.1)\n",
      "Requirement already satisfied: jupyterlab-pygments in /home/codespace/.local/lib/python3.10/site-packages (from nbconvert>=5.6.0->ploomber->ml-advanced==0.1.dev0) (0.2.2)\n",
      "Requirement already satisfied: beautifulsoup4 in /home/codespace/.local/lib/python3.10/site-packages (from nbconvert>=5.6.0->ploomber->ml-advanced==0.1.dev0) (4.11.1)\n",
      "Requirement already satisfied: jsonschema>=2.6 in /home/codespace/.local/lib/python3.10/site-packages (from nbformat->ploomber->ml-advanced==0.1.dev0) (4.16.0)\n",
      "Requirement already satisfied: fastjsonschema in /home/codespace/.local/lib/python3.10/site-packages (from nbformat->ploomber->ml-advanced==0.1.dev0) (2.16.2)\n",
      "Requirement already satisfied: debuglater in /usr/local/python/3.10.4/lib/python3.10/site-packages (from ploomber-engine>=0.0.8->ploomber->ml-advanced==0.1.dev0) (1.4.3)\n",
      "Requirement already satisfied: six>=1.5 in /home/codespace/.local/lib/python3.10/site-packages (from python-dateutil>=2.8.1->pandas->ml-advanced==0.1.dev0) (1.16.0)\n",
      "Requirement already satisfied: toml in /usr/local/python/3.10.4/lib/python3.10/site-packages (from autopep8->ploomber->ml-advanced==0.1.dev0) (0.10.2)\n",
      "Requirement already satisfied: pycodestyle>=2.9.1 in /usr/local/python/3.10.4/lib/python3.10/site-packages (from autopep8->ploomber->ml-advanced==0.1.dev0) (2.9.1)\n",
      "Requirement already satisfied: platformdirs>=2 in /usr/local/python/3.10.4/lib/python3.10/site-packages (from black->sklearn-evaluation->ml-advanced==0.1.dev0) (2.5.2)\n",
      "Requirement already satisfied: pathspec>=0.9.0 in /usr/local/python/3.10.4/lib/python3.10/site-packages (from black->sklearn-evaluation->ml-advanced==0.1.dev0) (0.10.1)\n",
      "Requirement already satisfied: mypy-extensions>=0.4.3 in /usr/local/python/3.10.4/lib/python3.10/site-packages (from black->sklearn-evaluation->ml-advanced==0.1.dev0) (0.4.3)\n",
      "Requirement already satisfied: setuptools in /usr/local/python/3.10.4/lib/python3.10/site-packages (from ipdb->ploomber->ml-advanced==0.1.dev0) (58.1.0)\n",
      "Requirement already satisfied: mdit-py-plugins in /usr/local/python/3.10.4/lib/python3.10/site-packages (from jupytext->ploomber->ml-advanced==0.1.dev0) (0.3.1)\n",
      "Requirement already satisfied: markdown-it-py<3.0.0,>=1.0.0 in /usr/local/python/3.10.4/lib/python3.10/site-packages (from jupytext->ploomber->ml-advanced==0.1.dev0) (2.1.0)\n",
      "Requirement already satisfied: pyparsing>=2.2.1 in /home/codespace/.local/lib/python3.10/site-packages (from matplotlib->sklearn-evaluation->ml-advanced==0.1.dev0) (3.0.9)\n",
      "Requirement already satisfied: fonttools>=4.22.0 in /home/codespace/.local/lib/python3.10/site-packages (from matplotlib->sklearn-evaluation->ml-advanced==0.1.dev0) (4.37.4)\n",
      "Requirement already satisfied: pillow>=6.2.0 in /home/codespace/.local/lib/python3.10/site-packages (from matplotlib->sklearn-evaluation->ml-advanced==0.1.dev0) (9.2.0)\n",
      "Requirement already satisfied: cycler>=0.10 in /home/codespace/.local/lib/python3.10/site-packages (from matplotlib->sklearn-evaluation->ml-advanced==0.1.dev0) (0.11.0)\n",
      "Requirement already satisfied: kiwisolver>=1.0.1 in /home/codespace/.local/lib/python3.10/site-packages (from matplotlib->sklearn-evaluation->ml-advanced==0.1.dev0) (1.4.4)\n",
      "Requirement already satisfied: contourpy>=1.0.1 in /home/codespace/.local/lib/python3.10/site-packages (from matplotlib->sklearn-evaluation->ml-advanced==0.1.dev0) (1.0.5)\n",
      "Requirement already satisfied: ansiwrap in /usr/local/python/3.10.4/lib/python3.10/site-packages (from papermill->ploomber->ml-advanced==0.1.dev0) (0.8.4)\n",
      "Requirement already satisfied: tenacity in /home/codespace/.local/lib/python3.10/site-packages (from papermill->ploomber->ml-advanced==0.1.dev0) (8.1.0)\n",
      "Requirement already satisfied: requests in /home/codespace/.local/lib/python3.10/site-packages (from papermill->ploomber->ml-advanced==0.1.dev0) (2.28.1)\n",
      "Requirement already satisfied: monotonic>=1.5 in /usr/local/python/3.10.4/lib/python3.10/site-packages (from posthog->ploomber->ml-advanced==0.1.dev0) (1.6)\n",
      "Requirement already satisfied: backoff<2.0.0,>=1.10.0 in /usr/local/python/3.10.4/lib/python3.10/site-packages (from posthog->ploomber->ml-advanced==0.1.dev0) (1.11.1)\n",
      "Requirement already satisfied: typing-extensions>=4.1.0 in /home/codespace/.local/lib/python3.10/site-packages (from pydantic->ploomber->ml-advanced==0.1.dev0) (4.4.0)\n",
      "Requirement already satisfied: greenlet!=0.4.17 in /usr/local/python/3.10.4/lib/python3.10/site-packages (from sqlalchemy->ploomber->ml-advanced==0.1.dev0) (1.1.3.post0)\n",
      "Requirement already satisfied: pyrsistent!=0.17.0,!=0.17.1,!=0.17.2,>=0.14.0 in /home/codespace/.local/lib/python3.10/site-packages (from jsonschema>=2.6->nbformat->ploomber->ml-advanced==0.1.dev0) (0.18.1)\n",
      "Requirement already satisfied: mdurl~=0.1 in /usr/local/python/3.10.4/lib/python3.10/site-packages (from markdown-it-py<3.0.0,>=1.0.0->jupytext->ploomber->ml-advanced==0.1.dev0) (0.1.2)\n",
      "Requirement already satisfied: ptyprocess>=0.5 in /home/codespace/.local/lib/python3.10/site-packages (from pexpect>4.3->ipython->ploomber->ml-advanced==0.1.dev0) (0.7.0)\n",
      "Requirement already satisfied: wcwidth in /home/codespace/.local/lib/python3.10/site-packages (from prompt-toolkit<3.1.0,>3.0.1->ipython->ploomber->ml-advanced==0.1.dev0) (0.2.5)\n",
      "Requirement already satisfied: idna<4,>=2.5 in /home/codespace/.local/lib/python3.10/site-packages (from requests->papermill->ploomber->ml-advanced==0.1.dev0) (3.4)\n",
      "Requirement already satisfied: urllib3<1.27,>=1.21.1 in /home/codespace/.local/lib/python3.10/site-packages (from requests->papermill->ploomber->ml-advanced==0.1.dev0) (1.26.12)\n",
      "Requirement already satisfied: charset-normalizer<3,>=2 in /home/codespace/.local/lib/python3.10/site-packages (from requests->papermill->ploomber->ml-advanced==0.1.dev0) (2.1.1)\n",
      "Requirement already satisfied: certifi>=2017.4.17 in /home/codespace/.local/lib/python3.10/site-packages (from requests->papermill->ploomber->ml-advanced==0.1.dev0) (2022.9.24)\n",
      "Requirement already satisfied: textwrap3>=0.9.2 in /usr/local/python/3.10.4/lib/python3.10/site-packages (from ansiwrap->papermill->ploomber->ml-advanced==0.1.dev0) (0.9.2)\n",
      "Requirement already satisfied: soupsieve>1.2 in /home/codespace/.local/lib/python3.10/site-packages (from beautifulsoup4->nbconvert>=5.6.0->ploomber->ml-advanced==0.1.dev0) (2.3.2.post1)\n",
      "Requirement already satisfied: webencodings in /home/codespace/.local/lib/python3.10/site-packages (from bleach->nbconvert>=5.6.0->ploomber->ml-advanced==0.1.dev0) (0.5.1)\n",
      "Requirement already satisfied: colorama in /usr/local/python/3.10.4/lib/python3.10/site-packages (from debuglater->ploomber-engine>=0.0.8->ploomber->ml-advanced==0.1.dev0) (0.4.5)\n",
      "Requirement already satisfied: pure-eval in /home/codespace/.local/lib/python3.10/site-packages (from stack-data->ipython->ploomber->ml-advanced==0.1.dev0) (0.2.2)\n",
      "Requirement already satisfied: executing in /home/codespace/.local/lib/python3.10/site-packages (from stack-data->ipython->ploomber->ml-advanced==0.1.dev0) (1.1.1)\n",
      "Requirement already satisfied: asttokens in /home/codespace/.local/lib/python3.10/site-packages (from stack-data->ipython->ploomber->ml-advanced==0.1.dev0) (2.0.8)\n",
      "Installing collected packages: ml-advanced\n",
      "  Attempting uninstall: ml-advanced\n",
      "    Found existing installation: ml-advanced 0.1.dev0\n",
      "    Uninstalling ml-advanced-0.1.dev0:\n",
      "      Successfully uninstalled ml-advanced-0.1.dev0\n",
      "  Running setup.py develop for ml-advanced\n",
      "Successfully installed ml-advanced\n"
     ]
    }
   ],
   "source": [
    "%%sh\n",
    "pip install -r requirements.txt\n",
    "pip install --editable ."
   ]
  },
  {
   "cell_type": "markdown",
   "id": "7fe7f6ae",
   "metadata": {},
   "source": [
    "## Build"
   ]
  },
  {
   "cell_type": "code",
   "execution_count": 2,
   "id": "fa2e95a8",
   "metadata": {
    "execution": {
     "iopub.execute_input": "2021-10-28T01:34:34.755642Z",
     "iopub.status.busy": "2021-10-28T01:34:34.754656Z",
     "iopub.status.idle": "2021-10-28T01:35:17.177417Z",
     "shell.execute_reply": "2021-10-28T01:35:17.175059Z"
    },
    "papermill": {
     "duration": 42.451428,
     "end_time": "2021-10-28T01:35:17.177928",
     "exception": false,
     "start_time": "2021-10-28T01:34:34.726500",
     "status": "completed"
    },
    "tags": []
   },
   "outputs": [
    {
     "name": "stdout",
     "output_type": "stream",
     "text": [
      "Loading pipeline...\n",
      "Finished: 'features', 'fit-ml-advanced--models--logistic-reg', 'fit-ml-advanced--models--svc', 'fit-sklearn--ensemble--RandomForestClassifier', 'get', and 'join'\n",
      "Remaining: \n",
      "Finished 6 out of 6 tasks\n",
      "name                                   Ran?      Elapsed (s)    Percentage\n",
      "-------------------------------------  ------  -------------  ------------\n",
      "get                                    False               0             0\n",
      "features                               False               0             0\n",
      "join                                   False               0             0\n",
      "fit-sklearn--ensemble--                False               0             0\n",
      "RandomForestClassifier\n",
      "fit-ml-advanced--models--logistic-reg  False               0             0\n",
      "fit-ml-advanced--models--svc           False               0             0\n"
     ]
    },
    {
     "name": "stderr",
     "output_type": "stream",
     "text": [
      "0it [00:00, ?it/s]\n"
     ]
    }
   ],
   "source": [
    "%%sh\n",
    "ploomber build --entry-point ml_advanced.pipeline.make"
   ]
  },
  {
   "cell_type": "markdown",
   "id": "caa65939",
   "metadata": {
    "papermill": {
     "duration": 0.028482,
     "end_time": "2021-10-28T01:35:17.243125",
     "exception": false,
     "start_time": "2021-10-28T01:35:17.214643",
     "status": "completed"
    },
    "tags": []
   },
   "source": [
    "## Testing"
   ]
  },
  {
   "cell_type": "code",
   "execution_count": 3,
   "id": "54ee76de",
   "metadata": {
    "execution": {
     "iopub.execute_input": "2021-10-28T01:35:17.398313Z",
     "iopub.status.busy": "2021-10-28T01:35:17.397035Z",
     "iopub.status.idle": "2021-10-28T01:35:56.222825Z",
     "shell.execute_reply": "2021-10-28T01:35:56.224413Z"
    },
    "papermill": {
     "duration": 38.856798,
     "end_time": "2021-10-28T01:35:56.224693",
     "exception": false,
     "start_time": "2021-10-28T01:35:17.367895",
     "status": "completed"
    },
    "tags": []
   },
   "outputs": [
    {
     "name": "stdout",
     "output_type": "stream",
     "text": [
      "============================= test session starts ==============================\n",
      "platform linux -- Python 3.10.4, pytest-7.1.3, pluggy-1.0.0\n",
      "rootdir: /workspaces/projects/templates/ml-advanced\n",
      "plugins: anyio-3.6.1\n",
      "collected 1 item\n",
      "\n",
      "tests/test_pipeline.py .                                                 [100%]\n",
      "\n",
      "=============================== warnings summary ===============================\n",
      "../../../../home/codespace/.local/lib/python3.10/site-packages/joblib/backports.py:22\n",
      "  /home/codespace/.local/lib/python3.10/site-packages/joblib/backports.py:22: DeprecationWarning: The distutils package is deprecated and slated for removal in Python 3.12. Use setuptools or check PEP 632 for potential alternatives\n",
      "    import distutils  # noqa\n",
      "\n",
      "../../../../usr/local/python/3.10.4/lib/python3.10/site-packages/ansiwrap/core.py:6\n",
      "  /usr/local/python/3.10.4/lib/python3.10/site-packages/ansiwrap/core.py:6: DeprecationWarning: the imp module is deprecated in favour of importlib and slated for removal in Python 3.12; see the module's documentation for alternative uses\n",
      "    import imp\n",
      "\n",
      "tests/test_pipeline.py::test_pipeline\n",
      "  /usr/local/python/3.10.4/lib/python3.10/site-packages/ploomber/dag/dag.py:301: UserWarning: The DAG \"ml-pipeline\" entered in an inconsistent state: trying to set DAG status to DAGStatus.Executed but executor returned tasks whose status is not TaskStatus.Executed nor TaskStatus.Skipped, returned status: {<TaskStatus.WaitingUpstream: 'waiting_upstream'>, <TaskStatus.WaitingExecution: 'waiting_execution'>}\n",
      "    warnings.warn('The DAG \"{}\" entered in an inconsistent '\n",
      "\n",
      "-- Docs: https://docs.pytest.org/en/stable/how-to/capture-warnings.html\n",
      "======================== 1 passed, 3 warnings in 30.11s ========================\n"
     ]
    }
   ],
   "source": [
    "%%bash\n",
    "# complete (force execution of all tasks)\n",
    "pytest --force"
   ]
  },
  {
   "cell_type": "code",
   "execution_count": 4,
   "id": "aa8cf4e9",
   "metadata": {
    "execution": {
     "iopub.execute_input": "2021-10-28T01:35:56.264795Z",
     "iopub.status.busy": "2021-10-28T01:35:56.263884Z",
     "iopub.status.idle": "2021-10-28T01:36:01.121696Z",
     "shell.execute_reply": "2021-10-28T01:36:01.122397Z"
    },
    "papermill": {
     "duration": 4.883103,
     "end_time": "2021-10-28T01:36:01.122670",
     "exception": false,
     "start_time": "2021-10-28T01:35:56.239567",
     "status": "completed"
    },
    "tags": []
   },
   "outputs": [
    {
     "name": "stdout",
     "output_type": "stream",
     "text": [
      "============================= test session starts ==============================\n",
      "platform linux -- Python 3.10.4, pytest-7.1.3, pluggy-1.0.0\n",
      "rootdir: /workspaces/projects/templates/ml-advanced\n",
      "plugins: anyio-3.6.1\n",
      "collected 1 item\n",
      "\n",
      "tests/test_pipeline.py .                                                 [100%]\n",
      "\n",
      "=============================== warnings summary ===============================\n",
      "../../../../home/codespace/.local/lib/python3.10/site-packages/joblib/backports.py:22\n",
      "  /home/codespace/.local/lib/python3.10/site-packages/joblib/backports.py:22: DeprecationWarning: The distutils package is deprecated and slated for removal in Python 3.12. Use setuptools or check PEP 632 for potential alternatives\n",
      "    import distutils  # noqa\n",
      "\n",
      "../../../../usr/local/python/3.10.4/lib/python3.10/site-packages/ansiwrap/core.py:6\n",
      "  /usr/local/python/3.10.4/lib/python3.10/site-packages/ansiwrap/core.py:6: DeprecationWarning: the imp module is deprecated in favour of importlib and slated for removal in Python 3.12; see the module's documentation for alternative uses\n",
      "    import imp\n",
      "\n",
      "-- Docs: https://docs.pytest.org/en/stable/how-to/capture-warnings.html\n",
      "======================== 1 passed, 2 warnings in 2.70s =========================\n"
     ]
    }
   ],
   "source": [
    "%%bash\n",
    "# incremental (will only run the tasks that have changed)\n",
    "pytest"
   ]
  }
 ],
 "metadata": {
  "kernelspec": {
   "display_name": "Python 3 (ipykernel)",
   "language": "python",
   "name": "python3"
  },
  "language_info": {
   "codemirror_mode": {
    "name": "ipython",
    "version": 3
   },
   "file_extension": ".py",
   "mimetype": "text/x-python",
   "name": "python",
   "nbconvert_exporter": "python",
   "pygments_lexer": "ipython3",
   "version": "3.10.1"
  },
  "papermill": {
   "default_parameters": {},
   "duration": 87.972891,
   "end_time": "2021-10-28T01:36:01.371673",
   "environment_variables": {},
   "exception": null,
   "input_path": "templates/ml-advanced/_build/readme_preprocessed.ipynb",
   "output_path": "templates/ml-advanced/README.ipynb",
   "parameters": {},
   "start_time": "2021-10-28T01:34:33.398782",
   "version": "2.3.3"
  },
  "vscode": {
   "interpreter": {
    "hash": "3ad933181bd8a04b432d3370b9dc3b0662ad032c4dfaa4e4f1596c548f763858"
   }
  }
 },
 "nbformat": 4,
 "nbformat_minor": 5
}
