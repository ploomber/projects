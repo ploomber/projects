{
 "cells": [
  {
   "cell_type": "markdown",
   "id": "f63f46e5",
   "metadata": {
    "papermill": {
     "duration": 0.022768,
     "end_time": "2021-10-28T01:34:06.580007",
     "exception": false,
     "start_time": "2021-10-28T01:34:06.557239",
     "status": "completed"
    },
    "tags": []
   },
   "source": [
    "To run this locally, [install Ploomber](https://docs.ploomber.io/en/latest/get-started/quick-start.html) and execute: `ploomber examples -n templates/spec-api-directory`\n",
    "\n",
    "Found an issue? [Let us know.](https://github.com/ploomber/projects/issues/new?title=templates/spec-api-directory%20issue)\n",
    "\n",
    "Questions? [Ask us on Slack.](https://ploomber.io/community/)\n"
   ]
  },
  {
   "cell_type": "markdown",
   "id": "92fbc252",
   "metadata": {
    "papermill": {
     "duration": 0.015455,
     "end_time": "2021-10-28T01:34:06.613976",
     "exception": false,
     "start_time": "2021-10-28T01:34:06.598521",
     "status": "completed"
    },
    "tags": []
   },
   "source": [
    "# Pipeline from a directory\n",
    "\n",
    "<!-- start description -->\n",
    "Create a pipeline from a directory with scripts (without a pipeline.yaml file).\n",
    "<!-- end description -->\n",
    "\n",
    "## Build"
   ]
  },
  {
   "cell_type": "code",
   "execution_count": 1,
   "id": "d3f78215",
   "metadata": {
    "execution": {
     "iopub.execute_input": "2021-10-28T01:34:06.656367Z",
     "iopub.status.busy": "2021-10-28T01:34:06.655414Z",
     "iopub.status.idle": "2021-10-28T01:34:28.786493Z",
     "shell.execute_reply": "2021-10-28T01:34:28.787300Z"
    },
    "papermill": {
     "duration": 22.158959,
     "end_time": "2021-10-28T01:34:28.787709",
     "exception": false,
     "start_time": "2021-10-28T01:34:06.628750",
     "status": "completed"
    },
    "tags": []
   },
   "outputs": [
    {
     "name": "stdout",
     "output_type": "stream",
     "text": [
      "name           Ran?      Elapsed (s)    Percentage\n",
      "-------------  ------  -------------  ------------\n",
      "get-users      True          3.87094       22.4909\n",
      "get-actions    True          3.77806       21.9512\n",
      "clean-users    True          2.52092       14.647\n",
      "clean-actions  True          2.53176       14.71\n",
      "train-model    True          4.5095        26.201\n"
     ]
    },
    {
     "name": "stderr",
     "output_type": "stream",
     "text": [
      "Building task 'get-users':   0%|          | 0/5 [00:00<?, ?it/s]\n",
      "Executing:   0%|          | 0/7 [00:00<?, ?cell/s]\u001b[A\n",
      "Executing:  14%|█▍        | 1/7 [00:01<00:09,  1.51s/cell]\u001b[A\n",
      "Executing:  29%|██▊       | 2/7 [00:02<00:07,  1.43s/cell]\u001b[A\n",
      "Executing:  71%|███████▏  | 5/7 [00:03<00:00,  2.26cell/s]\u001b[A\n",
      "Executing: 100%|██████████| 7/7 [00:03<00:00,  1.84cell/s]\u001b[A\n",
      "Building task 'get-actions':  20%|██        | 1/5 [00:03<00:15,  3.88s/it]\n",
      "Executing:   0%|          | 0/7 [00:00<?, ?cell/s]\u001b[A\n",
      "Executing:  14%|█▍        | 1/7 [00:01<00:07,  1.32s/cell]\u001b[A\n",
      "Executing:  29%|██▊       | 2/7 [00:02<00:06,  1.29s/cell]\u001b[A\n",
      "Executing:  57%|█████▋    | 4/7 [00:02<00:01,  1.94cell/s]\u001b[A\n",
      "Executing:  86%|████████▌ | 6/7 [00:03<00:00,  2.67cell/s]\u001b[A\n",
      "Executing: 100%|██████████| 7/7 [00:03<00:00,  1.90cell/s]\u001b[A\n",
      "Building task 'clean-users':  40%|████      | 2/5 [00:07<00:11,  3.82s/it]\n",
      "Executing:   0%|          | 0/5 [00:00<?, ?cell/s]\u001b[A\n",
      "Executing:  20%|██        | 1/5 [00:01<00:05,  1.42s/cell]\u001b[A\n",
      "Executing:  40%|████      | 2/5 [00:02<00:02,  1.05cell/s]\u001b[A\n",
      "Executing:  80%|████████  | 4/5 [00:02<00:00,  2.57cell/s]\u001b[A\n",
      "Executing: 100%|██████████| 5/5 [00:02<00:00,  2.02cell/s]\u001b[A\n",
      "Building task 'clean-actions':  60%|██████    | 3/5 [00:10<00:06,  3.23s/it]\n",
      "Executing:   0%|          | 0/4 [00:00<?, ?cell/s]\u001b[A\n",
      "Executing:  25%|██▌       | 1/4 [00:02<00:06,  2.15s/cell]\u001b[A\n",
      "Executing: 100%|██████████| 4/4 [00:02<00:00,  1.60cell/s]\u001b[A\n",
      "Building task 'train-model':  80%|████████  | 4/5 [00:12<00:02,  2.96s/it]  \n",
      "Executing:   0%|          | 0/14 [00:00<?, ?cell/s]\u001b[A\n",
      "Executing:   7%|▋         | 1/14 [00:01<00:18,  1.39s/cell]\u001b[A\n",
      "Executing:  14%|█▍        | 2/14 [00:02<00:16,  1.36s/cell]\u001b[A\n",
      "Executing:  29%|██▊       | 4/14 [00:02<00:05,  1.81cell/s]\u001b[A\n",
      "Executing:  43%|████▎     | 6/14 [00:03<00:02,  2.92cell/s]\u001b[A\n",
      "Executing:  57%|█████▋    | 8/14 [00:03<00:01,  4.16cell/s]\u001b[A\n",
      "Executing:  71%|███████▏  | 10/14 [00:03<00:00,  5.40cell/s]\u001b[A\n",
      "Executing:  86%|████████▌ | 12/14 [00:03<00:00,  6.65cell/s]\u001b[A\n",
      "Executing: 100%|██████████| 14/14 [00:04<00:00,  3.19cell/s]\u001b[A\n",
      "Building task 'train-model': 100%|██████████| 5/5 [00:17<00:00,  3.45s/it]\n"
     ]
    }
   ],
   "source": [
    "%%bash\n",
    "mkdir output\n",
    "ploomber build --entry-point '*.py'"
   ]
  },
  {
   "cell_type": "markdown",
   "id": "630d59a1",
   "metadata": {
    "papermill": {
     "duration": 0.020477,
     "end_time": "2021-10-28T01:34:28.827264",
     "exception": false,
     "start_time": "2021-10-28T01:34:28.806787",
     "status": "completed"
    },
    "tags": []
   },
   "source": [
    "Output stored in the `output/` directory."
   ]
  },
  {
   "cell_type": "markdown",
   "id": "4fe08614",
   "metadata": {
    "papermill": {
     "duration": 0.01861,
     "end_time": "2021-10-28T01:34:28.864411",
     "exception": false,
     "start_time": "2021-10-28T01:34:28.845801",
     "status": "completed"
    },
    "tags": []
   },
   "source": [
    "## Describe\n",
    "\n",
    "This pipeline contains five steps. The last task trains a model and outputs a\n",
    "report and a model file. To get the pipeline description:"
   ]
  },
  {
   "cell_type": "code",
   "execution_count": 2,
   "id": "6605fae9",
   "metadata": {
    "execution": {
     "iopub.execute_input": "2021-10-28T01:34:28.906650Z",
     "iopub.status.busy": "2021-10-28T01:34:28.905344Z",
     "iopub.status.idle": "2021-10-28T01:34:33.032292Z",
     "shell.execute_reply": "2021-10-28T01:34:33.033018Z"
    },
    "papermill": {
     "duration": 4.152644,
     "end_time": "2021-10-28T01:34:33.033286",
     "exception": false,
     "start_time": "2021-10-28T01:34:28.880642",
     "status": "completed"
    },
    "tags": []
   },
   "outputs": [
    {
     "name": "stdout",
     "output_type": "stream",
     "text": [
      "name         Last run    Outdated?    Product      Doc          Location\n",
      "                                                   (short)\n",
      "-----------  ----------  -----------  -----------  -----------  ----------\n",
      "get-users    17 seconds  False        MetaProduct  Get users    get-\n",
      "             ago (Oct                 ({'data': F  data and     users.py\n",
      "             27, 21 at                ile('output  make some\n",
      "             21:34)                   /users.parq  charts\n",
      "                                      uet'),\n",
      "                                      'nb': File(\n",
      "                                      'output/get\n",
      "                                      -users.ipyn\n",
      "                                      b')})\n",
      "get-actions  13 seconds  False        MetaProduct  Get actions  get-\n",
      "             ago (Oct                 ({'data': F  data and     actions.py\n",
      "             27, 21 at                ile('output  make some\n",
      "             21:34)                   /actions.pa  charts\n",
      "                                      rquet'),\n",
      "                                      'nb': File(\n",
      "                                      'output/...\n",
      "                                      ctions.ipyn\n",
      "                                      b')})\n",
      "clean-users  11 seconds  False        MetaProduct  Clean users  clean-\n",
      "             ago (Oct                 ({'data': F  data         users.py\n",
      "             27, 21 at                ile('output\n",
      "             21:34)                   /...sers.pa\n",
      "                                      rquet'),\n",
      "                                      'nb': File(\n",
      "                                      'output/...\n",
      "                                      -users.ipyn\n",
      "                                      b')})\n",
      "clean-       8 seconds   False        MetaProduct               clean-\n",
      "actions      ago (Oct                 ({'data': F               actions.py\n",
      "             27, 21 at                ile('output\n",
      "             21:34)                   /...ions.pa\n",
      "                                      rquet'),\n",
      "                                      'nb': File(\n",
      "                                      'output/...\n",
      "                                      ctions.ipyn\n",
      "                                      b')})\n",
      "train-model  4 seconds   False        MetaProduct  Train model  train-\n",
      "             ago (Oct                 ({'model':   and          model.py\n",
      "             27, 21 at                File('outpu  evaluate\n",
      "             21:34)                   t/model.pic\n",
      "                                      kle'),\n",
      "                                      'nb': File(\n",
      "                                      'output/...\n",
      "                                      uation.ipyn\n",
      "                                      b')})\n"
     ]
    },
    {
     "name": "stderr",
     "output_type": "stream",
     "text": [
      "100%|██████████| 5/5 [00:00<00:00, 4704.24it/s]\n"
     ]
    }
   ],
   "source": [
    "%%bash\n",
    "ploomber status --entry-point '*.py'"
   ]
  },
  {
   "cell_type": "markdown",
   "id": "2f639bdb",
   "metadata": {
    "papermill": {
     "duration": 0.016065,
     "end_time": "2021-10-28T01:34:33.067825",
     "exception": false,
     "start_time": "2021-10-28T01:34:33.051760",
     "status": "completed"
    },
    "tags": []
   },
   "source": [
    "`--entry-point '*.py'` means \"all files with py extension are tasks in the\n",
    "pipeline\". If all the files in the current directory are tasks, you can also\n",
    "use the shortcut `--entry-point .`."
   ]
  }
 ],
 "metadata": {
  "kernelspec": {
   "display_name": "Python 3 (ipykernel)",
   "language": "python",
   "name": "python3"
  },
  "language_info": {
   "codemirror_mode": {
    "name": "ipython",
    "version": 3
   },
   "file_extension": ".py",
   "mimetype": "text/x-python",
   "name": "python",
   "nbconvert_exporter": "python",
   "pygments_lexer": "ipython3",
   "version": "3.10.1"
  },
  "papermill": {
   "default_parameters": {},
   "duration": 28.349211,
   "end_time": "2021-10-28T01:34:33.304083",
   "environment_variables": {},
   "exception": null,
   "input_path": "templates/spec-api-directory/_build/readme_preprocessed.ipynb",
   "output_path": "templates/spec-api-directory/README.ipynb",
   "parameters": {},
   "start_time": "2021-10-28T01:34:04.954872",
   "version": "2.3.3"
  }
 },
 "nbformat": 4,
 "nbformat_minor": 5
}
