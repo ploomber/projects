{
 "cells": [
  {
   "cell_type": "markdown",
   "id": "e188a83f",
   "metadata": {
    "papermill": {
     "duration": 0.018829,
     "end_time": "2021-10-14T15:07:51.757569",
     "exception": false,
     "start_time": "2021-10-14T15:07:51.738740",
     "status": "completed"
    },
    "tags": []
   },
   "source": [
    "To run this example locally, execute: `ploomber examples -n spec-api-directory`.\n",
    "\n",
    "To start a free, hosted JupyterLab: [![binder-logo](https://mybinder.org/badge_logo.svg)](https://mybinder.org/v2/gh/ploomber/binder-env/main?urlpath=git-pull%3Frepo%3Dhttps%253A%252F%252Fgithub.com%252Fploomber%252Fprojects%26urlpath%3Dlab%252Ftree%252Fprojects%252Fspec-api-directory%252FREADME.ipynb%26branch%3Dmaster)\n",
    "\n",
    "Found an issue? [Let us know.](https://github.com/ploomber/projects/issues/new?title=spec-api-directory%20issue)\n",
    "\n",
    "Have questions? [Ask us anything on Slack.](http://community.ploomber.io/)\n"
   ]
  },
  {
   "cell_type": "markdown",
   "id": "326569ac",
   "metadata": {
    "papermill": {
     "duration": 0.022344,
     "end_time": "2021-10-14T15:07:51.798906",
     "exception": false,
     "start_time": "2021-10-14T15:07:51.776562",
     "status": "completed"
    },
    "tags": []
   },
   "source": [
    "# Pipeline from directory\n",
    "\n",
    "Pipeline from a directory of scripts.\n",
    "\n",
    "## Build"
   ]
  },
  {
   "cell_type": "code",
   "execution_count": 1,
   "id": "554972f3",
   "metadata": {
    "execution": {
     "iopub.execute_input": "2021-10-14T15:07:51.842864Z",
     "iopub.status.busy": "2021-10-14T15:07:51.841667Z",
     "iopub.status.idle": "2021-10-14T15:08:12.014123Z",
     "shell.execute_reply": "2021-10-14T15:08:12.014881Z"
    },
    "papermill": {
     "duration": 20.20052,
     "end_time": "2021-10-14T15:08:12.015357",
     "exception": false,
     "start_time": "2021-10-14T15:07:51.814837",
     "status": "completed"
    },
    "tags": []
   },
   "outputs": [
    {
     "name": "stdout",
     "output_type": "stream",
     "text": [
      "name           Ran?      Elapsed (s)    Percentage\n",
      "-------------  ------  -------------  ------------\n",
      "get-users      True          3.67593       23.653\n",
      "get-actions    True          3.30578       21.2713\n",
      "clean-users    True          2.10632       13.5533\n",
      "clean-actions  True          2.08678       13.4275\n",
      "train-model    True          4.36622       28.0948\n"
     ]
    },
    {
     "name": "stderr",
     "output_type": "stream",
     "text": [
      "\r",
      "  0%|          | 0/5 [00:00<?, ?it/s]\r",
      "Building task 'get-users':   0%|          | 0/5 [00:00<?, ?it/s]\n",
      "\r",
      "Executing:   0%|          | 0/7 [00:00<?, ?cell/s]\u001b[A\n",
      "\r",
      "Executing:  14%|█▍        | 1/7 [00:01<00:07,  1.33s/cell]\u001b[A\n",
      "\r",
      "Executing:  29%|██▊       | 2/7 [00:02<00:07,  1.40s/cell]\u001b[A\n",
      "\r",
      "Executing:  71%|███████▏  | 5/7 [00:02<00:00,  2.34cell/s]\u001b[A\n",
      "\r",
      "Executing: 100%|██████████| 7/7 [00:03<00:00,  3.01cell/s]\u001b[A\r",
      "Executing: 100%|██████████| 7/7 [00:03<00:00,  1.94cell/s]\n",
      "\r",
      "Building task 'get-users':  20%|██        | 1/5 [00:03<00:14,  3.68s/it]\r",
      "Building task 'get-actions':  20%|██        | 1/5 [00:03<00:14,  3.68s/it]\n",
      "\r",
      "Executing:   0%|          | 0/7 [00:00<?, ?cell/s]\u001b[A\n",
      "\r",
      "Executing:  14%|█▍        | 1/7 [00:01<00:07,  1.28s/cell]\u001b[A\n",
      "\r",
      "Executing:  29%|██▊       | 2/7 [00:02<00:06,  1.22s/cell]\u001b[A\n",
      "\r",
      "Executing:  71%|███████▏  | 5/7 [00:02<00:00,  2.67cell/s]\u001b[A\n",
      "\r",
      "Executing: 100%|██████████| 7/7 [00:02<00:00,  3.41cell/s]\u001b[A\r",
      "Executing: 100%|██████████| 7/7 [00:03<00:00,  2.16cell/s]\n",
      "\r",
      "Building task 'get-actions':  40%|████      | 2/5 [00:06<00:10,  3.46s/it]\r",
      "Building task 'clean-users':  40%|████      | 2/5 [00:06<00:10,  3.46s/it]\n",
      "\r",
      "Executing:   0%|          | 0/5 [00:00<?, ?cell/s]\u001b[A\n",
      "\r",
      "Executing:  20%|██        | 1/5 [00:01<00:04,  1.23s/cell]\u001b[A\n",
      "\r",
      "Executing:  40%|████      | 2/5 [00:01<00:02,  1.26cell/s]\u001b[A\n",
      "\r",
      "Executing: 100%|██████████| 5/5 [00:01<00:00,  3.89cell/s]\u001b[A\r",
      "Executing: 100%|██████████| 5/5 [00:02<00:00,  2.42cell/s]\n",
      "\r",
      "Building task 'clean-users':  60%|██████    | 3/5 [00:09<00:05,  2.84s/it]\r",
      "Building task 'clean-actions':  60%|██████    | 3/5 [00:09<00:05,  2.84s/it]\n",
      "\r",
      "Executing:   0%|          | 0/4 [00:00<?, ?cell/s]\u001b[A\n",
      "\r",
      "Executing:  25%|██▌       | 1/4 [00:01<00:05,  1.70s/cell]\u001b[A\n",
      "\r",
      "Executing: 100%|██████████| 4/4 [00:01<00:00,  2.79cell/s]\u001b[A\r",
      "Executing: 100%|██████████| 4/4 [00:02<00:00,  1.95cell/s]\n",
      "\r",
      "Building task 'clean-actions':  80%|████████  | 4/5 [00:11<00:02,  2.55s/it]\r",
      "Building task 'train-model':  80%|████████  | 4/5 [00:11<00:02,  2.55s/it]  \n",
      "\r",
      "Executing:   0%|          | 0/14 [00:00<?, ?cell/s]\u001b[A\n",
      "\r",
      "Executing:   7%|▋         | 1/14 [00:01<00:17,  1.34s/cell]\u001b[A\n",
      "\r",
      "Executing:  14%|█▍        | 2/14 [00:02<00:15,  1.30s/cell]\u001b[A\n",
      "\r",
      "Executing:  29%|██▊       | 4/14 [00:02<00:05,  1.88cell/s]\u001b[A\n",
      "\r",
      "Executing:  43%|████▎     | 6/14 [00:02<00:02,  3.03cell/s]\u001b[A\n",
      "\r",
      "Executing:  57%|█████▋    | 8/14 [00:03<00:01,  4.36cell/s]\u001b[A\n",
      "\r",
      "Executing:  71%|███████▏  | 10/14 [00:03<00:00,  5.64cell/s]\u001b[A\n",
      "\r",
      "Executing:  86%|████████▌ | 12/14 [00:03<00:00,  6.78cell/s]\u001b[A\n",
      "\r",
      "Executing: 100%|██████████| 14/14 [00:03<00:00,  5.84cell/s]\u001b[A\r",
      "Executing: 100%|██████████| 14/14 [00:04<00:00,  3.30cell/s]\n",
      "\r",
      "Building task 'train-model': 100%|██████████| 5/5 [00:15<00:00,  3.20s/it]\r",
      "Building task 'train-model': 100%|██████████| 5/5 [00:15<00:00,  3.11s/it]\n"
     ]
    }
   ],
   "source": [
    "%%bash\n",
    "mkdir output\n",
    "ploomber build --entry-point '*.py'"
   ]
  },
  {
   "cell_type": "markdown",
   "id": "0e2643eb",
   "metadata": {
    "papermill": {
     "duration": 0.016091,
     "end_time": "2021-10-14T15:08:12.048650",
     "exception": false,
     "start_time": "2021-10-14T15:08:12.032559",
     "status": "completed"
    },
    "tags": []
   },
   "source": [
    "Output stored in the `output/` directory."
   ]
  },
  {
   "cell_type": "markdown",
   "id": "eb923e2c",
   "metadata": {
    "papermill": {
     "duration": 0.016554,
     "end_time": "2021-10-14T15:08:12.080639",
     "exception": false,
     "start_time": "2021-10-14T15:08:12.064085",
     "status": "completed"
    },
    "tags": []
   },
   "source": [
    "## Describe\n",
    "\n",
    "This pipeline contains five steps. The last task trains a model and outputs a\n",
    "report and a model file. To get the pipeline description:"
   ]
  },
  {
   "cell_type": "code",
   "execution_count": 2,
   "id": "3b7aed07",
   "metadata": {
    "execution": {
     "iopub.execute_input": "2021-10-14T15:08:12.124716Z",
     "iopub.status.busy": "2021-10-14T15:08:12.123583Z",
     "iopub.status.idle": "2021-10-14T15:08:16.394484Z",
     "shell.execute_reply": "2021-10-14T15:08:16.395288Z"
    },
    "papermill": {
     "duration": 4.298666,
     "end_time": "2021-10-14T15:08:16.395525",
     "exception": false,
     "start_time": "2021-10-14T15:08:12.096859",
     "status": "completed"
    },
    "tags": []
   },
   "outputs": [
    {
     "name": "stdout",
     "output_type": "stream",
     "text": [
      "name         Last run    Outdated?    Product      Doc          Location\n",
      "                                                   (short)\n",
      "-----------  ----------  -----------  -----------  -----------  ----------\n",
      "get-users    16 seconds  False        MetaProduct  Get users    get-\n",
      "             ago (Oct                 ({'data': F  data and     users.py\n",
      "             14, 21 at                ile('output  make some\n",
      "             11:07)                   /users.parq  charts\n",
      "                                      uet'),\n",
      "                                      'nb': File(\n",
      "                                      'output/get\n",
      "                                      -users.ipyn\n",
      "                                      b')})\n",
      "get-actions  12 seconds  False        MetaProduct  Get actions  get-\n",
      "             ago (Oct                 ({'data': F  data and     actions.py\n",
      "             14, 21 at                ile('output  make some\n",
      "             11:08)                   /actions.pa  charts\n",
      "                                      rquet'),\n",
      "                                      'nb': File(\n",
      "                                      'output/...\n",
      "                                      ctions.ipyn\n",
      "                                      b')})\n",
      "clean-users  10 seconds  False        MetaProduct  Clean users  clean-\n",
      "             ago (Oct                 ({'data': F  data         users.py\n",
      "             14, 21 at                ile('output\n",
      "             11:08)                   /...sers.pa\n",
      "                                      rquet'),\n",
      "                                      'nb': File(\n",
      "                                      'output/...\n",
      "                                      -users.ipyn\n",
      "                                      b')})\n",
      "clean-       8 seconds   False        MetaProduct               clean-\n",
      "actions      ago (Oct                 ({'data': F               actions.py\n",
      "             14, 21 at                ile('output\n",
      "             11:08)                   /...ions.pa\n",
      "                                      rquet'),\n",
      "                                      'nb': File(\n",
      "                                      'output/...\n",
      "                                      ctions.ipyn\n",
      "                                      b')})\n",
      "train-model  4 seconds   False        MetaProduct  Train model  train-\n",
      "             ago (Oct                 ({'model':   and          model.py\n",
      "             14, 21 at                File('outpu  evaluate\n",
      "             11:08)                   t/model.pic\n",
      "                                      kle'),\n",
      "                                      'nb': File(\n",
      "                                      'output/...\n",
      "                                      uation.ipyn\n",
      "                                      b')})\n"
     ]
    },
    {
     "name": "stderr",
     "output_type": "stream",
     "text": [
      "\r",
      "  0%|          | 0/5 [00:00<?, ?it/s]\r",
      "100%|██████████| 5/5 [00:00<00:00, 4397.47it/s]\n"
     ]
    }
   ],
   "source": [
    "%%bash\n",
    "ploomber status --entry-point '*.py'"
   ]
  },
  {
   "cell_type": "markdown",
   "id": "3db898ed",
   "metadata": {
    "papermill": {
     "duration": 0.020652,
     "end_time": "2021-10-14T15:08:16.436215",
     "exception": false,
     "start_time": "2021-10-14T15:08:16.415563",
     "status": "completed"
    },
    "tags": []
   },
   "source": [
    "`--entry-point '*.py'` means \"all files with py extension are tasks in the\n",
    "pipeline\". If all the files in the current directory are tasks, you can also\n",
    "use the shortcut `--entry-point .`."
   ]
  }
 ],
 "metadata": {
  "kernelspec": {
   "display_name": "Python 3 (ipykernel)",
   "language": "python",
   "name": "python3"
  },
  "language_info": {
   "codemirror_mode": {
    "name": "ipython",
    "version": 3
   },
   "file_extension": ".py",
   "mimetype": "text/x-python",
   "name": "python",
   "nbconvert_exporter": "python",
   "pygments_lexer": "ipython3",
   "version": "3.9.7"
  },
  "papermill": {
   "default_parameters": {},
   "duration": 26.22889,
   "end_time": "2021-10-14T15:08:16.667883",
   "environment_variables": {},
   "exception": null,
   "input_path": "spec-api-directory/_build/readme_preprocessed.ipynb",
   "output_path": "spec-api-directory/README.ipynb",
   "parameters": {},
   "start_time": "2021-10-14T15:07:50.438993",
   "version": "2.3.3"
  }
 },
 "nbformat": 4,
 "nbformat_minor": 5
}