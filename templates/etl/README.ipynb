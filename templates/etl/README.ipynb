{
 "cells": [
  {
   "cell_type": "markdown",
   "id": "6ff6acaa",
   "metadata": {
    "papermill": {
     "duration": 0.010757,
     "end_time": "2021-10-28T01:27:00.902996",
     "exception": false,
     "start_time": "2021-10-28T01:27:00.892239",
     "status": "completed"
    },
    "tags": []
   },
   "source": [
    "To run this locally, [install Ploomber](https://docs.ploomber.io/en/latest/get-started/quick-start.html) and execute: `ploomber examples -n templates/etl`\n",
    "\n",
    "Found an issue? [Let us know.](https://github.com/ploomber/projects/issues/new?title=templates/etl%20issue)\n",
    "\n",
    "Questions? [Ask us on Slack.](https://ploomber.io/community/)\n",
    "\n"
   ]
  },
  {
   "cell_type": "markdown",
   "id": "acefe3ae",
   "metadata": {
    "papermill": {
     "duration": 0.00961,
     "end_time": "2021-10-28T01:27:00.922964",
     "exception": false,
     "start_time": "2021-10-28T01:27:00.913354",
     "status": "completed"
    },
    "tags": []
   },
   "source": [
    "# ETL SQL pipeline\n",
    "\n",
    "<!-- start description -->\n",
    "Download a data file, upload it to a database, process it, and plot with Python and R.\n",
    "<!-- end description -->\n",
    "\n",
    "**Note:** This pipeline requires the `p7zip` package. It is installed if using `conda` (`environment.yml`). If using `pip`, you must install it yourself.\n",
    "\n",
    "## Data\n",
    "\n",
    "Subset of the [Stack Exchange dataset](https://archive.org/details/stackexchange).\n",
    "It gets the data from the original source, converts it from XML to CSV, uploads it to a database, aggregates it, dumps it and generates a few plots. See the diagram below (generated using `ploomber plot`):\n",
    "\n",
    "![pipeline](pipeline.png)\n",
    "\n",
    "The ``pipeline.yaml`` file contains a few comments to understand what's going on at each step."
   ]
  },
  {
   "cell_type": "markdown",
   "id": "cd2ffe3e",
   "metadata": {
    "papermill": {
     "duration": 0.009853,
     "end_time": "2021-10-28T01:27:00.941866",
     "exception": false,
     "start_time": "2021-10-28T01:27:00.932013",
     "status": "completed"
    },
    "tags": []
   },
   "source": [
    "## Build"
   ]
  },
  {
   "cell_type": "code",
   "execution_count": null,
   "id": "c1ce02da",
   "metadata": {
    "papermill": {
     "duration": 212.589891,
     "end_time": "2021-10-28T01:30:33.540724",
     "exception": false,
     "start_time": "2021-10-28T01:27:00.950833",
     "status": "completed"
    },
    "tags": []
   },
   "outputs": [],
   "source": [
    "%%sh\n",
    "ploomber build"
   ]
  },
  {
   "cell_type": "markdown",
   "id": "e92da28f",
   "metadata": {
    "papermill": {
     "duration": 0.026142,
     "end_time": "2021-10-28T01:30:33.604278",
     "exception": false,
     "start_time": "2021-10-28T01:30:33.578136",
     "status": "completed"
    },
    "tags": []
   },
   "source": [
    "Output stored in the ``output/`` directory."
   ]
  }
 ],
 "metadata": {
  "kernelspec": {
   "display_name": "Python 3 (ipykernel)",
   "language": "python",
   "name": "python3"
  },
  "language_info": {
   "codemirror_mode": {
    "name": "ipython",
    "version": 3
   },
   "file_extension": ".py",
   "mimetype": "text/x-python",
   "name": "python",
   "nbconvert_exporter": "python",
   "pygments_lexer": "ipython3",
   "version": "3.10.1"
  },
  "papermill": {
   "default_parameters": {},
   "duration": 214.32228,
   "end_time": "2021-10-28T01:30:33.953041",
   "environment_variables": {},
   "exception": null,
   "input_path": "templates/etl/_build/readme_preprocessed.ipynb",
   "output_path": "templates/etl/README.ipynb",
   "parameters": {},
   "start_time": "2021-10-28T01:26:59.630761",
   "version": "2.3.3"
  }
 },
 "nbformat": 4,
 "nbformat_minor": 5
}
