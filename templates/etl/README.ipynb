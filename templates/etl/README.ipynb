{
 "cells": [
  {
   "cell_type": "markdown",
   "id": "f0f356be",
   "metadata": {
    "papermill": {
     "duration": 0.011797,
     "end_time": "2021-10-14T14:56:55.974608",
     "exception": false,
     "start_time": "2021-10-14T14:56:55.962811",
     "status": "completed"
    },
    "tags": []
   },
   "source": [
    "To run this example locally, execute: `ploomber examples -n etl`.\n",
    "\n",
    "To start a free, hosted JupyterLab: [![binder-logo](https://mybinder.org/badge_logo.svg)](https://mybinder.org/v2/gh/ploomber/binder-env/main?urlpath=git-pull%3Frepo%3Dhttps%253A%252F%252Fgithub.com%252Fploomber%252Fprojects%26urlpath%3Dlab%252Ftree%252Fprojects%252Fetl%252FREADME.ipynb%26branch%3Dmaster)\n",
    "\n",
    "Found an issue? [Let us know.](https://github.com/ploomber/projects/issues/new?title=etl%20issue)\n",
    "\n",
    "Have questions? [Ask us anything on Slack.](http://community.ploomber.io/)\n",
    "\n"
   ]
  },
  {
   "cell_type": "markdown",
   "id": "b1d9821d",
   "metadata": {
    "papermill": {
     "duration": 0.015846,
     "end_time": "2021-10-14T14:56:56.002107",
     "exception": false,
     "start_time": "2021-10-14T14:56:55.986261",
     "status": "completed"
    },
    "tags": []
   },
   "source": [
    "# ETL SQL pipeline\n",
    "\n",
    "SQL pipeline that downloads data, uploads to a database, process it, and plots using Python/R\n",
    "\n",
    "**Note:** This pipeline requires the `p7zip` package. It is installed if using `conda` (`environment.yml`). If using `pip`, you must install it yourself.\n",
    "\n",
    "## Data\n",
    "\n",
    "Subset of the [Stack Exchange dataset](https://archive.org/details/stackexchange).\n",
    "It gets the data from the original source, converts it from XML to CSV, uploads it to a database, aggregates it, dumps it and generates a few plots. See the diagram below (generated using `ploomber plot`):\n",
    "\n",
    "![pipeline](pipeline.png)\n",
    "\n",
    "The ``pipeline.yaml`` file contains a few comments to understand what's going on at each step."
   ]
  },
  {
   "cell_type": "markdown",
   "id": "b47222e9",
   "metadata": {
    "papermill": {
     "duration": 0.01447,
     "end_time": "2021-10-14T14:56:56.036626",
     "exception": false,
     "start_time": "2021-10-14T14:56:56.022156",
     "status": "completed"
    },
    "tags": []
   },
   "source": [
    "## Build"
   ]
  },
  {
   "cell_type": "code",
   "execution_count": 1,
   "id": "155dcbee",
   "metadata": {
    "execution": {
     "iopub.execute_input": "2021-10-14T14:56:56.091057Z",
     "iopub.status.busy": "2021-10-14T14:56:56.089182Z",
     "iopub.status.idle": "2021-10-14T15:01:35.555468Z",
     "shell.execute_reply": "2021-10-14T15:01:35.554487Z"
    },
    "papermill": {
     "duration": 279.501517,
     "end_time": "2021-10-14T15:01:35.555773",
     "exception": false,
     "start_time": "2021-10-14T14:56:56.054256",
     "status": "completed"
    },
    "tags": []
   },
   "outputs": [
    {
     "name": "stdout",
     "output_type": "stream",
     "text": [
      "name                 Ran?      Elapsed (s)    Percentage\n",
      "-------------------  ------  -------------  ------------\n",
      "download             True       234.756      85.4103\n",
      "convert2csv          True        20.1025      7.31381\n",
      "upload-users         True         1.53074     0.556924\n",
      "upload-comments      True         2.12172     0.771935\n",
      "upload-posts         True         3.16777     1.15251\n",
      "upvotes-by-location  True         0.220902    0.0803698\n",
      "comments-by-post     True         0.069383    0.0252433\n",
      "posts-by-length      True         0.603666    0.219629\n",
      "upvotes-dump         True         0.004115    0.00149714\n",
      "comments-dump        True         0.049969    0.01818\n",
      "posts-dump           True         0.081902    0.029798\n",
      "plot-upvotes         True         3.39167     1.23398\n",
      "comments-plot        True         4.68177     1.70335\n",
      "posts-plot           True         4.07477     1.48251\n"
     ]
    },
    {
     "name": "stderr",
     "output_type": "stream",
     "text": [
      "/Users/Edu/dev/ploomber/src/ploomber/dag/dag.py:390: UserWarning: \n",
      "=========================== DAG render with warnings ===========================\n",
      "-------- SQLUpload: upload-users -> SQLiteRelation(('users', 'table')) ---------\n",
      "The following upstream dependencies in task \"upload-users\" were not used {'convert2csv'}\n",
      "----- SQLUpload: upload-comments -> SQLiteRelation(('comments', 'table')) ------\n",
      "The following upstream dependencies in task \"upload-comments\" were not used {'convert2csv'}\n",
      "-------- SQLUpload: upload-posts -> SQLiteRelation(('posts', 'table')) ---------\n",
      "The following upstream dependencies in task \"upload-posts\" were not used {'convert2csv'}\n",
      "============================== Summary (3 tasks) ===============================\n",
      "SQLUpload: upload-users -> SQLiteRelation(('users', 'table'))\n",
      "SQLUpload: upload-comments -> SQLiteRelation(('comments', 'table'))\n",
      "SQLUpload: upload-posts -> SQLiteRelation(('posts', 'table'))\n",
      "=========================== DAG render with warnings ===========================\n",
      "\n",
      "  warnings.warn(str(warnings_))\n",
      "\r",
      "  0%|          | 0/14 [00:00<?, ?it/s]\r",
      "Building task 'download':   0%|          | 0/14 [00:00<?, ?it/s]\n",
      "\r",
      "Executing:   0%|          | 0/5 [00:00<?, ?cell/s]\u001b[A\n",
      "\r",
      "Executing:  20%|██        | 1/5 [00:01<00:05,  1.39s/cell]\u001b[A\n",
      "\r",
      "Executing:  80%|████████  | 4/5 [00:01<00:00,  3.44cell/s]\u001b[A\n",
      "\r",
      "Executing:  80%|████████  | 4/5 [00:19<00:00,  3.44cell/s]\u001b[A\n",
      "\r",
      "Executing: 100%|██████████| 5/5 [03:54<00:00, 65.11s/cell]\u001b[A\r",
      "Executing: 100%|██████████| 5/5 [03:54<00:00, 46.94s/cell]\n",
      "\r",
      "Building task 'download':   7%|▋         | 1/14 [03:54<50:51, 234.76s/it]\r",
      "Building task 'convert2csv':   7%|▋         | 1/14 [03:54<50:51, 234.76s/it]\n",
      "\r",
      "Executing:   0%|          | 0/5 [00:00<?, ?cell/s]\u001b[A\n",
      "\r",
      "Executing:  20%|██        | 1/5 [00:01<00:05,  1.42s/cell]\u001b[A\n",
      "\r",
      "Executing: 100%|██████████| 5/5 [00:19<00:00,  4.13s/cell]\u001b[A\r",
      "Executing: 100%|██████████| 5/5 [00:20<00:00,  4.01s/cell]\n",
      "\r",
      "Building task 'convert2csv':  14%|█▍        | 2/14 [04:14<21:41, 108.49s/it]\r",
      "Building task 'upload-users':  14%|█▍        | 2/14 [04:14<21:41, 108.49s/it]\r",
      "Building task 'upload-users':  21%|██▏       | 3/14 [04:16<10:56, 59.66s/it] \r",
      "Building task 'upload-comments':  21%|██▏       | 3/14 [04:16<10:56, 59.66s/it]\r",
      "Building task 'upload-comments':  29%|██▊       | 4/14 [04:18<06:09, 36.94s/it]\r",
      "Building task 'upload-posts':  29%|██▊       | 4/14 [04:18<06:09, 36.94s/it]   \r",
      "Building task 'upload-posts':  36%|███▌      | 5/14 [04:21<03:42, 24.76s/it]\r",
      "Building task 'upvotes-by-location':  36%|███▌      | 5/14 [04:21<03:42, 24.76s/it]\r",
      "Building task 'upvotes-by-location':  43%|████▎     | 6/14 [04:21<02:11, 16.42s/it]\r",
      "Building task 'comments-by-post':  43%|████▎     | 6/14 [04:21<02:11, 16.42s/it]   \r",
      "Building task 'posts-by-length':  43%|████▎     | 6/14 [04:21<02:11, 16.42s/it] \r",
      "Building task 'posts-by-length':  57%|█████▋    | 8/14 [04:22<00:50,  8.50s/it]\r",
      "Building task 'upvotes-dump':  57%|█████▋    | 8/14 [04:22<00:50,  8.50s/it]   \r",
      "Building task 'comments-dump':  57%|█████▋    | 8/14 [04:22<00:50,  8.50s/it]\r",
      "Building task 'posts-dump':  57%|█████▋    | 8/14 [04:22<00:50,  8.50s/it]   \r",
      "Building task 'posts-dump':  79%|███████▊  | 11/14 [04:22<00:12,  4.16s/it]\r",
      "Building task 'plot-upvotes':  79%|███████▊  | 11/14 [04:22<00:12,  4.16s/it]\n",
      "\r",
      "Executing:   0%|          | 0/5 [00:00<?, ?cell/s]\u001b[A\n",
      "\r",
      "Executing:  20%|██        | 1/5 [00:01<00:06,  1.72s/cell]\u001b[A\n",
      "\r",
      "Executing:  40%|████      | 2/5 [00:01<00:02,  1.29cell/s]\u001b[A\n",
      "\r",
      "Executing:  60%|██████    | 3/5 [00:01<00:00,  2.14cell/s]\u001b[A\n",
      "\r",
      "Executing:  80%|████████  | 4/5 [00:02<00:00,  1.55cell/s]\u001b[A\r",
      "Executing: 100%|██████████| 5/5 [00:02<00:00,  1.67cell/s]\n",
      "\r",
      "Building task 'plot-upvotes':  86%|████████▌ | 12/14 [04:26<00:08,  4.01s/it]\r",
      "Building task 'comments-plot':  86%|████████▌ | 12/14 [04:26<00:08,  4.01s/it]\n",
      "\r",
      "Executing:   0%|          | 0/5 [00:00<?, ?cell/s]\u001b[A\n",
      "\r",
      "Executing:  20%|██        | 1/5 [00:03<00:13,  3.34s/cell]\u001b[A\n",
      "\r",
      "Executing: 100%|██████████| 5/5 [00:03<00:00,  1.61cell/s]\u001b[A\r",
      "Executing: 100%|██████████| 5/5 [00:04<00:00,  1.18cell/s]\n",
      "\r",
      "Building task 'comments-plot':  93%|█████████▎| 13/14 [04:30<00:04,  4.16s/it]\r",
      "Building task 'posts-plot':  93%|█████████▎| 13/14 [04:30<00:04,  4.16s/it]   \n",
      "\r",
      "Executing:   0%|          | 0/7 [00:00<?, ?cell/s]\u001b[A\n",
      "\r",
      "Executing:  14%|█▍        | 1/7 [00:02<00:14,  2.49s/cell]\u001b[A\n",
      "\r",
      "Executing:  57%|█████▋    | 4/7 [00:02<00:01,  1.98cell/s]\u001b[A\n",
      "\r",
      "Executing:  86%|████████▌ | 6/7 [00:03<00:00,  2.41cell/s]\u001b[A\r",
      "Executing: 100%|██████████| 7/7 [00:03<00:00,  1.96cell/s]\n",
      "\r",
      "Building task 'posts-plot': 100%|██████████| 14/14 [04:34<00:00,  4.14s/it]\r",
      "Building task 'posts-plot': 100%|██████████| 14/14 [04:34<00:00, 19.64s/it]\n"
     ]
    }
   ],
   "source": [
    "%%sh\n",
    "ploomber build"
   ]
  },
  {
   "cell_type": "markdown",
   "id": "3ee98050",
   "metadata": {
    "papermill": {
     "duration": 0.014242,
     "end_time": "2021-10-14T15:01:35.583157",
     "exception": false,
     "start_time": "2021-10-14T15:01:35.568915",
     "status": "completed"
    },
    "tags": []
   },
   "source": [
    "Output stored in the ``output/`` directory."
   ]
  }
 ],
 "metadata": {
  "kernelspec": {
   "display_name": "Python 3 (ipykernel)",
   "language": "python",
   "name": "python3"
  },
  "language_info": {
   "codemirror_mode": {
    "name": "ipython",
    "version": 3
   },
   "file_extension": ".py",
   "mimetype": "text/x-python",
   "name": "python",
   "nbconvert_exporter": "python",
   "pygments_lexer": "ipython3",
   "version": "3.9.7"
  },
  "papermill": {
   "default_parameters": {},
   "duration": 281.080434,
   "end_time": "2021-10-14T15:01:35.839122",
   "environment_variables": {},
   "exception": null,
   "input_path": "etl/_build/readme_preprocessed.ipynb",
   "output_path": "etl/README.ipynb",
   "parameters": {},
   "start_time": "2021-10-14T14:56:54.758688",
   "version": "2.3.3"
  }
 },
 "nbformat": 4,
 "nbformat_minor": 5
}