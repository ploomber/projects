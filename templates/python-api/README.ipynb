{
 "cells": [
  {
   "cell_type": "markdown",
   "id": "215486eb",
   "metadata": {
    "papermill": {
     "duration": 0.010737,
     "end_time": "2022-05-12T02:33:51.431686",
     "exception": false,
     "start_time": "2022-05-12T02:33:51.420949",
     "status": "completed"
    },
    "tags": []
   },
   "source": [
    "To run this locally, [install Ploomber](https://docs.ploomber.io/en/latest/get-started/quick-start.html) and execute: `ploomber examples -n templates/python-api`\n",
    "\n",
    "Found an issue? [Let us know.](https://github.com/ploomber/projects/issues/new?title=templates/python-api%20issue)\n",
    "\n",
    "Questions? [Ask us on Slack.](https://ploomber.io/community/)\n"
   ]
  },
  {
   "cell_type": "markdown",
   "id": "7fb7393b",
   "metadata": {
    "papermill": {
     "duration": 0.008286,
     "end_time": "2022-05-12T02:33:51.448574",
     "exception": false,
     "start_time": "2022-05-12T02:33:51.440288",
     "status": "completed"
    },
    "tags": []
   },
   "source": [
    "# Python API\n",
    "\n",
    "<!-- start description -->\n",
    "Loads, clean, and plot data using the Python API.\n",
    "<!-- end description -->"
   ]
  },
  {
   "cell_type": "markdown",
   "id": "e9f334e0",
   "metadata": {
    "papermill": {
     "duration": 0.009055,
     "end_time": "2022-05-12T02:33:51.465939",
     "exception": false,
     "start_time": "2022-05-12T02:33:51.456884",
     "status": "completed"
    },
    "tags": []
   },
   "source": [
    "If you're new to the Python API, check out [python-api-examples/](../../python-api-examples) directory, containing tutorials and more examples.\n",
    "\n",
    "## Description\n",
    "\n",
    "This pipeline has three tasks:\n",
    "\n",
    "1. Load task (Python function): CSV file\n",
    "2. Clean task (Python script):  Jupyter notebook and another CSV file\n",
    "3. Plot task (Python scripts): Jupyter notebook\n",
    "\n",
    "## Setup"
   ]
  },
  {
   "cell_type": "code",
   "execution_count": 1,
   "id": "ceeac304",
   "metadata": {},
   "outputs": [
    {
     "name": "stdout",
     "output_type": "stream",
     "text": [
      "Requirement already satisfied: numpy in /home/codespace/.local/lib/python3.10/site-packages (from -r requirements.txt (line 1)) (1.23.4)\n",
      "Requirement already satisfied: pandas in /home/codespace/.local/lib/python3.10/site-packages (from -r requirements.txt (line 2)) (1.5.0)\n",
      "Requirement already satisfied: ploomber in /usr/local/python/3.10.4/lib/python3.10/site-packages (from -r requirements.txt (line 3)) (0.21.2)\n",
      "Requirement already satisfied: seaborn in /home/codespace/.local/lib/python3.10/site-packages (from -r requirements.txt (line 4)) (0.12.1)\n",
      "Requirement already satisfied: python-dateutil>=2.8.1 in /home/codespace/.local/lib/python3.10/site-packages (from pandas->-r requirements.txt (line 2)) (2.8.2)\n",
      "Requirement already satisfied: pytz>=2020.1 in /home/codespace/.local/lib/python3.10/site-packages (from pandas->-r requirements.txt (line 2)) (2022.5)\n",
      "Requirement already satisfied: pyyaml in /usr/local/python/3.10.4/lib/python3.10/site-packages (from ploomber->-r requirements.txt (line 3)) (6.0)\n",
      "Requirement already satisfied: autopep8 in /usr/local/python/3.10.4/lib/python3.10/site-packages (from ploomber->-r requirements.txt (line 3)) (1.7.0)\n",
      "Requirement already satisfied: ipdb in /usr/local/python/3.10.4/lib/python3.10/site-packages (from ploomber->-r requirements.txt (line 3)) (0.13.9)\n",
      "Requirement already satisfied: parso in /home/codespace/.local/lib/python3.10/site-packages (from ploomber->-r requirements.txt (line 3)) (0.8.3)\n",
      "Requirement already satisfied: nbconvert>=5.6.0 in /home/codespace/.local/lib/python3.10/site-packages (from ploomber->-r requirements.txt (line 3)) (7.2.1)\n",
      "Requirement already satisfied: papermill in /usr/local/python/3.10.4/lib/python3.10/site-packages (from ploomber->-r requirements.txt (line 3)) (2.4.0)\n",
      "Requirement already satisfied: jinja2 in /home/codespace/.local/lib/python3.10/site-packages (from ploomber->-r requirements.txt (line 3)) (3.1.2)\n",
      "Requirement already satisfied: mistune in /home/codespace/.local/lib/python3.10/site-packages (from ploomber->-r requirements.txt (line 3)) (2.0.4)\n",
      "Requirement already satisfied: pygments in /home/codespace/.local/lib/python3.10/site-packages (from ploomber->-r requirements.txt (line 3)) (2.13.0)\n",
      "Requirement already satisfied: sqlparse in /usr/local/python/3.10.4/lib/python3.10/site-packages (from ploomber->-r requirements.txt (line 3)) (0.4.3)\n",
      "Requirement already satisfied: ipython in /home/codespace/.local/lib/python3.10/site-packages (from ploomber->-r requirements.txt (line 3)) (8.5.0)\n",
      "Requirement already satisfied: ploomber-engine>=0.0.8 in /usr/local/python/3.10.4/lib/python3.10/site-packages (from ploomber->-r requirements.txt (line 3)) (0.0.10)\n",
      "Requirement already satisfied: jupyter-client>=5.3.1 in /home/codespace/.local/lib/python3.10/site-packages (from ploomber->-r requirements.txt (line 3)) (7.4.2)\n",
      "Requirement already satisfied: networkx>=2.5 in /usr/local/python/3.10.4/lib/python3.10/site-packages (from ploomber->-r requirements.txt (line 3)) (2.8.7)\n",
      "Requirement already satisfied: pyflakes in /usr/local/python/3.10.4/lib/python3.10/site-packages (from ploomber->-r requirements.txt (line 3)) (2.5.0)\n",
      "Requirement already satisfied: ploomber-core>=0.0.5 in /usr/local/python/3.10.4/lib/python3.10/site-packages (from ploomber->-r requirements.txt (line 3)) (0.0.6)\n",
      "Requirement already satisfied: tabulate in /usr/local/python/3.10.4/lib/python3.10/site-packages (from ploomber->-r requirements.txt (line 3)) (0.9.0)\n",
      "Requirement already satisfied: click in /usr/local/python/3.10.4/lib/python3.10/site-packages (from ploomber->-r requirements.txt (line 3)) (8.1.3)\n",
      "Requirement already satisfied: ipykernel>=1.5.2 in /home/codespace/.local/lib/python3.10/site-packages (from ploomber->-r requirements.txt (line 3)) (6.16.0)\n",
      "Requirement already satisfied: nbformat in /home/codespace/.local/lib/python3.10/site-packages (from ploomber->-r requirements.txt (line 3)) (5.7.0)\n",
      "Requirement already satisfied: humanize in /usr/local/python/3.10.4/lib/python3.10/site-packages (from ploomber->-r requirements.txt (line 3)) (4.4.0)\n",
      "Requirement already satisfied: posthog in /usr/local/python/3.10.4/lib/python3.10/site-packages (from ploomber->-r requirements.txt (line 3)) (2.1.2)\n",
      "Requirement already satisfied: ploomber-scaffold>=0.3 in /usr/local/python/3.10.4/lib/python3.10/site-packages (from ploomber->-r requirements.txt (line 3)) (0.3.1)\n",
      "Requirement already satisfied: tqdm in /usr/local/python/3.10.4/lib/python3.10/site-packages (from ploomber->-r requirements.txt (line 3)) (4.64.1)\n",
      "Requirement already satisfied: sqlalchemy in /usr/local/python/3.10.4/lib/python3.10/site-packages (from ploomber->-r requirements.txt (line 3)) (1.4.42)\n",
      "Requirement already satisfied: pydantic in /usr/local/python/3.10.4/lib/python3.10/site-packages (from ploomber->-r requirements.txt (line 3)) (1.10.2)\n",
      "Requirement already satisfied: jupytext in /usr/local/python/3.10.4/lib/python3.10/site-packages (from ploomber->-r requirements.txt (line 3)) (1.14.1)\n",
      "Requirement already satisfied: matplotlib!=3.6.1,>=3.1 in /home/codespace/.local/lib/python3.10/site-packages (from seaborn->-r requirements.txt (line 4)) (3.6.0)\n",
      "Requirement already satisfied: traitlets>=5.1.0 in /home/codespace/.local/lib/python3.10/site-packages (from ipykernel>=1.5.2->ploomber->-r requirements.txt (line 3)) (5.5.0)\n",
      "Requirement already satisfied: psutil in /home/codespace/.local/lib/python3.10/site-packages (from ipykernel>=1.5.2->ploomber->-r requirements.txt (line 3)) (5.9.3)\n",
      "Requirement already satisfied: debugpy>=1.0 in /home/codespace/.local/lib/python3.10/site-packages (from ipykernel>=1.5.2->ploomber->-r requirements.txt (line 3)) (1.6.3)\n",
      "Requirement already satisfied: pyzmq>=17 in /home/codespace/.local/lib/python3.10/site-packages (from ipykernel>=1.5.2->ploomber->-r requirements.txt (line 3)) (24.0.1)\n",
      "Requirement already satisfied: nest-asyncio in /home/codespace/.local/lib/python3.10/site-packages (from ipykernel>=1.5.2->ploomber->-r requirements.txt (line 3)) (1.5.6)\n",
      "Requirement already satisfied: tornado>=6.1 in /home/codespace/.local/lib/python3.10/site-packages (from ipykernel>=1.5.2->ploomber->-r requirements.txt (line 3)) (6.2)\n",
      "Requirement already satisfied: matplotlib-inline>=0.1 in /home/codespace/.local/lib/python3.10/site-packages (from ipykernel>=1.5.2->ploomber->-r requirements.txt (line 3)) (0.1.6)\n",
      "Requirement already satisfied: packaging in /home/codespace/.local/lib/python3.10/site-packages (from ipykernel>=1.5.2->ploomber->-r requirements.txt (line 3)) (21.3)\n",
      "Requirement already satisfied: backcall in /home/codespace/.local/lib/python3.10/site-packages (from ipython->ploomber->-r requirements.txt (line 3)) (0.2.0)\n",
      "Requirement already satisfied: prompt-toolkit<3.1.0,>3.0.1 in /home/codespace/.local/lib/python3.10/site-packages (from ipython->ploomber->-r requirements.txt (line 3)) (3.0.31)\n",
      "Requirement already satisfied: pickleshare in /home/codespace/.local/lib/python3.10/site-packages (from ipython->ploomber->-r requirements.txt (line 3)) (0.7.5)\n",
      "Requirement already satisfied: pexpect>4.3 in /home/codespace/.local/lib/python3.10/site-packages (from ipython->ploomber->-r requirements.txt (line 3)) (4.8.0)\n",
      "Requirement already satisfied: decorator in /home/codespace/.local/lib/python3.10/site-packages (from ipython->ploomber->-r requirements.txt (line 3)) (5.1.1)\n",
      "Requirement already satisfied: stack-data in /home/codespace/.local/lib/python3.10/site-packages (from ipython->ploomber->-r requirements.txt (line 3)) (0.5.1)\n",
      "Requirement already satisfied: jedi>=0.16 in /home/codespace/.local/lib/python3.10/site-packages (from ipython->ploomber->-r requirements.txt (line 3)) (0.18.1)\n",
      "Requirement already satisfied: jupyter-core>=4.9.2 in /home/codespace/.local/lib/python3.10/site-packages (from jupyter-client>=5.3.1->ploomber->-r requirements.txt (line 3)) (4.11.1)\n",
      "Requirement already satisfied: entrypoints in /home/codespace/.local/lib/python3.10/site-packages (from jupyter-client>=5.3.1->ploomber->-r requirements.txt (line 3)) (0.4)\n",
      "Requirement already satisfied: cycler>=0.10 in /home/codespace/.local/lib/python3.10/site-packages (from matplotlib!=3.6.1,>=3.1->seaborn->-r requirements.txt (line 4)) (0.11.0)\n",
      "Requirement already satisfied: contourpy>=1.0.1 in /home/codespace/.local/lib/python3.10/site-packages (from matplotlib!=3.6.1,>=3.1->seaborn->-r requirements.txt (line 4)) (1.0.5)\n",
      "Requirement already satisfied: kiwisolver>=1.0.1 in /home/codespace/.local/lib/python3.10/site-packages (from matplotlib!=3.6.1,>=3.1->seaborn->-r requirements.txt (line 4)) (1.4.4)\n",
      "Requirement already satisfied: pyparsing>=2.2.1 in /home/codespace/.local/lib/python3.10/site-packages (from matplotlib!=3.6.1,>=3.1->seaborn->-r requirements.txt (line 4)) (3.0.9)\n",
      "Requirement already satisfied: pillow>=6.2.0 in /home/codespace/.local/lib/python3.10/site-packages (from matplotlib!=3.6.1,>=3.1->seaborn->-r requirements.txt (line 4)) (9.2.0)\n",
      "Requirement already satisfied: fonttools>=4.22.0 in /home/codespace/.local/lib/python3.10/site-packages (from matplotlib!=3.6.1,>=3.1->seaborn->-r requirements.txt (line 4)) (4.37.4)\n",
      "Requirement already satisfied: defusedxml in /home/codespace/.local/lib/python3.10/site-packages (from nbconvert>=5.6.0->ploomber->-r requirements.txt (line 3)) (0.7.1)\n",
      "Requirement already satisfied: nbclient>=0.5.0 in /home/codespace/.local/lib/python3.10/site-packages (from nbconvert>=5.6.0->ploomber->-r requirements.txt (line 3)) (0.7.0)\n",
      "Requirement already satisfied: beautifulsoup4 in /home/codespace/.local/lib/python3.10/site-packages (from nbconvert>=5.6.0->ploomber->-r requirements.txt (line 3)) (4.11.1)\n",
      "Requirement already satisfied: pandocfilters>=1.4.1 in /home/codespace/.local/lib/python3.10/site-packages (from nbconvert>=5.6.0->ploomber->-r requirements.txt (line 3)) (1.5.0)\n",
      "Requirement already satisfied: tinycss2 in /home/codespace/.local/lib/python3.10/site-packages (from nbconvert>=5.6.0->ploomber->-r requirements.txt (line 3)) (1.2.1)\n",
      "Requirement already satisfied: jupyterlab-pygments in /home/codespace/.local/lib/python3.10/site-packages (from nbconvert>=5.6.0->ploomber->-r requirements.txt (line 3)) (0.2.2)\n",
      "Requirement already satisfied: markupsafe>=2.0 in /home/codespace/.local/lib/python3.10/site-packages (from nbconvert>=5.6.0->ploomber->-r requirements.txt (line 3)) (2.1.1)\n",
      "Requirement already satisfied: bleach in /home/codespace/.local/lib/python3.10/site-packages (from nbconvert>=5.6.0->ploomber->-r requirements.txt (line 3)) (5.0.1)\n",
      "Requirement already satisfied: fastjsonschema in /home/codespace/.local/lib/python3.10/site-packages (from nbformat->ploomber->-r requirements.txt (line 3)) (2.16.2)\n",
      "Requirement already satisfied: jsonschema>=2.6 in /home/codespace/.local/lib/python3.10/site-packages (from nbformat->ploomber->-r requirements.txt (line 3)) (4.16.0)\n",
      "Requirement already satisfied: debuglater in /usr/local/python/3.10.4/lib/python3.10/site-packages (from ploomber-engine>=0.0.8->ploomber->-r requirements.txt (line 3)) (1.4.3)\n",
      "Requirement already satisfied: six>=1.5 in /home/codespace/.local/lib/python3.10/site-packages (from python-dateutil>=2.8.1->pandas->-r requirements.txt (line 2)) (1.16.0)\n",
      "Requirement already satisfied: pycodestyle>=2.9.1 in /usr/local/python/3.10.4/lib/python3.10/site-packages (from autopep8->ploomber->-r requirements.txt (line 3)) (2.9.1)\n",
      "Requirement already satisfied: toml in /usr/local/python/3.10.4/lib/python3.10/site-packages (from autopep8->ploomber->-r requirements.txt (line 3)) (0.10.2)\n",
      "Requirement already satisfied: setuptools in /usr/local/python/3.10.4/lib/python3.10/site-packages (from ipdb->ploomber->-r requirements.txt (line 3)) (58.1.0)\n",
      "Requirement already satisfied: mdit-py-plugins in /usr/local/python/3.10.4/lib/python3.10/site-packages (from jupytext->ploomber->-r requirements.txt (line 3)) (0.3.1)\n",
      "Requirement already satisfied: markdown-it-py<3.0.0,>=1.0.0 in /usr/local/python/3.10.4/lib/python3.10/site-packages (from jupytext->ploomber->-r requirements.txt (line 3)) (2.1.0)\n",
      "Requirement already satisfied: ansiwrap in /usr/local/python/3.10.4/lib/python3.10/site-packages (from papermill->ploomber->-r requirements.txt (line 3)) (0.8.4)\n",
      "Requirement already satisfied: requests in /home/codespace/.local/lib/python3.10/site-packages (from papermill->ploomber->-r requirements.txt (line 3)) (2.28.1)\n",
      "Requirement already satisfied: tenacity in /home/codespace/.local/lib/python3.10/site-packages (from papermill->ploomber->-r requirements.txt (line 3)) (8.1.0)\n",
      "Requirement already satisfied: backoff<2.0.0,>=1.10.0 in /usr/local/python/3.10.4/lib/python3.10/site-packages (from posthog->ploomber->-r requirements.txt (line 3)) (1.11.1)\n",
      "Requirement already satisfied: monotonic>=1.5 in /usr/local/python/3.10.4/lib/python3.10/site-packages (from posthog->ploomber->-r requirements.txt (line 3)) (1.6)\n",
      "Requirement already satisfied: typing-extensions>=4.1.0 in /home/codespace/.local/lib/python3.10/site-packages (from pydantic->ploomber->-r requirements.txt (line 3)) (4.4.0)\n",
      "Requirement already satisfied: greenlet!=0.4.17 in /usr/local/python/3.10.4/lib/python3.10/site-packages (from sqlalchemy->ploomber->-r requirements.txt (line 3)) (1.1.3.post0)\n",
      "Requirement already satisfied: attrs>=17.4.0 in /home/codespace/.local/lib/python3.10/site-packages (from jsonschema>=2.6->nbformat->ploomber->-r requirements.txt (line 3)) (22.1.0)\n",
      "Requirement already satisfied: pyrsistent!=0.17.0,!=0.17.1,!=0.17.2,>=0.14.0 in /home/codespace/.local/lib/python3.10/site-packages (from jsonschema>=2.6->nbformat->ploomber->-r requirements.txt (line 3)) (0.18.1)\n",
      "Requirement already satisfied: mdurl~=0.1 in /usr/local/python/3.10.4/lib/python3.10/site-packages (from markdown-it-py<3.0.0,>=1.0.0->jupytext->ploomber->-r requirements.txt (line 3)) (0.1.2)\n",
      "Requirement already satisfied: ptyprocess>=0.5 in /home/codespace/.local/lib/python3.10/site-packages (from pexpect>4.3->ipython->ploomber->-r requirements.txt (line 3)) (0.7.0)\n",
      "Requirement already satisfied: wcwidth in /home/codespace/.local/lib/python3.10/site-packages (from prompt-toolkit<3.1.0,>3.0.1->ipython->ploomber->-r requirements.txt (line 3)) (0.2.5)\n",
      "Requirement already satisfied: charset-normalizer<3,>=2 in /home/codespace/.local/lib/python3.10/site-packages (from requests->papermill->ploomber->-r requirements.txt (line 3)) (2.1.1)\n",
      "Requirement already satisfied: certifi>=2017.4.17 in /home/codespace/.local/lib/python3.10/site-packages (from requests->papermill->ploomber->-r requirements.txt (line 3)) (2022.9.24)\n",
      "Requirement already satisfied: idna<4,>=2.5 in /home/codespace/.local/lib/python3.10/site-packages (from requests->papermill->ploomber->-r requirements.txt (line 3)) (3.4)\n",
      "Requirement already satisfied: urllib3<1.27,>=1.21.1 in /home/codespace/.local/lib/python3.10/site-packages (from requests->papermill->ploomber->-r requirements.txt (line 3)) (1.26.12)\n",
      "Requirement already satisfied: textwrap3>=0.9.2 in /usr/local/python/3.10.4/lib/python3.10/site-packages (from ansiwrap->papermill->ploomber->-r requirements.txt (line 3)) (0.9.2)\n",
      "Requirement already satisfied: soupsieve>1.2 in /home/codespace/.local/lib/python3.10/site-packages (from beautifulsoup4->nbconvert>=5.6.0->ploomber->-r requirements.txt (line 3)) (2.3.2.post1)\n",
      "Requirement already satisfied: webencodings in /home/codespace/.local/lib/python3.10/site-packages (from bleach->nbconvert>=5.6.0->ploomber->-r requirements.txt (line 3)) (0.5.1)\n",
      "Requirement already satisfied: colorama in /usr/local/python/3.10.4/lib/python3.10/site-packages (from debuglater->ploomber-engine>=0.0.8->ploomber->-r requirements.txt (line 3)) (0.4.5)\n",
      "Requirement already satisfied: pure-eval in /home/codespace/.local/lib/python3.10/site-packages (from stack-data->ipython->ploomber->-r requirements.txt (line 3)) (0.2.2)\n",
      "Requirement already satisfied: executing in /home/codespace/.local/lib/python3.10/site-packages (from stack-data->ipython->ploomber->-r requirements.txt (line 3)) (1.1.1)\n",
      "Requirement already satisfied: asttokens in /home/codespace/.local/lib/python3.10/site-packages (from stack-data->ipython->ploomber->-r requirements.txt (line 3)) (2.0.8)\n",
      "Obtaining file:///workspaces/projects/templates/python-api\n",
      "  Preparing metadata (setup.py): started\n",
      "  Preparing metadata (setup.py): finished with status 'done'\n",
      "Installing collected packages: ploomber-basic\n",
      "  Running setup.py develop for ploomber-basic\n",
      "Successfully installed ploomber-basic-0.1.dev0\n"
     ]
    }
   ],
   "source": [
    "%%bash\n",
    "pip install -r requirements.txt\n",
    "pip install --editable ."
   ]
  },
  {
   "cell_type": "markdown",
   "id": "e8c3844f",
   "metadata": {},
   "source": [
    "## Build"
   ]
  },
  {
   "cell_type": "code",
   "execution_count": 2,
   "id": "065d1701",
   "metadata": {
    "execution": {
     "iopub.execute_input": "2022-05-12T02:33:51.492357Z",
     "iopub.status.busy": "2022-05-12T02:33:51.491714Z",
     "iopub.status.idle": "2022-05-12T02:34:08.542369Z",
     "shell.execute_reply": "2022-05-12T02:34:08.542981Z"
    },
    "papermill": {
     "duration": 17.069544,
     "end_time": "2022-05-12T02:34:08.543435",
     "exception": false,
     "start_time": "2022-05-12T02:33:51.473891",
     "status": "completed"
    },
    "tags": []
   },
   "outputs": [
    {
     "name": "stdout",
     "output_type": "stream",
     "text": [
      "Loading pipeline...\n"
     ]
    },
    {
     "name": "stderr",
     "output_type": "stream",
     "text": [
      "Building task 'clean':   0%|          | 0/3 [00:00<?, ?it/s]\n",
      "Executing:   0%|          | 0/5 [00:00<?, ?cell/s]\n",
      "Executing: 100%|██████████| 5/5 [00:01<00:00,  2.77cell/s]\n",
      "Building task 'plot':  67%|██████▋   | 2/3 [00:01<00:00,  1.06it/s] \n",
      "Executing:   0%|          | 0/6 [00:00<?, ?cell/s]\n",
      "Executing:  17%|█▋        | 1/6 [00:02<00:13,  2.73s/cell]\n",
      "Executing: 100%|██████████| 6/6 [00:03<00:00,  1.71cell/s]\n",
      "Building task 'plot': 100%|██████████| 3/3 [00:05<00:00,  1.80s/it]\n"
     ]
    },
    {
     "name": "stdout",
     "output_type": "stream",
     "text": [
      "name    Ran?      Elapsed (s)    Percentage\n",
      "------  ------  -------------  ------------\n",
      "load    True         0.011736      0.218938\n",
      "clean   True         1.82997      34.1385\n",
      "plot    True         3.51872      65.6426\n"
     ]
    }
   ],
   "source": [
    "%%bash\n",
    "ploomber build"
   ]
  }
 ],
 "metadata": {
  "kernelspec": {
   "display_name": "Python 3 (ipykernel)",
   "language": "python",
   "name": "python3"
  },
  "language_info": {
   "codemirror_mode": {
    "name": "ipython",
    "version": 3
   },
   "file_extension": ".py",
   "mimetype": "text/x-python",
   "name": "python",
   "nbconvert_exporter": "python",
   "pygments_lexer": "ipython3",
   "version": "3.10.1"
  },
  "papermill": {
   "default_parameters": {},
   "duration": 18.935116,
   "end_time": "2022-05-12T02:34:08.775835",
   "environment_variables": {},
   "exception": null,
   "input_path": "templates/python-api/_build/readme_preprocessed.ipynb",
   "output_path": "templates/python-api/README.ipynb",
   "parameters": {},
   "start_time": "2022-05-12T02:33:49.840719",
   "version": "2.3.4"
  },
  "vscode": {
   "interpreter": {
    "hash": "3ad933181bd8a04b432d3370b9dc3b0662ad032c4dfaa4e4f1596c548f763858"
   }
  }
 },
 "nbformat": 4,
 "nbformat_minor": 5
}
