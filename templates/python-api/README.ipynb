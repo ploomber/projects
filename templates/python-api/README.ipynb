{
 "cells": [
  {
   "cell_type": "markdown",
   "id": "f14ba780",
   "metadata": {
    "papermill": {
     "duration": 0.007608,
     "end_time": "2021-10-14T14:56:41.302876",
     "exception": false,
     "start_time": "2021-10-14T14:56:41.295268",
     "status": "completed"
    },
    "tags": []
   },
   "source": [
    "To run this example locally, execute: `ploomber examples -n python-api`.\n",
    "\n",
    "To start a free, hosted JupyterLab: [![binder-logo](https://mybinder.org/badge_logo.svg)](https://mybinder.org/v2/gh/ploomber/binder-env/main?urlpath=git-pull%3Frepo%3Dhttps%253A%252F%252Fgithub.com%252Fploomber%252Fprojects%26urlpath%3Dlab%252Ftree%252Fprojects%252Fpython-api%252FREADME.ipynb%26branch%3Dmaster)\n",
    "\n",
    "Found an issue? [Let us know.](https://github.com/ploomber/projects/issues/new?title=python-api%20issue)\n",
    "\n",
    "Have questions? [Ask us anything on Slack.](http://community.ploomber.io/)\n"
   ]
  },
  {
   "cell_type": "markdown",
   "id": "4b0e0996",
   "metadata": {
    "papermill": {
     "duration": 0.009189,
     "end_time": "2021-10-14T14:56:41.319122",
     "exception": false,
     "start_time": "2021-10-14T14:56:41.309933",
     "status": "completed"
    },
    "tags": []
   },
   "source": [
    "# Python API\n",
    "\n",
    "Pipeline project using the Python API.\n",
    "\n",
    "If you're new to the Python API, check out [python-api-examples/](../python-api-examples) directory, containing tutorials and more examples.\n",
    "\n",
    "## Description\n",
    "\n",
    "This pipeline has three tasks:\n",
    "\n",
    "1. Load task (Python function): CSV file\n",
    "2. Clean task (Python script):  Jupyter notebook and another CSV file\n",
    "3. Plot task (Python scripts): Jupyter notebook\n",
    "\n",
    "## Build"
   ]
  },
  {
   "cell_type": "code",
   "execution_count": 1,
   "id": "b949d261",
   "metadata": {
    "execution": {
     "iopub.execute_input": "2021-10-14T14:56:41.348792Z",
     "iopub.status.busy": "2021-10-14T14:56:41.347966Z",
     "iopub.status.idle": "2021-10-14T14:56:54.469486Z",
     "shell.execute_reply": "2021-10-14T14:56:54.470153Z"
    },
    "papermill": {
     "duration": 13.144219,
     "end_time": "2021-10-14T14:56:54.470475",
     "exception": false,
     "start_time": "2021-10-14T14:56:41.326256",
     "status": "completed"
    },
    "tags": []
   },
   "outputs": [
    {
     "name": "stdout",
     "output_type": "stream",
     "text": [
      "name    Ran?      Elapsed (s)    Percentage\n",
      "------  ------  -------------  ------------\n",
      "load    True          0.00692      0.117551\n",
      "clean   True          2.46424     41.8602\n",
      "plot    True          3.41567     58.0222\n"
     ]
    },
    {
     "name": "stderr",
     "output_type": "stream",
     "text": [
      "\r",
      "  0%|          | 0/3 [00:00<?, ?it/s]\r",
      "Building task 'load':   0%|          | 0/3 [00:00<?, ?it/s]\r",
      "Building task 'load':  33%|███▎      | 1/3 [00:03<00:06,  3.25s/it]\r",
      "Building task 'clean':  33%|███▎      | 1/3 [00:03<00:06,  3.25s/it]\n",
      "\r",
      "Executing:   0%|          | 0/5 [00:00<?, ?cell/s]\u001b[A\n",
      "\r",
      "Executing:  20%|██        | 1/5 [00:01<00:07,  1.99s/cell]\u001b[A\n",
      "\r",
      "Executing:  80%|████████  | 4/5 [00:02<00:00,  2.45cell/s]\u001b[A\r",
      "Executing: 100%|██████████| 5/5 [00:02<00:00,  2.11cell/s]\n",
      "\r",
      "Building task 'clean':  67%|██████▋   | 2/3 [00:05<00:02,  2.80s/it]\r",
      "Building task 'plot':  67%|██████▋   | 2/3 [00:05<00:02,  2.80s/it] \n",
      "\r",
      "Executing:   0%|          | 0/6 [00:00<?, ?cell/s]\u001b[A\n",
      "\r",
      "Executing:  17%|█▋        | 1/6 [00:02<00:12,  2.57s/cell]\u001b[A\n",
      "\r",
      "Executing:  67%|██████▋   | 4/6 [00:02<00:01,  1.94cell/s]\u001b[A\n",
      "\r",
      "Executing: 100%|██████████| 6/6 [00:02<00:00,  2.80cell/s]\u001b[A\r",
      "Executing: 100%|██████████| 6/6 [00:03<00:00,  1.82cell/s]\n",
      "\r",
      "Building task 'plot': 100%|██████████| 3/3 [00:09<00:00,  3.10s/it]\r",
      "Building task 'plot': 100%|██████████| 3/3 [00:09<00:00,  3.06s/it]\n"
     ]
    }
   ],
   "source": [
    "%%bash\n",
    "ploomber build"
   ]
  }
 ],
 "metadata": {
  "kernelspec": {
   "display_name": "Python 3 (ipykernel)",
   "language": "python",
   "name": "python3"
  },
  "language_info": {
   "codemirror_mode": {
    "name": "ipython",
    "version": 3
   },
   "file_extension": ".py",
   "mimetype": "text/x-python",
   "name": "python",
   "nbconvert_exporter": "python",
   "pygments_lexer": "ipython3",
   "version": "3.9.7"
  },
  "papermill": {
   "default_parameters": {},
   "duration": 14.663021,
   "end_time": "2021-10-14T14:56:54.696665",
   "environment_variables": {},
   "exception": null,
   "input_path": "python-api/_build/readme_preprocessed.ipynb",
   "output_path": "python-api/README.ipynb",
   "parameters": {},
   "start_time": "2021-10-14T14:56:40.033644",
   "version": "2.3.3"
  }
 },
 "nbformat": 4,
 "nbformat_minor": 5
}