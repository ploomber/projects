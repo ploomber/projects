{
 "cells": [
  {
   "cell_type": "markdown",
   "id": "6436e10a",
   "metadata": {
    "papermill": {
     "duration": 0.022171,
     "end_time": "2022-05-13T23:59:09.631780",
     "exception": false,
     "start_time": "2022-05-13T23:59:09.609609",
     "status": "completed"
    },
    "tags": []
   },
   "source": [
    "To run this locally, [install Ploomber](https://docs.ploomber.io/en/latest/get-started/quick-start.html) and execute: `ploomber examples -n templates/ml-basic`\n",
    "\n",
    "Found an issue? [Let us know.](https://github.com/ploomber/projects/issues/new?title=templates/ml-basic%20issue)\n",
    "\n",
    "Questions? [Ask us on Slack.](https://ploomber.io/community/)\n"
   ]
  },
  {
   "cell_type": "markdown",
   "id": "6fe1b6dc",
   "metadata": {
    "papermill": {
     "duration": 0.020924,
     "end_time": "2022-05-13T23:59:09.673412",
     "exception": false,
     "start_time": "2022-05-13T23:59:09.652488",
     "status": "completed"
    },
    "tags": []
   },
   "source": [
    "# Basic ML project\n",
    "\n",
    "<!-- start description -->\n",
    "Download data, clean it, generate features and train a model.\n",
    "<!-- end description -->\n",
    "\n",
    "## Description\n",
    "\n",
    "Let's take a look at the `pipeline.yaml`:"
   ]
  },
  {
   "cell_type": "markdown",
   "id": "4f47ae87",
   "metadata": {
    "papermill": {
     "duration": 0.01742,
     "end_time": "2022-05-13T23:59:09.709872",
     "exception": false,
     "start_time": "2022-05-13T23:59:09.692452",
     "status": "completed"
    },
    "region_name": "md",
    "tags": []
   },
   "source": [
    "```yaml\n",
    "# Content of pipeline.yaml\n",
    "tasks:\n",
    "    # tasks.get, features and join are python functions\n",
    "  - source: tasks.get\n",
    "    product: output/get.parquet\n",
    "\n",
    "  - source: tasks.features\n",
    "    product: output/features.parquet\n",
    "\n",
    "  - source: tasks.join\n",
    "    product: output/join.parquet\n",
    "\n",
    "    # fit.py is a script (that you can open as notebook in Jupyter)\n",
    "  - source: fit.py\n",
    "    name: fit\n",
    "    product:\n",
    "        # this output notebook is the model's evaluation report\n",
    "        nb: output/nb.html\n",
    "        model: output/model.pickle\n",
    "\n",
    "    # optional config to hide the code in the output/nb.html report\n",
    "    nbconvert_export_kwargs:\n",
    "      exclude_input: True\n",
    "```"
   ]
  },
  {
   "cell_type": "markdown",
   "id": "1df0a120",
   "metadata": {
    "papermill": {
     "duration": 0.020046,
     "end_time": "2022-05-13T23:59:09.746733",
     "exception": false,
     "start_time": "2022-05-13T23:59:09.726687",
     "status": "completed"
    },
    "tags": []
   },
   "source": [
    "Note that the first three tasks as Python functions, while the last one is a\n",
    "script.\n",
    "\n",
    "Generate the plot:"
   ]
  },
  {
   "cell_type": "code",
   "execution_count": 1,
   "id": "6c0a9d0b",
   "metadata": {
    "execution": {
     "iopub.execute_input": "2022-05-13T23:59:09.801297Z",
     "iopub.status.busy": "2022-05-13T23:59:09.800444Z",
     "iopub.status.idle": "2022-05-13T23:59:15.906856Z",
     "shell.execute_reply": "2022-05-13T23:59:15.907385Z"
    },
    "papermill": {
     "duration": 6.134348,
     "end_time": "2022-05-13T23:59:15.907722",
     "exception": false,
     "start_time": "2022-05-13T23:59:09.773374",
     "status": "completed"
    },
    "tags": []
   },
   "outputs": [
    {
     "name": "stdout",
     "output_type": "stream",
     "text": [
      "Loading pipeline...\n",
      "Plot saved at: pipeline.png\n"
     ]
    }
   ],
   "source": [
    "%%bash\n",
    "ploomber plot"
   ]
  },
  {
   "cell_type": "code",
   "execution_count": 2,
   "id": "39ea3045",
   "metadata": {
    "execution": {
     "iopub.execute_input": "2022-05-13T23:59:15.948816Z",
     "iopub.status.busy": "2022-05-13T23:59:15.948196Z",
     "iopub.status.idle": "2022-05-13T23:59:15.959390Z",
     "shell.execute_reply": "2022-05-13T23:59:15.959864Z"
    },
    "papermill": {
     "duration": 0.034161,
     "end_time": "2022-05-13T23:59:15.960181",
     "exception": false,
     "start_time": "2022-05-13T23:59:15.926020",
     "status": "completed"
    },
    "tags": []
   },
   "outputs": [
    {
     "data": {
      "image/png": "[encoded data removed]",
      "text/plain": [
       "<IPython.core.display.Image object>"
      ]
     },
     "execution_count": 2,
     "metadata": {},
     "output_type": "execute_result"
    }
   ],
   "source": [
    "# If using jupyter, you can show the plot with this code:\n",
    "from IPython.display import Image\n",
    "Image(filename='pipeline.png')\n",
    "# otherwise open the pipeline.png file directly\n",
    "\n",
    "# NOTE: ploomber plot will generate a pipeline.html (not .png) file if\n",
    "# pygraphviz is missing. In such case, open the file to view the pipeline plot"
   ]
  },
  {
   "cell_type": "markdown",
   "id": "d372d182",
   "metadata": {
    "papermill": {
     "duration": 0.018766,
     "end_time": "2022-05-13T23:59:15.996944",
     "exception": false,
     "start_time": "2022-05-13T23:59:15.978178",
     "status": "completed"
    },
    "tags": []
   },
   "source": [
    "## Build pipeline"
   ]
  },
  {
   "cell_type": "code",
   "execution_count": 3,
   "id": "91e1adae",
   "metadata": {
    "execution": {
     "iopub.execute_input": "2022-05-13T23:59:16.045468Z",
     "iopub.status.busy": "2022-05-13T23:59:16.044759Z",
     "iopub.status.idle": "2022-05-13T23:59:38.497845Z",
     "shell.execute_reply": "2022-05-13T23:59:38.498617Z"
    },
    "papermill": {
     "duration": 22.47889,
     "end_time": "2022-05-13T23:59:38.498841",
     "exception": false,
     "start_time": "2022-05-13T23:59:16.019951",
     "status": "completed"
    },
    "tags": []
   },
   "outputs": [
    {
     "name": "stdout",
     "output_type": "stream",
     "text": [
      "Loading pipeline...\n",
      "name      Ran?      Elapsed (s)    Percentage\n",
      "--------  ------  -------------  ------------\n",
      "get       True         0.017875      0.362006\n",
      "features  True         0.033936      0.687275\n",
      "join      True         0.03345       0.677433\n",
      "fit       True         4.8525       98.2733\n"
     ]
    },
    {
     "name": "stderr",
     "output_type": "stream",
     "text": [
      "/Users/Edu/dev/ploomber/src/ploomber/cli/cloud.py:165: UserWarning: Issue: Non cloud users can monitor up to 2 pipelines simultaneously\n",
      "  warnings.warn(content)\n",
      "Building task 'fit':  75%|███████▌  | 3/4 [00:11<00:03,  3.68s/it]     \n",
      "Executing:   0%|          | 0/11 [00:00<?, ?cell/s]\u001b[A\n",
      "Executing:   9%|▉         | 1/11 [00:01<00:13,  1.34s/cell]\u001b[A\n",
      "Executing:  18%|█▊        | 2/11 [00:02<00:13,  1.46s/cell]\u001b[A\n",
      "Executing:  36%|███▋      | 4/11 [00:02<00:04,  1.73cell/s]\u001b[A\n",
      "Executing:  55%|█████▍    | 6/11 [00:03<00:01,  2.93cell/s]\u001b[A\n",
      "Executing:  73%|███████▎  | 8/11 [00:03<00:00,  3.89cell/s]\u001b[A\n",
      "Executing: 100%|██████████| 11/11 [00:04<00:00,  2.58cell/s]\u001b[A\n",
      "Building task 'fit': 100%|██████████| 4/4 [00:15<00:00,  3.99s/it]\n",
      "/Users/Edu/dev/ploomber/src/ploomber/cli/cloud.py:165: UserWarning: Issue: Non cloud users can monitor up to 2 pipelines simultaneously\n",
      "  warnings.warn(content)\n"
     ]
    }
   ],
   "source": [
    "%%bash\n",
    "ploomber build"
   ]
  },
  {
   "cell_type": "markdown",
   "id": "ca039b7d",
   "metadata": {
    "papermill": {
     "duration": 0.023229,
     "end_time": "2022-05-13T23:59:38.545037",
     "exception": false,
     "start_time": "2022-05-13T23:59:38.521808",
     "status": "completed"
    },
    "tags": []
   },
   "source": [
    "Since Ploomber executes scripts as notebooks by default, `fit.py` will\n",
    "generate a model report at [output/nb.ipynb](output/nb.ipynb) with evaluation\n",
    "charts.\n",
    "\n",
    "## Interacting with the pipeline\n",
    "\n",
    "The command-line interface is a convenient way to interact with your\n",
    "pipeline. Try this in a terminal:\n",
    "\n",
    "~~~bash\n",
    "ploomber interact\n",
    "~~~"
   ]
  }
 ],
 "metadata": {
  "kernelspec": {
   "display_name": "Python 3 (ipykernel)",
   "language": "python",
   "name": "python3"
  },
  "language_info": {
   "codemirror_mode": {
    "name": "ipython",
    "version": 3
   },
   "file_extension": ".py",
   "mimetype": "text/x-python",
   "name": "python",
   "nbconvert_exporter": "python",
   "pygments_lexer": "ipython3",
   "version": "3.10.1"
  },
  "papermill": {
   "default_parameters": {},
   "duration": 30.795989,
   "end_time": "2022-05-13T23:59:38.780989",
   "environment_variables": {},
   "exception": null,
   "input_path": "templates/ml-basic/_build/readme_preprocessed.ipynb",
   "output_path": "templates/ml-basic/README.ipynb",
   "parameters": {},
   "start_time": "2022-05-13T23:59:07.985000",
   "version": "2.3.4"
  }
 },
 "nbformat": 4,
 "nbformat_minor": 5
}
