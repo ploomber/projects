{
 "cells": [
  {
   "cell_type": "markdown",
   "id": "3cde3694",
   "metadata": {
    "papermill": {
     "duration": 0.052608,
     "end_time": "2021-10-14T15:12:14.798294",
     "exception": false,
     "start_time": "2021-10-14T15:12:14.745686",
     "status": "completed"
    },
    "tags": []
   },
   "source": [
    "To run this example locally, execute: `ploomber examples -n ml-online`.\n",
    "\n",
    "To start a free, hosted JupyterLab: [![binder-logo](https://mybinder.org/badge_logo.svg)](https://mybinder.org/v2/gh/ploomber/binder-env/main?urlpath=git-pull%3Frepo%3Dhttps%253A%252F%252Fgithub.com%252Fploomber%252Fprojects%26urlpath%3Dlab%252Ftree%252Fprojects%252Fml-online%252FREADME.ipynb%26branch%3Dmaster)\n",
    "\n",
    "Found an issue? [Let us know.](https://github.com/ploomber/projects/issues/new?title=ml-online%20issue)\n",
    "\n",
    "Have questions? [Ask us anything on Slack.](http://community.ploomber.io/)\n",
    "\n"
   ]
  },
  {
   "cell_type": "markdown",
   "id": "e3c102c0",
   "metadata": {
    "papermill": {
     "duration": 0.060684,
     "end_time": "2021-10-14T15:12:14.916535",
     "exception": false,
     "start_time": "2021-10-14T15:12:14.855851",
     "status": "completed"
    },
    "tags": []
   },
   "source": [
    "# Machine Learning pipeline with online API\n",
    "\n",
    "ML pipeline that deploys using flask.\n",
    "\n",
    "Note: all commands must be executed in the `ml-online/` directory.\n",
    "\n",
    "## Setup\n",
    "\n",
    "```sh\n",
    "pip install --editable \".[dev]\"\n",
    "```\n",
    "\n",
    "## File layout\n",
    "\n",
    "`src/ml_online`:\n",
    "\n",
    "1. `pipeline-features.yaml`: feature engineering YAML spec\n",
    "2. `pipeline.yaml`: training pipeline\n",
    "3. `infer.py`: converts training pipeline to an inference pipeline\n",
    "4. `service.py`: uses inference pipeline to serve predictions using Flask\n",
    "\n",
    "## Training pipeline"
   ]
  },
  {
   "cell_type": "code",
   "execution_count": 1,
   "id": "008034a1",
   "metadata": {
    "execution": {
     "iopub.execute_input": "2021-10-14T15:12:15.037753Z",
     "iopub.status.busy": "2021-10-14T15:12:15.036901Z",
     "iopub.status.idle": "2021-10-14T15:12:41.615916Z",
     "shell.execute_reply": "2021-10-14T15:12:41.616779Z"
    },
    "papermill": {
     "duration": 26.646391,
     "end_time": "2021-10-14T15:12:41.617253",
     "exception": false,
     "start_time": "2021-10-14T15:12:14.970862",
     "status": "completed"
    },
    "tags": []
   },
   "outputs": [
    {
     "name": "stdout",
     "output_type": "stream",
     "text": [
      "name        Ran?      Elapsed (s)    Percentage\n",
      "----------  ------  -------------  ------------\n",
      "get         True         0.010818      0.194307\n",
      "sepal-area  True         0.037937      0.681402\n",
      "petal-area  True         0.028293      0.508182\n",
      "features    True         0.040022      0.718852\n",
      "fit         True         5.45042      97.8973\n"
     ]
    },
    {
     "name": "stderr",
     "output_type": "stream",
     "text": [
      "\r",
      "  0%|          | 0/5 [00:00<?, ?it/s]\r",
      "Building task 'get':   0%|          | 0/5 [00:00<?, ?it/s]\r",
      "Building task 'get':  20%|██        | 1/5 [00:03<00:15,  3.98s/it]\r",
      "Building task 'sepal-area':  20%|██        | 1/5 [00:03<00:15,  3.98s/it]\r",
      "Building task 'sepal-area':  40%|████      | 2/5 [00:08<00:12,  4.16s/it]\r",
      "Building task 'petal-area':  40%|████      | 2/5 [00:08<00:12,  4.16s/it]\r",
      "Building task 'petal-area':  60%|██████    | 3/5 [00:12<00:08,  4.17s/it]\r",
      "Building task 'features':  60%|██████    | 3/5 [00:12<00:08,  4.17s/it]  \r",
      "Building task 'features':  80%|████████  | 4/5 [00:16<00:04,  4.11s/it]\r",
      "Building task 'fit':  80%|████████  | 4/5 [00:16<00:04,  4.11s/it]     \n",
      "\r",
      "Executing:   0%|          | 0/11 [00:00<?, ?cell/s]\u001b[A\n",
      "\r",
      "Executing:   9%|▉         | 1/11 [00:01<00:15,  1.57s/cell]\u001b[A\n",
      "\r",
      "Executing:  18%|█▊        | 2/11 [00:03<00:15,  1.73s/cell]\u001b[A\n",
      "\r",
      "Executing:  36%|███▋      | 4/11 [00:03<00:04,  1.47cell/s]\u001b[A\n",
      "\r",
      "Executing:  45%|████▌     | 5/11 [00:03<00:03,  1.97cell/s]\u001b[A\n",
      "\r",
      "Executing:  64%|██████▎   | 7/11 [00:03<00:01,  3.31cell/s]\u001b[A\n",
      "\r",
      "Executing:  82%|████████▏ | 9/11 [00:03<00:00,  4.80cell/s]\u001b[A\n",
      "\r",
      "Executing: 100%|██████████| 11/11 [00:04<00:00,  4.88cell/s]\u001b[A\r",
      "Executing: 100%|██████████| 11/11 [00:04<00:00,  2.32cell/s]\n",
      "\r",
      "Building task 'fit': 100%|██████████| 5/5 [00:21<00:00,  4.59s/it]\r",
      "Building task 'fit': 100%|██████████| 5/5 [00:21<00:00,  4.38s/it]\n"
     ]
    }
   ],
   "source": [
    "%%sh\n",
    "ploomber build"
   ]
  },
  {
   "cell_type": "markdown",
   "id": "f94b5918",
   "metadata": {
    "papermill": {
     "duration": 0.071834,
     "end_time": "2021-10-14T15:12:41.751537",
     "exception": false,
     "start_time": "2021-10-14T15:12:41.679703",
     "status": "completed"
    },
    "tags": []
   },
   "source": [
    "Output from the training pipeline saved in the `products/` folder."
   ]
  },
  {
   "cell_type": "markdown",
   "id": "072cb8ec",
   "metadata": {
    "papermill": {
     "duration": 0.066983,
     "end_time": "2021-10-14T15:12:41.877366",
     "exception": false,
     "start_time": "2021-10-14T15:12:41.810383",
     "status": "completed"
    },
    "tags": []
   },
   "source": [
    "## Online API\n",
    "\n",
    "Copy the trained model inside the project's package:"
   ]
  },
  {
   "cell_type": "code",
   "execution_count": 2,
   "id": "7281a5ce",
   "metadata": {
    "execution": {
     "iopub.execute_input": "2021-10-14T15:12:41.995834Z",
     "iopub.status.busy": "2021-10-14T15:12:41.993899Z",
     "iopub.status.idle": "2021-10-14T15:12:42.076744Z",
     "shell.execute_reply": "2021-10-14T15:12:42.077482Z"
    },
    "papermill": {
     "duration": 0.147584,
     "end_time": "2021-10-14T15:12:42.077813",
     "exception": false,
     "start_time": "2021-10-14T15:12:41.930229",
     "status": "completed"
    },
    "tags": []
   },
   "outputs": [],
   "source": [
    "%%sh\n",
    "cp products/model.pickle src/ml_online/model.pickle"
   ]
  },
  {
   "cell_type": "markdown",
   "id": "c961e822",
   "metadata": {
    "papermill": {
     "duration": 0.063048,
     "end_time": "2021-10-14T15:12:42.211483",
     "exception": false,
     "start_time": "2021-10-14T15:12:42.148435",
     "status": "completed"
    },
    "tags": []
   },
   "source": [
    "Start web application:"
   ]
  },
  {
   "cell_type": "code",
   "execution_count": 3,
   "id": "f8226e49",
   "metadata": {
    "execution": {
     "iopub.execute_input": "2021-10-14T15:12:42.337957Z",
     "iopub.status.busy": "2021-10-14T15:12:42.337074Z",
     "iopub.status.idle": "2021-10-14T15:12:42.339227Z",
     "shell.execute_reply": "2021-10-14T15:12:42.339969Z"
    },
    "papermill": {
     "duration": 0.073297,
     "end_time": "2021-10-14T15:12:42.340220",
     "exception": false,
     "start_time": "2021-10-14T15:12:42.266923",
     "status": "completed"
    },
    "tags": []
   },
   "outputs": [],
   "source": [
    "from os import environ\n",
    "import subprocess\n",
    "\n",
    "def start_flask():\n",
    "    \"\"\"Start Flask and wait until it's ready\n",
    "    \"\"\"\n",
    "    proc = subprocess.Popen(['flask', 'run'],\n",
    "                        env=dict(environ, FLASK_APP='ml_online.service'),\n",
    "                        stdout=subprocess.PIPE,\n",
    "                        stderr=subprocess.STDOUT)\n",
    "    \n",
    "    while True:\n",
    "        out = proc.stdout.readline()\n",
    "        print(out.decode().strip())\n",
    "    \n",
    "        if b'5000' in out:\n",
    "            break\n",
    "    \n",
    "    return proc"
   ]
  },
  {
   "cell_type": "code",
   "execution_count": 4,
   "id": "025ca0b7",
   "metadata": {
    "execution": {
     "iopub.execute_input": "2021-10-14T15:12:42.448222Z",
     "iopub.status.busy": "2021-10-14T15:12:42.446880Z",
     "iopub.status.idle": "2021-10-14T15:12:46.063323Z",
     "shell.execute_reply": "2021-10-14T15:12:46.062670Z"
    },
    "papermill": {
     "duration": 3.674981,
     "end_time": "2021-10-14T15:12:46.063527",
     "exception": false,
     "start_time": "2021-10-14T15:12:42.388546",
     "status": "completed"
    },
    "tags": []
   },
   "outputs": [
    {
     "name": "stdout",
     "output_type": "stream",
     "text": [
      "* Serving Flask app 'ml_online.service' (lazy loading)\n",
      "* Environment: production\n",
      "WARNING: This is a development server. Do not use it in a production deployment.\n",
      "Use a production WSGI server instead.\n",
      "* Debug mode: off\n"
     ]
    },
    {
     "name": "stdout",
     "output_type": "stream",
     "text": [
      "/Users/Edu/dev/ploomber/src/ploomber/spec/dagspec.py:336: UserWarning: The following placeholders are declared in the environment but unused in the spec: {'sample'}\n",
      "warnings.warn('The following placeholders are declared in the '\n"
     ]
    },
    {
     "name": "stdout",
     "output_type": "stream",
     "text": [
      "0%|          | 0/5 [00:00<?, ?it/s]\r",
      "100%|██████████| 5/5 [00:00<00:00, 2674.94it/s]\n",
      "* Running on http://127.0.0.1:5000/ (Press CTRL+C to quit)\n"
     ]
    }
   ],
   "source": [
    "proc = start_flask()"
   ]
  },
  {
   "cell_type": "markdown",
   "id": "9eae7f4c",
   "metadata": {
    "papermill": {
     "duration": 0.0531,
     "end_time": "2021-10-14T15:12:46.168721",
     "exception": false,
     "start_time": "2021-10-14T15:12:46.115621",
     "status": "completed"
    },
    "tags": []
   },
   "source": [
    "*Note:* `start_flask()` is the same as executing the following a terminal:\n",
    "\n",
    "```sh\n",
    "export FLASK_APP=ml_online.service\n",
    "flask run\n",
    "```"
   ]
  },
  {
   "cell_type": "markdown",
   "id": "d0a9f2c5",
   "metadata": {
    "papermill": {
     "duration": 0.049615,
     "end_time": "2021-10-14T15:12:46.267716",
     "exception": false,
     "start_time": "2021-10-14T15:12:46.218101",
     "status": "completed"
    },
    "tags": []
   },
   "source": [
    "Open a new terminal to make predictions:"
   ]
  },
  {
   "cell_type": "code",
   "execution_count": 5,
   "id": "9316042e",
   "metadata": {
    "execution": {
     "iopub.execute_input": "2021-10-14T15:12:46.374360Z",
     "iopub.status.busy": "2021-10-14T15:12:46.373634Z",
     "iopub.status.idle": "2021-10-14T15:12:46.438938Z",
     "shell.execute_reply": "2021-10-14T15:12:46.438280Z"
    },
    "papermill": {
     "duration": 0.1222,
     "end_time": "2021-10-14T15:12:46.439156",
     "exception": false,
     "start_time": "2021-10-14T15:12:46.316956",
     "status": "completed"
    },
    "tags": []
   },
   "outputs": [],
   "source": [
    "import requests"
   ]
  },
  {
   "cell_type": "code",
   "execution_count": 6,
   "id": "35d71c6a",
   "metadata": {
    "execution": {
     "iopub.execute_input": "2021-10-14T15:12:46.545602Z",
     "iopub.status.busy": "2021-10-14T15:12:46.544598Z",
     "iopub.status.idle": "2021-10-14T15:12:46.547028Z",
     "shell.execute_reply": "2021-10-14T15:12:46.547502Z"
    },
    "papermill": {
     "duration": 0.058585,
     "end_time": "2021-10-14T15:12:46.547707",
     "exception": false,
     "start_time": "2021-10-14T15:12:46.489122",
     "status": "completed"
    },
    "tags": []
   },
   "outputs": [],
   "source": [
    "def make_request(data):\n",
    "    \"\"\"Hit the prediction endpoint\n",
    "    \"\"\"\n",
    "    response = requests.post('http://127.0.0.1:5000/',\n",
    "                             data=data,\n",
    "                             headers={'Content-Type': 'application/json'})\n",
    "    return response.json()"
   ]
  },
  {
   "cell_type": "code",
   "execution_count": 7,
   "id": "bb205798",
   "metadata": {
    "execution": {
     "iopub.execute_input": "2021-10-14T15:12:46.657871Z",
     "iopub.status.busy": "2021-10-14T15:12:46.657114Z",
     "iopub.status.idle": "2021-10-14T15:12:46.697993Z",
     "shell.execute_reply": "2021-10-14T15:12:46.698548Z"
    },
    "papermill": {
     "duration": 0.099076,
     "end_time": "2021-10-14T15:12:46.698843",
     "exception": false,
     "start_time": "2021-10-14T15:12:46.599767",
     "status": "completed"
    },
    "tags": []
   },
   "outputs": [
    {
     "data": {
      "text/plain": [
       "{'prediction': 0}"
      ]
     },
     "execution_count": 7,
     "metadata": {},
     "output_type": "execute_result"
    }
   ],
   "source": [
    "make_request('{\"sepal length (cm)\": 5.1, \"sepal width (cm)\": 3.5, \"petal length (cm)\": 1.4, \"petal width (cm)\": 0.2}')"
   ]
  },
  {
   "cell_type": "markdown",
   "id": "801714ce",
   "metadata": {
    "papermill": {
     "duration": 0.051964,
     "end_time": "2021-10-14T15:12:46.802760",
     "exception": false,
     "start_time": "2021-10-14T15:12:46.750796",
     "status": "completed"
    },
    "tags": []
   },
   "source": [
    "*Note: The previous command is equivalent to running the following on the terminal*\n",
    "\n",
    "```sh\n",
    "curl -d  '{\"sepal length (cm)\": 5.1, \"sepal width (cm)\": 3.5, \"petal length (cm)\": 1.4, \"petal width (cm)\": 0.2}' -H 'Content-Type: application/json' http://127.0.0.1:5000/\n",
    "```"
   ]
  },
  {
   "cell_type": "code",
   "execution_count": 8,
   "id": "aae77f06",
   "metadata": {
    "execution": {
     "iopub.execute_input": "2021-10-14T15:12:46.915848Z",
     "iopub.status.busy": "2021-10-14T15:12:46.914848Z",
     "iopub.status.idle": "2021-10-14T15:12:46.930304Z",
     "shell.execute_reply": "2021-10-14T15:12:46.929475Z"
    },
    "papermill": {
     "duration": 0.073746,
     "end_time": "2021-10-14T15:12:46.930535",
     "exception": false,
     "start_time": "2021-10-14T15:12:46.856789",
     "status": "completed"
    },
    "tags": []
   },
   "outputs": [
    {
     "data": {
      "text/plain": [
       "{'prediction': 2}"
      ]
     },
     "execution_count": 8,
     "metadata": {},
     "output_type": "execute_result"
    }
   ],
   "source": [
    "make_request('{\"sepal length (cm)\": 5.9, \"sepal width (cm)\": 3.0, \"petal length (cm)\": 5.1, \"petal width (cm)\": 1.8}')"
   ]
  },
  {
   "cell_type": "markdown",
   "id": "0f51ec9e",
   "metadata": {
    "papermill": {
     "duration": 0.055555,
     "end_time": "2021-10-14T15:12:47.038063",
     "exception": false,
     "start_time": "2021-10-14T15:12:46.982508",
     "status": "completed"
    },
    "tags": []
   },
   "source": [
    "*Note: The previous command is equivalent to running the following on the terminal*\n",
    "\n",
    "```sh\n",
    "curl -d  '{\"sepal length (cm)\": 5.9, \"sepal width (cm)\": 3.0, \"petal length (cm)\": 5.1, \"petal width (cm)\": 1.8}' -H 'Content-Type: application/json' http://127.0.0.1:5000/\n",
    "```"
   ]
  },
  {
   "cell_type": "markdown",
   "id": "45888c9d",
   "metadata": {
    "papermill": {
     "duration": 0.059012,
     "end_time": "2021-10-14T15:12:47.151971",
     "exception": false,
     "start_time": "2021-10-14T15:12:47.092959",
     "status": "completed"
    },
    "tags": []
   },
   "source": [
    "Note: Ploomber exports a Python object that encapsulates the entire inference pipeline (pre-processing + feature engineering + model inference). You can deploy it with any framework."
   ]
  },
  {
   "cell_type": "code",
   "execution_count": 9,
   "id": "733c1423",
   "metadata": {
    "execution": {
     "iopub.execute_input": "2021-10-14T15:12:47.266806Z",
     "iopub.status.busy": "2021-10-14T15:12:47.266050Z",
     "iopub.status.idle": "2021-10-14T15:12:47.268251Z",
     "shell.execute_reply": "2021-10-14T15:12:47.268758Z"
    },
    "papermill": {
     "duration": 0.062983,
     "end_time": "2021-10-14T15:12:47.268954",
     "exception": false,
     "start_time": "2021-10-14T15:12:47.205971",
     "status": "completed"
    },
    "tags": []
   },
   "outputs": [],
   "source": [
    "# terminate flask app\n",
    "proc.kill()"
   ]
  },
  {
   "cell_type": "markdown",
   "id": "a43d6d32",
   "metadata": {
    "papermill": {
     "duration": 0.053197,
     "end_time": "2021-10-14T15:12:47.376386",
     "exception": false,
     "start_time": "2021-10-14T15:12:47.323189",
     "status": "completed"
    },
    "tags": []
   },
   "source": [
    "## Testing\n",
    "\n",
    "The example contains some basic unit tests. To run them:"
   ]
  },
  {
   "cell_type": "code",
   "execution_count": 10,
   "id": "515361f3",
   "metadata": {
    "execution": {
     "iopub.execute_input": "2021-10-14T15:12:47.490160Z",
     "iopub.status.busy": "2021-10-14T15:12:47.489337Z",
     "iopub.status.idle": "2021-10-14T15:12:59.974269Z",
     "shell.execute_reply": "2021-10-14T15:12:59.975060Z"
    },
    "papermill": {
     "duration": 12.546634,
     "end_time": "2021-10-14T15:12:59.975402",
     "exception": false,
     "start_time": "2021-10-14T15:12:47.428768",
     "status": "completed"
    },
    "tags": []
   },
   "outputs": [
    {
     "name": "stdout",
     "output_type": "stream",
     "text": [
      "============================= test session starts ==============================\n",
      "platform darwin -- Python 3.9.7, pytest-6.2.5, py-1.10.0, pluggy-1.0.0\n",
      "rootdir: /Users/Edu/dev/projects-ploomber/ml-online\n",
      "plugins: Faker-9.2.0, anyio-3.3.3\n",
      "collected 5 items\n",
      "\n",
      "tests/test_infer.py ..                                                   [ 40%]\n",
      "tests/test_service.py .                                                  [ 60%]\n",
      "tests/test_train.py .                                                    [ 80%]\n",
      "tests/test_wheel.py .                                                    [100%]\n",
      "\n",
      "============================== 5 passed in 11.29s ==============================\n"
     ]
    }
   ],
   "source": [
    "%%sh\n",
    "pytest -p no:warnings"
   ]
  },
  {
   "cell_type": "markdown",
   "id": "a7081f2b",
   "metadata": {
    "papermill": {
     "duration": 0.065893,
     "end_time": "2021-10-14T15:13:00.123524",
     "exception": false,
     "start_time": "2021-10-14T15:13:00.057631",
     "status": "completed"
    },
    "tags": []
   },
   "source": [
    "\n",
    "## Packaging\n",
    "\n",
    "This project is a Python package. You can generate a distribution archive (`tar.gz`) or a built distribution (`.whl`) for deployment:\n",
    "\n",
    "\n",
    "```sh\n",
    "python -m build\n",
    "```\n"
   ]
  },
  {
   "cell_type": "markdown",
   "id": "dcea0b95",
   "metadata": {
    "papermill": {
     "duration": 0.0597,
     "end_time": "2021-10-14T15:13:00.244720",
     "exception": false,
     "start_time": "2021-10-14T15:13:00.185020",
     "status": "completed"
    },
    "tags": []
   },
   "source": [
    "The previous command creates a `.whl` and a `.tar.gz` file in the `dist/` directory; both contain all the necessary pieces to serve predictions: dependencies, pre-processing code, and model file."
   ]
  }
 ],
 "metadata": {
  "kernelspec": {
   "display_name": "Python 3 (ipykernel)",
   "language": "python",
   "name": "python3"
  },
  "language_info": {
   "codemirror_mode": {
    "name": "ipython",
    "version": 3
   },
   "file_extension": ".py",
   "mimetype": "text/x-python",
   "name": "python",
   "nbconvert_exporter": "python",
   "pygments_lexer": "ipython3",
   "version": "3.9.7"
  },
  "papermill": {
   "default_parameters": {},
   "duration": 47.163828,
   "end_time": "2021-10-14T15:13:00.521400",
   "environment_variables": {},
   "exception": null,
   "input_path": "ml-online/_build/readme_preprocessed.ipynb",
   "output_path": "ml-online/README.ipynb",
   "parameters": {},
   "start_time": "2021-10-14T15:12:13.357572",
   "version": "2.3.3"
  }
 },
 "nbformat": 4,
 "nbformat_minor": 5
}