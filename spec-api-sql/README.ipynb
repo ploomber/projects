{
 "cells": [
  {
   "cell_type": "markdown",
   "id": "8f3d40f1",
   "metadata": {
    "papermill": {
     "duration": 0.030971,
     "end_time": "2021-10-11T21:27:51.608465",
     "exception": false,
     "start_time": "2021-10-11T21:27:51.577494",
     "status": "completed"
    },
    "tags": []
   },
   "source": [
    "\n",
    "*Note:* You can run this example locally (`ploomber examples -n spec-api-sql`) or in Binder (hosted JupyterLab ).\n",
    "\n",
    "[![binder-logo](https://mybinder.org/badge_logo.svg)](https://mybinder.org/v2/gh/ploomber/binder-env/main?urlpath=git-pull%3Frepo%3Dhttps%253A%252F%252Fgithub.com%252Fploomber%252Fprojects%26urlpath%3Dlab%252Ftree%252Fprojects%252Fspec-api-sql%252FREADME.ipynb%26branch%3Dmaster)\n"
   ]
  },
  {
   "cell_type": "markdown",
   "id": "72cfbafd",
   "metadata": {
    "papermill": {
     "duration": 0.032359,
     "end_time": "2021-10-11T21:27:51.670376",
     "exception": false,
     "start_time": "2021-10-11T21:27:51.638017",
     "status": "completed"
    },
    "tags": []
   },
   "source": [
    "# SQL/Python pipeline\n",
    "\n",
    "Pipeline with SQL and Python tasks.\n",
    "\n",
    "## Setup\n",
    "\n",
    "(**Note**: Skip if running in Binder)\n",
    "\n",
    "~~~sh\n",
    "# if using conda\n",
    "conda env create --file environment.yaml\n",
    "conda activate spec-api-sql\n",
    "\n",
    "# or use pip directly\n",
    "# note that this won't install pygraphviz. If you want to plot the pipeline\n",
    "# you have to install it first\n",
    "pip install -r requirements.txt\n",
    "~~~\n",
    "\n",
    "## Create sample data\n"
   ]
  },
  {
   "cell_type": "code",
   "execution_count": 1,
   "id": "e9cdf1aa",
   "metadata": {
    "execution": {
     "iopub.execute_input": "2021-10-11T21:27:51.739078Z",
     "iopub.status.busy": "2021-10-11T21:27:51.738023Z",
     "iopub.status.idle": "2021-10-11T21:27:54.643443Z",
     "shell.execute_reply": "2021-10-11T21:27:54.644067Z"
    },
    "papermill": {
     "duration": 2.944439,
     "end_time": "2021-10-11T21:27:54.644376",
     "exception": false,
     "start_time": "2021-10-11T21:27:51.699937",
     "status": "completed"
    },
    "tags": [
     "bash"
    ]
   },
   "outputs": [
    {
     "name": "stdout",
     "output_type": "stream",
     "text": [
      "Requirement already satisfied: sqlalchemy in /Users/Edu/miniconda3/envs/projects/lib/python3.9/site-packages (1.4.25)\n",
      "Requirement already satisfied: faker in /Users/Edu/miniconda3/envs/projects/lib/python3.9/site-packages (9.2.0)\n",
      "Requirement already satisfied: numpy in /Users/Edu/miniconda3/envs/projects/lib/python3.9/site-packages (1.21.2)\n",
      "Requirement already satisfied: pandas in /Users/Edu/miniconda3/envs/projects/lib/python3.9/site-packages (1.3.3)\n",
      "Requirement already satisfied: greenlet!=0.4.17 in /Users/Edu/miniconda3/envs/projects/lib/python3.9/site-packages (from sqlalchemy) (1.1.2)\n",
      "Requirement already satisfied: text-unidecode==1.3 in /Users/Edu/miniconda3/envs/projects/lib/python3.9/site-packages (from faker) (1.3)\n",
      "Requirement already satisfied: python-dateutil>=2.4 in /Users/Edu/miniconda3/envs/projects/lib/python3.9/site-packages (from faker) (2.8.2)\n",
      "Requirement already satisfied: pytz>=2017.3 in /Users/Edu/miniconda3/envs/projects/lib/python3.9/site-packages (from pandas) (2021.3)\n",
      "Requirement already satisfied: six>=1.5 in /Users/Edu/miniconda3/envs/projects/lib/python3.9/site-packages (from python-dateutil>=2.4->faker) (1.16.0)\n"
     ]
    }
   ],
   "source": [
    "%%sh\n",
    "# create sample data\n",
    "cd setup\n",
    "bash setup.sh\n",
    "# move back to the original spec-api-sql folder\n",
    "cd .."
   ]
  },
  {
   "cell_type": "markdown",
   "id": "f21baf7a",
   "metadata": {
    "papermill": {
     "duration": 0.032166,
     "end_time": "2021-10-11T21:27:54.707427",
     "exception": false,
     "start_time": "2021-10-11T21:27:54.675261",
     "status": "completed"
    },
    "tags": []
   },
   "source": [
    "## Definition"
   ]
  },
  {
   "cell_type": "code",
   "execution_count": 2,
   "id": "4d57eab7",
   "metadata": {
    "execution": {
     "iopub.execute_input": "2021-10-11T21:27:54.775209Z",
     "iopub.status.busy": "2021-10-11T21:27:54.774220Z",
     "iopub.status.idle": "2021-10-11T21:27:54.834877Z",
     "shell.execute_reply": "2021-10-11T21:27:54.835393Z"
    },
    "lines_to_next_cell": 0,
    "papermill": {
     "duration": 0.098518,
     "end_time": "2021-10-11T21:27:54.835645",
     "exception": false,
     "start_time": "2021-10-11T21:27:54.737127",
     "status": "completed"
    },
    "tags": [
     "bash"
    ]
   },
   "outputs": [
    {
     "name": "stdout",
     "output_type": "stream",
     "text": [
      "meta:\n",
      "  product_default_class:\n",
      "    SQLScript: SQLiteRelation\n",
      "\n",
      "  jupyter_hot_reload: True\n",
      "\n",
      "config:\n",
      "  hot_reload: True\n",
      "\n",
      "clients:\n",
      "  # tasks\n",
      "  SQLScript: config.get_client\n",
      "  SQLDump: config.get_client\n",
      "  # products\n",
      "  SQLiteRelation: config.get_client\n",
      "\n",
      "tasks:\n",
      "  - source: filter_sales.sql\n",
      "    product: [filtered_sales, table]\n",
      "    name: filter_sales\n",
      "\n",
      "  - source: group_sales.sql\n",
      "    product: [grouped_sales, table]\n",
      "    name: group_sales\n",
      "\n",
      "  - source: filter_prices.sql\n",
      "    product: [filtered_prices, table]\n",
      "    name: filter_prices\n",
      "\n",
      "  - source: join.sql\n",
      "    product: [joined, table]\n",
      "    name: join\n",
      "\n",
      "  - class: SQLDump\n",
      "    source: join_dump.sql\n",
      "    product: output/joined_data.csv\n",
      "    name: join_dump\n",
      "    chunksize: null\n",
      "\n",
      "  - source: plot.py\n",
      "    product: output/plot.html"
     ]
    }
   ],
   "source": [
    "%%sh\n",
    "cat pipeline.yaml"
   ]
  },
  {
   "cell_type": "markdown",
   "id": "23a00b02",
   "metadata": {
    "papermill": {
     "duration": 0.033721,
     "end_time": "2021-10-11T21:27:54.902172",
     "exception": false,
     "start_time": "2021-10-11T21:27:54.868451",
     "status": "completed"
    },
    "tags": []
   },
   "source": [
    "The first two sections configure our pipeline; the `tasks` section is the\n",
    "actual pipeline definition. We see that we have a few SQL transformations,\n",
    "then we dump a table to a CSV file and we produce an HTML report at the end.\n",
    "The order here doesn't matter, the source code itself declares its own\n",
    "upstream dependencies, and Ploomber extracts them to execute your pipeline."
   ]
  },
  {
   "cell_type": "markdown",
   "id": "bac49b94",
   "metadata": {
    "papermill": {
     "duration": 0.03043,
     "end_time": "2021-10-11T21:27:54.963738",
     "exception": false,
     "start_time": "2021-10-11T21:27:54.933308",
     "status": "completed"
    },
    "tags": []
   },
   "source": [
    "## Plot"
   ]
  },
  {
   "cell_type": "code",
   "execution_count": 3,
   "id": "79d40888",
   "metadata": {
    "execution": {
     "iopub.execute_input": "2021-10-11T21:27:55.036349Z",
     "iopub.status.busy": "2021-10-11T21:27:55.035637Z",
     "iopub.status.idle": "2021-10-11T21:27:59.800080Z",
     "shell.execute_reply": "2021-10-11T21:27:59.800745Z"
    },
    "papermill": {
     "duration": 4.805561,
     "end_time": "2021-10-11T21:27:59.800977",
     "exception": false,
     "start_time": "2021-10-11T21:27:54.995416",
     "status": "completed"
    },
    "tags": [
     "bash"
    ]
   },
   "outputs": [
    {
     "name": "stdout",
     "output_type": "stream",
     "text": [
      "Plot saved at: pipeline.png\n"
     ]
    },
    {
     "name": "stderr",
     "output_type": "stream",
     "text": [
      "100%|██████████| 6/6 [00:00<00:00, 5009.12it/s]\n"
     ]
    }
   ],
   "source": [
    "%%sh\n",
    "# Note: if plotting locally, install pygrapviz first\n",
    "ploomber plot"
   ]
  },
  {
   "cell_type": "markdown",
   "id": "56ad67e3",
   "metadata": {
    "papermill": {
     "duration": 0.034077,
     "end_time": "2021-10-11T21:27:59.872185",
     "exception": false,
     "start_time": "2021-10-11T21:27:59.838108",
     "status": "completed"
    },
    "tags": []
   },
   "source": [
    "If running in Jupyter, load the plot with this code:"
   ]
  },
  {
   "cell_type": "code",
   "execution_count": 4,
   "id": "6e04a232",
   "metadata": {
    "execution": {
     "iopub.execute_input": "2021-10-11T21:27:59.950615Z",
     "iopub.status.busy": "2021-10-11T21:27:59.943212Z",
     "iopub.status.idle": "2021-10-11T21:27:59.957061Z",
     "shell.execute_reply": "2021-10-11T21:27:59.957587Z"
    },
    "papermill": {
     "duration": 0.051891,
     "end_time": "2021-10-11T21:27:59.957846",
     "exception": false,
     "start_time": "2021-10-11T21:27:59.905955",
     "status": "completed"
    },
    "tags": []
   },
   "outputs": [
    {
     "data": {
      "image/png": "[encoded data removed]",
      "text/plain": [
       "<IPython.core.display.Image object>"
      ]
     },
     "execution_count": 4,
     "metadata": {},
     "output_type": "execute_result"
    }
   ],
   "source": [
    "\n",
    "from IPython.display import Image\n",
    "Image(filename='pipeline.png')"
   ]
  },
  {
   "cell_type": "markdown",
   "id": "1313ac90",
   "metadata": {
    "papermill": {
     "duration": 0.042241,
     "end_time": "2021-10-11T21:28:00.034713",
     "exception": false,
     "start_time": "2021-10-11T21:27:59.992472",
     "status": "completed"
    },
    "tags": []
   },
   "source": [
    "Otherwise, open the `pipeline.png` file directly."
   ]
  },
  {
   "cell_type": "markdown",
   "id": "9cdffa2b",
   "metadata": {
    "papermill": {
     "duration": 0.036874,
     "end_time": "2021-10-11T21:28:00.108207",
     "exception": false,
     "start_time": "2021-10-11T21:28:00.071333",
     "status": "completed"
    },
    "tags": []
   },
   "source": [
    "## Build"
   ]
  },
  {
   "cell_type": "code",
   "execution_count": 5,
   "id": "84eae5ce",
   "metadata": {
    "execution": {
     "iopub.execute_input": "2021-10-11T21:28:00.188666Z",
     "iopub.status.busy": "2021-10-11T21:28:00.187797Z",
     "iopub.status.idle": "2021-10-11T21:28:07.207492Z",
     "shell.execute_reply": "2021-10-11T21:28:07.208148Z"
    },
    "lines_to_next_cell": 0,
    "papermill": {
     "duration": 7.06183,
     "end_time": "2021-10-11T21:28:07.208439",
     "exception": false,
     "start_time": "2021-10-11T21:28:00.146609",
     "status": "completed"
    },
    "tags": [
     "bash"
    ]
   },
   "outputs": [
    {
     "name": "stdout",
     "output_type": "stream",
     "text": [
      "name           Ran?      Elapsed (s)    Percentage\n",
      "-------------  ------  -------------  ------------\n",
      "filter_sales   True         0.005682     0.161896\n",
      "filter_prices  True         0.001385     0.0394625\n",
      "group_sales    True         0.0013       0.0370406\n",
      "join           True         0.001045     0.029775\n",
      "join_dump      True         0.001753     0.0499479\n",
      "plot           True         3.4985      99.6819\n"
     ]
    },
    {
     "name": "stderr",
     "output_type": "stream",
     "text": [
      "Building task 'plot':   0%|          | 0/6 [00:00<?, ?it/s]     \n",
      "Executing:   0%|          | 0/4 [00:00<?, ?cell/s]\u001b[A\n",
      "Executing:  25%|██▌       | 1/4 [00:02<00:07,  2.43s/cell]\u001b[A\n",
      "Executing: 100%|██████████| 4/4 [00:03<00:00,  1.31cell/s]\n",
      "Building task 'plot': 100%|██████████| 6/6 [00:03<00:00,  1.69it/s]\n"
     ]
    }
   ],
   "source": [
    "%%sh\n",
    "ploomber build"
   ]
  },
  {
   "cell_type": "markdown",
   "id": "aee76f5c",
   "metadata": {
    "papermill": {
     "duration": 0.050684,
     "end_time": "2021-10-11T21:28:07.308840",
     "exception": false,
     "start_time": "2021-10-11T21:28:07.258156",
     "status": "completed"
    },
    "tags": []
   },
   "source": [
    "The final output is a report: [output/plot.html](output/plot.html)."
   ]
  }
 ],
 "metadata": {
  "jupytext": {
   "cell_metadata_filter": "tags,-all",
   "main_language": "bash",
   "notebook_metadata_filter": "-all"
  },
  "kernelspec": {
   "display_name": "Python 3 (ipykernel)",
   "language": "python",
   "name": "python3"
  },
  "language_info": {
   "codemirror_mode": {
    "name": "ipython",
    "version": 3
   },
   "file_extension": ".py",
   "mimetype": "text/x-python",
   "name": "python",
   "nbconvert_exporter": "python",
   "pygments_lexer": "ipython3",
   "version": "3.9.7"
  },
  "papermill": {
   "duration": 17.494585,
   "end_time": "2021-10-11T21:28:07.735817",
   "exception": null,
   "input_path": "/var/folders/3h/_lvh_w_x5g30rrjzb_xnn2j80000gq/T/tmp72dqh95q.ipynb",
   "output_path": "spec-api-sql/README.ipynb",
   "parameters": {
    "product": "spec-api-sql/README.ipynb"
   },
   "start_time": "2021-10-11T21:27:50.241232"
  }
 },
 "nbformat": 4,
 "nbformat_minor": 5
}
