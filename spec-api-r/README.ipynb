{
 "cells": [
  {
   "cell_type": "markdown",
   "id": "7fd1474a",
   "metadata": {
    "papermill": {
     "duration": 0.016954,
     "end_time": "2021-10-11T21:25:18.468005",
     "exception": false,
     "start_time": "2021-10-11T21:25:18.451051",
     "status": "completed"
    },
    "tags": []
   },
   "source": [
    "\n",
    "*Note:* You can run this example locally (`ploomber examples -n spec-api-r`) or in Binder (hosted JupyterLab ).\n",
    "\n",
    "[![binder-logo](https://mybinder.org/badge_logo.svg)](https://mybinder.org/v2/gh/ploomber/binder-env/main?urlpath=git-pull%3Frepo%3Dhttps%253A%252F%252Fgithub.com%252Fploomber%252Fprojects%26urlpath%3Dlab%252Ftree%252Fprojects%252Fspec-api-r%252FREADME.ipynb%26branch%3Dmaster)\n"
   ]
  },
  {
   "cell_type": "markdown",
   "id": "6d9d86ba",
   "metadata": {
    "papermill": {
     "duration": 0.015577,
     "end_time": "2021-10-11T21:25:18.499189",
     "exception": false,
     "start_time": "2021-10-11T21:25:18.483612",
     "status": "completed"
    },
    "tags": []
   },
   "source": [
    "# R pipeline\n",
    "\n",
    "R pipeline.\n",
    "\n",
    "## Setup environment\n",
    "\n",
    "(**Note**: Skip if running in Binder)\n",
    "\n",
    "~~~sh\n",
    "# if using conda (installs R in the virtual env)\n",
    "conda env create --file environment.yaml\n",
    "conda activate spec-api-r\n",
    "\n",
    "# if using pip, you need to install R manual and set up the IRKernel\n",
    "# package manually: https://github.com/IRkernel/IRkernel, then\n",
    "pip install -r requirements.txt\n",
    "~~~\n",
    "\n",
    "## Pipeline description\n",
    "\n",
    "This pipeline contains three tasks. The last task generates a plot. To get the\n",
    "pipeline description:"
   ]
  },
  {
   "cell_type": "code",
   "execution_count": 1,
   "id": "01ffef3d",
   "metadata": {
    "execution": {
     "iopub.execute_input": "2021-10-11T21:25:18.542951Z",
     "iopub.status.busy": "2021-10-11T21:25:18.542045Z",
     "iopub.status.idle": "2021-10-11T21:25:21.600204Z",
     "shell.execute_reply": "2021-10-11T21:25:21.600822Z"
    },
    "papermill": {
     "duration": 3.08336,
     "end_time": "2021-10-11T21:25:21.601195",
     "exception": false,
     "start_time": "2021-10-11T21:25:18.517835",
     "status": "completed"
    },
    "tags": [
     "bash"
    ]
   },
   "outputs": [
    {
     "name": "stdout",
     "output_type": "stream",
     "text": [
      "name    Last run      Outdated?    Product       Doc (short)    Location\n",
      "------  ------------  -----------  ------------  -------------  ------------\n",
      "raw     Has not been  Source code  MetaProduct(                 /Users/Edu/d\n",
      "        run                        {'data': Fil                 ev/projects-\n",
      "                                   e('output/ra                 ploomber/spe\n",
      "                                   w.csv'),                     c-\n",
      "                                   'nb': File('                 api-r/raw.R\n",
      "                                   output/raw.i\n",
      "                                   pynb')})\n",
      "clean   Has not been  Source code  MetaProduct(                 /Users/Edu/d\n",
      "        run           & Upstream   {'data': Fil                 ev/projects-\n",
      "                                   e('output/cl                 ploomber/spe\n",
      "                                   ean.csv'),                   c-api-r/clea\n",
      "                                   'nb': File('                 n.R\n",
      "                                   output/clean\n",
      "                                   .ipynb')})\n",
      "plot    Has not been  Source code  File('output                 /Users/Edu/d\n",
      "        run           & Upstream   /plot.ipynb'                 ev/projects-\n",
      "                                   )                            ploomber/spe\n",
      "                                                                c-\n",
      "                                                                api-r/plot.R\n"
     ]
    },
    {
     "name": "stderr",
     "output_type": "stream",
     "text": [
      "100%|██████████| 3/3 [00:00<00:00, 3465.41it/s]\n"
     ]
    }
   ],
   "source": [
    "%%sh\n",
    "ploomber status"
   ]
  },
  {
   "cell_type": "markdown",
   "id": "ae88265d",
   "metadata": {
    "papermill": {
     "duration": 0.019572,
     "end_time": "2021-10-11T21:25:21.639316",
     "exception": false,
     "start_time": "2021-10-11T21:25:21.619744",
     "status": "completed"
    },
    "tags": []
   },
   "source": [
    "## Build the pipeline from the command line"
   ]
  },
  {
   "cell_type": "code",
   "execution_count": 2,
   "id": "e14b89b2",
   "metadata": {
    "execution": {
     "iopub.execute_input": "2021-10-11T21:25:21.680722Z",
     "iopub.status.busy": "2021-10-11T21:25:21.679896Z",
     "iopub.status.idle": "2021-10-11T21:25:30.467789Z",
     "shell.execute_reply": "2021-10-11T21:25:30.466874Z"
    },
    "papermill": {
     "duration": 8.810694,
     "end_time": "2021-10-11T21:25:30.468050",
     "exception": false,
     "start_time": "2021-10-11T21:25:21.657356",
     "status": "completed"
    },
    "tags": [
     "bash"
    ]
   },
   "outputs": [
    {
     "name": "stdout",
     "output_type": "stream",
     "text": [
      "name    Ran?      Elapsed (s)    Percentage\n",
      "------  ------  -------------  ------------\n",
      "raw     True          1.77715       31.2555\n",
      "clean   True          1.47057       25.8635\n",
      "plot    True          2.43817       42.881\n"
     ]
    },
    {
     "name": "stderr",
     "output_type": "stream",
     "text": [
      "mkdir: output: File exists\n",
      "Building task 'raw':   0%|          | 0/3 [00:00<?, ?it/s]\n",
      "Executing:   0%|          | 0/3 [00:00<?, ?cell/s]\u001b[A\n",
      "Executing:  33%|███▎      | 1/3 [00:01<00:03,  1.50s/cell]\u001b[A\n",
      "Executing: 100%|██████████| 3/3 [00:01<00:00,  1.72cell/s]\n",
      "Building task 'clean':  33%|███▎      | 1/3 [00:01<00:03,  1.78s/it]\n",
      "Executing:   0%|          | 0/4 [00:00<?, ?cell/s]\u001b[A\n",
      "Executing:  25%|██▌       | 1/4 [00:01<00:03,  1.15s/cell]\u001b[A\n",
      "Executing: 100%|██████████| 4/4 [00:01<00:00,  2.78cell/s]\n",
      "Building task 'plot':  67%|██████▋   | 2/3 [00:03<00:01,  1.60s/it] \n",
      "Executing:   0%|          | 0/4 [00:00<?, ?cell/s]\u001b[A\n",
      "Executing:  25%|██▌       | 1/4 [00:01<00:04,  1.34s/cell]\u001b[A\n",
      "Executing:  75%|███████▌  | 3/4 [00:01<00:00,  2.48cell/s]\u001b[A\n",
      "Executing: 100%|██████████| 4/4 [00:02<00:00,  1.67cell/s]\n",
      "Building task 'plot': 100%|██████████| 3/3 [00:05<00:00,  1.90s/it]\n"
     ]
    }
   ],
   "source": [
    "%%sh\n",
    "mkdir output\n",
    "ploomber build"
   ]
  },
  {
   "cell_type": "markdown",
   "id": "e1c57657",
   "metadata": {
    "papermill": {
     "duration": 0.020764,
     "end_time": "2021-10-11T21:25:30.509041",
     "exception": false,
     "start_time": "2021-10-11T21:25:30.488277",
     "status": "completed"
    },
    "tags": []
   },
   "source": [
    "Output stored in the ``output/`` directory."
   ]
  }
 ],
 "metadata": {
  "jupytext": {
   "cell_metadata_filter": "tags,-all",
   "main_language": "bash",
   "notebook_metadata_filter": "-all"
  },
  "kernelspec": {
   "display_name": "Python 3 (ipykernel)",
   "language": "python",
   "name": "python3"
  },
  "language_info": {
   "codemirror_mode": {
    "name": "ipython",
    "version": 3
   },
   "file_extension": ".py",
   "mimetype": "text/x-python",
   "name": "python",
   "nbconvert_exporter": "python",
   "pygments_lexer": "ipython3",
   "version": "3.9.7"
  },
  "papermill": {
   "duration": 13.695775,
   "end_time": "2021-10-11T21:25:30.832354",
   "exception": null,
   "input_path": "/var/folders/3h/_lvh_w_x5g30rrjzb_xnn2j80000gq/T/tmp6i7l1g7l.ipynb",
   "output_path": "spec-api-r/README.ipynb",
   "parameters": {
    "product": "spec-api-r/README.ipynb"
   },
   "start_time": "2021-10-11T21:25:17.136579"
  }
 },
 "nbformat": 4,
 "nbformat_minor": 5
}
