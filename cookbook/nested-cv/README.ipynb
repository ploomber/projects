{
 "cells": [
  {
   "cell_type": "markdown",
   "id": "ea2862f8",
   "metadata": {
    "papermill": {
     "duration": 0.023114,
     "end_time": "2022-05-13T23:47:49.945891",
     "exception": false,
     "start_time": "2022-05-13T23:47:49.922777",
     "status": "completed"
    },
    "tags": []
   },
   "source": [
    "To run this locally, [install Ploomber](https://docs.ploomber.io/en/latest/get-started/quick-start.html) and execute: `ploomber examples -n cookbook/nested-cv`\n",
    "\n",
    "Found an issue? [Let us know.](https://github.com/ploomber/projects/issues/new?title=cookbook/nested-cv%20issue)\n",
    "\n",
    "Questions? [Ask us on Slack.](https://ploomber.io/community/)\n"
   ]
  },
  {
   "cell_type": "markdown",
   "id": "29c189ec",
   "metadata": {
    "papermill": {
     "duration": 0.018049,
     "end_time": "2022-05-13T23:47:49.981855",
     "exception": false,
     "start_time": "2022-05-13T23:47:49.963806",
     "status": "completed"
    },
    "tags": []
   },
   "source": [
    "# Nested cross-validation\n",
    "\n",
    "<!-- start description -->\n",
    "Nested cross-validation for model selection and hyperparameter tuning.\n",
    "<!-- end description -->\n",
    "\n",
    "More details in our [blog.](https://ploomber.io/blog/nested-cv/)"
   ]
  },
  {
   "cell_type": "markdown",
   "id": "b95d4052",
   "metadata": {
    "papermill": {
     "duration": 0.018118,
     "end_time": "2022-05-13T23:47:50.017278",
     "exception": false,
     "start_time": "2022-05-13T23:47:49.999160",
     "status": "completed"
    },
    "region_name": "md",
    "tags": []
   },
   "source": [
    "```yaml\n",
    "# Content of pipeline.yaml\n",
    "executor: parallel\n",
    "\n",
    "tasks:\n",
    "  - source: tasks/load.py\n",
    "    product:\n",
    "      nb: products/load.html\n",
    "      data: products/data.csv\n",
    "\n",
    "  - source: tasks/fit.py\n",
    "    name: fit-\n",
    "    product:\n",
    "      nb: products/fit.html\n",
    "      model: products/model.pkl\n",
    "    grid:\n",
    "      - model: sklearn.ensemble.RandomForestClassifier\n",
    "        model_params:\n",
    "          # optimize over these parameters\n",
    "          - n_estimators: [2, 5]\n",
    "            criterion: [gini, entropy]\n",
    "    \n",
    "      - model: sklearn.svm.SVC\n",
    "        model_params:\n",
    "          # optimize over these parameters\n",
    "          - kernel: [linear, poly]\n",
    "            C: [0.1, 1.0]\n",
    "      \n",
    "      \n",
    "\n",
    "```"
   ]
  },
  {
   "cell_type": "markdown",
   "id": "041e02a3",
   "metadata": {
    "papermill": {
     "duration": 0.015552,
     "end_time": "2022-05-13T23:47:50.049072",
     "exception": false,
     "start_time": "2022-05-13T23:47:50.033520",
     "status": "completed"
    },
    "tags": []
   },
   "source": [
    "Plot:"
   ]
  },
  {
   "cell_type": "code",
   "execution_count": 1,
   "id": "5a5b327d",
   "metadata": {
    "execution": {
     "iopub.execute_input": "2022-05-13T23:47:50.089084Z",
     "iopub.status.busy": "2022-05-13T23:47:50.088261Z",
     "iopub.status.idle": "2022-05-13T23:47:54.594858Z",
     "shell.execute_reply": "2022-05-13T23:47:54.595442Z"
    },
    "papermill": {
     "duration": 4.530827,
     "end_time": "2022-05-13T23:47:54.595735",
     "exception": false,
     "start_time": "2022-05-13T23:47:50.064908",
     "status": "completed"
    },
    "tags": []
   },
   "outputs": [
    {
     "name": "stdout",
     "output_type": "stream",
     "text": [
      "Loading pipeline...\n",
      "Plot saved at: pipeline.html\n"
     ]
    },
    {
     "name": "stderr",
     "output_type": "stream",
     "text": [
      "100%|██████████| 3/3 [00:00<00:00, 3416.48it/s]\n"
     ]
    }
   ],
   "source": [
    "%%sh\n",
    "ploomber plot"
   ]
  },
  {
   "cell_type": "markdown",
   "id": "be0e20f3",
   "metadata": {
    "papermill": {
     "duration": 0.018217,
     "end_time": "2022-05-13T23:47:54.634587",
     "exception": false,
     "start_time": "2022-05-13T23:47:54.616370",
     "status": "completed"
    },
    "tags": []
   },
   "source": [
    "Display the pipeline:"
   ]
  },
  {
   "cell_type": "code",
   "execution_count": 2,
   "id": "14686503",
   "metadata": {
    "execution": {
     "iopub.execute_input": "2022-05-13T23:47:54.676093Z",
     "iopub.status.busy": "2022-05-13T23:47:54.675126Z",
     "iopub.status.idle": "2022-05-13T23:47:54.686410Z",
     "shell.execute_reply": "2022-05-13T23:47:54.686929Z"
    },
    "papermill": {
     "duration": 0.035154,
     "end_time": "2022-05-13T23:47:54.687167",
     "exception": false,
     "start_time": "2022-05-13T23:47:54.652013",
     "status": "completed"
    },
    "tags": []
   },
   "outputs": [
    {
     "data": {
      "image/png": "[encoded data removed]",
      "text/plain": [
       "<IPython.core.display.Image object>"
      ]
     },
     "execution_count": 2,
     "metadata": {},
     "output_type": "execute_result"
    }
   ],
   "source": [
    "from IPython.display import Image\n",
    "Image('pipeline.png')\n",
    "# NOTE: ploomber plot will generate a pipeline.html (not .png) file if\n",
    "# pygraphviz is missing. In such case, open the file to view the pipeline plot"
   ]
  },
  {
   "cell_type": "markdown",
   "id": "d54b1e83",
   "metadata": {
    "papermill": {
     "duration": 0.018657,
     "end_time": "2022-05-13T23:47:54.723885",
     "exception": false,
     "start_time": "2022-05-13T23:47:54.705228",
     "status": "completed"
    },
    "tags": []
   },
   "source": [
    "Run the pipeline:"
   ]
  },
  {
   "cell_type": "code",
   "execution_count": 3,
   "id": "d1545ec0",
   "metadata": {
    "execution": {
     "iopub.execute_input": "2022-05-13T23:47:54.766883Z",
     "iopub.status.busy": "2022-05-13T23:47:54.763263Z",
     "iopub.status.idle": "2022-05-13T23:48:16.301256Z",
     "shell.execute_reply": "2022-05-13T23:48:16.301944Z"
    },
    "papermill": {
     "duration": 21.560716,
     "end_time": "2022-05-13T23:48:16.302211",
     "exception": false,
     "start_time": "2022-05-13T23:47:54.741495",
     "status": "completed"
    },
    "tags": []
   },
   "outputs": [
    {
     "name": "stdout",
     "output_type": "stream",
     "text": [
      "Loading pipeline...\n",
      "Finished tasks so far: \n",
      "Remaining tasks: {'load', 'fit-1', 'fit-0'}\n",
      "Finished 0 out of 3 tasks\n",
      "Finished tasks so far: \n",
      "Remaining tasks: {'load', 'fit-1', 'fit-0'}\n",
      "Finished 0 out of 3 tasks\n",
      "Finished tasks so far: \n",
      "Remaining tasks: {'load', 'fit-1', 'fit-0'}\n",
      "Finished 0 out of 3 tasks\n",
      "Finished tasks so far: \n",
      "Remaining tasks: {'load', 'fit-1', 'fit-0'}\n",
      "Finished 0 out of 3 tasks\n",
      "Finished tasks so far: {'load'}\n",
      "Remaining tasks: {'fit-1', 'fit-0'}\n",
      "Finished 1 out of 3 tasks\n",
      "Finished tasks so far: {'load'}\n",
      "Remaining tasks: {'fit-1', 'fit-0'}\n",
      "Finished 1 out of 3 tasks\n",
      "Finished tasks so far: {'load'}\n",
      "Remaining tasks: {'fit-1', 'fit-0'}\n",
      "Finished 1 out of 3 tasks\n",
      "Finished tasks so far: {'load'}\n",
      "Remaining tasks: {'fit-1', 'fit-0'}\n",
      "Finished 1 out of 3 tasks\n",
      "Finished tasks so far: {'load', 'fit-0'}\n",
      "Remaining tasks: {'fit-1'}\n",
      "Finished 2 out of 3 tasks\n",
      "name    Ran?      Elapsed (s)    Percentage\n",
      "------  ------  -------------  ------------\n",
      "load    True          3.48913       23.8055\n",
      "fit-0   True          6.2288        42.4976\n",
      "fit-1   True          4.93891       33.6969\n"
     ]
    },
    {
     "name": "stderr",
     "output_type": "stream",
     "text": [
      "Executing: 100%|██████████| 6/6 [00:03<00:00,  1.95cell/s]\n",
      "Executing: 100%|██████████| 14/14 [00:05<00:00,  2.53cell/s]\n",
      "Executing: 100%|██████████| 14/14 [00:04<00:00,  3.33cell/s]\n"
     ]
    }
   ],
   "source": [
    "%%sh\n",
    "# run this in a terminal\n",
    "ploomber build"
   ]
  }
 ],
 "metadata": {
  "kernelspec": {
   "display_name": "Python 3 (ipykernel)",
   "language": "python",
   "name": "python3"
  },
  "language_info": {
   "codemirror_mode": {
    "name": "ipython",
    "version": 3
   },
   "file_extension": ".py",
   "mimetype": "text/x-python",
   "name": "python",
   "nbconvert_exporter": "python",
   "pygments_lexer": "ipython3",
   "version": "3.10.1"
  },
  "papermill": {
   "default_parameters": {},
   "duration": 28.328008,
   "end_time": "2022-05-13T23:48:16.542447",
   "environment_variables": {},
   "exception": null,
   "input_path": "cookbook/nested-cv/_build/readme_preprocessed.ipynb",
   "output_path": "cookbook/nested-cv/README.ipynb",
   "parameters": {},
   "start_time": "2022-05-13T23:47:48.214439",
   "version": "2.3.4"
  }
 },
 "nbformat": 4,
 "nbformat_minor": 5
}
