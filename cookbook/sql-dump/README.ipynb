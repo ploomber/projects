{
 "cells": [
  {
   "cell_type": "markdown",
   "id": "7c021d11",
   "metadata": {
    "papermill": {
     "duration": 0.021593,
     "end_time": "2021-10-28T01:19:41.697253",
     "exception": false,
     "start_time": "2021-10-28T01:19:41.675660",
     "status": "completed"
    },
    "tags": []
   },
   "source": [
    "To run this locally, [install Ploomber](https://docs.ploomber.io/en/latest/get-started/quick-start.html) and execute: `ploomber examples -n cookbook/sql-dump`\n",
    "\n",
    "Found an issue? [Let us know.](https://github.com/ploomber/projects/issues/new?title=cookbook/sql-dump%20issue)\n",
    "\n",
    "Questions? [Ask us on Slack.](https://ploomber.io/community/)\n"
   ]
  },
  {
   "cell_type": "markdown",
   "id": "1b9addd8",
   "metadata": {
    "papermill": {
     "duration": 0.0171,
     "end_time": "2021-10-28T01:19:41.731623",
     "exception": false,
     "start_time": "2021-10-28T01:19:41.714523",
     "status": "completed"
    },
    "tags": []
   },
   "source": [
    "# SQLDump example\n",
    "\n",
    "<!-- start description -->\n",
    "A minimal example showing how to dump a table from a SQL database.\n",
    "<!-- end description -->\n",
    "\n",
    "Create some sample data:"
   ]
  },
  {
   "cell_type": "code",
   "execution_count": 1,
   "id": "5d80881f",
   "metadata": {
    "execution": {
     "iopub.execute_input": "2021-10-28T01:19:41.785515Z",
     "iopub.status.busy": "2021-10-28T01:19:41.783611Z",
     "iopub.status.idle": "2021-10-28T01:19:42.652053Z",
     "shell.execute_reply": "2021-10-28T01:19:42.651078Z"
    },
    "papermill": {
     "duration": 0.901603,
     "end_time": "2021-10-28T01:19:42.653040",
     "exception": false,
     "start_time": "2021-10-28T01:19:41.751437",
     "status": "completed"
    },
    "tags": []
   },
   "outputs": [],
   "source": [
    "from sqlalchemy import create_engine\n",
    "import pandas as pd\n",
    "\n",
    "df = pd.DataFrame({'numbers': range(10)})\n",
    "\n",
    "engine = create_engine('sqlite:///my.db')\n",
    "\n",
    "df.to_sql('my_numbers', engine, if_exists='replace')"
   ]
  },
  {
   "cell_type": "markdown",
   "id": "80dbaf66",
   "metadata": {
    "papermill": {
     "duration": 0.012216,
     "end_time": "2021-10-28T01:19:42.679783",
     "exception": false,
     "start_time": "2021-10-28T01:19:42.667567",
     "status": "completed"
    },
    "tags": []
   },
   "source": [
    "Dump data:"
   ]
  },
  {
   "cell_type": "code",
   "execution_count": 2,
   "id": "d39f73e2",
   "metadata": {
    "execution": {
     "iopub.execute_input": "2021-10-28T01:19:42.713873Z",
     "iopub.status.busy": "2021-10-28T01:19:42.712670Z",
     "iopub.status.idle": "2021-10-28T01:19:47.756488Z",
     "shell.execute_reply": "2021-10-28T01:19:47.757608Z"
    },
    "papermill": {
     "duration": 5.06479,
     "end_time": "2021-10-28T01:19:47.757934",
     "exception": false,
     "start_time": "2021-10-28T01:19:42.693144",
     "status": "completed"
    },
    "tags": []
   },
   "outputs": [
    {
     "name": "stdout",
     "output_type": "stream",
     "text": [
      "name    Ran?      Elapsed (s)    Percentage\n",
      "------  ------  -------------  ------------\n",
      "query   True          0.01706           100\n"
     ]
    },
    {
     "name": "stderr",
     "output_type": "stream",
     "text": [
      "Building task 'query': 100%|██████████| 1/1 [00:00<00:00, 42.69it/s]\n"
     ]
    }
   ],
   "source": [
    "%%sh\n",
    "ploomber build"
   ]
  }
 ],
 "metadata": {
  "kernelspec": {
   "display_name": "Python 3 (ipykernel)",
   "language": "python",
   "name": "python3"
  },
  "language_info": {
   "codemirror_mode": {
    "name": "ipython",
    "version": 3
   },
   "file_extension": ".py",
   "mimetype": "text/x-python",
   "name": "python",
   "nbconvert_exporter": "python",
   "pygments_lexer": "ipython3",
   "version": "3.10.1"
  },
  "papermill": {
   "default_parameters": {},
   "duration": 7.921508,
   "end_time": "2021-10-28T01:19:48.106763",
   "environment_variables": {},
   "exception": null,
   "input_path": "cookbook/sql-dump/_build/readme_preprocessed.ipynb",
   "output_path": "cookbook/sql-dump/README.ipynb",
   "parameters": {},
   "start_time": "2021-10-28T01:19:40.185255",
   "version": "2.3.3"
  }
 },
 "nbformat": 4,
 "nbformat_minor": 5
}
