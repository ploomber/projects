{
 "cells": [
  {
   "cell_type": "markdown",
   "id": "450a27e8",
   "metadata": {
    "papermill": {
     "duration": 0.042855,
     "end_time": "2022-04-16T19:14:24.056471",
     "exception": false,
     "start_time": "2022-04-16T19:14:24.013616",
     "status": "completed"
    },
    "tags": []
   },
   "source": [
    "To run this locally, [install Ploomber](https://docs.ploomber.io/en/latest/get-started/quick-start.html) and execute: `ploomber examples -n cookbook/report-generation`\n",
    "\n",
    "Found an issue? [Let us know.](https://github.com/ploomber/projects/issues/new?title=cookbook/report-generation%20issue)\n",
    "\n",
    "Questions? [Ask us on Slack.](https://ploomber.io/community/)\n"
   ]
  },
  {
   "cell_type": "markdown",
   "id": "2b342096",
   "metadata": {
    "papermill": {
     "duration": 0.037538,
     "end_time": "2022-04-16T19:14:24.132820",
     "exception": false,
     "start_time": "2022-04-16T19:14:24.095282",
     "status": "completed"
    },
    "tags": []
   },
   "source": [
    "# Report generation\n",
    "\n",
    "<!-- start description -->\n",
    "Generating HTML/PDF reports.\n",
    "<!-- end description -->\n",
    "\n",
    "Ploomber makes it simple to generate HTML and PDF reports from notebooks and scripts. To see some examples, go to the `reports/` directory. This cookbook covers several use cases and includes runnable examples.\n",
    "\n",
    "## HTML reports (easiest option)\n",
    "\n",
    "HTML reports are the simplest option as they don't require any extra dependencies. You only need to change the `product` extension to `.html` and Ploomber will do the conversion:"
   ]
  },
  {
   "cell_type": "markdown",
   "id": "359f2854",
   "metadata": {
    "papermill": {
     "duration": 0.036806,
     "end_time": "2022-04-16T19:14:24.208947",
     "exception": false,
     "start_time": "2022-04-16T19:14:24.172141",
     "status": "completed"
    },
    "region_name": "md",
    "tags": []
   },
   "source": [
    "```yaml\n",
    "# Content of pipeline.yaml\n",
    "    # scripts can generate reports\n",
    "    - source: tasks/script.py\n",
    "      name: html-report\n",
    "      product:\n",
    "        nb: reports/report.html\n",
    "        # the task can generate more outputs, list them here\n",
    "```"
   ]
  },
  {
   "cell_type": "markdown",
   "id": "05494e28",
   "metadata": {
    "papermill": {
     "duration": 0.037692,
     "end_time": "2022-04-16T19:14:24.284445",
     "exception": false,
     "start_time": "2022-04-16T19:14:24.246753",
     "status": "completed"
    },
    "tags": []
   },
   "source": [
    "Runnable example:"
   ]
  },
  {
   "cell_type": "markdown",
   "id": "6dac67dd",
   "metadata": {
    "papermill": {
     "duration": 0.036233,
     "end_time": "2022-04-16T19:14:24.358723",
     "exception": false,
     "start_time": "2022-04-16T19:14:24.322490",
     "status": "completed"
    },
    "region_name": "md",
    "tags": []
   },
   "source": [
    "```sh\n",
    "# get example\n",
    "pip install ploomber \"nbconvert[webpdf]\" --upgrade\n",
    "ploomber examples -n cookbook/report-generation -o example\n",
    "cd example\n",
    "\n",
    "# install example dependencies\n",
    "ploomber install\n",
    "\n",
    "# generate HTML report\n",
    "ploomber task html-report\n",
    "```"
   ]
  },
  {
   "cell_type": "markdown",
   "id": "571beeea",
   "metadata": {
    "papermill": {
     "duration": 0.03813,
     "end_time": "2022-04-16T19:14:24.435294",
     "exception": false,
     "start_time": "2022-04-16T19:14:24.397164",
     "status": "completed"
    },
    "tags": []
   },
   "source": [
    "Check out report at `reports/report.html`\n",
    "\n",
    "## PDF reports\n",
    "\n",
    "To generate PDF reports there are two options, using chromium or TeX.\n",
    "\n",
    "### Using chromium (easiest pdf option)\n",
    "\n",
    "To use use chromium, pass `nbconvert_exporter_name: webpdf`"
   ]
  },
  {
   "cell_type": "markdown",
   "id": "b59a0061",
   "metadata": {
    "papermill": {
     "duration": 0.036674,
     "end_time": "2022-04-16T19:14:24.511075",
     "exception": false,
     "start_time": "2022-04-16T19:14:24.474401",
     "status": "completed"
    },
    "region_name": "md",
    "tags": []
   },
   "source": [
    "```yaml\n",
    "# Content of pipeline.yaml\n",
    "    # pdf report example\n",
    "    - source: tasks/script.py\n",
    "      name: webpdf-report\n",
    "      # use the webpdf exporter (supportes embedded charts)\n",
    "      # (it will download chromium if needed)\n",
    "      nbconvert_exporter_name: webpdf\n",
    "      product:\n",
    "        nb: reports/report-webpdf.pdf\n",
    "```"
   ]
  },
  {
   "cell_type": "markdown",
   "id": "d22c3985",
   "metadata": {
    "papermill": {
     "duration": 0.037469,
     "end_time": "2022-04-16T19:14:24.586147",
     "exception": false,
     "start_time": "2022-04-16T19:14:24.548678",
     "status": "completed"
    },
    "tags": []
   },
   "source": [
    "Runnable example:"
   ]
  },
  {
   "cell_type": "markdown",
   "id": "16467caf",
   "metadata": {
    "papermill": {
     "duration": 0.037337,
     "end_time": "2022-04-16T19:14:24.661155",
     "exception": false,
     "start_time": "2022-04-16T19:14:24.623818",
     "status": "completed"
    },
    "region_name": "md",
    "tags": []
   },
   "source": [
    "```sh\n",
    "# get example\n",
    "pip install ploomber \"nbconvert[webpdf]\" --upgrade\n",
    "ploomber examples -n cookbook/report-generation -o example\n",
    "cd example\n",
    "\n",
    "# install example dependencies\n",
    "ploomber install\n",
    "\n",
    "# generate PDF report\n",
    "ploomber task webpdf-report\n",
    "```"
   ]
  },
  {
   "cell_type": "markdown",
   "id": "ded20a16",
   "metadata": {
    "papermill": {
     "duration": 0.036688,
     "end_time": "2022-04-16T19:14:24.734533",
     "exception": false,
     "start_time": "2022-04-16T19:14:24.697845",
     "status": "completed"
    },
    "tags": []
   },
   "source": [
    "Check out report at `reports/report-webpdf.pdf`\n",
    "\n",
    "### Using TeX\n",
    "\n",
    "TeX is the default, to use it, set the product extension to `.pdf`:"
   ]
  },
  {
   "cell_type": "markdown",
   "id": "77355773",
   "metadata": {
    "papermill": {
     "duration": 0.038492,
     "end_time": "2022-04-16T19:14:24.810383",
     "exception": false,
     "start_time": "2022-04-16T19:14:24.771891",
     "status": "completed"
    },
    "region_name": "md",
    "tags": []
   },
   "source": [
    "```yaml\n",
    "# Content of pipeline.yaml\n",
    "    # pdf report example (requires latex)\n",
    "    - source: tasks/script.py\n",
    "      name: pdf-report\n",
    "      # generate pdf report by changing the extension.\n",
    "      product:\n",
    "        nb: reports/report.pdf\n",
    "```"
   ]
  },
  {
   "cell_type": "markdown",
   "id": "5e05a58d",
   "metadata": {
    "papermill": {
     "duration": 0.03964,
     "end_time": "2022-04-16T19:14:24.886497",
     "exception": false,
     "start_time": "2022-04-16T19:14:24.846857",
     "status": "completed"
    },
    "tags": []
   },
   "source": [
    "Runnable example:"
   ]
  },
  {
   "cell_type": "markdown",
   "id": "4f4372b2",
   "metadata": {
    "papermill": {
     "duration": 0.036735,
     "end_time": "2022-04-16T19:14:24.959625",
     "exception": false,
     "start_time": "2022-04-16T19:14:24.922890",
     "status": "completed"
    },
    "region_name": "md",
    "tags": []
   },
   "source": [
    "```sh\n",
    "# get example\n",
    "pip install ploomber \"nbconvert[webpdf]\" --upgrade\n",
    "ploomber examples -n cookbook/report-generation -o example\n",
    "cd example\n",
    "\n",
    "# install example dependencies\n",
    "ploomber install\n",
    "\n",
    "# generate PDF report\n",
    "ploomber task pdf-report\n",
    "```"
   ]
  },
  {
   "cell_type": "markdown",
   "id": "3d97f6a9",
   "metadata": {
    "papermill": {
     "duration": 0.038676,
     "end_time": "2022-04-16T19:14:25.035522",
     "exception": false,
     "start_time": "2022-04-16T19:14:24.996846",
     "status": "completed"
    },
    "tags": []
   },
   "source": [
    "Check out report at `reports/report.pdf`\n",
    "\n",
    "#### Installing TeX\n",
    "\n",
    "For instructions on installing TeX, [see this.](https://www.tug.org/texlive/).\n",
    "\n",
    "TeXLive is a large distribution, as an alternative, you may install BasicTeX. Here are instructions for [macOS](https://www.tug.org/mactex/morepackages.html).\n",
    "\n",
    "Upon BasicTeX installation, you'll need to install a few extra packages:"
   ]
  },
  {
   "cell_type": "markdown",
   "id": "6d859882",
   "metadata": {
    "papermill": {
     "duration": 0.038418,
     "end_time": "2022-04-16T19:14:25.111161",
     "exception": false,
     "start_time": "2022-04-16T19:14:25.072743",
     "status": "completed"
    },
    "region_name": "md",
    "tags": []
   },
   "source": [
    "```sh\n",
    "# Note: if using macOS or Linux, you may need to execute with sudo\n",
    "tlmgr install adjustbox \\\n",
    "  caption \\\n",
    "  collectbox \\\n",
    "  enumitem \\\n",
    "  environ \\\n",
    "  eurosym \\\n",
    "  jknapltx \\\n",
    "  parskip \\\n",
    "  pgf \\\n",
    "  rsfs \\\n",
    "  tcolorbox \\\n",
    "  titling \\\n",
    "  trimspaces \\\n",
    "  ucs \\\n",
    "  ulem \\\n",
    "  upquote \n",
    "```"
   ]
  },
  {
   "cell_type": "markdown",
   "id": "559cc61a",
   "metadata": {
    "papermill": {
     "duration": 0.041003,
     "end_time": "2022-04-16T19:14:25.193825",
     "exception": false,
     "start_time": "2022-04-16T19:14:25.152822",
     "status": "completed"
    },
    "tags": []
   },
   "source": [
    "[Source.](https://github.com/jupyter/nbconvert/issues/1328)\n",
    "\n",
    "## Hiding code\n",
    "\n",
    "In many cases, you want to hide the code so the report only contains tables and charts, you can do so easily with the `exclude_input` option:"
   ]
  },
  {
   "cell_type": "markdown",
   "id": "74a8e5c9",
   "metadata": {
    "papermill": {
     "duration": 0.036857,
     "end_time": "2022-04-16T19:14:25.267551",
     "exception": false,
     "start_time": "2022-04-16T19:14:25.230694",
     "status": "completed"
    },
    "region_name": "md",
    "tags": []
   },
   "source": [
    "```yaml\n",
    "# Content of pipeline.yaml\n",
    "    # notebooks as well\n",
    "    - source: tasks/notebook.ipynb\n",
    "      name: another-html-report\n",
    "      product:\n",
    "        nb: reports/another.html\n",
    "\n",
    "      nbconvert_export_kwargs:\n",
    "        # optionally hide the code from the report\n",
    "        exclude_input: True\n",
    "```"
   ]
  },
  {
   "cell_type": "markdown",
   "id": "d4391e67",
   "metadata": {
    "papermill": {
     "duration": 0.037814,
     "end_time": "2022-04-16T19:14:25.342631",
     "exception": false,
     "start_time": "2022-04-16T19:14:25.304817",
     "status": "completed"
    },
    "tags": []
   },
   "source": [
    "Runnable example:"
   ]
  },
  {
   "cell_type": "markdown",
   "id": "ecfb052f",
   "metadata": {
    "papermill": {
     "duration": 0.036286,
     "end_time": "2022-04-16T19:14:25.417363",
     "exception": false,
     "start_time": "2022-04-16T19:14:25.381077",
     "status": "completed"
    },
    "region_name": "md",
    "tags": []
   },
   "source": [
    "```sh\n",
    "# get example\n",
    "pip install ploomber \"nbconvert[webpdf]\" --upgrade\n",
    "ploomber examples -n cookbook/report-generation -o example\n",
    "cd example\n",
    "\n",
    "# install example dependencies\n",
    "ploomber install\n",
    "\n",
    "# generate HTML report and hide code\n",
    "ploomber task another-html-report\n",
    "```"
   ]
  },
  {
   "cell_type": "markdown",
   "id": "03b76d45",
   "metadata": {
    "papermill": {
     "duration": 0.038752,
     "end_time": "2022-04-16T19:14:25.492642",
     "exception": false,
     "start_time": "2022-04-16T19:14:25.453890",
     "status": "completed"
    },
    "tags": []
   },
   "source": [
    "Check out report at `reports/another.html`\n",
    "\n",
    "## Hiding cells\n",
    "\n",
    "You may want to hide cells from the output notebook selectively. You can do so with the `TagRemovePreprocessor`, which takes a list of tags. Any cells with such tags are excluded:"
   ]
  },
  {
   "cell_type": "markdown",
   "id": "94e1e318",
   "metadata": {
    "papermill": {
     "duration": 0.035759,
     "end_time": "2022-04-16T19:14:25.566099",
     "exception": false,
     "start_time": "2022-04-16T19:14:25.530340",
     "status": "completed"
    },
    "region_name": "md",
    "tags": []
   },
   "source": [
    "```yaml\n",
    "# Content of pipeline.yaml\n",
    "    # notebooks as well\n",
    "    - source: tasks/notebook.ipynb\n",
    "      name: another-html-report\n",
    "      product:\n",
    "        nb: reports/another.html\n",
    "\n",
    "      nbconvert_export_kwargs:\n",
    "        # optionally hide the code from the report\n",
    "        exclude_input: True\n",
    "      \n",
    "        # optionally, exclude cells with certain tags\n",
    "        config:\n",
    "          HTMLExporter:\n",
    "            preprocessors: [nbconvert.preprocessors.TagRemovePreprocessor]\n",
    "          TagRemovePreprocessor:\n",
    "            remove_cell_tags: [boxplot]\n",
    "```"
   ]
  },
  {
   "cell_type": "markdown",
   "id": "7e8a60c2",
   "metadata": {
    "papermill": {
     "duration": 0.037435,
     "end_time": "2022-04-16T19:14:25.642133",
     "exception": false,
     "start_time": "2022-04-16T19:14:25.604698",
     "status": "completed"
    },
    "tags": []
   },
   "source": [
    "To learn how to add cell tags, [see this.](https://ploomber.io/s/tags)\n",
    "\n",
    "Runnable example:"
   ]
  },
  {
   "cell_type": "markdown",
   "id": "dd273bf4",
   "metadata": {
    "papermill": {
     "duration": 0.035823,
     "end_time": "2022-04-16T19:14:25.715039",
     "exception": false,
     "start_time": "2022-04-16T19:14:25.679216",
     "status": "completed"
    },
    "region_name": "md",
    "tags": []
   },
   "source": [
    "```sh\n",
    "# get example\n",
    "pip install ploomber \"nbconvert[webpdf]\" --upgrade\n",
    "ploomber examples -n cookbook/report-generation -o example\n",
    "cd example\n",
    "\n",
    "# install example dependencies\n",
    "ploomber install\n",
    "\n",
    "# generate HTML report and hide boxplot\n",
    "ploomber task another-html-report\n",
    "```"
   ]
  },
  {
   "cell_type": "markdown",
   "id": "727144f4",
   "metadata": {
    "papermill": {
     "duration": 0.036878,
     "end_time": "2022-04-16T19:14:25.789192",
     "exception": false,
     "start_time": "2022-04-16T19:14:25.752314",
     "status": "completed"
    },
    "tags": []
   },
   "source": [
    "Check out report at `reports/another.html`"
   ]
  }
 ],
 "metadata": {
  "kernelspec": {
   "display_name": "Python 3 (ipykernel)",
   "language": "python",
   "name": "python3"
  },
  "language_info": {
   "codemirror_mode": {
    "name": "ipython",
    "version": 3
   },
   "file_extension": ".py",
   "mimetype": "text/x-python",
   "name": "python",
   "nbconvert_exporter": "python",
   "pygments_lexer": "ipython3",
   "version": "3.10.1"
  },
  "papermill": {
   "default_parameters": {},
   "duration": 6.501162,
   "end_time": "2022-04-16T19:14:28.654307",
   "environment_variables": {},
   "exception": null,
   "input_path": "cookbook/report-generation/_build/readme_preprocessed.ipynb",
   "output_path": "cookbook/report-generation/README.ipynb",
   "parameters": {},
   "start_time": "2022-04-16T19:14:22.153145",
   "version": "2.3.4"
  }
 },
 "nbformat": 4,
 "nbformat_minor": 5
}
