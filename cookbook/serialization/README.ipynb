{
 "cells": [
  {
   "cell_type": "markdown",
   "id": "380d387b",
   "metadata": {
    "papermill": {
     "duration": 0.011196,
     "end_time": "2021-10-28T01:19:51.016100",
     "exception": false,
     "start_time": "2021-10-28T01:19:51.004904",
     "status": "completed"
    },
    "tags": []
   },
   "source": [
    "To run this locally, [install Ploomber](https://docs.ploomber.io/en/latest/get-started/quick-start.html) and execute: `ploomber examples -n cookbook/serialization`\n",
    "\n",
    "Found an issue? [Let us know.](https://github.com/ploomber/projects/issues/new?title=cookbook/serialization%20issue)\n",
    "\n",
    "Questions? [Ask us on Slack.](https://ploomber.io/community/)\n"
   ]
  },
  {
   "cell_type": "markdown",
   "id": "ce05abd3",
   "metadata": {
    "papermill": {
     "duration": 0.009505,
     "end_time": "2021-10-28T01:19:51.033935",
     "exception": false,
     "start_time": "2021-10-28T01:19:51.024430",
     "status": "completed"
    },
    "tags": []
   },
   "source": [
    "# Serializer and unserializer\n",
    "\n",
    "<!-- start description -->\n",
    "Shows how to use the serializer and unserializer decorators.\n",
    "<!-- end description -->\n",
    "\n",
    "To execute the pipeline:"
   ]
  },
  {
   "cell_type": "code",
   "execution_count": 1,
   "id": "7ccda91a",
   "metadata": {
    "execution": {
     "iopub.execute_input": "2021-10-28T01:19:51.062833Z",
     "iopub.status.busy": "2021-10-28T01:19:51.061756Z",
     "iopub.status.idle": "2021-10-28T01:20:14.168265Z",
     "shell.execute_reply": "2021-10-28T01:20:14.168919Z"
    },
    "papermill": {
     "duration": 23.127238,
     "end_time": "2021-10-28T01:20:14.169227",
     "exception": false,
     "start_time": "2021-10-28T01:19:51.041989",
     "status": "completed"
    },
    "tags": []
   },
   "outputs": [
    {
     "name": "stdout",
     "output_type": "stream",
     "text": [
      "name            Ran?      Elapsed (s)    Percentage\n",
      "--------------  ------  -------------  ------------\n",
      "one_product     True         0.001848       7.11399\n",
      "many_products   True         0.010413      40.0855\n",
      "joblib_product  True         0.005973      22.9934\n",
      "final_product   True         0.007743      29.8071\n"
     ]
    },
    {
     "name": "stderr",
     "output_type": "stream",
     "text": [
      "Building task 'final_product': 100%|██████████| 4/4 [00:18<00:00,  4.75s/it] \n"
     ]
    }
   ],
   "source": [
    "%%sh\n",
    "ploomber build"
   ]
  }
 ],
 "metadata": {
  "kernelspec": {
   "display_name": "Python 3 (ipykernel)",
   "language": "python",
   "name": "python3"
  },
  "language_info": {
   "codemirror_mode": {
    "name": "ipython",
    "version": 3
   },
   "file_extension": ".py",
   "mimetype": "text/x-python",
   "name": "python",
   "nbconvert_exporter": "python",
   "pygments_lexer": "ipython3",
   "version": "3.10.1"
  },
  "papermill": {
   "default_parameters": {},
   "duration": 26.11565,
   "end_time": "2021-10-28T01:20:14.396208",
   "environment_variables": {},
   "exception": null,
   "input_path": "cookbook/serialization/_build/readme_preprocessed.ipynb",
   "output_path": "cookbook/serialization/README.ipynb",
   "parameters": {},
   "start_time": "2021-10-28T01:19:48.280558",
   "version": "2.3.3"
  }
 },
 "nbformat": 4,
 "nbformat_minor": 5
}
