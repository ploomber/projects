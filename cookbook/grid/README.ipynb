{
 "cells": [
  {
   "cell_type": "markdown",
   "id": "4edaf703",
   "metadata": {
    "papermill": {
     "duration": 0.016245,
     "end_time": "2022-05-12T02:31:57.865826",
     "exception": false,
     "start_time": "2022-05-12T02:31:57.849581",
     "status": "completed"
    },
    "tags": []
   },
   "source": [
    "To run this locally, [install Ploomber](https://docs.ploomber.io/en/latest/get-started/quick-start.html) and execute: `ploomber examples -n cookbook/grid`\n",
    "\n",
    "Found an issue? [Let us know.](https://github.com/ploomber/projects/issues/new?title=cookbook/grid%20issue)\n",
    "\n",
    "Questions? [Ask us on Slack.](https://ploomber.io/community/)\n"
   ]
  },
  {
   "cell_type": "markdown",
   "id": "e5b8b827",
   "metadata": {
    "papermill": {
     "duration": 0.010506,
     "end_time": "2022-05-12T02:31:57.886687",
     "exception": false,
     "start_time": "2022-05-12T02:31:57.876181",
     "status": "completed"
    },
    "tags": []
   },
   "source": [
    "# Task grids\n",
    "\n",
    "<!-- start description -->\n",
    "An example showing how to create a grid of tasks to train models with different parameters.\n",
    "<!-- end description -->"
   ]
  },
  {
   "cell_type": "markdown",
   "id": "75da99fb",
   "metadata": {
    "papermill": {
     "duration": 0.010126,
     "end_time": "2022-05-12T02:31:57.906567",
     "exception": false,
     "start_time": "2022-05-12T02:31:57.896441",
     "status": "completed"
    },
    "region_name": "md",
    "tags": []
   },
   "source": [
    "```yaml\n",
    "# Content of pipeline.yaml\n",
    "  - source: scripts/fit.py\n",
    "    # generates tasks fit-1, fit-2, etc\n",
    "    name: fit-\n",
    "    # disabling static_analysis because the notebook does not have\n",
    "    # a fixed set of parameters (depends on random-forest vs ada-boost)\n",
    "    static_analysis: disable\n",
    "    product:\n",
    "      nb: products/report.html\n",
    "      model: products/model.pickle\n",
    "    grid:\n",
    "      # generates 6 tasks (1 * 3 * 2)\n",
    "      - model_type: [random-forest]\n",
    "        n_estimators: [1, 3, 5]\n",
    "        criterion: [gini, entropy]\n",
    "\n",
    "      # generates 6 tasks (1 * 3 * 2)\n",
    "      - model_type: [ada-boost]\n",
    "        n_estimators: [1, 3, 5]\n",
    "        learning_rate: [1, 2]\n",
    "```"
   ]
  },
  {
   "cell_type": "markdown",
   "id": "5fa9ca31",
   "metadata": {
    "papermill": {
     "duration": 0.009404,
     "end_time": "2022-05-12T02:31:57.925616",
     "exception": false,
     "start_time": "2022-05-12T02:31:57.916212",
     "status": "completed"
    },
    "tags": []
   },
   "source": [
    "Run the pipeline:"
   ]
  },
  {
   "cell_type": "code",
   "execution_count": 1,
   "id": "49c3153e",
   "metadata": {
    "execution": {
     "iopub.execute_input": "2022-05-12T02:31:57.953924Z",
     "iopub.status.busy": "2022-05-12T02:31:57.952970Z",
     "iopub.status.idle": "2022-05-12T02:32:38.923063Z",
     "shell.execute_reply": "2022-05-12T02:32:38.921840Z"
    },
    "papermill": {
     "duration": 40.987799,
     "end_time": "2022-05-12T02:32:38.923413",
     "exception": false,
     "start_time": "2022-05-12T02:31:57.935614",
     "status": "completed"
    },
    "tags": []
   },
   "outputs": [
    {
     "name": "stdout",
     "output_type": "stream",
     "text": [
      "Loading pipeline...\n",
      "There's a new Ploomber version available (0.19), you're running 0.19.1dev. To upgrade: pip install ploomber --upgrade\n",
      "Finished tasks so far: \n",
      "Remaining tasks: {'petal', 'fit-11', 'fit-3', 'fit-0', 'fit-7', 'fit-6', 'fit-8', 'fit-1', 'features', 'sepal', 'fit-2', 'get', 'fit-5', 'fit-4', 'fit-10', 'fit-9'}\n",
      "Finished 0 out of 16 tasks\n",
      "Finished tasks so far: {'sepal', 'petal', 'features', 'get'}\n",
      "Remaining tasks: {'fit-6', 'fit-8', 'fit-1', 'fit-11', 'fit-3', 'fit-2', 'fit-5', 'fit-10', 'fit-4', 'fit-9', 'fit-0', 'fit-7'}\n",
      "Finished 4 out of 16 tasks\n",
      "Finished tasks so far: {'fit-6', 'petal', 'fit-1', 'features', 'fit-8', 'sepal', 'fit-3', 'fit-2', 'get', 'fit-5', 'fit-4', 'fit-0', 'fit-7'}\n",
      "Remaining tasks: {'fit-9', 'fit-11', 'fit-10'}\n",
      "Finished 13 out of 16 tasks\n",
      "name      Ran?      Elapsed (s)    Percentage\n",
      "--------  ------  -------------  ------------\n",
      "get       True         0.009917    0.00967402\n",
      "sepal     True         0.004341    0.00423464\n",
      "petal     True         0.003918    0.00382201\n",
      "features  True         0.008536    0.00832686\n",
      "fit-1     True         9.99644     9.75152\n",
      "fit-0     True         9.67762     9.44051\n",
      "fit-2     True         9.9401      9.69656\n",
      "fit-3     True         9.92223     9.67913\n",
      "fit-4     True         9.90961     9.66681\n",
      "fit-5     True         9.96977     9.7255\n",
      "fit-6     True        10.0567      9.81028\n",
      "fit-7     True         9.94985     9.70606\n",
      "fit-8     True         8.57739     8.36723\n",
      "fit-9     True         4.76353     4.64682\n",
      "fit-10    True         4.74373     4.6275\n",
      "fit-11    True         4.97798     4.85602\n"
     ]
    },
    {
     "name": "stderr",
     "output_type": "stream",
     "text": [
      "Executing: 100%|██████████| 11/11 [00:07<00:00,  1.41cell/s]\n",
      "Executing: 100%|██████████| 11/11 [00:07<00:00,  1.38cell/s]\n",
      "Executing: 100%|██████████| 11/11 [00:08<00:00,  1.37cell/s]\n",
      "Executing: 100%|██████████| 11/11 [00:08<00:00,  1.37cell/s]\n",
      "Executing: 100%|██████████| 11/11 [00:08<00:00,  1.37cell/s]\n",
      "Executing: 100%|██████████| 11/11 [00:08<00:00,  1.36cell/s]\n",
      "Executing: 100%|██████████| 11/11 [00:08<00:00,  1.36cell/s]\n",
      "Executing: 100%|██████████| 11/11 [00:08<00:00,  1.36cell/s]\n",
      "Executing: 100%|██████████| 11/11 [00:06<00:00,  1.59cell/s]\n",
      "Executing: 100%|██████████| 11/11 [00:03<00:00,  2.85cell/s]\n",
      "Executing: 100%|██████████| 11/11 [00:03<00:00,  2.84cell/s]\n",
      "Executing: 100%|██████████| 11/11 [00:04<00:00,  2.65cell/s]\n"
     ]
    }
   ],
   "source": [
    "%%sh\n",
    "ploomber build"
   ]
  }
 ],
 "metadata": {
  "kernelspec": {
   "display_name": "Python 3 (ipykernel)",
   "language": "python",
   "name": "python3"
  },
  "language_info": {
   "codemirror_mode": {
    "name": "ipython",
    "version": 3
   },
   "file_extension": ".py",
   "mimetype": "text/x-python",
   "name": "python",
   "nbconvert_exporter": "python",
   "pygments_lexer": "ipython3",
   "version": "3.10.1"
  },
  "papermill": {
   "default_parameters": {},
   "duration": 43.009111,
   "end_time": "2022-05-12T02:32:39.153893",
   "environment_variables": {},
   "exception": null,
   "input_path": "cookbook/grid/_build/readme_preprocessed.ipynb",
   "output_path": "cookbook/grid/README.ipynb",
   "parameters": {},
   "start_time": "2022-05-12T02:31:56.144782",
   "version": "2.3.4"
  }
 },
 "nbformat": 4,
 "nbformat_minor": 5
}
