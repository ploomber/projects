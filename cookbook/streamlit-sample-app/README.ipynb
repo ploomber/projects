{
 "cells": [
  {
   "cell_type": "markdown",
   "id": "58a96097",
   "metadata": {
    "papermill": {
     "duration": 0.011186,
     "end_time": "2022-04-05T09:21:38.859203",
     "exception": false,
     "start_time": "2022-04-05T09:21:38.848017",
     "status": "completed"
    },
    "tags": []
   },
   "source": [
    "To run this locally, [install Ploomber](https://docs.ploomber.io/en/latest/get-started/quick-start.html) and execute: `ploomber examples -n cookbook/streamlit-sample-app`\n",
    "\n",
    "Found an issue? [Let us know.](https://github.com/ploomber/projects/issues/new?title=cookbook/streamlit-sample-app%20issue)\n",
    "\n",
    "Questions? [Ask us on Slack.](https://ploomber.io/community/)\n"
   ]
  },
  {
   "cell_type": "markdown",
   "id": "d17b3f9b",
   "metadata": {
    "papermill": {
     "duration": 0.003371,
     "end_time": "2022-04-05T09:21:38.866569",
     "exception": false,
     "start_time": "2022-04-05T09:21:38.863198",
     "status": "completed"
    },
    "tags": []
   },
   "source": [
    "# Streamlit sample integration\n",
    "\n",
    "<!-- start description -->\n",
    "Sample pipeline to profile penguins data, raw and clean.\n",
    "Once the pipeline is ready you can launch the streamlit application to \n",
    "visualize the results.\n",
    "<!-- end description -->\n",
    "\n",
    "It contains two tasks, get and clean the data:"
   ]
  },
  {
   "cell_type": "markdown",
   "id": "83708c49",
   "metadata": {
    "papermill": {
     "duration": 0.002577,
     "end_time": "2022-04-05T09:21:38.872218",
     "exception": false,
     "start_time": "2022-04-05T09:21:38.869641",
     "status": "completed"
    },
    "region_name": "md",
    "tags": []
   },
   "source": [
    "```yaml\n",
    "# Content of pipeline.yaml\n",
    "tasks:\n",
    "  - source: scripts/get.py\n",
    "    product:\n",
    "      nb: products/get.html\n",
    "      data: products/raw.csv\n",
    "\n",
    "  - source: scripts/clean.py\n",
    "    product:\n",
    "      nb: products/clean.html\n",
    "      data: products/clean.csv\n",
    "\n",
    "```"
   ]
  },
  {
   "cell_type": "markdown",
   "id": "73c47b2b",
   "metadata": {
    "papermill": {
     "duration": 0.002237,
     "end_time": "2022-04-05T09:21:38.878446",
     "exception": false,
     "start_time": "2022-04-05T09:21:38.876209",
     "status": "completed"
    },
    "tags": []
   },
   "source": [
    "Generate the plot (note that this requires `pygraphviz`, you can skip this if you want):"
   ]
  },
  {
   "cell_type": "markdown",
   "id": "1c99663e",
   "metadata": {
    "lines_to_next_cell": 2,
    "papermill": {
     "duration": 0.002509,
     "end_time": "2022-04-05T09:21:38.883696",
     "exception": false,
     "start_time": "2022-04-05T09:21:38.881187",
     "status": "completed"
    },
    "region_name": "md",
    "tags": []
   },
   "source": [
    "```sh\n",
    "ploomber plot\n",
    "```"
   ]
  },
  {
   "cell_type": "markdown",
   "id": "56b11c33",
   "metadata": {
    "papermill": {
     "duration": 0.001922,
     "end_time": "2022-04-05T09:21:38.888793",
     "exception": false,
     "start_time": "2022-04-05T09:21:38.886871",
     "status": "completed"
    },
    "tags": []
   },
   "source": [
    "Open the `pipeline.png` file to see the diagram.\n",
    "\n",
    "## Build pipeline"
   ]
  },
  {
   "cell_type": "code",
   "execution_count": 1,
   "id": "106b916a",
   "metadata": {
    "execution": {
     "iopub.execute_input": "2022-04-05T09:21:38.894079Z",
     "iopub.status.busy": "2022-04-05T09:21:38.893588Z",
     "iopub.status.idle": "2022-04-05T09:21:49.095486Z",
     "shell.execute_reply": "2022-04-05T09:21:49.094757Z"
    },
    "papermill": {
     "duration": 10.207159,
     "end_time": "2022-04-05T09:21:49.097686",
     "exception": false,
     "start_time": "2022-04-05T09:21:38.890527",
     "status": "completed"
    },
    "tags": []
   },
   "outputs": [
    {
     "name": "stdout",
     "output_type": "stream",
     "text": [
      "Loading pipeline...\n",
      "name    Ran?      Elapsed (s)    Percentage\n",
      "------  ------  -------------  ------------\n",
      "get     True          3.65958       63.8822\n",
      "clean   True          2.06906       36.1178\n"
     ]
    },
    {
     "name": "stderr",
     "output_type": "stream",
     "text": [
      "Building task 'get':   0%|          | 0/2 [00:00<?, ?it/s]\n",
      "Executing:   0%|          | 0/6 [00:00<?, ?cell/s]\u001b[A\n",
      "Executing:  17%|█▋        | 1/6 [00:00<00:04,  1.03cell/s]\u001b[A\n",
      "Executing: 100%|██████████| 6/6 [00:03<00:00,  1.80cell/s]\u001b[A\n",
      "Building task 'clean':  50%|█████     | 1/2 [00:03<00:03,  3.66s/it]\n",
      "Executing:   0%|          | 0/10 [00:00<?, ?cell/s]\u001b[A\n",
      "Executing:  10%|█         | 1/10 [00:00<00:08,  1.03cell/s]\u001b[A\n",
      "Executing: 100%|██████████| 10/10 [00:01<00:00,  5.69cell/s][A\n",
      "Building task 'clean': 100%|██████████| 2/2 [00:05<00:00,  2.87s/it]\n"
     ]
    }
   ],
   "source": [
    "%%sh\n",
    "ploomber build"
   ]
  },
  {
   "cell_type": "markdown",
   "id": "68aa9486",
   "metadata": {
    "lines_to_next_cell": 0,
    "papermill": {
     "duration": 0.001695,
     "end_time": "2022-04-05T09:21:49.101428",
     "exception": false,
     "start_time": "2022-04-05T09:21:49.099733",
     "status": "completed"
    },
    "tags": []
   },
   "source": [
    "Each task generates a CSV data file, go to the `products/` directory after\n",
    "building the pipeline to see them.\n",
    "\n",
    "Now we'll run the webapp (it takes ~1 minute)"
   ]
  },
  {
   "cell_type": "code",
   "execution_count": 2,
   "id": "5bc4550c",
   "metadata": {
    "execution": {
     "iopub.execute_input": "2022-04-05T09:21:49.107574Z",
     "iopub.status.busy": "2022-04-05T09:21:49.106817Z",
     "iopub.status.idle": "2022-04-05T09:21:49.121817Z",
     "shell.execute_reply": "2022-04-05T09:21:49.121077Z"
    },
    "papermill": {
     "duration": 0.020895,
     "end_time": "2022-04-05T09:21:49.123996",
     "exception": false,
     "start_time": "2022-04-05T09:21:49.103101",
     "status": "completed"
    },
    "tags": []
   },
   "outputs": [],
   "source": [
    "%%sh\n",
    "# streamlit run st_app.py"
   ]
  },
  {
   "cell_type": "markdown",
   "id": "a1b34f5b",
   "metadata": {
    "papermill": {
     "duration": 0.001669,
     "end_time": "2022-04-05T09:21:49.127697",
     "exception": false,
     "start_time": "2022-04-05T09:21:49.126028",
     "status": "completed"
    },
    "tags": []
   },
   "source": [
    "Once it's done, it'll load the reports into the localhost and you can view your dashboard."
   ]
  }
 ],
 "metadata": {
  "kernelspec": {
   "display_name": "Python 3 (ipykernel)",
   "language": "python",
   "name": "python3"
  },
  "language_info": {
   "codemirror_mode": {
    "name": "ipython",
    "version": 3
   },
   "file_extension": ".py",
   "mimetype": "text/x-python",
   "name": "python",
   "nbconvert_exporter": "python",
   "pygments_lexer": "ipython3",
   "version": "3.10.1"
  },
  "papermill": {
   "default_parameters": {},
   "duration": 11.686807,
   "end_time": "2022-04-05T09:21:49.361794",
   "environment_variables": {},
   "exception": null,
   "input_path": "cookbook/streamlit-sample-app/_build/readme_preprocessed.ipynb",
   "output_path": "cookbook/streamlit-sample-app/README.ipynb",
   "parameters": {},
   "start_time": "2022-04-05T09:21:37.674987",
   "version": "2.3.4"
  }
 },
 "nbformat": 4,
 "nbformat_minor": 5
}
