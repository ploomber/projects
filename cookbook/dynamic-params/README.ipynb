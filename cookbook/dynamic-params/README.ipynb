{
 "cells": [
  {
   "cell_type": "markdown",
   "id": "1b1d8de7",
   "metadata": {
    "papermill": {
     "duration": 0.03828,
     "end_time": "2021-10-28T01:20:16.106415",
     "exception": false,
     "start_time": "2021-10-28T01:20:16.068135",
     "status": "completed"
    },
    "tags": []
   },
   "source": [
    "To run this locally, [install Ploomber](https://docs.ploomber.io/en/latest/get-started/quick-start.html) and execute: `ploomber examples -n cookbook/dynamic-params`\n",
    "\n",
    "Found an issue? [Let us know.](https://github.com/ploomber/projects/issues/new?title=cookbook/dynamic-params%20issue)\n",
    "\n",
    "Questions? [Ask us on Slack.](https://ploomber.io/community/)\n"
   ]
  },
  {
   "cell_type": "markdown",
   "id": "fe31147b",
   "metadata": {
    "papermill": {
     "duration": 0.034566,
     "end_time": "2021-10-28T01:20:16.187989",
     "exception": false,
     "start_time": "2021-10-28T01:20:16.153423",
     "status": "completed"
    },
    "tags": []
   },
   "source": [
    "# Dynamic params\n",
    "\n",
    "<!-- start description -->\n",
    "Pipeline parameters whose values are computed at runtime.\n",
    "<!-- end description -->\n",
    "\n",
    "Run the pipeline:"
   ]
  },
  {
   "cell_type": "code",
   "execution_count": 1,
   "id": "3cf4102b",
   "metadata": {
    "execution": {
     "iopub.execute_input": "2021-10-28T01:20:16.260742Z",
     "iopub.status.busy": "2021-10-28T01:20:16.259904Z",
     "iopub.status.idle": "2021-10-28T01:20:26.621597Z",
     "shell.execute_reply": "2021-10-28T01:20:26.623338Z"
    },
    "papermill": {
     "duration": 10.402145,
     "end_time": "2021-10-28T01:20:26.623834",
     "exception": false,
     "start_time": "2021-10-28T01:20:16.221689",
     "status": "completed"
    },
    "tags": []
   },
   "outputs": [
    {
     "name": "stderr",
     "output_type": "stream",
     "text": [
      "Building task 'script':  50%|█████     | 1/2 [00:03<00:03,  3.22s/it]     \n",
      "Executing:   0%|          | 0/4 [00:00<?, ?cell/s]\u001b[A\n",
      "Executing:  25%|██▌       | 1/4 [00:01<00:05,  1.93s/cell]\u001b[A\n",
      "Executing: 100%|██████████| 4/4 [00:02<00:00,  1.78cell/s]\u001b[A\n",
      "Building task 'script': 100%|██████████| 2/2 [00:05<00:00,  2.76s/it]\n"
     ]
    }
   ],
   "source": [
    "%%sh\n",
    "python run.py"
   ]
  },
  {
   "cell_type": "markdown",
   "id": "14564dbb",
   "metadata": {
    "papermill": {
     "duration": 0.034476,
     "end_time": "2021-10-28T01:20:26.693191",
     "exception": false,
     "start_time": "2021-10-28T01:20:26.658715",
     "status": "completed"
    },
    "tags": []
   },
   "source": [
    "Check output (stored in directory with name `0`):"
   ]
  },
  {
   "cell_type": "code",
   "execution_count": 2,
   "id": "3f31b54f",
   "metadata": {
    "execution": {
     "iopub.execute_input": "2021-10-28T01:20:26.796021Z",
     "iopub.status.busy": "2021-10-28T01:20:26.794636Z",
     "iopub.status.idle": "2021-10-28T01:20:26.888877Z",
     "shell.execute_reply": "2021-10-28T01:20:26.889381Z"
    },
    "papermill": {
     "duration": 0.153275,
     "end_time": "2021-10-28T01:20:26.889613",
     "exception": false,
     "start_time": "2021-10-28T01:20:26.736338",
     "status": "completed"
    },
    "tags": []
   },
   "outputs": [
    {
     "name": "stdout",
     "output_type": "stream",
     "text": [
      "0\n"
     ]
    }
   ],
   "source": [
    "%%sh\n",
    "ls products"
   ]
  },
  {
   "cell_type": "markdown",
   "id": "86e34f17",
   "metadata": {
    "papermill": {
     "duration": 0.024049,
     "end_time": "2021-10-28T01:20:26.936953",
     "exception": false,
     "start_time": "2021-10-28T01:20:26.912904",
     "status": "completed"
    },
    "tags": []
   },
   "source": [
    "Run again:"
   ]
  },
  {
   "cell_type": "code",
   "execution_count": 3,
   "id": "a1edc843",
   "metadata": {
    "execution": {
     "iopub.execute_input": "2021-10-28T01:20:26.998972Z",
     "iopub.status.busy": "2021-10-28T01:20:26.997897Z",
     "iopub.status.idle": "2021-10-28T01:20:39.338913Z",
     "shell.execute_reply": "2021-10-28T01:20:39.341557Z"
    },
    "papermill": {
     "duration": 12.379969,
     "end_time": "2021-10-28T01:20:39.342123",
     "exception": false,
     "start_time": "2021-10-28T01:20:26.962154",
     "status": "completed"
    },
    "tags": []
   },
   "outputs": [
    {
     "name": "stderr",
     "output_type": "stream",
     "text": [
      "Building task 'script':  50%|█████     | 1/2 [00:05<00:05,  5.11s/it]     \n",
      "Executing:   0%|          | 0/4 [00:00<?, ?cell/s]\u001b[A\n",
      "Executing:  25%|██▌       | 1/4 [00:02<00:06,  2.26s/cell]\u001b[A\n",
      "Executing: 100%|██████████| 4/4 [00:02<00:00,  1.39cell/s]\u001b[A\n",
      "Building task 'script': 100%|██████████| 2/2 [00:08<00:00,  4.03s/it]\n"
     ]
    }
   ],
   "source": [
    "%%sh\n",
    "python run.py"
   ]
  },
  {
   "cell_type": "markdown",
   "id": "8c6faada",
   "metadata": {
    "papermill": {
     "duration": 0.057889,
     "end_time": "2021-10-28T01:20:39.458932",
     "exception": false,
     "start_time": "2021-10-28T01:20:39.401043",
     "status": "completed"
    },
    "tags": []
   },
   "source": [
    "Check output (this time, stored in directory with name `1`):"
   ]
  },
  {
   "cell_type": "code",
   "execution_count": 4,
   "id": "93a0adc0",
   "metadata": {
    "execution": {
     "iopub.execute_input": "2021-10-28T01:20:39.547692Z",
     "iopub.status.busy": "2021-10-28T01:20:39.542150Z",
     "iopub.status.idle": "2021-10-28T01:20:39.678073Z",
     "shell.execute_reply": "2021-10-28T01:20:39.678702Z"
    },
    "papermill": {
     "duration": 0.184976,
     "end_time": "2021-10-28T01:20:39.678971",
     "exception": false,
     "start_time": "2021-10-28T01:20:39.493995",
     "status": "completed"
    },
    "tags": []
   },
   "outputs": [
    {
     "name": "stdout",
     "output_type": "stream",
     "text": [
      "0\n",
      "1\n"
     ]
    }
   ],
   "source": [
    "%%sh\n",
    "ls products"
   ]
  }
 ],
 "metadata": {
  "kernelspec": {
   "display_name": "Python 3 (ipykernel)",
   "language": "python",
   "name": "python3"
  },
  "language_info": {
   "codemirror_mode": {
    "name": "ipython",
    "version": 3
   },
   "file_extension": ".py",
   "mimetype": "text/x-python",
   "name": "python",
   "nbconvert_exporter": "python",
   "pygments_lexer": "ipython3",
   "version": "3.10.1"
  },
  "papermill": {
   "default_parameters": {},
   "duration": 25.461793,
   "end_time": "2021-10-28T01:20:39.953541",
   "environment_variables": {},
   "exception": null,
   "input_path": "cookbook/dynamic-params/_build/readme_preprocessed.ipynb",
   "output_path": "cookbook/dynamic-params/README.ipynb",
   "parameters": {},
   "start_time": "2021-10-28T01:20:14.491748",
   "version": "2.3.3"
  }
 },
 "nbformat": 4,
 "nbformat_minor": 5
}
