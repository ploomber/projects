{
 "cells": [
  {
   "cell_type": "markdown",
   "id": "acf8ba19",
   "metadata": {
    "papermill": {
     "duration": 0.234678,
     "end_time": "2022-04-16T04:31:15.754425",
     "exception": false,
     "start_time": "2022-04-16T04:31:15.519747",
     "status": "completed"
    },
    "tags": []
   },
   "source": [
    "To run this locally, [install Ploomber](https://docs.ploomber.io/en/latest/get-started/quick-start.html) and execute: `ploomber examples -n cookbook/python-load`\n",
    "\n",
    "Found an issue? [Let us know.](https://github.com/ploomber/projects/issues/new?title=cookbook/python-load%20issue)\n",
    "\n",
    "Questions? [Ask us on Slack.](https://ploomber.io/community/)\n"
   ]
  },
  {
   "cell_type": "markdown",
   "id": "342b4976",
   "metadata": {
    "papermill": {
     "duration": 0.040983,
     "end_time": "2022-04-16T04:31:15.840265",
     "exception": false,
     "start_time": "2022-04-16T04:31:15.799282",
     "status": "completed"
    },
    "tags": []
   },
   "source": [
    "# Loading pipeline.yaml in Python\n",
    "\n",
    "<!-- start description -->\n",
    "Load pipeline.yaml file in a Python session to customize initialization.\n",
    "<!-- end description -->\n",
    "\n",
    "## Loading the pipeline\n",
    "\n",
    "Create a function that loads it and returns the DAG object:"
   ]
  },
  {
   "cell_type": "markdown",
   "id": "57a1f72f",
   "metadata": {
    "papermill": {
     "duration": 0.043259,
     "end_time": "2022-04-16T04:31:15.924807",
     "exception": false,
     "start_time": "2022-04-16T04:31:15.881548",
     "status": "completed"
    },
    "region_name": "md",
    "tags": []
   },
   "source": [
    "```python\n",
    "# Content of pipeline.py\n",
    "from ploomber.constants import TaskStatus\n",
    "from ploomber.spec import DAGSpec\n",
    "from ploomber import with_env\n",
    "\n",
    "\n",
    "@with_env('env.yaml')\n",
    "# NOTE: you may add extra arguments to the function, they'll show up in the cli\n",
    "def make(env):\n",
    "    \"\"\"Simplest factory function\n",
    "\n",
    "    Examples\n",
    "    --------\n",
    "    Execute in the terminal:\n",
    "        ploomber build -e pipeline.make\n",
    "    \"\"\"\n",
    "    dag = DAGSpec('pipeline.yaml', env=dict(env)).to_dag()\n",
    "    # NOTE: a factory function must return a DAG (do not call any methods)\n",
    "    return dag\n",
    "\n",
    "\n",
    "@with_env('env.yaml')\n",
    "def delete_tasks(env):\n",
    "    \"\"\"Factory function that deletes tasks based on an input parameter\n",
    "\n",
    "    Examples\n",
    "    --------\n",
    "    Execute in the terminal:\n",
    "        ploomber build -e pipeline.delete_tasks --env--delete_tasks true\n",
    "    \"\"\"\n",
    "    dag = DAGSpec('pipeline.yaml', env=dict(env)).to_dag()\n",
    "\n",
    "    if env.delete_tasks:\n",
    "        del dag['create_another']\n",
    "        del dag['create_final']\n",
    "\n",
    "    return dag\n",
    "\n",
    "\n",
    "@with_env('env.yaml')\n",
    "def ignore_task_status(env):\n",
    "    \"\"\"Factory function that overwrites a task's status and skips it\n",
    "\n",
    "    Examples\n",
    "    --------\n",
    "    Execute in the terminal:\n",
    "        ploomber task create_file --force\n",
    "        ploomber build -e pipeline.ignore_task_status --force\n",
    "    \"\"\"\n",
    "    dag = DAGSpec('pipeline.yaml', env=dict(env)).to_dag()\n",
    "    dag.render()\n",
    "\n",
    "    # NOTE: this example uses private APIs, and they may not work in the\n",
    "    # future. Keep an eye on: https://github.com/ploomber/ploomber/issues/681\n",
    "    # for updates\n",
    "\n",
    "    # never execute the \"create_file\" tasl\n",
    "    dag['create_file']._exec_status = TaskStatus.Skipped\n",
    "    # this is necessary to prevent ploomber from overwriting the status\n",
    "    dag._params.cache_rendered_status = True\n",
    "    return dag\n",
    "\n",
    "```"
   ]
  },
  {
   "cell_type": "markdown",
   "id": "a8b0c3ed",
   "metadata": {
    "papermill": {
     "duration": 0.03848,
     "end_time": "2022-04-16T04:31:16.015422",
     "exception": false,
     "start_time": "2022-04-16T04:31:15.976942",
     "status": "completed"
    },
    "tags": []
   },
   "source": [
    "*Note:* If your pipeline isn't using an `env.yaml` file, remove the decorator and the `env` argument in the function."
   ]
  },
  {
   "cell_type": "markdown",
   "id": "31b60cf1",
   "metadata": {
    "papermill": {
     "duration": 0.023686,
     "end_time": "2022-04-16T04:31:16.062015",
     "exception": false,
     "start_time": "2022-04-16T04:31:16.038329",
     "status": "completed"
    },
    "tags": []
   },
   "source": [
    "## Command-line interface\n",
    "\n",
    "The CLI will work just as if you were using the `pipeline.yaml` file directly, pass the dotted path to the function in the `--entry-point/-e` argument:"
   ]
  },
  {
   "cell_type": "code",
   "execution_count": 1,
   "id": "0775b883",
   "metadata": {
    "execution": {
     "iopub.execute_input": "2022-04-16T04:31:16.127446Z",
     "iopub.status.busy": "2022-04-16T04:31:16.126632Z",
     "iopub.status.idle": "2022-04-16T04:31:20.567026Z",
     "shell.execute_reply": "2022-04-16T04:31:20.567545Z"
    },
    "papermill": {
     "duration": 4.476403,
     "end_time": "2022-04-16T04:31:20.567995",
     "exception": false,
     "start_time": "2022-04-16T04:31:16.091592",
     "status": "completed"
    },
    "tags": []
   },
   "outputs": [
    {
     "name": "stdout",
     "output_type": "stream",
     "text": [
      "Loading pipeline...\n",
      "name         Last run    Outdated?    Product      Doc        Location\n",
      "                                                   (short)\n",
      "-----------  ----------  -----------  -----------  ---------  -----------\n",
      "create_file  Has not     Source code  File('produ  None       /Users/Edu/\n",
      "             been run                 cts/number/             dev/project\n",
      "                                      some_file.t             s-ploomber/\n",
      "                                      xt')                    cookbook/py\n",
      "                                                              thon-load/t\n",
      "                                                              asks.py:4\n",
      "create_anot  Has not     Source code  File('produ  None       /Users/Edu/\n",
      "her          been run    & Upstream   cts/number/             dev/project\n",
      "                                      another_fil             s-ploomber/\n",
      "                                      e.txt')                 cookbook/py\n",
      "                                                              thon-load/t\n",
      "                                                              asks.py:8\n",
      "create_fina  Has not     Source code  File('produ  None       /Users/Edu/\n",
      "l            been run    & Upstream   cts/number/             dev/project\n",
      "                                      final.txt')             s-ploomber/\n",
      "                                                              cookbook/py\n",
      "                                                              thon-load/t\n",
      "                                                              asks.py:13\n"
     ]
    },
    {
     "name": "stderr",
     "output_type": "stream",
     "text": [
      "/Users/Edu/miniconda3/envs/projects/lib/python3.9/site-packages/ploomber/spec/dagspec.py:353: UserWarning: The following placeholders are declared in the environment but unused in the spec: {'delete_tasks', 'user', 'cwd', 'git_hash', 'here', 'root', 'now', 'git'}\n",
      "  warnings.warn('The following placeholders are declared in the '\n",
      "100%|██████████| 3/3 [00:00<00:00, 3601.29it/s]\n"
     ]
    }
   ],
   "source": [
    "%%sh\n",
    "ploomber status -e pipeline.make"
   ]
  },
  {
   "cell_type": "markdown",
   "id": "4ee6508b",
   "metadata": {
    "papermill": {
     "duration": 0.024386,
     "end_time": "2022-04-16T04:31:20.620913",
     "exception": false,
     "start_time": "2022-04-16T04:31:20.596527",
     "status": "completed"
    },
    "tags": []
   },
   "source": [
    "To build the pipeline:"
   ]
  },
  {
   "cell_type": "code",
   "execution_count": 2,
   "id": "bd098a9c",
   "metadata": {
    "execution": {
     "iopub.execute_input": "2022-04-16T04:31:20.675174Z",
     "iopub.status.busy": "2022-04-16T04:31:20.672414Z",
     "iopub.status.idle": "2022-04-16T04:31:33.247731Z",
     "shell.execute_reply": "2022-04-16T04:31:33.248853Z"
    },
    "papermill": {
     "duration": 12.605352,
     "end_time": "2022-04-16T04:31:33.249118",
     "exception": false,
     "start_time": "2022-04-16T04:31:20.643766",
     "status": "completed"
    },
    "tags": []
   },
   "outputs": [
    {
     "name": "stdout",
     "output_type": "stream",
     "text": [
      "Loading pipeline...\n",
      "name            Ran?      Elapsed (s)    Percentage\n",
      "--------------  ------  -------------  ------------\n",
      "create_file     True         0.000568       38.3266\n",
      "create_another  True         0.000443       29.892\n",
      "create_final    True         0.000471       31.7814\n"
     ]
    },
    {
     "name": "stderr",
     "output_type": "stream",
     "text": [
      "/Users/Edu/miniconda3/envs/projects/lib/python3.9/site-packages/ploomber/spec/dagspec.py:353: UserWarning: The following placeholders are declared in the environment but unused in the spec: {'root', 'now', 'user', 'delete_tasks', 'git_hash', 'cwd', 'here', 'git'}\n",
      "  warnings.warn('The following placeholders are declared in the '\n",
      "/Users/Edu/miniconda3/envs/projects/lib/python3.9/site-packages/ploomber/cli/cloud.py:164: UserWarning: Issue: No Valid API_Key\n",
      "  warnings.warn(content)\n",
      "Building task 'create_final': 100%|██████████| 3/3 [00:08<00:00,  2.70s/it]  \n",
      "/Users/Edu/miniconda3/envs/projects/lib/python3.9/site-packages/ploomber/cli/cloud.py:164: UserWarning: Issue: No Valid API_Key\n",
      "  warnings.warn(content)\n"
     ]
    }
   ],
   "source": [
    "%%sh\n",
    "ploomber build -e pipeline.make"
   ]
  },
  {
   "cell_type": "markdown",
   "id": "95f44931",
   "metadata": {
    "papermill": {
     "duration": 0.027718,
     "end_time": "2022-04-16T04:31:33.304911",
     "exception": false,
     "start_time": "2022-04-16T04:31:33.277193",
     "status": "completed"
    },
    "tags": []
   },
   "source": [
    "Note that you can modify values set in the `env.yaml`, to see how, pass ``--help``:"
   ]
  },
  {
   "cell_type": "code",
   "execution_count": 3,
   "id": "8a2f0852",
   "metadata": {
    "execution": {
     "iopub.execute_input": "2022-04-16T04:31:33.365155Z",
     "iopub.status.busy": "2022-04-16T04:31:33.362502Z",
     "iopub.status.idle": "2022-04-16T04:31:37.171328Z",
     "shell.execute_reply": "2022-04-16T04:31:37.171869Z"
    },
    "papermill": {
     "duration": 3.841708,
     "end_time": "2022-04-16T04:31:37.172143",
     "exception": false,
     "start_time": "2022-04-16T04:31:33.330435",
     "status": "completed"
    },
    "tags": []
   },
   "outputs": [
    {
     "name": "stdout",
     "output_type": "stream",
     "text": [
      "Loading pipeline...\n",
      "usage: ploomber build [-h] [--log LOG] [--log-file LOG_FILE]\n",
      "                      [--entry-point ENTRY_POINT] [--force] [--skip-upstream]\n",
      "                      [--partially PARTIALLY] [--debug]\n",
      "                      [--env--run_number ENV__RUN_NUMBER]\n",
      "                      [--env--delete_tasks ENV__DELETE_TASKS]\n",
      "\n",
      "Build pipeline. Simplest factory function\n",
      "\n",
      "optional arguments:\n",
      "  -h, --help            show this help message and exit\n",
      "  --log LOG, -l LOG     Enables logging to stdout at the specified level\n",
      "  --log-file LOG_FILE, -F LOG_FILE\n",
      "                        Enables logging to the given file\n",
      "  --entry-point ENTRY_POINT, -e ENTRY_POINT\n",
      "                        Entry point, defaults to pipeline.yaml\n",
      "  --force, -f           Force execution by ignoring status\n",
      "  --skip-upstream, -su  Skip building upstream dependencies. Only applicable\n",
      "                        when using --partially\n",
      "  --partially PARTIALLY, -p PARTIALLY\n",
      "                        Build a pipeline partially until certain task\n",
      "  --debug, -d           Drop a debugger session if an exception happens\n",
      "  --env--run_number ENV__RUN_NUMBER\n",
      "                        Default: number\n",
      "  --env--delete_tasks ENV__DELETE_TASKS\n",
      "                        Default: False\n"
     ]
    }
   ],
   "source": [
    "%%sh\n",
    "ploomber build -e pipeline.make --help"
   ]
  },
  {
   "cell_type": "markdown",
   "id": "e9a2d70f",
   "metadata": {
    "papermill": {
     "duration": 0.025602,
     "end_time": "2022-04-16T04:31:37.224333",
     "exception": false,
     "start_time": "2022-04-16T04:31:37.198731",
     "status": "completed"
    },
    "tags": []
   },
   "source": [
    "*Note:* Check out the other functions in `pipeline.yaml` for more examples."
   ]
  }
 ],
 "metadata": {
  "kernelspec": {
   "display_name": "Python 3 (ipykernel)",
   "language": "python",
   "name": "python3"
  },
  "language_info": {
   "codemirror_mode": {
    "name": "ipython",
    "version": 3
   },
   "file_extension": ".py",
   "mimetype": "text/x-python",
   "name": "python",
   "nbconvert_exporter": "python",
   "pygments_lexer": "ipython3",
   "version": "3.10.1"
  },
  "papermill": {
   "default_parameters": {},
   "duration": 23.788574,
   "end_time": "2022-04-16T04:31:37.463889",
   "environment_variables": {},
   "exception": null,
   "input_path": "cookbook/python-load/_build/readme_preprocessed.ipynb",
   "output_path": "cookbook/python-load/README.ipynb",
   "parameters": {},
   "start_time": "2022-04-16T04:31:13.675315",
   "version": "2.3.4"
  }
 },
 "nbformat": 4,
 "nbformat_minor": 5
}
