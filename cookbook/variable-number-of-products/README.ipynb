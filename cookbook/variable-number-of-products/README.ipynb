{
 "cells": [
  {
   "cell_type": "markdown",
   "id": "5b7a7b31",
   "metadata": {
    "papermill": {
     "duration": 0.012913,
     "end_time": "2021-10-28T01:19:30.970984",
     "exception": false,
     "start_time": "2021-10-28T01:19:30.958071",
     "status": "completed"
    },
    "tags": []
   },
   "source": [
    "To run this locally, [install Ploomber](https://docs.ploomber.io/en/latest/get-started/quick-start.html) and execute: `ploomber examples -n cookbook/variable-number-of-products`\n",
    "\n",
    "Found an issue? [Let us know.](https://github.com/ploomber/projects/issues/new?title=cookbook/variable-number-of-products%20issue)\n",
    "\n",
    "Questions? [Ask us on Slack.](https://ploomber.io/community/)\n"
   ]
  },
  {
   "cell_type": "markdown",
   "id": "43ec51a1",
   "metadata": {
    "papermill": {
     "duration": 0.009387,
     "end_time": "2021-10-28T01:19:30.990904",
     "exception": false,
     "start_time": "2021-10-28T01:19:30.981517",
     "status": "completed"
    },
    "tags": []
   },
   "source": [
    "# Tasks with a variable number of products\n",
    "\n",
    "<!-- start description -->\n",
    "Shows how to create tasks whose number of products depends on runtime conditions.\n",
    "<!-- end description -->\n",
    "\n",
    "1. [Basic](basic) - Basic example\n",
    "2. [Serializer](serializer) - Example using serializer and unserializer\n"
   ]
  },
  {
   "cell_type": "code",
   "execution_count": 1,
   "id": "62a23358",
   "metadata": {
    "execution": {
     "iopub.execute_input": "2021-10-28T01:19:31.020940Z",
     "iopub.status.busy": "2021-10-28T01:19:31.020286Z",
     "iopub.status.idle": "2021-10-28T01:19:35.228884Z",
     "shell.execute_reply": "2021-10-28T01:19:35.229685Z"
    },
    "papermill": {
     "duration": 4.229033,
     "end_time": "2021-10-28T01:19:35.230032",
     "exception": false,
     "start_time": "2021-10-28T01:19:31.000999",
     "status": "completed"
    },
    "tags": []
   },
   "outputs": [
    {
     "name": "stdout",
     "output_type": "stream",
     "text": [
      "name                                   Ran?      Elapsed (s)    Percentage\n",
      "-------------------------------------  ------  -------------  ------------\n",
      "variable                               False               0             0\n",
      "many_products_one_variable             False               0             0\n",
      "variable_downstream                    False               0             0\n",
      "many_products_one_variable_downstream  False               0             0\n"
     ]
    },
    {
     "name": "stderr",
     "output_type": "stream",
     "text": [
      "0it [00:00, ?it/s]\n"
     ]
    }
   ],
   "source": [
    "%%sh\n",
    "cd basic\n",
    "ploomber build --entry-point pipeline.yaml"
   ]
  },
  {
   "cell_type": "code",
   "execution_count": 2,
   "id": "7fa1b92e",
   "metadata": {
    "execution": {
     "iopub.execute_input": "2021-10-28T01:19:35.271482Z",
     "iopub.status.busy": "2021-10-28T01:19:35.269341Z",
     "iopub.status.idle": "2021-10-28T01:19:39.864823Z",
     "shell.execute_reply": "2021-10-28T01:19:39.865704Z"
    },
    "papermill": {
     "duration": 4.618631,
     "end_time": "2021-10-28T01:19:39.866236",
     "exception": false,
     "start_time": "2021-10-28T01:19:35.247605",
     "status": "completed"
    },
    "tags": []
   },
   "outputs": [
    {
     "name": "stdout",
     "output_type": "stream",
     "text": [
      "name                                   Ran?      Elapsed (s)    Percentage\n",
      "-------------------------------------  ------  -------------  ------------\n",
      "variable                               False               0             0\n",
      "many_products_one_variable             False               0             0\n",
      "variable_downstream                    False               0             0\n",
      "many_products_one_variable_downstream  False               0             0\n"
     ]
    },
    {
     "name": "stderr",
     "output_type": "stream",
     "text": [
      "0it [00:00, ?it/s]\n"
     ]
    }
   ],
   "source": [
    "%%sh\n",
    "cd serializer\n",
    "ploomber build --entry-point pipeline.yaml"
   ]
  }
 ],
 "metadata": {
  "kernelspec": {
   "display_name": "Python 3 (ipykernel)",
   "language": "python",
   "name": "python3"
  },
  "language_info": {
   "codemirror_mode": {
    "name": "ipython",
    "version": 3
   },
   "file_extension": ".py",
   "mimetype": "text/x-python",
   "name": "python",
   "nbconvert_exporter": "python",
   "pygments_lexer": "ipython3",
   "version": "3.10.1"
  },
  "papermill": {
   "default_parameters": {},
   "duration": 10.871128,
   "end_time": "2021-10-28T01:19:40.096793",
   "environment_variables": {},
   "exception": null,
   "input_path": "cookbook/variable-number-of-products/_build/readme_preprocessed.ipynb",
   "output_path": "cookbook/variable-number-of-products/README.ipynb",
   "parameters": {},
   "start_time": "2021-10-28T01:19:29.225665",
   "version": "2.3.3"
  }
 },
 "nbformat": 4,
 "nbformat_minor": 5
}
