{
 "cells": [
  {
   "cell_type": "markdown",
   "id": "c23ce53d",
   "metadata": {
    "papermill": {
     "duration": 0.014688,
     "end_time": "2021-10-11T21:29:30.600230",
     "exception": false,
     "start_time": "2021-10-11T21:29:30.585542",
     "status": "completed"
    },
    "tags": []
   },
   "source": [
    "\n",
    "*Note:* You can run this example locally (`ploomber examples -n ml-advanced`) or in Binder (hosted JupyterLab ).\n",
    "\n",
    "[![binder-logo](https://mybinder.org/badge_logo.svg)](https://mybinder.org/v2/gh/ploomber/binder-env/main?urlpath=git-pull%3Frepo%3Dhttps%253A%252F%252Fgithub.com%252Fploomber%252Fprojects%26urlpath%3Dlab%252Ftree%252Fprojects%252Fml-advanced%252FREADME.ipynb%26branch%3Dmaster)\n"
   ]
  },
  {
   "cell_type": "markdown",
   "id": "e645f155",
   "metadata": {
    "papermill": {
     "duration": 0.012891,
     "end_time": "2021-10-11T21:29:30.626118",
     "exception": false,
     "start_time": "2021-10-11T21:29:30.613227",
     "status": "completed"
    },
    "tags": []
   },
   "source": [
    "# ML advanced\n",
    "\n",
    "ML pipeline using the Python API. Shows how to package project, test it using pytest and train models in parallel.\n",
    "\n",
    "## Setup\n",
    "\n",
    "(**Note**: Skip if running in Binder)\n",
    "\n",
    "~~~bash\n",
    "# if using conda\n",
    "conda env create --file environment.yml\n",
    "conda activate ml-advanced\n",
    "\n",
    "# otherwise use pip directly\n",
    "pip install -r requirements.txt\n",
    "# install the pipeline as a package in editable mode\n",
    "pip install --editable .\n",
    "~~~\n",
    "\n",
    "## Build"
   ]
  },
  {
   "cell_type": "code",
   "execution_count": 1,
   "id": "7c5857aa",
   "metadata": {
    "execution": {
     "iopub.execute_input": "2021-10-11T21:29:30.661168Z",
     "iopub.status.busy": "2021-10-11T21:29:30.660331Z",
     "iopub.status.idle": "2021-10-11T21:30:00.836226Z",
     "shell.execute_reply": "2021-10-11T21:30:00.835472Z"
    },
    "papermill": {
     "duration": 30.196617,
     "end_time": "2021-10-11T21:30:00.836477",
     "exception": false,
     "start_time": "2021-10-11T21:29:30.639860",
     "status": "completed"
    },
    "tags": [
     "bash"
    ]
   },
   "outputs": [
    {
     "name": "stdout",
     "output_type": "stream",
     "text": [
      "Finished tasks so far: \n",
      "Remaining tasks: {'get', 'features', 'fit-ml-advanced--models--logistic-reg', 'join', 'fit-sklearn--ensemble--RandomForestClassifier', 'fit-ml-advanced--models--svc'}\n",
      "Finished 0 out of 6 tasks\n",
      "Finished tasks so far: \n",
      "Remaining tasks: {'get', 'features', 'fit-ml-advanced--models--logistic-reg', 'join', 'fit-sklearn--ensemble--RandomForestClassifier', 'fit-ml-advanced--models--svc'}\n",
      "Finished 0 out of 6 tasks\n",
      "Finished tasks so far: {'get', 'features', 'join'}\n",
      "Remaining tasks: {'fit-sklearn--ensemble--RandomForestClassifier', 'fit-ml-advanced--models--svc', 'fit-ml-advanced--models--logistic-reg'}\n",
      "Finished 3 out of 6 tasks\n",
      "Finished tasks so far: {'get', 'features', 'join'}\n",
      "Remaining tasks: {'fit-sklearn--ensemble--RandomForestClassifier', 'fit-ml-advanced--models--svc', 'fit-ml-advanced--models--logistic-reg'}\n",
      "Finished 3 out of 6 tasks\n",
      "name                                Ran?      Elapsed (s)    Percentage\n",
      "----------------------------------  ------  -------------  ------------\n",
      "get                                 True         0.456356     0.776591\n",
      "features                            True         0.021547     0.036667\n",
      "join                                True         0.010388     0.0176775\n",
      "fit-sklearn--ensemble--             True        21.1837      36.0487\n",
      "RandomForestClassifier\n",
      "fit-ml-advanced--models--logistic-  True        18.5591      31.5824\n",
      "reg\n",
      "fit-ml-advanced--models--svc        True        18.5329      31.5379\n"
     ]
    },
    {
     "name": "stderr",
     "output_type": "stream",
     "text": [
      "Executing: 100%|██████████| 15/15 [00:20<00:00,  1.36s/cell]\n",
      "Executing: 100%|██████████| 15/15 [00:17<00:00,  1.18s/cell]\n",
      "Executing: 100%|██████████| 15/15 [00:17<00:00,  1.18s/cell]\n"
     ]
    }
   ],
   "source": [
    "%%sh\n",
    "ploomber build --entry-point ml_advanced.pipeline.make"
   ]
  },
  {
   "cell_type": "markdown",
   "id": "fa0b1034",
   "metadata": {
    "papermill": {
     "duration": 0.014752,
     "end_time": "2021-10-11T21:30:00.865910",
     "exception": false,
     "start_time": "2021-10-11T21:30:00.851158",
     "status": "completed"
    },
    "tags": []
   },
   "source": [
    "## Testing\n",
    "\n",
    "~~~bash\n",
    "# incremental (will only run the tasks that have changed)\n",
    "pytest\n",
    "\n",
    "# complete (force execution of all tasks)\n",
    "pytest --force\n",
    "\n",
    "# to start a debugging session on exceptions\n",
    "pytest --pdb\n",
    "\n",
    "# to start a debugging session at the start of every test\n",
    "pytest --trace\n",
    "~~~"
   ]
  }
 ],
 "metadata": {
  "jupytext": {
   "cell_metadata_filter": "tags,-all",
   "main_language": "bash",
   "notebook_metadata_filter": "-all"
  },
  "kernelspec": {
   "display_name": "Python 3 (ipykernel)",
   "language": "python",
   "name": "python3"
  },
  "language_info": {
   "codemirror_mode": {
    "name": "ipython",
    "version": 3
   },
   "file_extension": ".py",
   "mimetype": "text/x-python",
   "name": "python",
   "nbconvert_exporter": "python",
   "pygments_lexer": "ipython3",
   "version": "3.9.7"
  },
  "papermill": {
   "duration": 31.885825,
   "end_time": "2021-10-11T21:30:01.166373",
   "exception": null,
   "input_path": "/var/folders/3h/_lvh_w_x5g30rrjzb_xnn2j80000gq/T/tmpjlciks58.ipynb",
   "output_path": "ml-advanced/README.ipynb",
   "parameters": {
    "product": "ml-advanced/README.ipynb"
   },
   "start_time": "2021-10-11T21:29:29.280548"
  }
 },
 "nbformat": 4,
 "nbformat_minor": 5
}
