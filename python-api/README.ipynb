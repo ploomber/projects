{
 "cells": [
  {
   "cell_type": "markdown",
   "id": "4bd14bbd",
   "metadata": {
    "papermill": {
     "duration": 0.014366,
     "end_time": "2021-10-11T21:21:31.692396",
     "exception": false,
     "start_time": "2021-10-11T21:21:31.678030",
     "status": "completed"
    },
    "tags": []
   },
   "source": [
    "\n",
    "*Note:* You can run this example locally (`ploomber examples -n python-api`) or in Binder (hosted JupyterLab ).\n",
    "\n",
    "[![binder-logo](https://mybinder.org/badge_logo.svg)](https://mybinder.org/v2/gh/ploomber/binder-env/main?urlpath=git-pull%3Frepo%3Dhttps%253A%252F%252Fgithub.com%252Fploomber%252Fprojects%26urlpath%3Dlab%252Ftree%252Fprojects%252Fpython-api%252FREADME.ipynb%26branch%3Dmaster)\n"
   ]
  },
  {
   "cell_type": "markdown",
   "id": "3fa563a4",
   "metadata": {
    "papermill": {
     "duration": 0.011104,
     "end_time": "2021-10-11T21:21:31.714645",
     "exception": false,
     "start_time": "2021-10-11T21:21:31.703541",
     "status": "completed"
    },
    "tags": []
   },
   "source": [
    "# Python API\n",
    "\n",
    "Pipeline project using the Python API.\n",
    "\n",
    "If you're new to the Python API, check out [python-api-examples/](../python-api-examples) directory, containing tutorials and more examples.\n",
    "\n",
    "## Setup\n",
    "\n",
    "~~~bash\n",
    "# if using conda\n",
    "conda env create --file environment.yml\n",
    "conda activate python-api\n",
    "\n",
    "# otherwise use pip directly\n",
    "pip install -r requirements.txt\n",
    "# install the pipeline as a package in editable mode\n",
    "pip install --editable .\n",
    "~~~\n",
    "\n",
    "## Description\n",
    "\n",
    "This pipeline has three tasks:\n",
    "\n",
    "1. Load task (Python function): CSV file\n",
    "2. Clean task (Python script):  Jupyter notebook and another CSV file\n",
    "3. Plot task (Python scripts): Jupyter notebook\n",
    "\n",
    "## Build"
   ]
  },
  {
   "cell_type": "code",
   "execution_count": 1,
   "id": "fa3b070f",
   "metadata": {
    "execution": {
     "iopub.execute_input": "2021-10-11T21:21:31.746419Z",
     "iopub.status.busy": "2021-10-11T21:21:31.745682Z",
     "iopub.status.idle": "2021-10-11T21:21:43.421324Z",
     "shell.execute_reply": "2021-10-11T21:21:43.421890Z"
    },
    "papermill": {
     "duration": 11.696091,
     "end_time": "2021-10-11T21:21:43.422248",
     "exception": false,
     "start_time": "2021-10-11T21:21:31.726157",
     "status": "completed"
    },
    "tags": [
     "bash"
    ]
   },
   "outputs": [
    {
     "name": "stdout",
     "output_type": "stream",
     "text": [
      "name    Ran?      Elapsed (s)    Percentage\n",
      "------  ------  -------------  ------------\n",
      "load    True         0.007502       0.14093\n",
      "clean   True         2.21771       41.6611\n",
      "plot    True         3.09801       58.198\n"
     ]
    },
    {
     "name": "stderr",
     "output_type": "stream",
     "text": [
      "Building task 'clean':  33%|███▎      | 1/3 [00:02<00:05,  2.83s/it]\n",
      "Executing:   0%|          | 0/5 [00:00<?, ?cell/s]\u001b[A\n",
      "Executing:  20%|██        | 1/5 [00:01<00:06,  1.75s/cell]\u001b[A\n",
      "Executing: 100%|██████████| 5/5 [00:02<00:00,  2.35cell/s]\n",
      "Building task 'plot':  67%|██████▋   | 2/3 [00:05<00:02,  2.48s/it] \n",
      "Executing:   0%|          | 0/6 [00:00<?, ?cell/s]\u001b[A\n",
      "Executing:  17%|█▋        | 1/6 [00:02<00:11,  2.25s/cell]\u001b[A\n",
      "Executing:  67%|██████▋   | 4/6 [00:02<00:00,  2.19cell/s]\u001b[A\n",
      "Executing: 100%|██████████| 6/6 [00:02<00:00,  2.01cell/s]\n",
      "Building task 'plot': 100%|██████████| 3/3 [00:08<00:00,  2.73s/it]\n"
     ]
    }
   ],
   "source": [
    "%%sh\n",
    "ploomber build"
   ]
  }
 ],
 "metadata": {
  "jupytext": {
   "cell_metadata_filter": "tags,-all",
   "main_language": "bash",
   "notebook_metadata_filter": "-all"
  },
  "kernelspec": {
   "display_name": "Python 3 (ipykernel)",
   "language": "python",
   "name": "python3"
  },
  "language_info": {
   "codemirror_mode": {
    "name": "ipython",
    "version": 3
   },
   "file_extension": ".py",
   "mimetype": "text/x-python",
   "name": "python",
   "nbconvert_exporter": "python",
   "pygments_lexer": "ipython3",
   "version": "3.9.7"
  },
  "papermill": {
   "duration": 13.184485,
   "end_time": "2021-10-11T21:21:43.714122",
   "exception": null,
   "input_path": "/var/folders/3h/_lvh_w_x5g30rrjzb_xnn2j80000gq/T/tmplwv212pd.ipynb",
   "output_path": "python-api/README.ipynb",
   "parameters": {
    "product": "python-api/README.ipynb"
   },
   "start_time": "2021-10-11T21:21:30.529637"
  }
 },
 "nbformat": 4,
 "nbformat_minor": 5
}
