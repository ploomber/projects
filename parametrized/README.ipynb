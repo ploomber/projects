{
 "cells": [
  {
   "cell_type": "markdown",
   "id": "ec2c9028",
   "metadata": {
    "papermill": {
     "duration": 0.049441,
     "end_time": "2021-10-11T21:24:54.981091",
     "exception": false,
     "start_time": "2021-10-11T21:24:54.931650",
     "status": "completed"
    },
    "tags": []
   },
   "source": [
    "\n",
    "*Note:* You can run this example locally (`ploomber examples -n parametrized`) or in Binder (hosted JupyterLab ).\n",
    "\n",
    "[![binder-logo](https://mybinder.org/badge_logo.svg)](https://mybinder.org/v2/gh/ploomber/binder-env/main?urlpath=git-pull%3Frepo%3Dhttps%253A%252F%252Fgithub.com%252Fploomber%252Fprojects%26urlpath%3Dlab%252Ftree%252Fprojects%252Fparametrized%252FREADME.ipynb%26branch%3Dmaster)\n"
   ]
  },
  {
   "cell_type": "markdown",
   "id": "6f87ecc2",
   "metadata": {
    "papermill": {
     "duration": 0.051087,
     "end_time": "2021-10-11T21:24:55.081614",
     "exception": false,
     "start_time": "2021-10-11T21:24:55.030527",
     "status": "completed"
    },
    "tags": []
   },
   "source": [
    "# Parametrized pipelines"
   ]
  },
  {
   "cell_type": "markdown",
   "id": "dd7e5354",
   "metadata": {
    "papermill": {
     "duration": 0.048455,
     "end_time": "2021-10-11T21:24:55.182157",
     "exception": false,
     "start_time": "2021-10-11T21:24:55.133702",
     "status": "completed"
    },
    "tags": []
   },
   "source": [
    "Often, pipelines perform the same operation over different subsets of the data. For example, say you are developing visualizations of economic data. You might want to generate the same charts for other countries. \n",
    "\n",
    "One way to approach the problem is to have a for loop on each pipeline task to process all needed countries. But such an approach adds unnecessary complexity to our code; it's better to keep our logic simple (each task processes a single country) and take the iterative logic out of our pipeline.\n",
    "\n",
    "Ploomber allows you to do so using parametrized pipelines. Let's see a sample using a `pipeline.yaml` file.\n",
    "\n",
    "## Spec API (``pipeline.yaml``)"
   ]
  },
  {
   "cell_type": "code",
   "execution_count": 1,
   "id": "fcfab8fd",
   "metadata": {
    "execution": {
     "iopub.execute_input": "2021-10-11T21:24:55.285661Z",
     "iopub.status.busy": "2021-10-11T21:24:55.284991Z",
     "iopub.status.idle": "2021-10-11T21:24:57.227315Z",
     "shell.execute_reply": "2021-10-11T21:24:57.227909Z"
    },
    "papermill": {
     "duration": 1.998119,
     "end_time": "2021-10-11T21:24:57.228242",
     "exception": false,
     "start_time": "2021-10-11T21:24:55.230123",
     "status": "completed"
    },
    "tags": []
   },
   "outputs": [],
   "source": [
    "from ploomberutils import display_file, filter_output"
   ]
  },
  {
   "cell_type": "code",
   "execution_count": 2,
   "id": "9f4ddd37",
   "metadata": {
    "execution": {
     "iopub.execute_input": "2021-10-11T21:24:57.331157Z",
     "iopub.status.busy": "2021-10-11T21:24:57.330437Z",
     "iopub.status.idle": "2021-10-11T21:24:57.340919Z",
     "shell.execute_reply": "2021-10-11T21:24:57.341421Z"
    },
    "papermill": {
     "duration": 0.066421,
     "end_time": "2021-10-11T21:24:57.341655",
     "exception": false,
     "start_time": "2021-10-11T21:24:57.275234",
     "status": "completed"
    },
    "tags": []
   },
   "outputs": [
    {
     "data": {
      "text/markdown": [
       "\n",
       "```yaml\n",
       "tasks:\n",
       "  - source: print.py\n",
       "    name: print\n",
       "    product:\n",
       "      nb: 'output/{{some_param}}/notebook.ipynb'\n",
       "    papermill_params:\n",
       "        log_output: True\n",
       "    params:\n",
       "      some_param: '{{some_param}}'\n",
       "```\n"
      ],
      "text/plain": [
       "<IPython.core.display.Markdown object>"
      ]
     },
     "metadata": {},
     "output_type": "display_data"
    }
   ],
   "source": [
    "display_file('pipeline.yaml')"
   ]
  },
  {
   "cell_type": "markdown",
   "id": "89dd98a2",
   "metadata": {
    "papermill": {
     "duration": 0.04954,
     "end_time": "2021-10-11T21:24:57.441607",
     "exception": false,
     "start_time": "2021-10-11T21:24:57.392067",
     "status": "completed"
    },
    "tags": []
   },
   "source": [
    "The `pipeline.yaml` above has a placeholder called `some_param`. It is coming from a file called `env.yaml`:"
   ]
  },
  {
   "cell_type": "code",
   "execution_count": 3,
   "id": "b25c79d0",
   "metadata": {
    "execution": {
     "iopub.execute_input": "2021-10-11T21:24:57.544130Z",
     "iopub.status.busy": "2021-10-11T21:24:57.543116Z",
     "iopub.status.idle": "2021-10-11T21:24:57.546959Z",
     "shell.execute_reply": "2021-10-11T21:24:57.547871Z"
    },
    "papermill": {
     "duration": 0.057172,
     "end_time": "2021-10-11T21:24:57.548112",
     "exception": false,
     "start_time": "2021-10-11T21:24:57.490940",
     "status": "completed"
    },
    "tags": []
   },
   "outputs": [
    {
     "data": {
      "text/markdown": [
       "\n",
       "```yaml\n",
       "some_param: default_value\n",
       "```\n"
      ],
      "text/plain": [
       "<IPython.core.display.Markdown object>"
      ]
     },
     "metadata": {},
     "output_type": "display_data"
    }
   ],
   "source": [
    "display_file('env.yaml')"
   ]
  },
  {
   "cell_type": "markdown",
   "id": "e076ca01",
   "metadata": {
    "papermill": {
     "duration": 0.05165,
     "end_time": "2021-10-11T21:24:57.652137",
     "exception": false,
     "start_time": "2021-10-11T21:24:57.600487",
     "status": "completed"
    },
    "tags": []
   },
   "source": [
    "When reading your `pipeline.yaml`, Ploomber looks for an `env.yaml` file. If found, all defined keys will be available to your pipeline definition. You can use these placeholders (placeholders are strings between double curly brackets) in any of the fields of your `pipeline.yaml` file.\n",
    "\n",
    "In our case, we are using it in two places. First, we will save the executed notebook in a folder with the value of `some_param`; this will allow you to keep copies of the generated output in a different folder depending on your parameter. Second, if we want to use the parameter in our code, we have to pass it to our tasks; all tasks take an optional `params` with arbitrary parameters.\n",
    "\n",
    "Let's see how the code looks like:"
   ]
  },
  {
   "cell_type": "code",
   "execution_count": 4,
   "id": "ca57b2f0",
   "metadata": {
    "execution": {
     "iopub.execute_input": "2021-10-11T21:24:57.760962Z",
     "iopub.status.busy": "2021-10-11T21:24:57.760113Z",
     "iopub.status.idle": "2021-10-11T21:24:57.764122Z",
     "shell.execute_reply": "2021-10-11T21:24:57.764633Z"
    },
    "papermill": {
     "duration": 0.061622,
     "end_time": "2021-10-11T21:24:57.764845",
     "exception": false,
     "start_time": "2021-10-11T21:24:57.703223",
     "status": "completed"
    },
    "tags": []
   },
   "outputs": [
    {
     "data": {
      "text/markdown": [
       "\n",
       "```py\n",
       "# + tags=[\"parameters\"]\n",
       "upstream = None\n",
       "product = None\n",
       "some_param = None\n",
       "\n",
       "# +\n",
       "print('some_param: ', some_param, ' type: ', type(some_param))\n",
       "```\n"
      ],
      "text/plain": [
       "<IPython.core.display.Markdown object>"
      ]
     },
     "metadata": {},
     "output_type": "display_data"
    }
   ],
   "source": [
    "display_file('print.py')"
   ]
  },
  {
   "cell_type": "markdown",
   "id": "1a66fef8",
   "metadata": {
    "papermill": {
     "duration": 0.053706,
     "end_time": "2021-10-11T21:24:57.870974",
     "exception": false,
     "start_time": "2021-10-11T21:24:57.817268",
     "status": "completed"
    },
    "tags": []
   },
   "source": [
    "Our task is a Python script, meaning that parameters are passed as an injected cell at runtime. Let's see what happens if we build our pipeline."
   ]
  },
  {
   "cell_type": "code",
   "execution_count": 5,
   "id": "a37114aa",
   "metadata": {
    "execution": {
     "iopub.execute_input": "2021-10-11T21:24:57.983788Z",
     "iopub.status.busy": "2021-10-11T21:24:57.983015Z",
     "iopub.status.idle": "2021-10-11T21:25:03.024865Z",
     "shell.execute_reply": "2021-10-11T21:25:03.025401Z"
    },
    "papermill": {
     "duration": 5.101401,
     "end_time": "2021-10-11T21:25:03.025665",
     "exception": false,
     "start_time": "2021-10-11T21:24:57.924264",
     "status": "completed"
    },
    "tags": []
   },
   "outputs": [],
   "source": [
    "%%capture captured\n",
    "%%sh\n",
    "ploomber build --force --log INFO"
   ]
  },
  {
   "cell_type": "code",
   "execution_count": 6,
   "id": "0089870a",
   "metadata": {
    "execution": {
     "iopub.execute_input": "2021-10-11T21:25:03.141943Z",
     "iopub.status.busy": "2021-10-11T21:25:03.141071Z",
     "iopub.status.idle": "2021-10-11T21:25:03.144427Z",
     "shell.execute_reply": "2021-10-11T21:25:03.145081Z"
    },
    "papermill": {
     "duration": 0.066214,
     "end_time": "2021-10-11T21:25:03.145323",
     "exception": false,
     "start_time": "2021-10-11T21:25:03.079109",
     "status": "completed"
    },
    "tags": []
   },
   "outputs": [
    {
     "name": "stdout",
     "output_type": "stream",
     "text": [
      "INFO:papermill:some_param:  default_value  type:  <class 'str'>\n"
     ]
    }
   ],
   "source": [
    "filter_output(captured, startswith='INFO:papermill:some_param')"
   ]
  },
  {
   "cell_type": "markdown",
   "id": "8136b92b",
   "metadata": {
    "papermill": {
     "duration": 0.055297,
     "end_time": "2021-10-11T21:25:03.255899",
     "exception": false,
     "start_time": "2021-10-11T21:25:03.200602",
     "status": "completed"
    },
    "tags": []
   },
   "source": [
    "We see that our param `some_param` is taking the default value (`default_value`) as defined in `env.yaml`. The command-line interface is aware of any parameters. You can see them using the `--help` option:"
   ]
  },
  {
   "cell_type": "code",
   "execution_count": 7,
   "id": "2545fdae",
   "metadata": {
    "execution": {
     "iopub.execute_input": "2021-10-11T21:25:03.372320Z",
     "iopub.status.busy": "2021-10-11T21:25:03.368097Z",
     "iopub.status.idle": "2021-10-11T21:25:06.390951Z",
     "shell.execute_reply": "2021-10-11T21:25:06.391755Z"
    },
    "papermill": {
     "duration": 3.08332,
     "end_time": "2021-10-11T21:25:06.392085",
     "exception": false,
     "start_time": "2021-10-11T21:25:03.308765",
     "status": "completed"
    },
    "tags": []
   },
   "outputs": [
    {
     "name": "stdout",
     "output_type": "stream",
     "text": [
      "usage: ploomber [-h] [--log LOG] [--entry-point ENTRY_POINT] [--force]\n",
      "                [--skip-upstream] [--partially PARTIALLY] [--debug]\n",
      "                [--env--some_param ENV__SOME_PARAM]\n",
      "\n",
      "Build pipeline\n",
      "\n",
      "optional arguments:\n",
      "  -h, --help            show this help message and exit\n",
      "  --log LOG, -l LOG     Enables logging to stdout at the specified level\n",
      "  --entry-point ENTRY_POINT, -e ENTRY_POINT\n",
      "                        Entry point, defaults to pipeline.yaml\n",
      "  --force, -f           Force execution by ignoring status\n",
      "  --skip-upstream, -su  Skip building upstream dependencies. Only applicable\n",
      "                        when using --partially\n",
      "  --partially PARTIALLY, -p PARTIALLY\n",
      "                        Build a pipeline partially until certain task\n",
      "  --debug, -d           Drop a debugger session if an exception happens\n",
      "  --env--some_param ENV__SOME_PARAM\n",
      "                        Default: default_value\n"
     ]
    }
   ],
   "source": [
    "%%sh\n",
    "ploomber build --help"
   ]
  },
  {
   "cell_type": "markdown",
   "id": "45a55505",
   "metadata": {
    "papermill": {
     "duration": 0.055024,
     "end_time": "2021-10-11T21:25:06.506437",
     "exception": false,
     "start_time": "2021-10-11T21:25:06.451413",
     "status": "completed"
    },
    "tags": []
   },
   "source": [
    "Apart from the default parameters from the `ploomber build` command, Ploomber automatically adds any parameters from `env.yaml`, we can easily override the default value. Let's do that:"
   ]
  },
  {
   "cell_type": "code",
   "execution_count": 8,
   "id": "c1ad86bd",
   "metadata": {
    "execution": {
     "iopub.execute_input": "2021-10-11T21:25:06.629331Z",
     "iopub.status.busy": "2021-10-11T21:25:06.628231Z",
     "iopub.status.idle": "2021-10-11T21:25:11.608277Z",
     "shell.execute_reply": "2021-10-11T21:25:11.607628Z"
    },
    "papermill": {
     "duration": 5.049219,
     "end_time": "2021-10-11T21:25:11.608534",
     "exception": false,
     "start_time": "2021-10-11T21:25:06.559315",
     "status": "completed"
    },
    "tags": []
   },
   "outputs": [],
   "source": [
    "%%capture captured\n",
    "%%sh\n",
    "ploomber build --force --env--some_param another_value --log INFO"
   ]
  },
  {
   "cell_type": "code",
   "execution_count": 9,
   "id": "67865863",
   "metadata": {
    "execution": {
     "iopub.execute_input": "2021-10-11T21:25:11.725688Z",
     "iopub.status.busy": "2021-10-11T21:25:11.724943Z",
     "iopub.status.idle": "2021-10-11T21:25:11.727966Z",
     "shell.execute_reply": "2021-10-11T21:25:11.728464Z"
    },
    "papermill": {
     "duration": 0.064701,
     "end_time": "2021-10-11T21:25:11.728703",
     "exception": false,
     "start_time": "2021-10-11T21:25:11.664002",
     "status": "completed"
    },
    "tags": []
   },
   "outputs": [
    {
     "name": "stdout",
     "output_type": "stream",
     "text": [
      "INFO:papermill:some_param:  another_value  type:  <class 'str'>\n"
     ]
    }
   ],
   "source": [
    "filter_output(captured, startswith='INFO:papermill:some_param')"
   ]
  },
  {
   "cell_type": "markdown",
   "id": "53d8f41b",
   "metadata": {
    "papermill": {
     "duration": 0.056125,
     "end_time": "2021-10-11T21:25:11.838647",
     "exception": false,
     "start_time": "2021-10-11T21:25:11.782522",
     "status": "completed"
    },
    "tags": []
   },
   "source": [
    "We see that our task effectively changed the value!\n",
    "\n",
    "Finally, let's see how the `output/` folder looks like:"
   ]
  },
  {
   "cell_type": "code",
   "execution_count": 10,
   "id": "7dd5c049",
   "metadata": {
    "execution": {
     "iopub.execute_input": "2021-10-11T21:25:11.955293Z",
     "iopub.status.busy": "2021-10-11T21:25:11.954378Z",
     "iopub.status.idle": "2021-10-11T21:25:12.026081Z",
     "shell.execute_reply": "2021-10-11T21:25:12.026957Z"
    },
    "papermill": {
     "duration": 0.134536,
     "end_time": "2021-10-11T21:25:12.027222",
     "exception": false,
     "start_time": "2021-10-11T21:25:11.892686",
     "status": "completed"
    },
    "tags": []
   },
   "outputs": [
    {
     "name": "stdout",
     "output_type": "stream",
     "text": [
      "output\n",
      "├── another_value\n",
      "│   └── notebook.ipynb\n",
      "└── default_value\n",
      "    └── notebook.ipynb\n",
      "\n",
      "2 directories, 2 files\n"
     ]
    }
   ],
   "source": [
    "%%sh\n",
    "tree output"
   ]
  },
  {
   "cell_type": "markdown",
   "id": "f28d989b",
   "metadata": {
    "papermill": {
     "duration": 0.060756,
     "end_time": "2021-10-11T21:25:12.142866",
     "exception": false,
     "start_time": "2021-10-11T21:25:12.082110",
     "status": "completed"
    },
    "tags": []
   },
   "source": [
    "\n",
    "We have separate folders for each parameter, helping to keep things organized and taking the looping logic out of our pipeline.\n",
    "\n",
    "\n",
    "### Notes\n",
    "\n",
    "* There are some built-in placeholders that you can use without having an `env.yaml` file. For example, `{{here}}` will expand to the `pipeline.yaml` parent directory. [Check out the Spec API documentation](https://ploomber.readthedocs.io/en/latest/api/spec.html#default-placeholders) for more information.\n",
    "* This example uses a Python script as a task. In SQL pipeline, you can achieve the same effect by using the placeholder in the product's schema or a table/view name prefix.\n",
    "* If the parameter takes many different values and you want to run your pipeline using all of them, calling them by hand might get tedious. So you have two options 1) write a  bash script that calls the CLI with different value parameters or 2) Use the Python API (everything that the CLI can do, you can do with Python directly), take a look at the `DAGSpec` documentation.\n",
    "* Parametrized `pipeline.yaml` files are a great way to simplify a task's logic but not overdo it. If you find yourself adding too many parameters, it's a better idea to use the Python AP directly; factory functions are the correct pattern for highly customized pipeline construction.\n",
    "* Given that the two pipelines are entirely independent, we could even run them in parallel.\n",
    "\n",
    "\n",
    "## Python API (factory functions)\n",
    "\n",
    "Parametrization is straightforward when using a factory function. If your\n",
    "factory takes parameters, they'll also be available in the command-line interface. Types are inferred from [type hints](https://docs.python.org/3/library/typing.html). Let's see an example:"
   ]
  },
  {
   "cell_type": "code",
   "execution_count": 11,
   "id": "a775ad63",
   "metadata": {
    "execution": {
     "iopub.execute_input": "2021-10-11T21:25:12.263898Z",
     "iopub.status.busy": "2021-10-11T21:25:12.262931Z",
     "iopub.status.idle": "2021-10-11T21:25:12.267196Z",
     "shell.execute_reply": "2021-10-11T21:25:12.268039Z"
    },
    "papermill": {
     "duration": 0.069149,
     "end_time": "2021-10-11T21:25:12.268354",
     "exception": false,
     "start_time": "2021-10-11T21:25:12.199205",
     "status": "completed"
    },
    "tags": []
   },
   "outputs": [
    {
     "data": {
      "text/markdown": [
       "\n",
       "```py\n",
       "from ploomber import DAG\n",
       "\n",
       "\n",
       "def make(param: str, another: int = 10):\n",
       "    dag = DAG()\n",
       "    # add tasks to your pipeline...\n",
       "    return dag\n",
       "```\n"
      ],
      "text/plain": [
       "<IPython.core.display.Markdown object>"
      ]
     },
     "metadata": {},
     "output_type": "display_data"
    }
   ],
   "source": [
    "display_file('factory.py')"
   ]
  },
  {
   "cell_type": "markdown",
   "id": "1001a464",
   "metadata": {
    "papermill": {
     "duration": 0.05812,
     "end_time": "2021-10-11T21:25:12.383184",
     "exception": false,
     "start_time": "2021-10-11T21:25:12.325064",
     "status": "completed"
    },
    "tags": []
   },
   "source": [
    "Our function takes two parameters: `param` and `another`. Parameters with no default values (`param`) turn into positional arguments, and function parameters with default values convert\n",
    "to optional parameters (`another`). To see the same auto-generated API, you can use the `--help` command:"
   ]
  },
  {
   "cell_type": "code",
   "execution_count": 12,
   "id": "d4a479fc",
   "metadata": {
    "execution": {
     "iopub.execute_input": "2021-10-11T21:25:12.505200Z",
     "iopub.status.busy": "2021-10-11T21:25:12.504433Z",
     "iopub.status.idle": "2021-10-11T21:25:15.501913Z",
     "shell.execute_reply": "2021-10-11T21:25:15.502530Z"
    },
    "papermill": {
     "duration": 3.062176,
     "end_time": "2021-10-11T21:25:15.502967",
     "exception": false,
     "start_time": "2021-10-11T21:25:12.440791",
     "status": "completed"
    },
    "tags": []
   },
   "outputs": [
    {
     "name": "stdout",
     "output_type": "stream",
     "text": [
      "usage: ploomber [-h] [--log LOG] [--entry-point ENTRY_POINT] [--force]\n",
      "                [--skip-upstream] [--partially PARTIALLY] [--debug]\n",
      "                [--another ANOTHER]\n",
      "                param\n",
      "\n",
      "Build pipeline\n",
      "\n",
      "positional arguments:\n",
      "  param\n",
      "\n",
      "optional arguments:\n",
      "  -h, --help            show this help message and exit\n",
      "  --log LOG, -l LOG     Enables logging to stdout at the specified level\n",
      "  --entry-point ENTRY_POINT, -e ENTRY_POINT\n",
      "                        Entry point, defaults to pipeline.yaml\n",
      "  --force, -f           Force execution by ignoring status\n",
      "  --skip-upstream, -su  Skip building upstream dependencies. Only applicable\n",
      "                        when using --partially\n",
      "  --partially PARTIALLY, -p PARTIALLY\n",
      "                        Build a pipeline partially until certain task\n",
      "  --debug, -d           Drop a debugger session if an exception happens\n",
      "  --another ANOTHER\n"
     ]
    }
   ],
   "source": [
    "%%sh\n",
    "ploomber build --entry-point factory.make --help"
   ]
  },
  {
   "cell_type": "markdown",
   "id": "ec586486",
   "metadata": {
    "papermill": {
     "duration": 0.0622,
     "end_time": "2021-10-11T21:25:15.622981",
     "exception": false,
     "start_time": "2021-10-11T21:25:15.560781",
     "status": "completed"
    },
    "tags": []
   },
   "source": [
    "Note that the Python API requires more work than a `pipeline.yaml` file, but it is more flexible. [Click here] to see [examples](https://github.com/ploomber/projects/tree/master/python-api-examples) using the Python API."
   ]
  }
 ],
 "metadata": {
  "jupytext": {
   "cell_metadata_filter": "-all",
   "main_language": "python",
   "notebook_metadata_filter": "-all"
  },
  "kernelspec": {
   "display_name": "Python 3 (ipykernel)",
   "language": "python",
   "name": "python3"
  },
  "language_info": {
   "codemirror_mode": {
    "name": "ipython",
    "version": 3
   },
   "file_extension": ".py",
   "mimetype": "text/x-python",
   "name": "python",
   "nbconvert_exporter": "python",
   "pygments_lexer": "ipython3",
   "version": "3.9.7"
  },
  "papermill": {
   "duration": 22.958628,
   "end_time": "2021-10-11T21:25:16.251236",
   "exception": null,
   "input_path": "/var/folders/3h/_lvh_w_x5g30rrjzb_xnn2j80000gq/T/tmpmiw7h1x4.ipynb",
   "output_path": "parametrized/README.ipynb",
   "parameters": {
    "product": "parametrized/README.ipynb"
   },
   "start_time": "2021-10-11T21:24:53.292608"
  }
 },
 "nbformat": 4,
 "nbformat_minor": 5
}
