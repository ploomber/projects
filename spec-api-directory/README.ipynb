{
 "cells": [
  {
   "cell_type": "markdown",
   "id": "5273ef05",
   "metadata": {
    "papermill": {
     "duration": 0.020131,
     "end_time": "2021-10-11T21:29:05.883708",
     "exception": false,
     "start_time": "2021-10-11T21:29:05.863577",
     "status": "completed"
    },
    "tags": []
   },
   "source": [
    "\n",
    "*Note:* You can run this example locally (`ploomber examples -n spec-api-directory`) or in Binder (hosted JupyterLab ).\n",
    "\n",
    "[![binder-logo](https://mybinder.org/badge_logo.svg)](https://mybinder.org/v2/gh/ploomber/binder-env/main?urlpath=git-pull%3Frepo%3Dhttps%253A%252F%252Fgithub.com%252Fploomber%252Fprojects%26urlpath%3Dlab%252Ftree%252Fprojects%252Fspec-api-directory%252FREADME.ipynb%26branch%3Dmaster)\n"
   ]
  },
  {
   "cell_type": "markdown",
   "id": "f5c8e4ee",
   "metadata": {
    "papermill": {
     "duration": 0.01847,
     "end_time": "2021-10-11T21:29:05.920125",
     "exception": false,
     "start_time": "2021-10-11T21:29:05.901655",
     "status": "completed"
    },
    "tags": []
   },
   "source": [
    "# Pipeline from directory\n",
    "\n",
    "Pipeline from a directory of scripts.\n",
    "\n",
    "## Setup\n",
    "\n",
    "(**Note**: Skip if running in Binder)\n",
    "\n",
    "~~~sh\n",
    "# if using conda\n",
    "conda env create --file environment.yaml\n",
    "conda activate spec-api-directory\n",
    "\n",
    "# or use pip directly\n",
    "pip install -r requirements.txt\n",
    "~~~\n",
    "\n",
    "## Build"
   ]
  },
  {
   "cell_type": "code",
   "execution_count": 1,
   "id": "5d2828e5",
   "metadata": {
    "execution": {
     "iopub.execute_input": "2021-10-11T21:29:05.964310Z",
     "iopub.status.busy": "2021-10-11T21:29:05.963608Z",
     "iopub.status.idle": "2021-10-11T21:29:24.570914Z",
     "shell.execute_reply": "2021-10-11T21:29:24.571911Z"
    },
    "papermill": {
     "duration": 18.634416,
     "end_time": "2021-10-11T21:29:24.572555",
     "exception": false,
     "start_time": "2021-10-11T21:29:05.938139",
     "status": "completed"
    },
    "tags": [
     "bash"
    ]
   },
   "outputs": [
    {
     "name": "stdout",
     "output_type": "stream",
     "text": [
      "name           Ran?      Elapsed (s)    Percentage\n",
      "-------------  ------  -------------  ------------\n",
      "get-users      True          3.33297       22.5055\n",
      "get-actions    True          3.32567       22.4563\n",
      "clean-users    True          1.99436       13.4667\n",
      "clean-actions  True          1.9673        13.284\n",
      "train-model    True          4.18927       28.2876\n"
     ]
    },
    {
     "name": "stderr",
     "output_type": "stream",
     "text": [
      "mkdir: output: File exists\n",
      "/Users/Edu/dev/ploomber/src/ploomber/dag/dag.py:390: UserWarning: \n",
      "=========================== DAG render with warnings ===========================\n",
      "- NotebookRunner: clean-users -> MetaProduct({'data': File('output/...sers.parquet'), 'nb': File('output/...-users.ipynb')}) -\n",
      "-------------------------------- clean-users.py --------------------------------\n",
      ":2:1 'numpy as np' imported but unused\n",
      "=============================== Summary (1 task) ===============================\n",
      "NotebookRunner: clean-users -> MetaProduct({'data': File('output/...sers.parquet'), 'nb': File('output/...-users.ipynb')})\n",
      "=========================== DAG render with warnings ===========================\n",
      "\n",
      "  warnings.warn(str(warnings_))\n",
      "Building task 'get-users':   0%|          | 0/5 [00:00<?, ?it/s]\n",
      "Executing:   0%|          | 0/7 [00:00<?, ?cell/s]\u001b[A\n",
      "Executing:  14%|█▍        | 1/7 [00:01<00:07,  1.30s/cell]\u001b[A\n",
      "Executing:  29%|██▊       | 2/7 [00:02<00:06,  1.21s/cell]\u001b[A\n",
      "Executing:  71%|███████▏  | 5/7 [00:02<00:00,  2.68cell/s]\u001b[A\n",
      "Executing: 100%|██████████| 7/7 [00:03<00:00,  2.14cell/s]\n",
      "Building task 'get-actions':  20%|██        | 1/5 [00:03<00:13,  3.34s/it]\n",
      "Executing:   0%|          | 0/7 [00:00<?, ?cell/s]\u001b[A\n",
      "Executing:  14%|█▍        | 1/7 [00:01<00:08,  1.35s/cell]\u001b[A\n",
      "Executing:  29%|██▊       | 2/7 [00:02<00:06,  1.23s/cell]\u001b[A\n",
      "Executing:  71%|███████▏  | 5/7 [00:02<00:00,  2.65cell/s]\u001b[A\n",
      "Executing: 100%|██████████| 7/7 [00:03<00:00,  2.14cell/s]\n",
      "Building task 'clean-users':  40%|████      | 2/5 [00:06<00:09,  3.33s/it]\n",
      "Executing:   0%|          | 0/5 [00:00<?, ?cell/s]\u001b[A\n",
      "Executing:  20%|██        | 1/5 [00:01<00:04,  1.12s/cell]\u001b[A\n",
      "Executing:  40%|████      | 2/5 [00:01<00:02,  1.34cell/s]\u001b[A\n",
      "Executing: 100%|██████████| 5/5 [00:01<00:00,  2.56cell/s]\n",
      "Building task 'clean-actions':  60%|██████    | 3/5 [00:08<00:05,  2.72s/it]\n",
      "Executing:   0%|          | 0/4 [00:00<?, ?cell/s]\u001b[A\n",
      "Executing:  25%|██▌       | 1/4 [00:01<00:04,  1.59s/cell]\u001b[A\n",
      "Executing: 100%|██████████| 4/4 [00:01<00:00,  2.07cell/s]\n",
      "Building task 'train-model':  80%|████████  | 4/5 [00:10<00:02,  2.43s/it]  \n",
      "Executing:   0%|          | 0/14 [00:00<?, ?cell/s]\u001b[A\n",
      "Executing:   7%|▋         | 1/14 [00:01<00:16,  1.27s/cell]\u001b[A\n",
      "Executing:  14%|█▍        | 2/14 [00:02<00:15,  1.26s/cell]\u001b[A\n",
      "Executing:  29%|██▊       | 4/14 [00:02<00:05,  1.96cell/s]\u001b[A\n",
      "Executing:  43%|████▎     | 6/14 [00:02<00:02,  3.20cell/s]\u001b[A\n",
      "Executing:  57%|█████▋    | 8/14 [00:02<00:01,  4.57cell/s]\u001b[A\n",
      "Executing:  71%|███████▏  | 10/14 [00:03<00:00,  5.90cell/s]\u001b[A\n",
      "Executing:  86%|████████▌ | 12/14 [00:03<00:00,  7.12cell/s]\u001b[A\n",
      "Executing: 100%|██████████| 14/14 [00:04<00:00,  3.44cell/s]\n",
      "Building task 'train-model': 100%|██████████| 5/5 [00:14<00:00,  2.97s/it]\n"
     ]
    }
   ],
   "source": [
    "%%sh\n",
    "mkdir output\n",
    "ploomber build --entry-point '*.py'"
   ]
  },
  {
   "cell_type": "markdown",
   "id": "0cf26b69",
   "metadata": {
    "papermill": {
     "duration": 0.029545,
     "end_time": "2021-10-11T21:29:24.639641",
     "exception": false,
     "start_time": "2021-10-11T21:29:24.610096",
     "status": "completed"
    },
    "tags": []
   },
   "source": [
    "Output stored in the `output/` directory."
   ]
  },
  {
   "cell_type": "markdown",
   "id": "166bf1f6",
   "metadata": {
    "papermill": {
     "duration": 0.02438,
     "end_time": "2021-10-11T21:29:24.689099",
     "exception": false,
     "start_time": "2021-10-11T21:29:24.664719",
     "status": "completed"
    },
    "tags": []
   },
   "source": [
    "## Describe\n",
    "\n",
    "This pipeline contains five steps. The last task trains a model and outputs a\n",
    "report and a model file. To get the pipeline description:"
   ]
  },
  {
   "cell_type": "code",
   "execution_count": 2,
   "id": "54800390",
   "metadata": {
    "execution": {
     "iopub.execute_input": "2021-10-11T21:29:24.739418Z",
     "iopub.status.busy": "2021-10-11T21:29:24.738761Z",
     "iopub.status.idle": "2021-10-11T21:29:28.545588Z",
     "shell.execute_reply": "2021-10-11T21:29:28.546222Z"
    },
    "papermill": {
     "duration": 3.834743,
     "end_time": "2021-10-11T21:29:28.546452",
     "exception": false,
     "start_time": "2021-10-11T21:29:24.711709",
     "status": "completed"
    },
    "tags": [
     "bash"
    ]
   },
   "outputs": [
    {
     "name": "stdout",
     "output_type": "stream",
     "text": [
      "name         Last run    Outdated?    Product      Doc          Location\n",
      "                                                   (short)\n",
      "-----------  ----------  -----------  -----------  -----------  ----------\n",
      "get-users    15 seconds  False        MetaProduct  Get users    get-\n",
      "             ago (Oct                 ({'data': F  data and     users.py\n",
      "             11, 21 at                ile('output  make some\n",
      "             17:29)                   /users.parq  charts\n",
      "                                      uet'),\n",
      "                                      'nb': File(\n",
      "                                      'output/get\n",
      "                                      -users.ipyn\n",
      "                                      b')})\n",
      "get-actions  12 seconds  False        MetaProduct  Get actions  get-\n",
      "             ago (Oct                 ({'data': F  data and     actions.py\n",
      "             11, 21 at                ile('output  make some\n",
      "             17:29)                   /actions.pa  charts\n",
      "                                      rquet'),\n",
      "                                      'nb': File(\n",
      "                                      'output/...\n",
      "                                      ctions.ipyn\n",
      "                                      b')})\n",
      "clean-users  10 seconds  False        MetaProduct  Clean users  clean-\n",
      "             ago (Oct                 ({'data': F  data         users.py\n",
      "             11, 21 at                ile('output\n",
      "             17:29)                   /...sers.pa\n",
      "                                      rquet'),\n",
      "                                      'nb': File(\n",
      "                                      'output/...\n",
      "                                      -users.ipyn\n",
      "                                      b')})\n",
      "clean-       8 seconds   False        MetaProduct               clean-\n",
      "actions      ago (Oct                 ({'data': F               actions.py\n",
      "             11, 21 at                ile('output\n",
      "             17:29)                   /...ions.pa\n",
      "                                      rquet'),\n",
      "                                      'nb': File(\n",
      "                                      'output/...\n",
      "                                      ctions.ipyn\n",
      "                                      b')})\n",
      "train-model  3 seconds   False        MetaProduct  Train model  train-\n",
      "             ago (Oct                 ({'model':   and          model.py\n",
      "             11, 21 at                File('outpu  evaluate\n",
      "             17:29)                   t/model.pic\n",
      "                                      kle'),\n",
      "                                      'nb': File(\n",
      "                                      'output/...\n",
      "                                      uation.ipyn\n",
      "                                      b')})\n"
     ]
    },
    {
     "name": "stderr",
     "output_type": "stream",
     "text": [
      "100%|██████████| 5/5 [00:00<00:00, 4341.03it/s]\n",
      "/Users/Edu/dev/ploomber/src/ploomber/dag/dag.py:390: UserWarning: \n",
      "=========================== DAG render with warnings ===========================\n",
      "- NotebookRunner: clean-users -> MetaProduct({'data': File('output/...sers.parquet'), 'nb': File('output/...-users.ipynb')}) -\n",
      "-------------------------------- clean-users.py --------------------------------\n",
      ":2:1 'numpy as np' imported but unused\n",
      "=============================== Summary (1 task) ===============================\n",
      "NotebookRunner: clean-users -> MetaProduct({'data': File('output/...sers.parquet'), 'nb': File('output/...-users.ipynb')})\n",
      "=========================== DAG render with warnings ===========================\n",
      "\n",
      "  warnings.warn(str(warnings_))\n"
     ]
    }
   ],
   "source": [
    "%%sh\n",
    "ploomber status --entry-point '*.py'"
   ]
  },
  {
   "cell_type": "markdown",
   "id": "f81c538d",
   "metadata": {
    "papermill": {
     "duration": 0.023536,
     "end_time": "2021-10-11T21:29:28.593056",
     "exception": false,
     "start_time": "2021-10-11T21:29:28.569520",
     "status": "completed"
    },
    "tags": []
   },
   "source": [
    "`--entry-point '*.py'` means \"all files with py extension are tasks in the\n",
    "pipeline\". If all the files in the current directory are tasks, you can also\n",
    "use the shortcut `--entry-point .`."
   ]
  }
 ],
 "metadata": {
  "jupytext": {
   "cell_metadata_filter": "tags,-all",
   "main_language": "bash",
   "notebook_metadata_filter": "-all"
  },
  "kernelspec": {
   "display_name": "Python 3 (ipykernel)",
   "language": "python",
   "name": "python3"
  },
  "language_info": {
   "codemirror_mode": {
    "name": "ipython",
    "version": 3
   },
   "file_extension": ".py",
   "mimetype": "text/x-python",
   "name": "python",
   "nbconvert_exporter": "python",
   "pygments_lexer": "ipython3",
   "version": "3.9.7"
  },
  "papermill": {
   "duration": 24.380188,
   "end_time": "2021-10-11T21:29:28.925693",
   "exception": null,
   "input_path": "/var/folders/3h/_lvh_w_x5g30rrjzb_xnn2j80000gq/T/tmp7eyu8l96.ipynb",
   "output_path": "spec-api-directory/README.ipynb",
   "parameters": {
    "product": "spec-api-directory/README.ipynb"
   },
   "start_time": "2021-10-11T21:29:04.545505"
  }
 },
 "nbformat": 4,
 "nbformat_minor": 5
}
