{
 "cells": [
  {
   "cell_type": "markdown",
   "id": "ed8d466f",
   "metadata": {
    "papermill": {
     "duration": 0.039387,
     "end_time": "2022-08-23T01:56:55.845224",
     "exception": false,
     "start_time": "2022-08-23T01:56:55.805837",
     "status": "completed"
    },
    "tags": []
   },
   "source": [
    "## Machine Learning (classification)\n",
    "\n",
    "*Note: the micro-pipelines API was added in Ploomber 0.21*"
   ]
  },
  {
   "cell_type": "code",
   "execution_count": 1,
   "id": "eae639f5",
   "metadata": {
    "execution": {
     "iopub.execute_input": "2022-08-23T01:56:55.961228Z",
     "iopub.status.busy": "2022-08-23T01:56:55.960799Z",
     "iopub.status.idle": "2022-08-23T01:56:56.044085Z",
     "shell.execute_reply": "2022-08-23T01:56:56.043319Z"
    },
    "papermill": {
     "duration": 0.117773,
     "end_time": "2022-08-23T01:56:56.046436",
     "exception": false,
     "start_time": "2022-08-23T01:56:55.928663",
     "status": "completed"
    },
    "tags": []
   },
   "outputs": [],
   "source": [
    "import warnings\n",
    "warnings.filterwarnings('ignore')"
   ]
  },
  {
   "cell_type": "code",
   "execution_count": 2,
   "id": "1bcced56",
   "metadata": {
    "execution": {
     "iopub.execute_input": "2022-08-23T01:56:56.160921Z",
     "iopub.status.busy": "2022-08-23T01:56:56.160420Z",
     "iopub.status.idle": "2022-08-23T01:57:00.516101Z",
     "shell.execute_reply": "2022-08-23T01:57:00.514979Z"
    },
    "papermill": {
     "duration": 4.441173,
     "end_time": "2022-08-23T01:57:00.518718",
     "exception": false,
     "start_time": "2022-08-23T01:56:56.077545",
     "status": "completed"
    },
    "tags": []
   },
   "outputs": [],
   "source": [
    "from sklearn import datasets\n",
    "from sklearn.ensemble import RandomForestClassifier, AdaBoostClassifier\n",
    "from sklearn.model_selection import train_test_split\n",
    "from sklearn.metrics import accuracy_score\n",
    "from sklearn.preprocessing import StandardScaler, PolynomialFeatures\n",
    "from sklearn_evaluation import plot\n",
    "import matplotlib.pyplot as plt\n",
    "\n",
    "from ploomber.micro import dag_from_functions, grid"
   ]
  },
  {
   "cell_type": "markdown",
   "id": "a9e9e8ce",
   "metadata": {
    "papermill": {
     "duration": 0.031426,
     "end_time": "2022-08-23T01:57:00.578561",
     "exception": false,
     "start_time": "2022-08-23T01:57:00.547135",
     "status": "completed"
    },
    "tags": []
   },
   "source": [
    "## Declare steps"
   ]
  },
  {
   "cell_type": "code",
   "execution_count": 3,
   "id": "32df98d4",
   "metadata": {
    "execution": {
     "iopub.execute_input": "2022-08-23T01:57:00.642502Z",
     "iopub.status.busy": "2022-08-23T01:57:00.641851Z",
     "iopub.status.idle": "2022-08-23T01:57:00.654684Z",
     "shell.execute_reply": "2022-08-23T01:57:00.653943Z"
    },
    "papermill": {
     "duration": 0.046266,
     "end_time": "2022-08-23T01:57:00.656722",
     "exception": false,
     "start_time": "2022-08-23T01:57:00.610456",
     "status": "completed"
    },
    "tags": []
   },
   "outputs": [],
   "source": [
    "def data():\n",
    "    data = datasets.make_classification(1000, 10, n_informative=5,\n",
    "                                        class_sep=0.80)\n",
    "    X, y = data\n",
    "    X_train, X_test, y_train, y_test = train_test_split(X, y, test_size=0.33)\n",
    "    return X_train, X_test, y_train, y_test\n",
    "\n",
    "def features(data):\n",
    "    X_train, X_test, y_train, y_test = data\n",
    "    poly = PolynomialFeatures()\n",
    "    X_train_feats = poly.fit_transform(X_train)\n",
    "    X_test_feats = poly.transform(X_test)\n",
    "    return X_train_feats, X_test_feats, y_train, y_test, poly\n",
    "\n",
    "def scaled(features):\n",
    "    X_train, X_test, y_train, y_test, _ = features\n",
    "    scaler = StandardScaler()\n",
    "    X_train_norm = scaler.fit_transform(X_train)\n",
    "    X_test_norm = scaler.transform(X_test)\n",
    "    return X_train_norm, X_test_norm, y_train, y_test, scaler\n",
    "\n",
    "@grid(model=[RandomForestClassifier],\n",
    "      n_estimators=[50, 100, 200],\n",
    "      criterion=[\"gini\", \"entropy\"],\n",
    ")\n",
    "def fit_random_forest(scaled, model, n_estimators, criterion):    \n",
    "    X_train, X_test, y_train, y_test, _ = scaled\n",
    "    clf = model(n_estimators=n_estimators, criterion=criterion)\n",
    "    clf.fit(X_train, y_train)\n",
    "    y_pred = clf.predict(X_test)\n",
    "    acc = accuracy_score(y_test, y_pred)\n",
    "    return dict(clf=clf, acc=acc)\n",
    "\n",
    "@grid(model=[AdaBoostClassifier],\n",
    "      n_estimators=[50, 100, 200],\n",
    "      learning_rate=[1.0, 2.0],\n",
    ")\n",
    "def fit_ada_boost(scaled, model, n_estimators, learning_rate):    \n",
    "    X_train, X_test, y_train, y_test, _ = scaled\n",
    "    clf = model(n_estimators=n_estimators, learning_rate=learning_rate)\n",
    "    clf.fit(X_train, y_train)\n",
    "    y_pred = clf.predict(X_test)\n",
    "    acc = accuracy_score(y_test, y_pred)\n",
    "    return dict(clf=clf, acc=acc)"
   ]
  },
  {
   "cell_type": "markdown",
   "id": "5392001d",
   "metadata": {
    "papermill": {
     "duration": 0.031037,
     "end_time": "2022-08-23T01:57:00.716104",
     "exception": false,
     "start_time": "2022-08-23T01:57:00.685067",
     "status": "completed"
    },
    "tags": []
   },
   "source": [
    "## Plot pipeline"
   ]
  },
  {
   "cell_type": "code",
   "execution_count": 4,
   "id": "e138eaa1",
   "metadata": {
    "execution": {
     "iopub.execute_input": "2022-08-23T01:57:00.775946Z",
     "iopub.status.busy": "2022-08-23T01:57:00.775560Z",
     "iopub.status.idle": "2022-08-23T01:57:00.790808Z",
     "shell.execute_reply": "2022-08-23T01:57:00.789995Z"
    },
    "papermill": {
     "duration": 0.047193,
     "end_time": "2022-08-23T01:57:00.793508",
     "exception": false,
     "start_time": "2022-08-23T01:57:00.746315",
     "status": "completed"
    },
    "tags": []
   },
   "outputs": [],
   "source": [
    "dag = dag_from_functions([data, features, scaled, fit_random_forest, fit_ada_boost])"
   ]
  },
  {
   "cell_type": "code",
   "execution_count": 5,
   "id": "cef03cd4",
   "metadata": {
    "execution": {
     "iopub.execute_input": "2022-08-23T01:57:00.854684Z",
     "iopub.status.busy": "2022-08-23T01:57:00.854309Z",
     "iopub.status.idle": "2022-08-23T01:57:02.054156Z",
     "shell.execute_reply": "2022-08-23T01:57:02.053348Z"
    },
    "papermill": {
     "duration": 1.235567,
     "end_time": "2022-08-23T01:57:02.059517",
     "exception": false,
     "start_time": "2022-08-23T01:57:00.823950",
     "status": "completed"
    },
    "tags": []
   },
   "outputs": [
    {
     "data": {
      "application/vnd.jupyter.widget-view+json": {
       "model_id": "9dbf3cc14a3c4b249fc7891530639033",
       "version_major": 2,
       "version_minor": 0
      },
      "text/plain": [
       "  0%|          | 0/15 [00:00<?, ?it/s]"
      ]
     },
     "metadata": {},
     "output_type": "display_data"
    },
    {
     "data": {
      "image/png": "[encoded data removed]",
      "text/plain": [
       "<IPython.core.display.Image object>"
      ]
     },
     "execution_count": 5,
     "metadata": {},
     "output_type": "execute_result"
    }
   ],
   "source": [
    "dag.plot()"
   ]
  },
  {
   "cell_type": "markdown",
   "id": "deaa4662",
   "metadata": {
    "papermill": {
     "duration": 0.040818,
     "end_time": "2022-08-23T01:57:02.133479",
     "exception": false,
     "start_time": "2022-08-23T01:57:02.092661",
     "status": "completed"
    },
    "tags": []
   },
   "source": [
    "## Run"
   ]
  },
  {
   "cell_type": "code",
   "execution_count": 6,
   "id": "8e2307c9",
   "metadata": {
    "execution": {
     "iopub.execute_input": "2022-08-23T01:57:02.207403Z",
     "iopub.status.busy": "2022-08-23T01:57:02.207016Z",
     "iopub.status.idle": "2022-08-23T01:57:09.894177Z",
     "shell.execute_reply": "2022-08-23T01:57:09.893356Z"
    },
    "papermill": {
     "duration": 7.72819,
     "end_time": "2022-08-23T01:57:09.898311",
     "exception": false,
     "start_time": "2022-08-23T01:57:02.170121",
     "status": "completed"
    },
    "tags": []
   },
   "outputs": [
    {
     "data": {
      "application/vnd.jupyter.widget-view+json": {
       "model_id": "98b7c4817c004ea6ae49484d83eff36d",
       "version_major": 2,
       "version_minor": 0
      },
      "text/plain": [
       "  0%|          | 0/15 [00:00<?, ?it/s]"
      ]
     },
     "metadata": {},
     "output_type": "display_data"
    },
    {
     "data": {
      "text/html": [
       "<table>\n",
       "<thead>\n",
       "<tr><th>name               </th><th>Ran?  </th><th style=\"text-align: right;\">  Elapsed (s)</th><th style=\"text-align: right;\">  Percentage</th></tr>\n",
       "</thead>\n",
       "<tbody>\n",
       "<tr><td>data               </td><td>True  </td><td style=\"text-align: right;\">     0.038992</td><td style=\"text-align: right;\">   0.5138   </td></tr>\n",
       "<tr><td>features           </td><td>True  </td><td style=\"text-align: right;\">     0.00377 </td><td style=\"text-align: right;\">   0.0496775</td></tr>\n",
       "<tr><td>scaled             </td><td>True  </td><td style=\"text-align: right;\">     0.00622 </td><td style=\"text-align: right;\">   0.0819613</td></tr>\n",
       "<tr><td>fit_random_forest-0</td><td>True  </td><td style=\"text-align: right;\">     0.191089</td><td style=\"text-align: right;\">   2.51799  </td></tr>\n",
       "<tr><td>fit_random_forest-1</td><td>True  </td><td style=\"text-align: right;\">     0.2449  </td><td style=\"text-align: right;\">   3.22706  </td></tr>\n",
       "<tr><td>fit_random_forest-2</td><td>True  </td><td style=\"text-align: right;\">     0.398946</td><td style=\"text-align: right;\">   5.25694  </td></tr>\n",
       "<tr><td>fit_random_forest-3</td><td>True  </td><td style=\"text-align: right;\">     0.490001</td><td style=\"text-align: right;\">   6.45678  </td></tr>\n",
       "<tr><td>fit_random_forest-4</td><td>True  </td><td style=\"text-align: right;\">     0.733074</td><td style=\"text-align: right;\">   9.65976  </td></tr>\n",
       "<tr><td>fit_random_forest-5</td><td>True  </td><td style=\"text-align: right;\">     0.983161</td><td style=\"text-align: right;\">  12.9552   </td></tr>\n",
       "<tr><td>fit_ada_boost-0    </td><td>True  </td><td style=\"text-align: right;\">     0.31566 </td><td style=\"text-align: right;\">   4.15947  </td></tr>\n",
       "<tr><td>fit_ada_boost-1    </td><td>True  </td><td style=\"text-align: right;\">     0.311586</td><td style=\"text-align: right;\">   4.10579  </td></tr>\n",
       "<tr><td>fit_ada_boost-2    </td><td>True  </td><td style=\"text-align: right;\">     0.625864</td><td style=\"text-align: right;\">   8.24705  </td></tr>\n",
       "<tr><td>fit_ada_boost-3    </td><td>True  </td><td style=\"text-align: right;\">     0.62887 </td><td style=\"text-align: right;\">   8.28666  </td></tr>\n",
       "<tr><td>fit_ada_boost-4    </td><td>True  </td><td style=\"text-align: right;\">     1.37395 </td><td style=\"text-align: right;\">  18.1046   </td></tr>\n",
       "<tr><td>fit_ada_boost-5    </td><td>True  </td><td style=\"text-align: right;\">     1.24286 </td><td style=\"text-align: right;\">  16.3772   </td></tr>\n",
       "</tbody>\n",
       "</table>"
      ],
      "text/plain": [
       "name                 Ran?      Elapsed (s)    Percentage\n",
       "-------------------  ------  -------------  ------------\n",
       "data                 True         0.038992     0.5138\n",
       "features             True         0.00377      0.0496775\n",
       "scaled               True         0.00622      0.0819613\n",
       "fit_random_forest-0  True         0.191089     2.51799\n",
       "fit_random_forest-1  True         0.2449       3.22706\n",
       "fit_random_forest-2  True         0.398946     5.25694\n",
       "fit_random_forest-3  True         0.490001     6.45678\n",
       "fit_random_forest-4  True         0.733074     9.65976\n",
       "fit_random_forest-5  True         0.983161    12.9552\n",
       "fit_ada_boost-0      True         0.31566      4.15947\n",
       "fit_ada_boost-1      True         0.311586     4.10579\n",
       "fit_ada_boost-2      True         0.625864     8.24705\n",
       "fit_ada_boost-3      True         0.62887      8.28666\n",
       "fit_ada_boost-4      True         1.37395     18.1046\n",
       "fit_ada_boost-5      True         1.24286     16.3772"
      ]
     },
     "execution_count": 6,
     "metadata": {},
     "output_type": "execute_result"
    }
   ],
   "source": [
    "dag.build()"
   ]
  },
  {
   "cell_type": "markdown",
   "id": "d1fef5f8",
   "metadata": {
    "papermill": {
     "duration": 0.036009,
     "end_time": "2022-08-23T01:57:09.970163",
     "exception": false,
     "start_time": "2022-08-23T01:57:09.934154",
     "status": "completed"
    },
    "tags": []
   },
   "source": [
    "## Sort models by performance"
   ]
  },
  {
   "cell_type": "code",
   "execution_count": 7,
   "id": "94a8b6d8",
   "metadata": {
    "execution": {
     "iopub.execute_input": "2022-08-23T01:57:10.052065Z",
     "iopub.status.busy": "2022-08-23T01:57:10.051485Z",
     "iopub.status.idle": "2022-08-23T01:57:10.109653Z",
     "shell.execute_reply": "2022-08-23T01:57:10.108815Z"
    },
    "papermill": {
     "duration": 0.103879,
     "end_time": "2022-08-23T01:57:10.112372",
     "exception": false,
     "start_time": "2022-08-23T01:57:10.008493",
     "status": "completed"
    },
    "tags": []
   },
   "outputs": [],
   "source": [
    "outputs = [task.load() for name, task in dag.items() if name.startswith('fit_')]"
   ]
  },
  {
   "cell_type": "code",
   "execution_count": 8,
   "id": "dd013b9d",
   "metadata": {
    "execution": {
     "iopub.execute_input": "2022-08-23T01:57:10.191039Z",
     "iopub.status.busy": "2022-08-23T01:57:10.190654Z",
     "iopub.status.idle": "2022-08-23T01:57:10.209755Z",
     "shell.execute_reply": "2022-08-23T01:57:10.209058Z"
    },
    "papermill": {
     "duration": 0.072707,
     "end_time": "2022-08-23T01:57:10.223952",
     "exception": false,
     "start_time": "2022-08-23T01:57:10.151245",
     "status": "completed"
    },
    "tags": []
   },
   "outputs": [
    {
     "name": "stdout",
     "output_type": "stream",
     "text": [
      "RandomForestClassifier(criterion='entropy'): 0.89\n",
      "RandomForestClassifier(criterion='entropy', n_estimators=200): 0.89\n",
      "RandomForestClassifier(criterion='entropy', n_estimators=50): 0.88\n",
      "AdaBoostClassifier(): 0.88\n",
      "RandomForestClassifier(n_estimators=50): 0.88\n",
      "RandomForestClassifier(n_estimators=200): 0.88\n",
      "RandomForestClassifier(): 0.88\n",
      "AdaBoostClassifier(n_estimators=100): 0.87\n",
      "AdaBoostClassifier(n_estimators=200): 0.86\n",
      "AdaBoostClassifier(learning_rate=2.0): 0.62\n",
      "AdaBoostClassifier(learning_rate=2.0, n_estimators=100): 0.61\n",
      "AdaBoostClassifier(learning_rate=2.0, n_estimators=200): 0.60\n"
     ]
    }
   ],
   "source": [
    "for out in sorted(outputs, key=lambda k: k['acc'], reverse=True):\n",
    "    print(f'{out[\"clf\"]}: {out[\"acc\"]:.2f}')"
   ]
  }
 ],
 "metadata": {
  "jupytext": {
   "cell_metadata_filter": "-all",
   "main_language": "python",
   "notebook_metadata_filter": "-all"
  },
  "kernelspec": {
   "display_name": "Python 3 (ipykernel)",
   "language": "python",
   "name": "python3"
  },
  "language_info": {
   "codemirror_mode": {
    "name": "ipython",
    "version": 3
   },
   "file_extension": ".py",
   "mimetype": "text/x-python",
   "name": "python",
   "nbconvert_exporter": "python",
   "pygments_lexer": "ipython3",
   "version": "3.10.1"
  },
  "papermill": {
   "default_parameters": {},
   "duration": 16.892795,
   "end_time": "2022-08-23T01:57:10.909938",
   "environment_variables": {},
   "exception": null,
   "input_path": "ml-classification.ipynb",
   "output_path": "ml-classification.ipynb",
   "parameters": {},
   "start_time": "2022-08-23T01:56:54.017143",
   "version": "2.3.4"
  },
  "widgets": {
   "application/vnd.jupyter.widget-state+json": {
    "state": {
     "024f1d35aa394dfaa1ae34178dc34d33": {
      "model_module": "@jupyter-widgets/base",
      "model_module_version": "1.2.0",
      "model_name": "LayoutModel",
      "state": {
       "_model_module": "@jupyter-widgets/base",
       "_model_module_version": "1.2.0",
       "_model_name": "LayoutModel",
       "_view_count": null,
       "_view_module": "@jupyter-widgets/base",
       "_view_module_version": "1.2.0",
       "_view_name": "LayoutView",
       "align_content": null,
       "align_items": null,
       "align_self": null,
       "border": null,
       "bottom": null,
       "display": null,
       "flex": null,
       "flex_flow": null,
       "grid_area": null,
       "grid_auto_columns": null,
       "grid_auto_flow": null,
       "grid_auto_rows": null,
       "grid_column": null,
       "grid_gap": null,
       "grid_row": null,
       "grid_template_areas": null,
       "grid_template_columns": null,
       "grid_template_rows": null,
       "height": null,
       "justify_content": null,
       "justify_items": null,
       "left": null,
       "margin": null,
       "max_height": null,
       "max_width": null,
       "min_height": null,
       "min_width": null,
       "object_fit": null,
       "object_position": null,
       "order": null,
       "overflow": null,
       "overflow_x": null,
       "overflow_y": null,
       "padding": null,
       "right": null,
       "top": null,
       "visibility": null,
       "width": null
      }
     },
     "0ac0e30631fc417da6aa7cce4c4888c1": {
      "model_module": "@jupyter-widgets/controls",
      "model_module_version": "1.5.0",
      "model_name": "HTMLModel",
      "state": {
       "_dom_classes": [],
       "_model_module": "@jupyter-widgets/controls",
       "_model_module_version": "1.5.0",
       "_model_name": "HTMLModel",
       "_view_count": null,
       "_view_module": "@jupyter-widgets/controls",
       "_view_module_version": "1.5.0",
       "_view_name": "HTMLView",
       "description": "",
       "description_tooltip": null,
       "layout": "IPY_MODEL_7ad45d821e004bf29d6a951f17c9fec4",
       "placeholder": "​",
       "style": "IPY_MODEL_c09471a171f04555a94aa32618dcfbe5",
       "value": "100%"
      }
     },
     "1c9460e3075a47d981777becbce04481": {
      "model_module": "@jupyter-widgets/controls",
      "model_module_version": "1.5.0",
      "model_name": "ProgressStyleModel",
      "state": {
       "_model_module": "@jupyter-widgets/controls",
       "_model_module_version": "1.5.0",
       "_model_name": "ProgressStyleModel",
       "_view_count": null,
       "_view_module": "@jupyter-widgets/base",
       "_view_module_version": "1.2.0",
       "_view_name": "StyleView",
       "bar_color": null,
       "description_width": ""
      }
     },
     "2572de79aef545c781398f6dcc969f7a": {
      "model_module": "@jupyter-widgets/base",
      "model_module_version": "1.2.0",
      "model_name": "LayoutModel",
      "state": {
       "_model_module": "@jupyter-widgets/base",
       "_model_module_version": "1.2.0",
       "_model_name": "LayoutModel",
       "_view_count": null,
       "_view_module": "@jupyter-widgets/base",
       "_view_module_version": "1.2.0",
       "_view_name": "LayoutView",
       "align_content": null,
       "align_items": null,
       "align_self": null,
       "border": null,
       "bottom": null,
       "display": null,
       "flex": null,
       "flex_flow": null,
       "grid_area": null,
       "grid_auto_columns": null,
       "grid_auto_flow": null,
       "grid_auto_rows": null,
       "grid_column": null,
       "grid_gap": null,
       "grid_row": null,
       "grid_template_areas": null,
       "grid_template_columns": null,
       "grid_template_rows": null,
       "height": null,
       "justify_content": null,
       "justify_items": null,
       "left": null,
       "margin": null,
       "max_height": null,
       "max_width": null,
       "min_height": null,
       "min_width": null,
       "object_fit": null,
       "object_position": null,
       "order": null,
       "overflow": null,
       "overflow_x": null,
       "overflow_y": null,
       "padding": null,
       "right": null,
       "top": null,
       "visibility": null,
       "width": null
      }
     },
     "40cc571504ad46f1966b0266d399528d": {
      "model_module": "@jupyter-widgets/base",
      "model_module_version": "1.2.0",
      "model_name": "LayoutModel",
      "state": {
       "_model_module": "@jupyter-widgets/base",
       "_model_module_version": "1.2.0",
       "_model_name": "LayoutModel",
       "_view_count": null,
       "_view_module": "@jupyter-widgets/base",
       "_view_module_version": "1.2.0",
       "_view_name": "LayoutView",
       "align_content": null,
       "align_items": null,
       "align_self": null,
       "border": null,
       "bottom": null,
       "display": null,
       "flex": null,
       "flex_flow": null,
       "grid_area": null,
       "grid_auto_columns": null,
       "grid_auto_flow": null,
       "grid_auto_rows": null,
       "grid_column": null,
       "grid_gap": null,
       "grid_row": null,
       "grid_template_areas": null,
       "grid_template_columns": null,
       "grid_template_rows": null,
       "height": null,
       "justify_content": null,
       "justify_items": null,
       "left": null,
       "margin": null,
       "max_height": null,
       "max_width": null,
       "min_height": null,
       "min_width": null,
       "object_fit": null,
       "object_position": null,
       "order": null,
       "overflow": null,
       "overflow_x": null,
       "overflow_y": null,
       "padding": null,
       "right": null,
       "top": null,
       "visibility": null,
       "width": null
      }
     },
     "4acf2ccf4e9e4caba5b69d973ed68244": {
      "model_module": "@jupyter-widgets/controls",
      "model_module_version": "1.5.0",
      "model_name": "FloatProgressModel",
      "state": {
       "_dom_classes": [],
       "_model_module": "@jupyter-widgets/controls",
       "_model_module_version": "1.5.0",
       "_model_name": "FloatProgressModel",
       "_view_count": null,
       "_view_module": "@jupyter-widgets/controls",
       "_view_module_version": "1.5.0",
       "_view_name": "ProgressView",
       "bar_style": "success",
       "description": "",
       "description_tooltip": null,
       "layout": "IPY_MODEL_2572de79aef545c781398f6dcc969f7a",
       "max": 15,
       "min": 0,
       "orientation": "horizontal",
       "style": "IPY_MODEL_1c9460e3075a47d981777becbce04481",
       "value": 15
      }
     },
     "68edaed5512949e99fdb44e560a13bab": {
      "model_module": "@jupyter-widgets/controls",
      "model_module_version": "1.5.0",
      "model_name": "ProgressStyleModel",
      "state": {
       "_model_module": "@jupyter-widgets/controls",
       "_model_module_version": "1.5.0",
       "_model_name": "ProgressStyleModel",
       "_view_count": null,
       "_view_module": "@jupyter-widgets/base",
       "_view_module_version": "1.2.0",
       "_view_name": "StyleView",
       "bar_color": null,
       "description_width": ""
      }
     },
     "69db91f838604948bfbe2762b6285863": {
      "model_module": "@jupyter-widgets/base",
      "model_module_version": "1.2.0",
      "model_name": "LayoutModel",
      "state": {
       "_model_module": "@jupyter-widgets/base",
       "_model_module_version": "1.2.0",
       "_model_name": "LayoutModel",
       "_view_count": null,
       "_view_module": "@jupyter-widgets/base",
       "_view_module_version": "1.2.0",
       "_view_name": "LayoutView",
       "align_content": null,
       "align_items": null,
       "align_self": null,
       "border": null,
       "bottom": null,
       "display": null,
       "flex": null,
       "flex_flow": null,
       "grid_area": null,
       "grid_auto_columns": null,
       "grid_auto_flow": null,
       "grid_auto_rows": null,
       "grid_column": null,
       "grid_gap": null,
       "grid_row": null,
       "grid_template_areas": null,
       "grid_template_columns": null,
       "grid_template_rows": null,
       "height": null,
       "justify_content": null,
       "justify_items": null,
       "left": null,
       "margin": null,
       "max_height": null,
       "max_width": null,
       "min_height": null,
       "min_width": null,
       "object_fit": null,
       "object_position": null,
       "order": null,
       "overflow": null,
       "overflow_x": null,
       "overflow_y": null,
       "padding": null,
       "right": null,
       "top": null,
       "visibility": null,
       "width": null
      }
     },
     "745d684dd5344b3cb2888c45024c7c1b": {
      "model_module": "@jupyter-widgets/controls",
      "model_module_version": "1.5.0",
      "model_name": "HTMLModel",
      "state": {
       "_dom_classes": [],
       "_model_module": "@jupyter-widgets/controls",
       "_model_module_version": "1.5.0",
       "_model_name": "HTMLModel",
       "_view_count": null,
       "_view_module": "@jupyter-widgets/controls",
       "_view_module_version": "1.5.0",
       "_view_name": "HTMLView",
       "description": "",
       "description_tooltip": null,
       "layout": "IPY_MODEL_024f1d35aa394dfaa1ae34178dc34d33",
       "placeholder": "​",
       "style": "IPY_MODEL_80384bc0e03a4bc1b4dd5035ed4d64b4",
       "value": " 15/15 [00:07&lt;00:00,  1.09it/s]"
      }
     },
     "79e25e4aaa1f4d099b66b2f5458f47ec": {
      "model_module": "@jupyter-widgets/base",
      "model_module_version": "1.2.0",
      "model_name": "LayoutModel",
      "state": {
       "_model_module": "@jupyter-widgets/base",
       "_model_module_version": "1.2.0",
       "_model_name": "LayoutModel",
       "_view_count": null,
       "_view_module": "@jupyter-widgets/base",
       "_view_module_version": "1.2.0",
       "_view_name": "LayoutView",
       "align_content": null,
       "align_items": null,
       "align_self": null,
       "border": null,
       "bottom": null,
       "display": null,
       "flex": null,
       "flex_flow": null,
       "grid_area": null,
       "grid_auto_columns": null,
       "grid_auto_flow": null,
       "grid_auto_rows": null,
       "grid_column": null,
       "grid_gap": null,
       "grid_row": null,
       "grid_template_areas": null,
       "grid_template_columns": null,
       "grid_template_rows": null,
       "height": null,
       "justify_content": null,
       "justify_items": null,
       "left": null,
       "margin": null,
       "max_height": null,
       "max_width": null,
       "min_height": null,
       "min_width": null,
       "object_fit": null,
       "object_position": null,
       "order": null,
       "overflow": null,
       "overflow_x": null,
       "overflow_y": null,
       "padding": null,
       "right": null,
       "top": null,
       "visibility": null,
       "width": null
      }
     },
     "7ad45d821e004bf29d6a951f17c9fec4": {
      "model_module": "@jupyter-widgets/base",
      "model_module_version": "1.2.0",
      "model_name": "LayoutModel",
      "state": {
       "_model_module": "@jupyter-widgets/base",
       "_model_module_version": "1.2.0",
       "_model_name": "LayoutModel",
       "_view_count": null,
       "_view_module": "@jupyter-widgets/base",
       "_view_module_version": "1.2.0",
       "_view_name": "LayoutView",
       "align_content": null,
       "align_items": null,
       "align_self": null,
       "border": null,
       "bottom": null,
       "display": null,
       "flex": null,
       "flex_flow": null,
       "grid_area": null,
       "grid_auto_columns": null,
       "grid_auto_flow": null,
       "grid_auto_rows": null,
       "grid_column": null,
       "grid_gap": null,
       "grid_row": null,
       "grid_template_areas": null,
       "grid_template_columns": null,
       "grid_template_rows": null,
       "height": null,
       "justify_content": null,
       "justify_items": null,
       "left": null,
       "margin": null,
       "max_height": null,
       "max_width": null,
       "min_height": null,
       "min_width": null,
       "object_fit": null,
       "object_position": null,
       "order": null,
       "overflow": null,
       "overflow_x": null,
       "overflow_y": null,
       "padding": null,
       "right": null,
       "top": null,
       "visibility": null,
       "width": null
      }
     },
     "80384bc0e03a4bc1b4dd5035ed4d64b4": {
      "model_module": "@jupyter-widgets/controls",
      "model_module_version": "1.5.0",
      "model_name": "DescriptionStyleModel",
      "state": {
       "_model_module": "@jupyter-widgets/controls",
       "_model_module_version": "1.5.0",
       "_model_name": "DescriptionStyleModel",
       "_view_count": null,
       "_view_module": "@jupyter-widgets/base",
       "_view_module_version": "1.2.0",
       "_view_name": "StyleView",
       "description_width": ""
      }
     },
     "98b7c4817c004ea6ae49484d83eff36d": {
      "model_module": "@jupyter-widgets/controls",
      "model_module_version": "1.5.0",
      "model_name": "HBoxModel",
      "state": {
       "_dom_classes": [],
       "_model_module": "@jupyter-widgets/controls",
       "_model_module_version": "1.5.0",
       "_model_name": "HBoxModel",
       "_view_count": null,
       "_view_module": "@jupyter-widgets/controls",
       "_view_module_version": "1.5.0",
       "_view_name": "HBoxView",
       "box_style": "",
       "children": [
        "IPY_MODEL_c0fa45502e344599a2dfc65eded1ccf3",
        "IPY_MODEL_a763682b4528439dbb04321daf5b2e59",
        "IPY_MODEL_745d684dd5344b3cb2888c45024c7c1b"
       ],
       "layout": "IPY_MODEL_40cc571504ad46f1966b0266d399528d"
      }
     },
     "9c7fd47046214a1ea37bdf1657656391": {
      "model_module": "@jupyter-widgets/controls",
      "model_module_version": "1.5.0",
      "model_name": "DescriptionStyleModel",
      "state": {
       "_model_module": "@jupyter-widgets/controls",
       "_model_module_version": "1.5.0",
       "_model_name": "DescriptionStyleModel",
       "_view_count": null,
       "_view_module": "@jupyter-widgets/base",
       "_view_module_version": "1.2.0",
       "_view_name": "StyleView",
       "description_width": ""
      }
     },
     "9dbf3cc14a3c4b249fc7891530639033": {
      "model_module": "@jupyter-widgets/controls",
      "model_module_version": "1.5.0",
      "model_name": "HBoxModel",
      "state": {
       "_dom_classes": [],
       "_model_module": "@jupyter-widgets/controls",
       "_model_module_version": "1.5.0",
       "_model_name": "HBoxModel",
       "_view_count": null,
       "_view_module": "@jupyter-widgets/controls",
       "_view_module_version": "1.5.0",
       "_view_name": "HBoxView",
       "box_style": "",
       "children": [
        "IPY_MODEL_0ac0e30631fc417da6aa7cce4c4888c1",
        "IPY_MODEL_4acf2ccf4e9e4caba5b69d973ed68244",
        "IPY_MODEL_aefd9e0e6cd747eda6074113259af673"
       ],
       "layout": "IPY_MODEL_e45c548348ec4b84ad50b3c3558f3f44"
      }
     },
     "a763682b4528439dbb04321daf5b2e59": {
      "model_module": "@jupyter-widgets/controls",
      "model_module_version": "1.5.0",
      "model_name": "FloatProgressModel",
      "state": {
       "_dom_classes": [],
       "_model_module": "@jupyter-widgets/controls",
       "_model_module_version": "1.5.0",
       "_model_name": "FloatProgressModel",
       "_view_count": null,
       "_view_module": "@jupyter-widgets/controls",
       "_view_module_version": "1.5.0",
       "_view_name": "ProgressView",
       "bar_style": "success",
       "description": "",
       "description_tooltip": null,
       "layout": "IPY_MODEL_79e25e4aaa1f4d099b66b2f5458f47ec",
       "max": 15,
       "min": 0,
       "orientation": "horizontal",
       "style": "IPY_MODEL_68edaed5512949e99fdb44e560a13bab",
       "value": 15
      }
     },
     "add417d40a3045dc97475403985070eb": {
      "model_module": "@jupyter-widgets/base",
      "model_module_version": "1.2.0",
      "model_name": "LayoutModel",
      "state": {
       "_model_module": "@jupyter-widgets/base",
       "_model_module_version": "1.2.0",
       "_model_name": "LayoutModel",
       "_view_count": null,
       "_view_module": "@jupyter-widgets/base",
       "_view_module_version": "1.2.0",
       "_view_name": "LayoutView",
       "align_content": null,
       "align_items": null,
       "align_self": null,
       "border": null,
       "bottom": null,
       "display": null,
       "flex": null,
       "flex_flow": null,
       "grid_area": null,
       "grid_auto_columns": null,
       "grid_auto_flow": null,
       "grid_auto_rows": null,
       "grid_column": null,
       "grid_gap": null,
       "grid_row": null,
       "grid_template_areas": null,
       "grid_template_columns": null,
       "grid_template_rows": null,
       "height": null,
       "justify_content": null,
       "justify_items": null,
       "left": null,
       "margin": null,
       "max_height": null,
       "max_width": null,
       "min_height": null,
       "min_width": null,
       "object_fit": null,
       "object_position": null,
       "order": null,
       "overflow": null,
       "overflow_x": null,
       "overflow_y": null,
       "padding": null,
       "right": null,
       "top": null,
       "visibility": null,
       "width": null
      }
     },
     "aefd9e0e6cd747eda6074113259af673": {
      "model_module": "@jupyter-widgets/controls",
      "model_module_version": "1.5.0",
      "model_name": "HTMLModel",
      "state": {
       "_dom_classes": [],
       "_model_module": "@jupyter-widgets/controls",
       "_model_module_version": "1.5.0",
       "_model_name": "HTMLModel",
       "_view_count": null,
       "_view_module": "@jupyter-widgets/controls",
       "_view_module_version": "1.5.0",
       "_view_name": "HTMLView",
       "description": "",
       "description_tooltip": null,
       "layout": "IPY_MODEL_add417d40a3045dc97475403985070eb",
       "placeholder": "​",
       "style": "IPY_MODEL_9c7fd47046214a1ea37bdf1657656391",
       "value": " 15/15 [00:00&lt;00:00, 477.11it/s]"
      }
     },
     "c09471a171f04555a94aa32618dcfbe5": {
      "model_module": "@jupyter-widgets/controls",
      "model_module_version": "1.5.0",
      "model_name": "DescriptionStyleModel",
      "state": {
       "_model_module": "@jupyter-widgets/controls",
       "_model_module_version": "1.5.0",
       "_model_name": "DescriptionStyleModel",
       "_view_count": null,
       "_view_module": "@jupyter-widgets/base",
       "_view_module_version": "1.2.0",
       "_view_name": "StyleView",
       "description_width": ""
      }
     },
     "c0fa45502e344599a2dfc65eded1ccf3": {
      "model_module": "@jupyter-widgets/controls",
      "model_module_version": "1.5.0",
      "model_name": "HTMLModel",
      "state": {
       "_dom_classes": [],
       "_model_module": "@jupyter-widgets/controls",
       "_model_module_version": "1.5.0",
       "_model_name": "HTMLModel",
       "_view_count": null,
       "_view_module": "@jupyter-widgets/controls",
       "_view_module_version": "1.5.0",
       "_view_name": "HTMLView",
       "description": "",
       "description_tooltip": null,
       "layout": "IPY_MODEL_69db91f838604948bfbe2762b6285863",
       "placeholder": "​",
       "style": "IPY_MODEL_dc83abc7bc1e4ddfb983c6d4cf64dcc8",
       "value": "Building task &#x27;fit_ada_boost-5&#x27;: 100%"
      }
     },
     "dc83abc7bc1e4ddfb983c6d4cf64dcc8": {
      "model_module": "@jupyter-widgets/controls",
      "model_module_version": "1.5.0",
      "model_name": "DescriptionStyleModel",
      "state": {
       "_model_module": "@jupyter-widgets/controls",
       "_model_module_version": "1.5.0",
       "_model_name": "DescriptionStyleModel",
       "_view_count": null,
       "_view_module": "@jupyter-widgets/base",
       "_view_module_version": "1.2.0",
       "_view_name": "StyleView",
       "description_width": ""
      }
     },
     "e45c548348ec4b84ad50b3c3558f3f44": {
      "model_module": "@jupyter-widgets/base",
      "model_module_version": "1.2.0",
      "model_name": "LayoutModel",
      "state": {
       "_model_module": "@jupyter-widgets/base",
       "_model_module_version": "1.2.0",
       "_model_name": "LayoutModel",
       "_view_count": null,
       "_view_module": "@jupyter-widgets/base",
       "_view_module_version": "1.2.0",
       "_view_name": "LayoutView",
       "align_content": null,
       "align_items": null,
       "align_self": null,
       "border": null,
       "bottom": null,
       "display": null,
       "flex": null,
       "flex_flow": null,
       "grid_area": null,
       "grid_auto_columns": null,
       "grid_auto_flow": null,
       "grid_auto_rows": null,
       "grid_column": null,
       "grid_gap": null,
       "grid_row": null,
       "grid_template_areas": null,
       "grid_template_columns": null,
       "grid_template_rows": null,
       "height": null,
       "justify_content": null,
       "justify_items": null,
       "left": null,
       "margin": null,
       "max_height": null,
       "max_width": null,
       "min_height": null,
       "min_width": null,
       "object_fit": null,
       "object_position": null,
       "order": null,
       "overflow": null,
       "overflow_x": null,
       "overflow_y": null,
       "padding": null,
       "right": null,
       "top": null,
       "visibility": null,
       "width": null
      }
     }
    },
    "version_major": 2,
    "version_minor": 0
   }
  }
 },
 "nbformat": 4,
 "nbformat_minor": 5
}
