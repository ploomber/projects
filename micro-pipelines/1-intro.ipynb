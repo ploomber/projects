{
 "cells": [
  {
   "cell_type": "markdown",
   "id": "504780b6-678e-4044-ac87-4721682ebebb",
   "metadata": {},
   "source": [
    "## Writing Micro-pipelines\n",
    "\n",
    "The micro-pipelines API is the simplest way to organize your data analysis code, let'se how!"
   ]
  },
  {
   "cell_type": "markdown",
   "id": "ee2cb469-2755-4f8a-bda4-ba0d8ce68bce",
   "metadata": {},
   "source": [
    "## Declare pipeline"
   ]
  },
  {
   "cell_type": "code",
   "execution_count": 1,
   "id": "f831056e-f231-4342-bc46-f0f01b17a475",
   "metadata": {},
   "outputs": [],
   "source": [
    "from sklearn.datasets import load_iris\n",
    "from sklearn.tree import DecisionTreeClassifier\n",
    "from sklearn.model_selection import train_test_split\n",
    "from sklearn.metrics import accuracy_score\n",
    "\n",
    "from ploomber.micro import dag_from_functions"
   ]
  },
  {
   "cell_type": "code",
   "execution_count": 2,
   "id": "07d6899b-4a7c-416a-a0ce-a9047063c307",
   "metadata": {},
   "outputs": [],
   "source": [
    "# each task is a function\n",
    "def load():\n",
    "    data = load_iris(as_frame=True)\n",
    "    return data['frame']\n",
    "\n",
    "# to create a dependency, add another task as argument\n",
    "def clean(load):\n",
    "    load[\"sepal-area\"] = load[\"sepal length (cm)\"] * load[\"sepal width (cm)\"]\n",
    "    return load\n",
    "\n",
    "def fit(clean):\n",
    "    X = clean.drop(\"target\", axis=\"columns\")\n",
    "    y = clean.target\n",
    "\n",
    "    X_train, X_test, y_train, y_test = train_test_split(\n",
    "                X, y, test_size=0.33, random_state=42)\n",
    "\n",
    "    clf = DecisionTreeClassifier()\n",
    "    clf.fit(X_train, y_train)\n",
    "\n",
    "    y_pred = clf.predict(X_test)\n",
    "    acc = accuracy_score(y_test, y_pred)\n",
    "    return acc"
   ]
  },
  {
   "cell_type": "code",
   "execution_count": 3,
   "id": "1abd7157-058a-45c9-a23a-b44d5d9f5a15",
   "metadata": {},
   "outputs": [],
   "source": [
    "# create the pipeline\n",
    "dag = dag_from_functions([load, clean, fit], output=\"cache/1-intro\")"
   ]
  },
  {
   "cell_type": "markdown",
   "id": "293a908a-0815-4440-b048-f68999d8bae4",
   "metadata": {},
   "source": [
    "## Plot and execute"
   ]
  },
  {
   "cell_type": "code",
   "execution_count": 4,
   "id": "18f81362-4ed3-435c-bd47-6600b5eab87a",
   "metadata": {},
   "outputs": [
    {
     "data": {
      "application/vnd.jupyter.widget-view+json": {
       "model_id": "f2df46397e22463caaf1d48b4d0e9b35",
       "version_major": 2,
       "version_minor": 0
      },
      "text/plain": [
       "  0%|          | 0/3 [00:00<?, ?it/s]"
      ]
     },
     "metadata": {},
     "output_type": "display_data"
    },
    {
     "data": {
      "image/png": "[encoded data removed]",
      "text/plain": [
       "<IPython.core.display.Image object>"
      ]
     },
     "execution_count": 4,
     "metadata": {},
     "output_type": "execute_result"
    }
   ],
   "source": [
    "dag.plot()"
   ]
  },
  {
   "cell_type": "code",
   "execution_count": 5,
   "id": "fa87346b-0ebb-479e-a88d-36e2420ada74",
   "metadata": {},
   "outputs": [
    {
     "data": {
      "application/vnd.jupyter.widget-view+json": {
       "model_id": "157c775296174e14b9e62d11c064047a",
       "version_major": 2,
       "version_minor": 0
      },
      "text/plain": [
       "  0%|          | 0/3 [00:00<?, ?it/s]"
      ]
     },
     "metadata": {},
     "output_type": "display_data"
    },
    {
     "data": {
      "text/html": [
       "<table>\n",
       "<thead>\n",
       "<tr><th>name  </th><th>Ran?  </th><th style=\"text-align: right;\">  Elapsed (s)</th><th style=\"text-align: right;\">  Percentage</th></tr>\n",
       "</thead>\n",
       "<tbody>\n",
       "<tr><td>load  </td><td>True  </td><td style=\"text-align: right;\">     0.012803</td><td style=\"text-align: right;\">     52.6374</td></tr>\n",
       "<tr><td>clean </td><td>True  </td><td style=\"text-align: right;\">     0.002655</td><td style=\"text-align: right;\">     10.9156</td></tr>\n",
       "<tr><td>fit   </td><td>True  </td><td style=\"text-align: right;\">     0.008865</td><td style=\"text-align: right;\">     36.447 </td></tr>\n",
       "</tbody>\n",
       "</table>"
      ],
      "text/plain": [
       "name    Ran?      Elapsed (s)    Percentage\n",
       "------  ------  -------------  ------------\n",
       "load    True         0.012803       52.6374\n",
       "clean   True         0.002655       10.9156\n",
       "fit     True         0.008865       36.447"
      ]
     },
     "execution_count": 5,
     "metadata": {},
     "output_type": "execute_result"
    }
   ],
   "source": [
    "# execute it\n",
    "dag.build()"
   ]
  },
  {
   "cell_type": "markdown",
   "id": "7f23231b-6c42-406b-a7df-f411e0e98d67",
   "metadata": {},
   "source": [
    "## Get outputs"
   ]
  },
  {
   "cell_type": "code",
   "execution_count": 6,
   "id": "d7cd8df2-29f3-4162-bbc7-ccfa7ef9bb12",
   "metadata": {},
   "outputs": [
    {
     "data": {
      "text/html": [
       "<div>\n",
       "<style scoped>\n",
       "    .dataframe tbody tr th:only-of-type {\n",
       "        vertical-align: middle;\n",
       "    }\n",
       "\n",
       "    .dataframe tbody tr th {\n",
       "        vertical-align: top;\n",
       "    }\n",
       "\n",
       "    .dataframe thead th {\n",
       "        text-align: right;\n",
       "    }\n",
       "</style>\n",
       "<table border=\"1\" class=\"dataframe\">\n",
       "  <thead>\n",
       "    <tr style=\"text-align: right;\">\n",
       "      <th></th>\n",
       "      <th>sepal length (cm)</th>\n",
       "      <th>sepal width (cm)</th>\n",
       "      <th>petal length (cm)</th>\n",
       "      <th>petal width (cm)</th>\n",
       "      <th>target</th>\n",
       "    </tr>\n",
       "  </thead>\n",
       "  <tbody>\n",
       "    <tr>\n",
       "      <th>0</th>\n",
       "      <td>5.1</td>\n",
       "      <td>3.5</td>\n",
       "      <td>1.4</td>\n",
       "      <td>0.2</td>\n",
       "      <td>0</td>\n",
       "    </tr>\n",
       "    <tr>\n",
       "      <th>1</th>\n",
       "      <td>4.9</td>\n",
       "      <td>3.0</td>\n",
       "      <td>1.4</td>\n",
       "      <td>0.2</td>\n",
       "      <td>0</td>\n",
       "    </tr>\n",
       "    <tr>\n",
       "      <th>2</th>\n",
       "      <td>4.7</td>\n",
       "      <td>3.2</td>\n",
       "      <td>1.3</td>\n",
       "      <td>0.2</td>\n",
       "      <td>0</td>\n",
       "    </tr>\n",
       "    <tr>\n",
       "      <th>3</th>\n",
       "      <td>4.6</td>\n",
       "      <td>3.1</td>\n",
       "      <td>1.5</td>\n",
       "      <td>0.2</td>\n",
       "      <td>0</td>\n",
       "    </tr>\n",
       "    <tr>\n",
       "      <th>4</th>\n",
       "      <td>5.0</td>\n",
       "      <td>3.6</td>\n",
       "      <td>1.4</td>\n",
       "      <td>0.2</td>\n",
       "      <td>0</td>\n",
       "    </tr>\n",
       "    <tr>\n",
       "      <th>...</th>\n",
       "      <td>...</td>\n",
       "      <td>...</td>\n",
       "      <td>...</td>\n",
       "      <td>...</td>\n",
       "      <td>...</td>\n",
       "    </tr>\n",
       "    <tr>\n",
       "      <th>145</th>\n",
       "      <td>6.7</td>\n",
       "      <td>3.0</td>\n",
       "      <td>5.2</td>\n",
       "      <td>2.3</td>\n",
       "      <td>2</td>\n",
       "    </tr>\n",
       "    <tr>\n",
       "      <th>146</th>\n",
       "      <td>6.3</td>\n",
       "      <td>2.5</td>\n",
       "      <td>5.0</td>\n",
       "      <td>1.9</td>\n",
       "      <td>2</td>\n",
       "    </tr>\n",
       "    <tr>\n",
       "      <th>147</th>\n",
       "      <td>6.5</td>\n",
       "      <td>3.0</td>\n",
       "      <td>5.2</td>\n",
       "      <td>2.0</td>\n",
       "      <td>2</td>\n",
       "    </tr>\n",
       "    <tr>\n",
       "      <th>148</th>\n",
       "      <td>6.2</td>\n",
       "      <td>3.4</td>\n",
       "      <td>5.4</td>\n",
       "      <td>2.3</td>\n",
       "      <td>2</td>\n",
       "    </tr>\n",
       "    <tr>\n",
       "      <th>149</th>\n",
       "      <td>5.9</td>\n",
       "      <td>3.0</td>\n",
       "      <td>5.1</td>\n",
       "      <td>1.8</td>\n",
       "      <td>2</td>\n",
       "    </tr>\n",
       "  </tbody>\n",
       "</table>\n",
       "<p>150 rows × 5 columns</p>\n",
       "</div>"
      ],
      "text/plain": [
       "     sepal length (cm)  sepal width (cm)  petal length (cm)  petal width (cm)  \\\n",
       "0                  5.1               3.5                1.4               0.2   \n",
       "1                  4.9               3.0                1.4               0.2   \n",
       "2                  4.7               3.2                1.3               0.2   \n",
       "3                  4.6               3.1                1.5               0.2   \n",
       "4                  5.0               3.6                1.4               0.2   \n",
       "..                 ...               ...                ...               ...   \n",
       "145                6.7               3.0                5.2               2.3   \n",
       "146                6.3               2.5                5.0               1.9   \n",
       "147                6.5               3.0                5.2               2.0   \n",
       "148                6.2               3.4                5.4               2.3   \n",
       "149                5.9               3.0                5.1               1.8   \n",
       "\n",
       "     target  \n",
       "0         0  \n",
       "1         0  \n",
       "2         0  \n",
       "3         0  \n",
       "4         0  \n",
       "..      ...  \n",
       "145       2  \n",
       "146       2  \n",
       "147       2  \n",
       "148       2  \n",
       "149       2  \n",
       "\n",
       "[150 rows x 5 columns]"
      ]
     },
     "execution_count": 6,
     "metadata": {},
     "output_type": "execute_result"
    }
   ],
   "source": [
    "# get outputs\n",
    "dag['load'].load()"
   ]
  },
  {
   "cell_type": "markdown",
   "id": "3c2cb52f-3eec-4131-8843-bb4233f6848b",
   "metadata": {},
   "source": [
    "## Rapid iterations\n",
    "\n",
    "Let's say you modify one of the tasks:\n",
    "\n",
    "*Note: in a real use-case, you'd edit the original cell.*"
   ]
  },
  {
   "cell_type": "code",
   "execution_count": 7,
   "id": "3b3602c2-e797-4537-a32e-799d22533a3a",
   "metadata": {},
   "outputs": [],
   "source": [
    "def clean(load):\n",
    "    load[\"sepal-area\"] = load[\"sepal length (cm)\"] * load[\"sepal width (cm)\"]\n",
    "    # this is new!\n",
    "    load[\"petal-area\"] = load[\"petal length (cm)\"] * load[\"petal width (cm)\"]\n",
    "    return load"
   ]
  },
  {
   "cell_type": "code",
   "execution_count": 8,
   "id": "3507fc24-69f8-4bad-82d4-7636d2c0d57e",
   "metadata": {},
   "outputs": [
    {
     "data": {
      "application/vnd.jupyter.widget-view+json": {
       "model_id": "0be5e498678b4a53a5733e91767c394f",
       "version_major": 2,
       "version_minor": 0
      },
      "text/plain": [
       "  0%|          | 0/3 [00:00<?, ?it/s]"
      ]
     },
     "metadata": {},
     "output_type": "display_data"
    },
    {
     "data": {
      "image/png": "[encoded data removed]",
      "text/plain": [
       "<IPython.core.display.Image object>"
      ]
     },
     "execution_count": 8,
     "metadata": {},
     "output_type": "execute_result"
    }
   ],
   "source": [
    "dag.plot()"
   ]
  },
  {
   "cell_type": "markdown",
   "id": "57c805fb-1693-46ae-8850-bad42a6cef3f",
   "metadata": {},
   "source": [
    "Note that Ploomber detected you alreadt have the output for `load`, so it'll skip the task!"
   ]
  },
  {
   "cell_type": "code",
   "execution_count": 9,
   "id": "23a054da-515f-40aa-96dd-6d3fe1a5015b",
   "metadata": {},
   "outputs": [
    {
     "data": {
      "application/vnd.jupyter.widget-view+json": {
       "model_id": "02a1d933c2e845009a0c87bbc0787faf",
       "version_major": 2,
       "version_minor": 0
      },
      "text/plain": [
       "  0%|          | 0/2 [00:00<?, ?it/s]"
      ]
     },
     "metadata": {},
     "output_type": "display_data"
    },
    {
     "data": {
      "text/html": [
       "<table>\n",
       "<thead>\n",
       "<tr><th>name  </th><th>Ran?  </th><th style=\"text-align: right;\">  Elapsed (s)</th><th style=\"text-align: right;\">  Percentage</th></tr>\n",
       "</thead>\n",
       "<tbody>\n",
       "<tr><td>clean </td><td>True  </td><td style=\"text-align: right;\">     0.004356</td><td style=\"text-align: right;\">     35.5795</td></tr>\n",
       "<tr><td>fit   </td><td>True  </td><td style=\"text-align: right;\">     0.007887</td><td style=\"text-align: right;\">     64.4205</td></tr>\n",
       "<tr><td>load  </td><td>False </td><td style=\"text-align: right;\">     0       </td><td style=\"text-align: right;\">      0     </td></tr>\n",
       "</tbody>\n",
       "</table>"
      ],
      "text/plain": [
       "name    Ran?      Elapsed (s)    Percentage\n",
       "------  ------  -------------  ------------\n",
       "clean   True         0.004356       35.5795\n",
       "fit     True         0.007887       64.4205\n",
       "load    False        0               0"
      ]
     },
     "execution_count": 9,
     "metadata": {},
     "output_type": "execute_result"
    }
   ],
   "source": [
    "dag.build()"
   ]
  },
  {
   "cell_type": "markdown",
   "id": "371bad01-6766-4fbf-bb3b-765e6b06f835",
   "metadata": {},
   "source": [
    "Now our pipeline is up-to-date!"
   ]
  },
  {
   "cell_type": "code",
   "execution_count": 10,
   "id": "9ee82049-9342-4c8a-b9b4-82cc8806dd7a",
   "metadata": {},
   "outputs": [
    {
     "data": {
      "application/vnd.jupyter.widget-view+json": {
       "model_id": "b5052381b8224d09a681d8621890cfe6",
       "version_major": 2,
       "version_minor": 0
      },
      "text/plain": [
       "  0%|          | 0/3 [00:00<?, ?it/s]"
      ]
     },
     "metadata": {},
     "output_type": "display_data"
    },
    {
     "data": {
      "image/png": "[encoded data removed]",
      "text/plain": [
       "<IPython.core.display.Image object>"
      ]
     },
     "execution_count": 10,
     "metadata": {},
     "output_type": "execute_result"
    }
   ],
   "source": [
    "dag.plot()"
   ]
  }
 ],
 "metadata": {
  "kernelspec": {
   "display_name": "Python 3 (ipykernel)",
   "language": "python",
   "name": "python3"
  },
  "language_info": {
   "codemirror_mode": {
    "name": "ipython",
    "version": 3
   },
   "file_extension": ".py",
   "mimetype": "text/x-python",
   "name": "python",
   "nbconvert_exporter": "python",
   "pygments_lexer": "ipython3",
   "version": "3.10.1"
  }
 },
 "nbformat": 4,
 "nbformat_minor": 5
}
